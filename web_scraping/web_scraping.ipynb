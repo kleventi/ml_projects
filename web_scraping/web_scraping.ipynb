{
 "cells": [
  {
   "cell_type": "markdown",
   "metadata": {},
   "source": [
    "#### In this project we will get data from a table in a web page, manipulate it, save it to a dataframe and finally to a csv file for future use.\n",
    "\n",
    "##### The data is about \"What Women Earn by Race/Ethnicity in the USA\" and are taken from the below link: \n",
    "https://statusofwomendata.org/explore-the-data/employment-and-earnings/additional-state-data/what-women-earn-by-race-ethnicity/"
   ]
  },
  {
   "cell_type": "code",
   "execution_count": 1,
   "metadata": {},
   "outputs": [],
   "source": [
    "# Import modules\n",
    "\n",
    "import pandas as pd\n",
    "import numpy as np\n",
    "\n",
    "import requests\n",
    "from bs4 import BeautifulSoup"
   ]
  },
  {
   "cell_type": "code",
   "execution_count": 2,
   "metadata": {},
   "outputs": [],
   "source": [
    "# Download the web page containing the data.\n",
    "# Must define a User-Agent, otherwise the web page rejects the request (error 403)\n",
    "\n",
    "url = \"https://statusofwomendata.org/explore-the-data/employment-and-earnings/additional-state-data/what-women-earn-by-race-ethnicity/\"\n",
    "headers = {'User-Agent': 'Mozilla/5.0 (Windows NT 10.0; Win64; x64; rv:68.0) Gecko/20100101 Firefox/68.0'}\n",
    "page = requests.get(url, headers=headers)\n",
    "#print(page.content.decode())"
   ]
  },
  {
   "cell_type": "code",
   "execution_count": 3,
   "metadata": {},
   "outputs": [],
   "source": [
    "# Create a BeautifulSoup class to parse the page.\n",
    "\n",
    "soup = BeautifulSoup(page.content, 'html.parser')"
   ]
  },
  {
   "cell_type": "code",
   "execution_count": 4,
   "metadata": {},
   "outputs": [],
   "source": [
    "# After using the code inspector from our browser, we located the desired data inside the area of the article \n",
    "# with id post-748. We will find it and assign to table_contents (article id=\"post-748\" class=\"post\")\n",
    "\n",
    "table_contents = soup.find(id = \"post-748\")\n",
    "# table_contents"
   ]
  },
  {
   "cell_type": "code",
   "execution_count": 5,
   "metadata": {},
   "outputs": [],
   "source": [
    "# Inside table_contents, we find each individual table row. table_rows is a resultset with all table rows\n",
    "\n",
    "table_rows = table_contents.find_all('tr')"
   ]
  },
  {
   "cell_type": "code",
   "execution_count": 6,
   "metadata": {},
   "outputs": [],
   "source": [
    "# We then save the beautifulsoup resulset to a pandas dataframe pd_table\n",
    "\n",
    "l = []\n",
    "for tr in table_rows:\n",
    "    td = tr.find_all('td')\n",
    "    row = [tr.text for tr in td]\n",
    "    l.append(row)\n",
    "\n",
    "pd_table = pd.DataFrame(l, columns=[\"State\", \"White\", \"W_Ratio\", \"Hispanic\", \"H_Ratio\", \"Black\", \"B_Ratio\", \"Asian/Pacific islander\", \"A_Ratio\", \"Native American\", \"N_Ratio\", \"Other Race or Two or More Races\", \"O_Ratio\", \"All women\", \"Ratio to all men\"])    "
   ]
  },
  {
   "cell_type": "code",
   "execution_count": 7,
   "metadata": {},
   "outputs": [],
   "source": [
    "# Drop the unnecessary rows and columns\n",
    "\n",
    "pd_table = pd_table.drop([\"W_Ratio\", \"H_Ratio\", \"B_Ratio\", \"A_Ratio\", \"N_Ratio\", \"O_Ratio\", \"Ratio to all men\"],axis=1)\n",
    "pd_table = pd_table.drop([0, 1, 2, 55, 56])\n",
    "pd_table = pd_table.reset_index().drop('index',axis=1)"
   ]
  },
  {
   "cell_type": "code",
   "execution_count": 8,
   "metadata": {},
   "outputs": [],
   "source": [
    "# Clear unwanted characters\n",
    "pd_table = pd_table.applymap(lambda x: str(x).strip('\\n'))\n",
    "pd_table = pd_table.applymap(lambda x: str(x).lstrip('$'))\n",
    "\n",
    "# Replace \",\" with \".\" in wages (in order to convert from strings to floats later)\n",
    "pd_table = pd_table.apply(lambda x: x.str.replace(',','.'))"
   ]
  },
  {
   "cell_type": "code",
   "execution_count": 9,
   "metadata": {},
   "outputs": [
    {
     "data": {
      "text/plain": [
       "False"
      ]
     },
     "execution_count": 9,
     "metadata": {},
     "output_type": "execute_result"
    }
   ],
   "source": [
    "# Check for empty cells\n",
    "pd_table.isnull().values.any()"
   ]
  },
  {
   "cell_type": "code",
   "execution_count": 10,
   "metadata": {},
   "outputs": [],
   "source": [
    "# Convert wage columns from strings to floats for future manipulation\n",
    "\n",
    "cols = pd_table.columns.drop('State')\n",
    "pd_table[cols] = pd_table[cols].apply(pd.to_numeric, errors='coerce')"
   ]
  },
  {
   "cell_type": "code",
   "execution_count": 11,
   "metadata": {},
   "outputs": [],
   "source": [
    "# Fill the NaN values with the mean value of each column \n",
    "# (we could fill them with 0 or delete the rows containing NaN values or replace them with different value (such as the median))\n",
    "\n",
    "pd_table.fillna(pd_table.mean(), inplace=True)"
   ]
  },
  {
   "cell_type": "code",
   "execution_count": 12,
   "metadata": {},
   "outputs": [],
   "source": [
    "# Add a column with the mean value of each row\n",
    "\n",
    "pd_table['Mean'] = pd_table.mean(axis=1)"
   ]
  },
  {
   "cell_type": "code",
   "execution_count": 13,
   "metadata": {},
   "outputs": [],
   "source": [
    "# For the shake of this project we will assume that in reality, all states that have a mean wage below the total mean wage \n",
    "# belong to cluster 1 whereas the rest states belong to cluster 2 \n",
    "# We made this assumption in order to help us evaluate our clustering models at the end, by comparing predictions with true cluster values\n",
    "\n",
    "pd_table['Cluster'] = np.where(pd_table['Mean'] <= pd_table['Mean'].mean() , 1, 2)"
   ]
  },
  {
   "cell_type": "code",
   "execution_count": 14,
   "metadata": {},
   "outputs": [
    {
     "data": {
      "text/html": [
       "<div>\n",
       "<style scoped>\n",
       "    .dataframe tbody tr th:only-of-type {\n",
       "        vertical-align: middle;\n",
       "    }\n",
       "\n",
       "    .dataframe tbody tr th {\n",
       "        vertical-align: top;\n",
       "    }\n",
       "\n",
       "    .dataframe thead th {\n",
       "        text-align: right;\n",
       "    }\n",
       "</style>\n",
       "<table border=\"1\" class=\"dataframe\">\n",
       "  <thead>\n",
       "    <tr style=\"text-align: right;\">\n",
       "      <th></th>\n",
       "      <th>State</th>\n",
       "      <th>White</th>\n",
       "      <th>Hispanic</th>\n",
       "      <th>Black</th>\n",
       "      <th>Asian/Pacific islander</th>\n",
       "      <th>Native American</th>\n",
       "      <th>Other Race or Two or More Races</th>\n",
       "      <th>All women</th>\n",
       "      <th>Mean</th>\n",
       "      <th>Cluster</th>\n",
       "    </tr>\n",
       "  </thead>\n",
       "  <tbody>\n",
       "    <tr>\n",
       "      <th>0</th>\n",
       "      <td>Alabama</td>\n",
       "      <td>35.212</td>\n",
       "      <td>22.627000</td>\n",
       "      <td>28.410000</td>\n",
       "      <td>37.283</td>\n",
       "      <td>32.327714</td>\n",
       "      <td>36.248</td>\n",
       "      <td>33.0</td>\n",
       "      <td>32.158245</td>\n",
       "      <td>1</td>\n",
       "    </tr>\n",
       "    <tr>\n",
       "      <th>1</th>\n",
       "      <td>Alaska</td>\n",
       "      <td>46.000</td>\n",
       "      <td>27.807568</td>\n",
       "      <td>33.618475</td>\n",
       "      <td>30.000</td>\n",
       "      <td>37.697000</td>\n",
       "      <td>41.426</td>\n",
       "      <td>43.0</td>\n",
       "      <td>37.078435</td>\n",
       "      <td>2</td>\n",
       "    </tr>\n",
       "    <tr>\n",
       "      <th>2</th>\n",
       "      <td>Arizona</td>\n",
       "      <td>40.586</td>\n",
       "      <td>28.000000</td>\n",
       "      <td>35.513000</td>\n",
       "      <td>40.586</td>\n",
       "      <td>31.000000</td>\n",
       "      <td>37.283</td>\n",
       "      <td>36.0</td>\n",
       "      <td>35.566857</td>\n",
       "      <td>2</td>\n",
       "    </tr>\n",
       "    <tr>\n",
       "      <th>3</th>\n",
       "      <td>Arkansas</td>\n",
       "      <td>32.000</td>\n",
       "      <td>22.322000</td>\n",
       "      <td>28.895000</td>\n",
       "      <td>30.000</td>\n",
       "      <td>32.327714</td>\n",
       "      <td>27.700</td>\n",
       "      <td>30.0</td>\n",
       "      <td>29.034959</td>\n",
       "      <td>1</td>\n",
       "    </tr>\n",
       "    <tr>\n",
       "      <th>4</th>\n",
       "      <td>California</td>\n",
       "      <td>51.782</td>\n",
       "      <td>30.000000</td>\n",
       "      <td>43.630000</td>\n",
       "      <td>49.718</td>\n",
       "      <td>39.000000</td>\n",
       "      <td>46.572</td>\n",
       "      <td>42.0</td>\n",
       "      <td>43.243143</td>\n",
       "      <td>2</td>\n",
       "    </tr>\n",
       "  </tbody>\n",
       "</table>\n",
       "</div>"
      ],
      "text/plain": [
       "        State   White   Hispanic      Black  Asian/Pacific islander  \\\n",
       "0     Alabama  35.212  22.627000  28.410000                  37.283   \n",
       "1      Alaska  46.000  27.807568  33.618475                  30.000   \n",
       "2     Arizona  40.586  28.000000  35.513000                  40.586   \n",
       "3    Arkansas  32.000  22.322000  28.895000                  30.000   \n",
       "4  California  51.782  30.000000  43.630000                  49.718   \n",
       "\n",
       "   Native American  Other Race or Two or More Races  All women       Mean  \\\n",
       "0        32.327714                           36.248       33.0  32.158245   \n",
       "1        37.697000                           41.426       43.0  37.078435   \n",
       "2        31.000000                           37.283       36.0  35.566857   \n",
       "3        32.327714                           27.700       30.0  29.034959   \n",
       "4        39.000000                           46.572       42.0  43.243143   \n",
       "\n",
       "   Cluster  \n",
       "0        1  \n",
       "1        2  \n",
       "2        2  \n",
       "3        1  \n",
       "4        2  "
      ]
     },
     "execution_count": 14,
     "metadata": {},
     "output_type": "execute_result"
    }
   ],
   "source": [
    "pd_table.head()"
   ]
  },
  {
   "cell_type": "code",
   "execution_count": 17,
   "metadata": {},
   "outputs": [],
   "source": [
    "# Save dataframe to file for future use\n",
    "pd_table.to_csv(r'C:\\YourPath\\data.csv')"
   ]
  },
  {
   "cell_type": "code",
   "execution_count": null,
   "metadata": {},
   "outputs": [],
   "source": []
  }
 ],
 "metadata": {
  "kernelspec": {
   "display_name": "Python 3",
   "language": "python",
   "name": "python3"
  },
  "language_info": {
   "codemirror_mode": {
    "name": "ipython",
    "version": 3
   },
   "file_extension": ".py",
   "mimetype": "text/x-python",
   "name": "python",
   "nbconvert_exporter": "python",
   "pygments_lexer": "ipython3",
   "version": "3.7.3"
  }
 },
 "nbformat": 4,
 "nbformat_minor": 2
}
