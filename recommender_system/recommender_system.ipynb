{
 "cells": [
  {
   "cell_type": "markdown",
   "metadata": {
    "deletable": true,
    "editable": true
   },
   "source": [
    "In this project, as input we have some dummy data of a e-shop log including customer ids (regular customer ids start with 'CC' prefix, product ids (in the form of categoryId_itemId), and the total duration that each customer spent when clicking on an item. We can use the original duration in seconds (from file customer_product_clickDuration.csv) or the scaled duration (in range 0-1) (from file customer_product_clickDuration_scaled.csv). Moreover, we want to inform the customers for marketing reasons about a product via email, but there is no such information in the input data. So, we will create dummy emails for the sake of this project.\n",
    "\n",
    "We will use Surprise library which is a python library for machine learning purposes, to run a series of prediction algorithms (SVD, SVDpp, SlopeOne, NMF, NormalPredictor, KNNBaseline, KNNBasic, KNNWithMeans, KNNWithZScore, BaselineOnly, CoClustering) and choose the one with the lowest RMSE. We will then make a list of regular customers that are recommended to be most probably interested in a specific product (e.g so that they can be informed if the e-shop wishes to promote this specific product).\n",
    "\n",
    "Then we will use Turicreate library in order to run content-based popularity model and collaborative filtering predictive models (cosine similarity and pearson coefficient). For the specific data the cosine similarity model seems to give the best results (lower RMSE and precision-recall closer to 1), so it will be chosen to create a list of the ten most suitable products to recommend to each customer."
   ]
  },
  {
   "cell_type": "markdown",
   "metadata": {
    "deletable": true,
    "editable": true
   },
   "source": [
    "## 1. Import modules"
   ]
  },
  {
   "cell_type": "code",
   "execution_count": 1,
   "metadata": {
    "collapsed": true,
    "deletable": true,
    "editable": true
   },
   "outputs": [],
   "source": [
    "%reload_ext autoreload\n",
    "%autoreload 2\n",
    "\n",
    "import pandas as pd\n",
    "import numpy as np\n",
    "import csv\n",
    "\n",
    "import sys\n",
    "sys.path.append(\"..\")\n",
    "\n",
    "# for fake emails\n",
    "import random\n",
    "import string\n",
    "import progressbar\n",
    "\n",
    "import turicreate as tc\n",
    "from sklearn.model_selection import train_test_split as t_train_test_split\n",
    "import time"
   ]
  },
  {
   "cell_type": "code",
   "execution_count": 2,
   "metadata": {
    "collapsed": true,
    "deletable": true,
    "editable": true
   },
   "outputs": [],
   "source": [
    "from surprise import Reader\n",
    "from surprise import Dataset\n",
    "from surprise import accuracy\n",
    "from surprise import SVD, SVDpp, SlopeOne, NMF, NormalPredictor\n",
    "from surprise import KNNBaseline, KNNBasic, KNNWithMeans, KNNWithZScore\n",
    "from surprise import BaselineOnly, CoClustering\n",
    "from surprise.model_selection import cross_validate\n",
    "from surprise.model_selection import train_test_split as s_train_test_split"
   ]
  },
  {
   "cell_type": "markdown",
   "metadata": {
    "deletable": true,
    "editable": true
   },
   "source": [
    "## 2. Import and manipulate data"
   ]
  },
  {
   "cell_type": "code",
   "execution_count": 3,
   "metadata": {
    "collapsed": true,
    "deletable": true,
    "editable": true
   },
   "outputs": [],
   "source": [
    "orig_data = pd.read_csv('../customer_product_clickDuration.csv', header=None, names=['Customer', 'Product', 'Duration']) \n",
    "scaled_data = pd.read_csv('../customer_product_clickDuration_scaled.csv', header=None, names=['Customer', 'Product', 'Duration'])"
   ]
  },
  {
   "cell_type": "code",
   "execution_count": 4,
   "metadata": {
    "collapsed": false,
    "deletable": true,
    "editable": true
   },
   "outputs": [
    {
     "data": {
      "text/html": [
       "<div>\n",
       "<style scoped>\n",
       "    .dataframe tbody tr th:only-of-type {\n",
       "        vertical-align: middle;\n",
       "    }\n",
       "\n",
       "    .dataframe tbody tr th {\n",
       "        vertical-align: top;\n",
       "    }\n",
       "\n",
       "    .dataframe thead th {\n",
       "        text-align: right;\n",
       "    }\n",
       "</style>\n",
       "<table border=\"1\" class=\"dataframe\">\n",
       "  <thead>\n",
       "    <tr style=\"text-align: right;\">\n",
       "      <th></th>\n",
       "      <th>Customer</th>\n",
       "      <th>Product</th>\n",
       "      <th>Duration</th>\n",
       "    </tr>\n",
       "  </thead>\n",
       "  <tbody>\n",
       "    <tr>\n",
       "      <th>0</th>\n",
       "      <td>CC20190310</td>\n",
       "      <td>0_0</td>\n",
       "      <td>146.0</td>\n",
       "    </tr>\n",
       "    <tr>\n",
       "      <th>1</th>\n",
       "      <td>CC20190310</td>\n",
       "      <td>0_1</td>\n",
       "      <td>8.0</td>\n",
       "    </tr>\n",
       "    <tr>\n",
       "      <th>2</th>\n",
       "      <td>CC20190310</td>\n",
       "      <td>0_10</td>\n",
       "      <td>89.0</td>\n",
       "    </tr>\n",
       "    <tr>\n",
       "      <th>3</th>\n",
       "      <td>CC20190310</td>\n",
       "      <td>0_11</td>\n",
       "      <td>33.0</td>\n",
       "    </tr>\n",
       "    <tr>\n",
       "      <th>4</th>\n",
       "      <td>CC20190310</td>\n",
       "      <td>0_12</td>\n",
       "      <td>38.0</td>\n",
       "    </tr>\n",
       "  </tbody>\n",
       "</table>\n",
       "</div>"
      ],
      "text/plain": [
       "     Customer Product  Duration\n",
       "0  CC20190310     0_0     146.0\n",
       "1  CC20190310     0_1       8.0\n",
       "2  CC20190310    0_10      89.0\n",
       "3  CC20190310    0_11      33.0\n",
       "4  CC20190310    0_12      38.0"
      ]
     },
     "execution_count": 4,
     "metadata": {},
     "output_type": "execute_result"
    }
   ],
   "source": [
    "orig_data.head()"
   ]
  },
  {
   "cell_type": "code",
   "execution_count": 5,
   "metadata": {
    "collapsed": false,
    "deletable": true,
    "editable": true
   },
   "outputs": [
    {
     "data": {
      "text/plain": [
       "(178122, 3)"
      ]
     },
     "execution_count": 5,
     "metadata": {},
     "output_type": "execute_result"
    }
   ],
   "source": [
    "orig_data.shape"
   ]
  },
  {
   "cell_type": "code",
   "execution_count": 6,
   "metadata": {
    "collapsed": false,
    "deletable": true,
    "editable": true
   },
   "outputs": [
    {
     "name": "stdout",
     "output_type": "stream",
     "text": [
      "Creating email addresses...\n",
      "Email creation completed.\n"
     ]
    },
    {
     "name": "stderr",
     "output_type": "stream",
     "text": [
      "  0% |                                                                        |\r",
      "  1% |                                                                        |\r",
      "  2% |#                                                                       |\r",
      "  3% |##                                                                      |\r",
      "  4% |###                                                                     |\r",
      "  5% |###                                                                     |\r",
      "  6% |####                                                                    |\r",
      "  7% |#####                                                                   |\r",
      "  8% |######                                                                  |\r",
      "  9% |######                                                                  |\r",
      " 10% |#######                                                                 |\r",
      " 11% |########                                                                |\r",
      " 12% |#########                                                               |\r",
      " 13% |#########                                                               |\r",
      " 14% |##########                                                              |\r",
      " 15% |###########                                                             |\r",
      " 17% |############                                                            |\r",
      " 18% |#############                                                           |\r",
      " 19% |#############                                                           |\r",
      " 20% |##############                                                          |\r",
      " 21% |###############                                                         |\r",
      " 22% |################                                                        |\r",
      " 23% |################                                                        |\r",
      " 24% |#################                                                       |\r",
      " 25% |##################                                                      |\r",
      " 26% |###################                                                     |\r",
      " 27% |###################                                                     |\r",
      " 28% |####################                                                    |\r",
      " 29% |#####################                                                   |\r",
      " 30% |######################                                                  |\r",
      " 31% |######################                                                  |\r",
      " 32% |#######################                                                 |\r",
      " 34% |########################                                                |\r",
      " 35% |#########################                                               |\r",
      " 36% |##########################                                              |\r",
      " 37% |##########################                                              |\r",
      " 38% |###########################                                             |\r",
      " 39% |############################                                            |\r",
      " 40% |#############################                                           |\r",
      " 41% |#############################                                           |\r",
      " 42% |##############################                                          |\r",
      " 43% |###############################                                         |\r",
      " 44% |################################                                        |\r",
      " 45% |################################                                        |\r",
      " 46% |#################################                                       |\r",
      " 47% |##################################                                      |\r",
      " 48% |###################################                                     |\r",
      " 50% |####################################                                    |\r",
      " 51% |####################################                                    |\r",
      " 52% |#####################################                                   |\r",
      " 53% |######################################                                  |\r",
      " 54% |#######################################                                 |\r",
      " 55% |#######################################                                 |\r",
      " 56% |########################################                                |\r",
      " 57% |#########################################                               |\r",
      " 58% |##########################################                              |\r",
      " 59% |##########################################                              |\r",
      " 60% |###########################################                             |\r",
      " 61% |############################################                            |\r",
      " 62% |#############################################                           |\r",
      " 63% |#############################################                           |\r",
      " 64% |##############################################                          |\r",
      " 65% |###############################################                         |\r",
      " 67% |################################################                        |\r",
      " 68% |#################################################                       |\r",
      " 69% |#################################################                       |\r",
      " 70% |##################################################                      |\r",
      " 71% |###################################################                     |\r",
      " 72% |####################################################                    |\r",
      " 73% |####################################################                    |\r",
      " 74% |#####################################################                   |\r",
      " 75% |######################################################                  |\r",
      " 76% |#######################################################                 |\r",
      " 77% |#######################################################                 |\r",
      " 78% |########################################################                |\r",
      " 79% |#########################################################               |\r",
      " 80% |##########################################################              |\r",
      " 81% |##########################################################              |\r",
      " 82% |###########################################################             |\r",
      " 84% |############################################################            |\r",
      " 85% |#############################################################           |\r",
      " 86% |##############################################################          |\r",
      " 87% |##############################################################          |\r",
      " 88% |###############################################################         |\r",
      " 89% |################################################################        |\r",
      " 90% |#################################################################       |\r",
      " 91% |#################################################################       |\r",
      " 92% |##################################################################      |\r",
      " 93% |###################################################################     |\r",
      " 94% |####################################################################    |\r",
      " 95% |####################################################################    |\r",
      " 96% |#####################################################################   |\r",
      " 97% |######################################################################  |\r",
      " 98% |####################################################################### |\r",
      "100% |########################################################################|\r\n"
     ]
    },
    {
     "data": {
      "text/html": [
       "<div>\n",
       "<style scoped>\n",
       "    .dataframe tbody tr th:only-of-type {\n",
       "        vertical-align: middle;\n",
       "    }\n",
       "\n",
       "    .dataframe tbody tr th {\n",
       "        vertical-align: top;\n",
       "    }\n",
       "\n",
       "    .dataframe thead th {\n",
       "        text-align: right;\n",
       "    }\n",
       "</style>\n",
       "<table border=\"1\" class=\"dataframe\">\n",
       "  <thead>\n",
       "    <tr style=\"text-align: right;\">\n",
       "      <th></th>\n",
       "      <th>Customer</th>\n",
       "      <th>Email</th>\n",
       "    </tr>\n",
       "  </thead>\n",
       "  <tbody>\n",
       "    <tr>\n",
       "      <th>0</th>\n",
       "      <td>CC20190310</td>\n",
       "      <td>ss681qwe7s6e8fv@verizon.gov</td>\n",
       "    </tr>\n",
       "    <tr>\n",
       "      <th>215</th>\n",
       "      <td>CC201903100</td>\n",
       "      <td>rfomv8oui34kgf038ra@gmail.gov</td>\n",
       "    </tr>\n",
       "    <tr>\n",
       "      <th>437</th>\n",
       "      <td>CC201903101</td>\n",
       "      <td>txn5ynoya@gmail.com</td>\n",
       "    </tr>\n",
       "    <tr>\n",
       "      <th>589</th>\n",
       "      <td>CC201903102</td>\n",
       "      <td>vl07knaojbny9mdd@comcast.gov</td>\n",
       "    </tr>\n",
       "    <tr>\n",
       "      <th>808</th>\n",
       "      <td>CC201903103</td>\n",
       "      <td>l4e4086bdksupaly@outlook.org</td>\n",
       "    </tr>\n",
       "  </tbody>\n",
       "</table>\n",
       "</div>"
      ],
      "text/plain": [
       "        Customer                          Email\n",
       "0     CC20190310    ss681qwe7s6e8fv@verizon.gov\n",
       "215  CC201903100  rfomv8oui34kgf038ra@gmail.gov\n",
       "437  CC201903101            txn5ynoya@gmail.com\n",
       "589  CC201903102   vl07knaojbny9mdd@comcast.gov\n",
       "808  CC201903103   l4e4086bdksupaly@outlook.org"
      ]
     },
     "execution_count": 6,
     "metadata": {},
     "output_type": "execute_result"
    }
   ],
   "source": [
    "# Create fake emails\n",
    "'''\n",
    "Creates a random string of digits between 1 and 20 characters alphanumeric and adds it to a fake domain and fake \n",
    "extension\n",
    "Most of these emails are completely bogus (eg - gmail.gov) but will meet formatting requirements\n",
    "'''\n",
    "def makeEmail():\n",
    "    extensions = ['com','net','org','gov']\n",
    "    domains = ['gmail','yahoo','comcast','verizon','charter','hotmail','outlook','frontier']\n",
    "\n",
    "    winext = extensions[random.randint(0,len(extensions)-1)]\n",
    "    windom = domains[random.randint(0,len(domains)-1)]\n",
    "\n",
    "    acclen = random.randint(1,20)\n",
    "\n",
    "    winacc = ''.join(random.choice(string.ascii_lowercase + string.digits) for _ in range(acclen))\n",
    "\n",
    "    finale = winacc + \"@\" + windom + \".\" + winext\n",
    "    return finale\n",
    "\n",
    "# create custEmails dataframe with regular customers' ids and emails (below)\n",
    "custEmails = pd.DataFrame(orig_data[orig_data['Customer'].str.startswith('CC')]['Customer'].drop_duplicates())\n",
    "\n",
    "#save count to var howmany (only regular customers)\n",
    "howmany = len(custEmails)\n",
    "\n",
    "counter = 0      #counter for While loop\n",
    "emailarray = []  #empty array for loop\n",
    "\n",
    "print \"Creating email addresses...\"\n",
    "\n",
    "prebar = progressbar.ProgressBar(maxval=int(howmany))\n",
    "\n",
    "for i in prebar(range(howmany)):\n",
    "    while counter < howmany:\n",
    "        emailarray.append(str(makeEmail()))\n",
    "        counter = counter+1\n",
    "        prebar.update(i)\n",
    "    \n",
    "print \"Email creation completed.\"\n",
    "\n",
    "bar = progressbar.ProgressBar(maxval=int(howmany))\n",
    "custEmails['Email'] = emailarray\n",
    "\n",
    "# save regular customer Ids and Emails in custEmails.csv\n",
    "custEmails.to_csv('../custEmails.csv',index = None, header=False)\n",
    "\n",
    "custEmails.head()"
   ]
  },
  {
   "cell_type": "code",
   "execution_count": 7,
   "metadata": {
    "collapsed": false,
    "deletable": true,
    "editable": true
   },
   "outputs": [
    {
     "data": {
      "text/plain": [
       "(564, 2)"
      ]
     },
     "execution_count": 7,
     "metadata": {},
     "output_type": "execute_result"
    }
   ],
   "source": [
    "custEmails.shape"
   ]
  },
  {
   "cell_type": "markdown",
   "metadata": {
    "deletable": true,
    "editable": true
   },
   "source": [
    "## 3. Recommendation based on highest click duration (highest number of seconds of a product visit)"
   ]
  },
  {
   "cell_type": "code",
   "execution_count": 29,
   "metadata": {
    "collapsed": false,
    "deletable": true,
    "editable": true
   },
   "outputs": [
    {
     "data": {
      "text/html": [
       "<div>\n",
       "<style scoped>\n",
       "    .dataframe tbody tr th:only-of-type {\n",
       "        vertical-align: middle;\n",
       "    }\n",
       "\n",
       "    .dataframe tbody tr th {\n",
       "        vertical-align: top;\n",
       "    }\n",
       "\n",
       "    .dataframe thead th {\n",
       "        text-align: right;\n",
       "    }\n",
       "</style>\n",
       "<table border=\"1\" class=\"dataframe\">\n",
       "  <thead>\n",
       "    <tr style=\"text-align: right;\">\n",
       "      <th></th>\n",
       "      <th>Customer</th>\n",
       "      <th>Product</th>\n",
       "      <th>Duration</th>\n",
       "    </tr>\n",
       "  </thead>\n",
       "  <tbody>\n",
       "    <tr>\n",
       "      <th>110849</th>\n",
       "      <td>CC20190576</td>\n",
       "      <td>0_10</td>\n",
       "      <td>387.0</td>\n",
       "    </tr>\n",
       "    <tr>\n",
       "      <th>49620</th>\n",
       "      <td>CC2019042</td>\n",
       "      <td>0_10</td>\n",
       "      <td>359.0</td>\n",
       "    </tr>\n",
       "    <tr>\n",
       "      <th>17843</th>\n",
       "      <td>CC201903236</td>\n",
       "      <td>0_10</td>\n",
       "      <td>253.0</td>\n",
       "    </tr>\n",
       "    <tr>\n",
       "      <th>27734</th>\n",
       "      <td>CC20190337</td>\n",
       "      <td>0_10</td>\n",
       "      <td>250.0</td>\n",
       "    </tr>\n",
       "    <tr>\n",
       "      <th>79130</th>\n",
       "      <td>CC201905126</td>\n",
       "      <td>0_10</td>\n",
       "      <td>249.0</td>\n",
       "    </tr>\n",
       "    <tr>\n",
       "      <th>79778</th>\n",
       "      <td>CC201905130</td>\n",
       "      <td>0_10</td>\n",
       "      <td>247.0</td>\n",
       "    </tr>\n",
       "    <tr>\n",
       "      <th>95439</th>\n",
       "      <td>CC201905238</td>\n",
       "      <td>0_10</td>\n",
       "      <td>244.0</td>\n",
       "    </tr>\n",
       "    <tr>\n",
       "      <th>69939</th>\n",
       "      <td>CC20190463</td>\n",
       "      <td>0_10</td>\n",
       "      <td>236.0</td>\n",
       "    </tr>\n",
       "    <tr>\n",
       "      <th>73617</th>\n",
       "      <td>CC20190486</td>\n",
       "      <td>0_10</td>\n",
       "      <td>234.0</td>\n",
       "    </tr>\n",
       "    <tr>\n",
       "      <th>102018</th>\n",
       "      <td>CC201905275</td>\n",
       "      <td>0_10</td>\n",
       "      <td>232.0</td>\n",
       "    </tr>\n",
       "  </tbody>\n",
       "</table>\n",
       "</div>"
      ],
      "text/plain": [
       "           Customer Product  Duration\n",
       "110849   CC20190576    0_10     387.0\n",
       "49620     CC2019042    0_10     359.0\n",
       "17843   CC201903236    0_10     253.0\n",
       "27734    CC20190337    0_10     250.0\n",
       "79130   CC201905126    0_10     249.0\n",
       "79778   CC201905130    0_10     247.0\n",
       "95439   CC201905238    0_10     244.0\n",
       "69939    CC20190463    0_10     236.0\n",
       "73617    CC20190486    0_10     234.0\n",
       "102018  CC201905275    0_10     232.0"
      ]
     },
     "execution_count": 29,
     "metadata": {},
     "output_type": "execute_result"
    }
   ],
   "source": [
    "# find the 10 most interested customers in a specific product based on the time they spent on product visit\n",
    "orig_data[orig_data['Product']=='0_10'].sort_values(by='Duration', ascending=False).head(10)"
   ]
  },
  {
   "cell_type": "markdown",
   "metadata": {
    "deletable": true,
    "editable": true
   },
   "source": [
    "## 4. Predictions with Surprise library"
   ]
  },
  {
   "cell_type": "code",
   "execution_count": 8,
   "metadata": {
    "collapsed": false,
    "deletable": true,
    "editable": true
   },
   "outputs": [
    {
     "data": {
      "text/plain": [
       "489.0"
      ]
     },
     "execution_count": 8,
     "metadata": {},
     "output_type": "execute_result"
    }
   ],
   "source": [
    "# find maximum Duration value in order to set the range of rating_scale below\n",
    "max(orig_data['Duration'])"
   ]
  },
  {
   "cell_type": "code",
   "execution_count": 9,
   "metadata": {
    "collapsed": true,
    "deletable": true,
    "editable": true
   },
   "outputs": [],
   "source": [
    "reader = Reader(rating_scale=(0, 489))\n",
    "\n",
    "# load data as Dataset for surprise library\n",
    "data = Dataset.load_from_df(orig_data[['Customer', 'Product', 'Duration']], reader)"
   ]
  },
  {
   "cell_type": "code",
   "execution_count": 10,
   "metadata": {
    "collapsed": false,
    "deletable": true,
    "editable": true
   },
   "outputs": [
    {
     "name": "stdout",
     "output_type": "stream",
     "text": [
      "Executing<surprise.prediction_algorithms.matrix_factorization.SVD object at 0x7f8f234dab90>\n",
      "Executing<surprise.prediction_algorithms.matrix_factorization.SVDpp object at 0x7f8f234dac10>\n",
      "Executing<surprise.prediction_algorithms.slope_one.SlopeOne object at 0x7f8f234dac50>\n",
      "Executing<surprise.prediction_algorithms.matrix_factorization.NMF object at 0x7f8f234dac90>\n",
      "Executing<surprise.prediction_algorithms.random_pred.NormalPredictor object at 0x7f8f234dacd0>\n",
      "Executing<surprise.prediction_algorithms.knns.KNNBaseline object at 0x7f8f234dad10>\n",
      "Estimating biases using als...\n",
      "Computing the msd similarity matrix...\n",
      "Done computing similarity matrix.\n",
      "Estimating biases using als...\n",
      "Computing the msd similarity matrix...\n",
      "Done computing similarity matrix.\n",
      "Estimating biases using als...\n",
      "Computing the msd similarity matrix...\n",
      "Done computing similarity matrix.\n",
      "Executing<surprise.prediction_algorithms.knns.KNNBasic object at 0x7f8f234dad50>\n",
      "Computing the msd similarity matrix...\n",
      "Done computing similarity matrix.\n",
      "Computing the msd similarity matrix...\n",
      "Done computing similarity matrix.\n",
      "Computing the msd similarity matrix...\n",
      "Done computing similarity matrix.\n",
      "Executing<surprise.prediction_algorithms.knns.KNNWithMeans object at 0x7f8f234dad90>\n",
      "Computing the msd similarity matrix...\n",
      "Done computing similarity matrix.\n",
      "Computing the msd similarity matrix...\n",
      "Done computing similarity matrix.\n",
      "Computing the msd similarity matrix...\n",
      "Done computing similarity matrix.\n",
      "Executing<surprise.prediction_algorithms.knns.KNNWithZScore object at 0x7f8f234dadd0>\n",
      "Computing the msd similarity matrix...\n",
      "Done computing similarity matrix.\n",
      "Computing the msd similarity matrix...\n",
      "Done computing similarity matrix.\n",
      "Computing the msd similarity matrix...\n",
      "Done computing similarity matrix.\n",
      "Executing<surprise.prediction_algorithms.baseline_only.BaselineOnly object at 0x7f8f234dae10>\n",
      "Estimating biases using als...\n",
      "Estimating biases using als...\n",
      "Estimating biases using als...\n",
      "Executing<surprise.prediction_algorithms.co_clustering.CoClustering object at 0x7f8f234dae50>\n"
     ]
    },
    {
     "data": {
      "text/html": [
       "<div>\n",
       "<style scoped>\n",
       "    .dataframe tbody tr th:only-of-type {\n",
       "        vertical-align: middle;\n",
       "    }\n",
       "\n",
       "    .dataframe tbody tr th {\n",
       "        vertical-align: top;\n",
       "    }\n",
       "\n",
       "    .dataframe thead th {\n",
       "        text-align: right;\n",
       "    }\n",
       "</style>\n",
       "<table border=\"1\" class=\"dataframe\">\n",
       "  <thead>\n",
       "    <tr style=\"text-align: right;\">\n",
       "      <th></th>\n",
       "      <th>fit_time</th>\n",
       "      <th>test_rmse</th>\n",
       "      <th>test_time</th>\n",
       "    </tr>\n",
       "    <tr>\n",
       "      <th>Algorithm</th>\n",
       "      <th></th>\n",
       "      <th></th>\n",
       "      <th></th>\n",
       "    </tr>\n",
       "  </thead>\n",
       "  <tbody>\n",
       "    <tr>\n",
       "      <th>SlopeOne</th>\n",
       "      <td>0.735442</td>\n",
       "      <td>30.816133</td>\n",
       "      <td>9.561536</td>\n",
       "    </tr>\n",
       "    <tr>\n",
       "      <th>CoClustering</th>\n",
       "      <td>3.470109</td>\n",
       "      <td>30.968772</td>\n",
       "      <td>0.978340</td>\n",
       "    </tr>\n",
       "    <tr>\n",
       "      <th>KNNWithMeans</th>\n",
       "      <td>4.617046</td>\n",
       "      <td>31.036756</td>\n",
       "      <td>53.858015</td>\n",
       "    </tr>\n",
       "    <tr>\n",
       "      <th>BaselineOnly</th>\n",
       "      <td>0.494018</td>\n",
       "      <td>31.181225</td>\n",
       "      <td>1.136886</td>\n",
       "    </tr>\n",
       "    <tr>\n",
       "      <th>KNNWithZScore</th>\n",
       "      <td>5.160181</td>\n",
       "      <td>31.193441</td>\n",
       "      <td>56.495376</td>\n",
       "    </tr>\n",
       "    <tr>\n",
       "      <th>KNNBaseline</th>\n",
       "      <td>5.327807</td>\n",
       "      <td>31.278019</td>\n",
       "      <td>56.979165</td>\n",
       "    </tr>\n",
       "    <tr>\n",
       "      <th>KNNBasic</th>\n",
       "      <td>4.637901</td>\n",
       "      <td>34.669724</td>\n",
       "      <td>54.674279</td>\n",
       "    </tr>\n",
       "    <tr>\n",
       "      <th>NormalPredictor</th>\n",
       "      <td>0.313433</td>\n",
       "      <td>64.905987</td>\n",
       "      <td>1.185403</td>\n",
       "    </tr>\n",
       "    <tr>\n",
       "      <th>NMF</th>\n",
       "      <td>10.141021</td>\n",
       "      <td>64.929049</td>\n",
       "      <td>1.029189</td>\n",
       "    </tr>\n",
       "    <tr>\n",
       "      <th>SVDpp</th>\n",
       "      <td>254.867541</td>\n",
       "      <td>438.343819</td>\n",
       "      <td>13.975087</td>\n",
       "    </tr>\n",
       "    <tr>\n",
       "      <th>SVD</th>\n",
       "      <td>10.108615</td>\n",
       "      <td>438.343859</td>\n",
       "      <td>1.077338</td>\n",
       "    </tr>\n",
       "  </tbody>\n",
       "</table>\n",
       "</div>"
      ],
      "text/plain": [
       "                   fit_time   test_rmse  test_time\n",
       "Algorithm                                         \n",
       "SlopeOne           0.735442   30.816133   9.561536\n",
       "CoClustering       3.470109   30.968772   0.978340\n",
       "KNNWithMeans       4.617046   31.036756  53.858015\n",
       "BaselineOnly       0.494018   31.181225   1.136886\n",
       "KNNWithZScore      5.160181   31.193441  56.495376\n",
       "KNNBaseline        5.327807   31.278019  56.979165\n",
       "KNNBasic           4.637901   34.669724  54.674279\n",
       "NormalPredictor    0.313433   64.905987   1.185403\n",
       "NMF               10.141021   64.929049   1.029189\n",
       "SVDpp            254.867541  438.343819  13.975087\n",
       "SVD               10.108615  438.343859   1.077338"
      ]
     },
     "execution_count": 10,
     "metadata": {},
     "output_type": "execute_result"
    }
   ],
   "source": [
    "benchmark = []\n",
    "# Iterate over all algorithms\n",
    "for algorithm in [SVD(), SVDpp(), SlopeOne(), NMF(), NormalPredictor(), KNNBaseline(), KNNBasic(), KNNWithMeans(), KNNWithZScore(), BaselineOnly(), CoClustering()]:\n",
    "    # Perform cross validation\n",
    "    print('Executing' + str(algorithm))\n",
    "    results = cross_validate(algorithm, data, measures=['RMSE'], cv=3, verbose=False)\n",
    "    \n",
    "    # Get results & append algorithm name\n",
    "    tmp = pd.DataFrame.from_dict(results).mean(axis=0)\n",
    "    tmp = tmp.append(pd.Series([str(algorithm).split(' ')[0].split('.')[-1]], index=['Algorithm']))\n",
    "    benchmark.append(tmp)\n",
    "    \n",
    "pd.DataFrame(benchmark).set_index('Algorithm').sort_values('test_rmse')    "
   ]
  },
  {
   "cell_type": "markdown",
   "metadata": {
    "deletable": true,
    "editable": true
   },
   "source": [
    "### Start procedure with the best algorithm (according to the above results, choose the algo with the lowest rmse)"
   ]
  },
  {
   "cell_type": "markdown",
   "metadata": {
    "deletable": true,
    "editable": true
   },
   "source": [
    "#### Run cross-validation with the best algo (in the specific case SlopeOne) "
   ]
  },
  {
   "cell_type": "code",
   "execution_count": 14,
   "metadata": {
    "collapsed": false,
    "deletable": true,
    "editable": true
   },
   "outputs": [
    {
     "name": "stdout",
     "output_type": "stream",
     "text": [
      "Executing SlopeOne\n"
     ]
    },
    {
     "data": {
      "text/plain": [
       "{u'fit_time': (0.6836080551147461, 0.6862411499023438, 0.6941580772399902),\n",
       " u'test_rmse': array([30.92143762, 30.81119719, 30.72042653]),\n",
       " u'test_time': (9.618637084960938, 9.231590986251831, 9.458172082901001)}"
      ]
     },
     "execution_count": 14,
     "metadata": {},
     "output_type": "execute_result"
    }
   ],
   "source": [
    "# SlopeOne algorithm gave us the best rmse, therefore, we will train and predict with SlopeOne \n",
    "\n",
    "print('Executing SlopeOne')\n",
    "algo = SlopeOne()\n",
    "cross_validate(algo, data, measures=['RMSE'], cv=3, verbose=False)"
   ]
  },
  {
   "cell_type": "markdown",
   "metadata": {
    "deletable": true,
    "editable": true
   },
   "source": [
    "#### Train and test the chosen algorithm"
   ]
  },
  {
   "cell_type": "code",
   "execution_count": 15,
   "metadata": {
    "collapsed": false,
    "deletable": true,
    "editable": true
   },
   "outputs": [
    {
     "name": "stdout",
     "output_type": "stream",
     "text": [
      "RMSE: 30.7936\n"
     ]
    },
    {
     "data": {
      "text/plain": [
       "30.79359513131922"
      ]
     },
     "execution_count": 15,
     "metadata": {},
     "output_type": "execute_result"
    }
   ],
   "source": [
    "trainset, testset = s_train_test_split(data, test_size=0.25)\n",
    "predictions = algo.fit(trainset).test(testset)\n",
    "accuracy.rmse(predictions)"
   ]
  },
  {
   "cell_type": "markdown",
   "metadata": {
    "deletable": true,
    "editable": true
   },
   "source": [
    "#### Get detailed results for predictions/recommendations"
   ]
  },
  {
   "cell_type": "code",
   "execution_count": 16,
   "metadata": {
    "collapsed": true,
    "deletable": true,
    "editable": true
   },
   "outputs": [],
   "source": [
    "#  inspect our predictions in details\n",
    "\n",
    "def get_Iu(uid):\n",
    "    \"\"\" return the number of items clicked by given user\n",
    "    args: \n",
    "      uid: the id of the user\n",
    "    returns: \n",
    "      the number of items clicked by the user\n",
    "    \"\"\"\n",
    "    try:\n",
    "        return len(trainset.ur[trainset.to_inner_uid(uid)])\n",
    "    except ValueError: # user was not part of the trainset\n",
    "        return 0\n",
    "    \n",
    "def get_Ui(iid):\n",
    "    \"\"\" return number of users that have clicked given item\n",
    "    args:\n",
    "      iid: the raw id of the item\n",
    "    returns:\n",
    "      the number of users that have clicked the item.\n",
    "    \"\"\"\n",
    "    try: \n",
    "        return len(trainset.ir[trainset.to_inner_iid(iid)])\n",
    "    except ValueError:\n",
    "        return 0\n",
    "    \n",
    "df = pd.DataFrame(predictions, columns=['uid', 'iid', 'rui', 'est', 'details'])\n",
    "df['Iu'] = df.uid.apply(get_Iu)\n",
    "df['Ui'] = df.iid.apply(get_Ui)\n",
    "df['err'] = abs(df.est - df.rui)\n",
    "best_predictions = df.sort_values(by='err')[:10]\n",
    "worst_predictions = df.sort_values(by='err')[-10:]"
   ]
  },
  {
   "cell_type": "code",
   "execution_count": 27,
   "metadata": {
    "collapsed": false,
    "deletable": true,
    "editable": true
   },
   "outputs": [
    {
     "data": {
      "text/html": [
       "<div>\n",
       "<style scoped>\n",
       "    .dataframe tbody tr th:only-of-type {\n",
       "        vertical-align: middle;\n",
       "    }\n",
       "\n",
       "    .dataframe tbody tr th {\n",
       "        vertical-align: top;\n",
       "    }\n",
       "\n",
       "    .dataframe thead th {\n",
       "        text-align: right;\n",
       "    }\n",
       "</style>\n",
       "<table border=\"1\" class=\"dataframe\">\n",
       "  <thead>\n",
       "    <tr style=\"text-align: right;\">\n",
       "      <th></th>\n",
       "      <th>uid</th>\n",
       "      <th>iid</th>\n",
       "      <th>rui</th>\n",
       "      <th>est</th>\n",
       "      <th>details</th>\n",
       "      <th>Iu</th>\n",
       "      <th>Ui</th>\n",
       "      <th>err</th>\n",
       "    </tr>\n",
       "  </thead>\n",
       "  <tbody>\n",
       "    <tr>\n",
       "      <th>37875</th>\n",
       "      <td>CC20190399</td>\n",
       "      <td>7_24</td>\n",
       "      <td>95.0</td>\n",
       "      <td>94.999933</td>\n",
       "      <td>{u'was_impossible': False}</td>\n",
       "      <td>168</td>\n",
       "      <td>591</td>\n",
       "      <td>0.000067</td>\n",
       "    </tr>\n",
       "    <tr>\n",
       "      <th>17150</th>\n",
       "      <td>RC5274082</td>\n",
       "      <td>3_3</td>\n",
       "      <td>20.0</td>\n",
       "      <td>20.000170</td>\n",
       "      <td>{u'was_impossible': False}</td>\n",
       "      <td>60</td>\n",
       "      <td>604</td>\n",
       "      <td>0.000170</td>\n",
       "    </tr>\n",
       "    <tr>\n",
       "      <th>1518</th>\n",
       "      <td>RC9213881</td>\n",
       "      <td>0_19</td>\n",
       "      <td>13.0</td>\n",
       "      <td>12.998187</td>\n",
       "      <td>{u'was_impossible': False}</td>\n",
       "      <td>30</td>\n",
       "      <td>632</td>\n",
       "      <td>0.001813</td>\n",
       "    </tr>\n",
       "    <tr>\n",
       "      <th>8675</th>\n",
       "      <td>RC7910948</td>\n",
       "      <td>4_27</td>\n",
       "      <td>19.0</td>\n",
       "      <td>19.002411</td>\n",
       "      <td>{u'was_impossible': False}</td>\n",
       "      <td>53</td>\n",
       "      <td>400</td>\n",
       "      <td>0.002411</td>\n",
       "    </tr>\n",
       "    <tr>\n",
       "      <th>26243</th>\n",
       "      <td>RC7577385</td>\n",
       "      <td>1_20</td>\n",
       "      <td>21.0</td>\n",
       "      <td>21.005739</td>\n",
       "      <td>{u'was_impossible': False}</td>\n",
       "      <td>93</td>\n",
       "      <td>603</td>\n",
       "      <td>0.005739</td>\n",
       "    </tr>\n",
       "    <tr>\n",
       "      <th>42218</th>\n",
       "      <td>RC7305871</td>\n",
       "      <td>7_6</td>\n",
       "      <td>19.0</td>\n",
       "      <td>19.006251</td>\n",
       "      <td>{u'was_impossible': False}</td>\n",
       "      <td>50</td>\n",
       "      <td>592</td>\n",
       "      <td>0.006251</td>\n",
       "    </tr>\n",
       "    <tr>\n",
       "      <th>4246</th>\n",
       "      <td>CC20190541</td>\n",
       "      <td>3_4</td>\n",
       "      <td>55.0</td>\n",
       "      <td>54.993737</td>\n",
       "      <td>{u'was_impossible': False}</td>\n",
       "      <td>158</td>\n",
       "      <td>590</td>\n",
       "      <td>0.006263</td>\n",
       "    </tr>\n",
       "    <tr>\n",
       "      <th>27244</th>\n",
       "      <td>RC9305698</td>\n",
       "      <td>5_26</td>\n",
       "      <td>21.0</td>\n",
       "      <td>21.006595</td>\n",
       "      <td>{u'was_impossible': False}</td>\n",
       "      <td>60</td>\n",
       "      <td>418</td>\n",
       "      <td>0.006595</td>\n",
       "    </tr>\n",
       "    <tr>\n",
       "      <th>29383</th>\n",
       "      <td>RC2844097</td>\n",
       "      <td>5_18</td>\n",
       "      <td>20.0</td>\n",
       "      <td>19.993065</td>\n",
       "      <td>{u'was_impossible': False}</td>\n",
       "      <td>24</td>\n",
       "      <td>581</td>\n",
       "      <td>0.006935</td>\n",
       "    </tr>\n",
       "    <tr>\n",
       "      <th>9023</th>\n",
       "      <td>CC20190314</td>\n",
       "      <td>7_26</td>\n",
       "      <td>61.0</td>\n",
       "      <td>60.992896</td>\n",
       "      <td>{u'was_impossible': False}</td>\n",
       "      <td>158</td>\n",
       "      <td>606</td>\n",
       "      <td>0.007104</td>\n",
       "    </tr>\n",
       "  </tbody>\n",
       "</table>\n",
       "</div>"
      ],
      "text/plain": [
       "              uid   iid   rui        est                     details   Iu  \\\n",
       "37875  CC20190399  7_24  95.0  94.999933  {u'was_impossible': False}  168   \n",
       "17150   RC5274082   3_3  20.0  20.000170  {u'was_impossible': False}   60   \n",
       "1518    RC9213881  0_19  13.0  12.998187  {u'was_impossible': False}   30   \n",
       "8675    RC7910948  4_27  19.0  19.002411  {u'was_impossible': False}   53   \n",
       "26243   RC7577385  1_20  21.0  21.005739  {u'was_impossible': False}   93   \n",
       "42218   RC7305871   7_6  19.0  19.006251  {u'was_impossible': False}   50   \n",
       "4246   CC20190541   3_4  55.0  54.993737  {u'was_impossible': False}  158   \n",
       "27244   RC9305698  5_26  21.0  21.006595  {u'was_impossible': False}   60   \n",
       "29383   RC2844097  5_18  20.0  19.993065  {u'was_impossible': False}   24   \n",
       "9023   CC20190314  7_26  61.0  60.992896  {u'was_impossible': False}  158   \n",
       "\n",
       "        Ui       err  \n",
       "37875  591  0.000067  \n",
       "17150  604  0.000170  \n",
       "1518   632  0.001813  \n",
       "8675   400  0.002411  \n",
       "26243  603  0.005739  \n",
       "42218  592  0.006251  \n",
       "4246   590  0.006263  \n",
       "27244  418  0.006595  \n",
       "29383  581  0.006935  \n",
       "9023   606  0.007104  "
      ]
     },
     "execution_count": 27,
     "metadata": {},
     "output_type": "execute_result"
    }
   ],
   "source": [
    "# print the 10 best predictions\n",
    "best_predictions"
   ]
  },
  {
   "cell_type": "code",
   "execution_count": 28,
   "metadata": {
    "collapsed": false,
    "deletable": true,
    "editable": true
   },
   "outputs": [
    {
     "data": {
      "text/html": [
       "<div>\n",
       "<style scoped>\n",
       "    .dataframe tbody tr th:only-of-type {\n",
       "        vertical-align: middle;\n",
       "    }\n",
       "\n",
       "    .dataframe tbody tr th {\n",
       "        vertical-align: top;\n",
       "    }\n",
       "\n",
       "    .dataframe thead th {\n",
       "        text-align: right;\n",
       "    }\n",
       "</style>\n",
       "<table border=\"1\" class=\"dataframe\">\n",
       "  <thead>\n",
       "    <tr style=\"text-align: right;\">\n",
       "      <th></th>\n",
       "      <th>uid</th>\n",
       "      <th>iid</th>\n",
       "      <th>rui</th>\n",
       "      <th>est</th>\n",
       "      <th>details</th>\n",
       "      <th>Iu</th>\n",
       "      <th>Ui</th>\n",
       "      <th>err</th>\n",
       "    </tr>\n",
       "  </thead>\n",
       "  <tbody>\n",
       "    <tr>\n",
       "      <th>30087</th>\n",
       "      <td>CC20190466</td>\n",
       "      <td>5_24</td>\n",
       "      <td>344.0</td>\n",
       "      <td>144.057297</td>\n",
       "      <td>{u'was_impossible': False}</td>\n",
       "      <td>167</td>\n",
       "      <td>594</td>\n",
       "      <td>199.942703</td>\n",
       "    </tr>\n",
       "    <tr>\n",
       "      <th>20427</th>\n",
       "      <td>CC201903184</td>\n",
       "      <td>0_6</td>\n",
       "      <td>375.0</td>\n",
       "      <td>172.024297</td>\n",
       "      <td>{u'was_impossible': False}</td>\n",
       "      <td>166</td>\n",
       "      <td>594</td>\n",
       "      <td>202.975703</td>\n",
       "    </tr>\n",
       "    <tr>\n",
       "      <th>13879</th>\n",
       "      <td>CC20190337</td>\n",
       "      <td>7_23</td>\n",
       "      <td>414.0</td>\n",
       "      <td>206.465620</td>\n",
       "      <td>{u'was_impossible': False}</td>\n",
       "      <td>157</td>\n",
       "      <td>594</td>\n",
       "      <td>207.534380</td>\n",
       "    </tr>\n",
       "    <tr>\n",
       "      <th>9389</th>\n",
       "      <td>CC201905238</td>\n",
       "      <td>0_25</td>\n",
       "      <td>358.0</td>\n",
       "      <td>150.172520</td>\n",
       "      <td>{u'was_impossible': False}</td>\n",
       "      <td>163</td>\n",
       "      <td>610</td>\n",
       "      <td>207.827480</td>\n",
       "    </tr>\n",
       "    <tr>\n",
       "      <th>7639</th>\n",
       "      <td>CC20190514</td>\n",
       "      <td>3_23</td>\n",
       "      <td>329.0</td>\n",
       "      <td>116.288613</td>\n",
       "      <td>{u'was_impossible': False}</td>\n",
       "      <td>171</td>\n",
       "      <td>581</td>\n",
       "      <td>212.711387</td>\n",
       "    </tr>\n",
       "    <tr>\n",
       "      <th>17668</th>\n",
       "      <td>CC201905115</td>\n",
       "      <td>0_11</td>\n",
       "      <td>374.0</td>\n",
       "      <td>161.176710</td>\n",
       "      <td>{u'was_impossible': False}</td>\n",
       "      <td>169</td>\n",
       "      <td>579</td>\n",
       "      <td>212.823290</td>\n",
       "    </tr>\n",
       "    <tr>\n",
       "      <th>30814</th>\n",
       "      <td>CC20190451</td>\n",
       "      <td>0_13</td>\n",
       "      <td>391.0</td>\n",
       "      <td>177.592189</td>\n",
       "      <td>{u'was_impossible': False}</td>\n",
       "      <td>170</td>\n",
       "      <td>598</td>\n",
       "      <td>213.407811</td>\n",
       "    </tr>\n",
       "    <tr>\n",
       "      <th>24790</th>\n",
       "      <td>CC201904276</td>\n",
       "      <td>3_25</td>\n",
       "      <td>319.0</td>\n",
       "      <td>96.677639</td>\n",
       "      <td>{u'was_impossible': False}</td>\n",
       "      <td>163</td>\n",
       "      <td>630</td>\n",
       "      <td>222.322361</td>\n",
       "    </tr>\n",
       "    <tr>\n",
       "      <th>1566</th>\n",
       "      <td>CC201904171</td>\n",
       "      <td>7_9</td>\n",
       "      <td>437.0</td>\n",
       "      <td>214.547553</td>\n",
       "      <td>{u'was_impossible': False}</td>\n",
       "      <td>154</td>\n",
       "      <td>620</td>\n",
       "      <td>222.452447</td>\n",
       "    </tr>\n",
       "    <tr>\n",
       "      <th>38185</th>\n",
       "      <td>CC201903288</td>\n",
       "      <td>0_16</td>\n",
       "      <td>391.0</td>\n",
       "      <td>152.319574</td>\n",
       "      <td>{u'was_impossible': False}</td>\n",
       "      <td>174</td>\n",
       "      <td>619</td>\n",
       "      <td>238.680426</td>\n",
       "    </tr>\n",
       "  </tbody>\n",
       "</table>\n",
       "</div>"
      ],
      "text/plain": [
       "               uid   iid    rui         est                     details   Iu  \\\n",
       "30087   CC20190466  5_24  344.0  144.057297  {u'was_impossible': False}  167   \n",
       "20427  CC201903184   0_6  375.0  172.024297  {u'was_impossible': False}  166   \n",
       "13879   CC20190337  7_23  414.0  206.465620  {u'was_impossible': False}  157   \n",
       "9389   CC201905238  0_25  358.0  150.172520  {u'was_impossible': False}  163   \n",
       "7639    CC20190514  3_23  329.0  116.288613  {u'was_impossible': False}  171   \n",
       "17668  CC201905115  0_11  374.0  161.176710  {u'was_impossible': False}  169   \n",
       "30814   CC20190451  0_13  391.0  177.592189  {u'was_impossible': False}  170   \n",
       "24790  CC201904276  3_25  319.0   96.677639  {u'was_impossible': False}  163   \n",
       "1566   CC201904171   7_9  437.0  214.547553  {u'was_impossible': False}  154   \n",
       "38185  CC201903288  0_16  391.0  152.319574  {u'was_impossible': False}  174   \n",
       "\n",
       "        Ui         err  \n",
       "30087  594  199.942703  \n",
       "20427  594  202.975703  \n",
       "13879  594  207.534380  \n",
       "9389   610  207.827480  \n",
       "7639   581  212.711387  \n",
       "17668  579  212.823290  \n",
       "30814  598  213.407811  \n",
       "24790  630  222.322361  \n",
       "1566   620  222.452447  \n",
       "38185  619  238.680426  "
      ]
     },
     "execution_count": 28,
     "metadata": {},
     "output_type": "execute_result"
    }
   ],
   "source": [
    "# print the 10 worst predictions\n",
    "worst_predictions"
   ]
  },
  {
   "cell_type": "code",
   "execution_count": null,
   "metadata": {
    "collapsed": true,
    "deletable": true,
    "editable": true
   },
   "outputs": [],
   "source": [
    "# test example: regular customers that are recommended to be most probably interested in product 0_10\n",
    "listOfCustomers = pd.DataFrame(df[(df['iid'] == '0_10') & (df['uid'].str.startswith('CC'))]['uid'])"
   ]
  },
  {
   "cell_type": "markdown",
   "metadata": {
    "deletable": true,
    "editable": true
   },
   "source": [
    "## 5. Predictions with Turicreate library"
   ]
  },
  {
   "cell_type": "markdown",
   "metadata": {
    "deletable": true,
    "editable": true
   },
   "source": [
    "#### Define train and test subsets"
   ]
  },
  {
   "cell_type": "code",
   "execution_count": 30,
   "metadata": {
    "collapsed": true,
    "deletable": true,
    "editable": true
   },
   "outputs": [],
   "source": [
    "def split_data(data):\n",
    "    '''\n",
    "    Splits dataset into training and test set.\n",
    "    \n",
    "    Args:\n",
    "        data (pandas.DataFrame)\n",
    "        \n",
    "    Returns\n",
    "        train_data (tc.SFrame)\n",
    "        test_data (tc.SFrame)\n",
    "    '''\n",
    "    train, test = t_train_test_split(data, test_size = .25)\n",
    "    train_data = tc.SFrame(train)\n",
    "    test_data = tc.SFrame(test)\n",
    "    return train_data, test_data"
   ]
  },
  {
   "cell_type": "code",
   "execution_count": 31,
   "metadata": {
    "collapsed": true,
    "deletable": true,
    "editable": true
   },
   "outputs": [],
   "source": [
    "train_data, test_data = split_data(orig_data)"
   ]
  },
  {
   "cell_type": "code",
   "execution_count": 32,
   "metadata": {
    "collapsed": true,
    "deletable": true,
    "editable": true
   },
   "outputs": [],
   "source": [
    "# define the variables to use in the models\n",
    "# custEmails.csv has the ids and emails of the regular customers\n",
    "\n",
    "customersEmails = pd.read_csv('../custEmails.csv', header=None, names=['Customer', 'Email']) \n",
    "user_id = 'Customer'\n",
    "item_id = 'Product'\n",
    "users_to_recommend = list(customersEmails['Customer'])\n",
    "n_rec = 10 # number of items to recommend\n",
    "n_display = 30 # to display the first few rows in an output dataset"
   ]
  },
  {
   "cell_type": "code",
   "execution_count": 34,
   "metadata": {
    "collapsed": true,
    "deletable": true,
    "editable": true
   },
   "outputs": [],
   "source": [
    "# function for all models using Turicreate\n",
    "\n",
    "def model(train_data, name, user_id, item_id, target, users_to_recommend, n_rec, n_display):\n",
    "    if name == 'popularity':\n",
    "        model = tc.popularity_recommender.create(train_data, \n",
    "                                                    user_id=user_id, \n",
    "                                                    item_id=item_id, \n",
    "                                                    target=target)\n",
    "    elif name == 'cosine':\n",
    "        model = tc.item_similarity_recommender.create(train_data, \n",
    "                                                    user_id=user_id, \n",
    "                                                    item_id=item_id, \n",
    "                                                    target=target, \n",
    "                                                    similarity_type='cosine')\n",
    "    elif name == 'pearson':\n",
    "        model = tc.item_similarity_recommender.create(train_data, \n",
    "                                                    user_id=user_id, \n",
    "                                                    item_id=item_id, \n",
    "                                                    target=target, \n",
    "                                                    similarity_type='pearson')\n",
    "        \n",
    "recom = model.recommend(users=users_to_recommend, k=n_rec)\n",
    "recom.print_rows(n_display)\n",
    "return model"
   ]
  },
  {
   "cell_type": "markdown",
   "metadata": {
    "deletable": true,
    "editable": true
   },
   "source": [
    "#### Train popularity, cosine and pearson models with trainset"
   ]
  },
  {
   "cell_type": "code",
   "execution_count": 35,
   "metadata": {
    "collapsed": false,
    "deletable": true,
    "editable": true
   },
   "outputs": [
    {
     "data": {
      "text/html": [
       "<pre>Preparing data set.</pre>"
      ],
      "text/plain": [
       "Preparing data set."
      ]
     },
     "metadata": {},
     "output_type": "display_data"
    },
    {
     "data": {
      "text/html": [
       "<pre>    Data has 133591 observations with 1436 users and 235 items.</pre>"
      ],
      "text/plain": [
       "    Data has 133591 observations with 1436 users and 235 items."
      ]
     },
     "metadata": {},
     "output_type": "display_data"
    },
    {
     "data": {
      "text/html": [
       "<pre>    Data prepared in: 0.309455s</pre>"
      ],
      "text/plain": [
       "    Data prepared in: 0.309455s"
      ]
     },
     "metadata": {},
     "output_type": "display_data"
    },
    {
     "data": {
      "text/html": [
       "<pre>133591 observations to process; with 235 unique items.</pre>"
      ],
      "text/plain": [
       "133591 observations to process; with 235 unique items."
      ]
     },
     "metadata": {},
     "output_type": "display_data"
    },
    {
     "name": "stdout",
     "output_type": "stream",
     "text": [
      "+-------------+---------+---------------+------+\n",
      "|   Customer  | Product |     score     | rank |\n",
      "+-------------+---------+---------------+------+\n",
      "|  CC20190310 |   0_1   |  56.563237774 |  1   |\n",
      "|  CC20190310 |   2_15  | 56.3128038898 |  2   |\n",
      "|  CC20190310 |   7_5   | 56.1879194631 |  3   |\n",
      "|  CC20190310 |   2_25  | 56.1398373984 |  4   |\n",
      "|  CC20190310 |   1_23  | 56.0455311973 |  5   |\n",
      "|  CC20190310 |   6_19  | 56.0306122449 |  6   |\n",
      "|  CC20190310 |   0_13  | 55.7516339869 |  7   |\n",
      "|  CC20190310 |   4_11  | 55.4221854305 |  8   |\n",
      "|  CC20190310 |   3_24  | 55.3798319328 |  9   |\n",
      "|  CC20190310 |   1_21  | 55.3282571912 |  10  |\n",
      "| CC201903100 |   2_29  | 58.5418994413 |  1   |\n",
      "| CC201903100 |   4_10  | 57.5108153078 |  2   |\n",
      "| CC201903100 |   0_25  | 56.8273716952 |  3   |\n",
      "| CC201903100 |   0_6   |     56.44     |  4   |\n",
      "| CC201903100 |   0_4   | 56.1888341544 |  5   |\n",
      "| CC201903100 |   2_25  | 56.1398373984 |  6   |\n",
      "| CC201903100 |   3_0   | 55.9748743719 |  7   |\n",
      "| CC201903100 |   1_8   | 55.9111842105 |  8   |\n",
      "| CC201903100 |   0_15  | 55.6936507937 |  9   |\n",
      "| CC201903100 |   4_0   | 55.5527638191 |  10  |\n",
      "| CC201903101 |   2_23  | 57.7033333333 |  1   |\n",
      "| CC201903101 |   4_10  | 57.5108153078 |  2   |\n",
      "| CC201903101 |   6_0   | 56.9090909091 |  3   |\n",
      "| CC201903101 |   5_12  | 56.7594501718 |  4   |\n",
      "| CC201903101 |   0_1   |  56.563237774 |  5   |\n",
      "| CC201903101 |   3_23  | 56.5405872193 |  6   |\n",
      "| CC201903101 |   2_15  | 56.3128038898 |  7   |\n",
      "| CC201903101 |   0_4   | 56.1888341544 |  8   |\n",
      "| CC201903101 |   2_25  | 56.1398373984 |  9   |\n",
      "| CC201903101 |   6_19  | 56.0306122449 |  10  |\n",
      "+-------------+---------+---------------+------+\n",
      "[5640 rows x 4 columns]\n",
      "\n"
     ]
    }
   ],
   "source": [
    "# Content-based popularity model\n",
    "\n",
    "name = 'popularity'\n",
    "target = 'Duration'\n",
    "popularity = model(train_data, name, user_id, item_id, target, users_to_recommend, n_rec, n_display)"
   ]
  },
  {
   "cell_type": "code",
   "execution_count": 36,
   "metadata": {
    "collapsed": false,
    "deletable": true,
    "editable": true
   },
   "outputs": [
    {
     "data": {
      "text/html": [
       "<pre>Preparing data set.</pre>"
      ],
      "text/plain": [
       "Preparing data set."
      ]
     },
     "metadata": {},
     "output_type": "display_data"
    },
    {
     "data": {
      "text/html": [
       "<pre>    Data has 133591 observations with 1436 users and 235 items.</pre>"
      ],
      "text/plain": [
       "    Data has 133591 observations with 1436 users and 235 items."
      ]
     },
     "metadata": {},
     "output_type": "display_data"
    },
    {
     "data": {
      "text/html": [
       "<pre>    Data prepared in: 0.248174s</pre>"
      ],
      "text/plain": [
       "    Data prepared in: 0.248174s"
      ]
     },
     "metadata": {},
     "output_type": "display_data"
    },
    {
     "data": {
      "text/html": [
       "<pre>Training model from provided data.</pre>"
      ],
      "text/plain": [
       "Training model from provided data."
      ]
     },
     "metadata": {},
     "output_type": "display_data"
    },
    {
     "data": {
      "text/html": [
       "<pre>Gathering per-item and per-user statistics.</pre>"
      ],
      "text/plain": [
       "Gathering per-item and per-user statistics."
      ]
     },
     "metadata": {},
     "output_type": "display_data"
    },
    {
     "data": {
      "text/html": [
       "<pre>+--------------------------------+------------+</pre>"
      ],
      "text/plain": [
       "+--------------------------------+------------+"
      ]
     },
     "metadata": {},
     "output_type": "display_data"
    },
    {
     "data": {
      "text/html": [
       "<pre>| Elapsed Time (Item Statistics) | % Complete |</pre>"
      ],
      "text/plain": [
       "| Elapsed Time (Item Statistics) | % Complete |"
      ]
     },
     "metadata": {},
     "output_type": "display_data"
    },
    {
     "data": {
      "text/html": [
       "<pre>+--------------------------------+------------+</pre>"
      ],
      "text/plain": [
       "+--------------------------------+------------+"
      ]
     },
     "metadata": {},
     "output_type": "display_data"
    },
    {
     "data": {
      "text/html": [
       "<pre>| 8.296ms                        | 69.5       |</pre>"
      ],
      "text/plain": [
       "| 8.296ms                        | 69.5       |"
      ]
     },
     "metadata": {},
     "output_type": "display_data"
    },
    {
     "data": {
      "text/html": [
       "<pre>| 9.465ms                        | 100        |</pre>"
      ],
      "text/plain": [
       "| 9.465ms                        | 100        |"
      ]
     },
     "metadata": {},
     "output_type": "display_data"
    },
    {
     "data": {
      "text/html": [
       "<pre>+--------------------------------+------------+</pre>"
      ],
      "text/plain": [
       "+--------------------------------+------------+"
      ]
     },
     "metadata": {},
     "output_type": "display_data"
    },
    {
     "data": {
      "text/html": [
       "<pre>Setting up lookup tables.</pre>"
      ],
      "text/plain": [
       "Setting up lookup tables."
      ]
     },
     "metadata": {},
     "output_type": "display_data"
    },
    {
     "data": {
      "text/html": [
       "<pre>Processing data in one pass using dense lookup tables.</pre>"
      ],
      "text/plain": [
       "Processing data in one pass using dense lookup tables."
      ]
     },
     "metadata": {},
     "output_type": "display_data"
    },
    {
     "data": {
      "text/html": [
       "<pre>+-------------------------------------+------------------+-----------------+</pre>"
      ],
      "text/plain": [
       "+-------------------------------------+------------------+-----------------+"
      ]
     },
     "metadata": {},
     "output_type": "display_data"
    },
    {
     "data": {
      "text/html": [
       "<pre>| Elapsed Time (Constructing Lookups) | Total % Complete | Items Processed |</pre>"
      ],
      "text/plain": [
       "| Elapsed Time (Constructing Lookups) | Total % Complete | Items Processed |"
      ]
     },
     "metadata": {},
     "output_type": "display_data"
    },
    {
     "data": {
      "text/html": [
       "<pre>+-------------------------------------+------------------+-----------------+</pre>"
      ],
      "text/plain": [
       "+-------------------------------------+------------------+-----------------+"
      ]
     },
     "metadata": {},
     "output_type": "display_data"
    },
    {
     "data": {
      "text/html": [
       "<pre>| 15.68ms                             | 0                | 0               |</pre>"
      ],
      "text/plain": [
       "| 15.68ms                             | 0                | 0               |"
      ]
     },
     "metadata": {},
     "output_type": "display_data"
    },
    {
     "data": {
      "text/html": [
       "<pre>| 100.659ms                           | 100              | 235             |</pre>"
      ],
      "text/plain": [
       "| 100.659ms                           | 100              | 235             |"
      ]
     },
     "metadata": {},
     "output_type": "display_data"
    },
    {
     "name": "stdout",
     "output_type": "stream",
     "text": [
      "+-------------+---------+---------------+------+\n",
      "|   Customer  | Product |     score     | rank |\n",
      "+-------------+---------+---------------+------+\n",
      "|  CC20190310 |   5_28  | 54.7382656228 |  1   |\n",
      "|  CC20190310 |   2_25  | 51.0554222165 |  2   |\n",
      "|  CC20190310 |   6_13  | 43.6654091707 |  3   |\n",
      "|  CC20190310 |   1_16  | 35.9204038622 |  4   |\n",
      "|  CC20190310 |   1_7   |  22.949102294 |  5   |\n",
      "|  CC20190310 |   7_19  | 19.6976116551 |  6   |\n",
      "|  CC20190310 |   7_21  | 17.5764856131 |  7   |\n",
      "|  CC20190310 |   6_7   | 16.9021260142 |  8   |\n",
      "|  CC20190310 |   1_23  | 16.8149473815 |  9   |\n",
      "|  CC20190310 |   7_10  | 16.8113241203 |  10  |\n",
      "| CC201903100 |   5_1   | 188.822367826 |  1   |\n",
      "| CC201903100 |   2_25  | 79.5419086751 |  2   |\n",
      "| CC201903100 |   5_28  |  59.735086386 |  3   |\n",
      "| CC201903100 |   6_13  | 56.4555488839 |  4   |\n",
      "| CC201903100 |   3_21  | 40.0138619197 |  5   |\n",
      "| CC201903100 |   4_21  | 32.1620058647 |  6   |\n",
      "| CC201903100 |   1_7   | 32.0558597825 |  7   |\n",
      "| CC201903100 |   3_13  | 27.7614219638 |  8   |\n",
      "| CC201903100 |   0_4   | 25.1848829472 |  9   |\n",
      "| CC201903100 |   5_4   | 25.0283206063 |  10  |\n",
      "| CC201903101 |   4_14  | 89.7464126026 |  1   |\n",
      "| CC201903101 |   5_1   |  66.033167338 |  2   |\n",
      "| CC201903101 |   2_25  | 21.8592058431 |  3   |\n",
      "| CC201903101 |   6_13  | 20.0071098944 |  4   |\n",
      "| CC201903101 |   1_16  | 19.0337501496 |  5   |\n",
      "| CC201903101 |   5_28  | 18.1282634971 |  6   |\n",
      "| CC201903101 |   2_10  | 16.5530858104 |  7   |\n",
      "| CC201903101 |   3_21  | 13.5423722793 |  8   |\n",
      "| CC201903101 |   3_18  |  11.652195009 |  9   |\n",
      "| CC201903101 |   1_7   | 11.3174075892 |  10  |\n",
      "+-------------+---------+---------------+------+\n",
      "[5640 rows x 4 columns]\n",
      "\n"
     ]
    },
    {
     "data": {
      "text/html": [
       "<pre>+-------------------------------------+------------------+-----------------+</pre>"
      ],
      "text/plain": [
       "+-------------------------------------+------------------+-----------------+"
      ]
     },
     "metadata": {},
     "output_type": "display_data"
    },
    {
     "data": {
      "text/html": [
       "<pre>Finalizing lookup tables.</pre>"
      ],
      "text/plain": [
       "Finalizing lookup tables."
      ]
     },
     "metadata": {},
     "output_type": "display_data"
    },
    {
     "data": {
      "text/html": [
       "<pre>Generating candidate set for working with new users.</pre>"
      ],
      "text/plain": [
       "Generating candidate set for working with new users."
      ]
     },
     "metadata": {},
     "output_type": "display_data"
    },
    {
     "data": {
      "text/html": [
       "<pre>Finished training in 1.12203s</pre>"
      ],
      "text/plain": [
       "Finished training in 1.12203s"
      ]
     },
     "metadata": {},
     "output_type": "display_data"
    }
   ],
   "source": [
    "# Collaborative Filtering Model - Cosine similarity\n",
    "\n",
    "name = 'cosine'\n",
    "target = 'Duration'\n",
    "cos = model(train_data, name, user_id, item_id, target, users_to_recommend, n_rec, n_display)"
   ]
  },
  {
   "cell_type": "code",
   "execution_count": 37,
   "metadata": {
    "collapsed": false,
    "deletable": true,
    "editable": true
   },
   "outputs": [
    {
     "data": {
      "text/html": [
       "<pre>Preparing data set.</pre>"
      ],
      "text/plain": [
       "Preparing data set."
      ]
     },
     "metadata": {},
     "output_type": "display_data"
    },
    {
     "data": {
      "text/html": [
       "<pre>    Data has 133591 observations with 1436 users and 235 items.</pre>"
      ],
      "text/plain": [
       "    Data has 133591 observations with 1436 users and 235 items."
      ]
     },
     "metadata": {},
     "output_type": "display_data"
    },
    {
     "data": {
      "text/html": [
       "<pre>    Data prepared in: 0.255093s</pre>"
      ],
      "text/plain": [
       "    Data prepared in: 0.255093s"
      ]
     },
     "metadata": {},
     "output_type": "display_data"
    },
    {
     "data": {
      "text/html": [
       "<pre>Training model from provided data.</pre>"
      ],
      "text/plain": [
       "Training model from provided data."
      ]
     },
     "metadata": {},
     "output_type": "display_data"
    },
    {
     "data": {
      "text/html": [
       "<pre>Gathering per-item and per-user statistics.</pre>"
      ],
      "text/plain": [
       "Gathering per-item and per-user statistics."
      ]
     },
     "metadata": {},
     "output_type": "display_data"
    },
    {
     "data": {
      "text/html": [
       "<pre>+--------------------------------+------------+</pre>"
      ],
      "text/plain": [
       "+--------------------------------+------------+"
      ]
     },
     "metadata": {},
     "output_type": "display_data"
    },
    {
     "data": {
      "text/html": [
       "<pre>| Elapsed Time (Item Statistics) | % Complete |</pre>"
      ],
      "text/plain": [
       "| Elapsed Time (Item Statistics) | % Complete |"
      ]
     },
     "metadata": {},
     "output_type": "display_data"
    },
    {
     "data": {
      "text/html": [
       "<pre>+--------------------------------+------------+</pre>"
      ],
      "text/plain": [
       "+--------------------------------+------------+"
      ]
     },
     "metadata": {},
     "output_type": "display_data"
    },
    {
     "data": {
      "text/html": [
       "<pre>| 4.668ms                        | 69.5       |</pre>"
      ],
      "text/plain": [
       "| 4.668ms                        | 69.5       |"
      ]
     },
     "metadata": {},
     "output_type": "display_data"
    },
    {
     "data": {
      "text/html": [
       "<pre>| 5.56ms                         | 100        |</pre>"
      ],
      "text/plain": [
       "| 5.56ms                         | 100        |"
      ]
     },
     "metadata": {},
     "output_type": "display_data"
    },
    {
     "data": {
      "text/html": [
       "<pre>+--------------------------------+------------+</pre>"
      ],
      "text/plain": [
       "+--------------------------------+------------+"
      ]
     },
     "metadata": {},
     "output_type": "display_data"
    },
    {
     "data": {
      "text/html": [
       "<pre>Setting up lookup tables.</pre>"
      ],
      "text/plain": [
       "Setting up lookup tables."
      ]
     },
     "metadata": {},
     "output_type": "display_data"
    },
    {
     "data": {
      "text/html": [
       "<pre>Processing data in one pass using dense lookup tables.</pre>"
      ],
      "text/plain": [
       "Processing data in one pass using dense lookup tables."
      ]
     },
     "metadata": {},
     "output_type": "display_data"
    },
    {
     "data": {
      "text/html": [
       "<pre>+-------------------------------------+------------------+-----------------+</pre>"
      ],
      "text/plain": [
       "+-------------------------------------+------------------+-----------------+"
      ]
     },
     "metadata": {},
     "output_type": "display_data"
    },
    {
     "data": {
      "text/html": [
       "<pre>| Elapsed Time (Constructing Lookups) | Total % Complete | Items Processed |</pre>"
      ],
      "text/plain": [
       "| Elapsed Time (Constructing Lookups) | Total % Complete | Items Processed |"
      ]
     },
     "metadata": {},
     "output_type": "display_data"
    },
    {
     "data": {
      "text/html": [
       "<pre>+-------------------------------------+------------------+-----------------+</pre>"
      ],
      "text/plain": [
       "+-------------------------------------+------------------+-----------------+"
      ]
     },
     "metadata": {},
     "output_type": "display_data"
    },
    {
     "data": {
      "text/html": [
       "<pre>| 7.887ms                             | 0                | 0               |</pre>"
      ],
      "text/plain": [
       "| 7.887ms                             | 0                | 0               |"
      ]
     },
     "metadata": {},
     "output_type": "display_data"
    },
    {
     "data": {
      "text/html": [
       "<pre>| 379.074ms                           | 100              | 235             |</pre>"
      ],
      "text/plain": [
       "| 379.074ms                           | 100              | 235             |"
      ]
     },
     "metadata": {},
     "output_type": "display_data"
    },
    {
     "name": "stdout",
     "output_type": "stream",
     "text": [
      "+-------------+---------+---------------+------+\n",
      "|   Customer  | Product |     score     | rank |\n",
      "+-------------+---------+---------------+------+\n",
      "|  CC20190310 |   0_1   | 56.8112906239 |  1   |\n",
      "|  CC20190310 |   2_25  |  56.667460248 |  2   |\n",
      "|  CC20190310 |   7_5   | 56.4509691707 |  3   |\n",
      "|  CC20190310 |   2_15  | 56.1829815001 |  4   |\n",
      "|  CC20190310 |   0_13  | 55.9527335937 |  5   |\n",
      "|  CC20190310 |   4_11  |  55.939123704 |  6   |\n",
      "|  CC20190310 |   3_24  | 55.8466923126 |  7   |\n",
      "|  CC20190310 |   1_23  | 55.5762703888 |  8   |\n",
      "|  CC20190310 |   6_19  | 55.4778961356 |  9   |\n",
      "|  CC20190310 |   1_21  | 55.3871078261 |  10  |\n",
      "| CC201903100 |   2_9   | 65.9497916875 |  1   |\n",
      "| CC201903100 |   0_25  | 65.7001871626 |  2   |\n",
      "| CC201903100 |   0_4   | 64.9097636993 |  3   |\n",
      "| CC201903100 |   1_21  | 63.6955871634 |  4   |\n",
      "| CC201903100 |   0_15  | 62.6495676655 |  5   |\n",
      "| CC201903100 |   3_24  | 62.6097614887 |  6   |\n",
      "| CC201903100 |   4_10  | 61.2921797791 |  7   |\n",
      "| CC201903100 |   4_3   |  61.144954124 |  8   |\n",
      "| CC201903100 |   6_15  | 60.1465036742 |  9   |\n",
      "| CC201903100 |   1_8   | 60.1457871153 |  10  |\n",
      "| CC201903101 |   6_19  | 55.0254764209 |  1   |\n",
      "| CC201903101 |   7_8   | 54.8338230191 |  2   |\n",
      "| CC201903101 |   1_25  | 54.7952459962 |  3   |\n",
      "| CC201903101 |   2_11  | 54.5012361505 |  4   |\n",
      "| CC201903101 |   3_21  | 54.4762435006 |  5   |\n",
      "| CC201903101 |   4_22  | 54.3552689196 |  6   |\n",
      "| CC201903101 |   4_27  | 54.2070862754 |  7   |\n",
      "| CC201903101 |   6_0   | 54.1603873703 |  8   |\n",
      "| CC201903101 |   4_10  | 54.1371328943 |  9   |\n",
      "| CC201903101 |   2_15  | 54.0712472577 |  10  |\n",
      "+-------------+---------+---------------+------+\n",
      "[5640 rows x 4 columns]\n",
      "\n"
     ]
    },
    {
     "data": {
      "text/html": [
       "<pre>+-------------------------------------+------------------+-----------------+</pre>"
      ],
      "text/plain": [
       "+-------------------------------------+------------------+-----------------+"
      ]
     },
     "metadata": {},
     "output_type": "display_data"
    },
    {
     "data": {
      "text/html": [
       "<pre>Finalizing lookup tables.</pre>"
      ],
      "text/plain": [
       "Finalizing lookup tables."
      ]
     },
     "metadata": {},
     "output_type": "display_data"
    },
    {
     "data": {
      "text/html": [
       "<pre>Generating candidate set for working with new users.</pre>"
      ],
      "text/plain": [
       "Generating candidate set for working with new users."
      ]
     },
     "metadata": {},
     "output_type": "display_data"
    },
    {
     "data": {
      "text/html": [
       "<pre>Finished training in 0.407191s</pre>"
      ],
      "text/plain": [
       "Finished training in 0.407191s"
      ]
     },
     "metadata": {},
     "output_type": "display_data"
    }
   ],
   "source": [
    "# Collaborative Filtering Model - Pearson similarity\n",
    "\n",
    "name = 'pearson'\n",
    "target = 'Duration'\n",
    "pear = model(train_data, name, user_id, item_id, target, users_to_recommend, n_rec, n_display)"
   ]
  },
  {
   "cell_type": "code",
   "execution_count": 38,
   "metadata": {
    "collapsed": false,
    "deletable": true,
    "editable": true
   },
   "outputs": [
    {
     "name": "stdout",
     "output_type": "stream",
     "text": [
      "PROGRESS: Evaluate model Popularity Model on Click Duration\n"
     ]
    },
    {
     "data": {
      "text/html": [
       "<pre>recommendations finished on 1000/1436 queries. users per second: 75901.3</pre>"
      ],
      "text/plain": [
       "recommendations finished on 1000/1436 queries. users per second: 75901.3"
      ]
     },
     "metadata": {},
     "output_type": "display_data"
    },
    {
     "name": "stdout",
     "output_type": "stream",
     "text": [
      "\n",
      "Precision and recall summary statistics by cutoff\n",
      "+--------+----------------+------------------+\n",
      "| cutoff | mean_precision |   mean_recall    |\n",
      "+--------+----------------+------------------+\n",
      "|   1    | 0.122562674095 | 0.00306971181551 |\n",
      "|   2    | 0.12708913649  | 0.00647469810327 |\n",
      "|   3    | 0.211234911792 | 0.0161977820342  |\n",
      "|   4    | 0.246344011142 | 0.0253531988764  |\n",
      "|   5    | 0.269777158774 | 0.0346912084171  |\n",
      "|   6    | 0.283194057567 | 0.0437458093992  |\n",
      "|   7    | 0.296557898926 | 0.0531406721497  |\n",
      "|   8    | 0.305013927577 |  0.062336792465  |\n",
      "|   9    | 0.312674094708 | 0.0716364851583  |\n",
      "|   10   | 0.319359331476 | 0.0813166328221  |\n",
      "+--------+----------------+------------------+\n",
      "[10 rows x 3 columns]\n",
      "\n",
      "\n",
      "Overall RMSE: 48.5127487353\n",
      "\n",
      "Per User RMSE (best)\n",
      "+-----------+-------+---------------+\n",
      "|  Customer | count |      rmse     |\n",
      "+-----------+-------+---------------+\n",
      "| RC7000141 |   9   | 17.3042505948 |\n",
      "+-----------+-------+---------------+\n",
      "[1 rows x 3 columns]\n",
      "\n",
      "\n",
      "Per User RMSE (worst)\n",
      "+-------------+-------+---------------+\n",
      "|   Customer  | count |      rmse     |\n",
      "+-------------+-------+---------------+\n",
      "| CC201905130 |   52  | 182.358674454 |\n",
      "+-------------+-------+---------------+\n",
      "[1 rows x 3 columns]\n",
      "\n",
      "\n",
      "Per Item RMSE (best)\n",
      "+---------+-------+---------------+\n",
      "| Product | count |      rmse     |\n",
      "+---------+-------+---------------+\n",
      "|   0_28  |   60  | 29.4852230714 |\n",
      "+---------+-------+---------------+\n",
      "[1 rows x 3 columns]\n",
      "\n",
      "\n",
      "Per Item RMSE (worst)\n",
      "+---------+-------+--------------+\n",
      "| Product | count |     rmse     |\n",
      "+---------+-------+--------------+\n",
      "|   3_2   |  195  | 62.276644671 |\n",
      "+---------+-------+--------------+\n",
      "[1 rows x 3 columns]\n",
      "\n",
      "PROGRESS: Evaluate model Cosine Similarity on Click Duration\n"
     ]
    },
    {
     "data": {
      "text/html": [
       "<pre>recommendations finished on 1000/1436 queries. users per second: 28219.1</pre>"
      ],
      "text/plain": [
       "recommendations finished on 1000/1436 queries. users per second: 28219.1"
      ]
     },
     "metadata": {},
     "output_type": "display_data"
    },
    {
     "name": "stdout",
     "output_type": "stream",
     "text": [
      "\n",
      "Precision and recall summary statistics by cutoff\n",
      "+--------+----------------+------------------+\n",
      "| cutoff | mean_precision |   mean_recall    |\n",
      "+--------+----------------+------------------+\n",
      "|   1    | 0.327994428969 | 0.00865654812839 |\n",
      "|   2    | 0.300835654596 | 0.0166682993959  |\n",
      "|   3    | 0.305246053853 | 0.0256119608563  |\n",
      "|   4    | 0.312674094708 |  0.034383063043  |\n",
      "|   5    | 0.323398328691 |  0.043940685616  |\n",
      "|   6    | 0.33286908078  | 0.0539656451829  |\n",
      "|   7    | 0.339037007561 | 0.0629904330081  |\n",
      "|   8    | 0.343662952646 | 0.0720706764197  |\n",
      "|   9    | 0.348653667595 | 0.0817051533343  |\n",
      "|   10   | 0.35069637883  | 0.0913664014689  |\n",
      "+--------+----------------+------------------+\n",
      "[10 rows x 3 columns]\n",
      "\n",
      "\n",
      "Overall RMSE: 67.3593676706\n",
      "\n",
      "Per User RMSE (best)\n",
      "+-----------+-------+---------------+\n",
      "|  Customer | count |      rmse     |\n",
      "+-----------+-------+---------------+\n",
      "| RC6959525 |   3   | 3.37656498624 |\n",
      "+-----------+-------+---------------+\n",
      "[1 rows x 3 columns]\n",
      "\n",
      "\n",
      "Per User RMSE (worst)\n",
      "+-------------+-------+---------------+\n",
      "|   Customer  | count |      rmse     |\n",
      "+-------------+-------+---------------+\n",
      "| CC201905130 |   52  | 224.540383378 |\n",
      "+-------------+-------+---------------+\n",
      "[1 rows x 3 columns]\n",
      "\n",
      "\n",
      "Per Item RMSE (best)\n",
      "+---------+-------+---------------+\n",
      "| Product | count |      rmse     |\n",
      "+---------+-------+---------------+\n",
      "|   0_28  |   60  | 49.0409999134 |\n",
      "+---------+-------+---------------+\n",
      "[1 rows x 3 columns]\n",
      "\n",
      "\n",
      "Per Item RMSE (worst)\n",
      "+---------+-------+---------------+\n",
      "| Product | count |      rmse     |\n",
      "+---------+-------+---------------+\n",
      "|   3_2   |  195  | 81.1215655996 |\n",
      "+---------+-------+---------------+\n",
      "[1 rows x 3 columns]\n",
      "\n",
      "PROGRESS: Evaluate model Pearson Similarity on Click Duration\n"
     ]
    },
    {
     "data": {
      "text/html": [
       "<pre>recommendations finished on 1000/1436 queries. users per second: 24431.4</pre>"
      ],
      "text/plain": [
       "recommendations finished on 1000/1436 queries. users per second: 24431.4"
      ]
     },
     "metadata": {},
     "output_type": "display_data"
    },
    {
     "name": "stdout",
     "output_type": "stream",
     "text": [
      "\n",
      "Precision and recall summary statistics by cutoff\n",
      "+--------+----------------+------------------+\n",
      "| cutoff | mean_precision |   mean_recall    |\n",
      "+--------+----------------+------------------+\n",
      "|   1    | 0.24651810585  | 0.00551948679498 |\n",
      "|   2    | 0.243036211699 | 0.0108815887417  |\n",
      "|   3    | 0.262999071495 | 0.0178321064146  |\n",
      "|   4    | 0.275766016713 | 0.0248559919287  |\n",
      "|   5    | 0.289972144847 | 0.0331445606643  |\n",
      "|   6    | 0.300951717734 | 0.0420003938706  |\n",
      "|   7    | 0.309689614007 | 0.0510143410369  |\n",
      "|   8    | 0.317896935933 | 0.0607266223435  |\n",
      "|   9    | 0.322810275457 | 0.0697264369983  |\n",
      "|   10   | 0.325348189415 | 0.0782961235013  |\n",
      "+--------+----------------+------------------+\n",
      "[10 rows x 3 columns]\n",
      "\n",
      "\n",
      "Overall RMSE: 45.662402753\n",
      "\n",
      "Per User RMSE (best)\n",
      "+-----------+-------+---------------+\n",
      "|  Customer | count |      rmse     |\n",
      "+-----------+-------+---------------+\n",
      "| RC7000141 |   9   | 16.0501072159 |\n",
      "+-----------+-------+---------------+\n",
      "[1 rows x 3 columns]\n",
      "\n",
      "\n",
      "Per User RMSE (worst)\n",
      "+-------------+-------+---------------+\n",
      "|   Customer  | count |      rmse     |\n",
      "+-------------+-------+---------------+\n",
      "| CC201905130 |   52  | 173.522733996 |\n",
      "+-------------+-------+---------------+\n",
      "[1 rows x 3 columns]\n",
      "\n",
      "\n",
      "Per Item RMSE (best)\n",
      "+---------+-------+---------------+\n",
      "| Product | count |      rmse     |\n",
      "+---------+-------+---------------+\n",
      "|   0_28  |   60  | 29.1248408629 |\n",
      "+---------+-------+---------------+\n",
      "[1 rows x 3 columns]\n",
      "\n",
      "\n",
      "Per Item RMSE (worst)\n",
      "+---------+-------+---------------+\n",
      "| Product | count |      rmse     |\n",
      "+---------+-------+---------------+\n",
      "|   3_2   |  195  | 61.5244795542 |\n",
      "+---------+-------+---------------+\n",
      "[1 rows x 3 columns]\n",
      "\n"
     ]
    }
   ],
   "source": [
    "# Model Evaluation\n",
    "\n",
    "models_w_counts = [popularity, cos, pear]\n",
    "names_w_counts = ['Popularity Model on Click Duration', 'Cosine Similarity on Click Duration', 'Pearson Similarity on Click Duration']\n",
    "\n",
    "# compare all the models we have built based on RMSE and precision-recall\n",
    "eval_counts = tc.recommender.util.compare_models(test_data, models_w_counts, model_names=names_w_counts)"
   ]
  },
  {
   "cell_type": "code",
   "execution_count": 39,
   "metadata": {
    "collapsed": false,
    "deletable": true,
    "editable": true
   },
   "outputs": [
    {
     "data": {
      "text/html": [
       "<pre>Preparing data set.</pre>"
      ],
      "text/plain": [
       "Preparing data set."
      ]
     },
     "metadata": {},
     "output_type": "display_data"
    },
    {
     "data": {
      "text/html": [
       "<pre>    Data has 178122 observations with 1436 users and 235 items.</pre>"
      ],
      "text/plain": [
       "    Data has 178122 observations with 1436 users and 235 items."
      ]
     },
     "metadata": {},
     "output_type": "display_data"
    },
    {
     "data": {
      "text/html": [
       "<pre>    Data prepared in: 0.339727s</pre>"
      ],
      "text/plain": [
       "    Data prepared in: 0.339727s"
      ]
     },
     "metadata": {},
     "output_type": "display_data"
    },
    {
     "data": {
      "text/html": [
       "<pre>Training model from provided data.</pre>"
      ],
      "text/plain": [
       "Training model from provided data."
      ]
     },
     "metadata": {},
     "output_type": "display_data"
    },
    {
     "data": {
      "text/html": [
       "<pre>Gathering per-item and per-user statistics.</pre>"
      ],
      "text/plain": [
       "Gathering per-item and per-user statistics."
      ]
     },
     "metadata": {},
     "output_type": "display_data"
    },
    {
     "data": {
      "text/html": [
       "<pre>+--------------------------------+------------+</pre>"
      ],
      "text/plain": [
       "+--------------------------------+------------+"
      ]
     },
     "metadata": {},
     "output_type": "display_data"
    },
    {
     "data": {
      "text/html": [
       "<pre>| Elapsed Time (Item Statistics) | % Complete |</pre>"
      ],
      "text/plain": [
       "| Elapsed Time (Item Statistics) | % Complete |"
      ]
     },
     "metadata": {},
     "output_type": "display_data"
    },
    {
     "data": {
      "text/html": [
       "<pre>+--------------------------------+------------+</pre>"
      ],
      "text/plain": [
       "+--------------------------------+------------+"
      ]
     },
     "metadata": {},
     "output_type": "display_data"
    },
    {
     "data": {
      "text/html": [
       "<pre>| 3.448ms                        | 69.5       |</pre>"
      ],
      "text/plain": [
       "| 3.448ms                        | 69.5       |"
      ]
     },
     "metadata": {},
     "output_type": "display_data"
    },
    {
     "data": {
      "text/html": [
       "<pre>| 4.929ms                        | 100        |</pre>"
      ],
      "text/plain": [
       "| 4.929ms                        | 100        |"
      ]
     },
     "metadata": {},
     "output_type": "display_data"
    },
    {
     "data": {
      "text/html": [
       "<pre>+--------------------------------+------------+</pre>"
      ],
      "text/plain": [
       "+--------------------------------+------------+"
      ]
     },
     "metadata": {},
     "output_type": "display_data"
    },
    {
     "data": {
      "text/html": [
       "<pre>Setting up lookup tables.</pre>"
      ],
      "text/plain": [
       "Setting up lookup tables."
      ]
     },
     "metadata": {},
     "output_type": "display_data"
    },
    {
     "data": {
      "text/html": [
       "<pre>Processing data in one pass using dense lookup tables.</pre>"
      ],
      "text/plain": [
       "Processing data in one pass using dense lookup tables."
      ]
     },
     "metadata": {},
     "output_type": "display_data"
    },
    {
     "data": {
      "text/html": [
       "<pre>+-------------------------------------+------------------+-----------------+</pre>"
      ],
      "text/plain": [
       "+-------------------------------------+------------------+-----------------+"
      ]
     },
     "metadata": {},
     "output_type": "display_data"
    },
    {
     "data": {
      "text/html": [
       "<pre>| Elapsed Time (Constructing Lookups) | Total % Complete | Items Processed |</pre>"
      ],
      "text/plain": [
       "| Elapsed Time (Constructing Lookups) | Total % Complete | Items Processed |"
      ]
     },
     "metadata": {},
     "output_type": "display_data"
    },
    {
     "data": {
      "text/html": [
       "<pre>+-------------------------------------+------------------+-----------------+</pre>"
      ],
      "text/plain": [
       "+-------------------------------------+------------------+-----------------+"
      ]
     },
     "metadata": {},
     "output_type": "display_data"
    },
    {
     "data": {
      "text/html": [
       "<pre>| 6.015ms                             | 0                | 0               |</pre>"
      ],
      "text/plain": [
       "| 6.015ms                             | 0                | 0               |"
      ]
     },
     "metadata": {},
     "output_type": "display_data"
    },
    {
     "data": {
      "text/html": [
       "<pre>| 138.115ms                           | 100              | 235             |</pre>"
      ],
      "text/plain": [
       "| 138.115ms                           | 100              | 235             |"
      ]
     },
     "metadata": {},
     "output_type": "display_data"
    },
    {
     "data": {
      "text/html": [
       "<pre>+-------------------------------------+------------------+-----------------+</pre>"
      ],
      "text/plain": [
       "+-------------------------------------+------------------+-----------------+"
      ]
     },
     "metadata": {},
     "output_type": "display_data"
    },
    {
     "name": "stdout",
     "output_type": "stream",
     "text": [
      "+-------------+---------+---------------+------+\n",
      "|   Customer  | Product |     score     | rank |\n",
      "+-------------+---------+---------------+------+\n",
      "|  CC20190310 |   5_28  | 14.4362423179 |  1   |\n",
      "|  CC20190310 |   1_7   | 13.6939289955 |  2   |\n",
      "|  CC20190310 |   1_25  |  13.089405558 |  3   |\n",
      "|  CC20190310 |   1_27  | 11.5935009918 |  4   |\n",
      "|  CC20190310 |   4_29  | 9.26696092528 |  5   |\n",
      "|  CC20190310 |   1_21  | 8.84142201584 |  6   |\n",
      "|  CC20190310 |   6_27  |  8.6192780941 |  7   |\n",
      "|  CC20190310 |   7_29  | 8.56741336584 |  8   |\n",
      "|  CC20190310 |   4_5   | 8.45890017609 |  9   |\n",
      "|  CC20190310 |   7_21  | 7.87894510003 |  10  |\n",
      "| CC201903100 |   1_25  | 27.1173051024 |  1   |\n",
      "| CC201903100 |   5_28  | 23.4523337588 |  2   |\n",
      "| CC201903100 |   1_27  | 19.9371107027 |  3   |\n",
      "| CC201903100 |   4_29  | 17.5181095791 |  4   |\n",
      "| CC201903100 |   7_29  |  13.44845051  |  5   |\n",
      "| CC201903100 |   7_27  | 12.0275822301 |  6   |\n",
      "| CC201903100 |   1_26  | 9.62542655983 |  7   |\n",
      "| CC201903100 |   0_27  | 9.24866342303 |  8   |\n",
      "| CC201903100 |   0_6   | 9.07667568648 |  9   |\n",
      "| CC201903100 |   5_27  | 9.00619512635 |  10  |\n",
      "| CC201903101 |   3_18  | 18.1068809519 |  1   |\n",
      "| CC201903101 |   2_19  | 13.7853984201 |  2   |\n",
      "| CC201903101 |   1_25  | 13.1004121041 |  3   |\n",
      "| CC201903101 |   5_6   | 12.6077264669 |  4   |\n",
      "| CC201903101 |   2_12  | 11.7164153696 |  5   |\n",
      "| CC201903101 |   4_14  | 9.53896999398 |  6   |\n",
      "| CC201903101 |   2_17  |  9.4824880291 |  7   |\n",
      "| CC201903101 |   1_16  |  8.5951462541 |  8   |\n",
      "| CC201903101 |   6_13  | 7.80111783272 |  9   |\n",
      "| CC201903101 |   1_7   | 7.49517736074 |  10  |\n",
      "+-------------+---------+---------------+------+\n",
      "[5640 rows x 4 columns]\n",
      "\n"
     ]
    },
    {
     "data": {
      "text/html": [
       "<pre>Finalizing lookup tables.</pre>"
      ],
      "text/plain": [
       "Finalizing lookup tables."
      ]
     },
     "metadata": {},
     "output_type": "display_data"
    },
    {
     "data": {
      "text/html": [
       "<pre>Generating candidate set for working with new users.</pre>"
      ],
      "text/plain": [
       "Generating candidate set for working with new users."
      ]
     },
     "metadata": {},
     "output_type": "display_data"
    },
    {
     "data": {
      "text/html": [
       "<pre>Finished training in 0.168775s</pre>"
      ],
      "text/plain": [
       "Finished training in 0.168775s"
      ]
     },
     "metadata": {},
     "output_type": "display_data"
    }
   ],
   "source": [
    "# Final Output (cosine model seems to give best results)\n",
    "\n",
    "final_model = tc.item_similarity_recommender.create(tc.SFrame(orig_data), \n",
    "                                            user_id=user_id, \n",
    "                                            item_id=item_id, \n",
    "                                            target='Duration', similarity_type='cosine')\n",
    "recom = final_model.recommend(users=users_to_recommend, k=n_rec)\n",
    "recom.print_rows(n_display)"
   ]
  }
 ],
 "metadata": {
  "kernelspec": {
   "display_name": "Python 3",
   "language": "python",
   "name": "python3"
  },
  "language_info": {
   "codemirror_mode": {
    "name": "ipython",
    "version": 3
   },
   "file_extension": ".py",
   "mimetype": "text/x-python",
   "name": "python",
   "nbconvert_exporter": "python",
   "pygments_lexer": "ipython3",
   "version": "3.5.2"
  }
 },
 "nbformat": 4,
 "nbformat_minor": 2
}
