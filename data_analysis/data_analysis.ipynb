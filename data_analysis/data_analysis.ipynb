{
 "cells": [
  {
   "cell_type": "markdown",
   "metadata": {},
   "source": [
    "## Import modules"
   ]
  },
  {
   "cell_type": "code",
   "execution_count": 1,
   "metadata": {
    "collapsed": true,
    "deletable": true,
    "editable": true
   },
   "outputs": [],
   "source": [
    "import pandas as pd\n",
    "import sqlite3"
   ]
  },
  {
   "cell_type": "markdown",
   "metadata": {
    "deletable": true,
    "editable": true
   },
   "source": [
    "### Load data"
   ]
  },
  {
   "cell_type": "code",
   "execution_count": 2,
   "metadata": {
    "collapsed": false,
    "deletable": true,
    "editable": true
   },
   "outputs": [
    {
     "name": "stdout",
     "output_type": "stream",
     "text": [
      "(576278, 3)\n"
     ]
    }
   ],
   "source": [
    "# Load the data from all .sqlite files in one dataframe for further analysis and manipulation \n",
    "\n",
    "months = {3:'March', 4:'April', 5:'May'}\n",
    "\n",
    "month_df = pd.DataFrame()\n",
    "\n",
    "for k,v in months.items():\n",
    "    for i in range(1,31+k%2,1):\n",
    "        cnx = sqlite3.connect(r'../Data'+'//'+ v+'//2019_' + v + '_' + str(i)+'.sqlite')\n",
    "        df1 = pd.read_sql('select * from Data',cnx)\n",
    "        cnx.close()\n",
    "        # add a column to indicate the day\n",
    "        df1['Day'] = str(i)\n",
    "        # add a column to indicate the month\n",
    "        df1['Month'] = str(k)\n",
    "        month_df = month_df.append(df1)\n",
    "\n",
    "print(month_df.shape)"
   ]
  },
  {
   "cell_type": "code",
   "execution_count": 3,
   "metadata": {
    "collapsed": true,
    "deletable": true,
    "editable": true
   },
   "outputs": [],
   "source": [
    "df = month_df\n",
    "\n",
    "# split the information from the Sess_Info column\n",
    "df[['Customer', 'Item', 'Category', 'SecNum', 'Sec']] = month_df['Sess_Info'].str.split('_',expand=True)\n",
    "\n",
    "# columns Sec and Sess_Info are of no use\n",
    "df = df.drop('Sec',axis=1)\n",
    "df = df.drop('Sess_Info',axis=1)\n",
    "\n",
    "# remove the prefix 'item' from column Item and the prefix 'cat' from column Category\n",
    "df = df.apply(lambda S:S.str.strip('item'))\n",
    "df = df.apply(lambda S:S.str.replace('cat',''))\n",
    "\n",
    "# add a column with the Number of seconds as floats for later use\n",
    "df['SecNumF'] = df['SecNum'].astype(float)"
   ]
  },
  {
   "cell_type": "code",
   "execution_count": 4,
   "metadata": {
    "collapsed": false,
    "deletable": true,
    "editable": true
   },
   "outputs": [
    {
     "name": "stdout",
     "output_type": "stream",
     "text": [
      "(576278, 7)\n"
     ]
    },
    {
     "data": {
      "text/plain": [
       "Index(['Day', 'Month', 'Customer', 'Item', 'Category', 'SecNum', 'SecNumF'], dtype='object')"
      ]
     },
     "execution_count": 4,
     "metadata": {},
     "output_type": "execute_result"
    }
   ],
   "source": [
    "print(df.shape)\n",
    "#df.info()\n",
    "#df.describe()\n",
    "df.columns"
   ]
  },
  {
   "cell_type": "markdown",
   "metadata": {
    "deletable": true,
    "editable": true
   },
   "source": [
    "### Data Analysis"
   ]
  },
  {
   "cell_type": "markdown",
   "metadata": {
    "deletable": true,
    "editable": true
   },
   "source": [
    "#### What was the most popular item category in our online shop in: March"
   ]
  },
  {
   "cell_type": "code",
   "execution_count": 5,
   "metadata": {
    "collapsed": false,
    "deletable": true,
    "editable": true
   },
   "outputs": [
    {
     "data": {
      "text/plain": [
       "2    25520\n",
       "Name: Category, dtype: int64"
      ]
     },
     "execution_count": 5,
     "metadata": {},
     "output_type": "execute_result"
    }
   ],
   "source": [
    "df[(df['Month']=='1')]['Category'].value_counts().sort_values(ascending=False).head(1)"
   ]
  },
  {
   "cell_type": "markdown",
   "metadata": {
    "deletable": true,
    "editable": true
   },
   "source": [
    "#### What was the most popular item category in our online shop in: April"
   ]
  },
  {
   "cell_type": "code",
   "execution_count": 6,
   "metadata": {
    "collapsed": false,
    "deletable": true,
    "editable": true
   },
   "outputs": [
    {
     "data": {
      "text/plain": [
       "4    27876\n",
       "Name: Category, dtype: int64"
      ]
     },
     "execution_count": 6,
     "metadata": {},
     "output_type": "execute_result"
    }
   ],
   "source": [
    "df[(df['Month']=='2')]['Category'].value_counts().sort_values(ascending=False).head(1)"
   ]
  },
  {
   "cell_type": "markdown",
   "metadata": {
    "deletable": true,
    "editable": true
   },
   "source": [
    "#### What was the most popular item category in our online shop in: May"
   ]
  },
  {
   "cell_type": "code",
   "execution_count": 7,
   "metadata": {
    "collapsed": false,
    "deletable": true,
    "editable": true
   },
   "outputs": [
    {
     "data": {
      "text/plain": [
       "0    25584\n",
       "Name: Category, dtype: int64"
      ]
     },
     "execution_count": 7,
     "metadata": {},
     "output_type": "execute_result"
    }
   ],
   "source": [
    "df[(df['Month']=='3')]['Category'].value_counts().sort_values(ascending=False).head(1)"
   ]
  },
  {
   "cell_type": "markdown",
   "metadata": {
    "deletable": true,
    "editable": true
   },
   "source": [
    "#### What was the most popular item category in our online shop in: Overall"
   ]
  },
  {
   "cell_type": "code",
   "execution_count": 8,
   "metadata": {
    "collapsed": false,
    "deletable": true,
    "editable": true
   },
   "outputs": [
    {
     "data": {
      "text/plain": [
       "3    75499\n",
       "Name: Category, dtype: int64"
      ]
     },
     "execution_count": 8,
     "metadata": {},
     "output_type": "execute_result"
    }
   ],
   "source": [
    "df['Category'].value_counts().sort_values(ascending=False).head(1)"
   ]
  },
  {
   "cell_type": "markdown",
   "metadata": {
    "deletable": true,
    "editable": true
   },
   "source": [
    "#### What are the top 5 items customers were interested in ?"
   ]
  },
  {
   "cell_type": "code",
   "execution_count": 9,
   "metadata": {
    "collapsed": false,
    "deletable": true,
    "editable": true
   },
   "outputs": [
    {
     "data": {
      "text/plain": [
       "Item  Category\n",
       "23    2           2759\n",
       "0     1           2733\n",
       "25    3           2733\n",
       "10    2           2729\n",
       "15    1           2724\n",
       "dtype: int64"
      ]
     },
     "execution_count": 9,
     "metadata": {},
     "output_type": "execute_result"
    }
   ],
   "source": [
    "# I will group by item and category, since different categories can have items with the same item number\n",
    "\n",
    "res = df.groupby(['Item', 'Category']).size().sort_values(ascending=False).head(5)\n",
    "res"
   ]
  },
  {
   "cell_type": "markdown",
   "metadata": {
    "deletable": true,
    "editable": true
   },
   "source": [
    "#### What was an average time they spent on one item/click?"
   ]
  },
  {
   "cell_type": "code",
   "execution_count": 10,
   "metadata": {
    "collapsed": false,
    "deletable": true,
    "editable": true
   },
   "outputs": [
    {
     "name": "stdout",
     "output_type": "stream",
     "text": [
      "16.492574764263082\n"
     ]
    }
   ],
   "source": [
    "print(df['SecNumF'].mean())"
   ]
  },
  {
   "cell_type": "markdown",
   "metadata": {
    "deletable": true,
    "editable": true
   },
   "source": [
    "#### Assuming that interested customer spent more than 10 sec on the item, what was the most and least popular item in March?"
   ]
  },
  {
   "cell_type": "code",
   "execution_count": 11,
   "metadata": {
    "collapsed": false,
    "deletable": true,
    "editable": true
   },
   "outputs": [
    {
     "name": "stdout",
     "output_type": "stream",
     "text": [
      "Item  Category\n",
      "10    2           665\n",
      "dtype: int64\n",
      "Item  Category\n",
      "22    4           545\n",
      "dtype: int64\n"
     ]
    }
   ],
   "source": [
    "pop1 = df[(df['SecNumF'] > 10.0) & (df['Month'] == '1')].groupby(['Item', 'Category']).size().sort_values(ascending=False)\n",
    "print(pop1.head(1))  # most popular\n",
    "print(pop1.tail(1))  # least popular"
   ]
  },
  {
   "cell_type": "markdown",
   "metadata": {
    "deletable": true,
    "editable": true
   },
   "source": [
    "#### Assuming that interested customer spent more than 10 sec on the item, what was the most and least popular item in April?"
   ]
  },
  {
   "cell_type": "code",
   "execution_count": 12,
   "metadata": {
    "collapsed": false,
    "deletable": true,
    "editable": true
   },
   "outputs": [
    {
     "name": "stdout",
     "output_type": "stream",
     "text": [
      "Item  Category\n",
      "8     1           729\n",
      "dtype: int64\n",
      "Item  Category\n",
      "11    5           588\n",
      "dtype: int64\n"
     ]
    }
   ],
   "source": [
    "pop2 = df[(df['SecNumF'] > 10.0) & (df['Month'] == '2')].groupby(['Item', 'Category']).size().sort_values(ascending=False)\n",
    "print(pop2.head(1))\n",
    "print(pop2.tail(1))"
   ]
  },
  {
   "cell_type": "markdown",
   "metadata": {
    "deletable": true,
    "editable": true
   },
   "source": [
    "#### Assuming that interested customer spent more than 10 sec on the item, what was the most and least popular item in May?"
   ]
  },
  {
   "cell_type": "code",
   "execution_count": 13,
   "metadata": {
    "collapsed": false,
    "deletable": true,
    "editable": true
   },
   "outputs": [
    {
     "name": "stdout",
     "output_type": "stream",
     "text": [
      "Item  Category\n",
      "18    0           660\n",
      "dtype: int64\n",
      "Item  Category\n",
      "24    7           542\n",
      "dtype: int64\n"
     ]
    }
   ],
   "source": [
    "pop3 = df[(df['SecNumF'] > 10.0) & (df['Month'] == '3')].groupby(['Item', 'Category']).size().sort_values(ascending=False)\n",
    "print(pop3.head(1))\n",
    "print(pop3.tail(1))"
   ]
  },
  {
   "cell_type": "markdown",
   "metadata": {
    "deletable": true,
    "editable": true
   },
   "source": [
    "#### Assuming that interested customer spent more than 10 sec on the item, what was the most and least popular item overall?"
   ]
  },
  {
   "cell_type": "code",
   "execution_count": 14,
   "metadata": {
    "collapsed": false,
    "deletable": true,
    "editable": true
   },
   "outputs": [
    {
     "name": "stdout",
     "output_type": "stream",
     "text": [
      "Item  Category\n",
      "7     7           1987\n",
      "dtype: int64\n",
      "Item  Category\n",
      "28    5           554\n",
      "dtype: int64\n"
     ]
    }
   ],
   "source": [
    "pop4 = df[df['SecNumF'] > 10.0].groupby(['Item', 'Category']).size().sort_values(ascending=False)\n",
    "print(pop4.head(1))\n",
    "print(pop4.tail(1))"
   ]
  },
  {
   "cell_type": "markdown",
   "metadata": {
    "deletable": true,
    "editable": true
   },
   "source": [
    "#### Please find the top 3 categories and the 5 clients (if applicable) who would be the best bet to offer new products from those categories."
   ]
  },
  {
   "cell_type": "code",
   "execution_count": 15,
   "metadata": {
    "collapsed": false,
    "deletable": true,
    "editable": true
   },
   "outputs": [
    {
     "data": {
      "text/html": [
       "<div>\n",
       "<style scoped>\n",
       "    .dataframe tbody tr th:only-of-type {\n",
       "        vertical-align: middle;\n",
       "    }\n",
       "\n",
       "    .dataframe tbody tr th {\n",
       "        vertical-align: top;\n",
       "    }\n",
       "\n",
       "    .dataframe thead th {\n",
       "        text-align: right;\n",
       "    }\n",
       "</style>\n",
       "<table border=\"1\" class=\"dataframe\">\n",
       "  <thead>\n",
       "    <tr style=\"text-align: right;\">\n",
       "      <th></th>\n",
       "      <th>SecNumF</th>\n",
       "    </tr>\n",
       "    <tr>\n",
       "      <th>Category</th>\n",
       "      <th></th>\n",
       "    </tr>\n",
       "  </thead>\n",
       "  <tbody>\n",
       "    <tr>\n",
       "      <th>3</th>\n",
       "      <td>1103909.0</td>\n",
       "    </tr>\n",
       "    <tr>\n",
       "      <th>2</th>\n",
       "      <td>1074740.0</td>\n",
       "    </tr>\n",
       "    <tr>\n",
       "      <th>4</th>\n",
       "      <td>1069950.0</td>\n",
       "    </tr>\n",
       "  </tbody>\n",
       "</table>\n",
       "</div>"
      ],
      "text/plain": [
       "            SecNumF\n",
       "Category           \n",
       "3         1103909.0\n",
       "2         1074740.0\n",
       "4         1069950.0"
      ]
     },
     "execution_count": 15,
     "metadata": {},
     "output_type": "execute_result"
    }
   ],
   "source": [
    "# I will filter only the clicks with > 10 secs. Then I will calculate the top 3 categories \n",
    "# (with the highest sum of secs of all items per category)\n",
    "\n",
    "t = df[df['SecNumF'] > 10.0].groupby(['Category']).sum().sort_values(by='SecNumF', ascending=False).head(3)\n",
    "t"
   ]
  },
  {
   "cell_type": "code",
   "execution_count": 21,
   "metadata": {
    "collapsed": true,
    "deletable": true,
    "editable": true
   },
   "outputs": [],
   "source": [
    "# I will calculate the top 10 Customers with the highest sum of seconds in items of category 3 (only for clicks with > 10 secs)\n",
    "\n",
    "cust1 = df[(df['Category']=='3')& (df['SecNumF'] > 10.0)].groupby(['Customer']).sum().sort_values(by='SecNumF', ascending=False).head(10)"
   ]
  },
  {
   "cell_type": "code",
   "execution_count": 22,
   "metadata": {
    "collapsed": true,
    "deletable": true,
    "editable": true
   },
   "outputs": [],
   "source": [
    "# I will calculate the top 10 Customers with the highest sum of seconds in items of category 2 (only for clicks with > 10 secs)\n",
    "\n",
    "cust2 = df[(df['Category']=='2')& (df['SecNumF'] > 10.0)].groupby(['Customer']).sum().sort_values(by='SecNumF', ascending=False).head(10)"
   ]
  },
  {
   "cell_type": "code",
   "execution_count": 23,
   "metadata": {
    "collapsed": true,
    "deletable": true,
    "editable": true
   },
   "outputs": [],
   "source": [
    "# I will calculate the top 10 Customers with the highest sum of seconds in items of category 4 (only for clicks with > 10 secs)\n",
    "\n",
    "cust3 = df[(df['Category']=='4')& (df['SecNumF'] > 10.0)].groupby(['Customer']).sum().sort_values(by='SecNumF', ascending=False).head(10)"
   ]
  },
  {
   "cell_type": "code",
   "execution_count": null,
   "metadata": {
    "collapsed": true,
    "deletable": true,
    "editable": true
   },
   "outputs": [],
   "source": [
    "# I will find the customers that are common in the three categories and have the highest sums of seconds"
   ]
  },
  {
   "cell_type": "code",
   "execution_count": 24,
   "metadata": {
    "collapsed": true,
    "deletable": true,
    "editable": true
   },
   "outputs": [],
   "source": [
    "c1 = pd.merge(cust1, cust2, how='inner', on=['Customer']).sort_values(by=['SecNumF_x', 'SecNumF_y'],ascending=False)"
   ]
  },
  {
   "cell_type": "code",
   "execution_count": 25,
   "metadata": {
    "collapsed": false,
    "deletable": true,
    "editable": true
   },
   "outputs": [
    {
     "data": {
      "text/html": [
       "<div>\n",
       "<style scoped>\n",
       "    .dataframe tbody tr th:only-of-type {\n",
       "        vertical-align: middle;\n",
       "    }\n",
       "\n",
       "    .dataframe tbody tr th {\n",
       "        vertical-align: top;\n",
       "    }\n",
       "\n",
       "    .dataframe thead th {\n",
       "        text-align: right;\n",
       "    }\n",
       "</style>\n",
       "<table border=\"1\" class=\"dataframe\">\n",
       "  <thead>\n",
       "    <tr style=\"text-align: right;\">\n",
       "      <th></th>\n",
       "      <th>SecNumF_x</th>\n",
       "      <th>SecNumF_y</th>\n",
       "      <th>SecNumF</th>\n",
       "    </tr>\n",
       "    <tr>\n",
       "      <th>Customer</th>\n",
       "      <th></th>\n",
       "      <th></th>\n",
       "      <th></th>\n",
       "    </tr>\n",
       "  </thead>\n",
       "  <tbody>\n",
       "    <tr>\n",
       "      <th>CC20190337</th>\n",
       "      <td>5759.0</td>\n",
       "      <td>5860.0</td>\n",
       "      <td>4877.0</td>\n",
       "    </tr>\n",
       "    <tr>\n",
       "      <th>CC201905130</th>\n",
       "      <td>5002.0</td>\n",
       "      <td>5384.0</td>\n",
       "      <td>5322.0</td>\n",
       "    </tr>\n",
       "    <tr>\n",
       "      <th>CC201903236</th>\n",
       "      <td>4789.0</td>\n",
       "      <td>5132.0</td>\n",
       "      <td>4657.0</td>\n",
       "    </tr>\n",
       "    <tr>\n",
       "      <th>CC201904171</th>\n",
       "      <td>4684.0</td>\n",
       "      <td>5576.0</td>\n",
       "      <td>5282.0</td>\n",
       "    </tr>\n",
       "    <tr>\n",
       "      <th>CC201903184</th>\n",
       "      <td>4671.0</td>\n",
       "      <td>4487.0</td>\n",
       "      <td>4528.0</td>\n",
       "    </tr>\n",
       "  </tbody>\n",
       "</table>\n",
       "</div>"
      ],
      "text/plain": [
       "             SecNumF_x  SecNumF_y  SecNumF\n",
       "Customer                                  \n",
       "CC20190337      5759.0     5860.0   4877.0\n",
       "CC201905130     5002.0     5384.0   5322.0\n",
       "CC201903236     4789.0     5132.0   4657.0\n",
       "CC201904171     4684.0     5576.0   5282.0\n",
       "CC201903184     4671.0     4487.0   4528.0"
      ]
     },
     "execution_count": 25,
     "metadata": {},
     "output_type": "execute_result"
    }
   ],
   "source": [
    "c2 = pd.merge(c1, cust3, how='inner', on=['Customer']).sort_values(by=['SecNumF_x', 'SecNumF_y', 'SecNumF'],ascending=False).head(5)\n",
    "c2"
   ]
  },
  {
   "cell_type": "markdown",
   "metadata": {
    "deletable": true,
    "editable": true
   },
   "source": [
    "Above are the 5 customers for categories 2, 3 and 4."
   ]
  }
 ],
 "metadata": {
  "kernelspec": {
   "display_name": "Python 3",
   "language": "python",
   "name": "python3"
  },
  "language_info": {
   "codemirror_mode": {
    "name": "ipython",
    "version": 3
   },
   "file_extension": ".py",
   "mimetype": "text/x-python",
   "name": "python",
   "nbconvert_exporter": "python",
   "pygments_lexer": "ipython3",
   "version": "3.5.2"
  }
 },
 "nbformat": 4,
 "nbformat_minor": 2
}
