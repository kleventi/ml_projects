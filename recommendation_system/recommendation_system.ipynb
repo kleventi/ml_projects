{
 "cells": [
  {
   "cell_type": "markdown",
   "metadata": {},
   "source": [
    "In this project, as input data we have some dummy data (in sqlite format) that refer to a three month log of the clicks in a e-shop. The data include customer ids, item and category ids, and the duration (in seconds) that each customer spent when clicking on an item, each time. Regular customers have ids starting with \"CC\" prefix. \n",
    "\n",
    "Using this data, we will create a list where we will recommend ten products to each customer that would most probable interest them. \n",
    "\n",
    "For the recommendation list we will apply different models to the original duration data, the dummy data ('1' if a customer clicked on an item) and the scaled duration data. The models we will use are: content-based popularity model and collaborative filtering (cosine similarity and pearson coefficient) and we will choose the one which gives the best results.\n",
    "\n",
    "In addition, we will recommend the ten most suitable items to a specific given customer.\n",
    "\n",
    "Last, we will produce a list of the customers that would be interested in items of a specific category (e.g. so that they can be informed if the e-shop wishes to promote a new or existing item of this category)."
   ]
  },
  {
   "cell_type": "markdown",
   "metadata": {
    "deletable": true,
    "editable": true
   },
   "source": [
    "## 1. Import modules"
   ]
  },
  {
   "cell_type": "code",
   "execution_count": 1,
   "metadata": {
    "collapsed": true,
    "deletable": true,
    "editable": true
   },
   "outputs": [],
   "source": [
    "import pandas as pd\n",
    "import sqlite3"
   ]
  },
  {
   "cell_type": "code",
   "execution_count": 2,
   "metadata": {
    "collapsed": true,
    "deletable": true,
    "editable": true
   },
   "outputs": [],
   "source": [
    "%reload_ext autoreload\n",
    "%autoreload 2\n",
    "\n",
    "import numpy as np\n",
    "import time\n",
    "import turicreate as tc\n",
    "from sklearn.model_selection import train_test_split\n",
    "\n",
    "import sys\n",
    "sys.path.append(\"..\")"
   ]
  },
  {
   "cell_type": "markdown",
   "metadata": {
    "deletable": true,
    "editable": true
   },
   "source": [
    "## 2. Load data"
   ]
  },
  {
   "cell_type": "code",
   "execution_count": 1,
   "metadata": {
    "collapsed": true,
    "deletable": true,
    "editable": true
   },
   "outputs": [],
   "source": [
    "# Load the data from all .sqlite files in one dataframe for further analysis and manipulation"
   ]
  },
  {
   "cell_type": "code",
   "execution_count": 3,
   "metadata": {
    "collapsed": false,
    "deletable": true,
    "editable": true
   },
   "outputs": [
    {
     "name": "stdout",
     "output_type": "stream",
     "text": [
      "(576278, 3)\n"
     ]
    }
   ],
   "source": [
    "months = {3:'March', 4:'April', 5:'May'}\n",
    "\n",
    "month_df = pd.DataFrame()\n",
    "\n",
    "for k,v in months.items():\n",
    "    for i in range(1,31+k%2,1):\n",
    "        cnx = sqlite3.connect(r'../Data'+'//'+ v+'//2019_' + v + '_' + str(i)+'.sqlite')\n",
    "        #print(r'../Data'+'//'+ v+'//2019_' + v + '_' + str(i)+'.sqlite')\n",
    "        #print(\"Connection Successful\",cnx)\n",
    "        df1 = pd.read_sql('select * from Data',cnx)\n",
    "        cnx.close()\n",
    "        # add a column to indicate the day\n",
    "        df1['Day'] = str(i)\n",
    "        # add a column to indicate the month\n",
    "        df1['Month'] = str(k)\n",
    "        month_df = month_df.append(df1)\n",
    "\n",
    "print(month_df.shape)"
   ]
  },
  {
   "cell_type": "code",
   "execution_count": 4,
   "metadata": {
    "collapsed": true,
    "deletable": true,
    "editable": true
   },
   "outputs": [],
   "source": [
    "df = month_df\n",
    "\n",
    "# split the information from the Sess_Info column\n",
    "df[['Customer', 'Item', 'Category', 'SecNum', 'Sec']] = month_df['Sess_Info'].str.split('_',expand=True)\n",
    "\n",
    "# columns Sec and Sess_Info are of no use\n",
    "df = df.drop('Sec',axis=1)\n",
    "df = df.drop('Sess_Info',axis=1)\n",
    "\n",
    "# remove the prefix 'item' from column Item and the prefix 'cat' from column Category\n",
    "df = df.apply(lambda S:S.str.strip('item'))\n",
    "df = df.apply(lambda S:S.str.replace('cat',''))\n",
    "\n",
    "# add a column with the Number of seconds as floats for later use\n",
    "df['SecNumF'] = df['SecNum'].astype(float)"
   ]
  },
  {
   "cell_type": "code",
   "execution_count": 5,
   "metadata": {
    "collapsed": false,
    "deletable": true,
    "editable": true
   },
   "outputs": [
    {
     "name": "stdout",
     "output_type": "stream",
     "text": [
      "(576278, 7)\n"
     ]
    },
    {
     "data": {
      "text/plain": [
       "Index([u'Day', u'Month', u'Customer', u'Item', u'Category', u'SecNum',\n",
       "       u'SecNumF'],\n",
       "      dtype='object')"
      ]
     },
     "execution_count": 5,
     "metadata": {},
     "output_type": "execute_result"
    }
   ],
   "source": [
    "print(df.shape)\n",
    "#df.info()\n",
    "#df.describe()\n",
    "df.columns\n",
    "#df.head"
   ]
  },
  {
   "cell_type": "markdown",
   "metadata": {
    "deletable": true,
    "editable": true
   },
   "source": [
    "## 3. Data preparation"
   ]
  },
  {
   "cell_type": "markdown",
   "metadata": {
    "deletable": true,
    "editable": true
   },
   "source": [
    "#### 3.1. Create data with user, item, and target field (duration of clicks in seconds"
   ]
  },
  {
   "cell_type": "code",
   "execution_count": 6,
   "metadata": {
    "collapsed": true,
    "deletable": true,
    "editable": true
   },
   "outputs": [],
   "source": [
    "# I will use only the customers, the items, the categories and the number of seconds of each click.\n",
    "\n",
    "df2 = df[['Customer', 'Item', 'Category', 'SecNumF']]"
   ]
  },
  {
   "cell_type": "code",
   "execution_count": 7,
   "metadata": {
    "collapsed": false,
    "deletable": true,
    "editable": true
   },
   "outputs": [
    {
     "data": {
      "text/html": [
       "<div>\n",
       "<style scoped>\n",
       "    .dataframe tbody tr th:only-of-type {\n",
       "        vertical-align: middle;\n",
       "    }\n",
       "\n",
       "    .dataframe tbody tr th {\n",
       "        vertical-align: top;\n",
       "    }\n",
       "\n",
       "    .dataframe thead th {\n",
       "        text-align: right;\n",
       "    }\n",
       "</style>\n",
       "<table border=\"1\" class=\"dataframe\">\n",
       "  <thead>\n",
       "    <tr style=\"text-align: right;\">\n",
       "      <th></th>\n",
       "      <th>Customer</th>\n",
       "      <th>SecNumF</th>\n",
       "      <th>Product</th>\n",
       "    </tr>\n",
       "  </thead>\n",
       "  <tbody>\n",
       "    <tr>\n",
       "      <th>0</th>\n",
       "      <td>CC201903212</td>\n",
       "      <td>11.0</td>\n",
       "      <td>3_16</td>\n",
       "    </tr>\n",
       "    <tr>\n",
       "      <th>1</th>\n",
       "      <td>CC201903212</td>\n",
       "      <td>12.0</td>\n",
       "      <td>6_16</td>\n",
       "    </tr>\n",
       "    <tr>\n",
       "      <th>2</th>\n",
       "      <td>CC201903212</td>\n",
       "      <td>8.0</td>\n",
       "      <td>4_1</td>\n",
       "    </tr>\n",
       "    <tr>\n",
       "      <th>3</th>\n",
       "      <td>CC201903212</td>\n",
       "      <td>27.0</td>\n",
       "      <td>4_10</td>\n",
       "    </tr>\n",
       "    <tr>\n",
       "      <th>4</th>\n",
       "      <td>CC201903212</td>\n",
       "      <td>27.0</td>\n",
       "      <td>5_2</td>\n",
       "    </tr>\n",
       "  </tbody>\n",
       "</table>\n",
       "</div>"
      ],
      "text/plain": [
       "      Customer  SecNumF Product\n",
       "0  CC201903212     11.0    3_16\n",
       "1  CC201903212     12.0    6_16\n",
       "2  CC201903212      8.0     4_1\n",
       "3  CC201903212     27.0    4_10\n",
       "4  CC201903212     27.0     5_2"
      ]
     },
     "execution_count": 7,
     "metadata": {},
     "output_type": "execute_result"
    }
   ],
   "source": [
    "# Since each specific product is determined by a combination of an ItemId and a CategoryId, \n",
    "# I will create a unique productId as a concatenation of the category and the item id.\n",
    "\n",
    "# Product = CategoryId_ItemId\n",
    "\n",
    "df3 = df2.assign(Product = df2.Category.astype(str) + '_' + df2.Item.astype(str)).drop(['Item', 'Category'], axis=1)\n",
    "df3.head()"
   ]
  },
  {
   "cell_type": "code",
   "execution_count": 8,
   "metadata": {
    "collapsed": false,
    "deletable": true,
    "editable": true
   },
   "outputs": [
    {
     "data": {
      "text/html": [
       "<div>\n",
       "<style scoped>\n",
       "    .dataframe tbody tr th:only-of-type {\n",
       "        vertical-align: middle;\n",
       "    }\n",
       "\n",
       "    .dataframe tbody tr th {\n",
       "        vertical-align: top;\n",
       "    }\n",
       "\n",
       "    .dataframe thead th {\n",
       "        text-align: right;\n",
       "    }\n",
       "</style>\n",
       "<table border=\"1\" class=\"dataframe\">\n",
       "  <thead>\n",
       "    <tr style=\"text-align: right;\">\n",
       "      <th></th>\n",
       "      <th>Customer</th>\n",
       "      <th>Product</th>\n",
       "      <th>SecNumF</th>\n",
       "    </tr>\n",
       "  </thead>\n",
       "  <tbody>\n",
       "    <tr>\n",
       "      <th>0</th>\n",
       "      <td>CC20190310</td>\n",
       "      <td>0_0</td>\n",
       "      <td>146.0</td>\n",
       "    </tr>\n",
       "    <tr>\n",
       "      <th>1</th>\n",
       "      <td>CC20190310</td>\n",
       "      <td>0_1</td>\n",
       "      <td>8.0</td>\n",
       "    </tr>\n",
       "    <tr>\n",
       "      <th>2</th>\n",
       "      <td>CC20190310</td>\n",
       "      <td>0_10</td>\n",
       "      <td>89.0</td>\n",
       "    </tr>\n",
       "    <tr>\n",
       "      <th>3</th>\n",
       "      <td>CC20190310</td>\n",
       "      <td>0_11</td>\n",
       "      <td>33.0</td>\n",
       "    </tr>\n",
       "    <tr>\n",
       "      <th>4</th>\n",
       "      <td>CC20190310</td>\n",
       "      <td>0_12</td>\n",
       "      <td>38.0</td>\n",
       "    </tr>\n",
       "  </tbody>\n",
       "</table>\n",
       "</div>"
      ],
      "text/plain": [
       "     Customer Product  SecNumF\n",
       "0  CC20190310     0_0    146.0\n",
       "1  CC20190310     0_1      8.0\n",
       "2  CC20190310    0_10     89.0\n",
       "3  CC20190310    0_11     33.0\n",
       "4  CC20190310    0_12     38.0"
      ]
     },
     "execution_count": 8,
     "metadata": {},
     "output_type": "execute_result"
    }
   ],
   "source": [
    "# Calculate the total sum of the time each customer spent in each product.\n",
    "\n",
    "data = df3.groupby(['Customer','Product'])['SecNumF'].sum().reset_index()\n",
    "\n",
    "data.head()\n",
    "#data.columns"
   ]
  },
  {
   "cell_type": "markdown",
   "metadata": {
    "deletable": true,
    "editable": true
   },
   "source": [
    "#### 3.2. Create dummy"
   ]
  },
  {
   "cell_type": "code",
   "execution_count": 9,
   "metadata": {
    "collapsed": true,
    "deletable": true,
    "editable": true
   },
   "outputs": [],
   "source": [
    "# If a customer has clicked on a product, then SecNumF_Dummy is marked as 1\n",
    "\n",
    "def create_data_dummy(data):\n",
    "    data_dummy = data.copy()\n",
    "    data_dummy['SecNumF_Dummy'] = 1\n",
    "    return data_dummy\n",
    "\n",
    "data_dummy = create_data_dummy(data)"
   ]
  },
  {
   "cell_type": "markdown",
   "metadata": {
    "deletable": true,
    "editable": true
   },
   "source": [
    "#### 3.3. Normalize item values across users"
   ]
  },
  {
   "cell_type": "code",
   "execution_count": 10,
   "metadata": {
    "collapsed": true,
    "deletable": true,
    "editable": true
   },
   "outputs": [],
   "source": [
    "# create a user-item matrix\n",
    "\n",
    "df_matrix = pd.pivot_table(data, values='SecNumF', index='Customer', columns='Product')"
   ]
  },
  {
   "cell_type": "code",
   "execution_count": 11,
   "metadata": {
    "collapsed": true,
    "deletable": true,
    "editable": true
   },
   "outputs": [],
   "source": [
    "# normalize time of clicks of each product across customers\n",
    "# from 0–1 (with 1 being the highest number of seconds for an item and 0 being 0 time for that item)\n",
    "\n",
    "df_matrix_norm = (df_matrix-df_matrix.min())/(df_matrix.max()-df_matrix.min())"
   ]
  },
  {
   "cell_type": "code",
   "execution_count": 12,
   "metadata": {
    "collapsed": false,
    "deletable": true,
    "editable": true
   },
   "outputs": [
    {
     "name": "stdout",
     "output_type": "stream",
     "text": [
      "(178122, 3)\n"
     ]
    },
    {
     "data": {
      "text/html": [
       "<div>\n",
       "<style scoped>\n",
       "    .dataframe tbody tr th:only-of-type {\n",
       "        vertical-align: middle;\n",
       "    }\n",
       "\n",
       "    .dataframe tbody tr th {\n",
       "        vertical-align: top;\n",
       "    }\n",
       "\n",
       "    .dataframe thead th {\n",
       "        text-align: right;\n",
       "    }\n",
       "</style>\n",
       "<table border=\"1\" class=\"dataframe\">\n",
       "  <thead>\n",
       "    <tr style=\"text-align: right;\">\n",
       "      <th></th>\n",
       "      <th>Customer</th>\n",
       "      <th>Product</th>\n",
       "      <th>Scaled_SecNumF</th>\n",
       "    </tr>\n",
       "  </thead>\n",
       "  <tbody>\n",
       "    <tr>\n",
       "      <th>0</th>\n",
       "      <td>CC20190310</td>\n",
       "      <td>0_0</td>\n",
       "      <td>0.437309</td>\n",
       "    </tr>\n",
       "    <tr>\n",
       "      <th>1</th>\n",
       "      <td>CC201903100</td>\n",
       "      <td>0_0</td>\n",
       "      <td>0.250765</td>\n",
       "    </tr>\n",
       "    <tr>\n",
       "      <th>2</th>\n",
       "      <td>CC201903101</td>\n",
       "      <td>0_0</td>\n",
       "      <td>0.055046</td>\n",
       "    </tr>\n",
       "    <tr>\n",
       "      <th>3</th>\n",
       "      <td>CC201903102</td>\n",
       "      <td>0_0</td>\n",
       "      <td>0.223242</td>\n",
       "    </tr>\n",
       "    <tr>\n",
       "      <th>4</th>\n",
       "      <td>CC201903103</td>\n",
       "      <td>0_0</td>\n",
       "      <td>0.538226</td>\n",
       "    </tr>\n",
       "  </tbody>\n",
       "</table>\n",
       "</div>"
      ],
      "text/plain": [
       "      Customer Product  Scaled_SecNumF\n",
       "0   CC20190310     0_0        0.437309\n",
       "1  CC201903100     0_0        0.250765\n",
       "2  CC201903101     0_0        0.055046\n",
       "3  CC201903102     0_0        0.223242\n",
       "4  CC201903103     0_0        0.538226"
      ]
     },
     "execution_count": 12,
     "metadata": {},
     "output_type": "execute_result"
    }
   ],
   "source": [
    "# create a table for input to the modeling  \n",
    "d = df_matrix_norm.reset_index() \n",
    "d.index.names = ['Scaled_SecNumF'] \n",
    "data_norm = pd.melt(d, id_vars=['Customer'], value_name='Scaled_SecNumF').dropna()\n",
    "print(data_norm.shape)\n",
    "data_norm.head()"
   ]
  },
  {
   "cell_type": "markdown",
   "metadata": {
    "deletable": true,
    "editable": true
   },
   "source": [
    "## 4. Split train and test set"
   ]
  },
  {
   "cell_type": "code",
   "execution_count": 15,
   "metadata": {
    "collapsed": true,
    "deletable": true,
    "editable": true
   },
   "outputs": [],
   "source": [
    "# We use 80:20 ratio for our train-test set size.\n",
    "# Our training portion will be used to develop a predictive model, while the other to evaluate the model’s performance.\n",
    "\n",
    "def split_data(data):\n",
    "    '''\n",
    "    Splits dataset into training and test set.\n",
    "    \n",
    "    Args:\n",
    "        data (pandas.DataFrame)\n",
    "        \n",
    "    Returns\n",
    "        train_data (tc.SFrame)\n",
    "        test_data (tc.SFrame)\n",
    "    '''\n",
    "    train, test = train_test_split(data, test_size = .2)\n",
    "    train_data = tc.SFrame(train)\n",
    "    test_data = tc.SFrame(test)\n",
    "    return train_data, test_data"
   ]
  },
  {
   "cell_type": "code",
   "execution_count": 16,
   "metadata": {
    "collapsed": true,
    "deletable": true,
    "editable": true
   },
   "outputs": [],
   "source": [
    "train_data, test_data = split_data(data)\n",
    "train_data_dummy, test_data_dummy = split_data(data_dummy)\n",
    "train_data_norm, test_data_norm = split_data(data_norm)"
   ]
  },
  {
   "cell_type": "markdown",
   "metadata": {
    "deletable": true,
    "editable": true
   },
   "source": [
    "## 5. Define Models using Turicreate library"
   ]
  },
  {
   "cell_type": "code",
   "execution_count": 18,
   "metadata": {
    "collapsed": true,
    "deletable": true,
    "editable": true
   },
   "outputs": [],
   "source": [
    "# define our variables to use in the models\n",
    "# constant variables to define field names include:\n",
    "\n",
    "user_id = 'Customer'\n",
    "item_id = 'Product'\n",
    "users_to_recommend = list(data[user_id])\n",
    "n_rec = 10       # number of items to recommend\n",
    "n_display = 30   # to display the first few rows in an output dataset"
   ]
  },
  {
   "cell_type": "code",
   "execution_count": 19,
   "metadata": {
    "collapsed": true,
    "deletable": true,
    "editable": true
   },
   "outputs": [],
   "source": [
    "# define a function for all models\n",
    "\n",
    "def model(train_data, name, user_id, item_id, target, users_to_recommend, n_rec, n_display):\n",
    "    if name == 'popularity':\n",
    "        model = tc.popularity_recommender.create(train_data, \n",
    "                                                    user_id=user_id, \n",
    "                                                    item_id=item_id, \n",
    "                                                    target=target)\n",
    "    elif name == 'cosine':\n",
    "        model = tc.item_similarity_recommender.create(train_data, \n",
    "                                                    user_id=user_id, \n",
    "                                                    item_id=item_id, \n",
    "                                                    target=target, \n",
    "                                                    similarity_type='cosine')\n",
    "    elif name == 'pearson':\n",
    "        model = tc.item_similarity_recommender.create(train_data, \n",
    "                                                    user_id=user_id, \n",
    "                                                    item_id=item_id, \n",
    "                                                    target=target, \n",
    "                                                    similarity_type='pearson')\n",
    "        \n",
    "    recom = model.recommend(users=users_to_recommend, k=n_rec)\n",
    "    recom.print_rows(n_display)\n",
    "    return model"
   ]
  },
  {
   "cell_type": "markdown",
   "metadata": {
    "deletable": true,
    "editable": true
   },
   "source": [
    "## 6. Popularity Model"
   ]
  },
  {
   "cell_type": "code",
   "execution_count": 20,
   "metadata": {
    "collapsed": false,
    "deletable": true,
    "editable": true
   },
   "outputs": [
    {
     "data": {
      "text/html": [
       "<pre>Preparing data set.</pre>"
      ],
      "text/plain": [
       "Preparing data set."
      ]
     },
     "metadata": {},
     "output_type": "display_data"
    },
    {
     "data": {
      "text/html": [
       "<pre>    Data has 142497 observations with 1436 users and 235 items.</pre>"
      ],
      "text/plain": [
       "    Data has 142497 observations with 1436 users and 235 items."
      ]
     },
     "metadata": {},
     "output_type": "display_data"
    },
    {
     "data": {
      "text/html": [
       "<pre>    Data prepared in: 0.296295s</pre>"
      ],
      "text/plain": [
       "    Data prepared in: 0.296295s"
      ]
     },
     "metadata": {},
     "output_type": "display_data"
    },
    {
     "data": {
      "text/html": [
       "<pre>142497 observations to process; with 235 unique items.</pre>"
      ],
      "text/plain": [
       "142497 observations to process; with 235 unique items."
      ]
     },
     "metadata": {},
     "output_type": "display_data"
    },
    {
     "data": {
      "text/html": [
       "<pre>recommendations finished on 1000/178122 queries. users per second: 181554</pre>"
      ],
      "text/plain": [
       "recommendations finished on 1000/178122 queries. users per second: 181554"
      ]
     },
     "metadata": {},
     "output_type": "display_data"
    },
    {
     "data": {
      "text/html": [
       "<pre>recommendations finished on 2000/178122 queries. users per second: 211685</pre>"
      ],
      "text/plain": [
       "recommendations finished on 2000/178122 queries. users per second: 211685"
      ]
     },
     "metadata": {},
     "output_type": "display_data"
    },
    {
     "data": {
      "text/html": [
       "<pre>recommendations finished on 3000/178122 queries. users per second: 241838</pre>"
      ],
      "text/plain": [
       "recommendations finished on 3000/178122 queries. users per second: 241838"
      ]
     },
     "metadata": {},
     "output_type": "display_data"
    },
    {
     "data": {
      "text/html": [
       "<pre>recommendations finished on 4000/178122 queries. users per second: 242277</pre>"
      ],
      "text/plain": [
       "recommendations finished on 4000/178122 queries. users per second: 242277"
      ]
     },
     "metadata": {},
     "output_type": "display_data"
    },
    {
     "data": {
      "text/html": [
       "<pre>recommendations finished on 5000/178122 queries. users per second: 256397</pre>"
      ],
      "text/plain": [
       "recommendations finished on 5000/178122 queries. users per second: 256397"
      ]
     },
     "metadata": {},
     "output_type": "display_data"
    },
    {
     "data": {
      "text/html": [
       "<pre>recommendations finished on 6000/178122 queries. users per second: 268408</pre>"
      ],
      "text/plain": [
       "recommendations finished on 6000/178122 queries. users per second: 268408"
      ]
     },
     "metadata": {},
     "output_type": "display_data"
    },
    {
     "data": {
      "text/html": [
       "<pre>recommendations finished on 7000/178122 queries. users per second: 243538</pre>"
      ],
      "text/plain": [
       "recommendations finished on 7000/178122 queries. users per second: 243538"
      ]
     },
     "metadata": {},
     "output_type": "display_data"
    },
    {
     "data": {
      "text/html": [
       "<pre>recommendations finished on 8000/178122 queries. users per second: 248772</pre>"
      ],
      "text/plain": [
       "recommendations finished on 8000/178122 queries. users per second: 248772"
      ]
     },
     "metadata": {},
     "output_type": "display_data"
    },
    {
     "data": {
      "text/html": [
       "<pre>recommendations finished on 9000/178122 queries. users per second: 253958</pre>"
      ],
      "text/plain": [
       "recommendations finished on 9000/178122 queries. users per second: 253958"
      ]
     },
     "metadata": {},
     "output_type": "display_data"
    },
    {
     "data": {
      "text/html": [
       "<pre>recommendations finished on 10000/178122 queries. users per second: 260926</pre>"
      ],
      "text/plain": [
       "recommendations finished on 10000/178122 queries. users per second: 260926"
      ]
     },
     "metadata": {},
     "output_type": "display_data"
    },
    {
     "data": {
      "text/html": [
       "<pre>recommendations finished on 11000/178122 queries. users per second: 263802</pre>"
      ],
      "text/plain": [
       "recommendations finished on 11000/178122 queries. users per second: 263802"
      ]
     },
     "metadata": {},
     "output_type": "display_data"
    },
    {
     "data": {
      "text/html": [
       "<pre>recommendations finished on 12000/178122 queries. users per second: 269016</pre>"
      ],
      "text/plain": [
       "recommendations finished on 12000/178122 queries. users per second: 269016"
      ]
     },
     "metadata": {},
     "output_type": "display_data"
    },
    {
     "data": {
      "text/html": [
       "<pre>recommendations finished on 13000/178122 queries. users per second: 265963</pre>"
      ],
      "text/plain": [
       "recommendations finished on 13000/178122 queries. users per second: 265963"
      ]
     },
     "metadata": {},
     "output_type": "display_data"
    },
    {
     "data": {
      "text/html": [
       "<pre>recommendations finished on 14000/178122 queries. users per second: 258871</pre>"
      ],
      "text/plain": [
       "recommendations finished on 14000/178122 queries. users per second: 258871"
      ]
     },
     "metadata": {},
     "output_type": "display_data"
    },
    {
     "data": {
      "text/html": [
       "<pre>recommendations finished on 15000/178122 queries. users per second: 259619</pre>"
      ],
      "text/plain": [
       "recommendations finished on 15000/178122 queries. users per second: 259619"
      ]
     },
     "metadata": {},
     "output_type": "display_data"
    },
    {
     "data": {
      "text/html": [
       "<pre>recommendations finished on 16000/178122 queries. users per second: 258331</pre>"
      ],
      "text/plain": [
       "recommendations finished on 16000/178122 queries. users per second: 258331"
      ]
     },
     "metadata": {},
     "output_type": "display_data"
    },
    {
     "data": {
      "text/html": [
       "<pre>recommendations finished on 17000/178122 queries. users per second: 259959</pre>"
      ],
      "text/plain": [
       "recommendations finished on 17000/178122 queries. users per second: 259959"
      ]
     },
     "metadata": {},
     "output_type": "display_data"
    },
    {
     "data": {
      "text/html": [
       "<pre>recommendations finished on 18000/178122 queries. users per second: 261040</pre>"
      ],
      "text/plain": [
       "recommendations finished on 18000/178122 queries. users per second: 261040"
      ]
     },
     "metadata": {},
     "output_type": "display_data"
    },
    {
     "data": {
      "text/html": [
       "<pre>recommendations finished on 19000/178122 queries. users per second: 264091</pre>"
      ],
      "text/plain": [
       "recommendations finished on 19000/178122 queries. users per second: 264091"
      ]
     },
     "metadata": {},
     "output_type": "display_data"
    },
    {
     "data": {
      "text/html": [
       "<pre>recommendations finished on 20000/178122 queries. users per second: 261571</pre>"
      ],
      "text/plain": [
       "recommendations finished on 20000/178122 queries. users per second: 261571"
      ]
     },
     "metadata": {},
     "output_type": "display_data"
    },
    {
     "data": {
      "text/html": [
       "<pre>recommendations finished on 21000/178122 queries. users per second: 264261</pre>"
      ],
      "text/plain": [
       "recommendations finished on 21000/178122 queries. users per second: 264261"
      ]
     },
     "metadata": {},
     "output_type": "display_data"
    },
    {
     "data": {
      "text/html": [
       "<pre>recommendations finished on 22000/178122 queries. users per second: 266324</pre>"
      ],
      "text/plain": [
       "recommendations finished on 22000/178122 queries. users per second: 266324"
      ]
     },
     "metadata": {},
     "output_type": "display_data"
    },
    {
     "data": {
      "text/html": [
       "<pre>recommendations finished on 23000/178122 queries. users per second: 266540</pre>"
      ],
      "text/plain": [
       "recommendations finished on 23000/178122 queries. users per second: 266540"
      ]
     },
     "metadata": {},
     "output_type": "display_data"
    },
    {
     "data": {
      "text/html": [
       "<pre>recommendations finished on 24000/178122 queries. users per second: 245238</pre>"
      ],
      "text/plain": [
       "recommendations finished on 24000/178122 queries. users per second: 245238"
      ]
     },
     "metadata": {},
     "output_type": "display_data"
    },
    {
     "data": {
      "text/html": [
       "<pre>recommendations finished on 25000/178122 queries. users per second: 235108</pre>"
      ],
      "text/plain": [
       "recommendations finished on 25000/178122 queries. users per second: 235108"
      ]
     },
     "metadata": {},
     "output_type": "display_data"
    },
    {
     "data": {
      "text/html": [
       "<pre>recommendations finished on 26000/178122 queries. users per second: 219686</pre>"
      ],
      "text/plain": [
       "recommendations finished on 26000/178122 queries. users per second: 219686"
      ]
     },
     "metadata": {},
     "output_type": "display_data"
    },
    {
     "data": {
      "text/html": [
       "<pre>recommendations finished on 27000/178122 queries. users per second: 219703</pre>"
      ],
      "text/plain": [
       "recommendations finished on 27000/178122 queries. users per second: 219703"
      ]
     },
     "metadata": {},
     "output_type": "display_data"
    },
    {
     "data": {
      "text/html": [
       "<pre>recommendations finished on 28000/178122 queries. users per second: 215710</pre>"
      ],
      "text/plain": [
       "recommendations finished on 28000/178122 queries. users per second: 215710"
      ]
     },
     "metadata": {},
     "output_type": "display_data"
    },
    {
     "data": {
      "text/html": [
       "<pre>recommendations finished on 29000/178122 queries. users per second: 215247</pre>"
      ],
      "text/plain": [
       "recommendations finished on 29000/178122 queries. users per second: 215247"
      ]
     },
     "metadata": {},
     "output_type": "display_data"
    },
    {
     "data": {
      "text/html": [
       "<pre>recommendations finished on 30000/178122 queries. users per second: 215551</pre>"
      ],
      "text/plain": [
       "recommendations finished on 30000/178122 queries. users per second: 215551"
      ]
     },
     "metadata": {},
     "output_type": "display_data"
    },
    {
     "data": {
      "text/html": [
       "<pre>recommendations finished on 31000/178122 queries. users per second: 211946</pre>"
      ],
      "text/plain": [
       "recommendations finished on 31000/178122 queries. users per second: 211946"
      ]
     },
     "metadata": {},
     "output_type": "display_data"
    },
    {
     "data": {
      "text/html": [
       "<pre>recommendations finished on 32000/178122 queries. users per second: 210396</pre>"
      ],
      "text/plain": [
       "recommendations finished on 32000/178122 queries. users per second: 210396"
      ]
     },
     "metadata": {},
     "output_type": "display_data"
    },
    {
     "data": {
      "text/html": [
       "<pre>recommendations finished on 33000/178122 queries. users per second: 211458</pre>"
      ],
      "text/plain": [
       "recommendations finished on 33000/178122 queries. users per second: 211458"
      ]
     },
     "metadata": {},
     "output_type": "display_data"
    },
    {
     "data": {
      "text/html": [
       "<pre>recommendations finished on 34000/178122 queries. users per second: 208497</pre>"
      ],
      "text/plain": [
       "recommendations finished on 34000/178122 queries. users per second: 208497"
      ]
     },
     "metadata": {},
     "output_type": "display_data"
    },
    {
     "data": {
      "text/html": [
       "<pre>recommendations finished on 35000/178122 queries. users per second: 201141</pre>"
      ],
      "text/plain": [
       "recommendations finished on 35000/178122 queries. users per second: 201141"
      ]
     },
     "metadata": {},
     "output_type": "display_data"
    },
    {
     "data": {
      "text/html": [
       "<pre>recommendations finished on 36000/178122 queries. users per second: 198215</pre>"
      ],
      "text/plain": [
       "recommendations finished on 36000/178122 queries. users per second: 198215"
      ]
     },
     "metadata": {},
     "output_type": "display_data"
    },
    {
     "data": {
      "text/html": [
       "<pre>recommendations finished on 37000/178122 queries. users per second: 195819</pre>"
      ],
      "text/plain": [
       "recommendations finished on 37000/178122 queries. users per second: 195819"
      ]
     },
     "metadata": {},
     "output_type": "display_data"
    },
    {
     "data": {
      "text/html": [
       "<pre>recommendations finished on 38000/178122 queries. users per second: 195583</pre>"
      ],
      "text/plain": [
       "recommendations finished on 38000/178122 queries. users per second: 195583"
      ]
     },
     "metadata": {},
     "output_type": "display_data"
    },
    {
     "data": {
      "text/html": [
       "<pre>recommendations finished on 39000/178122 queries. users per second: 195843</pre>"
      ],
      "text/plain": [
       "recommendations finished on 39000/178122 queries. users per second: 195843"
      ]
     },
     "metadata": {},
     "output_type": "display_data"
    },
    {
     "data": {
      "text/html": [
       "<pre>recommendations finished on 40000/178122 queries. users per second: 193363</pre>"
      ],
      "text/plain": [
       "recommendations finished on 40000/178122 queries. users per second: 193363"
      ]
     },
     "metadata": {},
     "output_type": "display_data"
    },
    {
     "data": {
      "text/html": [
       "<pre>recommendations finished on 41000/178122 queries. users per second: 192467</pre>"
      ],
      "text/plain": [
       "recommendations finished on 41000/178122 queries. users per second: 192467"
      ]
     },
     "metadata": {},
     "output_type": "display_data"
    },
    {
     "data": {
      "text/html": [
       "<pre>recommendations finished on 42000/178122 queries. users per second: 191552</pre>"
      ],
      "text/plain": [
       "recommendations finished on 42000/178122 queries. users per second: 191552"
      ]
     },
     "metadata": {},
     "output_type": "display_data"
    },
    {
     "data": {
      "text/html": [
       "<pre>recommendations finished on 43000/178122 queries. users per second: 192592</pre>"
      ],
      "text/plain": [
       "recommendations finished on 43000/178122 queries. users per second: 192592"
      ]
     },
     "metadata": {},
     "output_type": "display_data"
    },
    {
     "data": {
      "text/html": [
       "<pre>recommendations finished on 44000/178122 queries. users per second: 189258</pre>"
      ],
      "text/plain": [
       "recommendations finished on 44000/178122 queries. users per second: 189258"
      ]
     },
     "metadata": {},
     "output_type": "display_data"
    },
    {
     "data": {
      "text/html": [
       "<pre>recommendations finished on 45000/178122 queries. users per second: 189994</pre>"
      ],
      "text/plain": [
       "recommendations finished on 45000/178122 queries. users per second: 189994"
      ]
     },
     "metadata": {},
     "output_type": "display_data"
    },
    {
     "data": {
      "text/html": [
       "<pre>recommendations finished on 46000/178122 queries. users per second: 190417</pre>"
      ],
      "text/plain": [
       "recommendations finished on 46000/178122 queries. users per second: 190417"
      ]
     },
     "metadata": {},
     "output_type": "display_data"
    },
    {
     "data": {
      "text/html": [
       "<pre>recommendations finished on 47000/178122 queries. users per second: 190367</pre>"
      ],
      "text/plain": [
       "recommendations finished on 47000/178122 queries. users per second: 190367"
      ]
     },
     "metadata": {},
     "output_type": "display_data"
    },
    {
     "data": {
      "text/html": [
       "<pre>recommendations finished on 48000/178122 queries. users per second: 184202</pre>"
      ],
      "text/plain": [
       "recommendations finished on 48000/178122 queries. users per second: 184202"
      ]
     },
     "metadata": {},
     "output_type": "display_data"
    },
    {
     "data": {
      "text/html": [
       "<pre>recommendations finished on 49000/178122 queries. users per second: 172331</pre>"
      ],
      "text/plain": [
       "recommendations finished on 49000/178122 queries. users per second: 172331"
      ]
     },
     "metadata": {},
     "output_type": "display_data"
    },
    {
     "data": {
      "text/html": [
       "<pre>recommendations finished on 50000/178122 queries. users per second: 164011</pre>"
      ],
      "text/plain": [
       "recommendations finished on 50000/178122 queries. users per second: 164011"
      ]
     },
     "metadata": {},
     "output_type": "display_data"
    },
    {
     "data": {
      "text/html": [
       "<pre>recommendations finished on 51000/178122 queries. users per second: 150371</pre>"
      ],
      "text/plain": [
       "recommendations finished on 51000/178122 queries. users per second: 150371"
      ]
     },
     "metadata": {},
     "output_type": "display_data"
    },
    {
     "data": {
      "text/html": [
       "<pre>recommendations finished on 52000/178122 queries. users per second: 148311</pre>"
      ],
      "text/plain": [
       "recommendations finished on 52000/178122 queries. users per second: 148311"
      ]
     },
     "metadata": {},
     "output_type": "display_data"
    },
    {
     "data": {
      "text/html": [
       "<pre>recommendations finished on 53000/178122 queries. users per second: 148533</pre>"
      ],
      "text/plain": [
       "recommendations finished on 53000/178122 queries. users per second: 148533"
      ]
     },
     "metadata": {},
     "output_type": "display_data"
    },
    {
     "data": {
      "text/html": [
       "<pre>recommendations finished on 54000/178122 queries. users per second: 145609</pre>"
      ],
      "text/plain": [
       "recommendations finished on 54000/178122 queries. users per second: 145609"
      ]
     },
     "metadata": {},
     "output_type": "display_data"
    },
    {
     "data": {
      "text/html": [
       "<pre>recommendations finished on 55000/178122 queries. users per second: 119311</pre>"
      ],
      "text/plain": [
       "recommendations finished on 55000/178122 queries. users per second: 119311"
      ]
     },
     "metadata": {},
     "output_type": "display_data"
    },
    {
     "data": {
      "text/html": [
       "<pre>recommendations finished on 56000/178122 queries. users per second: 110536</pre>"
      ],
      "text/plain": [
       "recommendations finished on 56000/178122 queries. users per second: 110536"
      ]
     },
     "metadata": {},
     "output_type": "display_data"
    },
    {
     "data": {
      "text/html": [
       "<pre>recommendations finished on 57000/178122 queries. users per second: 110770</pre>"
      ],
      "text/plain": [
       "recommendations finished on 57000/178122 queries. users per second: 110770"
      ]
     },
     "metadata": {},
     "output_type": "display_data"
    },
    {
     "data": {
      "text/html": [
       "<pre>recommendations finished on 58000/178122 queries. users per second: 110050</pre>"
      ],
      "text/plain": [
       "recommendations finished on 58000/178122 queries. users per second: 110050"
      ]
     },
     "metadata": {},
     "output_type": "display_data"
    },
    {
     "data": {
      "text/html": [
       "<pre>recommendations finished on 59000/178122 queries. users per second: 111037</pre>"
      ],
      "text/plain": [
       "recommendations finished on 59000/178122 queries. users per second: 111037"
      ]
     },
     "metadata": {},
     "output_type": "display_data"
    },
    {
     "data": {
      "text/html": [
       "<pre>recommendations finished on 60000/178122 queries. users per second: 111825</pre>"
      ],
      "text/plain": [
       "recommendations finished on 60000/178122 queries. users per second: 111825"
      ]
     },
     "metadata": {},
     "output_type": "display_data"
    },
    {
     "data": {
      "text/html": [
       "<pre>recommendations finished on 61000/178122 queries. users per second: 112276</pre>"
      ],
      "text/plain": [
       "recommendations finished on 61000/178122 queries. users per second: 112276"
      ]
     },
     "metadata": {},
     "output_type": "display_data"
    },
    {
     "data": {
      "text/html": [
       "<pre>recommendations finished on 62000/178122 queries. users per second: 113122</pre>"
      ],
      "text/plain": [
       "recommendations finished on 62000/178122 queries. users per second: 113122"
      ]
     },
     "metadata": {},
     "output_type": "display_data"
    },
    {
     "data": {
      "text/html": [
       "<pre>recommendations finished on 63000/178122 queries. users per second: 114101</pre>"
      ],
      "text/plain": [
       "recommendations finished on 63000/178122 queries. users per second: 114101"
      ]
     },
     "metadata": {},
     "output_type": "display_data"
    },
    {
     "data": {
      "text/html": [
       "<pre>recommendations finished on 64000/178122 queries. users per second: 114593</pre>"
      ],
      "text/plain": [
       "recommendations finished on 64000/178122 queries. users per second: 114593"
      ]
     },
     "metadata": {},
     "output_type": "display_data"
    },
    {
     "data": {
      "text/html": [
       "<pre>recommendations finished on 65000/178122 queries. users per second: 114947</pre>"
      ],
      "text/plain": [
       "recommendations finished on 65000/178122 queries. users per second: 114947"
      ]
     },
     "metadata": {},
     "output_type": "display_data"
    },
    {
     "data": {
      "text/html": [
       "<pre>recommendations finished on 66000/178122 queries. users per second: 115375</pre>"
      ],
      "text/plain": [
       "recommendations finished on 66000/178122 queries. users per second: 115375"
      ]
     },
     "metadata": {},
     "output_type": "display_data"
    },
    {
     "data": {
      "text/html": [
       "<pre>recommendations finished on 67000/178122 queries. users per second: 116398</pre>"
      ],
      "text/plain": [
       "recommendations finished on 67000/178122 queries. users per second: 116398"
      ]
     },
     "metadata": {},
     "output_type": "display_data"
    },
    {
     "data": {
      "text/html": [
       "<pre>recommendations finished on 68000/178122 queries. users per second: 117470</pre>"
      ],
      "text/plain": [
       "recommendations finished on 68000/178122 queries. users per second: 117470"
      ]
     },
     "metadata": {},
     "output_type": "display_data"
    },
    {
     "data": {
      "text/html": [
       "<pre>recommendations finished on 69000/178122 queries. users per second: 118386</pre>"
      ],
      "text/plain": [
       "recommendations finished on 69000/178122 queries. users per second: 118386"
      ]
     },
     "metadata": {},
     "output_type": "display_data"
    },
    {
     "data": {
      "text/html": [
       "<pre>recommendations finished on 70000/178122 queries. users per second: 119248</pre>"
      ],
      "text/plain": [
       "recommendations finished on 70000/178122 queries. users per second: 119248"
      ]
     },
     "metadata": {},
     "output_type": "display_data"
    },
    {
     "data": {
      "text/html": [
       "<pre>recommendations finished on 71000/178122 queries. users per second: 119855</pre>"
      ],
      "text/plain": [
       "recommendations finished on 71000/178122 queries. users per second: 119855"
      ]
     },
     "metadata": {},
     "output_type": "display_data"
    },
    {
     "data": {
      "text/html": [
       "<pre>recommendations finished on 72000/178122 queries. users per second: 120649</pre>"
      ],
      "text/plain": [
       "recommendations finished on 72000/178122 queries. users per second: 120649"
      ]
     },
     "metadata": {},
     "output_type": "display_data"
    },
    {
     "data": {
      "text/html": [
       "<pre>recommendations finished on 73000/178122 queries. users per second: 121111</pre>"
      ],
      "text/plain": [
       "recommendations finished on 73000/178122 queries. users per second: 121111"
      ]
     },
     "metadata": {},
     "output_type": "display_data"
    },
    {
     "data": {
      "text/html": [
       "<pre>recommendations finished on 74000/178122 queries. users per second: 121229</pre>"
      ],
      "text/plain": [
       "recommendations finished on 74000/178122 queries. users per second: 121229"
      ]
     },
     "metadata": {},
     "output_type": "display_data"
    },
    {
     "data": {
      "text/html": [
       "<pre>recommendations finished on 75000/178122 queries. users per second: 120989</pre>"
      ],
      "text/plain": [
       "recommendations finished on 75000/178122 queries. users per second: 120989"
      ]
     },
     "metadata": {},
     "output_type": "display_data"
    },
    {
     "data": {
      "text/html": [
       "<pre>recommendations finished on 76000/178122 queries. users per second: 120305</pre>"
      ],
      "text/plain": [
       "recommendations finished on 76000/178122 queries. users per second: 120305"
      ]
     },
     "metadata": {},
     "output_type": "display_data"
    },
    {
     "data": {
      "text/html": [
       "<pre>recommendations finished on 77000/178122 queries. users per second: 120679</pre>"
      ],
      "text/plain": [
       "recommendations finished on 77000/178122 queries. users per second: 120679"
      ]
     },
     "metadata": {},
     "output_type": "display_data"
    },
    {
     "data": {
      "text/html": [
       "<pre>recommendations finished on 78000/178122 queries. users per second: 120946</pre>"
      ],
      "text/plain": [
       "recommendations finished on 78000/178122 queries. users per second: 120946"
      ]
     },
     "metadata": {},
     "output_type": "display_data"
    },
    {
     "data": {
      "text/html": [
       "<pre>recommendations finished on 79000/178122 queries. users per second: 121741</pre>"
      ],
      "text/plain": [
       "recommendations finished on 79000/178122 queries. users per second: 121741"
      ]
     },
     "metadata": {},
     "output_type": "display_data"
    },
    {
     "data": {
      "text/html": [
       "<pre>recommendations finished on 80000/178122 queries. users per second: 122505</pre>"
      ],
      "text/plain": [
       "recommendations finished on 80000/178122 queries. users per second: 122505"
      ]
     },
     "metadata": {},
     "output_type": "display_data"
    },
    {
     "data": {
      "text/html": [
       "<pre>recommendations finished on 81000/178122 queries. users per second: 123147</pre>"
      ],
      "text/plain": [
       "recommendations finished on 81000/178122 queries. users per second: 123147"
      ]
     },
     "metadata": {},
     "output_type": "display_data"
    },
    {
     "data": {
      "text/html": [
       "<pre>recommendations finished on 82000/178122 queries. users per second: 123173</pre>"
      ],
      "text/plain": [
       "recommendations finished on 82000/178122 queries. users per second: 123173"
      ]
     },
     "metadata": {},
     "output_type": "display_data"
    },
    {
     "data": {
      "text/html": [
       "<pre>recommendations finished on 83000/178122 queries. users per second: 123549</pre>"
      ],
      "text/plain": [
       "recommendations finished on 83000/178122 queries. users per second: 123549"
      ]
     },
     "metadata": {},
     "output_type": "display_data"
    },
    {
     "data": {
      "text/html": [
       "<pre>recommendations finished on 84000/178122 queries. users per second: 124030</pre>"
      ],
      "text/plain": [
       "recommendations finished on 84000/178122 queries. users per second: 124030"
      ]
     },
     "metadata": {},
     "output_type": "display_data"
    },
    {
     "data": {
      "text/html": [
       "<pre>recommendations finished on 85000/178122 queries. users per second: 124199</pre>"
      ],
      "text/plain": [
       "recommendations finished on 85000/178122 queries. users per second: 124199"
      ]
     },
     "metadata": {},
     "output_type": "display_data"
    },
    {
     "data": {
      "text/html": [
       "<pre>recommendations finished on 86000/178122 queries. users per second: 124495</pre>"
      ],
      "text/plain": [
       "recommendations finished on 86000/178122 queries. users per second: 124495"
      ]
     },
     "metadata": {},
     "output_type": "display_data"
    },
    {
     "data": {
      "text/html": [
       "<pre>recommendations finished on 87000/178122 queries. users per second: 124830</pre>"
      ],
      "text/plain": [
       "recommendations finished on 87000/178122 queries. users per second: 124830"
      ]
     },
     "metadata": {},
     "output_type": "display_data"
    },
    {
     "data": {
      "text/html": [
       "<pre>recommendations finished on 88000/178122 queries. users per second: 125228</pre>"
      ],
      "text/plain": [
       "recommendations finished on 88000/178122 queries. users per second: 125228"
      ]
     },
     "metadata": {},
     "output_type": "display_data"
    },
    {
     "data": {
      "text/html": [
       "<pre>recommendations finished on 89000/178122 queries. users per second: 125588</pre>"
      ],
      "text/plain": [
       "recommendations finished on 89000/178122 queries. users per second: 125588"
      ]
     },
     "metadata": {},
     "output_type": "display_data"
    },
    {
     "data": {
      "text/html": [
       "<pre>recommendations finished on 90000/178122 queries. users per second: 125512</pre>"
      ],
      "text/plain": [
       "recommendations finished on 90000/178122 queries. users per second: 125512"
      ]
     },
     "metadata": {},
     "output_type": "display_data"
    },
    {
     "data": {
      "text/html": [
       "<pre>recommendations finished on 91000/178122 queries. users per second: 120986</pre>"
      ],
      "text/plain": [
       "recommendations finished on 91000/178122 queries. users per second: 120986"
      ]
     },
     "metadata": {},
     "output_type": "display_data"
    },
    {
     "data": {
      "text/html": [
       "<pre>recommendations finished on 92000/178122 queries. users per second: 121545</pre>"
      ],
      "text/plain": [
       "recommendations finished on 92000/178122 queries. users per second: 121545"
      ]
     },
     "metadata": {},
     "output_type": "display_data"
    },
    {
     "data": {
      "text/html": [
       "<pre>recommendations finished on 93000/178122 queries. users per second: 121803</pre>"
      ],
      "text/plain": [
       "recommendations finished on 93000/178122 queries. users per second: 121803"
      ]
     },
     "metadata": {},
     "output_type": "display_data"
    },
    {
     "data": {
      "text/html": [
       "<pre>recommendations finished on 94000/178122 queries. users per second: 122010</pre>"
      ],
      "text/plain": [
       "recommendations finished on 94000/178122 queries. users per second: 122010"
      ]
     },
     "metadata": {},
     "output_type": "display_data"
    },
    {
     "data": {
      "text/html": [
       "<pre>recommendations finished on 95000/178122 queries. users per second: 122415</pre>"
      ],
      "text/plain": [
       "recommendations finished on 95000/178122 queries. users per second: 122415"
      ]
     },
     "metadata": {},
     "output_type": "display_data"
    },
    {
     "data": {
      "text/html": [
       "<pre>recommendations finished on 96000/178122 queries. users per second: 122801</pre>"
      ],
      "text/plain": [
       "recommendations finished on 96000/178122 queries. users per second: 122801"
      ]
     },
     "metadata": {},
     "output_type": "display_data"
    },
    {
     "data": {
      "text/html": [
       "<pre>recommendations finished on 97000/178122 queries. users per second: 123125</pre>"
      ],
      "text/plain": [
       "recommendations finished on 97000/178122 queries. users per second: 123125"
      ]
     },
     "metadata": {},
     "output_type": "display_data"
    },
    {
     "data": {
      "text/html": [
       "<pre>recommendations finished on 98000/178122 queries. users per second: 122013</pre>"
      ],
      "text/plain": [
       "recommendations finished on 98000/178122 queries. users per second: 122013"
      ]
     },
     "metadata": {},
     "output_type": "display_data"
    },
    {
     "data": {
      "text/html": [
       "<pre>recommendations finished on 99000/178122 queries. users per second: 119548</pre>"
      ],
      "text/plain": [
       "recommendations finished on 99000/178122 queries. users per second: 119548"
      ]
     },
     "metadata": {},
     "output_type": "display_data"
    },
    {
     "data": {
      "text/html": [
       "<pre>recommendations finished on 100000/178122 queries. users per second: 120151</pre>"
      ],
      "text/plain": [
       "recommendations finished on 100000/178122 queries. users per second: 120151"
      ]
     },
     "metadata": {},
     "output_type": "display_data"
    },
    {
     "data": {
      "text/html": [
       "<pre>recommendations finished on 101000/178122 queries. users per second: 120656</pre>"
      ],
      "text/plain": [
       "recommendations finished on 101000/178122 queries. users per second: 120656"
      ]
     },
     "metadata": {},
     "output_type": "display_data"
    },
    {
     "data": {
      "text/html": [
       "<pre>recommendations finished on 102000/178122 queries. users per second: 120887</pre>"
      ],
      "text/plain": [
       "recommendations finished on 102000/178122 queries. users per second: 120887"
      ]
     },
     "metadata": {},
     "output_type": "display_data"
    },
    {
     "data": {
      "text/html": [
       "<pre>recommendations finished on 103000/178122 queries. users per second: 121226</pre>"
      ],
      "text/plain": [
       "recommendations finished on 103000/178122 queries. users per second: 121226"
      ]
     },
     "metadata": {},
     "output_type": "display_data"
    },
    {
     "data": {
      "text/html": [
       "<pre>recommendations finished on 104000/178122 queries. users per second: 121325</pre>"
      ],
      "text/plain": [
       "recommendations finished on 104000/178122 queries. users per second: 121325"
      ]
     },
     "metadata": {},
     "output_type": "display_data"
    },
    {
     "data": {
      "text/html": [
       "<pre>recommendations finished on 105000/178122 queries. users per second: 121940</pre>"
      ],
      "text/plain": [
       "recommendations finished on 105000/178122 queries. users per second: 121940"
      ]
     },
     "metadata": {},
     "output_type": "display_data"
    },
    {
     "data": {
      "text/html": [
       "<pre>recommendations finished on 106000/178122 queries. users per second: 122189</pre>"
      ],
      "text/plain": [
       "recommendations finished on 106000/178122 queries. users per second: 122189"
      ]
     },
     "metadata": {},
     "output_type": "display_data"
    },
    {
     "data": {
      "text/html": [
       "<pre>recommendations finished on 107000/178122 queries. users per second: 122638</pre>"
      ],
      "text/plain": [
       "recommendations finished on 107000/178122 queries. users per second: 122638"
      ]
     },
     "metadata": {},
     "output_type": "display_data"
    },
    {
     "data": {
      "text/html": [
       "<pre>recommendations finished on 108000/178122 queries. users per second: 122964</pre>"
      ],
      "text/plain": [
       "recommendations finished on 108000/178122 queries. users per second: 122964"
      ]
     },
     "metadata": {},
     "output_type": "display_data"
    },
    {
     "data": {
      "text/html": [
       "<pre>recommendations finished on 109000/178122 queries. users per second: 111807</pre>"
      ],
      "text/plain": [
       "recommendations finished on 109000/178122 queries. users per second: 111807"
      ]
     },
     "metadata": {},
     "output_type": "display_data"
    },
    {
     "data": {
      "text/html": [
       "<pre>recommendations finished on 110000/178122 queries. users per second: 110397</pre>"
      ],
      "text/plain": [
       "recommendations finished on 110000/178122 queries. users per second: 110397"
      ]
     },
     "metadata": {},
     "output_type": "display_data"
    },
    {
     "data": {
      "text/html": [
       "<pre>recommendations finished on 111000/178122 queries. users per second: 105658</pre>"
      ],
      "text/plain": [
       "recommendations finished on 111000/178122 queries. users per second: 105658"
      ]
     },
     "metadata": {},
     "output_type": "display_data"
    },
    {
     "data": {
      "text/html": [
       "<pre>recommendations finished on 112000/178122 queries. users per second: 104442</pre>"
      ],
      "text/plain": [
       "recommendations finished on 112000/178122 queries. users per second: 104442"
      ]
     },
     "metadata": {},
     "output_type": "display_data"
    },
    {
     "data": {
      "text/html": [
       "<pre>recommendations finished on 113000/178122 queries. users per second: 104902</pre>"
      ],
      "text/plain": [
       "recommendations finished on 113000/178122 queries. users per second: 104902"
      ]
     },
     "metadata": {},
     "output_type": "display_data"
    },
    {
     "data": {
      "text/html": [
       "<pre>recommendations finished on 114000/178122 queries. users per second: 105407</pre>"
      ],
      "text/plain": [
       "recommendations finished on 114000/178122 queries. users per second: 105407"
      ]
     },
     "metadata": {},
     "output_type": "display_data"
    },
    {
     "data": {
      "text/html": [
       "<pre>recommendations finished on 115000/178122 queries. users per second: 106006</pre>"
      ],
      "text/plain": [
       "recommendations finished on 115000/178122 queries. users per second: 106006"
      ]
     },
     "metadata": {},
     "output_type": "display_data"
    },
    {
     "data": {
      "text/html": [
       "<pre>recommendations finished on 116000/178122 queries. users per second: 106634</pre>"
      ],
      "text/plain": [
       "recommendations finished on 116000/178122 queries. users per second: 106634"
      ]
     },
     "metadata": {},
     "output_type": "display_data"
    },
    {
     "data": {
      "text/html": [
       "<pre>recommendations finished on 117000/178122 queries. users per second: 107216</pre>"
      ],
      "text/plain": [
       "recommendations finished on 117000/178122 queries. users per second: 107216"
      ]
     },
     "metadata": {},
     "output_type": "display_data"
    },
    {
     "data": {
      "text/html": [
       "<pre>recommendations finished on 118000/178122 queries. users per second: 107774</pre>"
      ],
      "text/plain": [
       "recommendations finished on 118000/178122 queries. users per second: 107774"
      ]
     },
     "metadata": {},
     "output_type": "display_data"
    },
    {
     "data": {
      "text/html": [
       "<pre>recommendations finished on 119000/178122 queries. users per second: 108387</pre>"
      ],
      "text/plain": [
       "recommendations finished on 119000/178122 queries. users per second: 108387"
      ]
     },
     "metadata": {},
     "output_type": "display_data"
    },
    {
     "data": {
      "text/html": [
       "<pre>recommendations finished on 120000/178122 queries. users per second: 108962</pre>"
      ],
      "text/plain": [
       "recommendations finished on 120000/178122 queries. users per second: 108962"
      ]
     },
     "metadata": {},
     "output_type": "display_data"
    },
    {
     "data": {
      "text/html": [
       "<pre>recommendations finished on 121000/178122 queries. users per second: 109120</pre>"
      ],
      "text/plain": [
       "recommendations finished on 121000/178122 queries. users per second: 109120"
      ]
     },
     "metadata": {},
     "output_type": "display_data"
    },
    {
     "data": {
      "text/html": [
       "<pre>recommendations finished on 122000/178122 queries. users per second: 109478</pre>"
      ],
      "text/plain": [
       "recommendations finished on 122000/178122 queries. users per second: 109478"
      ]
     },
     "metadata": {},
     "output_type": "display_data"
    },
    {
     "data": {
      "text/html": [
       "<pre>recommendations finished on 123000/178122 queries. users per second: 109852</pre>"
      ],
      "text/plain": [
       "recommendations finished on 123000/178122 queries. users per second: 109852"
      ]
     },
     "metadata": {},
     "output_type": "display_data"
    },
    {
     "data": {
      "text/html": [
       "<pre>recommendations finished on 124000/178122 queries. users per second: 110098</pre>"
      ],
      "text/plain": [
       "recommendations finished on 124000/178122 queries. users per second: 110098"
      ]
     },
     "metadata": {},
     "output_type": "display_data"
    },
    {
     "data": {
      "text/html": [
       "<pre>recommendations finished on 125000/178122 queries. users per second: 110489</pre>"
      ],
      "text/plain": [
       "recommendations finished on 125000/178122 queries. users per second: 110489"
      ]
     },
     "metadata": {},
     "output_type": "display_data"
    },
    {
     "data": {
      "text/html": [
       "<pre>recommendations finished on 126000/178122 queries. users per second: 110801</pre>"
      ],
      "text/plain": [
       "recommendations finished on 126000/178122 queries. users per second: 110801"
      ]
     },
     "metadata": {},
     "output_type": "display_data"
    },
    {
     "data": {
      "text/html": [
       "<pre>recommendations finished on 127000/178122 queries. users per second: 110813</pre>"
      ],
      "text/plain": [
       "recommendations finished on 127000/178122 queries. users per second: 110813"
      ]
     },
     "metadata": {},
     "output_type": "display_data"
    },
    {
     "data": {
      "text/html": [
       "<pre>recommendations finished on 128000/178122 queries. users per second: 110838</pre>"
      ],
      "text/plain": [
       "recommendations finished on 128000/178122 queries. users per second: 110838"
      ]
     },
     "metadata": {},
     "output_type": "display_data"
    },
    {
     "data": {
      "text/html": [
       "<pre>recommendations finished on 129000/178122 queries. users per second: 110715</pre>"
      ],
      "text/plain": [
       "recommendations finished on 129000/178122 queries. users per second: 110715"
      ]
     },
     "metadata": {},
     "output_type": "display_data"
    },
    {
     "data": {
      "text/html": [
       "<pre>recommendations finished on 130000/178122 queries. users per second: 110367</pre>"
      ],
      "text/plain": [
       "recommendations finished on 130000/178122 queries. users per second: 110367"
      ]
     },
     "metadata": {},
     "output_type": "display_data"
    },
    {
     "data": {
      "text/html": [
       "<pre>recommendations finished on 131000/178122 queries. users per second: 109620</pre>"
      ],
      "text/plain": [
       "recommendations finished on 131000/178122 queries. users per second: 109620"
      ]
     },
     "metadata": {},
     "output_type": "display_data"
    },
    {
     "data": {
      "text/html": [
       "<pre>recommendations finished on 132000/178122 queries. users per second: 108657</pre>"
      ],
      "text/plain": [
       "recommendations finished on 132000/178122 queries. users per second: 108657"
      ]
     },
     "metadata": {},
     "output_type": "display_data"
    },
    {
     "data": {
      "text/html": [
       "<pre>recommendations finished on 133000/178122 queries. users per second: 108930</pre>"
      ],
      "text/plain": [
       "recommendations finished on 133000/178122 queries. users per second: 108930"
      ]
     },
     "metadata": {},
     "output_type": "display_data"
    },
    {
     "data": {
      "text/html": [
       "<pre>recommendations finished on 134000/178122 queries. users per second: 109110</pre>"
      ],
      "text/plain": [
       "recommendations finished on 134000/178122 queries. users per second: 109110"
      ]
     },
     "metadata": {},
     "output_type": "display_data"
    },
    {
     "data": {
      "text/html": [
       "<pre>recommendations finished on 135000/178122 queries. users per second: 109459</pre>"
      ],
      "text/plain": [
       "recommendations finished on 135000/178122 queries. users per second: 109459"
      ]
     },
     "metadata": {},
     "output_type": "display_data"
    },
    {
     "data": {
      "text/html": [
       "<pre>recommendations finished on 136000/178122 queries. users per second: 109800</pre>"
      ],
      "text/plain": [
       "recommendations finished on 136000/178122 queries. users per second: 109800"
      ]
     },
     "metadata": {},
     "output_type": "display_data"
    },
    {
     "data": {
      "text/html": [
       "<pre>recommendations finished on 137000/178122 queries. users per second: 110188</pre>"
      ],
      "text/plain": [
       "recommendations finished on 137000/178122 queries. users per second: 110188"
      ]
     },
     "metadata": {},
     "output_type": "display_data"
    },
    {
     "data": {
      "text/html": [
       "<pre>recommendations finished on 138000/178122 queries. users per second: 110668</pre>"
      ],
      "text/plain": [
       "recommendations finished on 138000/178122 queries. users per second: 110668"
      ]
     },
     "metadata": {},
     "output_type": "display_data"
    },
    {
     "data": {
      "text/html": [
       "<pre>recommendations finished on 139000/178122 queries. users per second: 110990</pre>"
      ],
      "text/plain": [
       "recommendations finished on 139000/178122 queries. users per second: 110990"
      ]
     },
     "metadata": {},
     "output_type": "display_data"
    },
    {
     "data": {
      "text/html": [
       "<pre>recommendations finished on 140000/178122 queries. users per second: 111372</pre>"
      ],
      "text/plain": [
       "recommendations finished on 140000/178122 queries. users per second: 111372"
      ]
     },
     "metadata": {},
     "output_type": "display_data"
    },
    {
     "data": {
      "text/html": [
       "<pre>recommendations finished on 141000/178122 queries. users per second: 111780</pre>"
      ],
      "text/plain": [
       "recommendations finished on 141000/178122 queries. users per second: 111780"
      ]
     },
     "metadata": {},
     "output_type": "display_data"
    },
    {
     "data": {
      "text/html": [
       "<pre>recommendations finished on 142000/178122 queries. users per second: 112112</pre>"
      ],
      "text/plain": [
       "recommendations finished on 142000/178122 queries. users per second: 112112"
      ]
     },
     "metadata": {},
     "output_type": "display_data"
    },
    {
     "data": {
      "text/html": [
       "<pre>recommendations finished on 143000/178122 queries. users per second: 112514</pre>"
      ],
      "text/plain": [
       "recommendations finished on 143000/178122 queries. users per second: 112514"
      ]
     },
     "metadata": {},
     "output_type": "display_data"
    },
    {
     "data": {
      "text/html": [
       "<pre>recommendations finished on 144000/178122 queries. users per second: 112888</pre>"
      ],
      "text/plain": [
       "recommendations finished on 144000/178122 queries. users per second: 112888"
      ]
     },
     "metadata": {},
     "output_type": "display_data"
    },
    {
     "data": {
      "text/html": [
       "<pre>recommendations finished on 145000/178122 queries. users per second: 113157</pre>"
      ],
      "text/plain": [
       "recommendations finished on 145000/178122 queries. users per second: 113157"
      ]
     },
     "metadata": {},
     "output_type": "display_data"
    },
    {
     "data": {
      "text/html": [
       "<pre>recommendations finished on 146000/178122 queries. users per second: 113488</pre>"
      ],
      "text/plain": [
       "recommendations finished on 146000/178122 queries. users per second: 113488"
      ]
     },
     "metadata": {},
     "output_type": "display_data"
    },
    {
     "data": {
      "text/html": [
       "<pre>recommendations finished on 147000/178122 queries. users per second: 113424</pre>"
      ],
      "text/plain": [
       "recommendations finished on 147000/178122 queries. users per second: 113424"
      ]
     },
     "metadata": {},
     "output_type": "display_data"
    },
    {
     "data": {
      "text/html": [
       "<pre>recommendations finished on 148000/178122 queries. users per second: 113768</pre>"
      ],
      "text/plain": [
       "recommendations finished on 148000/178122 queries. users per second: 113768"
      ]
     },
     "metadata": {},
     "output_type": "display_data"
    },
    {
     "data": {
      "text/html": [
       "<pre>recommendations finished on 149000/178122 queries. users per second: 114043</pre>"
      ],
      "text/plain": [
       "recommendations finished on 149000/178122 queries. users per second: 114043"
      ]
     },
     "metadata": {},
     "output_type": "display_data"
    },
    {
     "data": {
      "text/html": [
       "<pre>recommendations finished on 150000/178122 queries. users per second: 114281</pre>"
      ],
      "text/plain": [
       "recommendations finished on 150000/178122 queries. users per second: 114281"
      ]
     },
     "metadata": {},
     "output_type": "display_data"
    },
    {
     "data": {
      "text/html": [
       "<pre>recommendations finished on 151000/178122 queries. users per second: 114279</pre>"
      ],
      "text/plain": [
       "recommendations finished on 151000/178122 queries. users per second: 114279"
      ]
     },
     "metadata": {},
     "output_type": "display_data"
    },
    {
     "data": {
      "text/html": [
       "<pre>recommendations finished on 152000/178122 queries. users per second: 114459</pre>"
      ],
      "text/plain": [
       "recommendations finished on 152000/178122 queries. users per second: 114459"
      ]
     },
     "metadata": {},
     "output_type": "display_data"
    },
    {
     "data": {
      "text/html": [
       "<pre>recommendations finished on 153000/178122 queries. users per second: 114573</pre>"
      ],
      "text/plain": [
       "recommendations finished on 153000/178122 queries. users per second: 114573"
      ]
     },
     "metadata": {},
     "output_type": "display_data"
    },
    {
     "data": {
      "text/html": [
       "<pre>recommendations finished on 154000/178122 queries. users per second: 114364</pre>"
      ],
      "text/plain": [
       "recommendations finished on 154000/178122 queries. users per second: 114364"
      ]
     },
     "metadata": {},
     "output_type": "display_data"
    },
    {
     "data": {
      "text/html": [
       "<pre>recommendations finished on 155000/178122 queries. users per second: 113844</pre>"
      ],
      "text/plain": [
       "recommendations finished on 155000/178122 queries. users per second: 113844"
      ]
     },
     "metadata": {},
     "output_type": "display_data"
    },
    {
     "data": {
      "text/html": [
       "<pre>recommendations finished on 156000/178122 queries. users per second: 113804</pre>"
      ],
      "text/plain": [
       "recommendations finished on 156000/178122 queries. users per second: 113804"
      ]
     },
     "metadata": {},
     "output_type": "display_data"
    },
    {
     "data": {
      "text/html": [
       "<pre>recommendations finished on 157000/178122 queries. users per second: 105183</pre>"
      ],
      "text/plain": [
       "recommendations finished on 157000/178122 queries. users per second: 105183"
      ]
     },
     "metadata": {},
     "output_type": "display_data"
    },
    {
     "data": {
      "text/html": [
       "<pre>recommendations finished on 158000/178122 queries. users per second: 104349</pre>"
      ],
      "text/plain": [
       "recommendations finished on 158000/178122 queries. users per second: 104349"
      ]
     },
     "metadata": {},
     "output_type": "display_data"
    },
    {
     "data": {
      "text/html": [
       "<pre>recommendations finished on 159000/178122 queries. users per second: 104494</pre>"
      ],
      "text/plain": [
       "recommendations finished on 159000/178122 queries. users per second: 104494"
      ]
     },
     "metadata": {},
     "output_type": "display_data"
    },
    {
     "data": {
      "text/html": [
       "<pre>recommendations finished on 160000/178122 queries. users per second: 100205</pre>"
      ],
      "text/plain": [
       "recommendations finished on 160000/178122 queries. users per second: 100205"
      ]
     },
     "metadata": {},
     "output_type": "display_data"
    },
    {
     "data": {
      "text/html": [
       "<pre>recommendations finished on 161000/178122 queries. users per second: 100434</pre>"
      ],
      "text/plain": [
       "recommendations finished on 161000/178122 queries. users per second: 100434"
      ]
     },
     "metadata": {},
     "output_type": "display_data"
    },
    {
     "data": {
      "text/html": [
       "<pre>recommendations finished on 162000/178122 queries. users per second: 95451.1</pre>"
      ],
      "text/plain": [
       "recommendations finished on 162000/178122 queries. users per second: 95451.1"
      ]
     },
     "metadata": {},
     "output_type": "display_data"
    },
    {
     "data": {
      "text/html": [
       "<pre>recommendations finished on 163000/178122 queries. users per second: 95436.9</pre>"
      ],
      "text/plain": [
       "recommendations finished on 163000/178122 queries. users per second: 95436.9"
      ]
     },
     "metadata": {},
     "output_type": "display_data"
    },
    {
     "data": {
      "text/html": [
       "<pre>recommendations finished on 164000/178122 queries. users per second: 91676.8</pre>"
      ],
      "text/plain": [
       "recommendations finished on 164000/178122 queries. users per second: 91676.8"
      ]
     },
     "metadata": {},
     "output_type": "display_data"
    },
    {
     "data": {
      "text/html": [
       "<pre>recommendations finished on 165000/178122 queries. users per second: 91623.2</pre>"
      ],
      "text/plain": [
       "recommendations finished on 165000/178122 queries. users per second: 91623.2"
      ]
     },
     "metadata": {},
     "output_type": "display_data"
    },
    {
     "data": {
      "text/html": [
       "<pre>recommendations finished on 166000/178122 queries. users per second: 91599.2</pre>"
      ],
      "text/plain": [
       "recommendations finished on 166000/178122 queries. users per second: 91599.2"
      ]
     },
     "metadata": {},
     "output_type": "display_data"
    },
    {
     "data": {
      "text/html": [
       "<pre>recommendations finished on 167000/178122 queries. users per second: 91591.8</pre>"
      ],
      "text/plain": [
       "recommendations finished on 167000/178122 queries. users per second: 91591.8"
      ]
     },
     "metadata": {},
     "output_type": "display_data"
    },
    {
     "data": {
      "text/html": [
       "<pre>recommendations finished on 168000/178122 queries. users per second: 91556.3</pre>"
      ],
      "text/plain": [
       "recommendations finished on 168000/178122 queries. users per second: 91556.3"
      ]
     },
     "metadata": {},
     "output_type": "display_data"
    },
    {
     "data": {
      "text/html": [
       "<pre>recommendations finished on 169000/178122 queries. users per second: 91469.3</pre>"
      ],
      "text/plain": [
       "recommendations finished on 169000/178122 queries. users per second: 91469.3"
      ]
     },
     "metadata": {},
     "output_type": "display_data"
    },
    {
     "data": {
      "text/html": [
       "<pre>recommendations finished on 170000/178122 queries. users per second: 89331.8</pre>"
      ],
      "text/plain": [
       "recommendations finished on 170000/178122 queries. users per second: 89331.8"
      ]
     },
     "metadata": {},
     "output_type": "display_data"
    },
    {
     "data": {
      "text/html": [
       "<pre>recommendations finished on 171000/178122 queries. users per second: 89346.3</pre>"
      ],
      "text/plain": [
       "recommendations finished on 171000/178122 queries. users per second: 89346.3"
      ]
     },
     "metadata": {},
     "output_type": "display_data"
    },
    {
     "data": {
      "text/html": [
       "<pre>recommendations finished on 172000/178122 queries. users per second: 89365.7</pre>"
      ],
      "text/plain": [
       "recommendations finished on 172000/178122 queries. users per second: 89365.7"
      ]
     },
     "metadata": {},
     "output_type": "display_data"
    },
    {
     "data": {
      "text/html": [
       "<pre>recommendations finished on 173000/178122 queries. users per second: 89347.1</pre>"
      ],
      "text/plain": [
       "recommendations finished on 173000/178122 queries. users per second: 89347.1"
      ]
     },
     "metadata": {},
     "output_type": "display_data"
    },
    {
     "data": {
      "text/html": [
       "<pre>recommendations finished on 174000/178122 queries. users per second: 89334.2</pre>"
      ],
      "text/plain": [
       "recommendations finished on 174000/178122 queries. users per second: 89334.2"
      ]
     },
     "metadata": {},
     "output_type": "display_data"
    },
    {
     "data": {
      "text/html": [
       "<pre>recommendations finished on 175000/178122 queries. users per second: 89268.2</pre>"
      ],
      "text/plain": [
       "recommendations finished on 175000/178122 queries. users per second: 89268.2"
      ]
     },
     "metadata": {},
     "output_type": "display_data"
    },
    {
     "data": {
      "text/html": [
       "<pre>recommendations finished on 176000/178122 queries. users per second: 89148.2</pre>"
      ],
      "text/plain": [
       "recommendations finished on 176000/178122 queries. users per second: 89148.2"
      ]
     },
     "metadata": {},
     "output_type": "display_data"
    },
    {
     "data": {
      "text/html": [
       "<pre>recommendations finished on 177000/178122 queries. users per second: 89029</pre>"
      ],
      "text/plain": [
       "recommendations finished on 177000/178122 queries. users per second: 89029"
      ]
     },
     "metadata": {},
     "output_type": "display_data"
    },
    {
     "name": "stdout",
     "output_type": "stream",
     "text": [
      "+------------+---------+---------------+------+\n",
      "|  Customer  | Product |     score     | rank |\n",
      "+------------+---------+---------------+------+\n",
      "| CC20190310 |   2_15  | 56.0674846626 |  1   |\n",
      "| CC20190310 |   3_21  | 55.9212962963 |  2   |\n",
      "| CC20190310 |   2_29  | 55.8069306931 |  3   |\n",
      "| CC20190310 |   2_10  | 55.5778491172 |  4   |\n",
      "| CC20190310 |   0_15  | 55.5538461538 |  5   |\n",
      "| CC20190310 |   2_28  | 55.3065326633 |  6   |\n",
      "| CC20190310 |   1_21  | 55.2561349693 |  7   |\n",
      "| CC20190310 |   7_9   | 55.0095238095 |  8   |\n",
      "| CC20190310 |   6_19  | 54.9495114007 |  9   |\n",
      "| CC20190310 |   5_21  | 54.8238021638 |  10  |\n",
      "| CC20190310 |   2_15  | 56.0674846626 |  1   |\n",
      "| CC20190310 |   3_21  | 55.9212962963 |  2   |\n",
      "| CC20190310 |   2_29  | 55.8069306931 |  3   |\n",
      "| CC20190310 |   2_10  | 55.5778491172 |  4   |\n",
      "| CC20190310 |   0_15  | 55.5538461538 |  5   |\n",
      "| CC20190310 |   2_28  | 55.3065326633 |  6   |\n",
      "| CC20190310 |   1_21  | 55.2561349693 |  7   |\n",
      "| CC20190310 |   7_9   | 55.0095238095 |  8   |\n",
      "| CC20190310 |   6_19  | 54.9495114007 |  9   |\n",
      "| CC20190310 |   5_21  | 54.8238021638 |  10  |\n",
      "| CC20190310 |   2_15  | 56.0674846626 |  1   |\n",
      "| CC20190310 |   3_21  | 55.9212962963 |  2   |\n",
      "| CC20190310 |   2_29  | 55.8069306931 |  3   |\n",
      "| CC20190310 |   2_10  | 55.5778491172 |  4   |\n",
      "| CC20190310 |   0_15  | 55.5538461538 |  5   |\n",
      "| CC20190310 |   2_28  | 55.3065326633 |  6   |\n",
      "| CC20190310 |   1_21  | 55.2561349693 |  7   |\n",
      "| CC20190310 |   7_9   | 55.0095238095 |  8   |\n",
      "| CC20190310 |   6_19  | 54.9495114007 |  9   |\n",
      "| CC20190310 |   5_21  | 54.8238021638 |  10  |\n",
      "+------------+---------+---------------+------+\n",
      "[1781220 rows x 4 columns]\n",
      "\n"
     ]
    },
    {
     "data": {
      "text/html": [
       "<pre>recommendations finished on 178000/178122 queries. users per second: 89004.9</pre>"
      ],
      "text/plain": [
       "recommendations finished on 178000/178122 queries. users per second: 89004.9"
      ]
     },
     "metadata": {},
     "output_type": "display_data"
    }
   ],
   "source": [
    "# Using number of seconds SecNumF\n",
    "\n",
    "name = 'popularity'\n",
    "target = 'SecNumF'\n",
    "popularity = model(train_data, name, user_id, item_id, target, users_to_recommend, n_rec, n_display)"
   ]
  },
  {
   "cell_type": "code",
   "execution_count": 21,
   "metadata": {
    "collapsed": false,
    "deletable": true,
    "editable": true
   },
   "outputs": [
    {
     "data": {
      "text/html": [
       "<pre>Warning: Ignoring columns SecNumF;</pre>"
      ],
      "text/plain": [
       "Warning: Ignoring columns SecNumF;"
      ]
     },
     "metadata": {},
     "output_type": "display_data"
    },
    {
     "data": {
      "text/html": [
       "<pre>    To use these columns in scoring predictions, use a model that allows the use of additional features.</pre>"
      ],
      "text/plain": [
       "    To use these columns in scoring predictions, use a model that allows the use of additional features."
      ]
     },
     "metadata": {},
     "output_type": "display_data"
    },
    {
     "data": {
      "text/html": [
       "<pre>Preparing data set.</pre>"
      ],
      "text/plain": [
       "Preparing data set."
      ]
     },
     "metadata": {},
     "output_type": "display_data"
    },
    {
     "data": {
      "text/html": [
       "<pre>    Data has 142497 observations with 1436 users and 235 items.</pre>"
      ],
      "text/plain": [
       "    Data has 142497 observations with 1436 users and 235 items."
      ]
     },
     "metadata": {},
     "output_type": "display_data"
    },
    {
     "data": {
      "text/html": [
       "<pre>    Data prepared in: 0.388144s</pre>"
      ],
      "text/plain": [
       "    Data prepared in: 0.388144s"
      ]
     },
     "metadata": {},
     "output_type": "display_data"
    },
    {
     "data": {
      "text/html": [
       "<pre>142497 observations to process; with 235 unique items.</pre>"
      ],
      "text/plain": [
       "142497 observations to process; with 235 unique items."
      ]
     },
     "metadata": {},
     "output_type": "display_data"
    },
    {
     "data": {
      "text/html": [
       "<pre>recommendations finished on 1000/178122 queries. users per second: 70032.9</pre>"
      ],
      "text/plain": [
       "recommendations finished on 1000/178122 queries. users per second: 70032.9"
      ]
     },
     "metadata": {},
     "output_type": "display_data"
    },
    {
     "data": {
      "text/html": [
       "<pre>recommendations finished on 2000/178122 queries. users per second: 114528</pre>"
      ],
      "text/plain": [
       "recommendations finished on 2000/178122 queries. users per second: 114528"
      ]
     },
     "metadata": {},
     "output_type": "display_data"
    },
    {
     "data": {
      "text/html": [
       "<pre>recommendations finished on 3000/178122 queries. users per second: 148214</pre>"
      ],
      "text/plain": [
       "recommendations finished on 3000/178122 queries. users per second: 148214"
      ]
     },
     "metadata": {},
     "output_type": "display_data"
    },
    {
     "data": {
      "text/html": [
       "<pre>recommendations finished on 4000/178122 queries. users per second: 170547</pre>"
      ],
      "text/plain": [
       "recommendations finished on 4000/178122 queries. users per second: 170547"
      ]
     },
     "metadata": {},
     "output_type": "display_data"
    },
    {
     "data": {
      "text/html": [
       "<pre>recommendations finished on 5000/178122 queries. users per second: 191461</pre>"
      ],
      "text/plain": [
       "recommendations finished on 5000/178122 queries. users per second: 191461"
      ]
     },
     "metadata": {},
     "output_type": "display_data"
    },
    {
     "data": {
      "text/html": [
       "<pre>recommendations finished on 6000/178122 queries. users per second: 200904</pre>"
      ],
      "text/plain": [
       "recommendations finished on 6000/178122 queries. users per second: 200904"
      ]
     },
     "metadata": {},
     "output_type": "display_data"
    },
    {
     "data": {
      "text/html": [
       "<pre>recommendations finished on 7000/178122 queries. users per second: 198728</pre>"
      ],
      "text/plain": [
       "recommendations finished on 7000/178122 queries. users per second: 198728"
      ]
     },
     "metadata": {},
     "output_type": "display_data"
    },
    {
     "data": {
      "text/html": [
       "<pre>recommendations finished on 8000/178122 queries. users per second: 208480</pre>"
      ],
      "text/plain": [
       "recommendations finished on 8000/178122 queries. users per second: 208480"
      ]
     },
     "metadata": {},
     "output_type": "display_data"
    },
    {
     "data": {
      "text/html": [
       "<pre>recommendations finished on 9000/178122 queries. users per second: 219357</pre>"
      ],
      "text/plain": [
       "recommendations finished on 9000/178122 queries. users per second: 219357"
      ]
     },
     "metadata": {},
     "output_type": "display_data"
    },
    {
     "data": {
      "text/html": [
       "<pre>recommendations finished on 10000/178122 queries. users per second: 228217</pre>"
      ],
      "text/plain": [
       "recommendations finished on 10000/178122 queries. users per second: 228217"
      ]
     },
     "metadata": {},
     "output_type": "display_data"
    },
    {
     "data": {
      "text/html": [
       "<pre>recommendations finished on 11000/178122 queries. users per second: 205673</pre>"
      ],
      "text/plain": [
       "recommendations finished on 11000/178122 queries. users per second: 205673"
      ]
     },
     "metadata": {},
     "output_type": "display_data"
    },
    {
     "data": {
      "text/html": [
       "<pre>recommendations finished on 12000/178122 queries. users per second: 189882</pre>"
      ],
      "text/plain": [
       "recommendations finished on 12000/178122 queries. users per second: 189882"
      ]
     },
     "metadata": {},
     "output_type": "display_data"
    },
    {
     "data": {
      "text/html": [
       "<pre>recommendations finished on 13000/178122 queries. users per second: 54187</pre>"
      ],
      "text/plain": [
       "recommendations finished on 13000/178122 queries. users per second: 54187"
      ]
     },
     "metadata": {},
     "output_type": "display_data"
    },
    {
     "data": {
      "text/html": [
       "<pre>recommendations finished on 14000/178122 queries. users per second: 45029.5</pre>"
      ],
      "text/plain": [
       "recommendations finished on 14000/178122 queries. users per second: 45029.5"
      ]
     },
     "metadata": {},
     "output_type": "display_data"
    },
    {
     "data": {
      "text/html": [
       "<pre>recommendations finished on 15000/178122 queries. users per second: 47447.8</pre>"
      ],
      "text/plain": [
       "recommendations finished on 15000/178122 queries. users per second: 47447.8"
      ]
     },
     "metadata": {},
     "output_type": "display_data"
    },
    {
     "data": {
      "text/html": [
       "<pre>recommendations finished on 16000/178122 queries. users per second: 49788.4</pre>"
      ],
      "text/plain": [
       "recommendations finished on 16000/178122 queries. users per second: 49788.4"
      ]
     },
     "metadata": {},
     "output_type": "display_data"
    },
    {
     "data": {
      "text/html": [
       "<pre>recommendations finished on 17000/178122 queries. users per second: 52249.2</pre>"
      ],
      "text/plain": [
       "recommendations finished on 17000/178122 queries. users per second: 52249.2"
      ]
     },
     "metadata": {},
     "output_type": "display_data"
    },
    {
     "data": {
      "text/html": [
       "<pre>recommendations finished on 18000/178122 queries. users per second: 54724.9</pre>"
      ],
      "text/plain": [
       "recommendations finished on 18000/178122 queries. users per second: 54724.9"
      ]
     },
     "metadata": {},
     "output_type": "display_data"
    },
    {
     "data": {
      "text/html": [
       "<pre>recommendations finished on 19000/178122 queries. users per second: 56836.9</pre>"
      ],
      "text/plain": [
       "recommendations finished on 19000/178122 queries. users per second: 56836.9"
      ]
     },
     "metadata": {},
     "output_type": "display_data"
    },
    {
     "data": {
      "text/html": [
       "<pre>recommendations finished on 20000/178122 queries. users per second: 57113</pre>"
      ],
      "text/plain": [
       "recommendations finished on 20000/178122 queries. users per second: 57113"
      ]
     },
     "metadata": {},
     "output_type": "display_data"
    },
    {
     "data": {
      "text/html": [
       "<pre>recommendations finished on 21000/178122 queries. users per second: 46744.1</pre>"
      ],
      "text/plain": [
       "recommendations finished on 21000/178122 queries. users per second: 46744.1"
      ]
     },
     "metadata": {},
     "output_type": "display_data"
    },
    {
     "data": {
      "text/html": [
       "<pre>recommendations finished on 22000/178122 queries. users per second: 43177.3</pre>"
      ],
      "text/plain": [
       "recommendations finished on 22000/178122 queries. users per second: 43177.3"
      ]
     },
     "metadata": {},
     "output_type": "display_data"
    },
    {
     "data": {
      "text/html": [
       "<pre>recommendations finished on 23000/178122 queries. users per second: 40542.4</pre>"
      ],
      "text/plain": [
       "recommendations finished on 23000/178122 queries. users per second: 40542.4"
      ]
     },
     "metadata": {},
     "output_type": "display_data"
    },
    {
     "data": {
      "text/html": [
       "<pre>recommendations finished on 24000/178122 queries. users per second: 38808.8</pre>"
      ],
      "text/plain": [
       "recommendations finished on 24000/178122 queries. users per second: 38808.8"
      ]
     },
     "metadata": {},
     "output_type": "display_data"
    },
    {
     "data": {
      "text/html": [
       "<pre>recommendations finished on 25000/178122 queries. users per second: 38308.7</pre>"
      ],
      "text/plain": [
       "recommendations finished on 25000/178122 queries. users per second: 38308.7"
      ]
     },
     "metadata": {},
     "output_type": "display_data"
    },
    {
     "data": {
      "text/html": [
       "<pre>recommendations finished on 26000/178122 queries. users per second: 39620.5</pre>"
      ],
      "text/plain": [
       "recommendations finished on 26000/178122 queries. users per second: 39620.5"
      ]
     },
     "metadata": {},
     "output_type": "display_data"
    },
    {
     "data": {
      "text/html": [
       "<pre>recommendations finished on 27000/178122 queries. users per second: 40966.7</pre>"
      ],
      "text/plain": [
       "recommendations finished on 27000/178122 queries. users per second: 40966.7"
      ]
     },
     "metadata": {},
     "output_type": "display_data"
    },
    {
     "data": {
      "text/html": [
       "<pre>recommendations finished on 28000/178122 queries. users per second: 42243.3</pre>"
      ],
      "text/plain": [
       "recommendations finished on 28000/178122 queries. users per second: 42243.3"
      ]
     },
     "metadata": {},
     "output_type": "display_data"
    },
    {
     "data": {
      "text/html": [
       "<pre>recommendations finished on 29000/178122 queries. users per second: 43429</pre>"
      ],
      "text/plain": [
       "recommendations finished on 29000/178122 queries. users per second: 43429"
      ]
     },
     "metadata": {},
     "output_type": "display_data"
    },
    {
     "data": {
      "text/html": [
       "<pre>recommendations finished on 30000/178122 queries. users per second: 44660.2</pre>"
      ],
      "text/plain": [
       "recommendations finished on 30000/178122 queries. users per second: 44660.2"
      ]
     },
     "metadata": {},
     "output_type": "display_data"
    },
    {
     "data": {
      "text/html": [
       "<pre>recommendations finished on 31000/178122 queries. users per second: 45766.1</pre>"
      ],
      "text/plain": [
       "recommendations finished on 31000/178122 queries. users per second: 45766.1"
      ]
     },
     "metadata": {},
     "output_type": "display_data"
    },
    {
     "data": {
      "text/html": [
       "<pre>recommendations finished on 32000/178122 queries. users per second: 46744.1</pre>"
      ],
      "text/plain": [
       "recommendations finished on 32000/178122 queries. users per second: 46744.1"
      ]
     },
     "metadata": {},
     "output_type": "display_data"
    },
    {
     "data": {
      "text/html": [
       "<pre>recommendations finished on 33000/178122 queries. users per second: 47968.3</pre>"
      ],
      "text/plain": [
       "recommendations finished on 33000/178122 queries. users per second: 47968.3"
      ]
     },
     "metadata": {},
     "output_type": "display_data"
    },
    {
     "data": {
      "text/html": [
       "<pre>recommendations finished on 34000/178122 queries. users per second: 49007.7</pre>"
      ],
      "text/plain": [
       "recommendations finished on 34000/178122 queries. users per second: 49007.7"
      ]
     },
     "metadata": {},
     "output_type": "display_data"
    },
    {
     "data": {
      "text/html": [
       "<pre>recommendations finished on 35000/178122 queries. users per second: 50021.7</pre>"
      ],
      "text/plain": [
       "recommendations finished on 35000/178122 queries. users per second: 50021.7"
      ]
     },
     "metadata": {},
     "output_type": "display_data"
    },
    {
     "data": {
      "text/html": [
       "<pre>recommendations finished on 36000/178122 queries. users per second: 51136.7</pre>"
      ],
      "text/plain": [
       "recommendations finished on 36000/178122 queries. users per second: 51136.7"
      ]
     },
     "metadata": {},
     "output_type": "display_data"
    },
    {
     "data": {
      "text/html": [
       "<pre>recommendations finished on 37000/178122 queries. users per second: 52304.4</pre>"
      ],
      "text/plain": [
       "recommendations finished on 37000/178122 queries. users per second: 52304.4"
      ]
     },
     "metadata": {},
     "output_type": "display_data"
    },
    {
     "data": {
      "text/html": [
       "<pre>recommendations finished on 38000/178122 queries. users per second: 53418.6</pre>"
      ],
      "text/plain": [
       "recommendations finished on 38000/178122 queries. users per second: 53418.6"
      ]
     },
     "metadata": {},
     "output_type": "display_data"
    },
    {
     "data": {
      "text/html": [
       "<pre>recommendations finished on 39000/178122 queries. users per second: 54541.3</pre>"
      ],
      "text/plain": [
       "recommendations finished on 39000/178122 queries. users per second: 54541.3"
      ]
     },
     "metadata": {},
     "output_type": "display_data"
    },
    {
     "data": {
      "text/html": [
       "<pre>recommendations finished on 40000/178122 queries. users per second: 55734.6</pre>"
      ],
      "text/plain": [
       "recommendations finished on 40000/178122 queries. users per second: 55734.6"
      ]
     },
     "metadata": {},
     "output_type": "display_data"
    },
    {
     "data": {
      "text/html": [
       "<pre>recommendations finished on 41000/178122 queries. users per second: 56918.4</pre>"
      ],
      "text/plain": [
       "recommendations finished on 41000/178122 queries. users per second: 56918.4"
      ]
     },
     "metadata": {},
     "output_type": "display_data"
    },
    {
     "data": {
      "text/html": [
       "<pre>recommendations finished on 42000/178122 queries. users per second: 58092.6</pre>"
      ],
      "text/plain": [
       "recommendations finished on 42000/178122 queries. users per second: 58092.6"
      ]
     },
     "metadata": {},
     "output_type": "display_data"
    },
    {
     "data": {
      "text/html": [
       "<pre>recommendations finished on 43000/178122 queries. users per second: 59256.2</pre>"
      ],
      "text/plain": [
       "recommendations finished on 43000/178122 queries. users per second: 59256.2"
      ]
     },
     "metadata": {},
     "output_type": "display_data"
    },
    {
     "data": {
      "text/html": [
       "<pre>recommendations finished on 44000/178122 queries. users per second: 60342.9</pre>"
      ],
      "text/plain": [
       "recommendations finished on 44000/178122 queries. users per second: 60342.9"
      ]
     },
     "metadata": {},
     "output_type": "display_data"
    },
    {
     "data": {
      "text/html": [
       "<pre>recommendations finished on 45000/178122 queries. users per second: 61451.6</pre>"
      ],
      "text/plain": [
       "recommendations finished on 45000/178122 queries. users per second: 61451.6"
      ]
     },
     "metadata": {},
     "output_type": "display_data"
    },
    {
     "data": {
      "text/html": [
       "<pre>recommendations finished on 46000/178122 queries. users per second: 62515.4</pre>"
      ],
      "text/plain": [
       "recommendations finished on 46000/178122 queries. users per second: 62515.4"
      ]
     },
     "metadata": {},
     "output_type": "display_data"
    },
    {
     "data": {
      "text/html": [
       "<pre>recommendations finished on 47000/178122 queries. users per second: 63643.7</pre>"
      ],
      "text/plain": [
       "recommendations finished on 47000/178122 queries. users per second: 63643.7"
      ]
     },
     "metadata": {},
     "output_type": "display_data"
    },
    {
     "data": {
      "text/html": [
       "<pre>recommendations finished on 48000/178122 queries. users per second: 64754.7</pre>"
      ],
      "text/plain": [
       "recommendations finished on 48000/178122 queries. users per second: 64754.7"
      ]
     },
     "metadata": {},
     "output_type": "display_data"
    },
    {
     "data": {
      "text/html": [
       "<pre>recommendations finished on 49000/178122 queries. users per second: 65840.2</pre>"
      ],
      "text/plain": [
       "recommendations finished on 49000/178122 queries. users per second: 65840.2"
      ]
     },
     "metadata": {},
     "output_type": "display_data"
    },
    {
     "data": {
      "text/html": [
       "<pre>recommendations finished on 50000/178122 queries. users per second: 66849.7</pre>"
      ],
      "text/plain": [
       "recommendations finished on 50000/178122 queries. users per second: 66849.7"
      ]
     },
     "metadata": {},
     "output_type": "display_data"
    },
    {
     "data": {
      "text/html": [
       "<pre>recommendations finished on 51000/178122 queries. users per second: 67828.4</pre>"
      ],
      "text/plain": [
       "recommendations finished on 51000/178122 queries. users per second: 67828.4"
      ]
     },
     "metadata": {},
     "output_type": "display_data"
    },
    {
     "data": {
      "text/html": [
       "<pre>recommendations finished on 52000/178122 queries. users per second: 68830.8</pre>"
      ],
      "text/plain": [
       "recommendations finished on 52000/178122 queries. users per second: 68830.8"
      ]
     },
     "metadata": {},
     "output_type": "display_data"
    },
    {
     "data": {
      "text/html": [
       "<pre>recommendations finished on 53000/178122 queries. users per second: 69895.5</pre>"
      ],
      "text/plain": [
       "recommendations finished on 53000/178122 queries. users per second: 69895.5"
      ]
     },
     "metadata": {},
     "output_type": "display_data"
    },
    {
     "data": {
      "text/html": [
       "<pre>recommendations finished on 54000/178122 queries. users per second: 70715.8</pre>"
      ],
      "text/plain": [
       "recommendations finished on 54000/178122 queries. users per second: 70715.8"
      ]
     },
     "metadata": {},
     "output_type": "display_data"
    },
    {
     "data": {
      "text/html": [
       "<pre>recommendations finished on 55000/178122 queries. users per second: 71672.6</pre>"
      ],
      "text/plain": [
       "recommendations finished on 55000/178122 queries. users per second: 71672.6"
      ]
     },
     "metadata": {},
     "output_type": "display_data"
    },
    {
     "data": {
      "text/html": [
       "<pre>recommendations finished on 56000/178122 queries. users per second: 72602.2</pre>"
      ],
      "text/plain": [
       "recommendations finished on 56000/178122 queries. users per second: 72602.2"
      ]
     },
     "metadata": {},
     "output_type": "display_data"
    },
    {
     "data": {
      "text/html": [
       "<pre>recommendations finished on 57000/178122 queries. users per second: 73317.8</pre>"
      ],
      "text/plain": [
       "recommendations finished on 57000/178122 queries. users per second: 73317.8"
      ]
     },
     "metadata": {},
     "output_type": "display_data"
    },
    {
     "data": {
      "text/html": [
       "<pre>recommendations finished on 58000/178122 queries. users per second: 73868.1</pre>"
      ],
      "text/plain": [
       "recommendations finished on 58000/178122 queries. users per second: 73868.1"
      ]
     },
     "metadata": {},
     "output_type": "display_data"
    },
    {
     "data": {
      "text/html": [
       "<pre>recommendations finished on 59000/178122 queries. users per second: 74451.8</pre>"
      ],
      "text/plain": [
       "recommendations finished on 59000/178122 queries. users per second: 74451.8"
      ]
     },
     "metadata": {},
     "output_type": "display_data"
    },
    {
     "data": {
      "text/html": [
       "<pre>recommendations finished on 60000/178122 queries. users per second: 75084.1</pre>"
      ],
      "text/plain": [
       "recommendations finished on 60000/178122 queries. users per second: 75084.1"
      ]
     },
     "metadata": {},
     "output_type": "display_data"
    },
    {
     "data": {
      "text/html": [
       "<pre>recommendations finished on 61000/178122 queries. users per second: 75842.2</pre>"
      ],
      "text/plain": [
       "recommendations finished on 61000/178122 queries. users per second: 75842.2"
      ]
     },
     "metadata": {},
     "output_type": "display_data"
    },
    {
     "data": {
      "text/html": [
       "<pre>recommendations finished on 62000/178122 queries. users per second: 76502.9</pre>"
      ],
      "text/plain": [
       "recommendations finished on 62000/178122 queries. users per second: 76502.9"
      ]
     },
     "metadata": {},
     "output_type": "display_data"
    },
    {
     "data": {
      "text/html": [
       "<pre>recommendations finished on 63000/178122 queries. users per second: 77055</pre>"
      ],
      "text/plain": [
       "recommendations finished on 63000/178122 queries. users per second: 77055"
      ]
     },
     "metadata": {},
     "output_type": "display_data"
    },
    {
     "data": {
      "text/html": [
       "<pre>recommendations finished on 64000/178122 queries. users per second: 77813.7</pre>"
      ],
      "text/plain": [
       "recommendations finished on 64000/178122 queries. users per second: 77813.7"
      ]
     },
     "metadata": {},
     "output_type": "display_data"
    },
    {
     "data": {
      "text/html": [
       "<pre>recommendations finished on 65000/178122 queries. users per second: 78610.3</pre>"
      ],
      "text/plain": [
       "recommendations finished on 65000/178122 queries. users per second: 78610.3"
      ]
     },
     "metadata": {},
     "output_type": "display_data"
    },
    {
     "data": {
      "text/html": [
       "<pre>recommendations finished on 66000/178122 queries. users per second: 79172.7</pre>"
      ],
      "text/plain": [
       "recommendations finished on 66000/178122 queries. users per second: 79172.7"
      ]
     },
     "metadata": {},
     "output_type": "display_data"
    },
    {
     "data": {
      "text/html": [
       "<pre>recommendations finished on 67000/178122 queries. users per second: 79267.8</pre>"
      ],
      "text/plain": [
       "recommendations finished on 67000/178122 queries. users per second: 79267.8"
      ]
     },
     "metadata": {},
     "output_type": "display_data"
    },
    {
     "data": {
      "text/html": [
       "<pre>recommendations finished on 68000/178122 queries. users per second: 79668</pre>"
      ],
      "text/plain": [
       "recommendations finished on 68000/178122 queries. users per second: 79668"
      ]
     },
     "metadata": {},
     "output_type": "display_data"
    },
    {
     "data": {
      "text/html": [
       "<pre>recommendations finished on 69000/178122 queries. users per second: 80550.6</pre>"
      ],
      "text/plain": [
       "recommendations finished on 69000/178122 queries. users per second: 80550.6"
      ]
     },
     "metadata": {},
     "output_type": "display_data"
    },
    {
     "data": {
      "text/html": [
       "<pre>recommendations finished on 70000/178122 queries. users per second: 81439.3</pre>"
      ],
      "text/plain": [
       "recommendations finished on 70000/178122 queries. users per second: 81439.3"
      ]
     },
     "metadata": {},
     "output_type": "display_data"
    },
    {
     "data": {
      "text/html": [
       "<pre>recommendations finished on 71000/178122 queries. users per second: 82169.9</pre>"
      ],
      "text/plain": [
       "recommendations finished on 71000/178122 queries. users per second: 82169.9"
      ]
     },
     "metadata": {},
     "output_type": "display_data"
    },
    {
     "data": {
      "text/html": [
       "<pre>recommendations finished on 72000/178122 queries. users per second: 83059.9</pre>"
      ],
      "text/plain": [
       "recommendations finished on 72000/178122 queries. users per second: 83059.9"
      ]
     },
     "metadata": {},
     "output_type": "display_data"
    },
    {
     "data": {
      "text/html": [
       "<pre>recommendations finished on 73000/178122 queries. users per second: 83856.6</pre>"
      ],
      "text/plain": [
       "recommendations finished on 73000/178122 queries. users per second: 83856.6"
      ]
     },
     "metadata": {},
     "output_type": "display_data"
    },
    {
     "data": {
      "text/html": [
       "<pre>recommendations finished on 74000/178122 queries. users per second: 84641.6</pre>"
      ],
      "text/plain": [
       "recommendations finished on 74000/178122 queries. users per second: 84641.6"
      ]
     },
     "metadata": {},
     "output_type": "display_data"
    },
    {
     "data": {
      "text/html": [
       "<pre>recommendations finished on 75000/178122 queries. users per second: 85327.8</pre>"
      ],
      "text/plain": [
       "recommendations finished on 75000/178122 queries. users per second: 85327.8"
      ]
     },
     "metadata": {},
     "output_type": "display_data"
    },
    {
     "data": {
      "text/html": [
       "<pre>recommendations finished on 76000/178122 queries. users per second: 86033.4</pre>"
      ],
      "text/plain": [
       "recommendations finished on 76000/178122 queries. users per second: 86033.4"
      ]
     },
     "metadata": {},
     "output_type": "display_data"
    },
    {
     "data": {
      "text/html": [
       "<pre>recommendations finished on 77000/178122 queries. users per second: 86692.3</pre>"
      ],
      "text/plain": [
       "recommendations finished on 77000/178122 queries. users per second: 86692.3"
      ]
     },
     "metadata": {},
     "output_type": "display_data"
    },
    {
     "data": {
      "text/html": [
       "<pre>recommendations finished on 78000/178122 queries. users per second: 87255.2</pre>"
      ],
      "text/plain": [
       "recommendations finished on 78000/178122 queries. users per second: 87255.2"
      ]
     },
     "metadata": {},
     "output_type": "display_data"
    },
    {
     "data": {
      "text/html": [
       "<pre>recommendations finished on 79000/178122 queries. users per second: 87748.1</pre>"
      ],
      "text/plain": [
       "recommendations finished on 79000/178122 queries. users per second: 87748.1"
      ]
     },
     "metadata": {},
     "output_type": "display_data"
    },
    {
     "data": {
      "text/html": [
       "<pre>recommendations finished on 80000/178122 queries. users per second: 88365.9</pre>"
      ],
      "text/plain": [
       "recommendations finished on 80000/178122 queries. users per second: 88365.9"
      ]
     },
     "metadata": {},
     "output_type": "display_data"
    },
    {
     "data": {
      "text/html": [
       "<pre>recommendations finished on 81000/178122 queries. users per second: 88539.4</pre>"
      ],
      "text/plain": [
       "recommendations finished on 81000/178122 queries. users per second: 88539.4"
      ]
     },
     "metadata": {},
     "output_type": "display_data"
    },
    {
     "data": {
      "text/html": [
       "<pre>recommendations finished on 82000/178122 queries. users per second: 81757</pre>"
      ],
      "text/plain": [
       "recommendations finished on 82000/178122 queries. users per second: 81757"
      ]
     },
     "metadata": {},
     "output_type": "display_data"
    },
    {
     "data": {
      "text/html": [
       "<pre>recommendations finished on 83000/178122 queries. users per second: 77763.5</pre>"
      ],
      "text/plain": [
       "recommendations finished on 83000/178122 queries. users per second: 77763.5"
      ]
     },
     "metadata": {},
     "output_type": "display_data"
    },
    {
     "data": {
      "text/html": [
       "<pre>recommendations finished on 84000/178122 queries. users per second: 78368.5</pre>"
      ],
      "text/plain": [
       "recommendations finished on 84000/178122 queries. users per second: 78368.5"
      ]
     },
     "metadata": {},
     "output_type": "display_data"
    },
    {
     "data": {
      "text/html": [
       "<pre>recommendations finished on 85000/178122 queries. users per second: 78873.9</pre>"
      ],
      "text/plain": [
       "recommendations finished on 85000/178122 queries. users per second: 78873.9"
      ]
     },
     "metadata": {},
     "output_type": "display_data"
    },
    {
     "data": {
      "text/html": [
       "<pre>recommendations finished on 86000/178122 queries. users per second: 79238.2</pre>"
      ],
      "text/plain": [
       "recommendations finished on 86000/178122 queries. users per second: 79238.2"
      ]
     },
     "metadata": {},
     "output_type": "display_data"
    },
    {
     "data": {
      "text/html": [
       "<pre>recommendations finished on 87000/178122 queries. users per second: 79885.7</pre>"
      ],
      "text/plain": [
       "recommendations finished on 87000/178122 queries. users per second: 79885.7"
      ]
     },
     "metadata": {},
     "output_type": "display_data"
    },
    {
     "data": {
      "text/html": [
       "<pre>recommendations finished on 88000/178122 queries. users per second: 80576.5</pre>"
      ],
      "text/plain": [
       "recommendations finished on 88000/178122 queries. users per second: 80576.5"
      ]
     },
     "metadata": {},
     "output_type": "display_data"
    },
    {
     "data": {
      "text/html": [
       "<pre>recommendations finished on 89000/178122 queries. users per second: 81125.6</pre>"
      ],
      "text/plain": [
       "recommendations finished on 89000/178122 queries. users per second: 81125.6"
      ]
     },
     "metadata": {},
     "output_type": "display_data"
    },
    {
     "data": {
      "text/html": [
       "<pre>recommendations finished on 90000/178122 queries. users per second: 81624.8</pre>"
      ],
      "text/plain": [
       "recommendations finished on 90000/178122 queries. users per second: 81624.8"
      ]
     },
     "metadata": {},
     "output_type": "display_data"
    },
    {
     "data": {
      "text/html": [
       "<pre>recommendations finished on 91000/178122 queries. users per second: 82113.7</pre>"
      ],
      "text/plain": [
       "recommendations finished on 91000/178122 queries. users per second: 82113.7"
      ]
     },
     "metadata": {},
     "output_type": "display_data"
    },
    {
     "data": {
      "text/html": [
       "<pre>recommendations finished on 92000/178122 queries. users per second: 82692.8</pre>"
      ],
      "text/plain": [
       "recommendations finished on 92000/178122 queries. users per second: 82692.8"
      ]
     },
     "metadata": {},
     "output_type": "display_data"
    },
    {
     "data": {
      "text/html": [
       "<pre>recommendations finished on 93000/178122 queries. users per second: 83116</pre>"
      ],
      "text/plain": [
       "recommendations finished on 93000/178122 queries. users per second: 83116"
      ]
     },
     "metadata": {},
     "output_type": "display_data"
    },
    {
     "data": {
      "text/html": [
       "<pre>recommendations finished on 94000/178122 queries. users per second: 75958.1</pre>"
      ],
      "text/plain": [
       "recommendations finished on 94000/178122 queries. users per second: 75958.1"
      ]
     },
     "metadata": {},
     "output_type": "display_data"
    },
    {
     "data": {
      "text/html": [
       "<pre>recommendations finished on 95000/178122 queries. users per second: 67551.4</pre>"
      ],
      "text/plain": [
       "recommendations finished on 95000/178122 queries. users per second: 67551.4"
      ]
     },
     "metadata": {},
     "output_type": "display_data"
    },
    {
     "data": {
      "text/html": [
       "<pre>recommendations finished on 96000/178122 queries. users per second: 68121.6</pre>"
      ],
      "text/plain": [
       "recommendations finished on 96000/178122 queries. users per second: 68121.6"
      ]
     },
     "metadata": {},
     "output_type": "display_data"
    },
    {
     "data": {
      "text/html": [
       "<pre>recommendations finished on 97000/178122 queries. users per second: 68526.1</pre>"
      ],
      "text/plain": [
       "recommendations finished on 97000/178122 queries. users per second: 68526.1"
      ]
     },
     "metadata": {},
     "output_type": "display_data"
    },
    {
     "data": {
      "text/html": [
       "<pre>recommendations finished on 98000/178122 queries. users per second: 69054.2</pre>"
      ],
      "text/plain": [
       "recommendations finished on 98000/178122 queries. users per second: 69054.2"
      ]
     },
     "metadata": {},
     "output_type": "display_data"
    },
    {
     "data": {
      "text/html": [
       "<pre>recommendations finished on 99000/178122 queries. users per second: 69540.5</pre>"
      ],
      "text/plain": [
       "recommendations finished on 99000/178122 queries. users per second: 69540.5"
      ]
     },
     "metadata": {},
     "output_type": "display_data"
    },
    {
     "data": {
      "text/html": [
       "<pre>recommendations finished on 100000/178122 queries. users per second: 70073.3</pre>"
      ],
      "text/plain": [
       "recommendations finished on 100000/178122 queries. users per second: 70073.3"
      ]
     },
     "metadata": {},
     "output_type": "display_data"
    },
    {
     "data": {
      "text/html": [
       "<pre>recommendations finished on 101000/178122 queries. users per second: 70388.2</pre>"
      ],
      "text/plain": [
       "recommendations finished on 101000/178122 queries. users per second: 70388.2"
      ]
     },
     "metadata": {},
     "output_type": "display_data"
    },
    {
     "data": {
      "text/html": [
       "<pre>recommendations finished on 102000/178122 queries. users per second: 69942.3</pre>"
      ],
      "text/plain": [
       "recommendations finished on 102000/178122 queries. users per second: 69942.3"
      ]
     },
     "metadata": {},
     "output_type": "display_data"
    },
    {
     "data": {
      "text/html": [
       "<pre>recommendations finished on 103000/178122 queries. users per second: 69793.7</pre>"
      ],
      "text/plain": [
       "recommendations finished on 103000/178122 queries. users per second: 69793.7"
      ]
     },
     "metadata": {},
     "output_type": "display_data"
    },
    {
     "data": {
      "text/html": [
       "<pre>recommendations finished on 104000/178122 queries. users per second: 69930.1</pre>"
      ],
      "text/plain": [
       "recommendations finished on 104000/178122 queries. users per second: 69930.1"
      ]
     },
     "metadata": {},
     "output_type": "display_data"
    },
    {
     "data": {
      "text/html": [
       "<pre>recommendations finished on 105000/178122 queries. users per second: 70434.6</pre>"
      ],
      "text/plain": [
       "recommendations finished on 105000/178122 queries. users per second: 70434.6"
      ]
     },
     "metadata": {},
     "output_type": "display_data"
    },
    {
     "data": {
      "text/html": [
       "<pre>recommendations finished on 106000/178122 queries. users per second: 70917.4</pre>"
      ],
      "text/plain": [
       "recommendations finished on 106000/178122 queries. users per second: 70917.4"
      ]
     },
     "metadata": {},
     "output_type": "display_data"
    },
    {
     "data": {
      "text/html": [
       "<pre>recommendations finished on 107000/178122 queries. users per second: 71316.4</pre>"
      ],
      "text/plain": [
       "recommendations finished on 107000/178122 queries. users per second: 71316.4"
      ]
     },
     "metadata": {},
     "output_type": "display_data"
    },
    {
     "data": {
      "text/html": [
       "<pre>recommendations finished on 108000/178122 queries. users per second: 71695.9</pre>"
      ],
      "text/plain": [
       "recommendations finished on 108000/178122 queries. users per second: 71695.9"
      ]
     },
     "metadata": {},
     "output_type": "display_data"
    },
    {
     "data": {
      "text/html": [
       "<pre>recommendations finished on 109000/178122 queries. users per second: 72005.1</pre>"
      ],
      "text/plain": [
       "recommendations finished on 109000/178122 queries. users per second: 72005.1"
      ]
     },
     "metadata": {},
     "output_type": "display_data"
    },
    {
     "data": {
      "text/html": [
       "<pre>recommendations finished on 110000/178122 queries. users per second: 72077.4</pre>"
      ],
      "text/plain": [
       "recommendations finished on 110000/178122 queries. users per second: 72077.4"
      ]
     },
     "metadata": {},
     "output_type": "display_data"
    },
    {
     "data": {
      "text/html": [
       "<pre>recommendations finished on 111000/178122 queries. users per second: 72464</pre>"
      ],
      "text/plain": [
       "recommendations finished on 111000/178122 queries. users per second: 72464"
      ]
     },
     "metadata": {},
     "output_type": "display_data"
    },
    {
     "name": "stdout",
     "output_type": "stream",
     "text": [
      "+------------+---------+-------+------+\n",
      "|  Customer  | Product | score | rank |\n",
      "+------------+---------+-------+------+\n",
      "| CC20190310 |   2_24  |  1.0  |  1   |\n",
      "| CC20190310 |   0_0   |  1.0  |  2   |\n",
      "| CC20190310 |   1_21  |  1.0  |  3   |\n",
      "| CC20190310 |   4_19  |  1.0  |  4   |\n",
      "| CC20190310 |   0_3   |  1.0  |  5   |\n",
      "| CC20190310 |   7_26  |  1.0  |  6   |\n",
      "| CC20190310 |   5_4   |  1.0  |  7   |\n",
      "| CC20190310 |   6_13  |  1.0  |  8   |\n",
      "| CC20190310 |   7_23  |  1.0  |  9   |\n",
      "| CC20190310 |   1_7   |  1.0  |  10  |\n",
      "| CC20190310 |   2_24  |  1.0  |  1   |\n",
      "| CC20190310 |   0_0   |  1.0  |  2   |\n",
      "| CC20190310 |   1_21  |  1.0  |  3   |\n",
      "| CC20190310 |   4_19  |  1.0  |  4   |\n",
      "| CC20190310 |   0_3   |  1.0  |  5   |\n",
      "| CC20190310 |   7_26  |  1.0  |  6   |\n",
      "| CC20190310 |   5_4   |  1.0  |  7   |\n",
      "| CC20190310 |   6_13  |  1.0  |  8   |\n",
      "| CC20190310 |   7_23  |  1.0  |  9   |\n",
      "| CC20190310 |   1_7   |  1.0  |  10  |\n",
      "| CC20190310 |   2_24  |  1.0  |  1   |\n",
      "| CC20190310 |   0_0   |  1.0  |  2   |\n",
      "| CC20190310 |   1_21  |  1.0  |  3   |\n",
      "| CC20190310 |   4_19  |  1.0  |  4   |\n",
      "| CC20190310 |   0_3   |  1.0  |  5   |\n",
      "| CC20190310 |   7_26  |  1.0  |  6   |\n",
      "| CC20190310 |   5_4   |  1.0  |  7   |\n",
      "| CC20190310 |   6_13  |  1.0  |  8   |\n",
      "| CC20190310 |   7_23  |  1.0  |  9   |\n",
      "| CC20190310 |   1_7   |  1.0  |  10  |\n",
      "+------------+---------+-------+------+\n",
      "[1781220 rows x 4 columns]\n",
      "\n"
     ]
    },
    {
     "data": {
      "text/html": [
       "<pre>recommendations finished on 112000/178122 queries. users per second: 72866.5</pre>"
      ],
      "text/plain": [
       "recommendations finished on 112000/178122 queries. users per second: 72866.5"
      ]
     },
     "metadata": {},
     "output_type": "display_data"
    },
    {
     "data": {
      "text/html": [
       "<pre>recommendations finished on 113000/178122 queries. users per second: 73243.9</pre>"
      ],
      "text/plain": [
       "recommendations finished on 113000/178122 queries. users per second: 73243.9"
      ]
     },
     "metadata": {},
     "output_type": "display_data"
    },
    {
     "data": {
      "text/html": [
       "<pre>recommendations finished on 114000/178122 queries. users per second: 73329.5</pre>"
      ],
      "text/plain": [
       "recommendations finished on 114000/178122 queries. users per second: 73329.5"
      ]
     },
     "metadata": {},
     "output_type": "display_data"
    },
    {
     "data": {
      "text/html": [
       "<pre>recommendations finished on 115000/178122 queries. users per second: 73173.6</pre>"
      ],
      "text/plain": [
       "recommendations finished on 115000/178122 queries. users per second: 73173.6"
      ]
     },
     "metadata": {},
     "output_type": "display_data"
    },
    {
     "data": {
      "text/html": [
       "<pre>recommendations finished on 116000/178122 queries. users per second: 73479.9</pre>"
      ],
      "text/plain": [
       "recommendations finished on 116000/178122 queries. users per second: 73479.9"
      ]
     },
     "metadata": {},
     "output_type": "display_data"
    },
    {
     "data": {
      "text/html": [
       "<pre>recommendations finished on 117000/178122 queries. users per second: 73701.2</pre>"
      ],
      "text/plain": [
       "recommendations finished on 117000/178122 queries. users per second: 73701.2"
      ]
     },
     "metadata": {},
     "output_type": "display_data"
    },
    {
     "data": {
      "text/html": [
       "<pre>recommendations finished on 118000/178122 queries. users per second: 74074</pre>"
      ],
      "text/plain": [
       "recommendations finished on 118000/178122 queries. users per second: 74074"
      ]
     },
     "metadata": {},
     "output_type": "display_data"
    },
    {
     "data": {
      "text/html": [
       "<pre>recommendations finished on 119000/178122 queries. users per second: 74404.1</pre>"
      ],
      "text/plain": [
       "recommendations finished on 119000/178122 queries. users per second: 74404.1"
      ]
     },
     "metadata": {},
     "output_type": "display_data"
    },
    {
     "data": {
      "text/html": [
       "<pre>recommendations finished on 120000/178122 queries. users per second: 74796.3</pre>"
      ],
      "text/plain": [
       "recommendations finished on 120000/178122 queries. users per second: 74796.3"
      ]
     },
     "metadata": {},
     "output_type": "display_data"
    },
    {
     "data": {
      "text/html": [
       "<pre>recommendations finished on 121000/178122 queries. users per second: 74998.5</pre>"
      ],
      "text/plain": [
       "recommendations finished on 121000/178122 queries. users per second: 74998.5"
      ]
     },
     "metadata": {},
     "output_type": "display_data"
    },
    {
     "data": {
      "text/html": [
       "<pre>recommendations finished on 122000/178122 queries. users per second: 75294.7</pre>"
      ],
      "text/plain": [
       "recommendations finished on 122000/178122 queries. users per second: 75294.7"
      ]
     },
     "metadata": {},
     "output_type": "display_data"
    },
    {
     "data": {
      "text/html": [
       "<pre>recommendations finished on 123000/178122 queries. users per second: 75582.6</pre>"
      ],
      "text/plain": [
       "recommendations finished on 123000/178122 queries. users per second: 75582.6"
      ]
     },
     "metadata": {},
     "output_type": "display_data"
    },
    {
     "data": {
      "text/html": [
       "<pre>recommendations finished on 124000/178122 queries. users per second: 75838.8</pre>"
      ],
      "text/plain": [
       "recommendations finished on 124000/178122 queries. users per second: 75838.8"
      ]
     },
     "metadata": {},
     "output_type": "display_data"
    },
    {
     "data": {
      "text/html": [
       "<pre>recommendations finished on 125000/178122 queries. users per second: 76205.9</pre>"
      ],
      "text/plain": [
       "recommendations finished on 125000/178122 queries. users per second: 76205.9"
      ]
     },
     "metadata": {},
     "output_type": "display_data"
    },
    {
     "data": {
      "text/html": [
       "<pre>recommendations finished on 126000/178122 queries. users per second: 76545.7</pre>"
      ],
      "text/plain": [
       "recommendations finished on 126000/178122 queries. users per second: 76545.7"
      ]
     },
     "metadata": {},
     "output_type": "display_data"
    },
    {
     "data": {
      "text/html": [
       "<pre>recommendations finished on 127000/178122 queries. users per second: 76645.6</pre>"
      ],
      "text/plain": [
       "recommendations finished on 127000/178122 queries. users per second: 76645.6"
      ]
     },
     "metadata": {},
     "output_type": "display_data"
    },
    {
     "data": {
      "text/html": [
       "<pre>recommendations finished on 128000/178122 queries. users per second: 76689.8</pre>"
      ],
      "text/plain": [
       "recommendations finished on 128000/178122 queries. users per second: 76689.8"
      ]
     },
     "metadata": {},
     "output_type": "display_data"
    },
    {
     "data": {
      "text/html": [
       "<pre>recommendations finished on 129000/178122 queries. users per second: 77044.5</pre>"
      ],
      "text/plain": [
       "recommendations finished on 129000/178122 queries. users per second: 77044.5"
      ]
     },
     "metadata": {},
     "output_type": "display_data"
    },
    {
     "data": {
      "text/html": [
       "<pre>recommendations finished on 130000/178122 queries. users per second: 77398.7</pre>"
      ],
      "text/plain": [
       "recommendations finished on 130000/178122 queries. users per second: 77398.7"
      ]
     },
     "metadata": {},
     "output_type": "display_data"
    },
    {
     "data": {
      "text/html": [
       "<pre>recommendations finished on 131000/178122 queries. users per second: 77829.2</pre>"
      ],
      "text/plain": [
       "recommendations finished on 131000/178122 queries. users per second: 77829.2"
      ]
     },
     "metadata": {},
     "output_type": "display_data"
    },
    {
     "data": {
      "text/html": [
       "<pre>recommendations finished on 132000/178122 queries. users per second: 78261.7</pre>"
      ],
      "text/plain": [
       "recommendations finished on 132000/178122 queries. users per second: 78261.7"
      ]
     },
     "metadata": {},
     "output_type": "display_data"
    },
    {
     "data": {
      "text/html": [
       "<pre>recommendations finished on 133000/178122 queries. users per second: 78691.8</pre>"
      ],
      "text/plain": [
       "recommendations finished on 133000/178122 queries. users per second: 78691.8"
      ]
     },
     "metadata": {},
     "output_type": "display_data"
    },
    {
     "data": {
      "text/html": [
       "<pre>recommendations finished on 134000/178122 queries. users per second: 78955.3</pre>"
      ],
      "text/plain": [
       "recommendations finished on 134000/178122 queries. users per second: 78955.3"
      ]
     },
     "metadata": {},
     "output_type": "display_data"
    },
    {
     "data": {
      "text/html": [
       "<pre>recommendations finished on 135000/178122 queries. users per second: 79370.5</pre>"
      ],
      "text/plain": [
       "recommendations finished on 135000/178122 queries. users per second: 79370.5"
      ]
     },
     "metadata": {},
     "output_type": "display_data"
    },
    {
     "data": {
      "text/html": [
       "<pre>recommendations finished on 136000/178122 queries. users per second: 79722.6</pre>"
      ],
      "text/plain": [
       "recommendations finished on 136000/178122 queries. users per second: 79722.6"
      ]
     },
     "metadata": {},
     "output_type": "display_data"
    },
    {
     "data": {
      "text/html": [
       "<pre>recommendations finished on 137000/178122 queries. users per second: 80132.3</pre>"
      ],
      "text/plain": [
       "recommendations finished on 137000/178122 queries. users per second: 80132.3"
      ]
     },
     "metadata": {},
     "output_type": "display_data"
    },
    {
     "data": {
      "text/html": [
       "<pre>recommendations finished on 138000/178122 queries. users per second: 80466.8</pre>"
      ],
      "text/plain": [
       "recommendations finished on 138000/178122 queries. users per second: 80466.8"
      ]
     },
     "metadata": {},
     "output_type": "display_data"
    },
    {
     "data": {
      "text/html": [
       "<pre>recommendations finished on 139000/178122 queries. users per second: 80797.2</pre>"
      ],
      "text/plain": [
       "recommendations finished on 139000/178122 queries. users per second: 80797.2"
      ]
     },
     "metadata": {},
     "output_type": "display_data"
    },
    {
     "data": {
      "text/html": [
       "<pre>recommendations finished on 140000/178122 queries. users per second: 81199.3</pre>"
      ],
      "text/plain": [
       "recommendations finished on 140000/178122 queries. users per second: 81199.3"
      ]
     },
     "metadata": {},
     "output_type": "display_data"
    },
    {
     "data": {
      "text/html": [
       "<pre>recommendations finished on 141000/178122 queries. users per second: 81583.5</pre>"
      ],
      "text/plain": [
       "recommendations finished on 141000/178122 queries. users per second: 81583.5"
      ]
     },
     "metadata": {},
     "output_type": "display_data"
    },
    {
     "data": {
      "text/html": [
       "<pre>recommendations finished on 142000/178122 queries. users per second: 81949.7</pre>"
      ],
      "text/plain": [
       "recommendations finished on 142000/178122 queries. users per second: 81949.7"
      ]
     },
     "metadata": {},
     "output_type": "display_data"
    },
    {
     "data": {
      "text/html": [
       "<pre>recommendations finished on 143000/178122 queries. users per second: 82346</pre>"
      ],
      "text/plain": [
       "recommendations finished on 143000/178122 queries. users per second: 82346"
      ]
     },
     "metadata": {},
     "output_type": "display_data"
    },
    {
     "data": {
      "text/html": [
       "<pre>recommendations finished on 144000/178122 queries. users per second: 82750</pre>"
      ],
      "text/plain": [
       "recommendations finished on 144000/178122 queries. users per second: 82750"
      ]
     },
     "metadata": {},
     "output_type": "display_data"
    },
    {
     "data": {
      "text/html": [
       "<pre>recommendations finished on 145000/178122 queries. users per second: 83032.8</pre>"
      ],
      "text/plain": [
       "recommendations finished on 145000/178122 queries. users per second: 83032.8"
      ]
     },
     "metadata": {},
     "output_type": "display_data"
    },
    {
     "data": {
      "text/html": [
       "<pre>recommendations finished on 146000/178122 queries. users per second: 83396.1</pre>"
      ],
      "text/plain": [
       "recommendations finished on 146000/178122 queries. users per second: 83396.1"
      ]
     },
     "metadata": {},
     "output_type": "display_data"
    },
    {
     "data": {
      "text/html": [
       "<pre>recommendations finished on 147000/178122 queries. users per second: 83787.7</pre>"
      ],
      "text/plain": [
       "recommendations finished on 147000/178122 queries. users per second: 83787.7"
      ]
     },
     "metadata": {},
     "output_type": "display_data"
    },
    {
     "data": {
      "text/html": [
       "<pre>recommendations finished on 148000/178122 queries. users per second: 84003.5</pre>"
      ],
      "text/plain": [
       "recommendations finished on 148000/178122 queries. users per second: 84003.5"
      ]
     },
     "metadata": {},
     "output_type": "display_data"
    },
    {
     "data": {
      "text/html": [
       "<pre>recommendations finished on 149000/178122 queries. users per second: 83912.8</pre>"
      ],
      "text/plain": [
       "recommendations finished on 149000/178122 queries. users per second: 83912.8"
      ]
     },
     "metadata": {},
     "output_type": "display_data"
    },
    {
     "data": {
      "text/html": [
       "<pre>recommendations finished on 150000/178122 queries. users per second: 84090.7</pre>"
      ],
      "text/plain": [
       "recommendations finished on 150000/178122 queries. users per second: 84090.7"
      ]
     },
     "metadata": {},
     "output_type": "display_data"
    },
    {
     "data": {
      "text/html": [
       "<pre>recommendations finished on 151000/178122 queries. users per second: 84475.1</pre>"
      ],
      "text/plain": [
       "recommendations finished on 151000/178122 queries. users per second: 84475.1"
      ]
     },
     "metadata": {},
     "output_type": "display_data"
    },
    {
     "data": {
      "text/html": [
       "<pre>recommendations finished on 152000/178122 queries. users per second: 84774.5</pre>"
      ],
      "text/plain": [
       "recommendations finished on 152000/178122 queries. users per second: 84774.5"
      ]
     },
     "metadata": {},
     "output_type": "display_data"
    },
    {
     "data": {
      "text/html": [
       "<pre>recommendations finished on 153000/178122 queries. users per second: 85034.6</pre>"
      ],
      "text/plain": [
       "recommendations finished on 153000/178122 queries. users per second: 85034.6"
      ]
     },
     "metadata": {},
     "output_type": "display_data"
    },
    {
     "data": {
      "text/html": [
       "<pre>recommendations finished on 154000/178122 queries. users per second: 82483.5</pre>"
      ],
      "text/plain": [
       "recommendations finished on 154000/178122 queries. users per second: 82483.5"
      ]
     },
     "metadata": {},
     "output_type": "display_data"
    },
    {
     "data": {
      "text/html": [
       "<pre>recommendations finished on 155000/178122 queries. users per second: 82774.4</pre>"
      ],
      "text/plain": [
       "recommendations finished on 155000/178122 queries. users per second: 82774.4"
      ]
     },
     "metadata": {},
     "output_type": "display_data"
    },
    {
     "data": {
      "text/html": [
       "<pre>recommendations finished on 156000/178122 queries. users per second: 83005.4</pre>"
      ],
      "text/plain": [
       "recommendations finished on 156000/178122 queries. users per second: 83005.4"
      ]
     },
     "metadata": {},
     "output_type": "display_data"
    },
    {
     "data": {
      "text/html": [
       "<pre>recommendations finished on 157000/178122 queries. users per second: 83117.5</pre>"
      ],
      "text/plain": [
       "recommendations finished on 157000/178122 queries. users per second: 83117.5"
      ]
     },
     "metadata": {},
     "output_type": "display_data"
    },
    {
     "data": {
      "text/html": [
       "<pre>recommendations finished on 158000/178122 queries. users per second: 82954.4</pre>"
      ],
      "text/plain": [
       "recommendations finished on 158000/178122 queries. users per second: 82954.4"
      ]
     },
     "metadata": {},
     "output_type": "display_data"
    },
    {
     "data": {
      "text/html": [
       "<pre>recommendations finished on 159000/178122 queries. users per second: 83256.9</pre>"
      ],
      "text/plain": [
       "recommendations finished on 159000/178122 queries. users per second: 83256.9"
      ]
     },
     "metadata": {},
     "output_type": "display_data"
    },
    {
     "data": {
      "text/html": [
       "<pre>recommendations finished on 160000/178122 queries. users per second: 83482.5</pre>"
      ],
      "text/plain": [
       "recommendations finished on 160000/178122 queries. users per second: 83482.5"
      ]
     },
     "metadata": {},
     "output_type": "display_data"
    },
    {
     "data": {
      "text/html": [
       "<pre>recommendations finished on 161000/178122 queries. users per second: 83706.2</pre>"
      ],
      "text/plain": [
       "recommendations finished on 161000/178122 queries. users per second: 83706.2"
      ]
     },
     "metadata": {},
     "output_type": "display_data"
    },
    {
     "data": {
      "text/html": [
       "<pre>recommendations finished on 162000/178122 queries. users per second: 84021.9</pre>"
      ],
      "text/plain": [
       "recommendations finished on 162000/178122 queries. users per second: 84021.9"
      ]
     },
     "metadata": {},
     "output_type": "display_data"
    },
    {
     "data": {
      "text/html": [
       "<pre>recommendations finished on 163000/178122 queries. users per second: 84380.3</pre>"
      ],
      "text/plain": [
       "recommendations finished on 163000/178122 queries. users per second: 84380.3"
      ]
     },
     "metadata": {},
     "output_type": "display_data"
    },
    {
     "data": {
      "text/html": [
       "<pre>recommendations finished on 164000/178122 queries. users per second: 84711.4</pre>"
      ],
      "text/plain": [
       "recommendations finished on 164000/178122 queries. users per second: 84711.4"
      ]
     },
     "metadata": {},
     "output_type": "display_data"
    },
    {
     "data": {
      "text/html": [
       "<pre>recommendations finished on 165000/178122 queries. users per second: 85073.1</pre>"
      ],
      "text/plain": [
       "recommendations finished on 165000/178122 queries. users per second: 85073.1"
      ]
     },
     "metadata": {},
     "output_type": "display_data"
    },
    {
     "data": {
      "text/html": [
       "<pre>recommendations finished on 166000/178122 queries. users per second: 85437.1</pre>"
      ],
      "text/plain": [
       "recommendations finished on 166000/178122 queries. users per second: 85437.1"
      ]
     },
     "metadata": {},
     "output_type": "display_data"
    },
    {
     "data": {
      "text/html": [
       "<pre>recommendations finished on 167000/178122 queries. users per second: 85759.4</pre>"
      ],
      "text/plain": [
       "recommendations finished on 167000/178122 queries. users per second: 85759.4"
      ]
     },
     "metadata": {},
     "output_type": "display_data"
    },
    {
     "data": {
      "text/html": [
       "<pre>recommendations finished on 168000/178122 queries. users per second: 86040.4</pre>"
      ],
      "text/plain": [
       "recommendations finished on 168000/178122 queries. users per second: 86040.4"
      ]
     },
     "metadata": {},
     "output_type": "display_data"
    },
    {
     "data": {
      "text/html": [
       "<pre>recommendations finished on 169000/178122 queries. users per second: 86332.4</pre>"
      ],
      "text/plain": [
       "recommendations finished on 169000/178122 queries. users per second: 86332.4"
      ]
     },
     "metadata": {},
     "output_type": "display_data"
    },
    {
     "data": {
      "text/html": [
       "<pre>recommendations finished on 170000/178122 queries. users per second: 86657.5</pre>"
      ],
      "text/plain": [
       "recommendations finished on 170000/178122 queries. users per second: 86657.5"
      ]
     },
     "metadata": {},
     "output_type": "display_data"
    },
    {
     "data": {
      "text/html": [
       "<pre>recommendations finished on 171000/178122 queries. users per second: 86894.7</pre>"
      ],
      "text/plain": [
       "recommendations finished on 171000/178122 queries. users per second: 86894.7"
      ]
     },
     "metadata": {},
     "output_type": "display_data"
    },
    {
     "data": {
      "text/html": [
       "<pre>recommendations finished on 172000/178122 queries. users per second: 87142.3</pre>"
      ],
      "text/plain": [
       "recommendations finished on 172000/178122 queries. users per second: 87142.3"
      ]
     },
     "metadata": {},
     "output_type": "display_data"
    },
    {
     "data": {
      "text/html": [
       "<pre>recommendations finished on 173000/178122 queries. users per second: 87344.1</pre>"
      ],
      "text/plain": [
       "recommendations finished on 173000/178122 queries. users per second: 87344.1"
      ]
     },
     "metadata": {},
     "output_type": "display_data"
    },
    {
     "data": {
      "text/html": [
       "<pre>recommendations finished on 174000/178122 queries. users per second: 87367.1</pre>"
      ],
      "text/plain": [
       "recommendations finished on 174000/178122 queries. users per second: 87367.1"
      ]
     },
     "metadata": {},
     "output_type": "display_data"
    },
    {
     "data": {
      "text/html": [
       "<pre>recommendations finished on 175000/178122 queries. users per second: 87274.9</pre>"
      ],
      "text/plain": [
       "recommendations finished on 175000/178122 queries. users per second: 87274.9"
      ]
     },
     "metadata": {},
     "output_type": "display_data"
    },
    {
     "data": {
      "text/html": [
       "<pre>recommendations finished on 176000/178122 queries. users per second: 87312.5</pre>"
      ],
      "text/plain": [
       "recommendations finished on 176000/178122 queries. users per second: 87312.5"
      ]
     },
     "metadata": {},
     "output_type": "display_data"
    },
    {
     "data": {
      "text/html": [
       "<pre>recommendations finished on 177000/178122 queries. users per second: 87404.1</pre>"
      ],
      "text/plain": [
       "recommendations finished on 177000/178122 queries. users per second: 87404.1"
      ]
     },
     "metadata": {},
     "output_type": "display_data"
    },
    {
     "data": {
      "text/html": [
       "<pre>recommendations finished on 178000/178122 queries. users per second: 87492.3</pre>"
      ],
      "text/plain": [
       "recommendations finished on 178000/178122 queries. users per second: 87492.3"
      ]
     },
     "metadata": {},
     "output_type": "display_data"
    }
   ],
   "source": [
    "# Using SecNumF dummy\n",
    "\n",
    "name = 'popularity'\n",
    "target = 'SecNumF_Dummy'\n",
    "pop_dummy = model(train_data_dummy, name, user_id, item_id, target, users_to_recommend, n_rec, n_display)"
   ]
  },
  {
   "cell_type": "code",
   "execution_count": 22,
   "metadata": {
    "collapsed": false,
    "deletable": true,
    "editable": true
   },
   "outputs": [
    {
     "data": {
      "text/html": [
       "<pre>Preparing data set.</pre>"
      ],
      "text/plain": [
       "Preparing data set."
      ]
     },
     "metadata": {},
     "output_type": "display_data"
    },
    {
     "data": {
      "text/html": [
       "<pre>    Data has 142497 observations with 1436 users and 235 items.</pre>"
      ],
      "text/plain": [
       "    Data has 142497 observations with 1436 users and 235 items."
      ]
     },
     "metadata": {},
     "output_type": "display_data"
    },
    {
     "data": {
      "text/html": [
       "<pre>    Data prepared in: 0.282958s</pre>"
      ],
      "text/plain": [
       "    Data prepared in: 0.282958s"
      ]
     },
     "metadata": {},
     "output_type": "display_data"
    },
    {
     "data": {
      "text/html": [
       "<pre>142497 observations to process; with 235 unique items.</pre>"
      ],
      "text/plain": [
       "142497 observations to process; with 235 unique items."
      ]
     },
     "metadata": {},
     "output_type": "display_data"
    },
    {
     "data": {
      "text/html": [
       "<pre>recommendations finished on 1000/178122 queries. users per second: 151194</pre>"
      ],
      "text/plain": [
       "recommendations finished on 1000/178122 queries. users per second: 151194"
      ]
     },
     "metadata": {},
     "output_type": "display_data"
    },
    {
     "data": {
      "text/html": [
       "<pre>recommendations finished on 2000/178122 queries. users per second: 169377</pre>"
      ],
      "text/plain": [
       "recommendations finished on 2000/178122 queries. users per second: 169377"
      ]
     },
     "metadata": {},
     "output_type": "display_data"
    },
    {
     "data": {
      "text/html": [
       "<pre>recommendations finished on 3000/178122 queries. users per second: 152369</pre>"
      ],
      "text/plain": [
       "recommendations finished on 3000/178122 queries. users per second: 152369"
      ]
     },
     "metadata": {},
     "output_type": "display_data"
    },
    {
     "data": {
      "text/html": [
       "<pre>recommendations finished on 4000/178122 queries. users per second: 92170.1</pre>"
      ],
      "text/plain": [
       "recommendations finished on 4000/178122 queries. users per second: 92170.1"
      ]
     },
     "metadata": {},
     "output_type": "display_data"
    },
    {
     "data": {
      "text/html": [
       "<pre>recommendations finished on 5000/178122 queries. users per second: 80247.8</pre>"
      ],
      "text/plain": [
       "recommendations finished on 5000/178122 queries. users per second: 80247.8"
      ]
     },
     "metadata": {},
     "output_type": "display_data"
    },
    {
     "data": {
      "text/html": [
       "<pre>recommendations finished on 6000/178122 queries. users per second: 64795.5</pre>"
      ],
      "text/plain": [
       "recommendations finished on 6000/178122 queries. users per second: 64795.5"
      ]
     },
     "metadata": {},
     "output_type": "display_data"
    },
    {
     "data": {
      "text/html": [
       "<pre>recommendations finished on 7000/178122 queries. users per second: 56200.5</pre>"
      ],
      "text/plain": [
       "recommendations finished on 7000/178122 queries. users per second: 56200.5"
      ]
     },
     "metadata": {},
     "output_type": "display_data"
    },
    {
     "data": {
      "text/html": [
       "<pre>recommendations finished on 8000/178122 queries. users per second: 43224.3</pre>"
      ],
      "text/plain": [
       "recommendations finished on 8000/178122 queries. users per second: 43224.3"
      ]
     },
     "metadata": {},
     "output_type": "display_data"
    },
    {
     "data": {
      "text/html": [
       "<pre>recommendations finished on 9000/178122 queries. users per second: 36743.8</pre>"
      ],
      "text/plain": [
       "recommendations finished on 9000/178122 queries. users per second: 36743.8"
      ]
     },
     "metadata": {},
     "output_type": "display_data"
    },
    {
     "data": {
      "text/html": [
       "<pre>recommendations finished on 10000/178122 queries. users per second: 32343.1</pre>"
      ],
      "text/plain": [
       "recommendations finished on 10000/178122 queries. users per second: 32343.1"
      ]
     },
     "metadata": {},
     "output_type": "display_data"
    },
    {
     "data": {
      "text/html": [
       "<pre>recommendations finished on 11000/178122 queries. users per second: 34668.3</pre>"
      ],
      "text/plain": [
       "recommendations finished on 11000/178122 queries. users per second: 34668.3"
      ]
     },
     "metadata": {},
     "output_type": "display_data"
    },
    {
     "data": {
      "text/html": [
       "<pre>recommendations finished on 12000/178122 queries. users per second: 36979.7</pre>"
      ],
      "text/plain": [
       "recommendations finished on 12000/178122 queries. users per second: 36979.7"
      ]
     },
     "metadata": {},
     "output_type": "display_data"
    },
    {
     "data": {
      "text/html": [
       "<pre>recommendations finished on 13000/178122 queries. users per second: 38893.2</pre>"
      ],
      "text/plain": [
       "recommendations finished on 13000/178122 queries. users per second: 38893.2"
      ]
     },
     "metadata": {},
     "output_type": "display_data"
    },
    {
     "data": {
      "text/html": [
       "<pre>recommendations finished on 14000/178122 queries. users per second: 40164.8</pre>"
      ],
      "text/plain": [
       "recommendations finished on 14000/178122 queries. users per second: 40164.8"
      ]
     },
     "metadata": {},
     "output_type": "display_data"
    },
    {
     "data": {
      "text/html": [
       "<pre>recommendations finished on 15000/178122 queries. users per second: 41990.3</pre>"
      ],
      "text/plain": [
       "recommendations finished on 15000/178122 queries. users per second: 41990.3"
      ]
     },
     "metadata": {},
     "output_type": "display_data"
    },
    {
     "data": {
      "text/html": [
       "<pre>recommendations finished on 16000/178122 queries. users per second: 44094.1</pre>"
      ],
      "text/plain": [
       "recommendations finished on 16000/178122 queries. users per second: 44094.1"
      ]
     },
     "metadata": {},
     "output_type": "display_data"
    },
    {
     "data": {
      "text/html": [
       "<pre>recommendations finished on 17000/178122 queries. users per second: 45694.5</pre>"
      ],
      "text/plain": [
       "recommendations finished on 17000/178122 queries. users per second: 45694.5"
      ]
     },
     "metadata": {},
     "output_type": "display_data"
    },
    {
     "data": {
      "text/html": [
       "<pre>recommendations finished on 18000/178122 queries. users per second: 47672.1</pre>"
      ],
      "text/plain": [
       "recommendations finished on 18000/178122 queries. users per second: 47672.1"
      ]
     },
     "metadata": {},
     "output_type": "display_data"
    },
    {
     "data": {
      "text/html": [
       "<pre>recommendations finished on 19000/178122 queries. users per second: 49181.9</pre>"
      ],
      "text/plain": [
       "recommendations finished on 19000/178122 queries. users per second: 49181.9"
      ]
     },
     "metadata": {},
     "output_type": "display_data"
    },
    {
     "data": {
      "text/html": [
       "<pre>recommendations finished on 20000/178122 queries. users per second: 49806.6</pre>"
      ],
      "text/plain": [
       "recommendations finished on 20000/178122 queries. users per second: 49806.6"
      ]
     },
     "metadata": {},
     "output_type": "display_data"
    },
    {
     "data": {
      "text/html": [
       "<pre>recommendations finished on 21000/178122 queries. users per second: 51136.3</pre>"
      ],
      "text/plain": [
       "recommendations finished on 21000/178122 queries. users per second: 51136.3"
      ]
     },
     "metadata": {},
     "output_type": "display_data"
    },
    {
     "data": {
      "text/html": [
       "<pre>recommendations finished on 22000/178122 queries. users per second: 52743.8</pre>"
      ],
      "text/plain": [
       "recommendations finished on 22000/178122 queries. users per second: 52743.8"
      ]
     },
     "metadata": {},
     "output_type": "display_data"
    },
    {
     "data": {
      "text/html": [
       "<pre>recommendations finished on 23000/178122 queries. users per second: 54536.1</pre>"
      ],
      "text/plain": [
       "recommendations finished on 23000/178122 queries. users per second: 54536.1"
      ]
     },
     "metadata": {},
     "output_type": "display_data"
    },
    {
     "data": {
      "text/html": [
       "<pre>recommendations finished on 24000/178122 queries. users per second: 56289.4</pre>"
      ],
      "text/plain": [
       "recommendations finished on 24000/178122 queries. users per second: 56289.4"
      ]
     },
     "metadata": {},
     "output_type": "display_data"
    },
    {
     "data": {
      "text/html": [
       "<pre>recommendations finished on 25000/178122 queries. users per second: 58062.3</pre>"
      ],
      "text/plain": [
       "recommendations finished on 25000/178122 queries. users per second: 58062.3"
      ]
     },
     "metadata": {},
     "output_type": "display_data"
    },
    {
     "data": {
      "text/html": [
       "<pre>recommendations finished on 26000/178122 queries. users per second: 59976.7</pre>"
      ],
      "text/plain": [
       "recommendations finished on 26000/178122 queries. users per second: 59976.7"
      ]
     },
     "metadata": {},
     "output_type": "display_data"
    },
    {
     "data": {
      "text/html": [
       "<pre>recommendations finished on 27000/178122 queries. users per second: 60952.1</pre>"
      ],
      "text/plain": [
       "recommendations finished on 27000/178122 queries. users per second: 60952.1"
      ]
     },
     "metadata": {},
     "output_type": "display_data"
    },
    {
     "data": {
      "text/html": [
       "<pre>recommendations finished on 28000/178122 queries. users per second: 61290.1</pre>"
      ],
      "text/plain": [
       "recommendations finished on 28000/178122 queries. users per second: 61290.1"
      ]
     },
     "metadata": {},
     "output_type": "display_data"
    },
    {
     "data": {
      "text/html": [
       "<pre>recommendations finished on 29000/178122 queries. users per second: 62341.3</pre>"
      ],
      "text/plain": [
       "recommendations finished on 29000/178122 queries. users per second: 62341.3"
      ]
     },
     "metadata": {},
     "output_type": "display_data"
    },
    {
     "data": {
      "text/html": [
       "<pre>recommendations finished on 30000/178122 queries. users per second: 62961.2</pre>"
      ],
      "text/plain": [
       "recommendations finished on 30000/178122 queries. users per second: 62961.2"
      ]
     },
     "metadata": {},
     "output_type": "display_data"
    },
    {
     "data": {
      "text/html": [
       "<pre>recommendations finished on 31000/178122 queries. users per second: 63344.4</pre>"
      ],
      "text/plain": [
       "recommendations finished on 31000/178122 queries. users per second: 63344.4"
      ]
     },
     "metadata": {},
     "output_type": "display_data"
    },
    {
     "data": {
      "text/html": [
       "<pre>recommendations finished on 32000/178122 queries. users per second: 65003.8</pre>"
      ],
      "text/plain": [
       "recommendations finished on 32000/178122 queries. users per second: 65003.8"
      ]
     },
     "metadata": {},
     "output_type": "display_data"
    },
    {
     "data": {
      "text/html": [
       "<pre>recommendations finished on 33000/178122 queries. users per second: 66584.6</pre>"
      ],
      "text/plain": [
       "recommendations finished on 33000/178122 queries. users per second: 66584.6"
      ]
     },
     "metadata": {},
     "output_type": "display_data"
    },
    {
     "data": {
      "text/html": [
       "<pre>recommendations finished on 34000/178122 queries. users per second: 67648.6</pre>"
      ],
      "text/plain": [
       "recommendations finished on 34000/178122 queries. users per second: 67648.6"
      ]
     },
     "metadata": {},
     "output_type": "display_data"
    },
    {
     "data": {
      "text/html": [
       "<pre>recommendations finished on 35000/178122 queries. users per second: 68783.4</pre>"
      ],
      "text/plain": [
       "recommendations finished on 35000/178122 queries. users per second: 68783.4"
      ]
     },
     "metadata": {},
     "output_type": "display_data"
    },
    {
     "data": {
      "text/html": [
       "<pre>recommendations finished on 36000/178122 queries. users per second: 70239.8</pre>"
      ],
      "text/plain": [
       "recommendations finished on 36000/178122 queries. users per second: 70239.8"
      ]
     },
     "metadata": {},
     "output_type": "display_data"
    },
    {
     "data": {
      "text/html": [
       "<pre>recommendations finished on 37000/178122 queries. users per second: 71646.6</pre>"
      ],
      "text/plain": [
       "recommendations finished on 37000/178122 queries. users per second: 71646.6"
      ]
     },
     "metadata": {},
     "output_type": "display_data"
    },
    {
     "data": {
      "text/html": [
       "<pre>recommendations finished on 38000/178122 queries. users per second: 73009.8</pre>"
      ],
      "text/plain": [
       "recommendations finished on 38000/178122 queries. users per second: 73009.8"
      ]
     },
     "metadata": {},
     "output_type": "display_data"
    },
    {
     "data": {
      "text/html": [
       "<pre>recommendations finished on 39000/178122 queries. users per second: 74286</pre>"
      ],
      "text/plain": [
       "recommendations finished on 39000/178122 queries. users per second: 74286"
      ]
     },
     "metadata": {},
     "output_type": "display_data"
    },
    {
     "data": {
      "text/html": [
       "<pre>recommendations finished on 40000/178122 queries. users per second: 75177.1</pre>"
      ],
      "text/plain": [
       "recommendations finished on 40000/178122 queries. users per second: 75177.1"
      ]
     },
     "metadata": {},
     "output_type": "display_data"
    },
    {
     "data": {
      "text/html": [
       "<pre>recommendations finished on 41000/178122 queries. users per second: 76353.9</pre>"
      ],
      "text/plain": [
       "recommendations finished on 41000/178122 queries. users per second: 76353.9"
      ]
     },
     "metadata": {},
     "output_type": "display_data"
    },
    {
     "data": {
      "text/html": [
       "<pre>recommendations finished on 42000/178122 queries. users per second: 77562.9</pre>"
      ],
      "text/plain": [
       "recommendations finished on 42000/178122 queries. users per second: 77562.9"
      ]
     },
     "metadata": {},
     "output_type": "display_data"
    },
    {
     "data": {
      "text/html": [
       "<pre>recommendations finished on 43000/178122 queries. users per second: 78087.8</pre>"
      ],
      "text/plain": [
       "recommendations finished on 43000/178122 queries. users per second: 78087.8"
      ]
     },
     "metadata": {},
     "output_type": "display_data"
    },
    {
     "data": {
      "text/html": [
       "<pre>recommendations finished on 44000/178122 queries. users per second: 78806.4</pre>"
      ],
      "text/plain": [
       "recommendations finished on 44000/178122 queries. users per second: 78806.4"
      ]
     },
     "metadata": {},
     "output_type": "display_data"
    },
    {
     "data": {
      "text/html": [
       "<pre>recommendations finished on 45000/178122 queries. users per second: 79868.5</pre>"
      ],
      "text/plain": [
       "recommendations finished on 45000/178122 queries. users per second: 79868.5"
      ]
     },
     "metadata": {},
     "output_type": "display_data"
    },
    {
     "data": {
      "text/html": [
       "<pre>recommendations finished on 46000/178122 queries. users per second: 80689.3</pre>"
      ],
      "text/plain": [
       "recommendations finished on 46000/178122 queries. users per second: 80689.3"
      ]
     },
     "metadata": {},
     "output_type": "display_data"
    },
    {
     "data": {
      "text/html": [
       "<pre>recommendations finished on 47000/178122 queries. users per second: 81754.6</pre>"
      ],
      "text/plain": [
       "recommendations finished on 47000/178122 queries. users per second: 81754.6"
      ]
     },
     "metadata": {},
     "output_type": "display_data"
    },
    {
     "data": {
      "text/html": [
       "<pre>recommendations finished on 48000/178122 queries. users per second: 82599.8</pre>"
      ],
      "text/plain": [
       "recommendations finished on 48000/178122 queries. users per second: 82599.8"
      ]
     },
     "metadata": {},
     "output_type": "display_data"
    },
    {
     "data": {
      "text/html": [
       "<pre>recommendations finished on 49000/178122 queries. users per second: 82137.2</pre>"
      ],
      "text/plain": [
       "recommendations finished on 49000/178122 queries. users per second: 82137.2"
      ]
     },
     "metadata": {},
     "output_type": "display_data"
    },
    {
     "data": {
      "text/html": [
       "<pre>recommendations finished on 50000/178122 queries. users per second: 82370.6</pre>"
      ],
      "text/plain": [
       "recommendations finished on 50000/178122 queries. users per second: 82370.6"
      ]
     },
     "metadata": {},
     "output_type": "display_data"
    },
    {
     "data": {
      "text/html": [
       "<pre>recommendations finished on 51000/178122 queries. users per second: 83378.4</pre>"
      ],
      "text/plain": [
       "recommendations finished on 51000/178122 queries. users per second: 83378.4"
      ]
     },
     "metadata": {},
     "output_type": "display_data"
    },
    {
     "data": {
      "text/html": [
       "<pre>recommendations finished on 52000/178122 queries. users per second: 84447.8</pre>"
      ],
      "text/plain": [
       "recommendations finished on 52000/178122 queries. users per second: 84447.8"
      ]
     },
     "metadata": {},
     "output_type": "display_data"
    },
    {
     "data": {
      "text/html": [
       "<pre>recommendations finished on 53000/178122 queries. users per second: 85570.3</pre>"
      ],
      "text/plain": [
       "recommendations finished on 53000/178122 queries. users per second: 85570.3"
      ]
     },
     "metadata": {},
     "output_type": "display_data"
    },
    {
     "data": {
      "text/html": [
       "<pre>recommendations finished on 54000/178122 queries. users per second: 86698.8</pre>"
      ],
      "text/plain": [
       "recommendations finished on 54000/178122 queries. users per second: 86698.8"
      ]
     },
     "metadata": {},
     "output_type": "display_data"
    },
    {
     "data": {
      "text/html": [
       "<pre>recommendations finished on 55000/178122 queries. users per second: 87899.7</pre>"
      ],
      "text/plain": [
       "recommendations finished on 55000/178122 queries. users per second: 87899.7"
      ]
     },
     "metadata": {},
     "output_type": "display_data"
    },
    {
     "data": {
      "text/html": [
       "<pre>recommendations finished on 56000/178122 queries. users per second: 88935.6</pre>"
      ],
      "text/plain": [
       "recommendations finished on 56000/178122 queries. users per second: 88935.6"
      ]
     },
     "metadata": {},
     "output_type": "display_data"
    },
    {
     "data": {
      "text/html": [
       "<pre>recommendations finished on 57000/178122 queries. users per second: 90046.8</pre>"
      ],
      "text/plain": [
       "recommendations finished on 57000/178122 queries. users per second: 90046.8"
      ]
     },
     "metadata": {},
     "output_type": "display_data"
    },
    {
     "data": {
      "text/html": [
       "<pre>recommendations finished on 58000/178122 queries. users per second: 91206.6</pre>"
      ],
      "text/plain": [
       "recommendations finished on 58000/178122 queries. users per second: 91206.6"
      ]
     },
     "metadata": {},
     "output_type": "display_data"
    },
    {
     "data": {
      "text/html": [
       "<pre>recommendations finished on 59000/178122 queries. users per second: 92356.8</pre>"
      ],
      "text/plain": [
       "recommendations finished on 59000/178122 queries. users per second: 92356.8"
      ]
     },
     "metadata": {},
     "output_type": "display_data"
    },
    {
     "data": {
      "text/html": [
       "<pre>recommendations finished on 60000/178122 queries. users per second: 93283</pre>"
      ],
      "text/plain": [
       "recommendations finished on 60000/178122 queries. users per second: 93283"
      ]
     },
     "metadata": {},
     "output_type": "display_data"
    },
    {
     "data": {
      "text/html": [
       "<pre>recommendations finished on 61000/178122 queries. users per second: 94168.5</pre>"
      ],
      "text/plain": [
       "recommendations finished on 61000/178122 queries. users per second: 94168.5"
      ]
     },
     "metadata": {},
     "output_type": "display_data"
    },
    {
     "data": {
      "text/html": [
       "<pre>recommendations finished on 62000/178122 queries. users per second: 95091.4</pre>"
      ],
      "text/plain": [
       "recommendations finished on 62000/178122 queries. users per second: 95091.4"
      ]
     },
     "metadata": {},
     "output_type": "display_data"
    },
    {
     "data": {
      "text/html": [
       "<pre>recommendations finished on 63000/178122 queries. users per second: 96007.9</pre>"
      ],
      "text/plain": [
       "recommendations finished on 63000/178122 queries. users per second: 96007.9"
      ]
     },
     "metadata": {},
     "output_type": "display_data"
    },
    {
     "data": {
      "text/html": [
       "<pre>recommendations finished on 64000/178122 queries. users per second: 96947.1</pre>"
      ],
      "text/plain": [
       "recommendations finished on 64000/178122 queries. users per second: 96947.1"
      ]
     },
     "metadata": {},
     "output_type": "display_data"
    },
    {
     "data": {
      "text/html": [
       "<pre>recommendations finished on 65000/178122 queries. users per second: 97245.3</pre>"
      ],
      "text/plain": [
       "recommendations finished on 65000/178122 queries. users per second: 97245.3"
      ]
     },
     "metadata": {},
     "output_type": "display_data"
    },
    {
     "data": {
      "text/html": [
       "<pre>recommendations finished on 66000/178122 queries. users per second: 98150</pre>"
      ],
      "text/plain": [
       "recommendations finished on 66000/178122 queries. users per second: 98150"
      ]
     },
     "metadata": {},
     "output_type": "display_data"
    },
    {
     "data": {
      "text/html": [
       "<pre>recommendations finished on 67000/178122 queries. users per second: 98554.5</pre>"
      ],
      "text/plain": [
       "recommendations finished on 67000/178122 queries. users per second: 98554.5"
      ]
     },
     "metadata": {},
     "output_type": "display_data"
    },
    {
     "data": {
      "text/html": [
       "<pre>recommendations finished on 68000/178122 queries. users per second: 99012.8</pre>"
      ],
      "text/plain": [
       "recommendations finished on 68000/178122 queries. users per second: 99012.8"
      ]
     },
     "metadata": {},
     "output_type": "display_data"
    },
    {
     "data": {
      "text/html": [
       "<pre>recommendations finished on 69000/178122 queries. users per second: 99597.3</pre>"
      ],
      "text/plain": [
       "recommendations finished on 69000/178122 queries. users per second: 99597.3"
      ]
     },
     "metadata": {},
     "output_type": "display_data"
    },
    {
     "data": {
      "text/html": [
       "<pre>recommendations finished on 70000/178122 queries. users per second: 100130</pre>"
      ],
      "text/plain": [
       "recommendations finished on 70000/178122 queries. users per second: 100130"
      ]
     },
     "metadata": {},
     "output_type": "display_data"
    },
    {
     "data": {
      "text/html": [
       "<pre>recommendations finished on 71000/178122 queries. users per second: 100563</pre>"
      ],
      "text/plain": [
       "recommendations finished on 71000/178122 queries. users per second: 100563"
      ]
     },
     "metadata": {},
     "output_type": "display_data"
    },
    {
     "data": {
      "text/html": [
       "<pre>recommendations finished on 72000/178122 queries. users per second: 101267</pre>"
      ],
      "text/plain": [
       "recommendations finished on 72000/178122 queries. users per second: 101267"
      ]
     },
     "metadata": {},
     "output_type": "display_data"
    },
    {
     "data": {
      "text/html": [
       "<pre>recommendations finished on 73000/178122 queries. users per second: 101860</pre>"
      ],
      "text/plain": [
       "recommendations finished on 73000/178122 queries. users per second: 101860"
      ]
     },
     "metadata": {},
     "output_type": "display_data"
    },
    {
     "data": {
      "text/html": [
       "<pre>recommendations finished on 74000/178122 queries. users per second: 102736</pre>"
      ],
      "text/plain": [
       "recommendations finished on 74000/178122 queries. users per second: 102736"
      ]
     },
     "metadata": {},
     "output_type": "display_data"
    },
    {
     "data": {
      "text/html": [
       "<pre>recommendations finished on 75000/178122 queries. users per second: 103654</pre>"
      ],
      "text/plain": [
       "recommendations finished on 75000/178122 queries. users per second: 103654"
      ]
     },
     "metadata": {},
     "output_type": "display_data"
    },
    {
     "data": {
      "text/html": [
       "<pre>recommendations finished on 76000/178122 queries. users per second: 104541</pre>"
      ],
      "text/plain": [
       "recommendations finished on 76000/178122 queries. users per second: 104541"
      ]
     },
     "metadata": {},
     "output_type": "display_data"
    },
    {
     "data": {
      "text/html": [
       "<pre>recommendations finished on 77000/178122 queries. users per second: 105304</pre>"
      ],
      "text/plain": [
       "recommendations finished on 77000/178122 queries. users per second: 105304"
      ]
     },
     "metadata": {},
     "output_type": "display_data"
    },
    {
     "data": {
      "text/html": [
       "<pre>recommendations finished on 78000/178122 queries. users per second: 105303</pre>"
      ],
      "text/plain": [
       "recommendations finished on 78000/178122 queries. users per second: 105303"
      ]
     },
     "metadata": {},
     "output_type": "display_data"
    },
    {
     "data": {
      "text/html": [
       "<pre>recommendations finished on 79000/178122 queries. users per second: 105774</pre>"
      ],
      "text/plain": [
       "recommendations finished on 79000/178122 queries. users per second: 105774"
      ]
     },
     "metadata": {},
     "output_type": "display_data"
    },
    {
     "data": {
      "text/html": [
       "<pre>recommendations finished on 80000/178122 queries. users per second: 106318</pre>"
      ],
      "text/plain": [
       "recommendations finished on 80000/178122 queries. users per second: 106318"
      ]
     },
     "metadata": {},
     "output_type": "display_data"
    },
    {
     "data": {
      "text/html": [
       "<pre>recommendations finished on 81000/178122 queries. users per second: 107087</pre>"
      ],
      "text/plain": [
       "recommendations finished on 81000/178122 queries. users per second: 107087"
      ]
     },
     "metadata": {},
     "output_type": "display_data"
    },
    {
     "data": {
      "text/html": [
       "<pre>recommendations finished on 82000/178122 queries. users per second: 107874</pre>"
      ],
      "text/plain": [
       "recommendations finished on 82000/178122 queries. users per second: 107874"
      ]
     },
     "metadata": {},
     "output_type": "display_data"
    },
    {
     "data": {
      "text/html": [
       "<pre>recommendations finished on 83000/178122 queries. users per second: 108542</pre>"
      ],
      "text/plain": [
       "recommendations finished on 83000/178122 queries. users per second: 108542"
      ]
     },
     "metadata": {},
     "output_type": "display_data"
    },
    {
     "data": {
      "text/html": [
       "<pre>recommendations finished on 84000/178122 queries. users per second: 109415</pre>"
      ],
      "text/plain": [
       "recommendations finished on 84000/178122 queries. users per second: 109415"
      ]
     },
     "metadata": {},
     "output_type": "display_data"
    },
    {
     "data": {
      "text/html": [
       "<pre>recommendations finished on 85000/178122 queries. users per second: 110248</pre>"
      ],
      "text/plain": [
       "recommendations finished on 85000/178122 queries. users per second: 110248"
      ]
     },
     "metadata": {},
     "output_type": "display_data"
    },
    {
     "data": {
      "text/html": [
       "<pre>recommendations finished on 86000/178122 queries. users per second: 110893</pre>"
      ],
      "text/plain": [
       "recommendations finished on 86000/178122 queries. users per second: 110893"
      ]
     },
     "metadata": {},
     "output_type": "display_data"
    },
    {
     "data": {
      "text/html": [
       "<pre>recommendations finished on 87000/178122 queries. users per second: 111373</pre>"
      ],
      "text/plain": [
       "recommendations finished on 87000/178122 queries. users per second: 111373"
      ]
     },
     "metadata": {},
     "output_type": "display_data"
    },
    {
     "name": "stdout",
     "output_type": "stream",
     "text": [
      "+------------+---------+----------------+------+\n",
      "|  Customer  | Product |     score      | rank |\n",
      "+------------+---------+----------------+------+\n",
      "| CC20190310 |   6_27  | 0.243482443482 |  1   |\n",
      "| CC20190310 |   1_27  | 0.218157582938 |  2   |\n",
      "| CC20190310 |   4_0   | 0.214873150843 |  3   |\n",
      "| CC20190310 |   0_28  | 0.205674209679 |  4   |\n",
      "| CC20190310 |   2_27  | 0.203237410072 |  5   |\n",
      "| CC20190310 |   6_8   | 0.199669341355 |  6   |\n",
      "| CC20190310 |   5_27  | 0.19501758712  |  7   |\n",
      "| CC20190310 |   1_26  | 0.190805694743 |  8   |\n",
      "| CC20190310 |   7_20  | 0.190372141837 |  9   |\n",
      "| CC20190310 |   1_21  | 0.190097190977 |  10  |\n",
      "| CC20190310 |   6_27  | 0.243482443482 |  1   |\n",
      "| CC20190310 |   1_27  | 0.218157582938 |  2   |\n",
      "| CC20190310 |   4_0   | 0.214873150843 |  3   |\n",
      "| CC20190310 |   0_28  | 0.205674209679 |  4   |\n",
      "| CC20190310 |   2_27  | 0.203237410072 |  5   |\n",
      "| CC20190310 |   6_8   | 0.199669341355 |  6   |\n",
      "| CC20190310 |   5_27  | 0.19501758712  |  7   |\n",
      "| CC20190310 |   1_26  | 0.190805694743 |  8   |\n",
      "| CC20190310 |   7_20  | 0.190372141837 |  9   |\n",
      "| CC20190310 |   1_21  | 0.190097190977 |  10  |\n",
      "| CC20190310 |   6_27  | 0.243482443482 |  1   |\n",
      "| CC20190310 |   1_27  | 0.218157582938 |  2   |\n",
      "| CC20190310 |   4_0   | 0.214873150843 |  3   |\n",
      "| CC20190310 |   0_28  | 0.205674209679 |  4   |\n",
      "| CC20190310 |   2_27  | 0.203237410072 |  5   |\n",
      "| CC20190310 |   6_8   | 0.199669341355 |  6   |\n",
      "| CC20190310 |   5_27  | 0.19501758712  |  7   |\n",
      "| CC20190310 |   1_26  | 0.190805694743 |  8   |\n",
      "| CC20190310 |   7_20  | 0.190372141837 |  9   |\n",
      "| CC20190310 |   1_21  | 0.190097190977 |  10  |\n",
      "+------------+---------+----------------+------+\n",
      "[1781220 rows x 4 columns]\n",
      "\n"
     ]
    },
    {
     "data": {
      "text/html": [
       "<pre>recommendations finished on 88000/178122 queries. users per second: 112112</pre>"
      ],
      "text/plain": [
       "recommendations finished on 88000/178122 queries. users per second: 112112"
      ]
     },
     "metadata": {},
     "output_type": "display_data"
    },
    {
     "data": {
      "text/html": [
       "<pre>recommendations finished on 89000/178122 queries. users per second: 112738</pre>"
      ],
      "text/plain": [
       "recommendations finished on 89000/178122 queries. users per second: 112738"
      ]
     },
     "metadata": {},
     "output_type": "display_data"
    },
    {
     "data": {
      "text/html": [
       "<pre>recommendations finished on 90000/178122 queries. users per second: 109773</pre>"
      ],
      "text/plain": [
       "recommendations finished on 90000/178122 queries. users per second: 109773"
      ]
     },
     "metadata": {},
     "output_type": "display_data"
    },
    {
     "data": {
      "text/html": [
       "<pre>recommendations finished on 91000/178122 queries. users per second: 99228.6</pre>"
      ],
      "text/plain": [
       "recommendations finished on 91000/178122 queries. users per second: 99228.6"
      ]
     },
     "metadata": {},
     "output_type": "display_data"
    },
    {
     "data": {
      "text/html": [
       "<pre>recommendations finished on 92000/178122 queries. users per second: 99676.1</pre>"
      ],
      "text/plain": [
       "recommendations finished on 92000/178122 queries. users per second: 99676.1"
      ]
     },
     "metadata": {},
     "output_type": "display_data"
    },
    {
     "data": {
      "text/html": [
       "<pre>recommendations finished on 93000/178122 queries. users per second: 95285</pre>"
      ],
      "text/plain": [
       "recommendations finished on 93000/178122 queries. users per second: 95285"
      ]
     },
     "metadata": {},
     "output_type": "display_data"
    },
    {
     "data": {
      "text/html": [
       "<pre>recommendations finished on 94000/178122 queries. users per second: 94359.3</pre>"
      ],
      "text/plain": [
       "recommendations finished on 94000/178122 queries. users per second: 94359.3"
      ]
     },
     "metadata": {},
     "output_type": "display_data"
    },
    {
     "data": {
      "text/html": [
       "<pre>recommendations finished on 95000/178122 queries. users per second: 94066.2</pre>"
      ],
      "text/plain": [
       "recommendations finished on 95000/178122 queries. users per second: 94066.2"
      ]
     },
     "metadata": {},
     "output_type": "display_data"
    },
    {
     "data": {
      "text/html": [
       "<pre>recommendations finished on 96000/178122 queries. users per second: 94327.8</pre>"
      ],
      "text/plain": [
       "recommendations finished on 96000/178122 queries. users per second: 94327.8"
      ]
     },
     "metadata": {},
     "output_type": "display_data"
    },
    {
     "data": {
      "text/html": [
       "<pre>recommendations finished on 97000/178122 queries. users per second: 94720.8</pre>"
      ],
      "text/plain": [
       "recommendations finished on 97000/178122 queries. users per second: 94720.8"
      ]
     },
     "metadata": {},
     "output_type": "display_data"
    },
    {
     "data": {
      "text/html": [
       "<pre>recommendations finished on 98000/178122 queries. users per second: 94533.7</pre>"
      ],
      "text/plain": [
       "recommendations finished on 98000/178122 queries. users per second: 94533.7"
      ]
     },
     "metadata": {},
     "output_type": "display_data"
    },
    {
     "data": {
      "text/html": [
       "<pre>recommendations finished on 99000/178122 queries. users per second: 93929.9</pre>"
      ],
      "text/plain": [
       "recommendations finished on 99000/178122 queries. users per second: 93929.9"
      ]
     },
     "metadata": {},
     "output_type": "display_data"
    },
    {
     "data": {
      "text/html": [
       "<pre>recommendations finished on 100000/178122 queries. users per second: 94337.3</pre>"
      ],
      "text/plain": [
       "recommendations finished on 100000/178122 queries. users per second: 94337.3"
      ]
     },
     "metadata": {},
     "output_type": "display_data"
    },
    {
     "data": {
      "text/html": [
       "<pre>recommendations finished on 101000/178122 queries. users per second: 94710.2</pre>"
      ],
      "text/plain": [
       "recommendations finished on 101000/178122 queries. users per second: 94710.2"
      ]
     },
     "metadata": {},
     "output_type": "display_data"
    },
    {
     "data": {
      "text/html": [
       "<pre>recommendations finished on 102000/178122 queries. users per second: 95054.5</pre>"
      ],
      "text/plain": [
       "recommendations finished on 102000/178122 queries. users per second: 95054.5"
      ]
     },
     "metadata": {},
     "output_type": "display_data"
    },
    {
     "data": {
      "text/html": [
       "<pre>recommendations finished on 103000/178122 queries. users per second: 95597</pre>"
      ],
      "text/plain": [
       "recommendations finished on 103000/178122 queries. users per second: 95597"
      ]
     },
     "metadata": {},
     "output_type": "display_data"
    },
    {
     "data": {
      "text/html": [
       "<pre>recommendations finished on 104000/178122 queries. users per second: 95954.8</pre>"
      ],
      "text/plain": [
       "recommendations finished on 104000/178122 queries. users per second: 95954.8"
      ]
     },
     "metadata": {},
     "output_type": "display_data"
    },
    {
     "data": {
      "text/html": [
       "<pre>recommendations finished on 105000/178122 queries. users per second: 96166.9</pre>"
      ],
      "text/plain": [
       "recommendations finished on 105000/178122 queries. users per second: 96166.9"
      ]
     },
     "metadata": {},
     "output_type": "display_data"
    },
    {
     "data": {
      "text/html": [
       "<pre>recommendations finished on 106000/178122 queries. users per second: 95808.5</pre>"
      ],
      "text/plain": [
       "recommendations finished on 106000/178122 queries. users per second: 95808.5"
      ]
     },
     "metadata": {},
     "output_type": "display_data"
    },
    {
     "data": {
      "text/html": [
       "<pre>recommendations finished on 107000/178122 queries. users per second: 96152.4</pre>"
      ],
      "text/plain": [
       "recommendations finished on 107000/178122 queries. users per second: 96152.4"
      ]
     },
     "metadata": {},
     "output_type": "display_data"
    },
    {
     "data": {
      "text/html": [
       "<pre>recommendations finished on 108000/178122 queries. users per second: 96529.5</pre>"
      ],
      "text/plain": [
       "recommendations finished on 108000/178122 queries. users per second: 96529.5"
      ]
     },
     "metadata": {},
     "output_type": "display_data"
    },
    {
     "data": {
      "text/html": [
       "<pre>recommendations finished on 109000/178122 queries. users per second: 97003.4</pre>"
      ],
      "text/plain": [
       "recommendations finished on 109000/178122 queries. users per second: 97003.4"
      ]
     },
     "metadata": {},
     "output_type": "display_data"
    },
    {
     "data": {
      "text/html": [
       "<pre>recommendations finished on 110000/178122 queries. users per second: 97404.6</pre>"
      ],
      "text/plain": [
       "recommendations finished on 110000/178122 queries. users per second: 97404.6"
      ]
     },
     "metadata": {},
     "output_type": "display_data"
    },
    {
     "data": {
      "text/html": [
       "<pre>recommendations finished on 111000/178122 queries. users per second: 97206.3</pre>"
      ],
      "text/plain": [
       "recommendations finished on 111000/178122 queries. users per second: 97206.3"
      ]
     },
     "metadata": {},
     "output_type": "display_data"
    },
    {
     "data": {
      "text/html": [
       "<pre>recommendations finished on 112000/178122 queries. users per second: 97750.1</pre>"
      ],
      "text/plain": [
       "recommendations finished on 112000/178122 queries. users per second: 97750.1"
      ]
     },
     "metadata": {},
     "output_type": "display_data"
    },
    {
     "data": {
      "text/html": [
       "<pre>recommendations finished on 113000/178122 queries. users per second: 95290.6</pre>"
      ],
      "text/plain": [
       "recommendations finished on 113000/178122 queries. users per second: 95290.6"
      ]
     },
     "metadata": {},
     "output_type": "display_data"
    },
    {
     "data": {
      "text/html": [
       "<pre>recommendations finished on 114000/178122 queries. users per second: 94240.4</pre>"
      ],
      "text/plain": [
       "recommendations finished on 114000/178122 queries. users per second: 94240.4"
      ]
     },
     "metadata": {},
     "output_type": "display_data"
    },
    {
     "data": {
      "text/html": [
       "<pre>recommendations finished on 115000/178122 queries. users per second: 94538</pre>"
      ],
      "text/plain": [
       "recommendations finished on 115000/178122 queries. users per second: 94538"
      ]
     },
     "metadata": {},
     "output_type": "display_data"
    },
    {
     "data": {
      "text/html": [
       "<pre>recommendations finished on 116000/178122 queries. users per second: 94984.4</pre>"
      ],
      "text/plain": [
       "recommendations finished on 116000/178122 queries. users per second: 94984.4"
      ]
     },
     "metadata": {},
     "output_type": "display_data"
    },
    {
     "data": {
      "text/html": [
       "<pre>recommendations finished on 117000/178122 queries. users per second: 93012.5</pre>"
      ],
      "text/plain": [
       "recommendations finished on 117000/178122 queries. users per second: 93012.5"
      ]
     },
     "metadata": {},
     "output_type": "display_data"
    },
    {
     "data": {
      "text/html": [
       "<pre>recommendations finished on 118000/178122 queries. users per second: 90496.3</pre>"
      ],
      "text/plain": [
       "recommendations finished on 118000/178122 queries. users per second: 90496.3"
      ]
     },
     "metadata": {},
     "output_type": "display_data"
    },
    {
     "data": {
      "text/html": [
       "<pre>recommendations finished on 119000/178122 queries. users per second: 89301.3</pre>"
      ],
      "text/plain": [
       "recommendations finished on 119000/178122 queries. users per second: 89301.3"
      ]
     },
     "metadata": {},
     "output_type": "display_data"
    },
    {
     "data": {
      "text/html": [
       "<pre>recommendations finished on 120000/178122 queries. users per second: 88893.8</pre>"
      ],
      "text/plain": [
       "recommendations finished on 120000/178122 queries. users per second: 88893.8"
      ]
     },
     "metadata": {},
     "output_type": "display_data"
    },
    {
     "data": {
      "text/html": [
       "<pre>recommendations finished on 121000/178122 queries. users per second: 89087.8</pre>"
      ],
      "text/plain": [
       "recommendations finished on 121000/178122 queries. users per second: 89087.8"
      ]
     },
     "metadata": {},
     "output_type": "display_data"
    },
    {
     "data": {
      "text/html": [
       "<pre>recommendations finished on 122000/178122 queries. users per second: 89437.1</pre>"
      ],
      "text/plain": [
       "recommendations finished on 122000/178122 queries. users per second: 89437.1"
      ]
     },
     "metadata": {},
     "output_type": "display_data"
    },
    {
     "data": {
      "text/html": [
       "<pre>recommendations finished on 123000/178122 queries. users per second: 89564.1</pre>"
      ],
      "text/plain": [
       "recommendations finished on 123000/178122 queries. users per second: 89564.1"
      ]
     },
     "metadata": {},
     "output_type": "display_data"
    },
    {
     "data": {
      "text/html": [
       "<pre>recommendations finished on 124000/178122 queries. users per second: 89157.7</pre>"
      ],
      "text/plain": [
       "recommendations finished on 124000/178122 queries. users per second: 89157.7"
      ]
     },
     "metadata": {},
     "output_type": "display_data"
    },
    {
     "data": {
      "text/html": [
       "<pre>recommendations finished on 125000/178122 queries. users per second: 89414.6</pre>"
      ],
      "text/plain": [
       "recommendations finished on 125000/178122 queries. users per second: 89414.6"
      ]
     },
     "metadata": {},
     "output_type": "display_data"
    },
    {
     "data": {
      "text/html": [
       "<pre>recommendations finished on 126000/178122 queries. users per second: 89885.4</pre>"
      ],
      "text/plain": [
       "recommendations finished on 126000/178122 queries. users per second: 89885.4"
      ]
     },
     "metadata": {},
     "output_type": "display_data"
    },
    {
     "data": {
      "text/html": [
       "<pre>recommendations finished on 127000/178122 queries. users per second: 90246.9</pre>"
      ],
      "text/plain": [
       "recommendations finished on 127000/178122 queries. users per second: 90246.9"
      ]
     },
     "metadata": {},
     "output_type": "display_data"
    },
    {
     "data": {
      "text/html": [
       "<pre>recommendations finished on 128000/178122 queries. users per second: 90568</pre>"
      ],
      "text/plain": [
       "recommendations finished on 128000/178122 queries. users per second: 90568"
      ]
     },
     "metadata": {},
     "output_type": "display_data"
    },
    {
     "data": {
      "text/html": [
       "<pre>recommendations finished on 129000/178122 queries. users per second: 90726.6</pre>"
      ],
      "text/plain": [
       "recommendations finished on 129000/178122 queries. users per second: 90726.6"
      ]
     },
     "metadata": {},
     "output_type": "display_data"
    },
    {
     "data": {
      "text/html": [
       "<pre>recommendations finished on 130000/178122 queries. users per second: 91165.9</pre>"
      ],
      "text/plain": [
       "recommendations finished on 130000/178122 queries. users per second: 91165.9"
      ]
     },
     "metadata": {},
     "output_type": "display_data"
    },
    {
     "data": {
      "text/html": [
       "<pre>recommendations finished on 131000/178122 queries. users per second: 91519</pre>"
      ],
      "text/plain": [
       "recommendations finished on 131000/178122 queries. users per second: 91519"
      ]
     },
     "metadata": {},
     "output_type": "display_data"
    },
    {
     "data": {
      "text/html": [
       "<pre>recommendations finished on 132000/178122 queries. users per second: 91817.3</pre>"
      ],
      "text/plain": [
       "recommendations finished on 132000/178122 queries. users per second: 91817.3"
      ]
     },
     "metadata": {},
     "output_type": "display_data"
    },
    {
     "data": {
      "text/html": [
       "<pre>recommendations finished on 133000/178122 queries. users per second: 91986.5</pre>"
      ],
      "text/plain": [
       "recommendations finished on 133000/178122 queries. users per second: 91986.5"
      ]
     },
     "metadata": {},
     "output_type": "display_data"
    },
    {
     "data": {
      "text/html": [
       "<pre>recommendations finished on 134000/178122 queries. users per second: 92261.6</pre>"
      ],
      "text/plain": [
       "recommendations finished on 134000/178122 queries. users per second: 92261.6"
      ]
     },
     "metadata": {},
     "output_type": "display_data"
    },
    {
     "data": {
      "text/html": [
       "<pre>recommendations finished on 135000/178122 queries. users per second: 92531.2</pre>"
      ],
      "text/plain": [
       "recommendations finished on 135000/178122 queries. users per second: 92531.2"
      ]
     },
     "metadata": {},
     "output_type": "display_data"
    },
    {
     "data": {
      "text/html": [
       "<pre>recommendations finished on 136000/178122 queries. users per second: 92487.9</pre>"
      ],
      "text/plain": [
       "recommendations finished on 136000/178122 queries. users per second: 92487.9"
      ]
     },
     "metadata": {},
     "output_type": "display_data"
    },
    {
     "data": {
      "text/html": [
       "<pre>recommendations finished on 137000/178122 queries. users per second: 92800.4</pre>"
      ],
      "text/plain": [
       "recommendations finished on 137000/178122 queries. users per second: 92800.4"
      ]
     },
     "metadata": {},
     "output_type": "display_data"
    },
    {
     "data": {
      "text/html": [
       "<pre>recommendations finished on 138000/178122 queries. users per second: 92928.7</pre>"
      ],
      "text/plain": [
       "recommendations finished on 138000/178122 queries. users per second: 92928.7"
      ]
     },
     "metadata": {},
     "output_type": "display_data"
    },
    {
     "data": {
      "text/html": [
       "<pre>recommendations finished on 139000/178122 queries. users per second: 93271.5</pre>"
      ],
      "text/plain": [
       "recommendations finished on 139000/178122 queries. users per second: 93271.5"
      ]
     },
     "metadata": {},
     "output_type": "display_data"
    },
    {
     "data": {
      "text/html": [
       "<pre>recommendations finished on 140000/178122 queries. users per second: 93579.7</pre>"
      ],
      "text/plain": [
       "recommendations finished on 140000/178122 queries. users per second: 93579.7"
      ]
     },
     "metadata": {},
     "output_type": "display_data"
    },
    {
     "data": {
      "text/html": [
       "<pre>recommendations finished on 141000/178122 queries. users per second: 93873.8</pre>"
      ],
      "text/plain": [
       "recommendations finished on 141000/178122 queries. users per second: 93873.8"
      ]
     },
     "metadata": {},
     "output_type": "display_data"
    },
    {
     "data": {
      "text/html": [
       "<pre>recommendations finished on 142000/178122 queries. users per second: 92340.7</pre>"
      ],
      "text/plain": [
       "recommendations finished on 142000/178122 queries. users per second: 92340.7"
      ]
     },
     "metadata": {},
     "output_type": "display_data"
    },
    {
     "data": {
      "text/html": [
       "<pre>recommendations finished on 143000/178122 queries. users per second: 91449.7</pre>"
      ],
      "text/plain": [
       "recommendations finished on 143000/178122 queries. users per second: 91449.7"
      ]
     },
     "metadata": {},
     "output_type": "display_data"
    },
    {
     "data": {
      "text/html": [
       "<pre>recommendations finished on 144000/178122 queries. users per second: 90422.2</pre>"
      ],
      "text/plain": [
       "recommendations finished on 144000/178122 queries. users per second: 90422.2"
      ]
     },
     "metadata": {},
     "output_type": "display_data"
    },
    {
     "data": {
      "text/html": [
       "<pre>recommendations finished on 145000/178122 queries. users per second: 90599.7</pre>"
      ],
      "text/plain": [
       "recommendations finished on 145000/178122 queries. users per second: 90599.7"
      ]
     },
     "metadata": {},
     "output_type": "display_data"
    },
    {
     "data": {
      "text/html": [
       "<pre>recommendations finished on 146000/178122 queries. users per second: 91010.8</pre>"
      ],
      "text/plain": [
       "recommendations finished on 146000/178122 queries. users per second: 91010.8"
      ]
     },
     "metadata": {},
     "output_type": "display_data"
    },
    {
     "data": {
      "text/html": [
       "<pre>recommendations finished on 147000/178122 queries. users per second: 91236.7</pre>"
      ],
      "text/plain": [
       "recommendations finished on 147000/178122 queries. users per second: 91236.7"
      ]
     },
     "metadata": {},
     "output_type": "display_data"
    },
    {
     "data": {
      "text/html": [
       "<pre>recommendations finished on 148000/178122 queries. users per second: 91250.6</pre>"
      ],
      "text/plain": [
       "recommendations finished on 148000/178122 queries. users per second: 91250.6"
      ]
     },
     "metadata": {},
     "output_type": "display_data"
    },
    {
     "data": {
      "text/html": [
       "<pre>recommendations finished on 149000/178122 queries. users per second: 91273.1</pre>"
      ],
      "text/plain": [
       "recommendations finished on 149000/178122 queries. users per second: 91273.1"
      ]
     },
     "metadata": {},
     "output_type": "display_data"
    },
    {
     "data": {
      "text/html": [
       "<pre>recommendations finished on 150000/178122 queries. users per second: 89970.6</pre>"
      ],
      "text/plain": [
       "recommendations finished on 150000/178122 queries. users per second: 89970.6"
      ]
     },
     "metadata": {},
     "output_type": "display_data"
    },
    {
     "data": {
      "text/html": [
       "<pre>recommendations finished on 151000/178122 queries. users per second: 90338</pre>"
      ],
      "text/plain": [
       "recommendations finished on 151000/178122 queries. users per second: 90338"
      ]
     },
     "metadata": {},
     "output_type": "display_data"
    },
    {
     "data": {
      "text/html": [
       "<pre>recommendations finished on 152000/178122 queries. users per second: 90727</pre>"
      ],
      "text/plain": [
       "recommendations finished on 152000/178122 queries. users per second: 90727"
      ]
     },
     "metadata": {},
     "output_type": "display_data"
    },
    {
     "data": {
      "text/html": [
       "<pre>recommendations finished on 153000/178122 queries. users per second: 90973.6</pre>"
      ],
      "text/plain": [
       "recommendations finished on 153000/178122 queries. users per second: 90973.6"
      ]
     },
     "metadata": {},
     "output_type": "display_data"
    },
    {
     "data": {
      "text/html": [
       "<pre>recommendations finished on 154000/178122 queries. users per second: 91361.2</pre>"
      ],
      "text/plain": [
       "recommendations finished on 154000/178122 queries. users per second: 91361.2"
      ]
     },
     "metadata": {},
     "output_type": "display_data"
    },
    {
     "data": {
      "text/html": [
       "<pre>recommendations finished on 155000/178122 queries. users per second: 91751.9</pre>"
      ],
      "text/plain": [
       "recommendations finished on 155000/178122 queries. users per second: 91751.9"
      ]
     },
     "metadata": {},
     "output_type": "display_data"
    },
    {
     "data": {
      "text/html": [
       "<pre>recommendations finished on 156000/178122 queries. users per second: 92136.8</pre>"
      ],
      "text/plain": [
       "recommendations finished on 156000/178122 queries. users per second: 92136.8"
      ]
     },
     "metadata": {},
     "output_type": "display_data"
    },
    {
     "data": {
      "text/html": [
       "<pre>recommendations finished on 157000/178122 queries. users per second: 92351.3</pre>"
      ],
      "text/plain": [
       "recommendations finished on 157000/178122 queries. users per second: 92351.3"
      ]
     },
     "metadata": {},
     "output_type": "display_data"
    },
    {
     "data": {
      "text/html": [
       "<pre>recommendations finished on 158000/178122 queries. users per second: 92715.4</pre>"
      ],
      "text/plain": [
       "recommendations finished on 158000/178122 queries. users per second: 92715.4"
      ]
     },
     "metadata": {},
     "output_type": "display_data"
    },
    {
     "data": {
      "text/html": [
       "<pre>recommendations finished on 159000/178122 queries. users per second: 93093.7</pre>"
      ],
      "text/plain": [
       "recommendations finished on 159000/178122 queries. users per second: 93093.7"
      ]
     },
     "metadata": {},
     "output_type": "display_data"
    },
    {
     "data": {
      "text/html": [
       "<pre>recommendations finished on 160000/178122 queries. users per second: 93424.2</pre>"
      ],
      "text/plain": [
       "recommendations finished on 160000/178122 queries. users per second: 93424.2"
      ]
     },
     "metadata": {},
     "output_type": "display_data"
    },
    {
     "data": {
      "text/html": [
       "<pre>recommendations finished on 161000/178122 queries. users per second: 93738</pre>"
      ],
      "text/plain": [
       "recommendations finished on 161000/178122 queries. users per second: 93738"
      ]
     },
     "metadata": {},
     "output_type": "display_data"
    },
    {
     "data": {
      "text/html": [
       "<pre>recommendations finished on 162000/178122 queries. users per second: 94008.6</pre>"
      ],
      "text/plain": [
       "recommendations finished on 162000/178122 queries. users per second: 94008.6"
      ]
     },
     "metadata": {},
     "output_type": "display_data"
    },
    {
     "data": {
      "text/html": [
       "<pre>recommendations finished on 163000/178122 queries. users per second: 94245.5</pre>"
      ],
      "text/plain": [
       "recommendations finished on 163000/178122 queries. users per second: 94245.5"
      ]
     },
     "metadata": {},
     "output_type": "display_data"
    },
    {
     "data": {
      "text/html": [
       "<pre>recommendations finished on 164000/178122 queries. users per second: 94314.9</pre>"
      ],
      "text/plain": [
       "recommendations finished on 164000/178122 queries. users per second: 94314.9"
      ]
     },
     "metadata": {},
     "output_type": "display_data"
    },
    {
     "data": {
      "text/html": [
       "<pre>recommendations finished on 165000/178122 queries. users per second: 94589.4</pre>"
      ],
      "text/plain": [
       "recommendations finished on 165000/178122 queries. users per second: 94589.4"
      ]
     },
     "metadata": {},
     "output_type": "display_data"
    },
    {
     "data": {
      "text/html": [
       "<pre>recommendations finished on 166000/178122 queries. users per second: 94552.5</pre>"
      ],
      "text/plain": [
       "recommendations finished on 166000/178122 queries. users per second: 94552.5"
      ]
     },
     "metadata": {},
     "output_type": "display_data"
    },
    {
     "data": {
      "text/html": [
       "<pre>recommendations finished on 167000/178122 queries. users per second: 94538.4</pre>"
      ],
      "text/plain": [
       "recommendations finished on 167000/178122 queries. users per second: 94538.4"
      ]
     },
     "metadata": {},
     "output_type": "display_data"
    },
    {
     "data": {
      "text/html": [
       "<pre>recommendations finished on 168000/178122 queries. users per second: 94762.9</pre>"
      ],
      "text/plain": [
       "recommendations finished on 168000/178122 queries. users per second: 94762.9"
      ]
     },
     "metadata": {},
     "output_type": "display_data"
    },
    {
     "data": {
      "text/html": [
       "<pre>recommendations finished on 169000/178122 queries. users per second: 95024.2</pre>"
      ],
      "text/plain": [
       "recommendations finished on 169000/178122 queries. users per second: 95024.2"
      ]
     },
     "metadata": {},
     "output_type": "display_data"
    },
    {
     "data": {
      "text/html": [
       "<pre>recommendations finished on 170000/178122 queries. users per second: 95150.3</pre>"
      ],
      "text/plain": [
       "recommendations finished on 170000/178122 queries. users per second: 95150.3"
      ]
     },
     "metadata": {},
     "output_type": "display_data"
    },
    {
     "data": {
      "text/html": [
       "<pre>recommendations finished on 171000/178122 queries. users per second: 94979</pre>"
      ],
      "text/plain": [
       "recommendations finished on 171000/178122 queries. users per second: 94979"
      ]
     },
     "metadata": {},
     "output_type": "display_data"
    },
    {
     "data": {
      "text/html": [
       "<pre>recommendations finished on 172000/178122 queries. users per second: 94465.7</pre>"
      ],
      "text/plain": [
       "recommendations finished on 172000/178122 queries. users per second: 94465.7"
      ]
     },
     "metadata": {},
     "output_type": "display_data"
    },
    {
     "data": {
      "text/html": [
       "<pre>recommendations finished on 173000/178122 queries. users per second: 94258.9</pre>"
      ],
      "text/plain": [
       "recommendations finished on 173000/178122 queries. users per second: 94258.9"
      ]
     },
     "metadata": {},
     "output_type": "display_data"
    },
    {
     "data": {
      "text/html": [
       "<pre>recommendations finished on 174000/178122 queries. users per second: 92838.1</pre>"
      ],
      "text/plain": [
       "recommendations finished on 174000/178122 queries. users per second: 92838.1"
      ]
     },
     "metadata": {},
     "output_type": "display_data"
    },
    {
     "data": {
      "text/html": [
       "<pre>recommendations finished on 175000/178122 queries. users per second: 92303.8</pre>"
      ],
      "text/plain": [
       "recommendations finished on 175000/178122 queries. users per second: 92303.8"
      ]
     },
     "metadata": {},
     "output_type": "display_data"
    },
    {
     "data": {
      "text/html": [
       "<pre>recommendations finished on 176000/178122 queries. users per second: 92319.2</pre>"
      ],
      "text/plain": [
       "recommendations finished on 176000/178122 queries. users per second: 92319.2"
      ]
     },
     "metadata": {},
     "output_type": "display_data"
    },
    {
     "data": {
      "text/html": [
       "<pre>recommendations finished on 177000/178122 queries. users per second: 92192.7</pre>"
      ],
      "text/plain": [
       "recommendations finished on 177000/178122 queries. users per second: 92192.7"
      ]
     },
     "metadata": {},
     "output_type": "display_data"
    },
    {
     "data": {
      "text/html": [
       "<pre>recommendations finished on 178000/178122 queries. users per second: 90878.7</pre>"
      ],
      "text/plain": [
       "recommendations finished on 178000/178122 queries. users per second: 90878.7"
      ]
     },
     "metadata": {},
     "output_type": "display_data"
    }
   ],
   "source": [
    "# Using scaled number of seconds\n",
    "\n",
    "name = 'popularity'\n",
    "target = 'Scaled_SecNumF'\n",
    "pop_norm = model(train_data_norm, name, user_id, item_id, target, users_to_recommend, n_rec, n_display)"
   ]
  },
  {
   "cell_type": "markdown",
   "metadata": {
    "deletable": true,
    "editable": true
   },
   "source": [
    "## 7. Collaborative Filtering Model"
   ]
  },
  {
   "cell_type": "markdown",
   "metadata": {
    "deletable": true,
    "editable": true
   },
   "source": [
    "#### 7.1. Cosine similarity"
   ]
  },
  {
   "cell_type": "code",
   "execution_count": 23,
   "metadata": {
    "collapsed": false,
    "deletable": true,
    "editable": true
   },
   "outputs": [
    {
     "data": {
      "text/html": [
       "<pre>Preparing data set.</pre>"
      ],
      "text/plain": [
       "Preparing data set."
      ]
     },
     "metadata": {},
     "output_type": "display_data"
    },
    {
     "data": {
      "text/html": [
       "<pre>    Data has 142497 observations with 1436 users and 235 items.</pre>"
      ],
      "text/plain": [
       "    Data has 142497 observations with 1436 users and 235 items."
      ]
     },
     "metadata": {},
     "output_type": "display_data"
    },
    {
     "data": {
      "text/html": [
       "<pre>    Data prepared in: 0.27094s</pre>"
      ],
      "text/plain": [
       "    Data prepared in: 0.27094s"
      ]
     },
     "metadata": {},
     "output_type": "display_data"
    },
    {
     "data": {
      "text/html": [
       "<pre>Training model from provided data.</pre>"
      ],
      "text/plain": [
       "Training model from provided data."
      ]
     },
     "metadata": {},
     "output_type": "display_data"
    },
    {
     "data": {
      "text/html": [
       "<pre>Gathering per-item and per-user statistics.</pre>"
      ],
      "text/plain": [
       "Gathering per-item and per-user statistics."
      ]
     },
     "metadata": {},
     "output_type": "display_data"
    },
    {
     "data": {
      "text/html": [
       "<pre>+--------------------------------+------------+</pre>"
      ],
      "text/plain": [
       "+--------------------------------+------------+"
      ]
     },
     "metadata": {},
     "output_type": "display_data"
    },
    {
     "data": {
      "text/html": [
       "<pre>| Elapsed Time (Item Statistics) | % Complete |</pre>"
      ],
      "text/plain": [
       "| Elapsed Time (Item Statistics) | % Complete |"
      ]
     },
     "metadata": {},
     "output_type": "display_data"
    },
    {
     "data": {
      "text/html": [
       "<pre>+--------------------------------+------------+</pre>"
      ],
      "text/plain": [
       "+--------------------------------+------------+"
      ]
     },
     "metadata": {},
     "output_type": "display_data"
    },
    {
     "data": {
      "text/html": [
       "<pre>| 11.635ms                       | 69.5       |</pre>"
      ],
      "text/plain": [
       "| 11.635ms                       | 69.5       |"
      ]
     },
     "metadata": {},
     "output_type": "display_data"
    },
    {
     "data": {
      "text/html": [
       "<pre>| 13.75ms                        | 100        |</pre>"
      ],
      "text/plain": [
       "| 13.75ms                        | 100        |"
      ]
     },
     "metadata": {},
     "output_type": "display_data"
    },
    {
     "data": {
      "text/html": [
       "<pre>+--------------------------------+------------+</pre>"
      ],
      "text/plain": [
       "+--------------------------------+------------+"
      ]
     },
     "metadata": {},
     "output_type": "display_data"
    },
    {
     "data": {
      "text/html": [
       "<pre>Setting up lookup tables.</pre>"
      ],
      "text/plain": [
       "Setting up lookup tables."
      ]
     },
     "metadata": {},
     "output_type": "display_data"
    },
    {
     "data": {
      "text/html": [
       "<pre>Processing data in one pass using dense lookup tables.</pre>"
      ],
      "text/plain": [
       "Processing data in one pass using dense lookup tables."
      ]
     },
     "metadata": {},
     "output_type": "display_data"
    },
    {
     "data": {
      "text/html": [
       "<pre>+-------------------------------------+------------------+-----------------+</pre>"
      ],
      "text/plain": [
       "+-------------------------------------+------------------+-----------------+"
      ]
     },
     "metadata": {},
     "output_type": "display_data"
    },
    {
     "data": {
      "text/html": [
       "<pre>| Elapsed Time (Constructing Lookups) | Total % Complete | Items Processed |</pre>"
      ],
      "text/plain": [
       "| Elapsed Time (Constructing Lookups) | Total % Complete | Items Processed |"
      ]
     },
     "metadata": {},
     "output_type": "display_data"
    },
    {
     "data": {
      "text/html": [
       "<pre>+-------------------------------------+------------------+-----------------+</pre>"
      ],
      "text/plain": [
       "+-------------------------------------+------------------+-----------------+"
      ]
     },
     "metadata": {},
     "output_type": "display_data"
    },
    {
     "data": {
      "text/html": [
       "<pre>| 19.406ms                            | 0                | 0               |</pre>"
      ],
      "text/plain": [
       "| 19.406ms                            | 0                | 0               |"
      ]
     },
     "metadata": {},
     "output_type": "display_data"
    },
    {
     "data": {
      "text/html": [
       "<pre>| 132.937ms                           | 100              | 235             |</pre>"
      ],
      "text/plain": [
       "| 132.937ms                           | 100              | 235             |"
      ]
     },
     "metadata": {},
     "output_type": "display_data"
    },
    {
     "data": {
      "text/html": [
       "<pre>+-------------------------------------+------------------+-----------------+</pre>"
      ],
      "text/plain": [
       "+-------------------------------------+------------------+-----------------+"
      ]
     },
     "metadata": {},
     "output_type": "display_data"
    },
    {
     "data": {
      "text/html": [
       "<pre>Finalizing lookup tables.</pre>"
      ],
      "text/plain": [
       "Finalizing lookup tables."
      ]
     },
     "metadata": {},
     "output_type": "display_data"
    },
    {
     "data": {
      "text/html": [
       "<pre>Generating candidate set for working with new users.</pre>"
      ],
      "text/plain": [
       "Generating candidate set for working with new users."
      ]
     },
     "metadata": {},
     "output_type": "display_data"
    },
    {
     "data": {
      "text/html": [
       "<pre>Finished training in 1.15863s</pre>"
      ],
      "text/plain": [
       "Finished training in 1.15863s"
      ]
     },
     "metadata": {},
     "output_type": "display_data"
    },
    {
     "data": {
      "text/html": [
       "<pre>recommendations finished on 1000/178122 queries. users per second: 20638.1</pre>"
      ],
      "text/plain": [
       "recommendations finished on 1000/178122 queries. users per second: 20638.1"
      ]
     },
     "metadata": {},
     "output_type": "display_data"
    },
    {
     "data": {
      "text/html": [
       "<pre>recommendations finished on 2000/178122 queries. users per second: 21159.1</pre>"
      ],
      "text/plain": [
       "recommendations finished on 2000/178122 queries. users per second: 21159.1"
      ]
     },
     "metadata": {},
     "output_type": "display_data"
    },
    {
     "data": {
      "text/html": [
       "<pre>recommendations finished on 3000/178122 queries. users per second: 22089.4</pre>"
      ],
      "text/plain": [
       "recommendations finished on 3000/178122 queries. users per second: 22089.4"
      ]
     },
     "metadata": {},
     "output_type": "display_data"
    },
    {
     "data": {
      "text/html": [
       "<pre>recommendations finished on 4000/178122 queries. users per second: 22560.2</pre>"
      ],
      "text/plain": [
       "recommendations finished on 4000/178122 queries. users per second: 22560.2"
      ]
     },
     "metadata": {},
     "output_type": "display_data"
    },
    {
     "data": {
      "text/html": [
       "<pre>recommendations finished on 5000/178122 queries. users per second: 22018.7</pre>"
      ],
      "text/plain": [
       "recommendations finished on 5000/178122 queries. users per second: 22018.7"
      ]
     },
     "metadata": {},
     "output_type": "display_data"
    },
    {
     "data": {
      "text/html": [
       "<pre>recommendations finished on 6000/178122 queries. users per second: 21929.4</pre>"
      ],
      "text/plain": [
       "recommendations finished on 6000/178122 queries. users per second: 21929.4"
      ]
     },
     "metadata": {},
     "output_type": "display_data"
    },
    {
     "data": {
      "text/html": [
       "<pre>recommendations finished on 7000/178122 queries. users per second: 21938.1</pre>"
      ],
      "text/plain": [
       "recommendations finished on 7000/178122 queries. users per second: 21938.1"
      ]
     },
     "metadata": {},
     "output_type": "display_data"
    },
    {
     "data": {
      "text/html": [
       "<pre>recommendations finished on 8000/178122 queries. users per second: 22140.5</pre>"
      ],
      "text/plain": [
       "recommendations finished on 8000/178122 queries. users per second: 22140.5"
      ]
     },
     "metadata": {},
     "output_type": "display_data"
    },
    {
     "data": {
      "text/html": [
       "<pre>recommendations finished on 9000/178122 queries. users per second: 22021.7</pre>"
      ],
      "text/plain": [
       "recommendations finished on 9000/178122 queries. users per second: 22021.7"
      ]
     },
     "metadata": {},
     "output_type": "display_data"
    },
    {
     "data": {
      "text/html": [
       "<pre>recommendations finished on 10000/178122 queries. users per second: 21950.5</pre>"
      ],
      "text/plain": [
       "recommendations finished on 10000/178122 queries. users per second: 21950.5"
      ]
     },
     "metadata": {},
     "output_type": "display_data"
    },
    {
     "data": {
      "text/html": [
       "<pre>recommendations finished on 11000/178122 queries. users per second: 21680.8</pre>"
      ],
      "text/plain": [
       "recommendations finished on 11000/178122 queries. users per second: 21680.8"
      ]
     },
     "metadata": {},
     "output_type": "display_data"
    },
    {
     "data": {
      "text/html": [
       "<pre>recommendations finished on 12000/178122 queries. users per second: 21822.6</pre>"
      ],
      "text/plain": [
       "recommendations finished on 12000/178122 queries. users per second: 21822.6"
      ]
     },
     "metadata": {},
     "output_type": "display_data"
    },
    {
     "data": {
      "text/html": [
       "<pre>recommendations finished on 13000/178122 queries. users per second: 21790.7</pre>"
      ],
      "text/plain": [
       "recommendations finished on 13000/178122 queries. users per second: 21790.7"
      ]
     },
     "metadata": {},
     "output_type": "display_data"
    },
    {
     "data": {
      "text/html": [
       "<pre>recommendations finished on 14000/178122 queries. users per second: 21923.4</pre>"
      ],
      "text/plain": [
       "recommendations finished on 14000/178122 queries. users per second: 21923.4"
      ]
     },
     "metadata": {},
     "output_type": "display_data"
    },
    {
     "data": {
      "text/html": [
       "<pre>recommendations finished on 15000/178122 queries. users per second: 21977.6</pre>"
      ],
      "text/plain": [
       "recommendations finished on 15000/178122 queries. users per second: 21977.6"
      ]
     },
     "metadata": {},
     "output_type": "display_data"
    },
    {
     "data": {
      "text/html": [
       "<pre>recommendations finished on 16000/178122 queries. users per second: 21891.6</pre>"
      ],
      "text/plain": [
       "recommendations finished on 16000/178122 queries. users per second: 21891.6"
      ]
     },
     "metadata": {},
     "output_type": "display_data"
    },
    {
     "data": {
      "text/html": [
       "<pre>recommendations finished on 17000/178122 queries. users per second: 21903.9</pre>"
      ],
      "text/plain": [
       "recommendations finished on 17000/178122 queries. users per second: 21903.9"
      ]
     },
     "metadata": {},
     "output_type": "display_data"
    },
    {
     "data": {
      "text/html": [
       "<pre>recommendations finished on 18000/178122 queries. users per second: 21892.1</pre>"
      ],
      "text/plain": [
       "recommendations finished on 18000/178122 queries. users per second: 21892.1"
      ]
     },
     "metadata": {},
     "output_type": "display_data"
    },
    {
     "data": {
      "text/html": [
       "<pre>recommendations finished on 19000/178122 queries. users per second: 21937</pre>"
      ],
      "text/plain": [
       "recommendations finished on 19000/178122 queries. users per second: 21937"
      ]
     },
     "metadata": {},
     "output_type": "display_data"
    },
    {
     "data": {
      "text/html": [
       "<pre>recommendations finished on 20000/178122 queries. users per second: 21966.6</pre>"
      ],
      "text/plain": [
       "recommendations finished on 20000/178122 queries. users per second: 21966.6"
      ]
     },
     "metadata": {},
     "output_type": "display_data"
    },
    {
     "data": {
      "text/html": [
       "<pre>recommendations finished on 21000/178122 queries. users per second: 21969.1</pre>"
      ],
      "text/plain": [
       "recommendations finished on 21000/178122 queries. users per second: 21969.1"
      ]
     },
     "metadata": {},
     "output_type": "display_data"
    },
    {
     "data": {
      "text/html": [
       "<pre>recommendations finished on 22000/178122 queries. users per second: 21860.9</pre>"
      ],
      "text/plain": [
       "recommendations finished on 22000/178122 queries. users per second: 21860.9"
      ]
     },
     "metadata": {},
     "output_type": "display_data"
    },
    {
     "data": {
      "text/html": [
       "<pre>recommendations finished on 23000/178122 queries. users per second: 21751.2</pre>"
      ],
      "text/plain": [
       "recommendations finished on 23000/178122 queries. users per second: 21751.2"
      ]
     },
     "metadata": {},
     "output_type": "display_data"
    },
    {
     "data": {
      "text/html": [
       "<pre>recommendations finished on 24000/178122 queries. users per second: 21805.8</pre>"
      ],
      "text/plain": [
       "recommendations finished on 24000/178122 queries. users per second: 21805.8"
      ]
     },
     "metadata": {},
     "output_type": "display_data"
    },
    {
     "data": {
      "text/html": [
       "<pre>recommendations finished on 25000/178122 queries. users per second: 21750.1</pre>"
      ],
      "text/plain": [
       "recommendations finished on 25000/178122 queries. users per second: 21750.1"
      ]
     },
     "metadata": {},
     "output_type": "display_data"
    },
    {
     "data": {
      "text/html": [
       "<pre>recommendations finished on 26000/178122 queries. users per second: 21817.6</pre>"
      ],
      "text/plain": [
       "recommendations finished on 26000/178122 queries. users per second: 21817.6"
      ]
     },
     "metadata": {},
     "output_type": "display_data"
    },
    {
     "data": {
      "text/html": [
       "<pre>recommendations finished on 27000/178122 queries. users per second: 21767.8</pre>"
      ],
      "text/plain": [
       "recommendations finished on 27000/178122 queries. users per second: 21767.8"
      ]
     },
     "metadata": {},
     "output_type": "display_data"
    },
    {
     "data": {
      "text/html": [
       "<pre>recommendations finished on 28000/178122 queries. users per second: 21742.5</pre>"
      ],
      "text/plain": [
       "recommendations finished on 28000/178122 queries. users per second: 21742.5"
      ]
     },
     "metadata": {},
     "output_type": "display_data"
    },
    {
     "data": {
      "text/html": [
       "<pre>recommendations finished on 29000/178122 queries. users per second: 21765.3</pre>"
      ],
      "text/plain": [
       "recommendations finished on 29000/178122 queries. users per second: 21765.3"
      ]
     },
     "metadata": {},
     "output_type": "display_data"
    },
    {
     "data": {
      "text/html": [
       "<pre>recommendations finished on 30000/178122 queries. users per second: 21738.1</pre>"
      ],
      "text/plain": [
       "recommendations finished on 30000/178122 queries. users per second: 21738.1"
      ]
     },
     "metadata": {},
     "output_type": "display_data"
    },
    {
     "data": {
      "text/html": [
       "<pre>recommendations finished on 31000/178122 queries. users per second: 21821</pre>"
      ],
      "text/plain": [
       "recommendations finished on 31000/178122 queries. users per second: 21821"
      ]
     },
     "metadata": {},
     "output_type": "display_data"
    },
    {
     "data": {
      "text/html": [
       "<pre>recommendations finished on 32000/178122 queries. users per second: 21770.4</pre>"
      ],
      "text/plain": [
       "recommendations finished on 32000/178122 queries. users per second: 21770.4"
      ]
     },
     "metadata": {},
     "output_type": "display_data"
    },
    {
     "data": {
      "text/html": [
       "<pre>recommendations finished on 33000/178122 queries. users per second: 21855.7</pre>"
      ],
      "text/plain": [
       "recommendations finished on 33000/178122 queries. users per second: 21855.7"
      ]
     },
     "metadata": {},
     "output_type": "display_data"
    },
    {
     "data": {
      "text/html": [
       "<pre>recommendations finished on 34000/178122 queries. users per second: 21870.9</pre>"
      ],
      "text/plain": [
       "recommendations finished on 34000/178122 queries. users per second: 21870.9"
      ]
     },
     "metadata": {},
     "output_type": "display_data"
    },
    {
     "data": {
      "text/html": [
       "<pre>recommendations finished on 35000/178122 queries. users per second: 21847.9</pre>"
      ],
      "text/plain": [
       "recommendations finished on 35000/178122 queries. users per second: 21847.9"
      ]
     },
     "metadata": {},
     "output_type": "display_data"
    },
    {
     "data": {
      "text/html": [
       "<pre>recommendations finished on 36000/178122 queries. users per second: 21747.2</pre>"
      ],
      "text/plain": [
       "recommendations finished on 36000/178122 queries. users per second: 21747.2"
      ]
     },
     "metadata": {},
     "output_type": "display_data"
    },
    {
     "data": {
      "text/html": [
       "<pre>recommendations finished on 37000/178122 queries. users per second: 21749.4</pre>"
      ],
      "text/plain": [
       "recommendations finished on 37000/178122 queries. users per second: 21749.4"
      ]
     },
     "metadata": {},
     "output_type": "display_data"
    },
    {
     "data": {
      "text/html": [
       "<pre>recommendations finished on 38000/178122 queries. users per second: 21697.2</pre>"
      ],
      "text/plain": [
       "recommendations finished on 38000/178122 queries. users per second: 21697.2"
      ]
     },
     "metadata": {},
     "output_type": "display_data"
    },
    {
     "data": {
      "text/html": [
       "<pre>recommendations finished on 39000/178122 queries. users per second: 21706.4</pre>"
      ],
      "text/plain": [
       "recommendations finished on 39000/178122 queries. users per second: 21706.4"
      ]
     },
     "metadata": {},
     "output_type": "display_data"
    },
    {
     "data": {
      "text/html": [
       "<pre>recommendations finished on 40000/178122 queries. users per second: 21766.5</pre>"
      ],
      "text/plain": [
       "recommendations finished on 40000/178122 queries. users per second: 21766.5"
      ]
     },
     "metadata": {},
     "output_type": "display_data"
    },
    {
     "data": {
      "text/html": [
       "<pre>recommendations finished on 41000/178122 queries. users per second: 21790.3</pre>"
      ],
      "text/plain": [
       "recommendations finished on 41000/178122 queries. users per second: 21790.3"
      ]
     },
     "metadata": {},
     "output_type": "display_data"
    },
    {
     "data": {
      "text/html": [
       "<pre>recommendations finished on 42000/178122 queries. users per second: 21796</pre>"
      ],
      "text/plain": [
       "recommendations finished on 42000/178122 queries. users per second: 21796"
      ]
     },
     "metadata": {},
     "output_type": "display_data"
    },
    {
     "data": {
      "text/html": [
       "<pre>recommendations finished on 43000/178122 queries. users per second: 21742</pre>"
      ],
      "text/plain": [
       "recommendations finished on 43000/178122 queries. users per second: 21742"
      ]
     },
     "metadata": {},
     "output_type": "display_data"
    },
    {
     "data": {
      "text/html": [
       "<pre>recommendations finished on 44000/178122 queries. users per second: 21740.7</pre>"
      ],
      "text/plain": [
       "recommendations finished on 44000/178122 queries. users per second: 21740.7"
      ]
     },
     "metadata": {},
     "output_type": "display_data"
    },
    {
     "data": {
      "text/html": [
       "<pre>recommendations finished on 45000/178122 queries. users per second: 21797.7</pre>"
      ],
      "text/plain": [
       "recommendations finished on 45000/178122 queries. users per second: 21797.7"
      ]
     },
     "metadata": {},
     "output_type": "display_data"
    },
    {
     "data": {
      "text/html": [
       "<pre>recommendations finished on 46000/178122 queries. users per second: 21818.8</pre>"
      ],
      "text/plain": [
       "recommendations finished on 46000/178122 queries. users per second: 21818.8"
      ]
     },
     "metadata": {},
     "output_type": "display_data"
    },
    {
     "data": {
      "text/html": [
       "<pre>recommendations finished on 47000/178122 queries. users per second: 21795.2</pre>"
      ],
      "text/plain": [
       "recommendations finished on 47000/178122 queries. users per second: 21795.2"
      ]
     },
     "metadata": {},
     "output_type": "display_data"
    },
    {
     "data": {
      "text/html": [
       "<pre>recommendations finished on 48000/178122 queries. users per second: 21555.1</pre>"
      ],
      "text/plain": [
       "recommendations finished on 48000/178122 queries. users per second: 21555.1"
      ]
     },
     "metadata": {},
     "output_type": "display_data"
    },
    {
     "data": {
      "text/html": [
       "<pre>recommendations finished on 49000/178122 queries. users per second: 21584.3</pre>"
      ],
      "text/plain": [
       "recommendations finished on 49000/178122 queries. users per second: 21584.3"
      ]
     },
     "metadata": {},
     "output_type": "display_data"
    },
    {
     "data": {
      "text/html": [
       "<pre>recommendations finished on 50000/178122 queries. users per second: 21555.2</pre>"
      ],
      "text/plain": [
       "recommendations finished on 50000/178122 queries. users per second: 21555.2"
      ]
     },
     "metadata": {},
     "output_type": "display_data"
    },
    {
     "data": {
      "text/html": [
       "<pre>recommendations finished on 51000/178122 queries. users per second: 21498.7</pre>"
      ],
      "text/plain": [
       "recommendations finished on 51000/178122 queries. users per second: 21498.7"
      ]
     },
     "metadata": {},
     "output_type": "display_data"
    },
    {
     "data": {
      "text/html": [
       "<pre>recommendations finished on 52000/178122 queries. users per second: 21505.1</pre>"
      ],
      "text/plain": [
       "recommendations finished on 52000/178122 queries. users per second: 21505.1"
      ]
     },
     "metadata": {},
     "output_type": "display_data"
    },
    {
     "data": {
      "text/html": [
       "<pre>recommendations finished on 53000/178122 queries. users per second: 21166.7</pre>"
      ],
      "text/plain": [
       "recommendations finished on 53000/178122 queries. users per second: 21166.7"
      ]
     },
     "metadata": {},
     "output_type": "display_data"
    },
    {
     "data": {
      "text/html": [
       "<pre>recommendations finished on 54000/178122 queries. users per second: 21120.7</pre>"
      ],
      "text/plain": [
       "recommendations finished on 54000/178122 queries. users per second: 21120.7"
      ]
     },
     "metadata": {},
     "output_type": "display_data"
    },
    {
     "data": {
      "text/html": [
       "<pre>recommendations finished on 55000/178122 queries. users per second: 21147.9</pre>"
      ],
      "text/plain": [
       "recommendations finished on 55000/178122 queries. users per second: 21147.9"
      ]
     },
     "metadata": {},
     "output_type": "display_data"
    },
    {
     "data": {
      "text/html": [
       "<pre>recommendations finished on 56000/178122 queries. users per second: 21218.8</pre>"
      ],
      "text/plain": [
       "recommendations finished on 56000/178122 queries. users per second: 21218.8"
      ]
     },
     "metadata": {},
     "output_type": "display_data"
    },
    {
     "data": {
      "text/html": [
       "<pre>recommendations finished on 57000/178122 queries. users per second: 21247</pre>"
      ],
      "text/plain": [
       "recommendations finished on 57000/178122 queries. users per second: 21247"
      ]
     },
     "metadata": {},
     "output_type": "display_data"
    },
    {
     "data": {
      "text/html": [
       "<pre>recommendations finished on 58000/178122 queries. users per second: 21305.7</pre>"
      ],
      "text/plain": [
       "recommendations finished on 58000/178122 queries. users per second: 21305.7"
      ]
     },
     "metadata": {},
     "output_type": "display_data"
    },
    {
     "data": {
      "text/html": [
       "<pre>recommendations finished on 59000/178122 queries. users per second: 21221.4</pre>"
      ],
      "text/plain": [
       "recommendations finished on 59000/178122 queries. users per second: 21221.4"
      ]
     },
     "metadata": {},
     "output_type": "display_data"
    },
    {
     "data": {
      "text/html": [
       "<pre>recommendations finished on 60000/178122 queries. users per second: 20973.7</pre>"
      ],
      "text/plain": [
       "recommendations finished on 60000/178122 queries. users per second: 20973.7"
      ]
     },
     "metadata": {},
     "output_type": "display_data"
    },
    {
     "data": {
      "text/html": [
       "<pre>recommendations finished on 61000/178122 queries. users per second: 20975.3</pre>"
      ],
      "text/plain": [
       "recommendations finished on 61000/178122 queries. users per second: 20975.3"
      ]
     },
     "metadata": {},
     "output_type": "display_data"
    },
    {
     "data": {
      "text/html": [
       "<pre>recommendations finished on 62000/178122 queries. users per second: 20961</pre>"
      ],
      "text/plain": [
       "recommendations finished on 62000/178122 queries. users per second: 20961"
      ]
     },
     "metadata": {},
     "output_type": "display_data"
    },
    {
     "data": {
      "text/html": [
       "<pre>recommendations finished on 63000/178122 queries. users per second: 20992.2</pre>"
      ],
      "text/plain": [
       "recommendations finished on 63000/178122 queries. users per second: 20992.2"
      ]
     },
     "metadata": {},
     "output_type": "display_data"
    },
    {
     "data": {
      "text/html": [
       "<pre>recommendations finished on 64000/178122 queries. users per second: 21052.5</pre>"
      ],
      "text/plain": [
       "recommendations finished on 64000/178122 queries. users per second: 21052.5"
      ]
     },
     "metadata": {},
     "output_type": "display_data"
    },
    {
     "data": {
      "text/html": [
       "<pre>recommendations finished on 65000/178122 queries. users per second: 21081.8</pre>"
      ],
      "text/plain": [
       "recommendations finished on 65000/178122 queries. users per second: 21081.8"
      ]
     },
     "metadata": {},
     "output_type": "display_data"
    },
    {
     "data": {
      "text/html": [
       "<pre>recommendations finished on 66000/178122 queries. users per second: 21084.3</pre>"
      ],
      "text/plain": [
       "recommendations finished on 66000/178122 queries. users per second: 21084.3"
      ]
     },
     "metadata": {},
     "output_type": "display_data"
    },
    {
     "data": {
      "text/html": [
       "<pre>recommendations finished on 67000/178122 queries. users per second: 21078.4</pre>"
      ],
      "text/plain": [
       "recommendations finished on 67000/178122 queries. users per second: 21078.4"
      ]
     },
     "metadata": {},
     "output_type": "display_data"
    },
    {
     "data": {
      "text/html": [
       "<pre>recommendations finished on 68000/178122 queries. users per second: 21123.7</pre>"
      ],
      "text/plain": [
       "recommendations finished on 68000/178122 queries. users per second: 21123.7"
      ]
     },
     "metadata": {},
     "output_type": "display_data"
    },
    {
     "data": {
      "text/html": [
       "<pre>recommendations finished on 69000/178122 queries. users per second: 21135.9</pre>"
      ],
      "text/plain": [
       "recommendations finished on 69000/178122 queries. users per second: 21135.9"
      ]
     },
     "metadata": {},
     "output_type": "display_data"
    },
    {
     "data": {
      "text/html": [
       "<pre>recommendations finished on 70000/178122 queries. users per second: 21141.6</pre>"
      ],
      "text/plain": [
       "recommendations finished on 70000/178122 queries. users per second: 21141.6"
      ]
     },
     "metadata": {},
     "output_type": "display_data"
    },
    {
     "data": {
      "text/html": [
       "<pre>recommendations finished on 71000/178122 queries. users per second: 20780</pre>"
      ],
      "text/plain": [
       "recommendations finished on 71000/178122 queries. users per second: 20780"
      ]
     },
     "metadata": {},
     "output_type": "display_data"
    },
    {
     "data": {
      "text/html": [
       "<pre>recommendations finished on 72000/178122 queries. users per second: 20631.5</pre>"
      ],
      "text/plain": [
       "recommendations finished on 72000/178122 queries. users per second: 20631.5"
      ]
     },
     "metadata": {},
     "output_type": "display_data"
    },
    {
     "data": {
      "text/html": [
       "<pre>recommendations finished on 73000/178122 queries. users per second: 20452.2</pre>"
      ],
      "text/plain": [
       "recommendations finished on 73000/178122 queries. users per second: 20452.2"
      ]
     },
     "metadata": {},
     "output_type": "display_data"
    },
    {
     "data": {
      "text/html": [
       "<pre>recommendations finished on 74000/178122 queries. users per second: 20441.8</pre>"
      ],
      "text/plain": [
       "recommendations finished on 74000/178122 queries. users per second: 20441.8"
      ]
     },
     "metadata": {},
     "output_type": "display_data"
    },
    {
     "data": {
      "text/html": [
       "<pre>recommendations finished on 75000/178122 queries. users per second: 20375.7</pre>"
      ],
      "text/plain": [
       "recommendations finished on 75000/178122 queries. users per second: 20375.7"
      ]
     },
     "metadata": {},
     "output_type": "display_data"
    },
    {
     "data": {
      "text/html": [
       "<pre>recommendations finished on 76000/178122 queries. users per second: 20391.3</pre>"
      ],
      "text/plain": [
       "recommendations finished on 76000/178122 queries. users per second: 20391.3"
      ]
     },
     "metadata": {},
     "output_type": "display_data"
    },
    {
     "data": {
      "text/html": [
       "<pre>recommendations finished on 77000/178122 queries. users per second: 20411.8</pre>"
      ],
      "text/plain": [
       "recommendations finished on 77000/178122 queries. users per second: 20411.8"
      ]
     },
     "metadata": {},
     "output_type": "display_data"
    },
    {
     "data": {
      "text/html": [
       "<pre>recommendations finished on 78000/178122 queries. users per second: 20400.9</pre>"
      ],
      "text/plain": [
       "recommendations finished on 78000/178122 queries. users per second: 20400.9"
      ]
     },
     "metadata": {},
     "output_type": "display_data"
    },
    {
     "data": {
      "text/html": [
       "<pre>recommendations finished on 79000/178122 queries. users per second: 20441.8</pre>"
      ],
      "text/plain": [
       "recommendations finished on 79000/178122 queries. users per second: 20441.8"
      ]
     },
     "metadata": {},
     "output_type": "display_data"
    },
    {
     "data": {
      "text/html": [
       "<pre>recommendations finished on 80000/178122 queries. users per second: 20475.5</pre>"
      ],
      "text/plain": [
       "recommendations finished on 80000/178122 queries. users per second: 20475.5"
      ]
     },
     "metadata": {},
     "output_type": "display_data"
    },
    {
     "data": {
      "text/html": [
       "<pre>recommendations finished on 81000/178122 queries. users per second: 20524.4</pre>"
      ],
      "text/plain": [
       "recommendations finished on 81000/178122 queries. users per second: 20524.4"
      ]
     },
     "metadata": {},
     "output_type": "display_data"
    },
    {
     "data": {
      "text/html": [
       "<pre>recommendations finished on 82000/178122 queries. users per second: 20591</pre>"
      ],
      "text/plain": [
       "recommendations finished on 82000/178122 queries. users per second: 20591"
      ]
     },
     "metadata": {},
     "output_type": "display_data"
    },
    {
     "data": {
      "text/html": [
       "<pre>recommendations finished on 83000/178122 queries. users per second: 20605.8</pre>"
      ],
      "text/plain": [
       "recommendations finished on 83000/178122 queries. users per second: 20605.8"
      ]
     },
     "metadata": {},
     "output_type": "display_data"
    },
    {
     "data": {
      "text/html": [
       "<pre>recommendations finished on 84000/178122 queries. users per second: 20637</pre>"
      ],
      "text/plain": [
       "recommendations finished on 84000/178122 queries. users per second: 20637"
      ]
     },
     "metadata": {},
     "output_type": "display_data"
    },
    {
     "data": {
      "text/html": [
       "<pre>recommendations finished on 85000/178122 queries. users per second: 20647.3</pre>"
      ],
      "text/plain": [
       "recommendations finished on 85000/178122 queries. users per second: 20647.3"
      ]
     },
     "metadata": {},
     "output_type": "display_data"
    },
    {
     "data": {
      "text/html": [
       "<pre>recommendations finished on 86000/178122 queries. users per second: 20592.9</pre>"
      ],
      "text/plain": [
       "recommendations finished on 86000/178122 queries. users per second: 20592.9"
      ]
     },
     "metadata": {},
     "output_type": "display_data"
    },
    {
     "data": {
      "text/html": [
       "<pre>recommendations finished on 87000/178122 queries. users per second: 20645.6</pre>"
      ],
      "text/plain": [
       "recommendations finished on 87000/178122 queries. users per second: 20645.6"
      ]
     },
     "metadata": {},
     "output_type": "display_data"
    },
    {
     "data": {
      "text/html": [
       "<pre>recommendations finished on 88000/178122 queries. users per second: 20678.6</pre>"
      ],
      "text/plain": [
       "recommendations finished on 88000/178122 queries. users per second: 20678.6"
      ]
     },
     "metadata": {},
     "output_type": "display_data"
    },
    {
     "data": {
      "text/html": [
       "<pre>recommendations finished on 89000/178122 queries. users per second: 20709.5</pre>"
      ],
      "text/plain": [
       "recommendations finished on 89000/178122 queries. users per second: 20709.5"
      ]
     },
     "metadata": {},
     "output_type": "display_data"
    },
    {
     "data": {
      "text/html": [
       "<pre>recommendations finished on 90000/178122 queries. users per second: 20752.3</pre>"
      ],
      "text/plain": [
       "recommendations finished on 90000/178122 queries. users per second: 20752.3"
      ]
     },
     "metadata": {},
     "output_type": "display_data"
    },
    {
     "data": {
      "text/html": [
       "<pre>recommendations finished on 91000/178122 queries. users per second: 20764.9</pre>"
      ],
      "text/plain": [
       "recommendations finished on 91000/178122 queries. users per second: 20764.9"
      ]
     },
     "metadata": {},
     "output_type": "display_data"
    },
    {
     "data": {
      "text/html": [
       "<pre>recommendations finished on 92000/178122 queries. users per second: 20771.9</pre>"
      ],
      "text/plain": [
       "recommendations finished on 92000/178122 queries. users per second: 20771.9"
      ]
     },
     "metadata": {},
     "output_type": "display_data"
    },
    {
     "data": {
      "text/html": [
       "<pre>recommendations finished on 93000/178122 queries. users per second: 20774.6</pre>"
      ],
      "text/plain": [
       "recommendations finished on 93000/178122 queries. users per second: 20774.6"
      ]
     },
     "metadata": {},
     "output_type": "display_data"
    },
    {
     "data": {
      "text/html": [
       "<pre>recommendations finished on 94000/178122 queries. users per second: 20786.5</pre>"
      ],
      "text/plain": [
       "recommendations finished on 94000/178122 queries. users per second: 20786.5"
      ]
     },
     "metadata": {},
     "output_type": "display_data"
    },
    {
     "data": {
      "text/html": [
       "<pre>recommendations finished on 95000/178122 queries. users per second: 20810.6</pre>"
      ],
      "text/plain": [
       "recommendations finished on 95000/178122 queries. users per second: 20810.6"
      ]
     },
     "metadata": {},
     "output_type": "display_data"
    },
    {
     "data": {
      "text/html": [
       "<pre>recommendations finished on 96000/178122 queries. users per second: 20788.5</pre>"
      ],
      "text/plain": [
       "recommendations finished on 96000/178122 queries. users per second: 20788.5"
      ]
     },
     "metadata": {},
     "output_type": "display_data"
    },
    {
     "data": {
      "text/html": [
       "<pre>recommendations finished on 97000/178122 queries. users per second: 20849</pre>"
      ],
      "text/plain": [
       "recommendations finished on 97000/178122 queries. users per second: 20849"
      ]
     },
     "metadata": {},
     "output_type": "display_data"
    },
    {
     "data": {
      "text/html": [
       "<pre>recommendations finished on 98000/178122 queries. users per second: 20869.1</pre>"
      ],
      "text/plain": [
       "recommendations finished on 98000/178122 queries. users per second: 20869.1"
      ]
     },
     "metadata": {},
     "output_type": "display_data"
    },
    {
     "data": {
      "text/html": [
       "<pre>recommendations finished on 99000/178122 queries. users per second: 20911.4</pre>"
      ],
      "text/plain": [
       "recommendations finished on 99000/178122 queries. users per second: 20911.4"
      ]
     },
     "metadata": {},
     "output_type": "display_data"
    },
    {
     "data": {
      "text/html": [
       "<pre>recommendations finished on 100000/178122 queries. users per second: 20905.4</pre>"
      ],
      "text/plain": [
       "recommendations finished on 100000/178122 queries. users per second: 20905.4"
      ]
     },
     "metadata": {},
     "output_type": "display_data"
    },
    {
     "data": {
      "text/html": [
       "<pre>recommendations finished on 101000/178122 queries. users per second: 20931.7</pre>"
      ],
      "text/plain": [
       "recommendations finished on 101000/178122 queries. users per second: 20931.7"
      ]
     },
     "metadata": {},
     "output_type": "display_data"
    },
    {
     "data": {
      "text/html": [
       "<pre>recommendations finished on 102000/178122 queries. users per second: 20943.3</pre>"
      ],
      "text/plain": [
       "recommendations finished on 102000/178122 queries. users per second: 20943.3"
      ]
     },
     "metadata": {},
     "output_type": "display_data"
    },
    {
     "data": {
      "text/html": [
       "<pre>recommendations finished on 103000/178122 queries. users per second: 20842.4</pre>"
      ],
      "text/plain": [
       "recommendations finished on 103000/178122 queries. users per second: 20842.4"
      ]
     },
     "metadata": {},
     "output_type": "display_data"
    },
    {
     "data": {
      "text/html": [
       "<pre>recommendations finished on 104000/178122 queries. users per second: 20837.7</pre>"
      ],
      "text/plain": [
       "recommendations finished on 104000/178122 queries. users per second: 20837.7"
      ]
     },
     "metadata": {},
     "output_type": "display_data"
    },
    {
     "data": {
      "text/html": [
       "<pre>recommendations finished on 105000/178122 queries. users per second: 20841.4</pre>"
      ],
      "text/plain": [
       "recommendations finished on 105000/178122 queries. users per second: 20841.4"
      ]
     },
     "metadata": {},
     "output_type": "display_data"
    },
    {
     "data": {
      "text/html": [
       "<pre>recommendations finished on 106000/178122 queries. users per second: 20848</pre>"
      ],
      "text/plain": [
       "recommendations finished on 106000/178122 queries. users per second: 20848"
      ]
     },
     "metadata": {},
     "output_type": "display_data"
    },
    {
     "data": {
      "text/html": [
       "<pre>recommendations finished on 107000/178122 queries. users per second: 20860.6</pre>"
      ],
      "text/plain": [
       "recommendations finished on 107000/178122 queries. users per second: 20860.6"
      ]
     },
     "metadata": {},
     "output_type": "display_data"
    },
    {
     "data": {
      "text/html": [
       "<pre>recommendations finished on 108000/178122 queries. users per second: 20884.8</pre>"
      ],
      "text/plain": [
       "recommendations finished on 108000/178122 queries. users per second: 20884.8"
      ]
     },
     "metadata": {},
     "output_type": "display_data"
    },
    {
     "data": {
      "text/html": [
       "<pre>recommendations finished on 109000/178122 queries. users per second: 20882.3</pre>"
      ],
      "text/plain": [
       "recommendations finished on 109000/178122 queries. users per second: 20882.3"
      ]
     },
     "metadata": {},
     "output_type": "display_data"
    },
    {
     "data": {
      "text/html": [
       "<pre>recommendations finished on 110000/178122 queries. users per second: 20908.2</pre>"
      ],
      "text/plain": [
       "recommendations finished on 110000/178122 queries. users per second: 20908.2"
      ]
     },
     "metadata": {},
     "output_type": "display_data"
    },
    {
     "data": {
      "text/html": [
       "<pre>recommendations finished on 111000/178122 queries. users per second: 20873.3</pre>"
      ],
      "text/plain": [
       "recommendations finished on 111000/178122 queries. users per second: 20873.3"
      ]
     },
     "metadata": {},
     "output_type": "display_data"
    },
    {
     "data": {
      "text/html": [
       "<pre>recommendations finished on 112000/178122 queries. users per second: 20888.3</pre>"
      ],
      "text/plain": [
       "recommendations finished on 112000/178122 queries. users per second: 20888.3"
      ]
     },
     "metadata": {},
     "output_type": "display_data"
    },
    {
     "data": {
      "text/html": [
       "<pre>recommendations finished on 113000/178122 queries. users per second: 20891.8</pre>"
      ],
      "text/plain": [
       "recommendations finished on 113000/178122 queries. users per second: 20891.8"
      ]
     },
     "metadata": {},
     "output_type": "display_data"
    },
    {
     "data": {
      "text/html": [
       "<pre>recommendations finished on 114000/178122 queries. users per second: 20903.6</pre>"
      ],
      "text/plain": [
       "recommendations finished on 114000/178122 queries. users per second: 20903.6"
      ]
     },
     "metadata": {},
     "output_type": "display_data"
    },
    {
     "data": {
      "text/html": [
       "<pre>recommendations finished on 115000/178122 queries. users per second: 20888.7</pre>"
      ],
      "text/plain": [
       "recommendations finished on 115000/178122 queries. users per second: 20888.7"
      ]
     },
     "metadata": {},
     "output_type": "display_data"
    },
    {
     "data": {
      "text/html": [
       "<pre>recommendations finished on 116000/178122 queries. users per second: 20867</pre>"
      ],
      "text/plain": [
       "recommendations finished on 116000/178122 queries. users per second: 20867"
      ]
     },
     "metadata": {},
     "output_type": "display_data"
    },
    {
     "data": {
      "text/html": [
       "<pre>recommendations finished on 117000/178122 queries. users per second: 20805.5</pre>"
      ],
      "text/plain": [
       "recommendations finished on 117000/178122 queries. users per second: 20805.5"
      ]
     },
     "metadata": {},
     "output_type": "display_data"
    },
    {
     "data": {
      "text/html": [
       "<pre>recommendations finished on 118000/178122 queries. users per second: 20763.3</pre>"
      ],
      "text/plain": [
       "recommendations finished on 118000/178122 queries. users per second: 20763.3"
      ]
     },
     "metadata": {},
     "output_type": "display_data"
    },
    {
     "data": {
      "text/html": [
       "<pre>recommendations finished on 119000/178122 queries. users per second: 20730.2</pre>"
      ],
      "text/plain": [
       "recommendations finished on 119000/178122 queries. users per second: 20730.2"
      ]
     },
     "metadata": {},
     "output_type": "display_data"
    },
    {
     "data": {
      "text/html": [
       "<pre>recommendations finished on 120000/178122 queries. users per second: 20679.9</pre>"
      ],
      "text/plain": [
       "recommendations finished on 120000/178122 queries. users per second: 20679.9"
      ]
     },
     "metadata": {},
     "output_type": "display_data"
    },
    {
     "data": {
      "text/html": [
       "<pre>recommendations finished on 121000/178122 queries. users per second: 20577.1</pre>"
      ],
      "text/plain": [
       "recommendations finished on 121000/178122 queries. users per second: 20577.1"
      ]
     },
     "metadata": {},
     "output_type": "display_data"
    },
    {
     "data": {
      "text/html": [
       "<pre>recommendations finished on 122000/178122 queries. users per second: 20508</pre>"
      ],
      "text/plain": [
       "recommendations finished on 122000/178122 queries. users per second: 20508"
      ]
     },
     "metadata": {},
     "output_type": "display_data"
    },
    {
     "data": {
      "text/html": [
       "<pre>recommendations finished on 123000/178122 queries. users per second: 20477.1</pre>"
      ],
      "text/plain": [
       "recommendations finished on 123000/178122 queries. users per second: 20477.1"
      ]
     },
     "metadata": {},
     "output_type": "display_data"
    },
    {
     "data": {
      "text/html": [
       "<pre>recommendations finished on 124000/178122 queries. users per second: 20458.2</pre>"
      ],
      "text/plain": [
       "recommendations finished on 124000/178122 queries. users per second: 20458.2"
      ]
     },
     "metadata": {},
     "output_type": "display_data"
    },
    {
     "data": {
      "text/html": [
       "<pre>recommendations finished on 125000/178122 queries. users per second: 20312.3</pre>"
      ],
      "text/plain": [
       "recommendations finished on 125000/178122 queries. users per second: 20312.3"
      ]
     },
     "metadata": {},
     "output_type": "display_data"
    },
    {
     "data": {
      "text/html": [
       "<pre>recommendations finished on 126000/178122 queries. users per second: 20330</pre>"
      ],
      "text/plain": [
       "recommendations finished on 126000/178122 queries. users per second: 20330"
      ]
     },
     "metadata": {},
     "output_type": "display_data"
    },
    {
     "data": {
      "text/html": [
       "<pre>recommendations finished on 127000/178122 queries. users per second: 20323.9</pre>"
      ],
      "text/plain": [
       "recommendations finished on 127000/178122 queries. users per second: 20323.9"
      ]
     },
     "metadata": {},
     "output_type": "display_data"
    },
    {
     "data": {
      "text/html": [
       "<pre>recommendations finished on 128000/178122 queries. users per second: 20341.9</pre>"
      ],
      "text/plain": [
       "recommendations finished on 128000/178122 queries. users per second: 20341.9"
      ]
     },
     "metadata": {},
     "output_type": "display_data"
    },
    {
     "data": {
      "text/html": [
       "<pre>recommendations finished on 129000/178122 queries. users per second: 20369.2</pre>"
      ],
      "text/plain": [
       "recommendations finished on 129000/178122 queries. users per second: 20369.2"
      ]
     },
     "metadata": {},
     "output_type": "display_data"
    },
    {
     "data": {
      "text/html": [
       "<pre>recommendations finished on 130000/178122 queries. users per second: 20384.7</pre>"
      ],
      "text/plain": [
       "recommendations finished on 130000/178122 queries. users per second: 20384.7"
      ]
     },
     "metadata": {},
     "output_type": "display_data"
    },
    {
     "data": {
      "text/html": [
       "<pre>recommendations finished on 131000/178122 queries. users per second: 20408.7</pre>"
      ],
      "text/plain": [
       "recommendations finished on 131000/178122 queries. users per second: 20408.7"
      ]
     },
     "metadata": {},
     "output_type": "display_data"
    },
    {
     "data": {
      "text/html": [
       "<pre>recommendations finished on 132000/178122 queries. users per second: 20439.6</pre>"
      ],
      "text/plain": [
       "recommendations finished on 132000/178122 queries. users per second: 20439.6"
      ]
     },
     "metadata": {},
     "output_type": "display_data"
    },
    {
     "data": {
      "text/html": [
       "<pre>recommendations finished on 133000/178122 queries. users per second: 20474.3</pre>"
      ],
      "text/plain": [
       "recommendations finished on 133000/178122 queries. users per second: 20474.3"
      ]
     },
     "metadata": {},
     "output_type": "display_data"
    },
    {
     "data": {
      "text/html": [
       "<pre>recommendations finished on 134000/178122 queries. users per second: 20501.5</pre>"
      ],
      "text/plain": [
       "recommendations finished on 134000/178122 queries. users per second: 20501.5"
      ]
     },
     "metadata": {},
     "output_type": "display_data"
    },
    {
     "data": {
      "text/html": [
       "<pre>recommendations finished on 135000/178122 queries. users per second: 20519.7</pre>"
      ],
      "text/plain": [
       "recommendations finished on 135000/178122 queries. users per second: 20519.7"
      ]
     },
     "metadata": {},
     "output_type": "display_data"
    },
    {
     "data": {
      "text/html": [
       "<pre>recommendations finished on 136000/178122 queries. users per second: 20533.2</pre>"
      ],
      "text/plain": [
       "recommendations finished on 136000/178122 queries. users per second: 20533.2"
      ]
     },
     "metadata": {},
     "output_type": "display_data"
    },
    {
     "data": {
      "text/html": [
       "<pre>recommendations finished on 137000/178122 queries. users per second: 20543.9</pre>"
      ],
      "text/plain": [
       "recommendations finished on 137000/178122 queries. users per second: 20543.9"
      ]
     },
     "metadata": {},
     "output_type": "display_data"
    },
    {
     "data": {
      "text/html": [
       "<pre>recommendations finished on 138000/178122 queries. users per second: 20579.7</pre>"
      ],
      "text/plain": [
       "recommendations finished on 138000/178122 queries. users per second: 20579.7"
      ]
     },
     "metadata": {},
     "output_type": "display_data"
    },
    {
     "data": {
      "text/html": [
       "<pre>recommendations finished on 139000/178122 queries. users per second: 20598.2</pre>"
      ],
      "text/plain": [
       "recommendations finished on 139000/178122 queries. users per second: 20598.2"
      ]
     },
     "metadata": {},
     "output_type": "display_data"
    },
    {
     "data": {
      "text/html": [
       "<pre>recommendations finished on 140000/178122 queries. users per second: 20628.9</pre>"
      ],
      "text/plain": [
       "recommendations finished on 140000/178122 queries. users per second: 20628.9"
      ]
     },
     "metadata": {},
     "output_type": "display_data"
    },
    {
     "data": {
      "text/html": [
       "<pre>recommendations finished on 141000/178122 queries. users per second: 20654.7</pre>"
      ],
      "text/plain": [
       "recommendations finished on 141000/178122 queries. users per second: 20654.7"
      ]
     },
     "metadata": {},
     "output_type": "display_data"
    },
    {
     "data": {
      "text/html": [
       "<pre>recommendations finished on 142000/178122 queries. users per second: 20681.9</pre>"
      ],
      "text/plain": [
       "recommendations finished on 142000/178122 queries. users per second: 20681.9"
      ]
     },
     "metadata": {},
     "output_type": "display_data"
    },
    {
     "data": {
      "text/html": [
       "<pre>recommendations finished on 143000/178122 queries. users per second: 20688.6</pre>"
      ],
      "text/plain": [
       "recommendations finished on 143000/178122 queries. users per second: 20688.6"
      ]
     },
     "metadata": {},
     "output_type": "display_data"
    },
    {
     "data": {
      "text/html": [
       "<pre>recommendations finished on 144000/178122 queries. users per second: 20699</pre>"
      ],
      "text/plain": [
       "recommendations finished on 144000/178122 queries. users per second: 20699"
      ]
     },
     "metadata": {},
     "output_type": "display_data"
    },
    {
     "data": {
      "text/html": [
       "<pre>recommendations finished on 145000/178122 queries. users per second: 20715.2</pre>"
      ],
      "text/plain": [
       "recommendations finished on 145000/178122 queries. users per second: 20715.2"
      ]
     },
     "metadata": {},
     "output_type": "display_data"
    },
    {
     "data": {
      "text/html": [
       "<pre>recommendations finished on 146000/178122 queries. users per second: 20736.1</pre>"
      ],
      "text/plain": [
       "recommendations finished on 146000/178122 queries. users per second: 20736.1"
      ]
     },
     "metadata": {},
     "output_type": "display_data"
    },
    {
     "data": {
      "text/html": [
       "<pre>recommendations finished on 147000/178122 queries. users per second: 20762.8</pre>"
      ],
      "text/plain": [
       "recommendations finished on 147000/178122 queries. users per second: 20762.8"
      ]
     },
     "metadata": {},
     "output_type": "display_data"
    },
    {
     "data": {
      "text/html": [
       "<pre>recommendations finished on 148000/178122 queries. users per second: 20788.3</pre>"
      ],
      "text/plain": [
       "recommendations finished on 148000/178122 queries. users per second: 20788.3"
      ]
     },
     "metadata": {},
     "output_type": "display_data"
    },
    {
     "data": {
      "text/html": [
       "<pre>recommendations finished on 149000/178122 queries. users per second: 20801.5</pre>"
      ],
      "text/plain": [
       "recommendations finished on 149000/178122 queries. users per second: 20801.5"
      ]
     },
     "metadata": {},
     "output_type": "display_data"
    },
    {
     "data": {
      "text/html": [
       "<pre>recommendations finished on 150000/178122 queries. users per second: 20824.6</pre>"
      ],
      "text/plain": [
       "recommendations finished on 150000/178122 queries. users per second: 20824.6"
      ]
     },
     "metadata": {},
     "output_type": "display_data"
    },
    {
     "data": {
      "text/html": [
       "<pre>recommendations finished on 151000/178122 queries. users per second: 20838.9</pre>"
      ],
      "text/plain": [
       "recommendations finished on 151000/178122 queries. users per second: 20838.9"
      ]
     },
     "metadata": {},
     "output_type": "display_data"
    },
    {
     "data": {
      "text/html": [
       "<pre>recommendations finished on 152000/178122 queries. users per second: 20859</pre>"
      ],
      "text/plain": [
       "recommendations finished on 152000/178122 queries. users per second: 20859"
      ]
     },
     "metadata": {},
     "output_type": "display_data"
    },
    {
     "data": {
      "text/html": [
       "<pre>recommendations finished on 153000/178122 queries. users per second: 20872.7</pre>"
      ],
      "text/plain": [
       "recommendations finished on 153000/178122 queries. users per second: 20872.7"
      ]
     },
     "metadata": {},
     "output_type": "display_data"
    },
    {
     "data": {
      "text/html": [
       "<pre>recommendations finished on 154000/178122 queries. users per second: 20896.5</pre>"
      ],
      "text/plain": [
       "recommendations finished on 154000/178122 queries. users per second: 20896.5"
      ]
     },
     "metadata": {},
     "output_type": "display_data"
    },
    {
     "data": {
      "text/html": [
       "<pre>recommendations finished on 155000/178122 queries. users per second: 20911.5</pre>"
      ],
      "text/plain": [
       "recommendations finished on 155000/178122 queries. users per second: 20911.5"
      ]
     },
     "metadata": {},
     "output_type": "display_data"
    },
    {
     "data": {
      "text/html": [
       "<pre>recommendations finished on 156000/178122 queries. users per second: 20920.2</pre>"
      ],
      "text/plain": [
       "recommendations finished on 156000/178122 queries. users per second: 20920.2"
      ]
     },
     "metadata": {},
     "output_type": "display_data"
    },
    {
     "data": {
      "text/html": [
       "<pre>recommendations finished on 157000/178122 queries. users per second: 20936.4</pre>"
      ],
      "text/plain": [
       "recommendations finished on 157000/178122 queries. users per second: 20936.4"
      ]
     },
     "metadata": {},
     "output_type": "display_data"
    },
    {
     "data": {
      "text/html": [
       "<pre>recommendations finished on 158000/178122 queries. users per second: 20944.6</pre>"
      ],
      "text/plain": [
       "recommendations finished on 158000/178122 queries. users per second: 20944.6"
      ]
     },
     "metadata": {},
     "output_type": "display_data"
    },
    {
     "data": {
      "text/html": [
       "<pre>recommendations finished on 159000/178122 queries. users per second: 20947.4</pre>"
      ],
      "text/plain": [
       "recommendations finished on 159000/178122 queries. users per second: 20947.4"
      ]
     },
     "metadata": {},
     "output_type": "display_data"
    },
    {
     "data": {
      "text/html": [
       "<pre>recommendations finished on 160000/178122 queries. users per second: 20946</pre>"
      ],
      "text/plain": [
       "recommendations finished on 160000/178122 queries. users per second: 20946"
      ]
     },
     "metadata": {},
     "output_type": "display_data"
    },
    {
     "data": {
      "text/html": [
       "<pre>recommendations finished on 161000/178122 queries. users per second: 20885.3</pre>"
      ],
      "text/plain": [
       "recommendations finished on 161000/178122 queries. users per second: 20885.3"
      ]
     },
     "metadata": {},
     "output_type": "display_data"
    },
    {
     "data": {
      "text/html": [
       "<pre>recommendations finished on 162000/178122 queries. users per second: 20832.9</pre>"
      ],
      "text/plain": [
       "recommendations finished on 162000/178122 queries. users per second: 20832.9"
      ]
     },
     "metadata": {},
     "output_type": "display_data"
    },
    {
     "data": {
      "text/html": [
       "<pre>recommendations finished on 163000/178122 queries. users per second: 20798.7</pre>"
      ],
      "text/plain": [
       "recommendations finished on 163000/178122 queries. users per second: 20798.7"
      ]
     },
     "metadata": {},
     "output_type": "display_data"
    },
    {
     "data": {
      "text/html": [
       "<pre>recommendations finished on 164000/178122 queries. users per second: 20741.5</pre>"
      ],
      "text/plain": [
       "recommendations finished on 164000/178122 queries. users per second: 20741.5"
      ]
     },
     "metadata": {},
     "output_type": "display_data"
    },
    {
     "data": {
      "text/html": [
       "<pre>recommendations finished on 165000/178122 queries. users per second: 20684.1</pre>"
      ],
      "text/plain": [
       "recommendations finished on 165000/178122 queries. users per second: 20684.1"
      ]
     },
     "metadata": {},
     "output_type": "display_data"
    },
    {
     "data": {
      "text/html": [
       "<pre>recommendations finished on 166000/178122 queries. users per second: 20634.7</pre>"
      ],
      "text/plain": [
       "recommendations finished on 166000/178122 queries. users per second: 20634.7"
      ]
     },
     "metadata": {},
     "output_type": "display_data"
    },
    {
     "data": {
      "text/html": [
       "<pre>recommendations finished on 167000/178122 queries. users per second: 20584.4</pre>"
      ],
      "text/plain": [
       "recommendations finished on 167000/178122 queries. users per second: 20584.4"
      ]
     },
     "metadata": {},
     "output_type": "display_data"
    },
    {
     "data": {
      "text/html": [
       "<pre>recommendations finished on 168000/178122 queries. users per second: 20509.3</pre>"
      ],
      "text/plain": [
       "recommendations finished on 168000/178122 queries. users per second: 20509.3"
      ]
     },
     "metadata": {},
     "output_type": "display_data"
    },
    {
     "data": {
      "text/html": [
       "<pre>recommendations finished on 169000/178122 queries. users per second: 20422.2</pre>"
      ],
      "text/plain": [
       "recommendations finished on 169000/178122 queries. users per second: 20422.2"
      ]
     },
     "metadata": {},
     "output_type": "display_data"
    },
    {
     "data": {
      "text/html": [
       "<pre>recommendations finished on 170000/178122 queries. users per second: 20347.6</pre>"
      ],
      "text/plain": [
       "recommendations finished on 170000/178122 queries. users per second: 20347.6"
      ]
     },
     "metadata": {},
     "output_type": "display_data"
    },
    {
     "data": {
      "text/html": [
       "<pre>recommendations finished on 171000/178122 queries. users per second: 20254</pre>"
      ],
      "text/plain": [
       "recommendations finished on 171000/178122 queries. users per second: 20254"
      ]
     },
     "metadata": {},
     "output_type": "display_data"
    },
    {
     "data": {
      "text/html": [
       "<pre>recommendations finished on 172000/178122 queries. users per second: 20080.3</pre>"
      ],
      "text/plain": [
       "recommendations finished on 172000/178122 queries. users per second: 20080.3"
      ]
     },
     "metadata": {},
     "output_type": "display_data"
    },
    {
     "data": {
      "text/html": [
       "<pre>recommendations finished on 173000/178122 queries. users per second: 20035.3</pre>"
      ],
      "text/plain": [
       "recommendations finished on 173000/178122 queries. users per second: 20035.3"
      ]
     },
     "metadata": {},
     "output_type": "display_data"
    },
    {
     "data": {
      "text/html": [
       "<pre>recommendations finished on 174000/178122 queries. users per second: 19960.3</pre>"
      ],
      "text/plain": [
       "recommendations finished on 174000/178122 queries. users per second: 19960.3"
      ]
     },
     "metadata": {},
     "output_type": "display_data"
    },
    {
     "data": {
      "text/html": [
       "<pre>recommendations finished on 175000/178122 queries. users per second: 19890.3</pre>"
      ],
      "text/plain": [
       "recommendations finished on 175000/178122 queries. users per second: 19890.3"
      ]
     },
     "metadata": {},
     "output_type": "display_data"
    },
    {
     "data": {
      "text/html": [
       "<pre>recommendations finished on 176000/178122 queries. users per second: 19831.8</pre>"
      ],
      "text/plain": [
       "recommendations finished on 176000/178122 queries. users per second: 19831.8"
      ]
     },
     "metadata": {},
     "output_type": "display_data"
    },
    {
     "data": {
      "text/html": [
       "<pre>recommendations finished on 177000/178122 queries. users per second: 19675.5</pre>"
      ],
      "text/plain": [
       "recommendations finished on 177000/178122 queries. users per second: 19675.5"
      ]
     },
     "metadata": {},
     "output_type": "display_data"
    },
    {
     "data": {
      "text/html": [
       "<pre>recommendations finished on 178000/178122 queries. users per second: 19522.7</pre>"
      ],
      "text/plain": [
       "recommendations finished on 178000/178122 queries. users per second: 19522.7"
      ]
     },
     "metadata": {},
     "output_type": "display_data"
    },
    {
     "name": "stdout",
     "output_type": "stream",
     "text": [
      "+------------+---------+---------------+------+\n",
      "|  Customer  | Product |     score     | rank |\n",
      "+------------+---------+---------------+------+\n",
      "| CC20190310 |   5_4   | 39.0376383932 |  1   |\n",
      "| CC20190310 |   4_14  | 29.1086889101 |  2   |\n",
      "| CC20190310 |   5_3   | 22.9814542333 |  3   |\n",
      "| CC20190310 |   3_21  | 18.6703356653 |  4   |\n",
      "| CC20190310 |   5_28  | 16.3121008976 |  5   |\n",
      "| CC20190310 |   1_27  | 15.3230272879 |  6   |\n",
      "| CC20190310 |   6_23  | 14.3274597731 |  7   |\n",
      "| CC20190310 |   5_15  | 12.8312043285 |  8   |\n",
      "| CC20190310 |   2_16  |  12.103432391 |  9   |\n",
      "| CC20190310 |   7_27  | 12.0736098492 |  10  |\n",
      "| CC20190310 |   5_4   | 39.0376383932 |  1   |\n",
      "| CC20190310 |   4_14  | 29.1086889101 |  2   |\n",
      "| CC20190310 |   5_3   | 22.9814542333 |  3   |\n",
      "| CC20190310 |   3_21  | 18.6703356653 |  4   |\n",
      "| CC20190310 |   5_28  | 16.3121008976 |  5   |\n",
      "| CC20190310 |   1_27  | 15.3230272879 |  6   |\n",
      "| CC20190310 |   6_23  | 14.3274597731 |  7   |\n",
      "| CC20190310 |   5_15  | 12.8312043285 |  8   |\n",
      "| CC20190310 |   2_16  |  12.103432391 |  9   |\n",
      "| CC20190310 |   7_27  | 12.0736098492 |  10  |\n",
      "| CC20190310 |   5_4   | 39.0376383932 |  1   |\n",
      "| CC20190310 |   4_14  | 29.1086889101 |  2   |\n",
      "| CC20190310 |   5_3   | 22.9814542333 |  3   |\n",
      "| CC20190310 |   3_21  | 18.6703356653 |  4   |\n",
      "| CC20190310 |   5_28  | 16.3121008976 |  5   |\n",
      "| CC20190310 |   1_27  | 15.3230272879 |  6   |\n",
      "| CC20190310 |   6_23  | 14.3274597731 |  7   |\n",
      "| CC20190310 |   5_15  | 12.8312043285 |  8   |\n",
      "| CC20190310 |   2_16  |  12.103432391 |  9   |\n",
      "| CC20190310 |   7_27  | 12.0736098492 |  10  |\n",
      "+------------+---------+---------------+------+\n",
      "[1781220 rows x 4 columns]\n",
      "\n"
     ]
    }
   ],
   "source": [
    "# Using number of seconds\n",
    "\n",
    "name = 'cosine'\n",
    "target = 'SecNumF'\n",
    "cos = model(train_data, name, user_id, item_id, target, users_to_recommend, n_rec, n_display)"
   ]
  },
  {
   "cell_type": "code",
   "execution_count": 24,
   "metadata": {
    "collapsed": false,
    "deletable": true,
    "editable": true
   },
   "outputs": [
    {
     "data": {
      "text/html": [
       "<pre>Warning: Ignoring columns SecNumF;</pre>"
      ],
      "text/plain": [
       "Warning: Ignoring columns SecNumF;"
      ]
     },
     "metadata": {},
     "output_type": "display_data"
    },
    {
     "data": {
      "text/html": [
       "<pre>    To use these columns in scoring predictions, use a model that allows the use of additional features.</pre>"
      ],
      "text/plain": [
       "    To use these columns in scoring predictions, use a model that allows the use of additional features."
      ]
     },
     "metadata": {},
     "output_type": "display_data"
    },
    {
     "data": {
      "text/html": [
       "<pre>Preparing data set.</pre>"
      ],
      "text/plain": [
       "Preparing data set."
      ]
     },
     "metadata": {},
     "output_type": "display_data"
    },
    {
     "data": {
      "text/html": [
       "<pre>    Data has 142497 observations with 1436 users and 235 items.</pre>"
      ],
      "text/plain": [
       "    Data has 142497 observations with 1436 users and 235 items."
      ]
     },
     "metadata": {},
     "output_type": "display_data"
    },
    {
     "data": {
      "text/html": [
       "<pre>    Data prepared in: 0.285269s</pre>"
      ],
      "text/plain": [
       "    Data prepared in: 0.285269s"
      ]
     },
     "metadata": {},
     "output_type": "display_data"
    },
    {
     "data": {
      "text/html": [
       "<pre>Training model from provided data.</pre>"
      ],
      "text/plain": [
       "Training model from provided data."
      ]
     },
     "metadata": {},
     "output_type": "display_data"
    },
    {
     "data": {
      "text/html": [
       "<pre>Gathering per-item and per-user statistics.</pre>"
      ],
      "text/plain": [
       "Gathering per-item and per-user statistics."
      ]
     },
     "metadata": {},
     "output_type": "display_data"
    },
    {
     "data": {
      "text/html": [
       "<pre>+--------------------------------+------------+</pre>"
      ],
      "text/plain": [
       "+--------------------------------+------------+"
      ]
     },
     "metadata": {},
     "output_type": "display_data"
    },
    {
     "data": {
      "text/html": [
       "<pre>| Elapsed Time (Item Statistics) | % Complete |</pre>"
      ],
      "text/plain": [
       "| Elapsed Time (Item Statistics) | % Complete |"
      ]
     },
     "metadata": {},
     "output_type": "display_data"
    },
    {
     "data": {
      "text/html": [
       "<pre>+--------------------------------+------------+</pre>"
      ],
      "text/plain": [
       "+--------------------------------+------------+"
      ]
     },
     "metadata": {},
     "output_type": "display_data"
    },
    {
     "data": {
      "text/html": [
       "<pre>| 4.117ms                        | 69.5       |</pre>"
      ],
      "text/plain": [
       "| 4.117ms                        | 69.5       |"
      ]
     },
     "metadata": {},
     "output_type": "display_data"
    },
    {
     "data": {
      "text/html": [
       "<pre>| 4.889ms                        | 100        |</pre>"
      ],
      "text/plain": [
       "| 4.889ms                        | 100        |"
      ]
     },
     "metadata": {},
     "output_type": "display_data"
    },
    {
     "data": {
      "text/html": [
       "<pre>+--------------------------------+------------+</pre>"
      ],
      "text/plain": [
       "+--------------------------------+------------+"
      ]
     },
     "metadata": {},
     "output_type": "display_data"
    },
    {
     "data": {
      "text/html": [
       "<pre>Setting up lookup tables.</pre>"
      ],
      "text/plain": [
       "Setting up lookup tables."
      ]
     },
     "metadata": {},
     "output_type": "display_data"
    },
    {
     "data": {
      "text/html": [
       "<pre>Processing data in one pass using dense lookup tables.</pre>"
      ],
      "text/plain": [
       "Processing data in one pass using dense lookup tables."
      ]
     },
     "metadata": {},
     "output_type": "display_data"
    },
    {
     "data": {
      "text/html": [
       "<pre>+-------------------------------------+------------------+-----------------+</pre>"
      ],
      "text/plain": [
       "+-------------------------------------+------------------+-----------------+"
      ]
     },
     "metadata": {},
     "output_type": "display_data"
    },
    {
     "data": {
      "text/html": [
       "<pre>| Elapsed Time (Constructing Lookups) | Total % Complete | Items Processed |</pre>"
      ],
      "text/plain": [
       "| Elapsed Time (Constructing Lookups) | Total % Complete | Items Processed |"
      ]
     },
     "metadata": {},
     "output_type": "display_data"
    },
    {
     "data": {
      "text/html": [
       "<pre>+-------------------------------------+------------------+-----------------+</pre>"
      ],
      "text/plain": [
       "+-------------------------------------+------------------+-----------------+"
      ]
     },
     "metadata": {},
     "output_type": "display_data"
    },
    {
     "data": {
      "text/html": [
       "<pre>| 6.341ms                             | 0                | 0               |</pre>"
      ],
      "text/plain": [
       "| 6.341ms                             | 0                | 0               |"
      ]
     },
     "metadata": {},
     "output_type": "display_data"
    },
    {
     "data": {
      "text/html": [
       "<pre>| 97.448ms                            | 100              | 235             |</pre>"
      ],
      "text/plain": [
       "| 97.448ms                            | 100              | 235             |"
      ]
     },
     "metadata": {},
     "output_type": "display_data"
    },
    {
     "data": {
      "text/html": [
       "<pre>+-------------------------------------+------------------+-----------------+</pre>"
      ],
      "text/plain": [
       "+-------------------------------------+------------------+-----------------+"
      ]
     },
     "metadata": {},
     "output_type": "display_data"
    },
    {
     "data": {
      "text/html": [
       "<pre>Finalizing lookup tables.</pre>"
      ],
      "text/plain": [
       "Finalizing lookup tables."
      ]
     },
     "metadata": {},
     "output_type": "display_data"
    },
    {
     "data": {
      "text/html": [
       "<pre>Generating candidate set for working with new users.</pre>"
      ],
      "text/plain": [
       "Generating candidate set for working with new users."
      ]
     },
     "metadata": {},
     "output_type": "display_data"
    },
    {
     "data": {
      "text/html": [
       "<pre>Finished training in 0.121498s</pre>"
      ],
      "text/plain": [
       "Finished training in 0.121498s"
      ]
     },
     "metadata": {},
     "output_type": "display_data"
    },
    {
     "data": {
      "text/html": [
       "<pre>recommendations finished on 1000/178122 queries. users per second: 18305</pre>"
      ],
      "text/plain": [
       "recommendations finished on 1000/178122 queries. users per second: 18305"
      ]
     },
     "metadata": {},
     "output_type": "display_data"
    },
    {
     "data": {
      "text/html": [
       "<pre>recommendations finished on 2000/178122 queries. users per second: 20455.1</pre>"
      ],
      "text/plain": [
       "recommendations finished on 2000/178122 queries. users per second: 20455.1"
      ]
     },
     "metadata": {},
     "output_type": "display_data"
    },
    {
     "data": {
      "text/html": [
       "<pre>recommendations finished on 3000/178122 queries. users per second: 20355</pre>"
      ],
      "text/plain": [
       "recommendations finished on 3000/178122 queries. users per second: 20355"
      ]
     },
     "metadata": {},
     "output_type": "display_data"
    },
    {
     "data": {
      "text/html": [
       "<pre>recommendations finished on 4000/178122 queries. users per second: 20940.8</pre>"
      ],
      "text/plain": [
       "recommendations finished on 4000/178122 queries. users per second: 20940.8"
      ]
     },
     "metadata": {},
     "output_type": "display_data"
    },
    {
     "data": {
      "text/html": [
       "<pre>recommendations finished on 5000/178122 queries. users per second: 20694.3</pre>"
      ],
      "text/plain": [
       "recommendations finished on 5000/178122 queries. users per second: 20694.3"
      ]
     },
     "metadata": {},
     "output_type": "display_data"
    },
    {
     "data": {
      "text/html": [
       "<pre>recommendations finished on 6000/178122 queries. users per second: 20876.8</pre>"
      ],
      "text/plain": [
       "recommendations finished on 6000/178122 queries. users per second: 20876.8"
      ]
     },
     "metadata": {},
     "output_type": "display_data"
    },
    {
     "data": {
      "text/html": [
       "<pre>recommendations finished on 7000/178122 queries. users per second: 21162.8</pre>"
      ],
      "text/plain": [
       "recommendations finished on 7000/178122 queries. users per second: 21162.8"
      ]
     },
     "metadata": {},
     "output_type": "display_data"
    },
    {
     "data": {
      "text/html": [
       "<pre>recommendations finished on 8000/178122 queries. users per second: 21264.5</pre>"
      ],
      "text/plain": [
       "recommendations finished on 8000/178122 queries. users per second: 21264.5"
      ]
     },
     "metadata": {},
     "output_type": "display_data"
    },
    {
     "data": {
      "text/html": [
       "<pre>recommendations finished on 9000/178122 queries. users per second: 20941.9</pre>"
      ],
      "text/plain": [
       "recommendations finished on 9000/178122 queries. users per second: 20941.9"
      ]
     },
     "metadata": {},
     "output_type": "display_data"
    },
    {
     "data": {
      "text/html": [
       "<pre>recommendations finished on 10000/178122 queries. users per second: 19914.2</pre>"
      ],
      "text/plain": [
       "recommendations finished on 10000/178122 queries. users per second: 19914.2"
      ]
     },
     "metadata": {},
     "output_type": "display_data"
    },
    {
     "data": {
      "text/html": [
       "<pre>recommendations finished on 11000/178122 queries. users per second: 19689.7</pre>"
      ],
      "text/plain": [
       "recommendations finished on 11000/178122 queries. users per second: 19689.7"
      ]
     },
     "metadata": {},
     "output_type": "display_data"
    },
    {
     "data": {
      "text/html": [
       "<pre>recommendations finished on 12000/178122 queries. users per second: 19684.6</pre>"
      ],
      "text/plain": [
       "recommendations finished on 12000/178122 queries. users per second: 19684.6"
      ]
     },
     "metadata": {},
     "output_type": "display_data"
    },
    {
     "data": {
      "text/html": [
       "<pre>recommendations finished on 13000/178122 queries. users per second: 19296.2</pre>"
      ],
      "text/plain": [
       "recommendations finished on 13000/178122 queries. users per second: 19296.2"
      ]
     },
     "metadata": {},
     "output_type": "display_data"
    },
    {
     "data": {
      "text/html": [
       "<pre>recommendations finished on 14000/178122 queries. users per second: 19300.9</pre>"
      ],
      "text/plain": [
       "recommendations finished on 14000/178122 queries. users per second: 19300.9"
      ]
     },
     "metadata": {},
     "output_type": "display_data"
    },
    {
     "data": {
      "text/html": [
       "<pre>recommendations finished on 15000/178122 queries. users per second: 18955.7</pre>"
      ],
      "text/plain": [
       "recommendations finished on 15000/178122 queries. users per second: 18955.7"
      ]
     },
     "metadata": {},
     "output_type": "display_data"
    },
    {
     "data": {
      "text/html": [
       "<pre>recommendations finished on 16000/178122 queries. users per second: 18813.9</pre>"
      ],
      "text/plain": [
       "recommendations finished on 16000/178122 queries. users per second: 18813.9"
      ]
     },
     "metadata": {},
     "output_type": "display_data"
    },
    {
     "data": {
      "text/html": [
       "<pre>recommendations finished on 17000/178122 queries. users per second: 18591.9</pre>"
      ],
      "text/plain": [
       "recommendations finished on 17000/178122 queries. users per second: 18591.9"
      ]
     },
     "metadata": {},
     "output_type": "display_data"
    },
    {
     "data": {
      "text/html": [
       "<pre>recommendations finished on 18000/178122 queries. users per second: 18314.5</pre>"
      ],
      "text/plain": [
       "recommendations finished on 18000/178122 queries. users per second: 18314.5"
      ]
     },
     "metadata": {},
     "output_type": "display_data"
    },
    {
     "data": {
      "text/html": [
       "<pre>recommendations finished on 19000/178122 queries. users per second: 18556.4</pre>"
      ],
      "text/plain": [
       "recommendations finished on 19000/178122 queries. users per second: 18556.4"
      ]
     },
     "metadata": {},
     "output_type": "display_data"
    },
    {
     "data": {
      "text/html": [
       "<pre>recommendations finished on 20000/178122 queries. users per second: 18556.6</pre>"
      ],
      "text/plain": [
       "recommendations finished on 20000/178122 queries. users per second: 18556.6"
      ]
     },
     "metadata": {},
     "output_type": "display_data"
    },
    {
     "data": {
      "text/html": [
       "<pre>recommendations finished on 21000/178122 queries. users per second: 18592.7</pre>"
      ],
      "text/plain": [
       "recommendations finished on 21000/178122 queries. users per second: 18592.7"
      ]
     },
     "metadata": {},
     "output_type": "display_data"
    },
    {
     "data": {
      "text/html": [
       "<pre>recommendations finished on 22000/178122 queries. users per second: 18724.8</pre>"
      ],
      "text/plain": [
       "recommendations finished on 22000/178122 queries. users per second: 18724.8"
      ]
     },
     "metadata": {},
     "output_type": "display_data"
    },
    {
     "data": {
      "text/html": [
       "<pre>recommendations finished on 23000/178122 queries. users per second: 18832.7</pre>"
      ],
      "text/plain": [
       "recommendations finished on 23000/178122 queries. users per second: 18832.7"
      ]
     },
     "metadata": {},
     "output_type": "display_data"
    },
    {
     "data": {
      "text/html": [
       "<pre>recommendations finished on 24000/178122 queries. users per second: 18942</pre>"
      ],
      "text/plain": [
       "recommendations finished on 24000/178122 queries. users per second: 18942"
      ]
     },
     "metadata": {},
     "output_type": "display_data"
    },
    {
     "data": {
      "text/html": [
       "<pre>recommendations finished on 25000/178122 queries. users per second: 18905.6</pre>"
      ],
      "text/plain": [
       "recommendations finished on 25000/178122 queries. users per second: 18905.6"
      ]
     },
     "metadata": {},
     "output_type": "display_data"
    },
    {
     "data": {
      "text/html": [
       "<pre>recommendations finished on 26000/178122 queries. users per second: 19099.4</pre>"
      ],
      "text/plain": [
       "recommendations finished on 26000/178122 queries. users per second: 19099.4"
      ]
     },
     "metadata": {},
     "output_type": "display_data"
    },
    {
     "data": {
      "text/html": [
       "<pre>recommendations finished on 27000/178122 queries. users per second: 19235.2</pre>"
      ],
      "text/plain": [
       "recommendations finished on 27000/178122 queries. users per second: 19235.2"
      ]
     },
     "metadata": {},
     "output_type": "display_data"
    },
    {
     "data": {
      "text/html": [
       "<pre>recommendations finished on 28000/178122 queries. users per second: 19322.7</pre>"
      ],
      "text/plain": [
       "recommendations finished on 28000/178122 queries. users per second: 19322.7"
      ]
     },
     "metadata": {},
     "output_type": "display_data"
    },
    {
     "data": {
      "text/html": [
       "<pre>recommendations finished on 29000/178122 queries. users per second: 19344.4</pre>"
      ],
      "text/plain": [
       "recommendations finished on 29000/178122 queries. users per second: 19344.4"
      ]
     },
     "metadata": {},
     "output_type": "display_data"
    },
    {
     "data": {
      "text/html": [
       "<pre>recommendations finished on 30000/178122 queries. users per second: 19396.6</pre>"
      ],
      "text/plain": [
       "recommendations finished on 30000/178122 queries. users per second: 19396.6"
      ]
     },
     "metadata": {},
     "output_type": "display_data"
    },
    {
     "data": {
      "text/html": [
       "<pre>recommendations finished on 31000/178122 queries. users per second: 19510.1</pre>"
      ],
      "text/plain": [
       "recommendations finished on 31000/178122 queries. users per second: 19510.1"
      ]
     },
     "metadata": {},
     "output_type": "display_data"
    },
    {
     "data": {
      "text/html": [
       "<pre>recommendations finished on 32000/178122 queries. users per second: 19569.7</pre>"
      ],
      "text/plain": [
       "recommendations finished on 32000/178122 queries. users per second: 19569.7"
      ]
     },
     "metadata": {},
     "output_type": "display_data"
    },
    {
     "data": {
      "text/html": [
       "<pre>recommendations finished on 33000/178122 queries. users per second: 19560.9</pre>"
      ],
      "text/plain": [
       "recommendations finished on 33000/178122 queries. users per second: 19560.9"
      ]
     },
     "metadata": {},
     "output_type": "display_data"
    },
    {
     "data": {
      "text/html": [
       "<pre>recommendations finished on 34000/178122 queries. users per second: 19604.4</pre>"
      ],
      "text/plain": [
       "recommendations finished on 34000/178122 queries. users per second: 19604.4"
      ]
     },
     "metadata": {},
     "output_type": "display_data"
    },
    {
     "data": {
      "text/html": [
       "<pre>recommendations finished on 35000/178122 queries. users per second: 19626.8</pre>"
      ],
      "text/plain": [
       "recommendations finished on 35000/178122 queries. users per second: 19626.8"
      ]
     },
     "metadata": {},
     "output_type": "display_data"
    },
    {
     "data": {
      "text/html": [
       "<pre>recommendations finished on 36000/178122 queries. users per second: 19597.4</pre>"
      ],
      "text/plain": [
       "recommendations finished on 36000/178122 queries. users per second: 19597.4"
      ]
     },
     "metadata": {},
     "output_type": "display_data"
    },
    {
     "data": {
      "text/html": [
       "<pre>recommendations finished on 37000/178122 queries. users per second: 19663.9</pre>"
      ],
      "text/plain": [
       "recommendations finished on 37000/178122 queries. users per second: 19663.9"
      ]
     },
     "metadata": {},
     "output_type": "display_data"
    },
    {
     "data": {
      "text/html": [
       "<pre>recommendations finished on 38000/178122 queries. users per second: 19613.1</pre>"
      ],
      "text/plain": [
       "recommendations finished on 38000/178122 queries. users per second: 19613.1"
      ]
     },
     "metadata": {},
     "output_type": "display_data"
    },
    {
     "data": {
      "text/html": [
       "<pre>recommendations finished on 39000/178122 queries. users per second: 19678.7</pre>"
      ],
      "text/plain": [
       "recommendations finished on 39000/178122 queries. users per second: 19678.7"
      ]
     },
     "metadata": {},
     "output_type": "display_data"
    },
    {
     "data": {
      "text/html": [
       "<pre>recommendations finished on 40000/178122 queries. users per second: 19629</pre>"
      ],
      "text/plain": [
       "recommendations finished on 40000/178122 queries. users per second: 19629"
      ]
     },
     "metadata": {},
     "output_type": "display_data"
    },
    {
     "data": {
      "text/html": [
       "<pre>recommendations finished on 41000/178122 queries. users per second: 19617.1</pre>"
      ],
      "text/plain": [
       "recommendations finished on 41000/178122 queries. users per second: 19617.1"
      ]
     },
     "metadata": {},
     "output_type": "display_data"
    },
    {
     "data": {
      "text/html": [
       "<pre>recommendations finished on 42000/178122 queries. users per second: 19659.5</pre>"
      ],
      "text/plain": [
       "recommendations finished on 42000/178122 queries. users per second: 19659.5"
      ]
     },
     "metadata": {},
     "output_type": "display_data"
    },
    {
     "data": {
      "text/html": [
       "<pre>recommendations finished on 43000/178122 queries. users per second: 19657.6</pre>"
      ],
      "text/plain": [
       "recommendations finished on 43000/178122 queries. users per second: 19657.6"
      ]
     },
     "metadata": {},
     "output_type": "display_data"
    },
    {
     "data": {
      "text/html": [
       "<pre>recommendations finished on 44000/178122 queries. users per second: 19683.4</pre>"
      ],
      "text/plain": [
       "recommendations finished on 44000/178122 queries. users per second: 19683.4"
      ]
     },
     "metadata": {},
     "output_type": "display_data"
    },
    {
     "data": {
      "text/html": [
       "<pre>recommendations finished on 45000/178122 queries. users per second: 19746.4</pre>"
      ],
      "text/plain": [
       "recommendations finished on 45000/178122 queries. users per second: 19746.4"
      ]
     },
     "metadata": {},
     "output_type": "display_data"
    },
    {
     "data": {
      "text/html": [
       "<pre>recommendations finished on 46000/178122 queries. users per second: 19771.8</pre>"
      ],
      "text/plain": [
       "recommendations finished on 46000/178122 queries. users per second: 19771.8"
      ]
     },
     "metadata": {},
     "output_type": "display_data"
    },
    {
     "data": {
      "text/html": [
       "<pre>recommendations finished on 47000/178122 queries. users per second: 19833.8</pre>"
      ],
      "text/plain": [
       "recommendations finished on 47000/178122 queries. users per second: 19833.8"
      ]
     },
     "metadata": {},
     "output_type": "display_data"
    },
    {
     "data": {
      "text/html": [
       "<pre>recommendations finished on 48000/178122 queries. users per second: 19868.1</pre>"
      ],
      "text/plain": [
       "recommendations finished on 48000/178122 queries. users per second: 19868.1"
      ]
     },
     "metadata": {},
     "output_type": "display_data"
    },
    {
     "data": {
      "text/html": [
       "<pre>recommendations finished on 49000/178122 queries. users per second: 19936.2</pre>"
      ],
      "text/plain": [
       "recommendations finished on 49000/178122 queries. users per second: 19936.2"
      ]
     },
     "metadata": {},
     "output_type": "display_data"
    },
    {
     "data": {
      "text/html": [
       "<pre>recommendations finished on 50000/178122 queries. users per second: 20015.9</pre>"
      ],
      "text/plain": [
       "recommendations finished on 50000/178122 queries. users per second: 20015.9"
      ]
     },
     "metadata": {},
     "output_type": "display_data"
    },
    {
     "data": {
      "text/html": [
       "<pre>recommendations finished on 51000/178122 queries. users per second: 20109.6</pre>"
      ],
      "text/plain": [
       "recommendations finished on 51000/178122 queries. users per second: 20109.6"
      ]
     },
     "metadata": {},
     "output_type": "display_data"
    },
    {
     "data": {
      "text/html": [
       "<pre>recommendations finished on 52000/178122 queries. users per second: 20079.6</pre>"
      ],
      "text/plain": [
       "recommendations finished on 52000/178122 queries. users per second: 20079.6"
      ]
     },
     "metadata": {},
     "output_type": "display_data"
    },
    {
     "data": {
      "text/html": [
       "<pre>recommendations finished on 53000/178122 queries. users per second: 20183.6</pre>"
      ],
      "text/plain": [
       "recommendations finished on 53000/178122 queries. users per second: 20183.6"
      ]
     },
     "metadata": {},
     "output_type": "display_data"
    },
    {
     "data": {
      "text/html": [
       "<pre>recommendations finished on 54000/178122 queries. users per second: 20258.6</pre>"
      ],
      "text/plain": [
       "recommendations finished on 54000/178122 queries. users per second: 20258.6"
      ]
     },
     "metadata": {},
     "output_type": "display_data"
    },
    {
     "data": {
      "text/html": [
       "<pre>recommendations finished on 55000/178122 queries. users per second: 20290.6</pre>"
      ],
      "text/plain": [
       "recommendations finished on 55000/178122 queries. users per second: 20290.6"
      ]
     },
     "metadata": {},
     "output_type": "display_data"
    },
    {
     "data": {
      "text/html": [
       "<pre>recommendations finished on 56000/178122 queries. users per second: 20325</pre>"
      ],
      "text/plain": [
       "recommendations finished on 56000/178122 queries. users per second: 20325"
      ]
     },
     "metadata": {},
     "output_type": "display_data"
    },
    {
     "data": {
      "text/html": [
       "<pre>recommendations finished on 57000/178122 queries. users per second: 20335.3</pre>"
      ],
      "text/plain": [
       "recommendations finished on 57000/178122 queries. users per second: 20335.3"
      ]
     },
     "metadata": {},
     "output_type": "display_data"
    },
    {
     "data": {
      "text/html": [
       "<pre>recommendations finished on 58000/178122 queries. users per second: 20372.3</pre>"
      ],
      "text/plain": [
       "recommendations finished on 58000/178122 queries. users per second: 20372.3"
      ]
     },
     "metadata": {},
     "output_type": "display_data"
    },
    {
     "data": {
      "text/html": [
       "<pre>recommendations finished on 59000/178122 queries. users per second: 20432</pre>"
      ],
      "text/plain": [
       "recommendations finished on 59000/178122 queries. users per second: 20432"
      ]
     },
     "metadata": {},
     "output_type": "display_data"
    },
    {
     "data": {
      "text/html": [
       "<pre>recommendations finished on 60000/178122 queries. users per second: 20426.7</pre>"
      ],
      "text/plain": [
       "recommendations finished on 60000/178122 queries. users per second: 20426.7"
      ]
     },
     "metadata": {},
     "output_type": "display_data"
    },
    {
     "data": {
      "text/html": [
       "<pre>recommendations finished on 61000/178122 queries. users per second: 20441.4</pre>"
      ],
      "text/plain": [
       "recommendations finished on 61000/178122 queries. users per second: 20441.4"
      ]
     },
     "metadata": {},
     "output_type": "display_data"
    },
    {
     "data": {
      "text/html": [
       "<pre>recommendations finished on 62000/178122 queries. users per second: 20443.4</pre>"
      ],
      "text/plain": [
       "recommendations finished on 62000/178122 queries. users per second: 20443.4"
      ]
     },
     "metadata": {},
     "output_type": "display_data"
    },
    {
     "data": {
      "text/html": [
       "<pre>recommendations finished on 63000/178122 queries. users per second: 20492.8</pre>"
      ],
      "text/plain": [
       "recommendations finished on 63000/178122 queries. users per second: 20492.8"
      ]
     },
     "metadata": {},
     "output_type": "display_data"
    },
    {
     "data": {
      "text/html": [
       "<pre>recommendations finished on 64000/178122 queries. users per second: 20523.7</pre>"
      ],
      "text/plain": [
       "recommendations finished on 64000/178122 queries. users per second: 20523.7"
      ]
     },
     "metadata": {},
     "output_type": "display_data"
    },
    {
     "data": {
      "text/html": [
       "<pre>recommendations finished on 65000/178122 queries. users per second: 20533.3</pre>"
      ],
      "text/plain": [
       "recommendations finished on 65000/178122 queries. users per second: 20533.3"
      ]
     },
     "metadata": {},
     "output_type": "display_data"
    },
    {
     "data": {
      "text/html": [
       "<pre>recommendations finished on 66000/178122 queries. users per second: 20534.9</pre>"
      ],
      "text/plain": [
       "recommendations finished on 66000/178122 queries. users per second: 20534.9"
      ]
     },
     "metadata": {},
     "output_type": "display_data"
    },
    {
     "data": {
      "text/html": [
       "<pre>recommendations finished on 67000/178122 queries. users per second: 20439</pre>"
      ],
      "text/plain": [
       "recommendations finished on 67000/178122 queries. users per second: 20439"
      ]
     },
     "metadata": {},
     "output_type": "display_data"
    },
    {
     "data": {
      "text/html": [
       "<pre>recommendations finished on 68000/178122 queries. users per second: 20393.3</pre>"
      ],
      "text/plain": [
       "recommendations finished on 68000/178122 queries. users per second: 20393.3"
      ]
     },
     "metadata": {},
     "output_type": "display_data"
    },
    {
     "data": {
      "text/html": [
       "<pre>recommendations finished on 69000/178122 queries. users per second: 20392.9</pre>"
      ],
      "text/plain": [
       "recommendations finished on 69000/178122 queries. users per second: 20392.9"
      ]
     },
     "metadata": {},
     "output_type": "display_data"
    },
    {
     "data": {
      "text/html": [
       "<pre>recommendations finished on 70000/178122 queries. users per second: 20409.9</pre>"
      ],
      "text/plain": [
       "recommendations finished on 70000/178122 queries. users per second: 20409.9"
      ]
     },
     "metadata": {},
     "output_type": "display_data"
    },
    {
     "data": {
      "text/html": [
       "<pre>recommendations finished on 71000/178122 queries. users per second: 20389.5</pre>"
      ],
      "text/plain": [
       "recommendations finished on 71000/178122 queries. users per second: 20389.5"
      ]
     },
     "metadata": {},
     "output_type": "display_data"
    },
    {
     "data": {
      "text/html": [
       "<pre>recommendations finished on 72000/178122 queries. users per second: 20427.5</pre>"
      ],
      "text/plain": [
       "recommendations finished on 72000/178122 queries. users per second: 20427.5"
      ]
     },
     "metadata": {},
     "output_type": "display_data"
    },
    {
     "data": {
      "text/html": [
       "<pre>recommendations finished on 73000/178122 queries. users per second: 20413.9</pre>"
      ],
      "text/plain": [
       "recommendations finished on 73000/178122 queries. users per second: 20413.9"
      ]
     },
     "metadata": {},
     "output_type": "display_data"
    },
    {
     "data": {
      "text/html": [
       "<pre>recommendations finished on 74000/178122 queries. users per second: 20459.9</pre>"
      ],
      "text/plain": [
       "recommendations finished on 74000/178122 queries. users per second: 20459.9"
      ]
     },
     "metadata": {},
     "output_type": "display_data"
    },
    {
     "data": {
      "text/html": [
       "<pre>recommendations finished on 75000/178122 queries. users per second: 20499.9</pre>"
      ],
      "text/plain": [
       "recommendations finished on 75000/178122 queries. users per second: 20499.9"
      ]
     },
     "metadata": {},
     "output_type": "display_data"
    },
    {
     "data": {
      "text/html": [
       "<pre>recommendations finished on 76000/178122 queries. users per second: 20496.9</pre>"
      ],
      "text/plain": [
       "recommendations finished on 76000/178122 queries. users per second: 20496.9"
      ]
     },
     "metadata": {},
     "output_type": "display_data"
    },
    {
     "data": {
      "text/html": [
       "<pre>recommendations finished on 77000/178122 queries. users per second: 20498.5</pre>"
      ],
      "text/plain": [
       "recommendations finished on 77000/178122 queries. users per second: 20498.5"
      ]
     },
     "metadata": {},
     "output_type": "display_data"
    },
    {
     "data": {
      "text/html": [
       "<pre>recommendations finished on 78000/178122 queries. users per second: 20490.8</pre>"
      ],
      "text/plain": [
       "recommendations finished on 78000/178122 queries. users per second: 20490.8"
      ]
     },
     "metadata": {},
     "output_type": "display_data"
    },
    {
     "data": {
      "text/html": [
       "<pre>recommendations finished on 79000/178122 queries. users per second: 20395.3</pre>"
      ],
      "text/plain": [
       "recommendations finished on 79000/178122 queries. users per second: 20395.3"
      ]
     },
     "metadata": {},
     "output_type": "display_data"
    },
    {
     "data": {
      "text/html": [
       "<pre>recommendations finished on 80000/178122 queries. users per second: 20438.7</pre>"
      ],
      "text/plain": [
       "recommendations finished on 80000/178122 queries. users per second: 20438.7"
      ]
     },
     "metadata": {},
     "output_type": "display_data"
    },
    {
     "data": {
      "text/html": [
       "<pre>recommendations finished on 81000/178122 queries. users per second: 20461.6</pre>"
      ],
      "text/plain": [
       "recommendations finished on 81000/178122 queries. users per second: 20461.6"
      ]
     },
     "metadata": {},
     "output_type": "display_data"
    },
    {
     "data": {
      "text/html": [
       "<pre>recommendations finished on 82000/178122 queries. users per second: 20531.9</pre>"
      ],
      "text/plain": [
       "recommendations finished on 82000/178122 queries. users per second: 20531.9"
      ]
     },
     "metadata": {},
     "output_type": "display_data"
    },
    {
     "data": {
      "text/html": [
       "<pre>recommendations finished on 83000/178122 queries. users per second: 20551.1</pre>"
      ],
      "text/plain": [
       "recommendations finished on 83000/178122 queries. users per second: 20551.1"
      ]
     },
     "metadata": {},
     "output_type": "display_data"
    },
    {
     "data": {
      "text/html": [
       "<pre>recommendations finished on 84000/178122 queries. users per second: 20571</pre>"
      ],
      "text/plain": [
       "recommendations finished on 84000/178122 queries. users per second: 20571"
      ]
     },
     "metadata": {},
     "output_type": "display_data"
    },
    {
     "data": {
      "text/html": [
       "<pre>recommendations finished on 85000/178122 queries. users per second: 20573.7</pre>"
      ],
      "text/plain": [
       "recommendations finished on 85000/178122 queries. users per second: 20573.7"
      ]
     },
     "metadata": {},
     "output_type": "display_data"
    },
    {
     "data": {
      "text/html": [
       "<pre>recommendations finished on 86000/178122 queries. users per second: 20587.2</pre>"
      ],
      "text/plain": [
       "recommendations finished on 86000/178122 queries. users per second: 20587.2"
      ]
     },
     "metadata": {},
     "output_type": "display_data"
    },
    {
     "data": {
      "text/html": [
       "<pre>recommendations finished on 87000/178122 queries. users per second: 20596.9</pre>"
      ],
      "text/plain": [
       "recommendations finished on 87000/178122 queries. users per second: 20596.9"
      ]
     },
     "metadata": {},
     "output_type": "display_data"
    },
    {
     "data": {
      "text/html": [
       "<pre>recommendations finished on 88000/178122 queries. users per second: 20605.3</pre>"
      ],
      "text/plain": [
       "recommendations finished on 88000/178122 queries. users per second: 20605.3"
      ]
     },
     "metadata": {},
     "output_type": "display_data"
    },
    {
     "data": {
      "text/html": [
       "<pre>recommendations finished on 89000/178122 queries. users per second: 20643.4</pre>"
      ],
      "text/plain": [
       "recommendations finished on 89000/178122 queries. users per second: 20643.4"
      ]
     },
     "metadata": {},
     "output_type": "display_data"
    },
    {
     "data": {
      "text/html": [
       "<pre>recommendations finished on 90000/178122 queries. users per second: 20680.2</pre>"
      ],
      "text/plain": [
       "recommendations finished on 90000/178122 queries. users per second: 20680.2"
      ]
     },
     "metadata": {},
     "output_type": "display_data"
    },
    {
     "data": {
      "text/html": [
       "<pre>recommendations finished on 91000/178122 queries. users per second: 20699.2</pre>"
      ],
      "text/plain": [
       "recommendations finished on 91000/178122 queries. users per second: 20699.2"
      ]
     },
     "metadata": {},
     "output_type": "display_data"
    },
    {
     "data": {
      "text/html": [
       "<pre>recommendations finished on 92000/178122 queries. users per second: 20718.2</pre>"
      ],
      "text/plain": [
       "recommendations finished on 92000/178122 queries. users per second: 20718.2"
      ]
     },
     "metadata": {},
     "output_type": "display_data"
    },
    {
     "data": {
      "text/html": [
       "<pre>recommendations finished on 93000/178122 queries. users per second: 20771.7</pre>"
      ],
      "text/plain": [
       "recommendations finished on 93000/178122 queries. users per second: 20771.7"
      ]
     },
     "metadata": {},
     "output_type": "display_data"
    },
    {
     "data": {
      "text/html": [
       "<pre>recommendations finished on 94000/178122 queries. users per second: 20809.4</pre>"
      ],
      "text/plain": [
       "recommendations finished on 94000/178122 queries. users per second: 20809.4"
      ]
     },
     "metadata": {},
     "output_type": "display_data"
    },
    {
     "data": {
      "text/html": [
       "<pre>recommendations finished on 95000/178122 queries. users per second: 20844.2</pre>"
      ],
      "text/plain": [
       "recommendations finished on 95000/178122 queries. users per second: 20844.2"
      ]
     },
     "metadata": {},
     "output_type": "display_data"
    },
    {
     "data": {
      "text/html": [
       "<pre>recommendations finished on 96000/178122 queries. users per second: 20819</pre>"
      ],
      "text/plain": [
       "recommendations finished on 96000/178122 queries. users per second: 20819"
      ]
     },
     "metadata": {},
     "output_type": "display_data"
    },
    {
     "data": {
      "text/html": [
       "<pre>recommendations finished on 97000/178122 queries. users per second: 20829</pre>"
      ],
      "text/plain": [
       "recommendations finished on 97000/178122 queries. users per second: 20829"
      ]
     },
     "metadata": {},
     "output_type": "display_data"
    },
    {
     "data": {
      "text/html": [
       "<pre>recommendations finished on 98000/178122 queries. users per second: 20823.7</pre>"
      ],
      "text/plain": [
       "recommendations finished on 98000/178122 queries. users per second: 20823.7"
      ]
     },
     "metadata": {},
     "output_type": "display_data"
    },
    {
     "data": {
      "text/html": [
       "<pre>recommendations finished on 99000/178122 queries. users per second: 20814.4</pre>"
      ],
      "text/plain": [
       "recommendations finished on 99000/178122 queries. users per second: 20814.4"
      ]
     },
     "metadata": {},
     "output_type": "display_data"
    },
    {
     "data": {
      "text/html": [
       "<pre>recommendations finished on 100000/178122 queries. users per second: 20809.5</pre>"
      ],
      "text/plain": [
       "recommendations finished on 100000/178122 queries. users per second: 20809.5"
      ]
     },
     "metadata": {},
     "output_type": "display_data"
    },
    {
     "data": {
      "text/html": [
       "<pre>recommendations finished on 101000/178122 queries. users per second: 20800.3</pre>"
      ],
      "text/plain": [
       "recommendations finished on 101000/178122 queries. users per second: 20800.3"
      ]
     },
     "metadata": {},
     "output_type": "display_data"
    },
    {
     "data": {
      "text/html": [
       "<pre>recommendations finished on 102000/178122 queries. users per second: 20767.9</pre>"
      ],
      "text/plain": [
       "recommendations finished on 102000/178122 queries. users per second: 20767.9"
      ]
     },
     "metadata": {},
     "output_type": "display_data"
    },
    {
     "data": {
      "text/html": [
       "<pre>recommendations finished on 103000/178122 queries. users per second: 20777</pre>"
      ],
      "text/plain": [
       "recommendations finished on 103000/178122 queries. users per second: 20777"
      ]
     },
     "metadata": {},
     "output_type": "display_data"
    },
    {
     "data": {
      "text/html": [
       "<pre>recommendations finished on 104000/178122 queries. users per second: 20804.7</pre>"
      ],
      "text/plain": [
       "recommendations finished on 104000/178122 queries. users per second: 20804.7"
      ]
     },
     "metadata": {},
     "output_type": "display_data"
    },
    {
     "data": {
      "text/html": [
       "<pre>recommendations finished on 105000/178122 queries. users per second: 20835.1</pre>"
      ],
      "text/plain": [
       "recommendations finished on 105000/178122 queries. users per second: 20835.1"
      ]
     },
     "metadata": {},
     "output_type": "display_data"
    },
    {
     "data": {
      "text/html": [
       "<pre>recommendations finished on 106000/178122 queries. users per second: 20825.8</pre>"
      ],
      "text/plain": [
       "recommendations finished on 106000/178122 queries. users per second: 20825.8"
      ]
     },
     "metadata": {},
     "output_type": "display_data"
    },
    {
     "data": {
      "text/html": [
       "<pre>recommendations finished on 107000/178122 queries. users per second: 20817.4</pre>"
      ],
      "text/plain": [
       "recommendations finished on 107000/178122 queries. users per second: 20817.4"
      ]
     },
     "metadata": {},
     "output_type": "display_data"
    },
    {
     "data": {
      "text/html": [
       "<pre>recommendations finished on 108000/178122 queries. users per second: 20835.8</pre>"
      ],
      "text/plain": [
       "recommendations finished on 108000/178122 queries. users per second: 20835.8"
      ]
     },
     "metadata": {},
     "output_type": "display_data"
    },
    {
     "data": {
      "text/html": [
       "<pre>recommendations finished on 109000/178122 queries. users per second: 20826.8</pre>"
      ],
      "text/plain": [
       "recommendations finished on 109000/178122 queries. users per second: 20826.8"
      ]
     },
     "metadata": {},
     "output_type": "display_data"
    },
    {
     "data": {
      "text/html": [
       "<pre>recommendations finished on 110000/178122 queries. users per second: 20839.1</pre>"
      ],
      "text/plain": [
       "recommendations finished on 110000/178122 queries. users per second: 20839.1"
      ]
     },
     "metadata": {},
     "output_type": "display_data"
    },
    {
     "data": {
      "text/html": [
       "<pre>recommendations finished on 111000/178122 queries. users per second: 20792.2</pre>"
      ],
      "text/plain": [
       "recommendations finished on 111000/178122 queries. users per second: 20792.2"
      ]
     },
     "metadata": {},
     "output_type": "display_data"
    },
    {
     "data": {
      "text/html": [
       "<pre>recommendations finished on 112000/178122 queries. users per second: 20713.9</pre>"
      ],
      "text/plain": [
       "recommendations finished on 112000/178122 queries. users per second: 20713.9"
      ]
     },
     "metadata": {},
     "output_type": "display_data"
    },
    {
     "data": {
      "text/html": [
       "<pre>recommendations finished on 113000/178122 queries. users per second: 20641.9</pre>"
      ],
      "text/plain": [
       "recommendations finished on 113000/178122 queries. users per second: 20641.9"
      ]
     },
     "metadata": {},
     "output_type": "display_data"
    },
    {
     "data": {
      "text/html": [
       "<pre>recommendations finished on 114000/178122 queries. users per second: 20573.7</pre>"
      ],
      "text/plain": [
       "recommendations finished on 114000/178122 queries. users per second: 20573.7"
      ]
     },
     "metadata": {},
     "output_type": "display_data"
    },
    {
     "data": {
      "text/html": [
       "<pre>recommendations finished on 115000/178122 queries. users per second: 20516.8</pre>"
      ],
      "text/plain": [
       "recommendations finished on 115000/178122 queries. users per second: 20516.8"
      ]
     },
     "metadata": {},
     "output_type": "display_data"
    },
    {
     "data": {
      "text/html": [
       "<pre>recommendations finished on 116000/178122 queries. users per second: 20476.7</pre>"
      ],
      "text/plain": [
       "recommendations finished on 116000/178122 queries. users per second: 20476.7"
      ]
     },
     "metadata": {},
     "output_type": "display_data"
    },
    {
     "data": {
      "text/html": [
       "<pre>recommendations finished on 117000/178122 queries. users per second: 20392.6</pre>"
      ],
      "text/plain": [
       "recommendations finished on 117000/178122 queries. users per second: 20392.6"
      ]
     },
     "metadata": {},
     "output_type": "display_data"
    },
    {
     "data": {
      "text/html": [
       "<pre>recommendations finished on 118000/178122 queries. users per second: 20201.4</pre>"
      ],
      "text/plain": [
       "recommendations finished on 118000/178122 queries. users per second: 20201.4"
      ]
     },
     "metadata": {},
     "output_type": "display_data"
    },
    {
     "data": {
      "text/html": [
       "<pre>recommendations finished on 119000/178122 queries. users per second: 20125.4</pre>"
      ],
      "text/plain": [
       "recommendations finished on 119000/178122 queries. users per second: 20125.4"
      ]
     },
     "metadata": {},
     "output_type": "display_data"
    },
    {
     "data": {
      "text/html": [
       "<pre>recommendations finished on 120000/178122 queries. users per second: 20093.4</pre>"
      ],
      "text/plain": [
       "recommendations finished on 120000/178122 queries. users per second: 20093.4"
      ]
     },
     "metadata": {},
     "output_type": "display_data"
    },
    {
     "data": {
      "text/html": [
       "<pre>recommendations finished on 121000/178122 queries. users per second: 20061.7</pre>"
      ],
      "text/plain": [
       "recommendations finished on 121000/178122 queries. users per second: 20061.7"
      ]
     },
     "metadata": {},
     "output_type": "display_data"
    },
    {
     "data": {
      "text/html": [
       "<pre>recommendations finished on 122000/178122 queries. users per second: 19964.1</pre>"
      ],
      "text/plain": [
       "recommendations finished on 122000/178122 queries. users per second: 19964.1"
      ]
     },
     "metadata": {},
     "output_type": "display_data"
    },
    {
     "data": {
      "text/html": [
       "<pre>recommendations finished on 123000/178122 queries. users per second: 19900.5</pre>"
      ],
      "text/plain": [
       "recommendations finished on 123000/178122 queries. users per second: 19900.5"
      ]
     },
     "metadata": {},
     "output_type": "display_data"
    },
    {
     "data": {
      "text/html": [
       "<pre>recommendations finished on 124000/178122 queries. users per second: 19764.5</pre>"
      ],
      "text/plain": [
       "recommendations finished on 124000/178122 queries. users per second: 19764.5"
      ]
     },
     "metadata": {},
     "output_type": "display_data"
    },
    {
     "data": {
      "text/html": [
       "<pre>recommendations finished on 125000/178122 queries. users per second: 19770.8</pre>"
      ],
      "text/plain": [
       "recommendations finished on 125000/178122 queries. users per second: 19770.8"
      ]
     },
     "metadata": {},
     "output_type": "display_data"
    },
    {
     "data": {
      "text/html": [
       "<pre>recommendations finished on 126000/178122 queries. users per second: 19790.1</pre>"
      ],
      "text/plain": [
       "recommendations finished on 126000/178122 queries. users per second: 19790.1"
      ]
     },
     "metadata": {},
     "output_type": "display_data"
    },
    {
     "data": {
      "text/html": [
       "<pre>recommendations finished on 127000/178122 queries. users per second: 19790</pre>"
      ],
      "text/plain": [
       "recommendations finished on 127000/178122 queries. users per second: 19790"
      ]
     },
     "metadata": {},
     "output_type": "display_data"
    },
    {
     "data": {
      "text/html": [
       "<pre>recommendations finished on 128000/178122 queries. users per second: 19809.3</pre>"
      ],
      "text/plain": [
       "recommendations finished on 128000/178122 queries. users per second: 19809.3"
      ]
     },
     "metadata": {},
     "output_type": "display_data"
    },
    {
     "data": {
      "text/html": [
       "<pre>recommendations finished on 129000/178122 queries. users per second: 19821.8</pre>"
      ],
      "text/plain": [
       "recommendations finished on 129000/178122 queries. users per second: 19821.8"
      ]
     },
     "metadata": {},
     "output_type": "display_data"
    },
    {
     "data": {
      "text/html": [
       "<pre>recommendations finished on 130000/178122 queries. users per second: 19840.4</pre>"
      ],
      "text/plain": [
       "recommendations finished on 130000/178122 queries. users per second: 19840.4"
      ]
     },
     "metadata": {},
     "output_type": "display_data"
    },
    {
     "data": {
      "text/html": [
       "<pre>recommendations finished on 131000/178122 queries. users per second: 19857.9</pre>"
      ],
      "text/plain": [
       "recommendations finished on 131000/178122 queries. users per second: 19857.9"
      ]
     },
     "metadata": {},
     "output_type": "display_data"
    },
    {
     "data": {
      "text/html": [
       "<pre>recommendations finished on 132000/178122 queries. users per second: 19892.8</pre>"
      ],
      "text/plain": [
       "recommendations finished on 132000/178122 queries. users per second: 19892.8"
      ]
     },
     "metadata": {},
     "output_type": "display_data"
    },
    {
     "data": {
      "text/html": [
       "<pre>recommendations finished on 133000/178122 queries. users per second: 19913.5</pre>"
      ],
      "text/plain": [
       "recommendations finished on 133000/178122 queries. users per second: 19913.5"
      ]
     },
     "metadata": {},
     "output_type": "display_data"
    },
    {
     "data": {
      "text/html": [
       "<pre>recommendations finished on 134000/178122 queries. users per second: 19943.2</pre>"
      ],
      "text/plain": [
       "recommendations finished on 134000/178122 queries. users per second: 19943.2"
      ]
     },
     "metadata": {},
     "output_type": "display_data"
    },
    {
     "data": {
      "text/html": [
       "<pre>recommendations finished on 135000/178122 queries. users per second: 19949</pre>"
      ],
      "text/plain": [
       "recommendations finished on 135000/178122 queries. users per second: 19949"
      ]
     },
     "metadata": {},
     "output_type": "display_data"
    },
    {
     "data": {
      "text/html": [
       "<pre>recommendations finished on 136000/178122 queries. users per second: 19966.9</pre>"
      ],
      "text/plain": [
       "recommendations finished on 136000/178122 queries. users per second: 19966.9"
      ]
     },
     "metadata": {},
     "output_type": "display_data"
    },
    {
     "data": {
      "text/html": [
       "<pre>recommendations finished on 137000/178122 queries. users per second: 19980.1</pre>"
      ],
      "text/plain": [
       "recommendations finished on 137000/178122 queries. users per second: 19980.1"
      ]
     },
     "metadata": {},
     "output_type": "display_data"
    },
    {
     "data": {
      "text/html": [
       "<pre>recommendations finished on 138000/178122 queries. users per second: 20014.1</pre>"
      ],
      "text/plain": [
       "recommendations finished on 138000/178122 queries. users per second: 20014.1"
      ]
     },
     "metadata": {},
     "output_type": "display_data"
    },
    {
     "data": {
      "text/html": [
       "<pre>recommendations finished on 139000/178122 queries. users per second: 20023.4</pre>"
      ],
      "text/plain": [
       "recommendations finished on 139000/178122 queries. users per second: 20023.4"
      ]
     },
     "metadata": {},
     "output_type": "display_data"
    },
    {
     "data": {
      "text/html": [
       "<pre>recommendations finished on 140000/178122 queries. users per second: 20055.9</pre>"
      ],
      "text/plain": [
       "recommendations finished on 140000/178122 queries. users per second: 20055.9"
      ]
     },
     "metadata": {},
     "output_type": "display_data"
    },
    {
     "data": {
      "text/html": [
       "<pre>recommendations finished on 141000/178122 queries. users per second: 20070.5</pre>"
      ],
      "text/plain": [
       "recommendations finished on 141000/178122 queries. users per second: 20070.5"
      ]
     },
     "metadata": {},
     "output_type": "display_data"
    },
    {
     "data": {
      "text/html": [
       "<pre>recommendations finished on 142000/178122 queries. users per second: 20097.5</pre>"
      ],
      "text/plain": [
       "recommendations finished on 142000/178122 queries. users per second: 20097.5"
      ]
     },
     "metadata": {},
     "output_type": "display_data"
    },
    {
     "data": {
      "text/html": [
       "<pre>recommendations finished on 143000/178122 queries. users per second: 20113</pre>"
      ],
      "text/plain": [
       "recommendations finished on 143000/178122 queries. users per second: 20113"
      ]
     },
     "metadata": {},
     "output_type": "display_data"
    },
    {
     "data": {
      "text/html": [
       "<pre>recommendations finished on 144000/178122 queries. users per second: 20138.9</pre>"
      ],
      "text/plain": [
       "recommendations finished on 144000/178122 queries. users per second: 20138.9"
      ]
     },
     "metadata": {},
     "output_type": "display_data"
    },
    {
     "data": {
      "text/html": [
       "<pre>recommendations finished on 145000/178122 queries. users per second: 20164.8</pre>"
      ],
      "text/plain": [
       "recommendations finished on 145000/178122 queries. users per second: 20164.8"
      ]
     },
     "metadata": {},
     "output_type": "display_data"
    },
    {
     "data": {
      "text/html": [
       "<pre>recommendations finished on 146000/178122 queries. users per second: 20177.4</pre>"
      ],
      "text/plain": [
       "recommendations finished on 146000/178122 queries. users per second: 20177.4"
      ]
     },
     "metadata": {},
     "output_type": "display_data"
    },
    {
     "data": {
      "text/html": [
       "<pre>recommendations finished on 147000/178122 queries. users per second: 20142.2</pre>"
      ],
      "text/plain": [
       "recommendations finished on 147000/178122 queries. users per second: 20142.2"
      ]
     },
     "metadata": {},
     "output_type": "display_data"
    },
    {
     "data": {
      "text/html": [
       "<pre>recommendations finished on 148000/178122 queries. users per second: 20059.8</pre>"
      ],
      "text/plain": [
       "recommendations finished on 148000/178122 queries. users per second: 20059.8"
      ]
     },
     "metadata": {},
     "output_type": "display_data"
    },
    {
     "data": {
      "text/html": [
       "<pre>recommendations finished on 149000/178122 queries. users per second: 20081.8</pre>"
      ],
      "text/plain": [
       "recommendations finished on 149000/178122 queries. users per second: 20081.8"
      ]
     },
     "metadata": {},
     "output_type": "display_data"
    },
    {
     "data": {
      "text/html": [
       "<pre>recommendations finished on 150000/178122 queries. users per second: 20097.3</pre>"
      ],
      "text/plain": [
       "recommendations finished on 150000/178122 queries. users per second: 20097.3"
      ]
     },
     "metadata": {},
     "output_type": "display_data"
    },
    {
     "data": {
      "text/html": [
       "<pre>recommendations finished on 151000/178122 queries. users per second: 20120.8</pre>"
      ],
      "text/plain": [
       "recommendations finished on 151000/178122 queries. users per second: 20120.8"
      ]
     },
     "metadata": {},
     "output_type": "display_data"
    },
    {
     "data": {
      "text/html": [
       "<pre>recommendations finished on 152000/178122 queries. users per second: 20137.5</pre>"
      ],
      "text/plain": [
       "recommendations finished on 152000/178122 queries. users per second: 20137.5"
      ]
     },
     "metadata": {},
     "output_type": "display_data"
    },
    {
     "data": {
      "text/html": [
       "<pre>recommendations finished on 153000/178122 queries. users per second: 20143.1</pre>"
      ],
      "text/plain": [
       "recommendations finished on 153000/178122 queries. users per second: 20143.1"
      ]
     },
     "metadata": {},
     "output_type": "display_data"
    },
    {
     "data": {
      "text/html": [
       "<pre>recommendations finished on 154000/178122 queries. users per second: 20175.1</pre>"
      ],
      "text/plain": [
       "recommendations finished on 154000/178122 queries. users per second: 20175.1"
      ]
     },
     "metadata": {},
     "output_type": "display_data"
    },
    {
     "data": {
      "text/html": [
       "<pre>recommendations finished on 155000/178122 queries. users per second: 20193.4</pre>"
      ],
      "text/plain": [
       "recommendations finished on 155000/178122 queries. users per second: 20193.4"
      ]
     },
     "metadata": {},
     "output_type": "display_data"
    },
    {
     "data": {
      "text/html": [
       "<pre>recommendations finished on 156000/178122 queries. users per second: 20220.3</pre>"
      ],
      "text/plain": [
       "recommendations finished on 156000/178122 queries. users per second: 20220.3"
      ]
     },
     "metadata": {},
     "output_type": "display_data"
    },
    {
     "data": {
      "text/html": [
       "<pre>recommendations finished on 157000/178122 queries. users per second: 20233.5</pre>"
      ],
      "text/plain": [
       "recommendations finished on 157000/178122 queries. users per second: 20233.5"
      ]
     },
     "metadata": {},
     "output_type": "display_data"
    },
    {
     "data": {
      "text/html": [
       "<pre>recommendations finished on 158000/178122 queries. users per second: 20232.6</pre>"
      ],
      "text/plain": [
       "recommendations finished on 158000/178122 queries. users per second: 20232.6"
      ]
     },
     "metadata": {},
     "output_type": "display_data"
    },
    {
     "data": {
      "text/html": [
       "<pre>recommendations finished on 159000/178122 queries. users per second: 20246.1</pre>"
      ],
      "text/plain": [
       "recommendations finished on 159000/178122 queries. users per second: 20246.1"
      ]
     },
     "metadata": {},
     "output_type": "display_data"
    },
    {
     "data": {
      "text/html": [
       "<pre>recommendations finished on 160000/178122 queries. users per second: 20258.4</pre>"
      ],
      "text/plain": [
       "recommendations finished on 160000/178122 queries. users per second: 20258.4"
      ]
     },
     "metadata": {},
     "output_type": "display_data"
    },
    {
     "data": {
      "text/html": [
       "<pre>recommendations finished on 161000/178122 queries. users per second: 20271.1</pre>"
      ],
      "text/plain": [
       "recommendations finished on 161000/178122 queries. users per second: 20271.1"
      ]
     },
     "metadata": {},
     "output_type": "display_data"
    },
    {
     "data": {
      "text/html": [
       "<pre>recommendations finished on 162000/178122 queries. users per second: 20278.7</pre>"
      ],
      "text/plain": [
       "recommendations finished on 162000/178122 queries. users per second: 20278.7"
      ]
     },
     "metadata": {},
     "output_type": "display_data"
    },
    {
     "data": {
      "text/html": [
       "<pre>recommendations finished on 163000/178122 queries. users per second: 20239.8</pre>"
      ],
      "text/plain": [
       "recommendations finished on 163000/178122 queries. users per second: 20239.8"
      ]
     },
     "metadata": {},
     "output_type": "display_data"
    },
    {
     "data": {
      "text/html": [
       "<pre>recommendations finished on 164000/178122 queries. users per second: 20194.2</pre>"
      ],
      "text/plain": [
       "recommendations finished on 164000/178122 queries. users per second: 20194.2"
      ]
     },
     "metadata": {},
     "output_type": "display_data"
    },
    {
     "data": {
      "text/html": [
       "<pre>recommendations finished on 165000/178122 queries. users per second: 20148.5</pre>"
      ],
      "text/plain": [
       "recommendations finished on 165000/178122 queries. users per second: 20148.5"
      ]
     },
     "metadata": {},
     "output_type": "display_data"
    },
    {
     "data": {
      "text/html": [
       "<pre>recommendations finished on 166000/178122 queries. users per second: 20094.6</pre>"
      ],
      "text/plain": [
       "recommendations finished on 166000/178122 queries. users per second: 20094.6"
      ]
     },
     "metadata": {},
     "output_type": "display_data"
    },
    {
     "data": {
      "text/html": [
       "<pre>recommendations finished on 167000/178122 queries. users per second: 20055</pre>"
      ],
      "text/plain": [
       "recommendations finished on 167000/178122 queries. users per second: 20055"
      ]
     },
     "metadata": {},
     "output_type": "display_data"
    },
    {
     "data": {
      "text/html": [
       "<pre>recommendations finished on 168000/178122 queries. users per second: 20010.2</pre>"
      ],
      "text/plain": [
       "recommendations finished on 168000/178122 queries. users per second: 20010.2"
      ]
     },
     "metadata": {},
     "output_type": "display_data"
    },
    {
     "data": {
      "text/html": [
       "<pre>recommendations finished on 169000/178122 queries. users per second: 19798.6</pre>"
      ],
      "text/plain": [
       "recommendations finished on 169000/178122 queries. users per second: 19798.6"
      ]
     },
     "metadata": {},
     "output_type": "display_data"
    },
    {
     "data": {
      "text/html": [
       "<pre>recommendations finished on 170000/178122 queries. users per second: 19644.9</pre>"
      ],
      "text/plain": [
       "recommendations finished on 170000/178122 queries. users per second: 19644.9"
      ]
     },
     "metadata": {},
     "output_type": "display_data"
    },
    {
     "data": {
      "text/html": [
       "<pre>recommendations finished on 171000/178122 queries. users per second: 19568.2</pre>"
      ],
      "text/plain": [
       "recommendations finished on 171000/178122 queries. users per second: 19568.2"
      ]
     },
     "metadata": {},
     "output_type": "display_data"
    },
    {
     "data": {
      "text/html": [
       "<pre>recommendations finished on 172000/178122 queries. users per second: 19526.3</pre>"
      ],
      "text/plain": [
       "recommendations finished on 172000/178122 queries. users per second: 19526.3"
      ]
     },
     "metadata": {},
     "output_type": "display_data"
    },
    {
     "data": {
      "text/html": [
       "<pre>recommendations finished on 173000/178122 queries. users per second: 19481.3</pre>"
      ],
      "text/plain": [
       "recommendations finished on 173000/178122 queries. users per second: 19481.3"
      ]
     },
     "metadata": {},
     "output_type": "display_data"
    },
    {
     "data": {
      "text/html": [
       "<pre>recommendations finished on 174000/178122 queries. users per second: 19452.8</pre>"
      ],
      "text/plain": [
       "recommendations finished on 174000/178122 queries. users per second: 19452.8"
      ]
     },
     "metadata": {},
     "output_type": "display_data"
    },
    {
     "data": {
      "text/html": [
       "<pre>recommendations finished on 175000/178122 queries. users per second: 19408.1</pre>"
      ],
      "text/plain": [
       "recommendations finished on 175000/178122 queries. users per second: 19408.1"
      ]
     },
     "metadata": {},
     "output_type": "display_data"
    },
    {
     "data": {
      "text/html": [
       "<pre>recommendations finished on 176000/178122 queries. users per second: 19331.9</pre>"
      ],
      "text/plain": [
       "recommendations finished on 176000/178122 queries. users per second: 19331.9"
      ]
     },
     "metadata": {},
     "output_type": "display_data"
    },
    {
     "data": {
      "text/html": [
       "<pre>recommendations finished on 177000/178122 queries. users per second: 19273.7</pre>"
      ],
      "text/plain": [
       "recommendations finished on 177000/178122 queries. users per second: 19273.7"
      ]
     },
     "metadata": {},
     "output_type": "display_data"
    },
    {
     "data": {
      "text/html": [
       "<pre>recommendations finished on 178000/178122 queries. users per second: 19238.2</pre>"
      ],
      "text/plain": [
       "recommendations finished on 178000/178122 queries. users per second: 19238.2"
      ]
     },
     "metadata": {},
     "output_type": "display_data"
    },
    {
     "name": "stdout",
     "output_type": "stream",
     "text": [
      "+------------+---------+----------------+------+\n",
      "|  Customer  | Product |     score      | rank |\n",
      "+------------+---------+----------------+------+\n",
      "| CC20190310 |   7_3   | 0.429502633929 |  1   |\n",
      "| CC20190310 |   4_8   | 0.334763519248 |  2   |\n",
      "| CC20190310 |   2_4   | 0.318219643239 |  3   |\n",
      "| CC20190310 |   4_19  | 0.29304766411  |  4   |\n",
      "| CC20190310 |   7_9   | 0.289801733536 |  5   |\n",
      "| CC20190310 |   5_4   | 0.287754414374 |  6   |\n",
      "| CC20190310 |   0_14  | 0.262947566677 |  7   |\n",
      "| CC20190310 |   2_19  | 0.253219620875 |  8   |\n",
      "| CC20190310 |   4_6   | 0.247925456853 |  9   |\n",
      "| CC20190310 |   1_5   | 0.246392171634 |  10  |\n",
      "| CC20190310 |   7_3   | 0.429502633929 |  1   |\n",
      "| CC20190310 |   4_8   | 0.334763519248 |  2   |\n",
      "| CC20190310 |   2_4   | 0.318219643239 |  3   |\n",
      "| CC20190310 |   4_19  | 0.29304766411  |  4   |\n",
      "| CC20190310 |   7_9   | 0.289801733536 |  5   |\n",
      "| CC20190310 |   5_4   | 0.287754414374 |  6   |\n",
      "| CC20190310 |   0_14  | 0.262947566677 |  7   |\n",
      "| CC20190310 |   2_19  | 0.253219620875 |  8   |\n",
      "| CC20190310 |   4_6   | 0.247925456853 |  9   |\n",
      "| CC20190310 |   1_5   | 0.246392171634 |  10  |\n",
      "| CC20190310 |   7_3   | 0.429502633929 |  1   |\n",
      "| CC20190310 |   4_8   | 0.334763519248 |  2   |\n",
      "| CC20190310 |   2_4   | 0.318219643239 |  3   |\n",
      "| CC20190310 |   4_19  | 0.29304766411  |  4   |\n",
      "| CC20190310 |   7_9   | 0.289801733536 |  5   |\n",
      "| CC20190310 |   5_4   | 0.287754414374 |  6   |\n",
      "| CC20190310 |   0_14  | 0.262947566677 |  7   |\n",
      "| CC20190310 |   2_19  | 0.253219620875 |  8   |\n",
      "| CC20190310 |   4_6   | 0.247925456853 |  9   |\n",
      "| CC20190310 |   1_5   | 0.246392171634 |  10  |\n",
      "+------------+---------+----------------+------+\n",
      "[1781220 rows x 4 columns]\n",
      "\n"
     ]
    }
   ],
   "source": [
    "# Using SecNumF dummy\n",
    "\n",
    "name = 'cosine'\n",
    "target = 'SecNumF_Dummy'\n",
    "cos_dummy = model(train_data_dummy, name, user_id, item_id, target, users_to_recommend, n_rec, n_display)"
   ]
  },
  {
   "cell_type": "code",
   "execution_count": 25,
   "metadata": {
    "collapsed": false,
    "deletable": true,
    "editable": true
   },
   "outputs": [
    {
     "data": {
      "text/html": [
       "<pre>Preparing data set.</pre>"
      ],
      "text/plain": [
       "Preparing data set."
      ]
     },
     "metadata": {},
     "output_type": "display_data"
    },
    {
     "data": {
      "text/html": [
       "<pre>    Data has 142497 observations with 1436 users and 235 items.</pre>"
      ],
      "text/plain": [
       "    Data has 142497 observations with 1436 users and 235 items."
      ]
     },
     "metadata": {},
     "output_type": "display_data"
    },
    {
     "data": {
      "text/html": [
       "<pre>    Data prepared in: 0.284367s</pre>"
      ],
      "text/plain": [
       "    Data prepared in: 0.284367s"
      ]
     },
     "metadata": {},
     "output_type": "display_data"
    },
    {
     "data": {
      "text/html": [
       "<pre>Training model from provided data.</pre>"
      ],
      "text/plain": [
       "Training model from provided data."
      ]
     },
     "metadata": {},
     "output_type": "display_data"
    },
    {
     "data": {
      "text/html": [
       "<pre>Gathering per-item and per-user statistics.</pre>"
      ],
      "text/plain": [
       "Gathering per-item and per-user statistics."
      ]
     },
     "metadata": {},
     "output_type": "display_data"
    },
    {
     "data": {
      "text/html": [
       "<pre>+--------------------------------+------------+</pre>"
      ],
      "text/plain": [
       "+--------------------------------+------------+"
      ]
     },
     "metadata": {},
     "output_type": "display_data"
    },
    {
     "data": {
      "text/html": [
       "<pre>| Elapsed Time (Item Statistics) | % Complete |</pre>"
      ],
      "text/plain": [
       "| Elapsed Time (Item Statistics) | % Complete |"
      ]
     },
     "metadata": {},
     "output_type": "display_data"
    },
    {
     "data": {
      "text/html": [
       "<pre>+--------------------------------+------------+</pre>"
      ],
      "text/plain": [
       "+--------------------------------+------------+"
      ]
     },
     "metadata": {},
     "output_type": "display_data"
    },
    {
     "data": {
      "text/html": [
       "<pre>| 4.707ms                        | 69.5       |</pre>"
      ],
      "text/plain": [
       "| 4.707ms                        | 69.5       |"
      ]
     },
     "metadata": {},
     "output_type": "display_data"
    },
    {
     "data": {
      "text/html": [
       "<pre>| 5.479ms                        | 100        |</pre>"
      ],
      "text/plain": [
       "| 5.479ms                        | 100        |"
      ]
     },
     "metadata": {},
     "output_type": "display_data"
    },
    {
     "data": {
      "text/html": [
       "<pre>+--------------------------------+------------+</pre>"
      ],
      "text/plain": [
       "+--------------------------------+------------+"
      ]
     },
     "metadata": {},
     "output_type": "display_data"
    },
    {
     "data": {
      "text/html": [
       "<pre>Setting up lookup tables.</pre>"
      ],
      "text/plain": [
       "Setting up lookup tables."
      ]
     },
     "metadata": {},
     "output_type": "display_data"
    },
    {
     "data": {
      "text/html": [
       "<pre>Processing data in one pass using dense lookup tables.</pre>"
      ],
      "text/plain": [
       "Processing data in one pass using dense lookup tables."
      ]
     },
     "metadata": {},
     "output_type": "display_data"
    },
    {
     "data": {
      "text/html": [
       "<pre>+-------------------------------------+------------------+-----------------+</pre>"
      ],
      "text/plain": [
       "+-------------------------------------+------------------+-----------------+"
      ]
     },
     "metadata": {},
     "output_type": "display_data"
    },
    {
     "data": {
      "text/html": [
       "<pre>| Elapsed Time (Constructing Lookups) | Total % Complete | Items Processed |</pre>"
      ],
      "text/plain": [
       "| Elapsed Time (Constructing Lookups) | Total % Complete | Items Processed |"
      ]
     },
     "metadata": {},
     "output_type": "display_data"
    },
    {
     "data": {
      "text/html": [
       "<pre>+-------------------------------------+------------------+-----------------+</pre>"
      ],
      "text/plain": [
       "+-------------------------------------+------------------+-----------------+"
      ]
     },
     "metadata": {},
     "output_type": "display_data"
    },
    {
     "data": {
      "text/html": [
       "<pre>| 6.67ms                              | 0                | 0               |</pre>"
      ],
      "text/plain": [
       "| 6.67ms                              | 0                | 0               |"
      ]
     },
     "metadata": {},
     "output_type": "display_data"
    },
    {
     "data": {
      "text/html": [
       "<pre>| 88.174ms                            | 100              | 235             |</pre>"
      ],
      "text/plain": [
       "| 88.174ms                            | 100              | 235             |"
      ]
     },
     "metadata": {},
     "output_type": "display_data"
    },
    {
     "data": {
      "text/html": [
       "<pre>+-------------------------------------+------------------+-----------------+</pre>"
      ],
      "text/plain": [
       "+-------------------------------------+------------------+-----------------+"
      ]
     },
     "metadata": {},
     "output_type": "display_data"
    },
    {
     "data": {
      "text/html": [
       "<pre>Finalizing lookup tables.</pre>"
      ],
      "text/plain": [
       "Finalizing lookup tables."
      ]
     },
     "metadata": {},
     "output_type": "display_data"
    },
    {
     "data": {
      "text/html": [
       "<pre>Generating candidate set for working with new users.</pre>"
      ],
      "text/plain": [
       "Generating candidate set for working with new users."
      ]
     },
     "metadata": {},
     "output_type": "display_data"
    },
    {
     "data": {
      "text/html": [
       "<pre>Finished training in 0.109069s</pre>"
      ],
      "text/plain": [
       "Finished training in 0.109069s"
      ]
     },
     "metadata": {},
     "output_type": "display_data"
    },
    {
     "data": {
      "text/html": [
       "<pre>recommendations finished on 1000/178122 queries. users per second: 18812.2</pre>"
      ],
      "text/plain": [
       "recommendations finished on 1000/178122 queries. users per second: 18812.2"
      ]
     },
     "metadata": {},
     "output_type": "display_data"
    },
    {
     "data": {
      "text/html": [
       "<pre>recommendations finished on 2000/178122 queries. users per second: 19856</pre>"
      ],
      "text/plain": [
       "recommendations finished on 2000/178122 queries. users per second: 19856"
      ]
     },
     "metadata": {},
     "output_type": "display_data"
    },
    {
     "data": {
      "text/html": [
       "<pre>recommendations finished on 3000/178122 queries. users per second: 20350</pre>"
      ],
      "text/plain": [
       "recommendations finished on 3000/178122 queries. users per second: 20350"
      ]
     },
     "metadata": {},
     "output_type": "display_data"
    },
    {
     "data": {
      "text/html": [
       "<pre>recommendations finished on 4000/178122 queries. users per second: 18658.7</pre>"
      ],
      "text/plain": [
       "recommendations finished on 4000/178122 queries. users per second: 18658.7"
      ]
     },
     "metadata": {},
     "output_type": "display_data"
    },
    {
     "data": {
      "text/html": [
       "<pre>recommendations finished on 5000/178122 queries. users per second: 17299.4</pre>"
      ],
      "text/plain": [
       "recommendations finished on 5000/178122 queries. users per second: 17299.4"
      ]
     },
     "metadata": {},
     "output_type": "display_data"
    },
    {
     "data": {
      "text/html": [
       "<pre>recommendations finished on 6000/178122 queries. users per second: 17486.7</pre>"
      ],
      "text/plain": [
       "recommendations finished on 6000/178122 queries. users per second: 17486.7"
      ]
     },
     "metadata": {},
     "output_type": "display_data"
    },
    {
     "data": {
      "text/html": [
       "<pre>recommendations finished on 7000/178122 queries. users per second: 17732.5</pre>"
      ],
      "text/plain": [
       "recommendations finished on 7000/178122 queries. users per second: 17732.5"
      ]
     },
     "metadata": {},
     "output_type": "display_data"
    },
    {
     "data": {
      "text/html": [
       "<pre>recommendations finished on 8000/178122 queries. users per second: 17919.5</pre>"
      ],
      "text/plain": [
       "recommendations finished on 8000/178122 queries. users per second: 17919.5"
      ]
     },
     "metadata": {},
     "output_type": "display_data"
    },
    {
     "data": {
      "text/html": [
       "<pre>recommendations finished on 9000/178122 queries. users per second: 18302.1</pre>"
      ],
      "text/plain": [
       "recommendations finished on 9000/178122 queries. users per second: 18302.1"
      ]
     },
     "metadata": {},
     "output_type": "display_data"
    },
    {
     "data": {
      "text/html": [
       "<pre>recommendations finished on 10000/178122 queries. users per second: 18561.3</pre>"
      ],
      "text/plain": [
       "recommendations finished on 10000/178122 queries. users per second: 18561.3"
      ]
     },
     "metadata": {},
     "output_type": "display_data"
    },
    {
     "data": {
      "text/html": [
       "<pre>recommendations finished on 11000/178122 queries. users per second: 18625.3</pre>"
      ],
      "text/plain": [
       "recommendations finished on 11000/178122 queries. users per second: 18625.3"
      ]
     },
     "metadata": {},
     "output_type": "display_data"
    },
    {
     "data": {
      "text/html": [
       "<pre>recommendations finished on 12000/178122 queries. users per second: 18956.4</pre>"
      ],
      "text/plain": [
       "recommendations finished on 12000/178122 queries. users per second: 18956.4"
      ]
     },
     "metadata": {},
     "output_type": "display_data"
    },
    {
     "data": {
      "text/html": [
       "<pre>recommendations finished on 13000/178122 queries. users per second: 19170.8</pre>"
      ],
      "text/plain": [
       "recommendations finished on 13000/178122 queries. users per second: 19170.8"
      ]
     },
     "metadata": {},
     "output_type": "display_data"
    },
    {
     "data": {
      "text/html": [
       "<pre>recommendations finished on 14000/178122 queries. users per second: 19215.7</pre>"
      ],
      "text/plain": [
       "recommendations finished on 14000/178122 queries. users per second: 19215.7"
      ]
     },
     "metadata": {},
     "output_type": "display_data"
    },
    {
     "data": {
      "text/html": [
       "<pre>recommendations finished on 15000/178122 queries. users per second: 19361.8</pre>"
      ],
      "text/plain": [
       "recommendations finished on 15000/178122 queries. users per second: 19361.8"
      ]
     },
     "metadata": {},
     "output_type": "display_data"
    },
    {
     "data": {
      "text/html": [
       "<pre>recommendations finished on 16000/178122 queries. users per second: 19568.1</pre>"
      ],
      "text/plain": [
       "recommendations finished on 16000/178122 queries. users per second: 19568.1"
      ]
     },
     "metadata": {},
     "output_type": "display_data"
    },
    {
     "data": {
      "text/html": [
       "<pre>recommendations finished on 17000/178122 queries. users per second: 19706.6</pre>"
      ],
      "text/plain": [
       "recommendations finished on 17000/178122 queries. users per second: 19706.6"
      ]
     },
     "metadata": {},
     "output_type": "display_data"
    },
    {
     "data": {
      "text/html": [
       "<pre>recommendations finished on 18000/178122 queries. users per second: 19854</pre>"
      ],
      "text/plain": [
       "recommendations finished on 18000/178122 queries. users per second: 19854"
      ]
     },
     "metadata": {},
     "output_type": "display_data"
    },
    {
     "data": {
      "text/html": [
       "<pre>recommendations finished on 19000/178122 queries. users per second: 19922.9</pre>"
      ],
      "text/plain": [
       "recommendations finished on 19000/178122 queries. users per second: 19922.9"
      ]
     },
     "metadata": {},
     "output_type": "display_data"
    },
    {
     "data": {
      "text/html": [
       "<pre>recommendations finished on 20000/178122 queries. users per second: 19753</pre>"
      ],
      "text/plain": [
       "recommendations finished on 20000/178122 queries. users per second: 19753"
      ]
     },
     "metadata": {},
     "output_type": "display_data"
    },
    {
     "data": {
      "text/html": [
       "<pre>recommendations finished on 21000/178122 queries. users per second: 19681.4</pre>"
      ],
      "text/plain": [
       "recommendations finished on 21000/178122 queries. users per second: 19681.4"
      ]
     },
     "metadata": {},
     "output_type": "display_data"
    },
    {
     "data": {
      "text/html": [
       "<pre>recommendations finished on 22000/178122 queries. users per second: 19805.2</pre>"
      ],
      "text/plain": [
       "recommendations finished on 22000/178122 queries. users per second: 19805.2"
      ]
     },
     "metadata": {},
     "output_type": "display_data"
    },
    {
     "data": {
      "text/html": [
       "<pre>recommendations finished on 23000/178122 queries. users per second: 19798.7</pre>"
      ],
      "text/plain": [
       "recommendations finished on 23000/178122 queries. users per second: 19798.7"
      ]
     },
     "metadata": {},
     "output_type": "display_data"
    },
    {
     "data": {
      "text/html": [
       "<pre>recommendations finished on 24000/178122 queries. users per second: 19919</pre>"
      ],
      "text/plain": [
       "recommendations finished on 24000/178122 queries. users per second: 19919"
      ]
     },
     "metadata": {},
     "output_type": "display_data"
    },
    {
     "data": {
      "text/html": [
       "<pre>recommendations finished on 25000/178122 queries. users per second: 19884.3</pre>"
      ],
      "text/plain": [
       "recommendations finished on 25000/178122 queries. users per second: 19884.3"
      ]
     },
     "metadata": {},
     "output_type": "display_data"
    },
    {
     "data": {
      "text/html": [
       "<pre>recommendations finished on 26000/178122 queries. users per second: 20032.2</pre>"
      ],
      "text/plain": [
       "recommendations finished on 26000/178122 queries. users per second: 20032.2"
      ]
     },
     "metadata": {},
     "output_type": "display_data"
    },
    {
     "data": {
      "text/html": [
       "<pre>recommendations finished on 27000/178122 queries. users per second: 20132.7</pre>"
      ],
      "text/plain": [
       "recommendations finished on 27000/178122 queries. users per second: 20132.7"
      ]
     },
     "metadata": {},
     "output_type": "display_data"
    },
    {
     "data": {
      "text/html": [
       "<pre>recommendations finished on 28000/178122 queries. users per second: 20281.1</pre>"
      ],
      "text/plain": [
       "recommendations finished on 28000/178122 queries. users per second: 20281.1"
      ]
     },
     "metadata": {},
     "output_type": "display_data"
    },
    {
     "data": {
      "text/html": [
       "<pre>recommendations finished on 29000/178122 queries. users per second: 20357.2</pre>"
      ],
      "text/plain": [
       "recommendations finished on 29000/178122 queries. users per second: 20357.2"
      ]
     },
     "metadata": {},
     "output_type": "display_data"
    },
    {
     "data": {
      "text/html": [
       "<pre>recommendations finished on 30000/178122 queries. users per second: 20459</pre>"
      ],
      "text/plain": [
       "recommendations finished on 30000/178122 queries. users per second: 20459"
      ]
     },
     "metadata": {},
     "output_type": "display_data"
    },
    {
     "data": {
      "text/html": [
       "<pre>recommendations finished on 31000/178122 queries. users per second: 20578.2</pre>"
      ],
      "text/plain": [
       "recommendations finished on 31000/178122 queries. users per second: 20578.2"
      ]
     },
     "metadata": {},
     "output_type": "display_data"
    },
    {
     "data": {
      "text/html": [
       "<pre>recommendations finished on 32000/178122 queries. users per second: 20609.2</pre>"
      ],
      "text/plain": [
       "recommendations finished on 32000/178122 queries. users per second: 20609.2"
      ]
     },
     "metadata": {},
     "output_type": "display_data"
    },
    {
     "data": {
      "text/html": [
       "<pre>recommendations finished on 33000/178122 queries. users per second: 20601.6</pre>"
      ],
      "text/plain": [
       "recommendations finished on 33000/178122 queries. users per second: 20601.6"
      ]
     },
     "metadata": {},
     "output_type": "display_data"
    },
    {
     "data": {
      "text/html": [
       "<pre>recommendations finished on 34000/178122 queries. users per second: 20648.8</pre>"
      ],
      "text/plain": [
       "recommendations finished on 34000/178122 queries. users per second: 20648.8"
      ]
     },
     "metadata": {},
     "output_type": "display_data"
    },
    {
     "data": {
      "text/html": [
       "<pre>recommendations finished on 35000/178122 queries. users per second: 20649.9</pre>"
      ],
      "text/plain": [
       "recommendations finished on 35000/178122 queries. users per second: 20649.9"
      ]
     },
     "metadata": {},
     "output_type": "display_data"
    },
    {
     "data": {
      "text/html": [
       "<pre>recommendations finished on 36000/178122 queries. users per second: 20708.3</pre>"
      ],
      "text/plain": [
       "recommendations finished on 36000/178122 queries. users per second: 20708.3"
      ]
     },
     "metadata": {},
     "output_type": "display_data"
    },
    {
     "data": {
      "text/html": [
       "<pre>recommendations finished on 37000/178122 queries. users per second: 20639.1</pre>"
      ],
      "text/plain": [
       "recommendations finished on 37000/178122 queries. users per second: 20639.1"
      ]
     },
     "metadata": {},
     "output_type": "display_data"
    },
    {
     "data": {
      "text/html": [
       "<pre>recommendations finished on 38000/178122 queries. users per second: 20515.1</pre>"
      ],
      "text/plain": [
       "recommendations finished on 38000/178122 queries. users per second: 20515.1"
      ]
     },
     "metadata": {},
     "output_type": "display_data"
    },
    {
     "data": {
      "text/html": [
       "<pre>recommendations finished on 39000/178122 queries. users per second: 20292.1</pre>"
      ],
      "text/plain": [
       "recommendations finished on 39000/178122 queries. users per second: 20292.1"
      ]
     },
     "metadata": {},
     "output_type": "display_data"
    },
    {
     "data": {
      "text/html": [
       "<pre>recommendations finished on 40000/178122 queries. users per second: 20275.8</pre>"
      ],
      "text/plain": [
       "recommendations finished on 40000/178122 queries. users per second: 20275.8"
      ]
     },
     "metadata": {},
     "output_type": "display_data"
    },
    {
     "data": {
      "text/html": [
       "<pre>recommendations finished on 41000/178122 queries. users per second: 20290.6</pre>"
      ],
      "text/plain": [
       "recommendations finished on 41000/178122 queries. users per second: 20290.6"
      ]
     },
     "metadata": {},
     "output_type": "display_data"
    },
    {
     "data": {
      "text/html": [
       "<pre>recommendations finished on 42000/178122 queries. users per second: 20228.7</pre>"
      ],
      "text/plain": [
       "recommendations finished on 42000/178122 queries. users per second: 20228.7"
      ]
     },
     "metadata": {},
     "output_type": "display_data"
    },
    {
     "data": {
      "text/html": [
       "<pre>recommendations finished on 43000/178122 queries. users per second: 20175.7</pre>"
      ],
      "text/plain": [
       "recommendations finished on 43000/178122 queries. users per second: 20175.7"
      ]
     },
     "metadata": {},
     "output_type": "display_data"
    },
    {
     "data": {
      "text/html": [
       "<pre>recommendations finished on 44000/178122 queries. users per second: 19863.3</pre>"
      ],
      "text/plain": [
       "recommendations finished on 44000/178122 queries. users per second: 19863.3"
      ]
     },
     "metadata": {},
     "output_type": "display_data"
    },
    {
     "data": {
      "text/html": [
       "<pre>recommendations finished on 45000/178122 queries. users per second: 19739.1</pre>"
      ],
      "text/plain": [
       "recommendations finished on 45000/178122 queries. users per second: 19739.1"
      ]
     },
     "metadata": {},
     "output_type": "display_data"
    },
    {
     "data": {
      "text/html": [
       "<pre>recommendations finished on 46000/178122 queries. users per second: 19656.2</pre>"
      ],
      "text/plain": [
       "recommendations finished on 46000/178122 queries. users per second: 19656.2"
      ]
     },
     "metadata": {},
     "output_type": "display_data"
    },
    {
     "data": {
      "text/html": [
       "<pre>recommendations finished on 47000/178122 queries. users per second: 19674.6</pre>"
      ],
      "text/plain": [
       "recommendations finished on 47000/178122 queries. users per second: 19674.6"
      ]
     },
     "metadata": {},
     "output_type": "display_data"
    },
    {
     "data": {
      "text/html": [
       "<pre>recommendations finished on 48000/178122 queries. users per second: 19663.8</pre>"
      ],
      "text/plain": [
       "recommendations finished on 48000/178122 queries. users per second: 19663.8"
      ]
     },
     "metadata": {},
     "output_type": "display_data"
    },
    {
     "data": {
      "text/html": [
       "<pre>recommendations finished on 49000/178122 queries. users per second: 19677</pre>"
      ],
      "text/plain": [
       "recommendations finished on 49000/178122 queries. users per second: 19677"
      ]
     },
     "metadata": {},
     "output_type": "display_data"
    },
    {
     "data": {
      "text/html": [
       "<pre>recommendations finished on 50000/178122 queries. users per second: 19710</pre>"
      ],
      "text/plain": [
       "recommendations finished on 50000/178122 queries. users per second: 19710"
      ]
     },
     "metadata": {},
     "output_type": "display_data"
    },
    {
     "data": {
      "text/html": [
       "<pre>recommendations finished on 51000/178122 queries. users per second: 19753.4</pre>"
      ],
      "text/plain": [
       "recommendations finished on 51000/178122 queries. users per second: 19753.4"
      ]
     },
     "metadata": {},
     "output_type": "display_data"
    },
    {
     "data": {
      "text/html": [
       "<pre>recommendations finished on 52000/178122 queries. users per second: 19759.6</pre>"
      ],
      "text/plain": [
       "recommendations finished on 52000/178122 queries. users per second: 19759.6"
      ]
     },
     "metadata": {},
     "output_type": "display_data"
    },
    {
     "data": {
      "text/html": [
       "<pre>recommendations finished on 53000/178122 queries. users per second: 19830.7</pre>"
      ],
      "text/plain": [
       "recommendations finished on 53000/178122 queries. users per second: 19830.7"
      ]
     },
     "metadata": {},
     "output_type": "display_data"
    },
    {
     "data": {
      "text/html": [
       "<pre>recommendations finished on 54000/178122 queries. users per second: 19856.8</pre>"
      ],
      "text/plain": [
       "recommendations finished on 54000/178122 queries. users per second: 19856.8"
      ]
     },
     "metadata": {},
     "output_type": "display_data"
    },
    {
     "data": {
      "text/html": [
       "<pre>recommendations finished on 55000/178122 queries. users per second: 19934.5</pre>"
      ],
      "text/plain": [
       "recommendations finished on 55000/178122 queries. users per second: 19934.5"
      ]
     },
     "metadata": {},
     "output_type": "display_data"
    },
    {
     "data": {
      "text/html": [
       "<pre>recommendations finished on 56000/178122 queries. users per second: 19903.8</pre>"
      ],
      "text/plain": [
       "recommendations finished on 56000/178122 queries. users per second: 19903.8"
      ]
     },
     "metadata": {},
     "output_type": "display_data"
    },
    {
     "data": {
      "text/html": [
       "<pre>recommendations finished on 57000/178122 queries. users per second: 20005.7</pre>"
      ],
      "text/plain": [
       "recommendations finished on 57000/178122 queries. users per second: 20005.7"
      ]
     },
     "metadata": {},
     "output_type": "display_data"
    },
    {
     "data": {
      "text/html": [
       "<pre>recommendations finished on 58000/178122 queries. users per second: 20020.5</pre>"
      ],
      "text/plain": [
       "recommendations finished on 58000/178122 queries. users per second: 20020.5"
      ]
     },
     "metadata": {},
     "output_type": "display_data"
    },
    {
     "data": {
      "text/html": [
       "<pre>recommendations finished on 59000/178122 queries. users per second: 20029.8</pre>"
      ],
      "text/plain": [
       "recommendations finished on 59000/178122 queries. users per second: 20029.8"
      ]
     },
     "metadata": {},
     "output_type": "display_data"
    },
    {
     "data": {
      "text/html": [
       "<pre>recommendations finished on 60000/178122 queries. users per second: 20067.3</pre>"
      ],
      "text/plain": [
       "recommendations finished on 60000/178122 queries. users per second: 20067.3"
      ]
     },
     "metadata": {},
     "output_type": "display_data"
    },
    {
     "data": {
      "text/html": [
       "<pre>recommendations finished on 61000/178122 queries. users per second: 20124.5</pre>"
      ],
      "text/plain": [
       "recommendations finished on 61000/178122 queries. users per second: 20124.5"
      ]
     },
     "metadata": {},
     "output_type": "display_data"
    },
    {
     "data": {
      "text/html": [
       "<pre>recommendations finished on 62000/178122 queries. users per second: 20173.5</pre>"
      ],
      "text/plain": [
       "recommendations finished on 62000/178122 queries. users per second: 20173.5"
      ]
     },
     "metadata": {},
     "output_type": "display_data"
    },
    {
     "data": {
      "text/html": [
       "<pre>recommendations finished on 63000/178122 queries. users per second: 20200.1</pre>"
      ],
      "text/plain": [
       "recommendations finished on 63000/178122 queries. users per second: 20200.1"
      ]
     },
     "metadata": {},
     "output_type": "display_data"
    },
    {
     "data": {
      "text/html": [
       "<pre>recommendations finished on 64000/178122 queries. users per second: 20223.1</pre>"
      ],
      "text/plain": [
       "recommendations finished on 64000/178122 queries. users per second: 20223.1"
      ]
     },
     "metadata": {},
     "output_type": "display_data"
    },
    {
     "data": {
      "text/html": [
       "<pre>recommendations finished on 65000/178122 queries. users per second: 20192.5</pre>"
      ],
      "text/plain": [
       "recommendations finished on 65000/178122 queries. users per second: 20192.5"
      ]
     },
     "metadata": {},
     "output_type": "display_data"
    },
    {
     "data": {
      "text/html": [
       "<pre>recommendations finished on 66000/178122 queries. users per second: 20261.2</pre>"
      ],
      "text/plain": [
       "recommendations finished on 66000/178122 queries. users per second: 20261.2"
      ]
     },
     "metadata": {},
     "output_type": "display_data"
    },
    {
     "data": {
      "text/html": [
       "<pre>recommendations finished on 67000/178122 queries. users per second: 20305.3</pre>"
      ],
      "text/plain": [
       "recommendations finished on 67000/178122 queries. users per second: 20305.3"
      ]
     },
     "metadata": {},
     "output_type": "display_data"
    },
    {
     "data": {
      "text/html": [
       "<pre>recommendations finished on 68000/178122 queries. users per second: 20336.6</pre>"
      ],
      "text/plain": [
       "recommendations finished on 68000/178122 queries. users per second: 20336.6"
      ]
     },
     "metadata": {},
     "output_type": "display_data"
    },
    {
     "data": {
      "text/html": [
       "<pre>recommendations finished on 69000/178122 queries. users per second: 20339.2</pre>"
      ],
      "text/plain": [
       "recommendations finished on 69000/178122 queries. users per second: 20339.2"
      ]
     },
     "metadata": {},
     "output_type": "display_data"
    },
    {
     "data": {
      "text/html": [
       "<pre>recommendations finished on 70000/178122 queries. users per second: 20264.5</pre>"
      ],
      "text/plain": [
       "recommendations finished on 70000/178122 queries. users per second: 20264.5"
      ]
     },
     "metadata": {},
     "output_type": "display_data"
    },
    {
     "data": {
      "text/html": [
       "<pre>recommendations finished on 71000/178122 queries. users per second: 20240.1</pre>"
      ],
      "text/plain": [
       "recommendations finished on 71000/178122 queries. users per second: 20240.1"
      ]
     },
     "metadata": {},
     "output_type": "display_data"
    },
    {
     "data": {
      "text/html": [
       "<pre>recommendations finished on 72000/178122 queries. users per second: 20277</pre>"
      ],
      "text/plain": [
       "recommendations finished on 72000/178122 queries. users per second: 20277"
      ]
     },
     "metadata": {},
     "output_type": "display_data"
    },
    {
     "data": {
      "text/html": [
       "<pre>recommendations finished on 73000/178122 queries. users per second: 20293.8</pre>"
      ],
      "text/plain": [
       "recommendations finished on 73000/178122 queries. users per second: 20293.8"
      ]
     },
     "metadata": {},
     "output_type": "display_data"
    },
    {
     "data": {
      "text/html": [
       "<pre>recommendations finished on 74000/178122 queries. users per second: 20330.7</pre>"
      ],
      "text/plain": [
       "recommendations finished on 74000/178122 queries. users per second: 20330.7"
      ]
     },
     "metadata": {},
     "output_type": "display_data"
    },
    {
     "data": {
      "text/html": [
       "<pre>recommendations finished on 75000/178122 queries. users per second: 20362</pre>"
      ],
      "text/plain": [
       "recommendations finished on 75000/178122 queries. users per second: 20362"
      ]
     },
     "metadata": {},
     "output_type": "display_data"
    },
    {
     "data": {
      "text/html": [
       "<pre>recommendations finished on 76000/178122 queries. users per second: 20361.6</pre>"
      ],
      "text/plain": [
       "recommendations finished on 76000/178122 queries. users per second: 20361.6"
      ]
     },
     "metadata": {},
     "output_type": "display_data"
    },
    {
     "data": {
      "text/html": [
       "<pre>recommendations finished on 77000/178122 queries. users per second: 20409.2</pre>"
      ],
      "text/plain": [
       "recommendations finished on 77000/178122 queries. users per second: 20409.2"
      ]
     },
     "metadata": {},
     "output_type": "display_data"
    },
    {
     "data": {
      "text/html": [
       "<pre>recommendations finished on 78000/178122 queries. users per second: 20443.2</pre>"
      ],
      "text/plain": [
       "recommendations finished on 78000/178122 queries. users per second: 20443.2"
      ]
     },
     "metadata": {},
     "output_type": "display_data"
    },
    {
     "data": {
      "text/html": [
       "<pre>recommendations finished on 79000/178122 queries. users per second: 20451.2</pre>"
      ],
      "text/plain": [
       "recommendations finished on 79000/178122 queries. users per second: 20451.2"
      ]
     },
     "metadata": {},
     "output_type": "display_data"
    },
    {
     "data": {
      "text/html": [
       "<pre>recommendations finished on 80000/178122 queries. users per second: 20458.8</pre>"
      ],
      "text/plain": [
       "recommendations finished on 80000/178122 queries. users per second: 20458.8"
      ]
     },
     "metadata": {},
     "output_type": "display_data"
    },
    {
     "data": {
      "text/html": [
       "<pre>recommendations finished on 81000/178122 queries. users per second: 20394</pre>"
      ],
      "text/plain": [
       "recommendations finished on 81000/178122 queries. users per second: 20394"
      ]
     },
     "metadata": {},
     "output_type": "display_data"
    },
    {
     "data": {
      "text/html": [
       "<pre>recommendations finished on 82000/178122 queries. users per second: 20390.5</pre>"
      ],
      "text/plain": [
       "recommendations finished on 82000/178122 queries. users per second: 20390.5"
      ]
     },
     "metadata": {},
     "output_type": "display_data"
    },
    {
     "data": {
      "text/html": [
       "<pre>recommendations finished on 83000/178122 queries. users per second: 20440.3</pre>"
      ],
      "text/plain": [
       "recommendations finished on 83000/178122 queries. users per second: 20440.3"
      ]
     },
     "metadata": {},
     "output_type": "display_data"
    },
    {
     "data": {
      "text/html": [
       "<pre>recommendations finished on 84000/178122 queries. users per second: 20463.1</pre>"
      ],
      "text/plain": [
       "recommendations finished on 84000/178122 queries. users per second: 20463.1"
      ]
     },
     "metadata": {},
     "output_type": "display_data"
    },
    {
     "data": {
      "text/html": [
       "<pre>recommendations finished on 85000/178122 queries. users per second: 20502.5</pre>"
      ],
      "text/plain": [
       "recommendations finished on 85000/178122 queries. users per second: 20502.5"
      ]
     },
     "metadata": {},
     "output_type": "display_data"
    },
    {
     "data": {
      "text/html": [
       "<pre>recommendations finished on 86000/178122 queries. users per second: 20540.1</pre>"
      ],
      "text/plain": [
       "recommendations finished on 86000/178122 queries. users per second: 20540.1"
      ]
     },
     "metadata": {},
     "output_type": "display_data"
    },
    {
     "data": {
      "text/html": [
       "<pre>recommendations finished on 87000/178122 queries. users per second: 20565.4</pre>"
      ],
      "text/plain": [
       "recommendations finished on 87000/178122 queries. users per second: 20565.4"
      ]
     },
     "metadata": {},
     "output_type": "display_data"
    },
    {
     "data": {
      "text/html": [
       "<pre>recommendations finished on 88000/178122 queries. users per second: 20563.5</pre>"
      ],
      "text/plain": [
       "recommendations finished on 88000/178122 queries. users per second: 20563.5"
      ]
     },
     "metadata": {},
     "output_type": "display_data"
    },
    {
     "data": {
      "text/html": [
       "<pre>recommendations finished on 89000/178122 queries. users per second: 20585.2</pre>"
      ],
      "text/plain": [
       "recommendations finished on 89000/178122 queries. users per second: 20585.2"
      ]
     },
     "metadata": {},
     "output_type": "display_data"
    },
    {
     "data": {
      "text/html": [
       "<pre>recommendations finished on 90000/178122 queries. users per second: 20603.4</pre>"
      ],
      "text/plain": [
       "recommendations finished on 90000/178122 queries. users per second: 20603.4"
      ]
     },
     "metadata": {},
     "output_type": "display_data"
    },
    {
     "data": {
      "text/html": [
       "<pre>recommendations finished on 91000/178122 queries. users per second: 20606.2</pre>"
      ],
      "text/plain": [
       "recommendations finished on 91000/178122 queries. users per second: 20606.2"
      ]
     },
     "metadata": {},
     "output_type": "display_data"
    },
    {
     "data": {
      "text/html": [
       "<pre>recommendations finished on 92000/178122 queries. users per second: 20630.7</pre>"
      ],
      "text/plain": [
       "recommendations finished on 92000/178122 queries. users per second: 20630.7"
      ]
     },
     "metadata": {},
     "output_type": "display_data"
    },
    {
     "data": {
      "text/html": [
       "<pre>recommendations finished on 93000/178122 queries. users per second: 20694.4</pre>"
      ],
      "text/plain": [
       "recommendations finished on 93000/178122 queries. users per second: 20694.4"
      ]
     },
     "metadata": {},
     "output_type": "display_data"
    },
    {
     "data": {
      "text/html": [
       "<pre>recommendations finished on 94000/178122 queries. users per second: 20678.1</pre>"
      ],
      "text/plain": [
       "recommendations finished on 94000/178122 queries. users per second: 20678.1"
      ]
     },
     "metadata": {},
     "output_type": "display_data"
    },
    {
     "data": {
      "text/html": [
       "<pre>recommendations finished on 95000/178122 queries. users per second: 20704.1</pre>"
      ],
      "text/plain": [
       "recommendations finished on 95000/178122 queries. users per second: 20704.1"
      ]
     },
     "metadata": {},
     "output_type": "display_data"
    },
    {
     "data": {
      "text/html": [
       "<pre>recommendations finished on 96000/178122 queries. users per second: 20725.6</pre>"
      ],
      "text/plain": [
       "recommendations finished on 96000/178122 queries. users per second: 20725.6"
      ]
     },
     "metadata": {},
     "output_type": "display_data"
    },
    {
     "data": {
      "text/html": [
       "<pre>recommendations finished on 97000/178122 queries. users per second: 20761.4</pre>"
      ],
      "text/plain": [
       "recommendations finished on 97000/178122 queries. users per second: 20761.4"
      ]
     },
     "metadata": {},
     "output_type": "display_data"
    },
    {
     "data": {
      "text/html": [
       "<pre>recommendations finished on 98000/178122 queries. users per second: 20769.5</pre>"
      ],
      "text/plain": [
       "recommendations finished on 98000/178122 queries. users per second: 20769.5"
      ]
     },
     "metadata": {},
     "output_type": "display_data"
    },
    {
     "data": {
      "text/html": [
       "<pre>recommendations finished on 99000/178122 queries. users per second: 20746.9</pre>"
      ],
      "text/plain": [
       "recommendations finished on 99000/178122 queries. users per second: 20746.9"
      ]
     },
     "metadata": {},
     "output_type": "display_data"
    },
    {
     "data": {
      "text/html": [
       "<pre>recommendations finished on 100000/178122 queries. users per second: 20737.8</pre>"
      ],
      "text/plain": [
       "recommendations finished on 100000/178122 queries. users per second: 20737.8"
      ]
     },
     "metadata": {},
     "output_type": "display_data"
    },
    {
     "data": {
      "text/html": [
       "<pre>recommendations finished on 101000/178122 queries. users per second: 20740</pre>"
      ],
      "text/plain": [
       "recommendations finished on 101000/178122 queries. users per second: 20740"
      ]
     },
     "metadata": {},
     "output_type": "display_data"
    },
    {
     "data": {
      "text/html": [
       "<pre>recommendations finished on 102000/178122 queries. users per second: 20738.9</pre>"
      ],
      "text/plain": [
       "recommendations finished on 102000/178122 queries. users per second: 20738.9"
      ]
     },
     "metadata": {},
     "output_type": "display_data"
    },
    {
     "data": {
      "text/html": [
       "<pre>recommendations finished on 103000/178122 queries. users per second: 20742.2</pre>"
      ],
      "text/plain": [
       "recommendations finished on 103000/178122 queries. users per second: 20742.2"
      ]
     },
     "metadata": {},
     "output_type": "display_data"
    },
    {
     "data": {
      "text/html": [
       "<pre>recommendations finished on 104000/178122 queries. users per second: 20774.9</pre>"
      ],
      "text/plain": [
       "recommendations finished on 104000/178122 queries. users per second: 20774.9"
      ]
     },
     "metadata": {},
     "output_type": "display_data"
    },
    {
     "data": {
      "text/html": [
       "<pre>recommendations finished on 105000/178122 queries. users per second: 20801.3</pre>"
      ],
      "text/plain": [
       "recommendations finished on 105000/178122 queries. users per second: 20801.3"
      ]
     },
     "metadata": {},
     "output_type": "display_data"
    },
    {
     "data": {
      "text/html": [
       "<pre>recommendations finished on 106000/178122 queries. users per second: 20788.4</pre>"
      ],
      "text/plain": [
       "recommendations finished on 106000/178122 queries. users per second: 20788.4"
      ]
     },
     "metadata": {},
     "output_type": "display_data"
    },
    {
     "data": {
      "text/html": [
       "<pre>recommendations finished on 107000/178122 queries. users per second: 20755.1</pre>"
      ],
      "text/plain": [
       "recommendations finished on 107000/178122 queries. users per second: 20755.1"
      ]
     },
     "metadata": {},
     "output_type": "display_data"
    },
    {
     "data": {
      "text/html": [
       "<pre>recommendations finished on 108000/178122 queries. users per second: 20769.6</pre>"
      ],
      "text/plain": [
       "recommendations finished on 108000/178122 queries. users per second: 20769.6"
      ]
     },
     "metadata": {},
     "output_type": "display_data"
    },
    {
     "data": {
      "text/html": [
       "<pre>recommendations finished on 109000/178122 queries. users per second: 20789.8</pre>"
      ],
      "text/plain": [
       "recommendations finished on 109000/178122 queries. users per second: 20789.8"
      ]
     },
     "metadata": {},
     "output_type": "display_data"
    },
    {
     "data": {
      "text/html": [
       "<pre>recommendations finished on 110000/178122 queries. users per second: 20790.8</pre>"
      ],
      "text/plain": [
       "recommendations finished on 110000/178122 queries. users per second: 20790.8"
      ]
     },
     "metadata": {},
     "output_type": "display_data"
    },
    {
     "data": {
      "text/html": [
       "<pre>recommendations finished on 111000/178122 queries. users per second: 20802.1</pre>"
      ],
      "text/plain": [
       "recommendations finished on 111000/178122 queries. users per second: 20802.1"
      ]
     },
     "metadata": {},
     "output_type": "display_data"
    },
    {
     "data": {
      "text/html": [
       "<pre>recommendations finished on 112000/178122 queries. users per second: 20806.6</pre>"
      ],
      "text/plain": [
       "recommendations finished on 112000/178122 queries. users per second: 20806.6"
      ]
     },
     "metadata": {},
     "output_type": "display_data"
    },
    {
     "data": {
      "text/html": [
       "<pre>recommendations finished on 113000/178122 queries. users per second: 20690.9</pre>"
      ],
      "text/plain": [
       "recommendations finished on 113000/178122 queries. users per second: 20690.9"
      ]
     },
     "metadata": {},
     "output_type": "display_data"
    },
    {
     "data": {
      "text/html": [
       "<pre>recommendations finished on 114000/178122 queries. users per second: 20539.3</pre>"
      ],
      "text/plain": [
       "recommendations finished on 114000/178122 queries. users per second: 20539.3"
      ]
     },
     "metadata": {},
     "output_type": "display_data"
    },
    {
     "data": {
      "text/html": [
       "<pre>recommendations finished on 115000/178122 queries. users per second: 20480.3</pre>"
      ],
      "text/plain": [
       "recommendations finished on 115000/178122 queries. users per second: 20480.3"
      ]
     },
     "metadata": {},
     "output_type": "display_data"
    },
    {
     "data": {
      "text/html": [
       "<pre>recommendations finished on 116000/178122 queries. users per second: 20342.5</pre>"
      ],
      "text/plain": [
       "recommendations finished on 116000/178122 queries. users per second: 20342.5"
      ]
     },
     "metadata": {},
     "output_type": "display_data"
    },
    {
     "data": {
      "text/html": [
       "<pre>recommendations finished on 117000/178122 queries. users per second: 20248</pre>"
      ],
      "text/plain": [
       "recommendations finished on 117000/178122 queries. users per second: 20248"
      ]
     },
     "metadata": {},
     "output_type": "display_data"
    },
    {
     "data": {
      "text/html": [
       "<pre>recommendations finished on 118000/178122 queries. users per second: 20210.2</pre>"
      ],
      "text/plain": [
       "recommendations finished on 118000/178122 queries. users per second: 20210.2"
      ]
     },
     "metadata": {},
     "output_type": "display_data"
    },
    {
     "data": {
      "text/html": [
       "<pre>recommendations finished on 119000/178122 queries. users per second: 20180.3</pre>"
      ],
      "text/plain": [
       "recommendations finished on 119000/178122 queries. users per second: 20180.3"
      ]
     },
     "metadata": {},
     "output_type": "display_data"
    },
    {
     "data": {
      "text/html": [
       "<pre>recommendations finished on 120000/178122 queries. users per second: 20151.8</pre>"
      ],
      "text/plain": [
       "recommendations finished on 120000/178122 queries. users per second: 20151.8"
      ]
     },
     "metadata": {},
     "output_type": "display_data"
    },
    {
     "data": {
      "text/html": [
       "<pre>recommendations finished on 121000/178122 queries. users per second: 20112.8</pre>"
      ],
      "text/plain": [
       "recommendations finished on 121000/178122 queries. users per second: 20112.8"
      ]
     },
     "metadata": {},
     "output_type": "display_data"
    },
    {
     "data": {
      "text/html": [
       "<pre>recommendations finished on 122000/178122 queries. users per second: 20090.9</pre>"
      ],
      "text/plain": [
       "recommendations finished on 122000/178122 queries. users per second: 20090.9"
      ]
     },
     "metadata": {},
     "output_type": "display_data"
    },
    {
     "data": {
      "text/html": [
       "<pre>recommendations finished on 123000/178122 queries. users per second: 20010.2</pre>"
      ],
      "text/plain": [
       "recommendations finished on 123000/178122 queries. users per second: 20010.2"
      ]
     },
     "metadata": {},
     "output_type": "display_data"
    },
    {
     "data": {
      "text/html": [
       "<pre>recommendations finished on 124000/178122 queries. users per second: 20003.7</pre>"
      ],
      "text/plain": [
       "recommendations finished on 124000/178122 queries. users per second: 20003.7"
      ]
     },
     "metadata": {},
     "output_type": "display_data"
    },
    {
     "data": {
      "text/html": [
       "<pre>recommendations finished on 125000/178122 queries. users per second: 19955.3</pre>"
      ],
      "text/plain": [
       "recommendations finished on 125000/178122 queries. users per second: 19955.3"
      ]
     },
     "metadata": {},
     "output_type": "display_data"
    },
    {
     "data": {
      "text/html": [
       "<pre>recommendations finished on 126000/178122 queries. users per second: 19933.1</pre>"
      ],
      "text/plain": [
       "recommendations finished on 126000/178122 queries. users per second: 19933.1"
      ]
     },
     "metadata": {},
     "output_type": "display_data"
    },
    {
     "data": {
      "text/html": [
       "<pre>recommendations finished on 127000/178122 queries. users per second: 19948.3</pre>"
      ],
      "text/plain": [
       "recommendations finished on 127000/178122 queries. users per second: 19948.3"
      ]
     },
     "metadata": {},
     "output_type": "display_data"
    },
    {
     "data": {
      "text/html": [
       "<pre>recommendations finished on 128000/178122 queries. users per second: 19942.5</pre>"
      ],
      "text/plain": [
       "recommendations finished on 128000/178122 queries. users per second: 19942.5"
      ]
     },
     "metadata": {},
     "output_type": "display_data"
    },
    {
     "data": {
      "text/html": [
       "<pre>recommendations finished on 129000/178122 queries. users per second: 19961.8</pre>"
      ],
      "text/plain": [
       "recommendations finished on 129000/178122 queries. users per second: 19961.8"
      ]
     },
     "metadata": {},
     "output_type": "display_data"
    },
    {
     "data": {
      "text/html": [
       "<pre>recommendations finished on 130000/178122 queries. users per second: 19967.2</pre>"
      ],
      "text/plain": [
       "recommendations finished on 130000/178122 queries. users per second: 19967.2"
      ]
     },
     "metadata": {},
     "output_type": "display_data"
    },
    {
     "data": {
      "text/html": [
       "<pre>recommendations finished on 131000/178122 queries. users per second: 19931.8</pre>"
      ],
      "text/plain": [
       "recommendations finished on 131000/178122 queries. users per second: 19931.8"
      ]
     },
     "metadata": {},
     "output_type": "display_data"
    },
    {
     "data": {
      "text/html": [
       "<pre>recommendations finished on 132000/178122 queries. users per second: 19950.9</pre>"
      ],
      "text/plain": [
       "recommendations finished on 132000/178122 queries. users per second: 19950.9"
      ]
     },
     "metadata": {},
     "output_type": "display_data"
    },
    {
     "data": {
      "text/html": [
       "<pre>recommendations finished on 133000/178122 queries. users per second: 19947.4</pre>"
      ],
      "text/plain": [
       "recommendations finished on 133000/178122 queries. users per second: 19947.4"
      ]
     },
     "metadata": {},
     "output_type": "display_data"
    },
    {
     "data": {
      "text/html": [
       "<pre>recommendations finished on 134000/178122 queries. users per second: 19977.4</pre>"
      ],
      "text/plain": [
       "recommendations finished on 134000/178122 queries. users per second: 19977.4"
      ]
     },
     "metadata": {},
     "output_type": "display_data"
    },
    {
     "data": {
      "text/html": [
       "<pre>recommendations finished on 135000/178122 queries. users per second: 19994.5</pre>"
      ],
      "text/plain": [
       "recommendations finished on 135000/178122 queries. users per second: 19994.5"
      ]
     },
     "metadata": {},
     "output_type": "display_data"
    },
    {
     "data": {
      "text/html": [
       "<pre>recommendations finished on 136000/178122 queries. users per second: 20002.7</pre>"
      ],
      "text/plain": [
       "recommendations finished on 136000/178122 queries. users per second: 20002.7"
      ]
     },
     "metadata": {},
     "output_type": "display_data"
    },
    {
     "data": {
      "text/html": [
       "<pre>recommendations finished on 137000/178122 queries. users per second: 20020.4</pre>"
      ],
      "text/plain": [
       "recommendations finished on 137000/178122 queries. users per second: 20020.4"
      ]
     },
     "metadata": {},
     "output_type": "display_data"
    },
    {
     "data": {
      "text/html": [
       "<pre>recommendations finished on 138000/178122 queries. users per second: 20053.5</pre>"
      ],
      "text/plain": [
       "recommendations finished on 138000/178122 queries. users per second: 20053.5"
      ]
     },
     "metadata": {},
     "output_type": "display_data"
    },
    {
     "data": {
      "text/html": [
       "<pre>recommendations finished on 139000/178122 queries. users per second: 20058.6</pre>"
      ],
      "text/plain": [
       "recommendations finished on 139000/178122 queries. users per second: 20058.6"
      ]
     },
     "metadata": {},
     "output_type": "display_data"
    },
    {
     "data": {
      "text/html": [
       "<pre>recommendations finished on 140000/178122 queries. users per second: 20077.8</pre>"
      ],
      "text/plain": [
       "recommendations finished on 140000/178122 queries. users per second: 20077.8"
      ]
     },
     "metadata": {},
     "output_type": "display_data"
    },
    {
     "data": {
      "text/html": [
       "<pre>recommendations finished on 141000/178122 queries. users per second: 20079.3</pre>"
      ],
      "text/plain": [
       "recommendations finished on 141000/178122 queries. users per second: 20079.3"
      ]
     },
     "metadata": {},
     "output_type": "display_data"
    },
    {
     "data": {
      "text/html": [
       "<pre>recommendations finished on 142000/178122 queries. users per second: 20093.3</pre>"
      ],
      "text/plain": [
       "recommendations finished on 142000/178122 queries. users per second: 20093.3"
      ]
     },
     "metadata": {},
     "output_type": "display_data"
    },
    {
     "data": {
      "text/html": [
       "<pre>recommendations finished on 143000/178122 queries. users per second: 20108.8</pre>"
      ],
      "text/plain": [
       "recommendations finished on 143000/178122 queries. users per second: 20108.8"
      ]
     },
     "metadata": {},
     "output_type": "display_data"
    },
    {
     "data": {
      "text/html": [
       "<pre>recommendations finished on 144000/178122 queries. users per second: 20114.2</pre>"
      ],
      "text/plain": [
       "recommendations finished on 144000/178122 queries. users per second: 20114.2"
      ]
     },
     "metadata": {},
     "output_type": "display_data"
    },
    {
     "data": {
      "text/html": [
       "<pre>recommendations finished on 145000/178122 queries. users per second: 20124.8</pre>"
      ],
      "text/plain": [
       "recommendations finished on 145000/178122 queries. users per second: 20124.8"
      ]
     },
     "metadata": {},
     "output_type": "display_data"
    },
    {
     "data": {
      "text/html": [
       "<pre>recommendations finished on 146000/178122 queries. users per second: 20144.1</pre>"
      ],
      "text/plain": [
       "recommendations finished on 146000/178122 queries. users per second: 20144.1"
      ]
     },
     "metadata": {},
     "output_type": "display_data"
    },
    {
     "data": {
      "text/html": [
       "<pre>recommendations finished on 147000/178122 queries. users per second: 20155.4</pre>"
      ],
      "text/plain": [
       "recommendations finished on 147000/178122 queries. users per second: 20155.4"
      ]
     },
     "metadata": {},
     "output_type": "display_data"
    },
    {
     "data": {
      "text/html": [
       "<pre>recommendations finished on 148000/178122 queries. users per second: 20183.1</pre>"
      ],
      "text/plain": [
       "recommendations finished on 148000/178122 queries. users per second: 20183.1"
      ]
     },
     "metadata": {},
     "output_type": "display_data"
    },
    {
     "data": {
      "text/html": [
       "<pre>recommendations finished on 149000/178122 queries. users per second: 20160.8</pre>"
      ],
      "text/plain": [
       "recommendations finished on 149000/178122 queries. users per second: 20160.8"
      ]
     },
     "metadata": {},
     "output_type": "display_data"
    },
    {
     "data": {
      "text/html": [
       "<pre>recommendations finished on 150000/178122 queries. users per second: 20168.7</pre>"
      ],
      "text/plain": [
       "recommendations finished on 150000/178122 queries. users per second: 20168.7"
      ]
     },
     "metadata": {},
     "output_type": "display_data"
    },
    {
     "data": {
      "text/html": [
       "<pre>recommendations finished on 151000/178122 queries. users per second: 20193.4</pre>"
      ],
      "text/plain": [
       "recommendations finished on 151000/178122 queries. users per second: 20193.4"
      ]
     },
     "metadata": {},
     "output_type": "display_data"
    },
    {
     "data": {
      "text/html": [
       "<pre>recommendations finished on 152000/178122 queries. users per second: 20203.8</pre>"
      ],
      "text/plain": [
       "recommendations finished on 152000/178122 queries. users per second: 20203.8"
      ]
     },
     "metadata": {},
     "output_type": "display_data"
    },
    {
     "data": {
      "text/html": [
       "<pre>recommendations finished on 153000/178122 queries. users per second: 20233.7</pre>"
      ],
      "text/plain": [
       "recommendations finished on 153000/178122 queries. users per second: 20233.7"
      ]
     },
     "metadata": {},
     "output_type": "display_data"
    },
    {
     "data": {
      "text/html": [
       "<pre>recommendations finished on 154000/178122 queries. users per second: 20244.5</pre>"
      ],
      "text/plain": [
       "recommendations finished on 154000/178122 queries. users per second: 20244.5"
      ]
     },
     "metadata": {},
     "output_type": "display_data"
    },
    {
     "data": {
      "text/html": [
       "<pre>recommendations finished on 155000/178122 queries. users per second: 20230.8</pre>"
      ],
      "text/plain": [
       "recommendations finished on 155000/178122 queries. users per second: 20230.8"
      ]
     },
     "metadata": {},
     "output_type": "display_data"
    },
    {
     "data": {
      "text/html": [
       "<pre>recommendations finished on 156000/178122 queries. users per second: 20247.4</pre>"
      ],
      "text/plain": [
       "recommendations finished on 156000/178122 queries. users per second: 20247.4"
      ]
     },
     "metadata": {},
     "output_type": "display_data"
    },
    {
     "data": {
      "text/html": [
       "<pre>recommendations finished on 157000/178122 queries. users per second: 20249</pre>"
      ],
      "text/plain": [
       "recommendations finished on 157000/178122 queries. users per second: 20249"
      ]
     },
     "metadata": {},
     "output_type": "display_data"
    },
    {
     "data": {
      "text/html": [
       "<pre>recommendations finished on 158000/178122 queries. users per second: 20257.5</pre>"
      ],
      "text/plain": [
       "recommendations finished on 158000/178122 queries. users per second: 20257.5"
      ]
     },
     "metadata": {},
     "output_type": "display_data"
    },
    {
     "data": {
      "text/html": [
       "<pre>recommendations finished on 159000/178122 queries. users per second: 20247.9</pre>"
      ],
      "text/plain": [
       "recommendations finished on 159000/178122 queries. users per second: 20247.9"
      ]
     },
     "metadata": {},
     "output_type": "display_data"
    },
    {
     "data": {
      "text/html": [
       "<pre>recommendations finished on 160000/178122 queries. users per second: 20191.9</pre>"
      ],
      "text/plain": [
       "recommendations finished on 160000/178122 queries. users per second: 20191.9"
      ]
     },
     "metadata": {},
     "output_type": "display_data"
    },
    {
     "data": {
      "text/html": [
       "<pre>recommendations finished on 161000/178122 queries. users per second: 20082.6</pre>"
      ],
      "text/plain": [
       "recommendations finished on 161000/178122 queries. users per second: 20082.6"
      ]
     },
     "metadata": {},
     "output_type": "display_data"
    },
    {
     "data": {
      "text/html": [
       "<pre>recommendations finished on 162000/178122 queries. users per second: 20041.3</pre>"
      ],
      "text/plain": [
       "recommendations finished on 162000/178122 queries. users per second: 20041.3"
      ]
     },
     "metadata": {},
     "output_type": "display_data"
    },
    {
     "data": {
      "text/html": [
       "<pre>recommendations finished on 163000/178122 queries. users per second: 19992.6</pre>"
      ],
      "text/plain": [
       "recommendations finished on 163000/178122 queries. users per second: 19992.6"
      ]
     },
     "metadata": {},
     "output_type": "display_data"
    },
    {
     "data": {
      "text/html": [
       "<pre>recommendations finished on 164000/178122 queries. users per second: 19952.5</pre>"
      ],
      "text/plain": [
       "recommendations finished on 164000/178122 queries. users per second: 19952.5"
      ]
     },
     "metadata": {},
     "output_type": "display_data"
    },
    {
     "data": {
      "text/html": [
       "<pre>recommendations finished on 165000/178122 queries. users per second: 19883.4</pre>"
      ],
      "text/plain": [
       "recommendations finished on 165000/178122 queries. users per second: 19883.4"
      ]
     },
     "metadata": {},
     "output_type": "display_data"
    },
    {
     "data": {
      "text/html": [
       "<pre>recommendations finished on 166000/178122 queries. users per second: 19803.3</pre>"
      ],
      "text/plain": [
       "recommendations finished on 166000/178122 queries. users per second: 19803.3"
      ]
     },
     "metadata": {},
     "output_type": "display_data"
    },
    {
     "data": {
      "text/html": [
       "<pre>recommendations finished on 167000/178122 queries. users per second: 19653.8</pre>"
      ],
      "text/plain": [
       "recommendations finished on 167000/178122 queries. users per second: 19653.8"
      ]
     },
     "metadata": {},
     "output_type": "display_data"
    },
    {
     "data": {
      "text/html": [
       "<pre>recommendations finished on 168000/178122 queries. users per second: 19586</pre>"
      ],
      "text/plain": [
       "recommendations finished on 168000/178122 queries. users per second: 19586"
      ]
     },
     "metadata": {},
     "output_type": "display_data"
    },
    {
     "data": {
      "text/html": [
       "<pre>recommendations finished on 169000/178122 queries. users per second: 19517</pre>"
      ],
      "text/plain": [
       "recommendations finished on 169000/178122 queries. users per second: 19517"
      ]
     },
     "metadata": {},
     "output_type": "display_data"
    },
    {
     "data": {
      "text/html": [
       "<pre>recommendations finished on 170000/178122 queries. users per second: 19472.5</pre>"
      ],
      "text/plain": [
       "recommendations finished on 170000/178122 queries. users per second: 19472.5"
      ]
     },
     "metadata": {},
     "output_type": "display_data"
    },
    {
     "data": {
      "text/html": [
       "<pre>recommendations finished on 171000/178122 queries. users per second: 19427</pre>"
      ],
      "text/plain": [
       "recommendations finished on 171000/178122 queries. users per second: 19427"
      ]
     },
     "metadata": {},
     "output_type": "display_data"
    },
    {
     "data": {
      "text/html": [
       "<pre>recommendations finished on 172000/178122 queries. users per second: 19355.4</pre>"
      ],
      "text/plain": [
       "recommendations finished on 172000/178122 queries. users per second: 19355.4"
      ]
     },
     "metadata": {},
     "output_type": "display_data"
    },
    {
     "data": {
      "text/html": [
       "<pre>recommendations finished on 173000/178122 queries. users per second: 19289.7</pre>"
      ],
      "text/plain": [
       "recommendations finished on 173000/178122 queries. users per second: 19289.7"
      ]
     },
     "metadata": {},
     "output_type": "display_data"
    },
    {
     "data": {
      "text/html": [
       "<pre>recommendations finished on 174000/178122 queries. users per second: 19245.7</pre>"
      ],
      "text/plain": [
       "recommendations finished on 174000/178122 queries. users per second: 19245.7"
      ]
     },
     "metadata": {},
     "output_type": "display_data"
    },
    {
     "data": {
      "text/html": [
       "<pre>recommendations finished on 175000/178122 queries. users per second: 19207.8</pre>"
      ],
      "text/plain": [
       "recommendations finished on 175000/178122 queries. users per second: 19207.8"
      ]
     },
     "metadata": {},
     "output_type": "display_data"
    },
    {
     "data": {
      "text/html": [
       "<pre>recommendations finished on 176000/178122 queries. users per second: 19153</pre>"
      ],
      "text/plain": [
       "recommendations finished on 176000/178122 queries. users per second: 19153"
      ]
     },
     "metadata": {},
     "output_type": "display_data"
    },
    {
     "data": {
      "text/html": [
       "<pre>recommendations finished on 177000/178122 queries. users per second: 19081.6</pre>"
      ],
      "text/plain": [
       "recommendations finished on 177000/178122 queries. users per second: 19081.6"
      ]
     },
     "metadata": {},
     "output_type": "display_data"
    },
    {
     "data": {
      "text/html": [
       "<pre>recommendations finished on 178000/178122 queries. users per second: 18883.8</pre>"
      ],
      "text/plain": [
       "recommendations finished on 178000/178122 queries. users per second: 18883.8"
      ]
     },
     "metadata": {},
     "output_type": "display_data"
    },
    {
     "name": "stdout",
     "output_type": "stream",
     "text": [
      "+------------+---------+-----------------+------+\n",
      "|  Customer  | Product |      score      | rank |\n",
      "+------------+---------+-----------------+------+\n",
      "| CC20190310 |   1_21  | 0.0829681871254 |  1   |\n",
      "| CC20190310 |   6_6   | 0.0779237492236 |  2   |\n",
      "| CC20190310 |   5_8   | 0.0737923807491 |  3   |\n",
      "| CC20190310 |   5_2   | 0.0734602505761 |  4   |\n",
      "| CC20190310 |   2_3   | 0.0661373334813 |  5   |\n",
      "| CC20190310 |   3_2   | 0.0649376490902 |  6   |\n",
      "| CC20190310 |   4_0   | 0.0633963119088 |  7   |\n",
      "| CC20190310 |   3_4   | 0.0633933054918 |  8   |\n",
      "| CC20190310 |   5_14  | 0.0574642750569 |  9   |\n",
      "| CC20190310 |   7_20  | 0.0565055016148 |  10  |\n",
      "| CC20190310 |   1_21  | 0.0829681871254 |  1   |\n",
      "| CC20190310 |   6_6   | 0.0779237492236 |  2   |\n",
      "| CC20190310 |   5_8   | 0.0737923807491 |  3   |\n",
      "| CC20190310 |   5_2   | 0.0734602505761 |  4   |\n",
      "| CC20190310 |   2_3   | 0.0661373334813 |  5   |\n",
      "| CC20190310 |   3_2   | 0.0649376490902 |  6   |\n",
      "| CC20190310 |   4_0   | 0.0633963119088 |  7   |\n",
      "| CC20190310 |   3_4   | 0.0633933054918 |  8   |\n",
      "| CC20190310 |   5_14  | 0.0574642750569 |  9   |\n",
      "| CC20190310 |   7_20  | 0.0565055016148 |  10  |\n",
      "| CC20190310 |   1_21  | 0.0829681871254 |  1   |\n",
      "| CC20190310 |   6_6   | 0.0779237492236 |  2   |\n",
      "| CC20190310 |   5_8   | 0.0737923807491 |  3   |\n",
      "| CC20190310 |   5_2   | 0.0734602505761 |  4   |\n",
      "| CC20190310 |   2_3   | 0.0661373334813 |  5   |\n",
      "| CC20190310 |   3_2   | 0.0649376490902 |  6   |\n",
      "| CC20190310 |   4_0   | 0.0633963119088 |  7   |\n",
      "| CC20190310 |   3_4   | 0.0633933054918 |  8   |\n",
      "| CC20190310 |   5_14  | 0.0574642750569 |  9   |\n",
      "| CC20190310 |   7_20  | 0.0565055016148 |  10  |\n",
      "+------------+---------+-----------------+------+\n",
      "[1781220 rows x 4 columns]\n",
      "\n"
     ]
    }
   ],
   "source": [
    "# Using scaled number of seconds\n",
    "\n",
    "name = 'cosine' \n",
    "target = 'Scaled_SecNumF' \n",
    "cos_norm = model(train_data_norm, name, user_id, item_id, target, users_to_recommend, n_rec, n_display)"
   ]
  },
  {
   "cell_type": "markdown",
   "metadata": {
    "deletable": true,
    "editable": true
   },
   "source": [
    "#### 7.2. Pearson similarity"
   ]
  },
  {
   "cell_type": "code",
   "execution_count": 26,
   "metadata": {
    "collapsed": false,
    "deletable": true,
    "editable": true
   },
   "outputs": [
    {
     "data": {
      "text/html": [
       "<pre>Preparing data set.</pre>"
      ],
      "text/plain": [
       "Preparing data set."
      ]
     },
     "metadata": {},
     "output_type": "display_data"
    },
    {
     "data": {
      "text/html": [
       "<pre>    Data has 142497 observations with 1436 users and 235 items.</pre>"
      ],
      "text/plain": [
       "    Data has 142497 observations with 1436 users and 235 items."
      ]
     },
     "metadata": {},
     "output_type": "display_data"
    },
    {
     "data": {
      "text/html": [
       "<pre>    Data prepared in: 0.283299s</pre>"
      ],
      "text/plain": [
       "    Data prepared in: 0.283299s"
      ]
     },
     "metadata": {},
     "output_type": "display_data"
    },
    {
     "data": {
      "text/html": [
       "<pre>Training model from provided data.</pre>"
      ],
      "text/plain": [
       "Training model from provided data."
      ]
     },
     "metadata": {},
     "output_type": "display_data"
    },
    {
     "data": {
      "text/html": [
       "<pre>Gathering per-item and per-user statistics.</pre>"
      ],
      "text/plain": [
       "Gathering per-item and per-user statistics."
      ]
     },
     "metadata": {},
     "output_type": "display_data"
    },
    {
     "data": {
      "text/html": [
       "<pre>+--------------------------------+------------+</pre>"
      ],
      "text/plain": [
       "+--------------------------------+------------+"
      ]
     },
     "metadata": {},
     "output_type": "display_data"
    },
    {
     "data": {
      "text/html": [
       "<pre>| Elapsed Time (Item Statistics) | % Complete |</pre>"
      ],
      "text/plain": [
       "| Elapsed Time (Item Statistics) | % Complete |"
      ]
     },
     "metadata": {},
     "output_type": "display_data"
    },
    {
     "data": {
      "text/html": [
       "<pre>+--------------------------------+------------+</pre>"
      ],
      "text/plain": [
       "+--------------------------------+------------+"
      ]
     },
     "metadata": {},
     "output_type": "display_data"
    },
    {
     "data": {
      "text/html": [
       "<pre>| 4.971ms                        | 69.5       |</pre>"
      ],
      "text/plain": [
       "| 4.971ms                        | 69.5       |"
      ]
     },
     "metadata": {},
     "output_type": "display_data"
    },
    {
     "data": {
      "text/html": [
       "<pre>| 6.861ms                        | 100        |</pre>"
      ],
      "text/plain": [
       "| 6.861ms                        | 100        |"
      ]
     },
     "metadata": {},
     "output_type": "display_data"
    },
    {
     "data": {
      "text/html": [
       "<pre>+--------------------------------+------------+</pre>"
      ],
      "text/plain": [
       "+--------------------------------+------------+"
      ]
     },
     "metadata": {},
     "output_type": "display_data"
    },
    {
     "data": {
      "text/html": [
       "<pre>Setting up lookup tables.</pre>"
      ],
      "text/plain": [
       "Setting up lookup tables."
      ]
     },
     "metadata": {},
     "output_type": "display_data"
    },
    {
     "data": {
      "text/html": [
       "<pre>Processing data in one pass using dense lookup tables.</pre>"
      ],
      "text/plain": [
       "Processing data in one pass using dense lookup tables."
      ]
     },
     "metadata": {},
     "output_type": "display_data"
    },
    {
     "data": {
      "text/html": [
       "<pre>+-------------------------------------+------------------+-----------------+</pre>"
      ],
      "text/plain": [
       "+-------------------------------------+------------------+-----------------+"
      ]
     },
     "metadata": {},
     "output_type": "display_data"
    },
    {
     "data": {
      "text/html": [
       "<pre>| Elapsed Time (Constructing Lookups) | Total % Complete | Items Processed |</pre>"
      ],
      "text/plain": [
       "| Elapsed Time (Constructing Lookups) | Total % Complete | Items Processed |"
      ]
     },
     "metadata": {},
     "output_type": "display_data"
    },
    {
     "data": {
      "text/html": [
       "<pre>+-------------------------------------+------------------+-----------------+</pre>"
      ],
      "text/plain": [
       "+-------------------------------------+------------------+-----------------+"
      ]
     },
     "metadata": {},
     "output_type": "display_data"
    },
    {
     "data": {
      "text/html": [
       "<pre>| 9.361ms                             | 0                | 0               |</pre>"
      ],
      "text/plain": [
       "| 9.361ms                             | 0                | 0               |"
      ]
     },
     "metadata": {},
     "output_type": "display_data"
    },
    {
     "data": {
      "text/html": [
       "<pre>| 339.803ms                           | 100              | 235             |</pre>"
      ],
      "text/plain": [
       "| 339.803ms                           | 100              | 235             |"
      ]
     },
     "metadata": {},
     "output_type": "display_data"
    },
    {
     "data": {
      "text/html": [
       "<pre>+-------------------------------------+------------------+-----------------+</pre>"
      ],
      "text/plain": [
       "+-------------------------------------+------------------+-----------------+"
      ]
     },
     "metadata": {},
     "output_type": "display_data"
    },
    {
     "data": {
      "text/html": [
       "<pre>Finalizing lookup tables.</pre>"
      ],
      "text/plain": [
       "Finalizing lookup tables."
      ]
     },
     "metadata": {},
     "output_type": "display_data"
    },
    {
     "data": {
      "text/html": [
       "<pre>Generating candidate set for working with new users.</pre>"
      ],
      "text/plain": [
       "Generating candidate set for working with new users."
      ]
     },
     "metadata": {},
     "output_type": "display_data"
    },
    {
     "data": {
      "text/html": [
       "<pre>Finished training in 0.37069s</pre>"
      ],
      "text/plain": [
       "Finished training in 0.37069s"
      ]
     },
     "metadata": {},
     "output_type": "display_data"
    },
    {
     "data": {
      "text/html": [
       "<pre>recommendations finished on 1000/178122 queries. users per second: 22950.5</pre>"
      ],
      "text/plain": [
       "recommendations finished on 1000/178122 queries. users per second: 22950.5"
      ]
     },
     "metadata": {},
     "output_type": "display_data"
    },
    {
     "data": {
      "text/html": [
       "<pre>recommendations finished on 2000/178122 queries. users per second: 23692.8</pre>"
      ],
      "text/plain": [
       "recommendations finished on 2000/178122 queries. users per second: 23692.8"
      ]
     },
     "metadata": {},
     "output_type": "display_data"
    },
    {
     "data": {
      "text/html": [
       "<pre>recommendations finished on 3000/178122 queries. users per second: 23892.6</pre>"
      ],
      "text/plain": [
       "recommendations finished on 3000/178122 queries. users per second: 23892.6"
      ]
     },
     "metadata": {},
     "output_type": "display_data"
    },
    {
     "data": {
      "text/html": [
       "<pre>recommendations finished on 4000/178122 queries. users per second: 23213.4</pre>"
      ],
      "text/plain": [
       "recommendations finished on 4000/178122 queries. users per second: 23213.4"
      ]
     },
     "metadata": {},
     "output_type": "display_data"
    },
    {
     "data": {
      "text/html": [
       "<pre>recommendations finished on 5000/178122 queries. users per second: 21044.1</pre>"
      ],
      "text/plain": [
       "recommendations finished on 5000/178122 queries. users per second: 21044.1"
      ]
     },
     "metadata": {},
     "output_type": "display_data"
    },
    {
     "data": {
      "text/html": [
       "<pre>recommendations finished on 6000/178122 queries. users per second: 20372.8</pre>"
      ],
      "text/plain": [
       "recommendations finished on 6000/178122 queries. users per second: 20372.8"
      ]
     },
     "metadata": {},
     "output_type": "display_data"
    },
    {
     "data": {
      "text/html": [
       "<pre>recommendations finished on 7000/178122 queries. users per second: 19177.7</pre>"
      ],
      "text/plain": [
       "recommendations finished on 7000/178122 queries. users per second: 19177.7"
      ]
     },
     "metadata": {},
     "output_type": "display_data"
    },
    {
     "data": {
      "text/html": [
       "<pre>recommendations finished on 8000/178122 queries. users per second: 19455.4</pre>"
      ],
      "text/plain": [
       "recommendations finished on 8000/178122 queries. users per second: 19455.4"
      ]
     },
     "metadata": {},
     "output_type": "display_data"
    },
    {
     "data": {
      "text/html": [
       "<pre>recommendations finished on 9000/178122 queries. users per second: 19625.7</pre>"
      ],
      "text/plain": [
       "recommendations finished on 9000/178122 queries. users per second: 19625.7"
      ]
     },
     "metadata": {},
     "output_type": "display_data"
    },
    {
     "data": {
      "text/html": [
       "<pre>recommendations finished on 10000/178122 queries. users per second: 19807.1</pre>"
      ],
      "text/plain": [
       "recommendations finished on 10000/178122 queries. users per second: 19807.1"
      ]
     },
     "metadata": {},
     "output_type": "display_data"
    },
    {
     "data": {
      "text/html": [
       "<pre>recommendations finished on 11000/178122 queries. users per second: 19668.9</pre>"
      ],
      "text/plain": [
       "recommendations finished on 11000/178122 queries. users per second: 19668.9"
      ]
     },
     "metadata": {},
     "output_type": "display_data"
    },
    {
     "data": {
      "text/html": [
       "<pre>recommendations finished on 12000/178122 queries. users per second: 20092</pre>"
      ],
      "text/plain": [
       "recommendations finished on 12000/178122 queries. users per second: 20092"
      ]
     },
     "metadata": {},
     "output_type": "display_data"
    },
    {
     "data": {
      "text/html": [
       "<pre>recommendations finished on 13000/178122 queries. users per second: 19972.5</pre>"
      ],
      "text/plain": [
       "recommendations finished on 13000/178122 queries. users per second: 19972.5"
      ]
     },
     "metadata": {},
     "output_type": "display_data"
    },
    {
     "data": {
      "text/html": [
       "<pre>recommendations finished on 14000/178122 queries. users per second: 20109.3</pre>"
      ],
      "text/plain": [
       "recommendations finished on 14000/178122 queries. users per second: 20109.3"
      ]
     },
     "metadata": {},
     "output_type": "display_data"
    },
    {
     "data": {
      "text/html": [
       "<pre>recommendations finished on 15000/178122 queries. users per second: 20089.9</pre>"
      ],
      "text/plain": [
       "recommendations finished on 15000/178122 queries. users per second: 20089.9"
      ]
     },
     "metadata": {},
     "output_type": "display_data"
    },
    {
     "data": {
      "text/html": [
       "<pre>recommendations finished on 16000/178122 queries. users per second: 19891.2</pre>"
      ],
      "text/plain": [
       "recommendations finished on 16000/178122 queries. users per second: 19891.2"
      ]
     },
     "metadata": {},
     "output_type": "display_data"
    },
    {
     "data": {
      "text/html": [
       "<pre>recommendations finished on 17000/178122 queries. users per second: 19750.3</pre>"
      ],
      "text/plain": [
       "recommendations finished on 17000/178122 queries. users per second: 19750.3"
      ]
     },
     "metadata": {},
     "output_type": "display_data"
    },
    {
     "data": {
      "text/html": [
       "<pre>recommendations finished on 18000/178122 queries. users per second: 19783.3</pre>"
      ],
      "text/plain": [
       "recommendations finished on 18000/178122 queries. users per second: 19783.3"
      ]
     },
     "metadata": {},
     "output_type": "display_data"
    },
    {
     "data": {
      "text/html": [
       "<pre>recommendations finished on 19000/178122 queries. users per second: 19923.4</pre>"
      ],
      "text/plain": [
       "recommendations finished on 19000/178122 queries. users per second: 19923.4"
      ]
     },
     "metadata": {},
     "output_type": "display_data"
    },
    {
     "data": {
      "text/html": [
       "<pre>recommendations finished on 20000/178122 queries. users per second: 19371.4</pre>"
      ],
      "text/plain": [
       "recommendations finished on 20000/178122 queries. users per second: 19371.4"
      ]
     },
     "metadata": {},
     "output_type": "display_data"
    },
    {
     "data": {
      "text/html": [
       "<pre>recommendations finished on 21000/178122 queries. users per second: 19338.9</pre>"
      ],
      "text/plain": [
       "recommendations finished on 21000/178122 queries. users per second: 19338.9"
      ]
     },
     "metadata": {},
     "output_type": "display_data"
    },
    {
     "data": {
      "text/html": [
       "<pre>recommendations finished on 22000/178122 queries. users per second: 19265.1</pre>"
      ],
      "text/plain": [
       "recommendations finished on 22000/178122 queries. users per second: 19265.1"
      ]
     },
     "metadata": {},
     "output_type": "display_data"
    },
    {
     "data": {
      "text/html": [
       "<pre>recommendations finished on 23000/178122 queries. users per second: 19240.2</pre>"
      ],
      "text/plain": [
       "recommendations finished on 23000/178122 queries. users per second: 19240.2"
      ]
     },
     "metadata": {},
     "output_type": "display_data"
    },
    {
     "data": {
      "text/html": [
       "<pre>recommendations finished on 24000/178122 queries. users per second: 19311.6</pre>"
      ],
      "text/plain": [
       "recommendations finished on 24000/178122 queries. users per second: 19311.6"
      ]
     },
     "metadata": {},
     "output_type": "display_data"
    },
    {
     "data": {
      "text/html": [
       "<pre>recommendations finished on 25000/178122 queries. users per second: 19340.1</pre>"
      ],
      "text/plain": [
       "recommendations finished on 25000/178122 queries. users per second: 19340.1"
      ]
     },
     "metadata": {},
     "output_type": "display_data"
    },
    {
     "data": {
      "text/html": [
       "<pre>recommendations finished on 26000/178122 queries. users per second: 19349</pre>"
      ],
      "text/plain": [
       "recommendations finished on 26000/178122 queries. users per second: 19349"
      ]
     },
     "metadata": {},
     "output_type": "display_data"
    },
    {
     "data": {
      "text/html": [
       "<pre>recommendations finished on 27000/178122 queries. users per second: 19261.5</pre>"
      ],
      "text/plain": [
       "recommendations finished on 27000/178122 queries. users per second: 19261.5"
      ]
     },
     "metadata": {},
     "output_type": "display_data"
    },
    {
     "data": {
      "text/html": [
       "<pre>recommendations finished on 28000/178122 queries. users per second: 19397.3</pre>"
      ],
      "text/plain": [
       "recommendations finished on 28000/178122 queries. users per second: 19397.3"
      ]
     },
     "metadata": {},
     "output_type": "display_data"
    },
    {
     "data": {
      "text/html": [
       "<pre>recommendations finished on 29000/178122 queries. users per second: 19467.5</pre>"
      ],
      "text/plain": [
       "recommendations finished on 29000/178122 queries. users per second: 19467.5"
      ]
     },
     "metadata": {},
     "output_type": "display_data"
    },
    {
     "data": {
      "text/html": [
       "<pre>recommendations finished on 30000/178122 queries. users per second: 19508.6</pre>"
      ],
      "text/plain": [
       "recommendations finished on 30000/178122 queries. users per second: 19508.6"
      ]
     },
     "metadata": {},
     "output_type": "display_data"
    },
    {
     "data": {
      "text/html": [
       "<pre>recommendations finished on 31000/178122 queries. users per second: 19484.1</pre>"
      ],
      "text/plain": [
       "recommendations finished on 31000/178122 queries. users per second: 19484.1"
      ]
     },
     "metadata": {},
     "output_type": "display_data"
    },
    {
     "data": {
      "text/html": [
       "<pre>recommendations finished on 32000/178122 queries. users per second: 19393.8</pre>"
      ],
      "text/plain": [
       "recommendations finished on 32000/178122 queries. users per second: 19393.8"
      ]
     },
     "metadata": {},
     "output_type": "display_data"
    },
    {
     "data": {
      "text/html": [
       "<pre>recommendations finished on 33000/178122 queries. users per second: 19327</pre>"
      ],
      "text/plain": [
       "recommendations finished on 33000/178122 queries. users per second: 19327"
      ]
     },
     "metadata": {},
     "output_type": "display_data"
    },
    {
     "data": {
      "text/html": [
       "<pre>recommendations finished on 34000/178122 queries. users per second: 19186.4</pre>"
      ],
      "text/plain": [
       "recommendations finished on 34000/178122 queries. users per second: 19186.4"
      ]
     },
     "metadata": {},
     "output_type": "display_data"
    },
    {
     "data": {
      "text/html": [
       "<pre>recommendations finished on 35000/178122 queries. users per second: 19194.2</pre>"
      ],
      "text/plain": [
       "recommendations finished on 35000/178122 queries. users per second: 19194.2"
      ]
     },
     "metadata": {},
     "output_type": "display_data"
    },
    {
     "data": {
      "text/html": [
       "<pre>recommendations finished on 36000/178122 queries. users per second: 19227.5</pre>"
      ],
      "text/plain": [
       "recommendations finished on 36000/178122 queries. users per second: 19227.5"
      ]
     },
     "metadata": {},
     "output_type": "display_data"
    },
    {
     "data": {
      "text/html": [
       "<pre>recommendations finished on 37000/178122 queries. users per second: 19287.3</pre>"
      ],
      "text/plain": [
       "recommendations finished on 37000/178122 queries. users per second: 19287.3"
      ]
     },
     "metadata": {},
     "output_type": "display_data"
    },
    {
     "data": {
      "text/html": [
       "<pre>recommendations finished on 38000/178122 queries. users per second: 19249.5</pre>"
      ],
      "text/plain": [
       "recommendations finished on 38000/178122 queries. users per second: 19249.5"
      ]
     },
     "metadata": {},
     "output_type": "display_data"
    },
    {
     "data": {
      "text/html": [
       "<pre>recommendations finished on 39000/178122 queries. users per second: 19201.1</pre>"
      ],
      "text/plain": [
       "recommendations finished on 39000/178122 queries. users per second: 19201.1"
      ]
     },
     "metadata": {},
     "output_type": "display_data"
    },
    {
     "data": {
      "text/html": [
       "<pre>recommendations finished on 40000/178122 queries. users per second: 19228</pre>"
      ],
      "text/plain": [
       "recommendations finished on 40000/178122 queries. users per second: 19228"
      ]
     },
     "metadata": {},
     "output_type": "display_data"
    },
    {
     "data": {
      "text/html": [
       "<pre>recommendations finished on 41000/178122 queries. users per second: 19134.7</pre>"
      ],
      "text/plain": [
       "recommendations finished on 41000/178122 queries. users per second: 19134.7"
      ]
     },
     "metadata": {},
     "output_type": "display_data"
    },
    {
     "data": {
      "text/html": [
       "<pre>recommendations finished on 42000/178122 queries. users per second: 19103.8</pre>"
      ],
      "text/plain": [
       "recommendations finished on 42000/178122 queries. users per second: 19103.8"
      ]
     },
     "metadata": {},
     "output_type": "display_data"
    },
    {
     "data": {
      "text/html": [
       "<pre>recommendations finished on 43000/178122 queries. users per second: 19085</pre>"
      ],
      "text/plain": [
       "recommendations finished on 43000/178122 queries. users per second: 19085"
      ]
     },
     "metadata": {},
     "output_type": "display_data"
    },
    {
     "data": {
      "text/html": [
       "<pre>recommendations finished on 44000/178122 queries. users per second: 19007.5</pre>"
      ],
      "text/plain": [
       "recommendations finished on 44000/178122 queries. users per second: 19007.5"
      ]
     },
     "metadata": {},
     "output_type": "display_data"
    },
    {
     "data": {
      "text/html": [
       "<pre>recommendations finished on 45000/178122 queries. users per second: 19029.3</pre>"
      ],
      "text/plain": [
       "recommendations finished on 45000/178122 queries. users per second: 19029.3"
      ]
     },
     "metadata": {},
     "output_type": "display_data"
    },
    {
     "data": {
      "text/html": [
       "<pre>recommendations finished on 46000/178122 queries. users per second: 19077.8</pre>"
      ],
      "text/plain": [
       "recommendations finished on 46000/178122 queries. users per second: 19077.8"
      ]
     },
     "metadata": {},
     "output_type": "display_data"
    },
    {
     "data": {
      "text/html": [
       "<pre>recommendations finished on 47000/178122 queries. users per second: 19083.8</pre>"
      ],
      "text/plain": [
       "recommendations finished on 47000/178122 queries. users per second: 19083.8"
      ]
     },
     "metadata": {},
     "output_type": "display_data"
    },
    {
     "data": {
      "text/html": [
       "<pre>recommendations finished on 48000/178122 queries. users per second: 19111.4</pre>"
      ],
      "text/plain": [
       "recommendations finished on 48000/178122 queries. users per second: 19111.4"
      ]
     },
     "metadata": {},
     "output_type": "display_data"
    },
    {
     "data": {
      "text/html": [
       "<pre>recommendations finished on 49000/178122 queries. users per second: 19133.2</pre>"
      ],
      "text/plain": [
       "recommendations finished on 49000/178122 queries. users per second: 19133.2"
      ]
     },
     "metadata": {},
     "output_type": "display_data"
    },
    {
     "data": {
      "text/html": [
       "<pre>recommendations finished on 50000/178122 queries. users per second: 19179.2</pre>"
      ],
      "text/plain": [
       "recommendations finished on 50000/178122 queries. users per second: 19179.2"
      ]
     },
     "metadata": {},
     "output_type": "display_data"
    },
    {
     "data": {
      "text/html": [
       "<pre>recommendations finished on 51000/178122 queries. users per second: 19213.8</pre>"
      ],
      "text/plain": [
       "recommendations finished on 51000/178122 queries. users per second: 19213.8"
      ]
     },
     "metadata": {},
     "output_type": "display_data"
    },
    {
     "data": {
      "text/html": [
       "<pre>recommendations finished on 52000/178122 queries. users per second: 19200.1</pre>"
      ],
      "text/plain": [
       "recommendations finished on 52000/178122 queries. users per second: 19200.1"
      ]
     },
     "metadata": {},
     "output_type": "display_data"
    },
    {
     "data": {
      "text/html": [
       "<pre>recommendations finished on 53000/178122 queries. users per second: 19229.6</pre>"
      ],
      "text/plain": [
       "recommendations finished on 53000/178122 queries. users per second: 19229.6"
      ]
     },
     "metadata": {},
     "output_type": "display_data"
    },
    {
     "data": {
      "text/html": [
       "<pre>recommendations finished on 54000/178122 queries. users per second: 19278.6</pre>"
      ],
      "text/plain": [
       "recommendations finished on 54000/178122 queries. users per second: 19278.6"
      ]
     },
     "metadata": {},
     "output_type": "display_data"
    },
    {
     "data": {
      "text/html": [
       "<pre>recommendations finished on 55000/178122 queries. users per second: 19292</pre>"
      ],
      "text/plain": [
       "recommendations finished on 55000/178122 queries. users per second: 19292"
      ]
     },
     "metadata": {},
     "output_type": "display_data"
    },
    {
     "data": {
      "text/html": [
       "<pre>recommendations finished on 56000/178122 queries. users per second: 19259.3</pre>"
      ],
      "text/plain": [
       "recommendations finished on 56000/178122 queries. users per second: 19259.3"
      ]
     },
     "metadata": {},
     "output_type": "display_data"
    },
    {
     "data": {
      "text/html": [
       "<pre>recommendations finished on 57000/178122 queries. users per second: 19281.9</pre>"
      ],
      "text/plain": [
       "recommendations finished on 57000/178122 queries. users per second: 19281.9"
      ]
     },
     "metadata": {},
     "output_type": "display_data"
    },
    {
     "data": {
      "text/html": [
       "<pre>recommendations finished on 58000/178122 queries. users per second: 19276.1</pre>"
      ],
      "text/plain": [
       "recommendations finished on 58000/178122 queries. users per second: 19276.1"
      ]
     },
     "metadata": {},
     "output_type": "display_data"
    },
    {
     "data": {
      "text/html": [
       "<pre>recommendations finished on 59000/178122 queries. users per second: 19297</pre>"
      ],
      "text/plain": [
       "recommendations finished on 59000/178122 queries. users per second: 19297"
      ]
     },
     "metadata": {},
     "output_type": "display_data"
    },
    {
     "data": {
      "text/html": [
       "<pre>recommendations finished on 60000/178122 queries. users per second: 19294.1</pre>"
      ],
      "text/plain": [
       "recommendations finished on 60000/178122 queries. users per second: 19294.1"
      ]
     },
     "metadata": {},
     "output_type": "display_data"
    },
    {
     "data": {
      "text/html": [
       "<pre>recommendations finished on 61000/178122 queries. users per second: 19311.1</pre>"
      ],
      "text/plain": [
       "recommendations finished on 61000/178122 queries. users per second: 19311.1"
      ]
     },
     "metadata": {},
     "output_type": "display_data"
    },
    {
     "data": {
      "text/html": [
       "<pre>recommendations finished on 62000/178122 queries. users per second: 19294.6</pre>"
      ],
      "text/plain": [
       "recommendations finished on 62000/178122 queries. users per second: 19294.6"
      ]
     },
     "metadata": {},
     "output_type": "display_data"
    },
    {
     "data": {
      "text/html": [
       "<pre>recommendations finished on 63000/178122 queries. users per second: 19325.5</pre>"
      ],
      "text/plain": [
       "recommendations finished on 63000/178122 queries. users per second: 19325.5"
      ]
     },
     "metadata": {},
     "output_type": "display_data"
    },
    {
     "data": {
      "text/html": [
       "<pre>recommendations finished on 64000/178122 queries. users per second: 19365.8</pre>"
      ],
      "text/plain": [
       "recommendations finished on 64000/178122 queries. users per second: 19365.8"
      ]
     },
     "metadata": {},
     "output_type": "display_data"
    },
    {
     "data": {
      "text/html": [
       "<pre>recommendations finished on 65000/178122 queries. users per second: 19366.2</pre>"
      ],
      "text/plain": [
       "recommendations finished on 65000/178122 queries. users per second: 19366.2"
      ]
     },
     "metadata": {},
     "output_type": "display_data"
    },
    {
     "data": {
      "text/html": [
       "<pre>recommendations finished on 66000/178122 queries. users per second: 19339.1</pre>"
      ],
      "text/plain": [
       "recommendations finished on 66000/178122 queries. users per second: 19339.1"
      ]
     },
     "metadata": {},
     "output_type": "display_data"
    },
    {
     "data": {
      "text/html": [
       "<pre>recommendations finished on 67000/178122 queries. users per second: 19224.8</pre>"
      ],
      "text/plain": [
       "recommendations finished on 67000/178122 queries. users per second: 19224.8"
      ]
     },
     "metadata": {},
     "output_type": "display_data"
    },
    {
     "data": {
      "text/html": [
       "<pre>recommendations finished on 68000/178122 queries. users per second: 19174.3</pre>"
      ],
      "text/plain": [
       "recommendations finished on 68000/178122 queries. users per second: 19174.3"
      ]
     },
     "metadata": {},
     "output_type": "display_data"
    },
    {
     "data": {
      "text/html": [
       "<pre>recommendations finished on 69000/178122 queries. users per second: 19192.3</pre>"
      ],
      "text/plain": [
       "recommendations finished on 69000/178122 queries. users per second: 19192.3"
      ]
     },
     "metadata": {},
     "output_type": "display_data"
    },
    {
     "data": {
      "text/html": [
       "<pre>recommendations finished on 70000/178122 queries. users per second: 19144.9</pre>"
      ],
      "text/plain": [
       "recommendations finished on 70000/178122 queries. users per second: 19144.9"
      ]
     },
     "metadata": {},
     "output_type": "display_data"
    },
    {
     "data": {
      "text/html": [
       "<pre>recommendations finished on 71000/178122 queries. users per second: 19130.6</pre>"
      ],
      "text/plain": [
       "recommendations finished on 71000/178122 queries. users per second: 19130.6"
      ]
     },
     "metadata": {},
     "output_type": "display_data"
    },
    {
     "data": {
      "text/html": [
       "<pre>recommendations finished on 72000/178122 queries. users per second: 19150.9</pre>"
      ],
      "text/plain": [
       "recommendations finished on 72000/178122 queries. users per second: 19150.9"
      ]
     },
     "metadata": {},
     "output_type": "display_data"
    },
    {
     "data": {
      "text/html": [
       "<pre>recommendations finished on 73000/178122 queries. users per second: 19181.3</pre>"
      ],
      "text/plain": [
       "recommendations finished on 73000/178122 queries. users per second: 19181.3"
      ]
     },
     "metadata": {},
     "output_type": "display_data"
    },
    {
     "data": {
      "text/html": [
       "<pre>recommendations finished on 74000/178122 queries. users per second: 19191.3</pre>"
      ],
      "text/plain": [
       "recommendations finished on 74000/178122 queries. users per second: 19191.3"
      ]
     },
     "metadata": {},
     "output_type": "display_data"
    },
    {
     "data": {
      "text/html": [
       "<pre>recommendations finished on 75000/178122 queries. users per second: 19194.5</pre>"
      ],
      "text/plain": [
       "recommendations finished on 75000/178122 queries. users per second: 19194.5"
      ]
     },
     "metadata": {},
     "output_type": "display_data"
    },
    {
     "data": {
      "text/html": [
       "<pre>recommendations finished on 76000/178122 queries. users per second: 19182.9</pre>"
      ],
      "text/plain": [
       "recommendations finished on 76000/178122 queries. users per second: 19182.9"
      ]
     },
     "metadata": {},
     "output_type": "display_data"
    },
    {
     "data": {
      "text/html": [
       "<pre>recommendations finished on 77000/178122 queries. users per second: 19170.6</pre>"
      ],
      "text/plain": [
       "recommendations finished on 77000/178122 queries. users per second: 19170.6"
      ]
     },
     "metadata": {},
     "output_type": "display_data"
    },
    {
     "data": {
      "text/html": [
       "<pre>recommendations finished on 78000/178122 queries. users per second: 19147.1</pre>"
      ],
      "text/plain": [
       "recommendations finished on 78000/178122 queries. users per second: 19147.1"
      ]
     },
     "metadata": {},
     "output_type": "display_data"
    },
    {
     "data": {
      "text/html": [
       "<pre>recommendations finished on 79000/178122 queries. users per second: 19092</pre>"
      ],
      "text/plain": [
       "recommendations finished on 79000/178122 queries. users per second: 19092"
      ]
     },
     "metadata": {},
     "output_type": "display_data"
    },
    {
     "data": {
      "text/html": [
       "<pre>recommendations finished on 80000/178122 queries. users per second: 19014.7</pre>"
      ],
      "text/plain": [
       "recommendations finished on 80000/178122 queries. users per second: 19014.7"
      ]
     },
     "metadata": {},
     "output_type": "display_data"
    },
    {
     "data": {
      "text/html": [
       "<pre>recommendations finished on 81000/178122 queries. users per second: 19016.1</pre>"
      ],
      "text/plain": [
       "recommendations finished on 81000/178122 queries. users per second: 19016.1"
      ]
     },
     "metadata": {},
     "output_type": "display_data"
    },
    {
     "data": {
      "text/html": [
       "<pre>recommendations finished on 82000/178122 queries. users per second: 19035.6</pre>"
      ],
      "text/plain": [
       "recommendations finished on 82000/178122 queries. users per second: 19035.6"
      ]
     },
     "metadata": {},
     "output_type": "display_data"
    },
    {
     "data": {
      "text/html": [
       "<pre>recommendations finished on 83000/178122 queries. users per second: 19060.9</pre>"
      ],
      "text/plain": [
       "recommendations finished on 83000/178122 queries. users per second: 19060.9"
      ]
     },
     "metadata": {},
     "output_type": "display_data"
    },
    {
     "data": {
      "text/html": [
       "<pre>recommendations finished on 84000/178122 queries. users per second: 19055</pre>"
      ],
      "text/plain": [
       "recommendations finished on 84000/178122 queries. users per second: 19055"
      ]
     },
     "metadata": {},
     "output_type": "display_data"
    },
    {
     "data": {
      "text/html": [
       "<pre>recommendations finished on 85000/178122 queries. users per second: 19024.3</pre>"
      ],
      "text/plain": [
       "recommendations finished on 85000/178122 queries. users per second: 19024.3"
      ]
     },
     "metadata": {},
     "output_type": "display_data"
    },
    {
     "data": {
      "text/html": [
       "<pre>recommendations finished on 86000/178122 queries. users per second: 19019.3</pre>"
      ],
      "text/plain": [
       "recommendations finished on 86000/178122 queries. users per second: 19019.3"
      ]
     },
     "metadata": {},
     "output_type": "display_data"
    },
    {
     "data": {
      "text/html": [
       "<pre>recommendations finished on 87000/178122 queries. users per second: 19034.1</pre>"
      ],
      "text/plain": [
       "recommendations finished on 87000/178122 queries. users per second: 19034.1"
      ]
     },
     "metadata": {},
     "output_type": "display_data"
    },
    {
     "data": {
      "text/html": [
       "<pre>recommendations finished on 88000/178122 queries. users per second: 19046.9</pre>"
      ],
      "text/plain": [
       "recommendations finished on 88000/178122 queries. users per second: 19046.9"
      ]
     },
     "metadata": {},
     "output_type": "display_data"
    },
    {
     "data": {
      "text/html": [
       "<pre>recommendations finished on 89000/178122 queries. users per second: 19077.4</pre>"
      ],
      "text/plain": [
       "recommendations finished on 89000/178122 queries. users per second: 19077.4"
      ]
     },
     "metadata": {},
     "output_type": "display_data"
    },
    {
     "data": {
      "text/html": [
       "<pre>recommendations finished on 90000/178122 queries. users per second: 19114.1</pre>"
      ],
      "text/plain": [
       "recommendations finished on 90000/178122 queries. users per second: 19114.1"
      ]
     },
     "metadata": {},
     "output_type": "display_data"
    },
    {
     "data": {
      "text/html": [
       "<pre>recommendations finished on 91000/178122 queries. users per second: 19121.1</pre>"
      ],
      "text/plain": [
       "recommendations finished on 91000/178122 queries. users per second: 19121.1"
      ]
     },
     "metadata": {},
     "output_type": "display_data"
    },
    {
     "data": {
      "text/html": [
       "<pre>recommendations finished on 92000/178122 queries. users per second: 19146.4</pre>"
      ],
      "text/plain": [
       "recommendations finished on 92000/178122 queries. users per second: 19146.4"
      ]
     },
     "metadata": {},
     "output_type": "display_data"
    },
    {
     "data": {
      "text/html": [
       "<pre>recommendations finished on 93000/178122 queries. users per second: 19175.7</pre>"
      ],
      "text/plain": [
       "recommendations finished on 93000/178122 queries. users per second: 19175.7"
      ]
     },
     "metadata": {},
     "output_type": "display_data"
    },
    {
     "data": {
      "text/html": [
       "<pre>recommendations finished on 94000/178122 queries. users per second: 19167.3</pre>"
      ],
      "text/plain": [
       "recommendations finished on 94000/178122 queries. users per second: 19167.3"
      ]
     },
     "metadata": {},
     "output_type": "display_data"
    },
    {
     "data": {
      "text/html": [
       "<pre>recommendations finished on 95000/178122 queries. users per second: 19126</pre>"
      ],
      "text/plain": [
       "recommendations finished on 95000/178122 queries. users per second: 19126"
      ]
     },
     "metadata": {},
     "output_type": "display_data"
    },
    {
     "data": {
      "text/html": [
       "<pre>recommendations finished on 96000/178122 queries. users per second: 19063.5</pre>"
      ],
      "text/plain": [
       "recommendations finished on 96000/178122 queries. users per second: 19063.5"
      ]
     },
     "metadata": {},
     "output_type": "display_data"
    },
    {
     "data": {
      "text/html": [
       "<pre>recommendations finished on 97000/178122 queries. users per second: 19077.8</pre>"
      ],
      "text/plain": [
       "recommendations finished on 97000/178122 queries. users per second: 19077.8"
      ]
     },
     "metadata": {},
     "output_type": "display_data"
    },
    {
     "data": {
      "text/html": [
       "<pre>recommendations finished on 98000/178122 queries. users per second: 19090.5</pre>"
      ],
      "text/plain": [
       "recommendations finished on 98000/178122 queries. users per second: 19090.5"
      ]
     },
     "metadata": {},
     "output_type": "display_data"
    },
    {
     "data": {
      "text/html": [
       "<pre>recommendations finished on 99000/178122 queries. users per second: 19113.5</pre>"
      ],
      "text/plain": [
       "recommendations finished on 99000/178122 queries. users per second: 19113.5"
      ]
     },
     "metadata": {},
     "output_type": "display_data"
    },
    {
     "data": {
      "text/html": [
       "<pre>recommendations finished on 100000/178122 queries. users per second: 19116.8</pre>"
      ],
      "text/plain": [
       "recommendations finished on 100000/178122 queries. users per second: 19116.8"
      ]
     },
     "metadata": {},
     "output_type": "display_data"
    },
    {
     "data": {
      "text/html": [
       "<pre>recommendations finished on 101000/178122 queries. users per second: 19122.4</pre>"
      ],
      "text/plain": [
       "recommendations finished on 101000/178122 queries. users per second: 19122.4"
      ]
     },
     "metadata": {},
     "output_type": "display_data"
    },
    {
     "data": {
      "text/html": [
       "<pre>recommendations finished on 102000/178122 queries. users per second: 19123.7</pre>"
      ],
      "text/plain": [
       "recommendations finished on 102000/178122 queries. users per second: 19123.7"
      ]
     },
     "metadata": {},
     "output_type": "display_data"
    },
    {
     "data": {
      "text/html": [
       "<pre>recommendations finished on 103000/178122 queries. users per second: 19151</pre>"
      ],
      "text/plain": [
       "recommendations finished on 103000/178122 queries. users per second: 19151"
      ]
     },
     "metadata": {},
     "output_type": "display_data"
    },
    {
     "data": {
      "text/html": [
       "<pre>recommendations finished on 104000/178122 queries. users per second: 19157.6</pre>"
      ],
      "text/plain": [
       "recommendations finished on 104000/178122 queries. users per second: 19157.6"
      ]
     },
     "metadata": {},
     "output_type": "display_data"
    },
    {
     "data": {
      "text/html": [
       "<pre>recommendations finished on 105000/178122 queries. users per second: 19153.8</pre>"
      ],
      "text/plain": [
       "recommendations finished on 105000/178122 queries. users per second: 19153.8"
      ]
     },
     "metadata": {},
     "output_type": "display_data"
    },
    {
     "data": {
      "text/html": [
       "<pre>recommendations finished on 106000/178122 queries. users per second: 19177.9</pre>"
      ],
      "text/plain": [
       "recommendations finished on 106000/178122 queries. users per second: 19177.9"
      ]
     },
     "metadata": {},
     "output_type": "display_data"
    },
    {
     "data": {
      "text/html": [
       "<pre>recommendations finished on 107000/178122 queries. users per second: 19186</pre>"
      ],
      "text/plain": [
       "recommendations finished on 107000/178122 queries. users per second: 19186"
      ]
     },
     "metadata": {},
     "output_type": "display_data"
    },
    {
     "data": {
      "text/html": [
       "<pre>recommendations finished on 108000/178122 queries. users per second: 19198.7</pre>"
      ],
      "text/plain": [
       "recommendations finished on 108000/178122 queries. users per second: 19198.7"
      ]
     },
     "metadata": {},
     "output_type": "display_data"
    },
    {
     "data": {
      "text/html": [
       "<pre>recommendations finished on 109000/178122 queries. users per second: 19135.2</pre>"
      ],
      "text/plain": [
       "recommendations finished on 109000/178122 queries. users per second: 19135.2"
      ]
     },
     "metadata": {},
     "output_type": "display_data"
    },
    {
     "data": {
      "text/html": [
       "<pre>recommendations finished on 110000/178122 queries. users per second: 18930.6</pre>"
      ],
      "text/plain": [
       "recommendations finished on 110000/178122 queries. users per second: 18930.6"
      ]
     },
     "metadata": {},
     "output_type": "display_data"
    },
    {
     "data": {
      "text/html": [
       "<pre>recommendations finished on 111000/178122 queries. users per second: 18768.8</pre>"
      ],
      "text/plain": [
       "recommendations finished on 111000/178122 queries. users per second: 18768.8"
      ]
     },
     "metadata": {},
     "output_type": "display_data"
    },
    {
     "data": {
      "text/html": [
       "<pre>recommendations finished on 112000/178122 queries. users per second: 18733.9</pre>"
      ],
      "text/plain": [
       "recommendations finished on 112000/178122 queries. users per second: 18733.9"
      ]
     },
     "metadata": {},
     "output_type": "display_data"
    },
    {
     "data": {
      "text/html": [
       "<pre>recommendations finished on 113000/178122 queries. users per second: 18690</pre>"
      ],
      "text/plain": [
       "recommendations finished on 113000/178122 queries. users per second: 18690"
      ]
     },
     "metadata": {},
     "output_type": "display_data"
    },
    {
     "data": {
      "text/html": [
       "<pre>recommendations finished on 114000/178122 queries. users per second: 18656.9</pre>"
      ],
      "text/plain": [
       "recommendations finished on 114000/178122 queries. users per second: 18656.9"
      ]
     },
     "metadata": {},
     "output_type": "display_data"
    },
    {
     "data": {
      "text/html": [
       "<pre>recommendations finished on 115000/178122 queries. users per second: 18612.5</pre>"
      ],
      "text/plain": [
       "recommendations finished on 115000/178122 queries. users per second: 18612.5"
      ]
     },
     "metadata": {},
     "output_type": "display_data"
    },
    {
     "data": {
      "text/html": [
       "<pre>recommendations finished on 116000/178122 queries. users per second: 18579.1</pre>"
      ],
      "text/plain": [
       "recommendations finished on 116000/178122 queries. users per second: 18579.1"
      ]
     },
     "metadata": {},
     "output_type": "display_data"
    },
    {
     "data": {
      "text/html": [
       "<pre>recommendations finished on 117000/178122 queries. users per second: 18515.9</pre>"
      ],
      "text/plain": [
       "recommendations finished on 117000/178122 queries. users per second: 18515.9"
      ]
     },
     "metadata": {},
     "output_type": "display_data"
    },
    {
     "data": {
      "text/html": [
       "<pre>recommendations finished on 118000/178122 queries. users per second: 18402.1</pre>"
      ],
      "text/plain": [
       "recommendations finished on 118000/178122 queries. users per second: 18402.1"
      ]
     },
     "metadata": {},
     "output_type": "display_data"
    },
    {
     "data": {
      "text/html": [
       "<pre>recommendations finished on 119000/178122 queries. users per second: 18294.2</pre>"
      ],
      "text/plain": [
       "recommendations finished on 119000/178122 queries. users per second: 18294.2"
      ]
     },
     "metadata": {},
     "output_type": "display_data"
    },
    {
     "data": {
      "text/html": [
       "<pre>recommendations finished on 120000/178122 queries. users per second: 18277.6</pre>"
      ],
      "text/plain": [
       "recommendations finished on 120000/178122 queries. users per second: 18277.6"
      ]
     },
     "metadata": {},
     "output_type": "display_data"
    },
    {
     "data": {
      "text/html": [
       "<pre>recommendations finished on 121000/178122 queries. users per second: 18201.9</pre>"
      ],
      "text/plain": [
       "recommendations finished on 121000/178122 queries. users per second: 18201.9"
      ]
     },
     "metadata": {},
     "output_type": "display_data"
    },
    {
     "data": {
      "text/html": [
       "<pre>recommendations finished on 122000/178122 queries. users per second: 18210.6</pre>"
      ],
      "text/plain": [
       "recommendations finished on 122000/178122 queries. users per second: 18210.6"
      ]
     },
     "metadata": {},
     "output_type": "display_data"
    },
    {
     "data": {
      "text/html": [
       "<pre>recommendations finished on 123000/178122 queries. users per second: 18174.2</pre>"
      ],
      "text/plain": [
       "recommendations finished on 123000/178122 queries. users per second: 18174.2"
      ]
     },
     "metadata": {},
     "output_type": "display_data"
    },
    {
     "data": {
      "text/html": [
       "<pre>recommendations finished on 124000/178122 queries. users per second: 18177.1</pre>"
      ],
      "text/plain": [
       "recommendations finished on 124000/178122 queries. users per second: 18177.1"
      ]
     },
     "metadata": {},
     "output_type": "display_data"
    },
    {
     "data": {
      "text/html": [
       "<pre>recommendations finished on 125000/178122 queries. users per second: 18188.3</pre>"
      ],
      "text/plain": [
       "recommendations finished on 125000/178122 queries. users per second: 18188.3"
      ]
     },
     "metadata": {},
     "output_type": "display_data"
    },
    {
     "data": {
      "text/html": [
       "<pre>recommendations finished on 126000/178122 queries. users per second: 18205.6</pre>"
      ],
      "text/plain": [
       "recommendations finished on 126000/178122 queries. users per second: 18205.6"
      ]
     },
     "metadata": {},
     "output_type": "display_data"
    },
    {
     "data": {
      "text/html": [
       "<pre>recommendations finished on 127000/178122 queries. users per second: 18206.4</pre>"
      ],
      "text/plain": [
       "recommendations finished on 127000/178122 queries. users per second: 18206.4"
      ]
     },
     "metadata": {},
     "output_type": "display_data"
    },
    {
     "data": {
      "text/html": [
       "<pre>recommendations finished on 128000/178122 queries. users per second: 18235.5</pre>"
      ],
      "text/plain": [
       "recommendations finished on 128000/178122 queries. users per second: 18235.5"
      ]
     },
     "metadata": {},
     "output_type": "display_data"
    },
    {
     "data": {
      "text/html": [
       "<pre>recommendations finished on 129000/178122 queries. users per second: 18239.8</pre>"
      ],
      "text/plain": [
       "recommendations finished on 129000/178122 queries. users per second: 18239.8"
      ]
     },
     "metadata": {},
     "output_type": "display_data"
    },
    {
     "data": {
      "text/html": [
       "<pre>recommendations finished on 130000/178122 queries. users per second: 18214.1</pre>"
      ],
      "text/plain": [
       "recommendations finished on 130000/178122 queries. users per second: 18214.1"
      ]
     },
     "metadata": {},
     "output_type": "display_data"
    },
    {
     "data": {
      "text/html": [
       "<pre>recommendations finished on 131000/178122 queries. users per second: 18206.6</pre>"
      ],
      "text/plain": [
       "recommendations finished on 131000/178122 queries. users per second: 18206.6"
      ]
     },
     "metadata": {},
     "output_type": "display_data"
    },
    {
     "data": {
      "text/html": [
       "<pre>recommendations finished on 132000/178122 queries. users per second: 18217.9</pre>"
      ],
      "text/plain": [
       "recommendations finished on 132000/178122 queries. users per second: 18217.9"
      ]
     },
     "metadata": {},
     "output_type": "display_data"
    },
    {
     "data": {
      "text/html": [
       "<pre>recommendations finished on 133000/178122 queries. users per second: 18221.6</pre>"
      ],
      "text/plain": [
       "recommendations finished on 133000/178122 queries. users per second: 18221.6"
      ]
     },
     "metadata": {},
     "output_type": "display_data"
    },
    {
     "data": {
      "text/html": [
       "<pre>recommendations finished on 134000/178122 queries. users per second: 18234.1</pre>"
      ],
      "text/plain": [
       "recommendations finished on 134000/178122 queries. users per second: 18234.1"
      ]
     },
     "metadata": {},
     "output_type": "display_data"
    },
    {
     "data": {
      "text/html": [
       "<pre>recommendations finished on 135000/178122 queries. users per second: 18245.8</pre>"
      ],
      "text/plain": [
       "recommendations finished on 135000/178122 queries. users per second: 18245.8"
      ]
     },
     "metadata": {},
     "output_type": "display_data"
    },
    {
     "data": {
      "text/html": [
       "<pre>recommendations finished on 136000/178122 queries. users per second: 18268.5</pre>"
      ],
      "text/plain": [
       "recommendations finished on 136000/178122 queries. users per second: 18268.5"
      ]
     },
     "metadata": {},
     "output_type": "display_data"
    },
    {
     "data": {
      "text/html": [
       "<pre>recommendations finished on 137000/178122 queries. users per second: 18281.4</pre>"
      ],
      "text/plain": [
       "recommendations finished on 137000/178122 queries. users per second: 18281.4"
      ]
     },
     "metadata": {},
     "output_type": "display_data"
    },
    {
     "data": {
      "text/html": [
       "<pre>recommendations finished on 138000/178122 queries. users per second: 18304.4</pre>"
      ],
      "text/plain": [
       "recommendations finished on 138000/178122 queries. users per second: 18304.4"
      ]
     },
     "metadata": {},
     "output_type": "display_data"
    },
    {
     "data": {
      "text/html": [
       "<pre>recommendations finished on 139000/178122 queries. users per second: 18315.1</pre>"
      ],
      "text/plain": [
       "recommendations finished on 139000/178122 queries. users per second: 18315.1"
      ]
     },
     "metadata": {},
     "output_type": "display_data"
    },
    {
     "data": {
      "text/html": [
       "<pre>recommendations finished on 140000/178122 queries. users per second: 18328.3</pre>"
      ],
      "text/plain": [
       "recommendations finished on 140000/178122 queries. users per second: 18328.3"
      ]
     },
     "metadata": {},
     "output_type": "display_data"
    },
    {
     "data": {
      "text/html": [
       "<pre>recommendations finished on 141000/178122 queries. users per second: 18351.7</pre>"
      ],
      "text/plain": [
       "recommendations finished on 141000/178122 queries. users per second: 18351.7"
      ]
     },
     "metadata": {},
     "output_type": "display_data"
    },
    {
     "data": {
      "text/html": [
       "<pre>recommendations finished on 142000/178122 queries. users per second: 18364.8</pre>"
      ],
      "text/plain": [
       "recommendations finished on 142000/178122 queries. users per second: 18364.8"
      ]
     },
     "metadata": {},
     "output_type": "display_data"
    },
    {
     "data": {
      "text/html": [
       "<pre>recommendations finished on 143000/178122 queries. users per second: 18371.3</pre>"
      ],
      "text/plain": [
       "recommendations finished on 143000/178122 queries. users per second: 18371.3"
      ]
     },
     "metadata": {},
     "output_type": "display_data"
    },
    {
     "data": {
      "text/html": [
       "<pre>recommendations finished on 144000/178122 queries. users per second: 18384.1</pre>"
      ],
      "text/plain": [
       "recommendations finished on 144000/178122 queries. users per second: 18384.1"
      ]
     },
     "metadata": {},
     "output_type": "display_data"
    },
    {
     "data": {
      "text/html": [
       "<pre>recommendations finished on 145000/178122 queries. users per second: 18392.6</pre>"
      ],
      "text/plain": [
       "recommendations finished on 145000/178122 queries. users per second: 18392.6"
      ]
     },
     "metadata": {},
     "output_type": "display_data"
    },
    {
     "data": {
      "text/html": [
       "<pre>recommendations finished on 146000/178122 queries. users per second: 18379.8</pre>"
      ],
      "text/plain": [
       "recommendations finished on 146000/178122 queries. users per second: 18379.8"
      ]
     },
     "metadata": {},
     "output_type": "display_data"
    },
    {
     "data": {
      "text/html": [
       "<pre>recommendations finished on 147000/178122 queries. users per second: 18385.1</pre>"
      ],
      "text/plain": [
       "recommendations finished on 147000/178122 queries. users per second: 18385.1"
      ]
     },
     "metadata": {},
     "output_type": "display_data"
    },
    {
     "data": {
      "text/html": [
       "<pre>recommendations finished on 148000/178122 queries. users per second: 18391.8</pre>"
      ],
      "text/plain": [
       "recommendations finished on 148000/178122 queries. users per second: 18391.8"
      ]
     },
     "metadata": {},
     "output_type": "display_data"
    },
    {
     "data": {
      "text/html": [
       "<pre>recommendations finished on 149000/178122 queries. users per second: 18418.2</pre>"
      ],
      "text/plain": [
       "recommendations finished on 149000/178122 queries. users per second: 18418.2"
      ]
     },
     "metadata": {},
     "output_type": "display_data"
    },
    {
     "data": {
      "text/html": [
       "<pre>recommendations finished on 150000/178122 queries. users per second: 18432.8</pre>"
      ],
      "text/plain": [
       "recommendations finished on 150000/178122 queries. users per second: 18432.8"
      ]
     },
     "metadata": {},
     "output_type": "display_data"
    },
    {
     "data": {
      "text/html": [
       "<pre>recommendations finished on 151000/178122 queries. users per second: 18457.4</pre>"
      ],
      "text/plain": [
       "recommendations finished on 151000/178122 queries. users per second: 18457.4"
      ]
     },
     "metadata": {},
     "output_type": "display_data"
    },
    {
     "data": {
      "text/html": [
       "<pre>recommendations finished on 152000/178122 queries. users per second: 18441.1</pre>"
      ],
      "text/plain": [
       "recommendations finished on 152000/178122 queries. users per second: 18441.1"
      ]
     },
     "metadata": {},
     "output_type": "display_data"
    },
    {
     "data": {
      "text/html": [
       "<pre>recommendations finished on 153000/178122 queries. users per second: 18436.8</pre>"
      ],
      "text/plain": [
       "recommendations finished on 153000/178122 queries. users per second: 18436.8"
      ]
     },
     "metadata": {},
     "output_type": "display_data"
    },
    {
     "data": {
      "text/html": [
       "<pre>recommendations finished on 154000/178122 queries. users per second: 18444.8</pre>"
      ],
      "text/plain": [
       "recommendations finished on 154000/178122 queries. users per second: 18444.8"
      ]
     },
     "metadata": {},
     "output_type": "display_data"
    },
    {
     "data": {
      "text/html": [
       "<pre>recommendations finished on 155000/178122 queries. users per second: 18448.1</pre>"
      ],
      "text/plain": [
       "recommendations finished on 155000/178122 queries. users per second: 18448.1"
      ]
     },
     "metadata": {},
     "output_type": "display_data"
    },
    {
     "data": {
      "text/html": [
       "<pre>recommendations finished on 156000/178122 queries. users per second: 18452.3</pre>"
      ],
      "text/plain": [
       "recommendations finished on 156000/178122 queries. users per second: 18452.3"
      ]
     },
     "metadata": {},
     "output_type": "display_data"
    },
    {
     "data": {
      "text/html": [
       "<pre>recommendations finished on 157000/178122 queries. users per second: 18432.8</pre>"
      ],
      "text/plain": [
       "recommendations finished on 157000/178122 queries. users per second: 18432.8"
      ]
     },
     "metadata": {},
     "output_type": "display_data"
    },
    {
     "data": {
      "text/html": [
       "<pre>recommendations finished on 158000/178122 queries. users per second: 18370.5</pre>"
      ],
      "text/plain": [
       "recommendations finished on 158000/178122 queries. users per second: 18370.5"
      ]
     },
     "metadata": {},
     "output_type": "display_data"
    },
    {
     "data": {
      "text/html": [
       "<pre>recommendations finished on 159000/178122 queries. users per second: 18259.6</pre>"
      ],
      "text/plain": [
       "recommendations finished on 159000/178122 queries. users per second: 18259.6"
      ]
     },
     "metadata": {},
     "output_type": "display_data"
    },
    {
     "data": {
      "text/html": [
       "<pre>recommendations finished on 160000/178122 queries. users per second: 18176.2</pre>"
      ],
      "text/plain": [
       "recommendations finished on 160000/178122 queries. users per second: 18176.2"
      ]
     },
     "metadata": {},
     "output_type": "display_data"
    },
    {
     "data": {
      "text/html": [
       "<pre>recommendations finished on 161000/178122 queries. users per second: 18122.8</pre>"
      ],
      "text/plain": [
       "recommendations finished on 161000/178122 queries. users per second: 18122.8"
      ]
     },
     "metadata": {},
     "output_type": "display_data"
    },
    {
     "data": {
      "text/html": [
       "<pre>recommendations finished on 162000/178122 queries. users per second: 18077.6</pre>"
      ],
      "text/plain": [
       "recommendations finished on 162000/178122 queries. users per second: 18077.6"
      ]
     },
     "metadata": {},
     "output_type": "display_data"
    },
    {
     "data": {
      "text/html": [
       "<pre>recommendations finished on 163000/178122 queries. users per second: 18025.1</pre>"
      ],
      "text/plain": [
       "recommendations finished on 163000/178122 queries. users per second: 18025.1"
      ]
     },
     "metadata": {},
     "output_type": "display_data"
    },
    {
     "data": {
      "text/html": [
       "<pre>recommendations finished on 164000/178122 queries. users per second: 17972.6</pre>"
      ],
      "text/plain": [
       "recommendations finished on 164000/178122 queries. users per second: 17972.6"
      ]
     },
     "metadata": {},
     "output_type": "display_data"
    },
    {
     "data": {
      "text/html": [
       "<pre>recommendations finished on 165000/178122 queries. users per second: 17912.9</pre>"
      ],
      "text/plain": [
       "recommendations finished on 165000/178122 queries. users per second: 17912.9"
      ]
     },
     "metadata": {},
     "output_type": "display_data"
    },
    {
     "data": {
      "text/html": [
       "<pre>recommendations finished on 166000/178122 queries. users per second: 17852.4</pre>"
      ],
      "text/plain": [
       "recommendations finished on 166000/178122 queries. users per second: 17852.4"
      ]
     },
     "metadata": {},
     "output_type": "display_data"
    },
    {
     "data": {
      "text/html": [
       "<pre>recommendations finished on 167000/178122 queries. users per second: 17791.8</pre>"
      ],
      "text/plain": [
       "recommendations finished on 167000/178122 queries. users per second: 17791.8"
      ]
     },
     "metadata": {},
     "output_type": "display_data"
    },
    {
     "data": {
      "text/html": [
       "<pre>recommendations finished on 168000/178122 queries. users per second: 17754.4</pre>"
      ],
      "text/plain": [
       "recommendations finished on 168000/178122 queries. users per second: 17754.4"
      ]
     },
     "metadata": {},
     "output_type": "display_data"
    },
    {
     "data": {
      "text/html": [
       "<pre>recommendations finished on 169000/178122 queries. users per second: 17692.7</pre>"
      ],
      "text/plain": [
       "recommendations finished on 169000/178122 queries. users per second: 17692.7"
      ]
     },
     "metadata": {},
     "output_type": "display_data"
    },
    {
     "data": {
      "text/html": [
       "<pre>recommendations finished on 170000/178122 queries. users per second: 17648.4</pre>"
      ],
      "text/plain": [
       "recommendations finished on 170000/178122 queries. users per second: 17648.4"
      ]
     },
     "metadata": {},
     "output_type": "display_data"
    },
    {
     "data": {
      "text/html": [
       "<pre>recommendations finished on 171000/178122 queries. users per second: 17602.5</pre>"
      ],
      "text/plain": [
       "recommendations finished on 171000/178122 queries. users per second: 17602.5"
      ]
     },
     "metadata": {},
     "output_type": "display_data"
    },
    {
     "data": {
      "text/html": [
       "<pre>recommendations finished on 172000/178122 queries. users per second: 17559.4</pre>"
      ],
      "text/plain": [
       "recommendations finished on 172000/178122 queries. users per second: 17559.4"
      ]
     },
     "metadata": {},
     "output_type": "display_data"
    },
    {
     "data": {
      "text/html": [
       "<pre>recommendations finished on 173000/178122 queries. users per second: 17504.8</pre>"
      ],
      "text/plain": [
       "recommendations finished on 173000/178122 queries. users per second: 17504.8"
      ]
     },
     "metadata": {},
     "output_type": "display_data"
    },
    {
     "data": {
      "text/html": [
       "<pre>recommendations finished on 174000/178122 queries. users per second: 17462.9</pre>"
      ],
      "text/plain": [
       "recommendations finished on 174000/178122 queries. users per second: 17462.9"
      ]
     },
     "metadata": {},
     "output_type": "display_data"
    },
    {
     "data": {
      "text/html": [
       "<pre>recommendations finished on 175000/178122 queries. users per second: 17381.7</pre>"
      ],
      "text/plain": [
       "recommendations finished on 175000/178122 queries. users per second: 17381.7"
      ]
     },
     "metadata": {},
     "output_type": "display_data"
    },
    {
     "data": {
      "text/html": [
       "<pre>recommendations finished on 176000/178122 queries. users per second: 17285.2</pre>"
      ],
      "text/plain": [
       "recommendations finished on 176000/178122 queries. users per second: 17285.2"
      ]
     },
     "metadata": {},
     "output_type": "display_data"
    },
    {
     "data": {
      "text/html": [
       "<pre>recommendations finished on 177000/178122 queries. users per second: 17038.4</pre>"
      ],
      "text/plain": [
       "recommendations finished on 177000/178122 queries. users per second: 17038.4"
      ]
     },
     "metadata": {},
     "output_type": "display_data"
    },
    {
     "data": {
      "text/html": [
       "<pre>recommendations finished on 178000/178122 queries. users per second: 16903.5</pre>"
      ],
      "text/plain": [
       "recommendations finished on 178000/178122 queries. users per second: 16903.5"
      ]
     },
     "metadata": {},
     "output_type": "display_data"
    },
    {
     "name": "stdout",
     "output_type": "stream",
     "text": [
      "+------------+---------+---------------+------+\n",
      "|  Customer  | Product |     score     | rank |\n",
      "+------------+---------+---------------+------+\n",
      "| CC20190310 |   2_29  | 55.8069306931 |  1   |\n",
      "| CC20190310 |   3_21  | 55.4766564911 |  2   |\n",
      "| CC20190310 |   6_19  | 55.3986390801 |  3   |\n",
      "| CC20190310 |   2_28  | 55.2346439167 |  4   |\n",
      "| CC20190310 |   2_15  | 55.1720656599 |  5   |\n",
      "| CC20190310 |   1_21  | 55.1268112012 |  6   |\n",
      "| CC20190310 |   2_10  | 54.9693854988 |  7   |\n",
      "| CC20190310 |   0_15  | 54.9043274274 |  8   |\n",
      "| CC20190310 |   7_21  | 54.7591065611 |  9   |\n",
      "| CC20190310 |   7_11  | 54.5520536838 |  10  |\n",
      "| CC20190310 |   2_29  | 55.8069306931 |  1   |\n",
      "| CC20190310 |   3_21  | 55.4766564911 |  2   |\n",
      "| CC20190310 |   6_19  | 55.3986390801 |  3   |\n",
      "| CC20190310 |   2_28  | 55.2346439167 |  4   |\n",
      "| CC20190310 |   2_15  | 55.1720656599 |  5   |\n",
      "| CC20190310 |   1_21  | 55.1268112012 |  6   |\n",
      "| CC20190310 |   2_10  | 54.9693854988 |  7   |\n",
      "| CC20190310 |   0_15  | 54.9043274274 |  8   |\n",
      "| CC20190310 |   7_21  | 54.7591065611 |  9   |\n",
      "| CC20190310 |   7_11  | 54.5520536838 |  10  |\n",
      "| CC20190310 |   2_29  | 55.8069306931 |  1   |\n",
      "| CC20190310 |   3_21  | 55.4766564911 |  2   |\n",
      "| CC20190310 |   6_19  | 55.3986390801 |  3   |\n",
      "| CC20190310 |   2_28  | 55.2346439167 |  4   |\n",
      "| CC20190310 |   2_15  | 55.1720656599 |  5   |\n",
      "| CC20190310 |   1_21  | 55.1268112012 |  6   |\n",
      "| CC20190310 |   2_10  | 54.9693854988 |  7   |\n",
      "| CC20190310 |   0_15  | 54.9043274274 |  8   |\n",
      "| CC20190310 |   7_21  | 54.7591065611 |  9   |\n",
      "| CC20190310 |   7_11  | 54.5520536838 |  10  |\n",
      "+------------+---------+---------------+------+\n",
      "[1781220 rows x 4 columns]\n",
      "\n"
     ]
    }
   ],
   "source": [
    "# Using number of seconds\n",
    "\n",
    "name = 'pearson'\n",
    "target = 'SecNumF'\n",
    "pear = model(train_data, name, user_id, item_id, target, users_to_recommend, n_rec, n_display)"
   ]
  },
  {
   "cell_type": "code",
   "execution_count": 27,
   "metadata": {
    "collapsed": false,
    "deletable": true,
    "editable": true
   },
   "outputs": [
    {
     "data": {
      "text/html": [
       "<pre>Warning: Ignoring columns SecNumF;</pre>"
      ],
      "text/plain": [
       "Warning: Ignoring columns SecNumF;"
      ]
     },
     "metadata": {},
     "output_type": "display_data"
    },
    {
     "data": {
      "text/html": [
       "<pre>    To use these columns in scoring predictions, use a model that allows the use of additional features.</pre>"
      ],
      "text/plain": [
       "    To use these columns in scoring predictions, use a model that allows the use of additional features."
      ]
     },
     "metadata": {},
     "output_type": "display_data"
    },
    {
     "data": {
      "text/html": [
       "<pre>Preparing data set.</pre>"
      ],
      "text/plain": [
       "Preparing data set."
      ]
     },
     "metadata": {},
     "output_type": "display_data"
    },
    {
     "data": {
      "text/html": [
       "<pre>    Data has 142497 observations with 1436 users and 235 items.</pre>"
      ],
      "text/plain": [
       "    Data has 142497 observations with 1436 users and 235 items."
      ]
     },
     "metadata": {},
     "output_type": "display_data"
    },
    {
     "data": {
      "text/html": [
       "<pre>    Data prepared in: 0.287466s</pre>"
      ],
      "text/plain": [
       "    Data prepared in: 0.287466s"
      ]
     },
     "metadata": {},
     "output_type": "display_data"
    },
    {
     "data": {
      "text/html": [
       "<pre>Training model from provided data.</pre>"
      ],
      "text/plain": [
       "Training model from provided data."
      ]
     },
     "metadata": {},
     "output_type": "display_data"
    },
    {
     "data": {
      "text/html": [
       "<pre>Gathering per-item and per-user statistics.</pre>"
      ],
      "text/plain": [
       "Gathering per-item and per-user statistics."
      ]
     },
     "metadata": {},
     "output_type": "display_data"
    },
    {
     "data": {
      "text/html": [
       "<pre>+--------------------------------+------------+</pre>"
      ],
      "text/plain": [
       "+--------------------------------+------------+"
      ]
     },
     "metadata": {},
     "output_type": "display_data"
    },
    {
     "data": {
      "text/html": [
       "<pre>| Elapsed Time (Item Statistics) | % Complete |</pre>"
      ],
      "text/plain": [
       "| Elapsed Time (Item Statistics) | % Complete |"
      ]
     },
     "metadata": {},
     "output_type": "display_data"
    },
    {
     "data": {
      "text/html": [
       "<pre>+--------------------------------+------------+</pre>"
      ],
      "text/plain": [
       "+--------------------------------+------------+"
      ]
     },
     "metadata": {},
     "output_type": "display_data"
    },
    {
     "data": {
      "text/html": [
       "<pre>| 4.298ms                        | 69.5       |</pre>"
      ],
      "text/plain": [
       "| 4.298ms                        | 69.5       |"
      ]
     },
     "metadata": {},
     "output_type": "display_data"
    },
    {
     "data": {
      "text/html": [
       "<pre>| 5.46ms                         | 100        |</pre>"
      ],
      "text/plain": [
       "| 5.46ms                         | 100        |"
      ]
     },
     "metadata": {},
     "output_type": "display_data"
    },
    {
     "data": {
      "text/html": [
       "<pre>+--------------------------------+------------+</pre>"
      ],
      "text/plain": [
       "+--------------------------------+------------+"
      ]
     },
     "metadata": {},
     "output_type": "display_data"
    },
    {
     "data": {
      "text/html": [
       "<pre>Setting up lookup tables.</pre>"
      ],
      "text/plain": [
       "Setting up lookup tables."
      ]
     },
     "metadata": {},
     "output_type": "display_data"
    },
    {
     "data": {
      "text/html": [
       "<pre>Processing data in one pass using dense lookup tables.</pre>"
      ],
      "text/plain": [
       "Processing data in one pass using dense lookup tables."
      ]
     },
     "metadata": {},
     "output_type": "display_data"
    },
    {
     "data": {
      "text/html": [
       "<pre>+-------------------------------------+------------------+-----------------+</pre>"
      ],
      "text/plain": [
       "+-------------------------------------+------------------+-----------------+"
      ]
     },
     "metadata": {},
     "output_type": "display_data"
    },
    {
     "data": {
      "text/html": [
       "<pre>| Elapsed Time (Constructing Lookups) | Total % Complete | Items Processed |</pre>"
      ],
      "text/plain": [
       "| Elapsed Time (Constructing Lookups) | Total % Complete | Items Processed |"
      ]
     },
     "metadata": {},
     "output_type": "display_data"
    },
    {
     "data": {
      "text/html": [
       "<pre>+-------------------------------------+------------------+-----------------+</pre>"
      ],
      "text/plain": [
       "+-------------------------------------+------------------+-----------------+"
      ]
     },
     "metadata": {},
     "output_type": "display_data"
    },
    {
     "data": {
      "text/html": [
       "<pre>| 6.34ms                              | 0                | 0               |</pre>"
      ],
      "text/plain": [
       "| 6.34ms                              | 0                | 0               |"
      ]
     },
     "metadata": {},
     "output_type": "display_data"
    },
    {
     "data": {
      "text/html": [
       "<pre>| 248.807ms                           | 100              | 235             |</pre>"
      ],
      "text/plain": [
       "| 248.807ms                           | 100              | 235             |"
      ]
     },
     "metadata": {},
     "output_type": "display_data"
    },
    {
     "data": {
      "text/html": [
       "<pre>+-------------------------------------+------------------+-----------------+</pre>"
      ],
      "text/plain": [
       "+-------------------------------------+------------------+-----------------+"
      ]
     },
     "metadata": {},
     "output_type": "display_data"
    },
    {
     "data": {
      "text/html": [
       "<pre>Finalizing lookup tables.</pre>"
      ],
      "text/plain": [
       "Finalizing lookup tables."
      ]
     },
     "metadata": {},
     "output_type": "display_data"
    },
    {
     "data": {
      "text/html": [
       "<pre>Generating candidate set for working with new users.</pre>"
      ],
      "text/plain": [
       "Generating candidate set for working with new users."
      ]
     },
     "metadata": {},
     "output_type": "display_data"
    },
    {
     "data": {
      "text/html": [
       "<pre>Finished training in 0.268128s</pre>"
      ],
      "text/plain": [
       "Finished training in 0.268128s"
      ]
     },
     "metadata": {},
     "output_type": "display_data"
    },
    {
     "data": {
      "text/html": [
       "<pre>recommendations finished on 1000/178122 queries. users per second: 89007.6</pre>"
      ],
      "text/plain": [
       "recommendations finished on 1000/178122 queries. users per second: 89007.6"
      ]
     },
     "metadata": {},
     "output_type": "display_data"
    },
    {
     "data": {
      "text/html": [
       "<pre>recommendations finished on 2000/178122 queries. users per second: 104026</pre>"
      ],
      "text/plain": [
       "recommendations finished on 2000/178122 queries. users per second: 104026"
      ]
     },
     "metadata": {},
     "output_type": "display_data"
    },
    {
     "data": {
      "text/html": [
       "<pre>recommendations finished on 3000/178122 queries. users per second: 120817</pre>"
      ],
      "text/plain": [
       "recommendations finished on 3000/178122 queries. users per second: 120817"
      ]
     },
     "metadata": {},
     "output_type": "display_data"
    },
    {
     "data": {
      "text/html": [
       "<pre>recommendations finished on 4000/178122 queries. users per second: 131376</pre>"
      ],
      "text/plain": [
       "recommendations finished on 4000/178122 queries. users per second: 131376"
      ]
     },
     "metadata": {},
     "output_type": "display_data"
    },
    {
     "data": {
      "text/html": [
       "<pre>recommendations finished on 5000/178122 queries. users per second: 139563</pre>"
      ],
      "text/plain": [
       "recommendations finished on 5000/178122 queries. users per second: 139563"
      ]
     },
     "metadata": {},
     "output_type": "display_data"
    },
    {
     "data": {
      "text/html": [
       "<pre>recommendations finished on 6000/178122 queries. users per second: 149820</pre>"
      ],
      "text/plain": [
       "recommendations finished on 6000/178122 queries. users per second: 149820"
      ]
     },
     "metadata": {},
     "output_type": "display_data"
    },
    {
     "data": {
      "text/html": [
       "<pre>recommendations finished on 7000/178122 queries. users per second: 152535</pre>"
      ],
      "text/plain": [
       "recommendations finished on 7000/178122 queries. users per second: 152535"
      ]
     },
     "metadata": {},
     "output_type": "display_data"
    },
    {
     "data": {
      "text/html": [
       "<pre>recommendations finished on 8000/178122 queries. users per second: 76173.8</pre>"
      ],
      "text/plain": [
       "recommendations finished on 8000/178122 queries. users per second: 76173.8"
      ]
     },
     "metadata": {},
     "output_type": "display_data"
    },
    {
     "data": {
      "text/html": [
       "<pre>recommendations finished on 9000/178122 queries. users per second: 36878.9</pre>"
      ],
      "text/plain": [
       "recommendations finished on 9000/178122 queries. users per second: 36878.9"
      ]
     },
     "metadata": {},
     "output_type": "display_data"
    },
    {
     "data": {
      "text/html": [
       "<pre>recommendations finished on 10000/178122 queries. users per second: 39865.9</pre>"
      ],
      "text/plain": [
       "recommendations finished on 10000/178122 queries. users per second: 39865.9"
      ]
     },
     "metadata": {},
     "output_type": "display_data"
    },
    {
     "data": {
      "text/html": [
       "<pre>recommendations finished on 11000/178122 queries. users per second: 41818.7</pre>"
      ],
      "text/plain": [
       "recommendations finished on 11000/178122 queries. users per second: 41818.7"
      ]
     },
     "metadata": {},
     "output_type": "display_data"
    },
    {
     "data": {
      "text/html": [
       "<pre>recommendations finished on 12000/178122 queries. users per second: 42928.9</pre>"
      ],
      "text/plain": [
       "recommendations finished on 12000/178122 queries. users per second: 42928.9"
      ]
     },
     "metadata": {},
     "output_type": "display_data"
    },
    {
     "data": {
      "text/html": [
       "<pre>recommendations finished on 13000/178122 queries. users per second: 42581.6</pre>"
      ],
      "text/plain": [
       "recommendations finished on 13000/178122 queries. users per second: 42581.6"
      ]
     },
     "metadata": {},
     "output_type": "display_data"
    },
    {
     "data": {
      "text/html": [
       "<pre>recommendations finished on 14000/178122 queries. users per second: 45054.8</pre>"
      ],
      "text/plain": [
       "recommendations finished on 14000/178122 queries. users per second: 45054.8"
      ]
     },
     "metadata": {},
     "output_type": "display_data"
    },
    {
     "data": {
      "text/html": [
       "<pre>recommendations finished on 15000/178122 queries. users per second: 47650.1</pre>"
      ],
      "text/plain": [
       "recommendations finished on 15000/178122 queries. users per second: 47650.1"
      ]
     },
     "metadata": {},
     "output_type": "display_data"
    },
    {
     "data": {
      "text/html": [
       "<pre>recommendations finished on 16000/178122 queries. users per second: 50054.7</pre>"
      ],
      "text/plain": [
       "recommendations finished on 16000/178122 queries. users per second: 50054.7"
      ]
     },
     "metadata": {},
     "output_type": "display_data"
    },
    {
     "data": {
      "text/html": [
       "<pre>recommendations finished on 17000/178122 queries. users per second: 52536.4</pre>"
      ],
      "text/plain": [
       "recommendations finished on 17000/178122 queries. users per second: 52536.4"
      ]
     },
     "metadata": {},
     "output_type": "display_data"
    },
    {
     "data": {
      "text/html": [
       "<pre>recommendations finished on 18000/178122 queries. users per second: 54886.8</pre>"
      ],
      "text/plain": [
       "recommendations finished on 18000/178122 queries. users per second: 54886.8"
      ]
     },
     "metadata": {},
     "output_type": "display_data"
    },
    {
     "data": {
      "text/html": [
       "<pre>recommendations finished on 19000/178122 queries. users per second: 57232.7</pre>"
      ],
      "text/plain": [
       "recommendations finished on 19000/178122 queries. users per second: 57232.7"
      ]
     },
     "metadata": {},
     "output_type": "display_data"
    },
    {
     "data": {
      "text/html": [
       "<pre>recommendations finished on 20000/178122 queries. users per second: 59238.4</pre>"
      ],
      "text/plain": [
       "recommendations finished on 20000/178122 queries. users per second: 59238.4"
      ]
     },
     "metadata": {},
     "output_type": "display_data"
    },
    {
     "data": {
      "text/html": [
       "<pre>recommendations finished on 21000/178122 queries. users per second: 59713.7</pre>"
      ],
      "text/plain": [
       "recommendations finished on 21000/178122 queries. users per second: 59713.7"
      ]
     },
     "metadata": {},
     "output_type": "display_data"
    },
    {
     "data": {
      "text/html": [
       "<pre>recommendations finished on 22000/178122 queries. users per second: 50867.3</pre>"
      ],
      "text/plain": [
       "recommendations finished on 22000/178122 queries. users per second: 50867.3"
      ]
     },
     "metadata": {},
     "output_type": "display_data"
    },
    {
     "data": {
      "text/html": [
       "<pre>recommendations finished on 23000/178122 queries. users per second: 42489.2</pre>"
      ],
      "text/plain": [
       "recommendations finished on 23000/178122 queries. users per second: 42489.2"
      ]
     },
     "metadata": {},
     "output_type": "display_data"
    },
    {
     "data": {
      "text/html": [
       "<pre>recommendations finished on 24000/178122 queries. users per second: 36702.7</pre>"
      ],
      "text/plain": [
       "recommendations finished on 24000/178122 queries. users per second: 36702.7"
      ]
     },
     "metadata": {},
     "output_type": "display_data"
    },
    {
     "data": {
      "text/html": [
       "<pre>recommendations finished on 25000/178122 queries. users per second: 37152</pre>"
      ],
      "text/plain": [
       "recommendations finished on 25000/178122 queries. users per second: 37152"
      ]
     },
     "metadata": {},
     "output_type": "display_data"
    },
    {
     "data": {
      "text/html": [
       "<pre>recommendations finished on 26000/178122 queries. users per second: 37337.4</pre>"
      ],
      "text/plain": [
       "recommendations finished on 26000/178122 queries. users per second: 37337.4"
      ]
     },
     "metadata": {},
     "output_type": "display_data"
    },
    {
     "data": {
      "text/html": [
       "<pre>recommendations finished on 27000/178122 queries. users per second: 38475.5</pre>"
      ],
      "text/plain": [
       "recommendations finished on 27000/178122 queries. users per second: 38475.5"
      ]
     },
     "metadata": {},
     "output_type": "display_data"
    },
    {
     "data": {
      "text/html": [
       "<pre>recommendations finished on 28000/178122 queries. users per second: 39601.2</pre>"
      ],
      "text/plain": [
       "recommendations finished on 28000/178122 queries. users per second: 39601.2"
      ]
     },
     "metadata": {},
     "output_type": "display_data"
    },
    {
     "data": {
      "text/html": [
       "<pre>recommendations finished on 29000/178122 queries. users per second: 40550</pre>"
      ],
      "text/plain": [
       "recommendations finished on 29000/178122 queries. users per second: 40550"
      ]
     },
     "metadata": {},
     "output_type": "display_data"
    },
    {
     "data": {
      "text/html": [
       "<pre>recommendations finished on 30000/178122 queries. users per second: 41659</pre>"
      ],
      "text/plain": [
       "recommendations finished on 30000/178122 queries. users per second: 41659"
      ]
     },
     "metadata": {},
     "output_type": "display_data"
    },
    {
     "data": {
      "text/html": [
       "<pre>recommendations finished on 31000/178122 queries. users per second: 42787.9</pre>"
      ],
      "text/plain": [
       "recommendations finished on 31000/178122 queries. users per second: 42787.9"
      ]
     },
     "metadata": {},
     "output_type": "display_data"
    },
    {
     "data": {
      "text/html": [
       "<pre>recommendations finished on 32000/178122 queries. users per second: 43856.9</pre>"
      ],
      "text/plain": [
       "recommendations finished on 32000/178122 queries. users per second: 43856.9"
      ]
     },
     "metadata": {},
     "output_type": "display_data"
    },
    {
     "data": {
      "text/html": [
       "<pre>recommendations finished on 33000/178122 queries. users per second: 44830.4</pre>"
      ],
      "text/plain": [
       "recommendations finished on 33000/178122 queries. users per second: 44830.4"
      ]
     },
     "metadata": {},
     "output_type": "display_data"
    },
    {
     "data": {
      "text/html": [
       "<pre>recommendations finished on 34000/178122 queries. users per second: 45708.3</pre>"
      ],
      "text/plain": [
       "recommendations finished on 34000/178122 queries. users per second: 45708.3"
      ]
     },
     "metadata": {},
     "output_type": "display_data"
    },
    {
     "data": {
      "text/html": [
       "<pre>recommendations finished on 35000/178122 queries. users per second: 46699</pre>"
      ],
      "text/plain": [
       "recommendations finished on 35000/178122 queries. users per second: 46699"
      ]
     },
     "metadata": {},
     "output_type": "display_data"
    },
    {
     "data": {
      "text/html": [
       "<pre>recommendations finished on 36000/178122 queries. users per second: 47725.3</pre>"
      ],
      "text/plain": [
       "recommendations finished on 36000/178122 queries. users per second: 47725.3"
      ]
     },
     "metadata": {},
     "output_type": "display_data"
    },
    {
     "data": {
      "text/html": [
       "<pre>recommendations finished on 37000/178122 queries. users per second: 48798.5</pre>"
      ],
      "text/plain": [
       "recommendations finished on 37000/178122 queries. users per second: 48798.5"
      ]
     },
     "metadata": {},
     "output_type": "display_data"
    },
    {
     "data": {
      "text/html": [
       "<pre>recommendations finished on 38000/178122 queries. users per second: 49769.2</pre>"
      ],
      "text/plain": [
       "recommendations finished on 38000/178122 queries. users per second: 49769.2"
      ]
     },
     "metadata": {},
     "output_type": "display_data"
    },
    {
     "data": {
      "text/html": [
       "<pre>recommendations finished on 39000/178122 queries. users per second: 50726.7</pre>"
      ],
      "text/plain": [
       "recommendations finished on 39000/178122 queries. users per second: 50726.7"
      ]
     },
     "metadata": {},
     "output_type": "display_data"
    },
    {
     "data": {
      "text/html": [
       "<pre>recommendations finished on 40000/178122 queries. users per second: 51623.3</pre>"
      ],
      "text/plain": [
       "recommendations finished on 40000/178122 queries. users per second: 51623.3"
      ]
     },
     "metadata": {},
     "output_type": "display_data"
    },
    {
     "data": {
      "text/html": [
       "<pre>recommendations finished on 41000/178122 queries. users per second: 52336.3</pre>"
      ],
      "text/plain": [
       "recommendations finished on 41000/178122 queries. users per second: 52336.3"
      ]
     },
     "metadata": {},
     "output_type": "display_data"
    },
    {
     "data": {
      "text/html": [
       "<pre>recommendations finished on 42000/178122 queries. users per second: 53245.7</pre>"
      ],
      "text/plain": [
       "recommendations finished on 42000/178122 queries. users per second: 53245.7"
      ]
     },
     "metadata": {},
     "output_type": "display_data"
    },
    {
     "data": {
      "text/html": [
       "<pre>recommendations finished on 43000/178122 queries. users per second: 54099.3</pre>"
      ],
      "text/plain": [
       "recommendations finished on 43000/178122 queries. users per second: 54099.3"
      ]
     },
     "metadata": {},
     "output_type": "display_data"
    },
    {
     "data": {
      "text/html": [
       "<pre>recommendations finished on 44000/178122 queries. users per second: 54980.7</pre>"
      ],
      "text/plain": [
       "recommendations finished on 44000/178122 queries. users per second: 54980.7"
      ]
     },
     "metadata": {},
     "output_type": "display_data"
    },
    {
     "data": {
      "text/html": [
       "<pre>recommendations finished on 45000/178122 queries. users per second: 55794.5</pre>"
      ],
      "text/plain": [
       "recommendations finished on 45000/178122 queries. users per second: 55794.5"
      ]
     },
     "metadata": {},
     "output_type": "display_data"
    },
    {
     "data": {
      "text/html": [
       "<pre>recommendations finished on 46000/178122 queries. users per second: 56662.1</pre>"
      ],
      "text/plain": [
       "recommendations finished on 46000/178122 queries. users per second: 56662.1"
      ]
     },
     "metadata": {},
     "output_type": "display_data"
    },
    {
     "data": {
      "text/html": [
       "<pre>recommendations finished on 47000/178122 queries. users per second: 57625.7</pre>"
      ],
      "text/plain": [
       "recommendations finished on 47000/178122 queries. users per second: 57625.7"
      ]
     },
     "metadata": {},
     "output_type": "display_data"
    },
    {
     "data": {
      "text/html": [
       "<pre>recommendations finished on 48000/178122 queries. users per second: 58583.9</pre>"
      ],
      "text/plain": [
       "recommendations finished on 48000/178122 queries. users per second: 58583.9"
      ]
     },
     "metadata": {},
     "output_type": "display_data"
    },
    {
     "data": {
      "text/html": [
       "<pre>recommendations finished on 49000/178122 queries. users per second: 59090.2</pre>"
      ],
      "text/plain": [
       "recommendations finished on 49000/178122 queries. users per second: 59090.2"
      ]
     },
     "metadata": {},
     "output_type": "display_data"
    },
    {
     "data": {
      "text/html": [
       "<pre>recommendations finished on 50000/178122 queries. users per second: 59831.7</pre>"
      ],
      "text/plain": [
       "recommendations finished on 50000/178122 queries. users per second: 59831.7"
      ]
     },
     "metadata": {},
     "output_type": "display_data"
    },
    {
     "data": {
      "text/html": [
       "<pre>recommendations finished on 51000/178122 queries. users per second: 60400.1</pre>"
      ],
      "text/plain": [
       "recommendations finished on 51000/178122 queries. users per second: 60400.1"
      ]
     },
     "metadata": {},
     "output_type": "display_data"
    },
    {
     "data": {
      "text/html": [
       "<pre>recommendations finished on 52000/178122 queries. users per second: 60971</pre>"
      ],
      "text/plain": [
       "recommendations finished on 52000/178122 queries. users per second: 60971"
      ]
     },
     "metadata": {},
     "output_type": "display_data"
    },
    {
     "data": {
      "text/html": [
       "<pre>recommendations finished on 53000/178122 queries. users per second: 61757.2</pre>"
      ],
      "text/plain": [
       "recommendations finished on 53000/178122 queries. users per second: 61757.2"
      ]
     },
     "metadata": {},
     "output_type": "display_data"
    },
    {
     "data": {
      "text/html": [
       "<pre>recommendations finished on 54000/178122 queries. users per second: 62409.5</pre>"
      ],
      "text/plain": [
       "recommendations finished on 54000/178122 queries. users per second: 62409.5"
      ]
     },
     "metadata": {},
     "output_type": "display_data"
    },
    {
     "data": {
      "text/html": [
       "<pre>recommendations finished on 55000/178122 queries. users per second: 63074.3</pre>"
      ],
      "text/plain": [
       "recommendations finished on 55000/178122 queries. users per second: 63074.3"
      ]
     },
     "metadata": {},
     "output_type": "display_data"
    },
    {
     "data": {
      "text/html": [
       "<pre>recommendations finished on 56000/178122 queries. users per second: 63700.7</pre>"
      ],
      "text/plain": [
       "recommendations finished on 56000/178122 queries. users per second: 63700.7"
      ]
     },
     "metadata": {},
     "output_type": "display_data"
    },
    {
     "data": {
      "text/html": [
       "<pre>recommendations finished on 57000/178122 queries. users per second: 64334.6</pre>"
      ],
      "text/plain": [
       "recommendations finished on 57000/178122 queries. users per second: 64334.6"
      ]
     },
     "metadata": {},
     "output_type": "display_data"
    },
    {
     "data": {
      "text/html": [
       "<pre>recommendations finished on 58000/178122 queries. users per second: 64966.7</pre>"
      ],
      "text/plain": [
       "recommendations finished on 58000/178122 queries. users per second: 64966.7"
      ]
     },
     "metadata": {},
     "output_type": "display_data"
    },
    {
     "data": {
      "text/html": [
       "<pre>recommendations finished on 59000/178122 queries. users per second: 65610.9</pre>"
      ],
      "text/plain": [
       "recommendations finished on 59000/178122 queries. users per second: 65610.9"
      ]
     },
     "metadata": {},
     "output_type": "display_data"
    },
    {
     "data": {
      "text/html": [
       "<pre>recommendations finished on 60000/178122 queries. users per second: 66305.2</pre>"
      ],
      "text/plain": [
       "recommendations finished on 60000/178122 queries. users per second: 66305.2"
      ]
     },
     "metadata": {},
     "output_type": "display_data"
    },
    {
     "data": {
      "text/html": [
       "<pre>recommendations finished on 61000/178122 queries. users per second: 66663.7</pre>"
      ],
      "text/plain": [
       "recommendations finished on 61000/178122 queries. users per second: 66663.7"
      ]
     },
     "metadata": {},
     "output_type": "display_data"
    },
    {
     "data": {
      "text/html": [
       "<pre>recommendations finished on 62000/178122 queries. users per second: 67278.6</pre>"
      ],
      "text/plain": [
       "recommendations finished on 62000/178122 queries. users per second: 67278.6"
      ]
     },
     "metadata": {},
     "output_type": "display_data"
    },
    {
     "data": {
      "text/html": [
       "<pre>recommendations finished on 63000/178122 queries. users per second: 68085.4</pre>"
      ],
      "text/plain": [
       "recommendations finished on 63000/178122 queries. users per second: 68085.4"
      ]
     },
     "metadata": {},
     "output_type": "display_data"
    },
    {
     "data": {
      "text/html": [
       "<pre>recommendations finished on 64000/178122 queries. users per second: 68792.7</pre>"
      ],
      "text/plain": [
       "recommendations finished on 64000/178122 queries. users per second: 68792.7"
      ]
     },
     "metadata": {},
     "output_type": "display_data"
    },
    {
     "data": {
      "text/html": [
       "<pre>recommendations finished on 65000/178122 queries. users per second: 69493.7</pre>"
      ],
      "text/plain": [
       "recommendations finished on 65000/178122 queries. users per second: 69493.7"
      ]
     },
     "metadata": {},
     "output_type": "display_data"
    },
    {
     "data": {
      "text/html": [
       "<pre>recommendations finished on 66000/178122 queries. users per second: 70140.3</pre>"
      ],
      "text/plain": [
       "recommendations finished on 66000/178122 queries. users per second: 70140.3"
      ]
     },
     "metadata": {},
     "output_type": "display_data"
    },
    {
     "data": {
      "text/html": [
       "<pre>recommendations finished on 67000/178122 queries. users per second: 70784.8</pre>"
      ],
      "text/plain": [
       "recommendations finished on 67000/178122 queries. users per second: 70784.8"
      ]
     },
     "metadata": {},
     "output_type": "display_data"
    },
    {
     "data": {
      "text/html": [
       "<pre>recommendations finished on 68000/178122 queries. users per second: 71478.4</pre>"
      ],
      "text/plain": [
       "recommendations finished on 68000/178122 queries. users per second: 71478.4"
      ]
     },
     "metadata": {},
     "output_type": "display_data"
    },
    {
     "data": {
      "text/html": [
       "<pre>recommendations finished on 69000/178122 queries. users per second: 72043</pre>"
      ],
      "text/plain": [
       "recommendations finished on 69000/178122 queries. users per second: 72043"
      ]
     },
     "metadata": {},
     "output_type": "display_data"
    },
    {
     "data": {
      "text/html": [
       "<pre>recommendations finished on 70000/178122 queries. users per second: 72753.3</pre>"
      ],
      "text/plain": [
       "recommendations finished on 70000/178122 queries. users per second: 72753.3"
      ]
     },
     "metadata": {},
     "output_type": "display_data"
    },
    {
     "data": {
      "text/html": [
       "<pre>recommendations finished on 71000/178122 queries. users per second: 73363.3</pre>"
      ],
      "text/plain": [
       "recommendations finished on 71000/178122 queries. users per second: 73363.3"
      ]
     },
     "metadata": {},
     "output_type": "display_data"
    },
    {
     "data": {
      "text/html": [
       "<pre>recommendations finished on 72000/178122 queries. users per second: 73939.5</pre>"
      ],
      "text/plain": [
       "recommendations finished on 72000/178122 queries. users per second: 73939.5"
      ]
     },
     "metadata": {},
     "output_type": "display_data"
    },
    {
     "data": {
      "text/html": [
       "<pre>recommendations finished on 73000/178122 queries. users per second: 74505.5</pre>"
      ],
      "text/plain": [
       "recommendations finished on 73000/178122 queries. users per second: 74505.5"
      ]
     },
     "metadata": {},
     "output_type": "display_data"
    },
    {
     "data": {
      "text/html": [
       "<pre>recommendations finished on 74000/178122 queries. users per second: 75176.8</pre>"
      ],
      "text/plain": [
       "recommendations finished on 74000/178122 queries. users per second: 75176.8"
      ]
     },
     "metadata": {},
     "output_type": "display_data"
    },
    {
     "data": {
      "text/html": [
       "<pre>recommendations finished on 75000/178122 queries. users per second: 75860.1</pre>"
      ],
      "text/plain": [
       "recommendations finished on 75000/178122 queries. users per second: 75860.1"
      ]
     },
     "metadata": {},
     "output_type": "display_data"
    },
    {
     "data": {
      "text/html": [
       "<pre>recommendations finished on 76000/178122 queries. users per second: 76565</pre>"
      ],
      "text/plain": [
       "recommendations finished on 76000/178122 queries. users per second: 76565"
      ]
     },
     "metadata": {},
     "output_type": "display_data"
    },
    {
     "data": {
      "text/html": [
       "<pre>recommendations finished on 77000/178122 queries. users per second: 76875.5</pre>"
      ],
      "text/plain": [
       "recommendations finished on 77000/178122 queries. users per second: 76875.5"
      ]
     },
     "metadata": {},
     "output_type": "display_data"
    },
    {
     "data": {
      "text/html": [
       "<pre>recommendations finished on 78000/178122 queries. users per second: 77491</pre>"
      ],
      "text/plain": [
       "recommendations finished on 78000/178122 queries. users per second: 77491"
      ]
     },
     "metadata": {},
     "output_type": "display_data"
    },
    {
     "data": {
      "text/html": [
       "<pre>recommendations finished on 79000/178122 queries. users per second: 78098.6</pre>"
      ],
      "text/plain": [
       "recommendations finished on 79000/178122 queries. users per second: 78098.6"
      ]
     },
     "metadata": {},
     "output_type": "display_data"
    },
    {
     "data": {
      "text/html": [
       "<pre>recommendations finished on 80000/178122 queries. users per second: 78642.7</pre>"
      ],
      "text/plain": [
       "recommendations finished on 80000/178122 queries. users per second: 78642.7"
      ]
     },
     "metadata": {},
     "output_type": "display_data"
    },
    {
     "data": {
      "text/html": [
       "<pre>recommendations finished on 81000/178122 queries. users per second: 79226.9</pre>"
      ],
      "text/plain": [
       "recommendations finished on 81000/178122 queries. users per second: 79226.9"
      ]
     },
     "metadata": {},
     "output_type": "display_data"
    },
    {
     "data": {
      "text/html": [
       "<pre>recommendations finished on 82000/178122 queries. users per second: 79778.6</pre>"
      ],
      "text/plain": [
       "recommendations finished on 82000/178122 queries. users per second: 79778.6"
      ]
     },
     "metadata": {},
     "output_type": "display_data"
    },
    {
     "data": {
      "text/html": [
       "<pre>recommendations finished on 83000/178122 queries. users per second: 80329.8</pre>"
      ],
      "text/plain": [
       "recommendations finished on 83000/178122 queries. users per second: 80329.8"
      ]
     },
     "metadata": {},
     "output_type": "display_data"
    },
    {
     "data": {
      "text/html": [
       "<pre>recommendations finished on 84000/178122 queries. users per second: 80869</pre>"
      ],
      "text/plain": [
       "recommendations finished on 84000/178122 queries. users per second: 80869"
      ]
     },
     "metadata": {},
     "output_type": "display_data"
    },
    {
     "data": {
      "text/html": [
       "<pre>recommendations finished on 85000/178122 queries. users per second: 81297.8</pre>"
      ],
      "text/plain": [
       "recommendations finished on 85000/178122 queries. users per second: 81297.8"
      ]
     },
     "metadata": {},
     "output_type": "display_data"
    },
    {
     "data": {
      "text/html": [
       "<pre>recommendations finished on 86000/178122 queries. users per second: 81735.6</pre>"
      ],
      "text/plain": [
       "recommendations finished on 86000/178122 queries. users per second: 81735.6"
      ]
     },
     "metadata": {},
     "output_type": "display_data"
    },
    {
     "data": {
      "text/html": [
       "<pre>recommendations finished on 87000/178122 queries. users per second: 82312.8</pre>"
      ],
      "text/plain": [
       "recommendations finished on 87000/178122 queries. users per second: 82312.8"
      ]
     },
     "metadata": {},
     "output_type": "display_data"
    },
    {
     "data": {
      "text/html": [
       "<pre>recommendations finished on 88000/178122 queries. users per second: 82712.9</pre>"
      ],
      "text/plain": [
       "recommendations finished on 88000/178122 queries. users per second: 82712.9"
      ]
     },
     "metadata": {},
     "output_type": "display_data"
    },
    {
     "data": {
      "text/html": [
       "<pre>recommendations finished on 89000/178122 queries. users per second: 83241.7</pre>"
      ],
      "text/plain": [
       "recommendations finished on 89000/178122 queries. users per second: 83241.7"
      ]
     },
     "metadata": {},
     "output_type": "display_data"
    },
    {
     "data": {
      "text/html": [
       "<pre>recommendations finished on 90000/178122 queries. users per second: 83774.3</pre>"
      ],
      "text/plain": [
       "recommendations finished on 90000/178122 queries. users per second: 83774.3"
      ]
     },
     "metadata": {},
     "output_type": "display_data"
    },
    {
     "data": {
      "text/html": [
       "<pre>recommendations finished on 91000/178122 queries. users per second: 84268.4</pre>"
      ],
      "text/plain": [
       "recommendations finished on 91000/178122 queries. users per second: 84268.4"
      ]
     },
     "metadata": {},
     "output_type": "display_data"
    },
    {
     "data": {
      "text/html": [
       "<pre>recommendations finished on 92000/178122 queries. users per second: 78781.8</pre>"
      ],
      "text/plain": [
       "recommendations finished on 92000/178122 queries. users per second: 78781.8"
      ]
     },
     "metadata": {},
     "output_type": "display_data"
    },
    {
     "data": {
      "text/html": [
       "<pre>recommendations finished on 93000/178122 queries. users per second: 70525</pre>"
      ],
      "text/plain": [
       "recommendations finished on 93000/178122 queries. users per second: 70525"
      ]
     },
     "metadata": {},
     "output_type": "display_data"
    },
    {
     "data": {
      "text/html": [
       "<pre>recommendations finished on 94000/178122 queries. users per second: 70941.1</pre>"
      ],
      "text/plain": [
       "recommendations finished on 94000/178122 queries. users per second: 70941.1"
      ]
     },
     "metadata": {},
     "output_type": "display_data"
    },
    {
     "data": {
      "text/html": [
       "<pre>recommendations finished on 95000/178122 queries. users per second: 71131.9</pre>"
      ],
      "text/plain": [
       "recommendations finished on 95000/178122 queries. users per second: 71131.9"
      ]
     },
     "metadata": {},
     "output_type": "display_data"
    },
    {
     "data": {
      "text/html": [
       "<pre>recommendations finished on 96000/178122 queries. users per second: 71431</pre>"
      ],
      "text/plain": [
       "recommendations finished on 96000/178122 queries. users per second: 71431"
      ]
     },
     "metadata": {},
     "output_type": "display_data"
    },
    {
     "data": {
      "text/html": [
       "<pre>recommendations finished on 97000/178122 queries. users per second: 71697.6</pre>"
      ],
      "text/plain": [
       "recommendations finished on 97000/178122 queries. users per second: 71697.6"
      ]
     },
     "metadata": {},
     "output_type": "display_data"
    },
    {
     "data": {
      "text/html": [
       "<pre>recommendations finished on 98000/178122 queries. users per second: 70130.3</pre>"
      ],
      "text/plain": [
       "recommendations finished on 98000/178122 queries. users per second: 70130.3"
      ]
     },
     "metadata": {},
     "output_type": "display_data"
    },
    {
     "data": {
      "text/html": [
       "<pre>recommendations finished on 99000/178122 queries. users per second: 70444.1</pre>"
      ],
      "text/plain": [
       "recommendations finished on 99000/178122 queries. users per second: 70444.1"
      ]
     },
     "metadata": {},
     "output_type": "display_data"
    },
    {
     "data": {
      "text/html": [
       "<pre>recommendations finished on 100000/178122 queries. users per second: 70753.7</pre>"
      ],
      "text/plain": [
       "recommendations finished on 100000/178122 queries. users per second: 70753.7"
      ]
     },
     "metadata": {},
     "output_type": "display_data"
    },
    {
     "data": {
      "text/html": [
       "<pre>recommendations finished on 101000/178122 queries. users per second: 71199.1</pre>"
      ],
      "text/plain": [
       "recommendations finished on 101000/178122 queries. users per second: 71199.1"
      ]
     },
     "metadata": {},
     "output_type": "display_data"
    },
    {
     "data": {
      "text/html": [
       "<pre>recommendations finished on 102000/178122 queries. users per second: 71670.6</pre>"
      ],
      "text/plain": [
       "recommendations finished on 102000/178122 queries. users per second: 71670.6"
      ]
     },
     "metadata": {},
     "output_type": "display_data"
    },
    {
     "data": {
      "text/html": [
       "<pre>recommendations finished on 103000/178122 queries. users per second: 71993.9</pre>"
      ],
      "text/plain": [
       "recommendations finished on 103000/178122 queries. users per second: 71993.9"
      ]
     },
     "metadata": {},
     "output_type": "display_data"
    },
    {
     "data": {
      "text/html": [
       "<pre>recommendations finished on 104000/178122 queries. users per second: 72402.2</pre>"
      ],
      "text/plain": [
       "recommendations finished on 104000/178122 queries. users per second: 72402.2"
      ]
     },
     "metadata": {},
     "output_type": "display_data"
    },
    {
     "data": {
      "text/html": [
       "<pre>recommendations finished on 105000/178122 queries. users per second: 72625.8</pre>"
      ],
      "text/plain": [
       "recommendations finished on 105000/178122 queries. users per second: 72625.8"
      ]
     },
     "metadata": {},
     "output_type": "display_data"
    },
    {
     "data": {
      "text/html": [
       "<pre>recommendations finished on 106000/178122 queries. users per second: 72685</pre>"
      ],
      "text/plain": [
       "recommendations finished on 106000/178122 queries. users per second: 72685"
      ]
     },
     "metadata": {},
     "output_type": "display_data"
    },
    {
     "data": {
      "text/html": [
       "<pre>recommendations finished on 107000/178122 queries. users per second: 69291.8</pre>"
      ],
      "text/plain": [
       "recommendations finished on 107000/178122 queries. users per second: 69291.8"
      ]
     },
     "metadata": {},
     "output_type": "display_data"
    },
    {
     "name": "stdout",
     "output_type": "stream",
     "text": [
      "+------------+---------+-------+------+\n",
      "|  Customer  | Product | score | rank |\n",
      "+------------+---------+-------+------+\n",
      "| CC20190310 |   2_24  |  0.0  |  1   |\n",
      "| CC20190310 |   0_0   |  0.0  |  2   |\n",
      "| CC20190310 |   1_21  |  0.0  |  3   |\n",
      "| CC20190310 |   4_19  |  0.0  |  4   |\n",
      "| CC20190310 |   0_3   |  0.0  |  5   |\n",
      "| CC20190310 |   7_26  |  0.0  |  6   |\n",
      "| CC20190310 |   5_4   |  0.0  |  7   |\n",
      "| CC20190310 |   6_13  |  0.0  |  8   |\n",
      "| CC20190310 |   7_23  |  0.0  |  9   |\n",
      "| CC20190310 |   1_7   |  0.0  |  10  |\n",
      "| CC20190310 |   2_24  |  0.0  |  1   |\n",
      "| CC20190310 |   0_0   |  0.0  |  2   |\n",
      "| CC20190310 |   1_21  |  0.0  |  3   |\n",
      "| CC20190310 |   4_19  |  0.0  |  4   |\n",
      "| CC20190310 |   0_3   |  0.0  |  5   |\n",
      "| CC20190310 |   7_26  |  0.0  |  6   |\n",
      "| CC20190310 |   5_4   |  0.0  |  7   |\n",
      "| CC20190310 |   6_13  |  0.0  |  8   |\n",
      "| CC20190310 |   7_23  |  0.0  |  9   |\n",
      "| CC20190310 |   1_7   |  0.0  |  10  |\n",
      "| CC20190310 |   2_24  |  0.0  |  1   |\n",
      "| CC20190310 |   0_0   |  0.0  |  2   |\n",
      "| CC20190310 |   1_21  |  0.0  |  3   |\n",
      "| CC20190310 |   4_19  |  0.0  |  4   |\n",
      "| CC20190310 |   0_3   |  0.0  |  5   |\n",
      "| CC20190310 |   7_26  |  0.0  |  6   |\n",
      "| CC20190310 |   5_4   |  0.0  |  7   |\n",
      "| CC20190310 |   6_13  |  0.0  |  8   |\n",
      "| CC20190310 |   7_23  |  0.0  |  9   |\n",
      "| CC20190310 |   1_7   |  0.0  |  10  |\n",
      "+------------+---------+-------+------+\n",
      "[1781220 rows x 4 columns]\n",
      "\n"
     ]
    },
    {
     "data": {
      "text/html": [
       "<pre>recommendations finished on 108000/178122 queries. users per second: 69576.5</pre>"
      ],
      "text/plain": [
       "recommendations finished on 108000/178122 queries. users per second: 69576.5"
      ]
     },
     "metadata": {},
     "output_type": "display_data"
    },
    {
     "data": {
      "text/html": [
       "<pre>recommendations finished on 109000/178122 queries. users per second: 69861.7</pre>"
      ],
      "text/plain": [
       "recommendations finished on 109000/178122 queries. users per second: 69861.7"
      ]
     },
     "metadata": {},
     "output_type": "display_data"
    },
    {
     "data": {
      "text/html": [
       "<pre>recommendations finished on 110000/178122 queries. users per second: 70169.7</pre>"
      ],
      "text/plain": [
       "recommendations finished on 110000/178122 queries. users per second: 70169.7"
      ]
     },
     "metadata": {},
     "output_type": "display_data"
    },
    {
     "data": {
      "text/html": [
       "<pre>recommendations finished on 111000/178122 queries. users per second: 70346.8</pre>"
      ],
      "text/plain": [
       "recommendations finished on 111000/178122 queries. users per second: 70346.8"
      ]
     },
     "metadata": {},
     "output_type": "display_data"
    },
    {
     "data": {
      "text/html": [
       "<pre>recommendations finished on 112000/178122 queries. users per second: 70644.5</pre>"
      ],
      "text/plain": [
       "recommendations finished on 112000/178122 queries. users per second: 70644.5"
      ]
     },
     "metadata": {},
     "output_type": "display_data"
    },
    {
     "data": {
      "text/html": [
       "<pre>recommendations finished on 113000/178122 queries. users per second: 70950.4</pre>"
      ],
      "text/plain": [
       "recommendations finished on 113000/178122 queries. users per second: 70950.4"
      ]
     },
     "metadata": {},
     "output_type": "display_data"
    },
    {
     "data": {
      "text/html": [
       "<pre>recommendations finished on 114000/178122 queries. users per second: 71343.3</pre>"
      ],
      "text/plain": [
       "recommendations finished on 114000/178122 queries. users per second: 71343.3"
      ]
     },
     "metadata": {},
     "output_type": "display_data"
    },
    {
     "data": {
      "text/html": [
       "<pre>recommendations finished on 115000/178122 queries. users per second: 71741.6</pre>"
      ],
      "text/plain": [
       "recommendations finished on 115000/178122 queries. users per second: 71741.6"
      ]
     },
     "metadata": {},
     "output_type": "display_data"
    },
    {
     "data": {
      "text/html": [
       "<pre>recommendations finished on 116000/178122 queries. users per second: 72146.2</pre>"
      ],
      "text/plain": [
       "recommendations finished on 116000/178122 queries. users per second: 72146.2"
      ]
     },
     "metadata": {},
     "output_type": "display_data"
    },
    {
     "data": {
      "text/html": [
       "<pre>recommendations finished on 117000/178122 queries. users per second: 72443.1</pre>"
      ],
      "text/plain": [
       "recommendations finished on 117000/178122 queries. users per second: 72443.1"
      ]
     },
     "metadata": {},
     "output_type": "display_data"
    },
    {
     "data": {
      "text/html": [
       "<pre>recommendations finished on 118000/178122 queries. users per second: 72828.5</pre>"
      ],
      "text/plain": [
       "recommendations finished on 118000/178122 queries. users per second: 72828.5"
      ]
     },
     "metadata": {},
     "output_type": "display_data"
    },
    {
     "data": {
      "text/html": [
       "<pre>recommendations finished on 119000/178122 queries. users per second: 72908.2</pre>"
      ],
      "text/plain": [
       "recommendations finished on 119000/178122 queries. users per second: 72908.2"
      ]
     },
     "metadata": {},
     "output_type": "display_data"
    },
    {
     "data": {
      "text/html": [
       "<pre>recommendations finished on 120000/178122 queries. users per second: 73277.7</pre>"
      ],
      "text/plain": [
       "recommendations finished on 120000/178122 queries. users per second: 73277.7"
      ]
     },
     "metadata": {},
     "output_type": "display_data"
    },
    {
     "data": {
      "text/html": [
       "<pre>recommendations finished on 121000/178122 queries. users per second: 73651.6</pre>"
      ],
      "text/plain": [
       "recommendations finished on 121000/178122 queries. users per second: 73651.6"
      ]
     },
     "metadata": {},
     "output_type": "display_data"
    },
    {
     "data": {
      "text/html": [
       "<pre>recommendations finished on 122000/178122 queries. users per second: 74062.8</pre>"
      ],
      "text/plain": [
       "recommendations finished on 122000/178122 queries. users per second: 74062.8"
      ]
     },
     "metadata": {},
     "output_type": "display_data"
    },
    {
     "data": {
      "text/html": [
       "<pre>recommendations finished on 123000/178122 queries. users per second: 74498</pre>"
      ],
      "text/plain": [
       "recommendations finished on 123000/178122 queries. users per second: 74498"
      ]
     },
     "metadata": {},
     "output_type": "display_data"
    },
    {
     "data": {
      "text/html": [
       "<pre>recommendations finished on 124000/178122 queries. users per second: 74923.3</pre>"
      ],
      "text/plain": [
       "recommendations finished on 124000/178122 queries. users per second: 74923.3"
      ]
     },
     "metadata": {},
     "output_type": "display_data"
    },
    {
     "data": {
      "text/html": [
       "<pre>recommendations finished on 125000/178122 queries. users per second: 75236.6</pre>"
      ],
      "text/plain": [
       "recommendations finished on 125000/178122 queries. users per second: 75236.6"
      ]
     },
     "metadata": {},
     "output_type": "display_data"
    },
    {
     "data": {
      "text/html": [
       "<pre>recommendations finished on 126000/178122 queries. users per second: 75334.1</pre>"
      ],
      "text/plain": [
       "recommendations finished on 126000/178122 queries. users per second: 75334.1"
      ]
     },
     "metadata": {},
     "output_type": "display_data"
    },
    {
     "data": {
      "text/html": [
       "<pre>recommendations finished on 127000/178122 queries. users per second: 75538.4</pre>"
      ],
      "text/plain": [
       "recommendations finished on 127000/178122 queries. users per second: 75538.4"
      ]
     },
     "metadata": {},
     "output_type": "display_data"
    },
    {
     "data": {
      "text/html": [
       "<pre>recommendations finished on 128000/178122 queries. users per second: 75790</pre>"
      ],
      "text/plain": [
       "recommendations finished on 128000/178122 queries. users per second: 75790"
      ]
     },
     "metadata": {},
     "output_type": "display_data"
    },
    {
     "data": {
      "text/html": [
       "<pre>recommendations finished on 129000/178122 queries. users per second: 75988.3</pre>"
      ],
      "text/plain": [
       "recommendations finished on 129000/178122 queries. users per second: 75988.3"
      ]
     },
     "metadata": {},
     "output_type": "display_data"
    },
    {
     "data": {
      "text/html": [
       "<pre>recommendations finished on 130000/178122 queries. users per second: 76226.8</pre>"
      ],
      "text/plain": [
       "recommendations finished on 130000/178122 queries. users per second: 76226.8"
      ]
     },
     "metadata": {},
     "output_type": "display_data"
    },
    {
     "data": {
      "text/html": [
       "<pre>recommendations finished on 131000/178122 queries. users per second: 76557.2</pre>"
      ],
      "text/plain": [
       "recommendations finished on 131000/178122 queries. users per second: 76557.2"
      ]
     },
     "metadata": {},
     "output_type": "display_data"
    },
    {
     "data": {
      "text/html": [
       "<pre>recommendations finished on 132000/178122 queries. users per second: 76959</pre>"
      ],
      "text/plain": [
       "recommendations finished on 132000/178122 queries. users per second: 76959"
      ]
     },
     "metadata": {},
     "output_type": "display_data"
    },
    {
     "data": {
      "text/html": [
       "<pre>recommendations finished on 133000/178122 queries. users per second: 77367.1</pre>"
      ],
      "text/plain": [
       "recommendations finished on 133000/178122 queries. users per second: 77367.1"
      ]
     },
     "metadata": {},
     "output_type": "display_data"
    },
    {
     "data": {
      "text/html": [
       "<pre>recommendations finished on 134000/178122 queries. users per second: 77774.4</pre>"
      ],
      "text/plain": [
       "recommendations finished on 134000/178122 queries. users per second: 77774.4"
      ]
     },
     "metadata": {},
     "output_type": "display_data"
    },
    {
     "data": {
      "text/html": [
       "<pre>recommendations finished on 135000/178122 queries. users per second: 78139</pre>"
      ],
      "text/plain": [
       "recommendations finished on 135000/178122 queries. users per second: 78139"
      ]
     },
     "metadata": {},
     "output_type": "display_data"
    },
    {
     "data": {
      "text/html": [
       "<pre>recommendations finished on 136000/178122 queries. users per second: 78478.9</pre>"
      ],
      "text/plain": [
       "recommendations finished on 136000/178122 queries. users per second: 78478.9"
      ]
     },
     "metadata": {},
     "output_type": "display_data"
    },
    {
     "data": {
      "text/html": [
       "<pre>recommendations finished on 137000/178122 queries. users per second: 78803.1</pre>"
      ],
      "text/plain": [
       "recommendations finished on 137000/178122 queries. users per second: 78803.1"
      ]
     },
     "metadata": {},
     "output_type": "display_data"
    },
    {
     "data": {
      "text/html": [
       "<pre>recommendations finished on 138000/178122 queries. users per second: 79098.7</pre>"
      ],
      "text/plain": [
       "recommendations finished on 138000/178122 queries. users per second: 79098.7"
      ]
     },
     "metadata": {},
     "output_type": "display_data"
    },
    {
     "data": {
      "text/html": [
       "<pre>recommendations finished on 139000/178122 queries. users per second: 79348.8</pre>"
      ],
      "text/plain": [
       "recommendations finished on 139000/178122 queries. users per second: 79348.8"
      ]
     },
     "metadata": {},
     "output_type": "display_data"
    },
    {
     "data": {
      "text/html": [
       "<pre>recommendations finished on 140000/178122 queries. users per second: 79679</pre>"
      ],
      "text/plain": [
       "recommendations finished on 140000/178122 queries. users per second: 79679"
      ]
     },
     "metadata": {},
     "output_type": "display_data"
    },
    {
     "data": {
      "text/html": [
       "<pre>recommendations finished on 141000/178122 queries. users per second: 80025.5</pre>"
      ],
      "text/plain": [
       "recommendations finished on 141000/178122 queries. users per second: 80025.5"
      ]
     },
     "metadata": {},
     "output_type": "display_data"
    },
    {
     "data": {
      "text/html": [
       "<pre>recommendations finished on 142000/178122 queries. users per second: 80403.4</pre>"
      ],
      "text/plain": [
       "recommendations finished on 142000/178122 queries. users per second: 80403.4"
      ]
     },
     "metadata": {},
     "output_type": "display_data"
    },
    {
     "data": {
      "text/html": [
       "<pre>recommendations finished on 143000/178122 queries. users per second: 80792.6</pre>"
      ],
      "text/plain": [
       "recommendations finished on 143000/178122 queries. users per second: 80792.6"
      ]
     },
     "metadata": {},
     "output_type": "display_data"
    },
    {
     "data": {
      "text/html": [
       "<pre>recommendations finished on 144000/178122 queries. users per second: 81180.8</pre>"
      ],
      "text/plain": [
       "recommendations finished on 144000/178122 queries. users per second: 81180.8"
      ]
     },
     "metadata": {},
     "output_type": "display_data"
    },
    {
     "data": {
      "text/html": [
       "<pre>recommendations finished on 145000/178122 queries. users per second: 81506.3</pre>"
      ],
      "text/plain": [
       "recommendations finished on 145000/178122 queries. users per second: 81506.3"
      ]
     },
     "metadata": {},
     "output_type": "display_data"
    },
    {
     "data": {
      "text/html": [
       "<pre>recommendations finished on 146000/178122 queries. users per second: 81834.9</pre>"
      ],
      "text/plain": [
       "recommendations finished on 146000/178122 queries. users per second: 81834.9"
      ]
     },
     "metadata": {},
     "output_type": "display_data"
    },
    {
     "data": {
      "text/html": [
       "<pre>recommendations finished on 147000/178122 queries. users per second: 82129.5</pre>"
      ],
      "text/plain": [
       "recommendations finished on 147000/178122 queries. users per second: 82129.5"
      ]
     },
     "metadata": {},
     "output_type": "display_data"
    },
    {
     "data": {
      "text/html": [
       "<pre>recommendations finished on 148000/178122 queries. users per second: 82438.9</pre>"
      ],
      "text/plain": [
       "recommendations finished on 148000/178122 queries. users per second: 82438.9"
      ]
     },
     "metadata": {},
     "output_type": "display_data"
    },
    {
     "data": {
      "text/html": [
       "<pre>recommendations finished on 149000/178122 queries. users per second: 82764.3</pre>"
      ],
      "text/plain": [
       "recommendations finished on 149000/178122 queries. users per second: 82764.3"
      ]
     },
     "metadata": {},
     "output_type": "display_data"
    },
    {
     "data": {
      "text/html": [
       "<pre>recommendations finished on 150000/178122 queries. users per second: 83092.5</pre>"
      ],
      "text/plain": [
       "recommendations finished on 150000/178122 queries. users per second: 83092.5"
      ]
     },
     "metadata": {},
     "output_type": "display_data"
    },
    {
     "data": {
      "text/html": [
       "<pre>recommendations finished on 151000/178122 queries. users per second: 83388.2</pre>"
      ],
      "text/plain": [
       "recommendations finished on 151000/178122 queries. users per second: 83388.2"
      ]
     },
     "metadata": {},
     "output_type": "display_data"
    },
    {
     "data": {
      "text/html": [
       "<pre>recommendations finished on 152000/178122 queries. users per second: 83704.3</pre>"
      ],
      "text/plain": [
       "recommendations finished on 152000/178122 queries. users per second: 83704.3"
      ]
     },
     "metadata": {},
     "output_type": "display_data"
    },
    {
     "data": {
      "text/html": [
       "<pre>recommendations finished on 153000/178122 queries. users per second: 83991.5</pre>"
      ],
      "text/plain": [
       "recommendations finished on 153000/178122 queries. users per second: 83991.5"
      ]
     },
     "metadata": {},
     "output_type": "display_data"
    },
    {
     "data": {
      "text/html": [
       "<pre>recommendations finished on 154000/178122 queries. users per second: 84243.1</pre>"
      ],
      "text/plain": [
       "recommendations finished on 154000/178122 queries. users per second: 84243.1"
      ]
     },
     "metadata": {},
     "output_type": "display_data"
    },
    {
     "data": {
      "text/html": [
       "<pre>recommendations finished on 155000/178122 queries. users per second: 84551.1</pre>"
      ],
      "text/plain": [
       "recommendations finished on 155000/178122 queries. users per second: 84551.1"
      ]
     },
     "metadata": {},
     "output_type": "display_data"
    },
    {
     "data": {
      "text/html": [
       "<pre>recommendations finished on 156000/178122 queries. users per second: 84856.6</pre>"
      ],
      "text/plain": [
       "recommendations finished on 156000/178122 queries. users per second: 84856.6"
      ]
     },
     "metadata": {},
     "output_type": "display_data"
    },
    {
     "data": {
      "text/html": [
       "<pre>recommendations finished on 157000/178122 queries. users per second: 85104.8</pre>"
      ],
      "text/plain": [
       "recommendations finished on 157000/178122 queries. users per second: 85104.8"
      ]
     },
     "metadata": {},
     "output_type": "display_data"
    },
    {
     "data": {
      "text/html": [
       "<pre>recommendations finished on 158000/178122 queries. users per second: 84030.4</pre>"
      ],
      "text/plain": [
       "recommendations finished on 158000/178122 queries. users per second: 84030.4"
      ]
     },
     "metadata": {},
     "output_type": "display_data"
    },
    {
     "data": {
      "text/html": [
       "<pre>recommendations finished on 159000/178122 queries. users per second: 84266</pre>"
      ],
      "text/plain": [
       "recommendations finished on 159000/178122 queries. users per second: 84266"
      ]
     },
     "metadata": {},
     "output_type": "display_data"
    },
    {
     "data": {
      "text/html": [
       "<pre>recommendations finished on 160000/178122 queries. users per second: 84528.7</pre>"
      ],
      "text/plain": [
       "recommendations finished on 160000/178122 queries. users per second: 84528.7"
      ]
     },
     "metadata": {},
     "output_type": "display_data"
    },
    {
     "data": {
      "text/html": [
       "<pre>recommendations finished on 161000/178122 queries. users per second: 84727.7</pre>"
      ],
      "text/plain": [
       "recommendations finished on 161000/178122 queries. users per second: 84727.7"
      ]
     },
     "metadata": {},
     "output_type": "display_data"
    },
    {
     "data": {
      "text/html": [
       "<pre>recommendations finished on 162000/178122 queries. users per second: 84986.5</pre>"
      ],
      "text/plain": [
       "recommendations finished on 162000/178122 queries. users per second: 84986.5"
      ]
     },
     "metadata": {},
     "output_type": "display_data"
    },
    {
     "data": {
      "text/html": [
       "<pre>recommendations finished on 163000/178122 queries. users per second: 84681</pre>"
      ],
      "text/plain": [
       "recommendations finished on 163000/178122 queries. users per second: 84681"
      ]
     },
     "metadata": {},
     "output_type": "display_data"
    },
    {
     "data": {
      "text/html": [
       "<pre>recommendations finished on 164000/178122 queries. users per second: 83691.4</pre>"
      ],
      "text/plain": [
       "recommendations finished on 164000/178122 queries. users per second: 83691.4"
      ]
     },
     "metadata": {},
     "output_type": "display_data"
    },
    {
     "data": {
      "text/html": [
       "<pre>recommendations finished on 165000/178122 queries. users per second: 83390.1</pre>"
      ],
      "text/plain": [
       "recommendations finished on 165000/178122 queries. users per second: 83390.1"
      ]
     },
     "metadata": {},
     "output_type": "display_data"
    },
    {
     "data": {
      "text/html": [
       "<pre>recommendations finished on 166000/178122 queries. users per second: 82686.5</pre>"
      ],
      "text/plain": [
       "recommendations finished on 166000/178122 queries. users per second: 82686.5"
      ]
     },
     "metadata": {},
     "output_type": "display_data"
    },
    {
     "data": {
      "text/html": [
       "<pre>recommendations finished on 167000/178122 queries. users per second: 82958</pre>"
      ],
      "text/plain": [
       "recommendations finished on 167000/178122 queries. users per second: 82958"
      ]
     },
     "metadata": {},
     "output_type": "display_data"
    },
    {
     "data": {
      "text/html": [
       "<pre>recommendations finished on 168000/178122 queries. users per second: 83226.3</pre>"
      ],
      "text/plain": [
       "recommendations finished on 168000/178122 queries. users per second: 83226.3"
      ]
     },
     "metadata": {},
     "output_type": "display_data"
    },
    {
     "data": {
      "text/html": [
       "<pre>recommendations finished on 169000/178122 queries. users per second: 83353.3</pre>"
      ],
      "text/plain": [
       "recommendations finished on 169000/178122 queries. users per second: 83353.3"
      ]
     },
     "metadata": {},
     "output_type": "display_data"
    },
    {
     "data": {
      "text/html": [
       "<pre>recommendations finished on 170000/178122 queries. users per second: 83576.2</pre>"
      ],
      "text/plain": [
       "recommendations finished on 170000/178122 queries. users per second: 83576.2"
      ]
     },
     "metadata": {},
     "output_type": "display_data"
    },
    {
     "data": {
      "text/html": [
       "<pre>recommendations finished on 171000/178122 queries. users per second: 83834.2</pre>"
      ],
      "text/plain": [
       "recommendations finished on 171000/178122 queries. users per second: 83834.2"
      ]
     },
     "metadata": {},
     "output_type": "display_data"
    },
    {
     "data": {
      "text/html": [
       "<pre>recommendations finished on 172000/178122 queries. users per second: 83942.4</pre>"
      ],
      "text/plain": [
       "recommendations finished on 172000/178122 queries. users per second: 83942.4"
      ]
     },
     "metadata": {},
     "output_type": "display_data"
    },
    {
     "data": {
      "text/html": [
       "<pre>recommendations finished on 173000/178122 queries. users per second: 84215.4</pre>"
      ],
      "text/plain": [
       "recommendations finished on 173000/178122 queries. users per second: 84215.4"
      ]
     },
     "metadata": {},
     "output_type": "display_data"
    },
    {
     "data": {
      "text/html": [
       "<pre>recommendations finished on 174000/178122 queries. users per second: 84341.3</pre>"
      ],
      "text/plain": [
       "recommendations finished on 174000/178122 queries. users per second: 84341.3"
      ]
     },
     "metadata": {},
     "output_type": "display_data"
    },
    {
     "data": {
      "text/html": [
       "<pre>recommendations finished on 175000/178122 queries. users per second: 84484.2</pre>"
      ],
      "text/plain": [
       "recommendations finished on 175000/178122 queries. users per second: 84484.2"
      ]
     },
     "metadata": {},
     "output_type": "display_data"
    },
    {
     "data": {
      "text/html": [
       "<pre>recommendations finished on 176000/178122 queries. users per second: 84588.9</pre>"
      ],
      "text/plain": [
       "recommendations finished on 176000/178122 queries. users per second: 84588.9"
      ]
     },
     "metadata": {},
     "output_type": "display_data"
    },
    {
     "data": {
      "text/html": [
       "<pre>recommendations finished on 177000/178122 queries. users per second: 84715</pre>"
      ],
      "text/plain": [
       "recommendations finished on 177000/178122 queries. users per second: 84715"
      ]
     },
     "metadata": {},
     "output_type": "display_data"
    },
    {
     "data": {
      "text/html": [
       "<pre>recommendations finished on 178000/178122 queries. users per second: 84575.1</pre>"
      ],
      "text/plain": [
       "recommendations finished on 178000/178122 queries. users per second: 84575.1"
      ]
     },
     "metadata": {},
     "output_type": "display_data"
    }
   ],
   "source": [
    "# Using SecNumF dummy\n",
    "\n",
    "name = 'pearson'\n",
    "target = 'SecNumF_Dummy'\n",
    "pear_dummy = model(train_data_dummy, name, user_id, item_id, target, users_to_recommend, n_rec, n_display)"
   ]
  },
  {
   "cell_type": "code",
   "execution_count": 28,
   "metadata": {
    "collapsed": false,
    "deletable": true,
    "editable": true
   },
   "outputs": [
    {
     "data": {
      "text/html": [
       "<pre>Preparing data set.</pre>"
      ],
      "text/plain": [
       "Preparing data set."
      ]
     },
     "metadata": {},
     "output_type": "display_data"
    },
    {
     "data": {
      "text/html": [
       "<pre>    Data has 142497 observations with 1436 users and 235 items.</pre>"
      ],
      "text/plain": [
       "    Data has 142497 observations with 1436 users and 235 items."
      ]
     },
     "metadata": {},
     "output_type": "display_data"
    },
    {
     "data": {
      "text/html": [
       "<pre>    Data prepared in: 0.267836s</pre>"
      ],
      "text/plain": [
       "    Data prepared in: 0.267836s"
      ]
     },
     "metadata": {},
     "output_type": "display_data"
    },
    {
     "data": {
      "text/html": [
       "<pre>Training model from provided data.</pre>"
      ],
      "text/plain": [
       "Training model from provided data."
      ]
     },
     "metadata": {},
     "output_type": "display_data"
    },
    {
     "data": {
      "text/html": [
       "<pre>Gathering per-item and per-user statistics.</pre>"
      ],
      "text/plain": [
       "Gathering per-item and per-user statistics."
      ]
     },
     "metadata": {},
     "output_type": "display_data"
    },
    {
     "data": {
      "text/html": [
       "<pre>+--------------------------------+------------+</pre>"
      ],
      "text/plain": [
       "+--------------------------------+------------+"
      ]
     },
     "metadata": {},
     "output_type": "display_data"
    },
    {
     "data": {
      "text/html": [
       "<pre>| Elapsed Time (Item Statistics) | % Complete |</pre>"
      ],
      "text/plain": [
       "| Elapsed Time (Item Statistics) | % Complete |"
      ]
     },
     "metadata": {},
     "output_type": "display_data"
    },
    {
     "data": {
      "text/html": [
       "<pre>+--------------------------------+------------+</pre>"
      ],
      "text/plain": [
       "+--------------------------------+------------+"
      ]
     },
     "metadata": {},
     "output_type": "display_data"
    },
    {
     "data": {
      "text/html": [
       "<pre>| 4.972ms                        | 69.5       |</pre>"
      ],
      "text/plain": [
       "| 4.972ms                        | 69.5       |"
      ]
     },
     "metadata": {},
     "output_type": "display_data"
    },
    {
     "data": {
      "text/html": [
       "<pre>| 5.907ms                        | 100        |</pre>"
      ],
      "text/plain": [
       "| 5.907ms                        | 100        |"
      ]
     },
     "metadata": {},
     "output_type": "display_data"
    },
    {
     "data": {
      "text/html": [
       "<pre>+--------------------------------+------------+</pre>"
      ],
      "text/plain": [
       "+--------------------------------+------------+"
      ]
     },
     "metadata": {},
     "output_type": "display_data"
    },
    {
     "data": {
      "text/html": [
       "<pre>Setting up lookup tables.</pre>"
      ],
      "text/plain": [
       "Setting up lookup tables."
      ]
     },
     "metadata": {},
     "output_type": "display_data"
    },
    {
     "data": {
      "text/html": [
       "<pre>Processing data in one pass using dense lookup tables.</pre>"
      ],
      "text/plain": [
       "Processing data in one pass using dense lookup tables."
      ]
     },
     "metadata": {},
     "output_type": "display_data"
    },
    {
     "data": {
      "text/html": [
       "<pre>+-------------------------------------+------------------+-----------------+</pre>"
      ],
      "text/plain": [
       "+-------------------------------------+------------------+-----------------+"
      ]
     },
     "metadata": {},
     "output_type": "display_data"
    },
    {
     "data": {
      "text/html": [
       "<pre>| Elapsed Time (Constructing Lookups) | Total % Complete | Items Processed |</pre>"
      ],
      "text/plain": [
       "| Elapsed Time (Constructing Lookups) | Total % Complete | Items Processed |"
      ]
     },
     "metadata": {},
     "output_type": "display_data"
    },
    {
     "data": {
      "text/html": [
       "<pre>+-------------------------------------+------------------+-----------------+</pre>"
      ],
      "text/plain": [
       "+-------------------------------------+------------------+-----------------+"
      ]
     },
     "metadata": {},
     "output_type": "display_data"
    },
    {
     "data": {
      "text/html": [
       "<pre>| 6.983ms                             | 0                | 0               |</pre>"
      ],
      "text/plain": [
       "| 6.983ms                             | 0                | 0               |"
      ]
     },
     "metadata": {},
     "output_type": "display_data"
    },
    {
     "data": {
      "text/html": [
       "<pre>| 262.047ms                           | 100              | 235             |</pre>"
      ],
      "text/plain": [
       "| 262.047ms                           | 100              | 235             |"
      ]
     },
     "metadata": {},
     "output_type": "display_data"
    },
    {
     "data": {
      "text/html": [
       "<pre>+-------------------------------------+------------------+-----------------+</pre>"
      ],
      "text/plain": [
       "+-------------------------------------+------------------+-----------------+"
      ]
     },
     "metadata": {},
     "output_type": "display_data"
    },
    {
     "data": {
      "text/html": [
       "<pre>Finalizing lookup tables.</pre>"
      ],
      "text/plain": [
       "Finalizing lookup tables."
      ]
     },
     "metadata": {},
     "output_type": "display_data"
    },
    {
     "data": {
      "text/html": [
       "<pre>Generating candidate set for working with new users.</pre>"
      ],
      "text/plain": [
       "Generating candidate set for working with new users."
      ]
     },
     "metadata": {},
     "output_type": "display_data"
    },
    {
     "data": {
      "text/html": [
       "<pre>Finished training in 0.281085s</pre>"
      ],
      "text/plain": [
       "Finished training in 0.281085s"
      ]
     },
     "metadata": {},
     "output_type": "display_data"
    },
    {
     "data": {
      "text/html": [
       "<pre>recommendations finished on 1000/178122 queries. users per second: 19226</pre>"
      ],
      "text/plain": [
       "recommendations finished on 1000/178122 queries. users per second: 19226"
      ]
     },
     "metadata": {},
     "output_type": "display_data"
    },
    {
     "data": {
      "text/html": [
       "<pre>recommendations finished on 2000/178122 queries. users per second: 20513.9</pre>"
      ],
      "text/plain": [
       "recommendations finished on 2000/178122 queries. users per second: 20513.9"
      ]
     },
     "metadata": {},
     "output_type": "display_data"
    },
    {
     "data": {
      "text/html": [
       "<pre>recommendations finished on 3000/178122 queries. users per second: 21993.2</pre>"
      ],
      "text/plain": [
       "recommendations finished on 3000/178122 queries. users per second: 21993.2"
      ]
     },
     "metadata": {},
     "output_type": "display_data"
    },
    {
     "data": {
      "text/html": [
       "<pre>recommendations finished on 4000/178122 queries. users per second: 20766.9</pre>"
      ],
      "text/plain": [
       "recommendations finished on 4000/178122 queries. users per second: 20766.9"
      ]
     },
     "metadata": {},
     "output_type": "display_data"
    },
    {
     "data": {
      "text/html": [
       "<pre>recommendations finished on 5000/178122 queries. users per second: 20041.5</pre>"
      ],
      "text/plain": [
       "recommendations finished on 5000/178122 queries. users per second: 20041.5"
      ]
     },
     "metadata": {},
     "output_type": "display_data"
    },
    {
     "data": {
      "text/html": [
       "<pre>recommendations finished on 6000/178122 queries. users per second: 19059.3</pre>"
      ],
      "text/plain": [
       "recommendations finished on 6000/178122 queries. users per second: 19059.3"
      ]
     },
     "metadata": {},
     "output_type": "display_data"
    },
    {
     "data": {
      "text/html": [
       "<pre>recommendations finished on 7000/178122 queries. users per second: 17434</pre>"
      ],
      "text/plain": [
       "recommendations finished on 7000/178122 queries. users per second: 17434"
      ]
     },
     "metadata": {},
     "output_type": "display_data"
    },
    {
     "data": {
      "text/html": [
       "<pre>recommendations finished on 8000/178122 queries. users per second: 16467</pre>"
      ],
      "text/plain": [
       "recommendations finished on 8000/178122 queries. users per second: 16467"
      ]
     },
     "metadata": {},
     "output_type": "display_data"
    },
    {
     "data": {
      "text/html": [
       "<pre>recommendations finished on 9000/178122 queries. users per second: 16994.7</pre>"
      ],
      "text/plain": [
       "recommendations finished on 9000/178122 queries. users per second: 16994.7"
      ]
     },
     "metadata": {},
     "output_type": "display_data"
    },
    {
     "data": {
      "text/html": [
       "<pre>recommendations finished on 10000/178122 queries. users per second: 16496.8</pre>"
      ],
      "text/plain": [
       "recommendations finished on 10000/178122 queries. users per second: 16496.8"
      ]
     },
     "metadata": {},
     "output_type": "display_data"
    },
    {
     "data": {
      "text/html": [
       "<pre>recommendations finished on 11000/178122 queries. users per second: 16395.5</pre>"
      ],
      "text/plain": [
       "recommendations finished on 11000/178122 queries. users per second: 16395.5"
      ]
     },
     "metadata": {},
     "output_type": "display_data"
    },
    {
     "data": {
      "text/html": [
       "<pre>recommendations finished on 12000/178122 queries. users per second: 16130.4</pre>"
      ],
      "text/plain": [
       "recommendations finished on 12000/178122 queries. users per second: 16130.4"
      ]
     },
     "metadata": {},
     "output_type": "display_data"
    },
    {
     "data": {
      "text/html": [
       "<pre>recommendations finished on 13000/178122 queries. users per second: 16364.8</pre>"
      ],
      "text/plain": [
       "recommendations finished on 13000/178122 queries. users per second: 16364.8"
      ]
     },
     "metadata": {},
     "output_type": "display_data"
    },
    {
     "data": {
      "text/html": [
       "<pre>recommendations finished on 14000/178122 queries. users per second: 16558.1</pre>"
      ],
      "text/plain": [
       "recommendations finished on 14000/178122 queries. users per second: 16558.1"
      ]
     },
     "metadata": {},
     "output_type": "display_data"
    },
    {
     "data": {
      "text/html": [
       "<pre>recommendations finished on 15000/178122 queries. users per second: 16705.6</pre>"
      ],
      "text/plain": [
       "recommendations finished on 15000/178122 queries. users per second: 16705.6"
      ]
     },
     "metadata": {},
     "output_type": "display_data"
    },
    {
     "data": {
      "text/html": [
       "<pre>recommendations finished on 16000/178122 queries. users per second: 16858</pre>"
      ],
      "text/plain": [
       "recommendations finished on 16000/178122 queries. users per second: 16858"
      ]
     },
     "metadata": {},
     "output_type": "display_data"
    },
    {
     "data": {
      "text/html": [
       "<pre>recommendations finished on 17000/178122 queries. users per second: 16606.3</pre>"
      ],
      "text/plain": [
       "recommendations finished on 17000/178122 queries. users per second: 16606.3"
      ]
     },
     "metadata": {},
     "output_type": "display_data"
    },
    {
     "data": {
      "text/html": [
       "<pre>recommendations finished on 18000/178122 queries. users per second: 16841.8</pre>"
      ],
      "text/plain": [
       "recommendations finished on 18000/178122 queries. users per second: 16841.8"
      ]
     },
     "metadata": {},
     "output_type": "display_data"
    },
    {
     "data": {
      "text/html": [
       "<pre>recommendations finished on 19000/178122 queries. users per second: 16805.1</pre>"
      ],
      "text/plain": [
       "recommendations finished on 19000/178122 queries. users per second: 16805.1"
      ]
     },
     "metadata": {},
     "output_type": "display_data"
    },
    {
     "data": {
      "text/html": [
       "<pre>recommendations finished on 20000/178122 queries. users per second: 16961.8</pre>"
      ],
      "text/plain": [
       "recommendations finished on 20000/178122 queries. users per second: 16961.8"
      ]
     },
     "metadata": {},
     "output_type": "display_data"
    },
    {
     "data": {
      "text/html": [
       "<pre>recommendations finished on 21000/178122 queries. users per second: 16912.8</pre>"
      ],
      "text/plain": [
       "recommendations finished on 21000/178122 queries. users per second: 16912.8"
      ]
     },
     "metadata": {},
     "output_type": "display_data"
    },
    {
     "data": {
      "text/html": [
       "<pre>recommendations finished on 22000/178122 queries. users per second: 16989.4</pre>"
      ],
      "text/plain": [
       "recommendations finished on 22000/178122 queries. users per second: 16989.4"
      ]
     },
     "metadata": {},
     "output_type": "display_data"
    },
    {
     "data": {
      "text/html": [
       "<pre>recommendations finished on 23000/178122 queries. users per second: 17067.6</pre>"
      ],
      "text/plain": [
       "recommendations finished on 23000/178122 queries. users per second: 17067.6"
      ]
     },
     "metadata": {},
     "output_type": "display_data"
    },
    {
     "data": {
      "text/html": [
       "<pre>recommendations finished on 24000/178122 queries. users per second: 17169.1</pre>"
      ],
      "text/plain": [
       "recommendations finished on 24000/178122 queries. users per second: 17169.1"
      ]
     },
     "metadata": {},
     "output_type": "display_data"
    },
    {
     "data": {
      "text/html": [
       "<pre>recommendations finished on 25000/178122 queries. users per second: 17271.3</pre>"
      ],
      "text/plain": [
       "recommendations finished on 25000/178122 queries. users per second: 17271.3"
      ]
     },
     "metadata": {},
     "output_type": "display_data"
    },
    {
     "data": {
      "text/html": [
       "<pre>recommendations finished on 26000/178122 queries. users per second: 17305.5</pre>"
      ],
      "text/plain": [
       "recommendations finished on 26000/178122 queries. users per second: 17305.5"
      ]
     },
     "metadata": {},
     "output_type": "display_data"
    },
    {
     "data": {
      "text/html": [
       "<pre>recommendations finished on 27000/178122 queries. users per second: 17302.2</pre>"
      ],
      "text/plain": [
       "recommendations finished on 27000/178122 queries. users per second: 17302.2"
      ]
     },
     "metadata": {},
     "output_type": "display_data"
    },
    {
     "data": {
      "text/html": [
       "<pre>recommendations finished on 28000/178122 queries. users per second: 17409.8</pre>"
      ],
      "text/plain": [
       "recommendations finished on 28000/178122 queries. users per second: 17409.8"
      ]
     },
     "metadata": {},
     "output_type": "display_data"
    },
    {
     "data": {
      "text/html": [
       "<pre>recommendations finished on 29000/178122 queries. users per second: 17586</pre>"
      ],
      "text/plain": [
       "recommendations finished on 29000/178122 queries. users per second: 17586"
      ]
     },
     "metadata": {},
     "output_type": "display_data"
    },
    {
     "data": {
      "text/html": [
       "<pre>recommendations finished on 30000/178122 queries. users per second: 17686</pre>"
      ],
      "text/plain": [
       "recommendations finished on 30000/178122 queries. users per second: 17686"
      ]
     },
     "metadata": {},
     "output_type": "display_data"
    },
    {
     "data": {
      "text/html": [
       "<pre>recommendations finished on 31000/178122 queries. users per second: 17452.8</pre>"
      ],
      "text/plain": [
       "recommendations finished on 31000/178122 queries. users per second: 17452.8"
      ]
     },
     "metadata": {},
     "output_type": "display_data"
    },
    {
     "data": {
      "text/html": [
       "<pre>recommendations finished on 32000/178122 queries. users per second: 17371</pre>"
      ],
      "text/plain": [
       "recommendations finished on 32000/178122 queries. users per second: 17371"
      ]
     },
     "metadata": {},
     "output_type": "display_data"
    },
    {
     "data": {
      "text/html": [
       "<pre>recommendations finished on 33000/178122 queries. users per second: 17459</pre>"
      ],
      "text/plain": [
       "recommendations finished on 33000/178122 queries. users per second: 17459"
      ]
     },
     "metadata": {},
     "output_type": "display_data"
    },
    {
     "data": {
      "text/html": [
       "<pre>recommendations finished on 34000/178122 queries. users per second: 17503.8</pre>"
      ],
      "text/plain": [
       "recommendations finished on 34000/178122 queries. users per second: 17503.8"
      ]
     },
     "metadata": {},
     "output_type": "display_data"
    },
    {
     "data": {
      "text/html": [
       "<pre>recommendations finished on 35000/178122 queries. users per second: 17498.6</pre>"
      ],
      "text/plain": [
       "recommendations finished on 35000/178122 queries. users per second: 17498.6"
      ]
     },
     "metadata": {},
     "output_type": "display_data"
    },
    {
     "data": {
      "text/html": [
       "<pre>recommendations finished on 36000/178122 queries. users per second: 17565.4</pre>"
      ],
      "text/plain": [
       "recommendations finished on 36000/178122 queries. users per second: 17565.4"
      ]
     },
     "metadata": {},
     "output_type": "display_data"
    },
    {
     "data": {
      "text/html": [
       "<pre>recommendations finished on 37000/178122 queries. users per second: 17627.9</pre>"
      ],
      "text/plain": [
       "recommendations finished on 37000/178122 queries. users per second: 17627.9"
      ]
     },
     "metadata": {},
     "output_type": "display_data"
    },
    {
     "data": {
      "text/html": [
       "<pre>recommendations finished on 38000/178122 queries. users per second: 17605.1</pre>"
      ],
      "text/plain": [
       "recommendations finished on 38000/178122 queries. users per second: 17605.1"
      ]
     },
     "metadata": {},
     "output_type": "display_data"
    },
    {
     "data": {
      "text/html": [
       "<pre>recommendations finished on 39000/178122 queries. users per second: 17614.8</pre>"
      ],
      "text/plain": [
       "recommendations finished on 39000/178122 queries. users per second: 17614.8"
      ]
     },
     "metadata": {},
     "output_type": "display_data"
    },
    {
     "data": {
      "text/html": [
       "<pre>recommendations finished on 40000/178122 queries. users per second: 17674.6</pre>"
      ],
      "text/plain": [
       "recommendations finished on 40000/178122 queries. users per second: 17674.6"
      ]
     },
     "metadata": {},
     "output_type": "display_data"
    },
    {
     "data": {
      "text/html": [
       "<pre>recommendations finished on 41000/178122 queries. users per second: 17714.5</pre>"
      ],
      "text/plain": [
       "recommendations finished on 41000/178122 queries. users per second: 17714.5"
      ]
     },
     "metadata": {},
     "output_type": "display_data"
    },
    {
     "data": {
      "text/html": [
       "<pre>recommendations finished on 42000/178122 queries. users per second: 17659.4</pre>"
      ],
      "text/plain": [
       "recommendations finished on 42000/178122 queries. users per second: 17659.4"
      ]
     },
     "metadata": {},
     "output_type": "display_data"
    },
    {
     "data": {
      "text/html": [
       "<pre>recommendations finished on 43000/178122 queries. users per second: 17656.6</pre>"
      ],
      "text/plain": [
       "recommendations finished on 43000/178122 queries. users per second: 17656.6"
      ]
     },
     "metadata": {},
     "output_type": "display_data"
    },
    {
     "data": {
      "text/html": [
       "<pre>recommendations finished on 44000/178122 queries. users per second: 17723.3</pre>"
      ],
      "text/plain": [
       "recommendations finished on 44000/178122 queries. users per second: 17723.3"
      ]
     },
     "metadata": {},
     "output_type": "display_data"
    },
    {
     "data": {
      "text/html": [
       "<pre>recommendations finished on 45000/178122 queries. users per second: 17741.5</pre>"
      ],
      "text/plain": [
       "recommendations finished on 45000/178122 queries. users per second: 17741.5"
      ]
     },
     "metadata": {},
     "output_type": "display_data"
    },
    {
     "data": {
      "text/html": [
       "<pre>recommendations finished on 46000/178122 queries. users per second: 17606.3</pre>"
      ],
      "text/plain": [
       "recommendations finished on 46000/178122 queries. users per second: 17606.3"
      ]
     },
     "metadata": {},
     "output_type": "display_data"
    },
    {
     "data": {
      "text/html": [
       "<pre>recommendations finished on 47000/178122 queries. users per second: 17464.7</pre>"
      ],
      "text/plain": [
       "recommendations finished on 47000/178122 queries. users per second: 17464.7"
      ]
     },
     "metadata": {},
     "output_type": "display_data"
    },
    {
     "data": {
      "text/html": [
       "<pre>recommendations finished on 48000/178122 queries. users per second: 17426.1</pre>"
      ],
      "text/plain": [
       "recommendations finished on 48000/178122 queries. users per second: 17426.1"
      ]
     },
     "metadata": {},
     "output_type": "display_data"
    },
    {
     "data": {
      "text/html": [
       "<pre>recommendations finished on 49000/178122 queries. users per second: 17431.4</pre>"
      ],
      "text/plain": [
       "recommendations finished on 49000/178122 queries. users per second: 17431.4"
      ]
     },
     "metadata": {},
     "output_type": "display_data"
    },
    {
     "data": {
      "text/html": [
       "<pre>recommendations finished on 50000/178122 queries. users per second: 17442.2</pre>"
      ],
      "text/plain": [
       "recommendations finished on 50000/178122 queries. users per second: 17442.2"
      ]
     },
     "metadata": {},
     "output_type": "display_data"
    },
    {
     "data": {
      "text/html": [
       "<pre>recommendations finished on 51000/178122 queries. users per second: 17477.8</pre>"
      ],
      "text/plain": [
       "recommendations finished on 51000/178122 queries. users per second: 17477.8"
      ]
     },
     "metadata": {},
     "output_type": "display_data"
    },
    {
     "data": {
      "text/html": [
       "<pre>recommendations finished on 52000/178122 queries. users per second: 17474.6</pre>"
      ],
      "text/plain": [
       "recommendations finished on 52000/178122 queries. users per second: 17474.6"
      ]
     },
     "metadata": {},
     "output_type": "display_data"
    },
    {
     "data": {
      "text/html": [
       "<pre>recommendations finished on 53000/178122 queries. users per second: 17493.7</pre>"
      ],
      "text/plain": [
       "recommendations finished on 53000/178122 queries. users per second: 17493.7"
      ]
     },
     "metadata": {},
     "output_type": "display_data"
    },
    {
     "data": {
      "text/html": [
       "<pre>recommendations finished on 54000/178122 queries. users per second: 17541.7</pre>"
      ],
      "text/plain": [
       "recommendations finished on 54000/178122 queries. users per second: 17541.7"
      ]
     },
     "metadata": {},
     "output_type": "display_data"
    },
    {
     "data": {
      "text/html": [
       "<pre>recommendations finished on 55000/178122 queries. users per second: 17588.1</pre>"
      ],
      "text/plain": [
       "recommendations finished on 55000/178122 queries. users per second: 17588.1"
      ]
     },
     "metadata": {},
     "output_type": "display_data"
    },
    {
     "data": {
      "text/html": [
       "<pre>recommendations finished on 56000/178122 queries. users per second: 17593.5</pre>"
      ],
      "text/plain": [
       "recommendations finished on 56000/178122 queries. users per second: 17593.5"
      ]
     },
     "metadata": {},
     "output_type": "display_data"
    },
    {
     "data": {
      "text/html": [
       "<pre>recommendations finished on 57000/178122 queries. users per second: 17602.7</pre>"
      ],
      "text/plain": [
       "recommendations finished on 57000/178122 queries. users per second: 17602.7"
      ]
     },
     "metadata": {},
     "output_type": "display_data"
    },
    {
     "data": {
      "text/html": [
       "<pre>recommendations finished on 58000/178122 queries. users per second: 17521.6</pre>"
      ],
      "text/plain": [
       "recommendations finished on 58000/178122 queries. users per second: 17521.6"
      ]
     },
     "metadata": {},
     "output_type": "display_data"
    },
    {
     "data": {
      "text/html": [
       "<pre>recommendations finished on 59000/178122 queries. users per second: 17507.4</pre>"
      ],
      "text/plain": [
       "recommendations finished on 59000/178122 queries. users per second: 17507.4"
      ]
     },
     "metadata": {},
     "output_type": "display_data"
    },
    {
     "data": {
      "text/html": [
       "<pre>recommendations finished on 60000/178122 queries. users per second: 17513.7</pre>"
      ],
      "text/plain": [
       "recommendations finished on 60000/178122 queries. users per second: 17513.7"
      ]
     },
     "metadata": {},
     "output_type": "display_data"
    },
    {
     "data": {
      "text/html": [
       "<pre>recommendations finished on 61000/178122 queries. users per second: 17540.7</pre>"
      ],
      "text/plain": [
       "recommendations finished on 61000/178122 queries. users per second: 17540.7"
      ]
     },
     "metadata": {},
     "output_type": "display_data"
    },
    {
     "data": {
      "text/html": [
       "<pre>recommendations finished on 62000/178122 queries. users per second: 17588</pre>"
      ],
      "text/plain": [
       "recommendations finished on 62000/178122 queries. users per second: 17588"
      ]
     },
     "metadata": {},
     "output_type": "display_data"
    },
    {
     "data": {
      "text/html": [
       "<pre>recommendations finished on 63000/178122 queries. users per second: 17609.7</pre>"
      ],
      "text/plain": [
       "recommendations finished on 63000/178122 queries. users per second: 17609.7"
      ]
     },
     "metadata": {},
     "output_type": "display_data"
    },
    {
     "data": {
      "text/html": [
       "<pre>recommendations finished on 64000/178122 queries. users per second: 17650.7</pre>"
      ],
      "text/plain": [
       "recommendations finished on 64000/178122 queries. users per second: 17650.7"
      ]
     },
     "metadata": {},
     "output_type": "display_data"
    },
    {
     "data": {
      "text/html": [
       "<pre>recommendations finished on 65000/178122 queries. users per second: 17620.6</pre>"
      ],
      "text/plain": [
       "recommendations finished on 65000/178122 queries. users per second: 17620.6"
      ]
     },
     "metadata": {},
     "output_type": "display_data"
    },
    {
     "data": {
      "text/html": [
       "<pre>recommendations finished on 66000/178122 queries. users per second: 17634.9</pre>"
      ],
      "text/plain": [
       "recommendations finished on 66000/178122 queries. users per second: 17634.9"
      ]
     },
     "metadata": {},
     "output_type": "display_data"
    },
    {
     "data": {
      "text/html": [
       "<pre>recommendations finished on 67000/178122 queries. users per second: 17631.5</pre>"
      ],
      "text/plain": [
       "recommendations finished on 67000/178122 queries. users per second: 17631.5"
      ]
     },
     "metadata": {},
     "output_type": "display_data"
    },
    {
     "data": {
      "text/html": [
       "<pre>recommendations finished on 68000/178122 queries. users per second: 17641.4</pre>"
      ],
      "text/plain": [
       "recommendations finished on 68000/178122 queries. users per second: 17641.4"
      ]
     },
     "metadata": {},
     "output_type": "display_data"
    },
    {
     "data": {
      "text/html": [
       "<pre>recommendations finished on 69000/178122 queries. users per second: 17569.1</pre>"
      ],
      "text/plain": [
       "recommendations finished on 69000/178122 queries. users per second: 17569.1"
      ]
     },
     "metadata": {},
     "output_type": "display_data"
    },
    {
     "data": {
      "text/html": [
       "<pre>recommendations finished on 70000/178122 queries. users per second: 17579.2</pre>"
      ],
      "text/plain": [
       "recommendations finished on 70000/178122 queries. users per second: 17579.2"
      ]
     },
     "metadata": {},
     "output_type": "display_data"
    },
    {
     "data": {
      "text/html": [
       "<pre>recommendations finished on 71000/178122 queries. users per second: 17593.5</pre>"
      ],
      "text/plain": [
       "recommendations finished on 71000/178122 queries. users per second: 17593.5"
      ]
     },
     "metadata": {},
     "output_type": "display_data"
    },
    {
     "data": {
      "text/html": [
       "<pre>recommendations finished on 72000/178122 queries. users per second: 17594.7</pre>"
      ],
      "text/plain": [
       "recommendations finished on 72000/178122 queries. users per second: 17594.7"
      ]
     },
     "metadata": {},
     "output_type": "display_data"
    },
    {
     "data": {
      "text/html": [
       "<pre>recommendations finished on 73000/178122 queries. users per second: 17591.1</pre>"
      ],
      "text/plain": [
       "recommendations finished on 73000/178122 queries. users per second: 17591.1"
      ]
     },
     "metadata": {},
     "output_type": "display_data"
    },
    {
     "data": {
      "text/html": [
       "<pre>recommendations finished on 74000/178122 queries. users per second: 17588</pre>"
      ],
      "text/plain": [
       "recommendations finished on 74000/178122 queries. users per second: 17588"
      ]
     },
     "metadata": {},
     "output_type": "display_data"
    },
    {
     "data": {
      "text/html": [
       "<pre>recommendations finished on 75000/178122 queries. users per second: 17592</pre>"
      ],
      "text/plain": [
       "recommendations finished on 75000/178122 queries. users per second: 17592"
      ]
     },
     "metadata": {},
     "output_type": "display_data"
    },
    {
     "data": {
      "text/html": [
       "<pre>recommendations finished on 76000/178122 queries. users per second: 17604.1</pre>"
      ],
      "text/plain": [
       "recommendations finished on 76000/178122 queries. users per second: 17604.1"
      ]
     },
     "metadata": {},
     "output_type": "display_data"
    },
    {
     "data": {
      "text/html": [
       "<pre>recommendations finished on 77000/178122 queries. users per second: 17605.4</pre>"
      ],
      "text/plain": [
       "recommendations finished on 77000/178122 queries. users per second: 17605.4"
      ]
     },
     "metadata": {},
     "output_type": "display_data"
    },
    {
     "data": {
      "text/html": [
       "<pre>recommendations finished on 78000/178122 queries. users per second: 17603.3</pre>"
      ],
      "text/plain": [
       "recommendations finished on 78000/178122 queries. users per second: 17603.3"
      ]
     },
     "metadata": {},
     "output_type": "display_data"
    },
    {
     "data": {
      "text/html": [
       "<pre>recommendations finished on 79000/178122 queries. users per second: 17574</pre>"
      ],
      "text/plain": [
       "recommendations finished on 79000/178122 queries. users per second: 17574"
      ]
     },
     "metadata": {},
     "output_type": "display_data"
    },
    {
     "data": {
      "text/html": [
       "<pre>recommendations finished on 80000/178122 queries. users per second: 17503.4</pre>"
      ],
      "text/plain": [
       "recommendations finished on 80000/178122 queries. users per second: 17503.4"
      ]
     },
     "metadata": {},
     "output_type": "display_data"
    },
    {
     "data": {
      "text/html": [
       "<pre>recommendations finished on 81000/178122 queries. users per second: 17490.6</pre>"
      ],
      "text/plain": [
       "recommendations finished on 81000/178122 queries. users per second: 17490.6"
      ]
     },
     "metadata": {},
     "output_type": "display_data"
    },
    {
     "data": {
      "text/html": [
       "<pre>recommendations finished on 82000/178122 queries. users per second: 17457.1</pre>"
      ],
      "text/plain": [
       "recommendations finished on 82000/178122 queries. users per second: 17457.1"
      ]
     },
     "metadata": {},
     "output_type": "display_data"
    },
    {
     "data": {
      "text/html": [
       "<pre>recommendations finished on 83000/178122 queries. users per second: 17426.1</pre>"
      ],
      "text/plain": [
       "recommendations finished on 83000/178122 queries. users per second: 17426.1"
      ]
     },
     "metadata": {},
     "output_type": "display_data"
    },
    {
     "data": {
      "text/html": [
       "<pre>recommendations finished on 84000/178122 queries. users per second: 17384.9</pre>"
      ],
      "text/plain": [
       "recommendations finished on 84000/178122 queries. users per second: 17384.9"
      ]
     },
     "metadata": {},
     "output_type": "display_data"
    },
    {
     "data": {
      "text/html": [
       "<pre>recommendations finished on 85000/178122 queries. users per second: 17388</pre>"
      ],
      "text/plain": [
       "recommendations finished on 85000/178122 queries. users per second: 17388"
      ]
     },
     "metadata": {},
     "output_type": "display_data"
    },
    {
     "data": {
      "text/html": [
       "<pre>recommendations finished on 86000/178122 queries. users per second: 17328.9</pre>"
      ],
      "text/plain": [
       "recommendations finished on 86000/178122 queries. users per second: 17328.9"
      ]
     },
     "metadata": {},
     "output_type": "display_data"
    },
    {
     "data": {
      "text/html": [
       "<pre>recommendations finished on 87000/178122 queries. users per second: 17330.1</pre>"
      ],
      "text/plain": [
       "recommendations finished on 87000/178122 queries. users per second: 17330.1"
      ]
     },
     "metadata": {},
     "output_type": "display_data"
    },
    {
     "data": {
      "text/html": [
       "<pre>recommendations finished on 88000/178122 queries. users per second: 17373.3</pre>"
      ],
      "text/plain": [
       "recommendations finished on 88000/178122 queries. users per second: 17373.3"
      ]
     },
     "metadata": {},
     "output_type": "display_data"
    },
    {
     "data": {
      "text/html": [
       "<pre>recommendations finished on 89000/178122 queries. users per second: 17388.8</pre>"
      ],
      "text/plain": [
       "recommendations finished on 89000/178122 queries. users per second: 17388.8"
      ]
     },
     "metadata": {},
     "output_type": "display_data"
    },
    {
     "data": {
      "text/html": [
       "<pre>recommendations finished on 90000/178122 queries. users per second: 17417.5</pre>"
      ],
      "text/plain": [
       "recommendations finished on 90000/178122 queries. users per second: 17417.5"
      ]
     },
     "metadata": {},
     "output_type": "display_data"
    },
    {
     "data": {
      "text/html": [
       "<pre>recommendations finished on 91000/178122 queries. users per second: 17423.6</pre>"
      ],
      "text/plain": [
       "recommendations finished on 91000/178122 queries. users per second: 17423.6"
      ]
     },
     "metadata": {},
     "output_type": "display_data"
    },
    {
     "data": {
      "text/html": [
       "<pre>recommendations finished on 92000/178122 queries. users per second: 17469.1</pre>"
      ],
      "text/plain": [
       "recommendations finished on 92000/178122 queries. users per second: 17469.1"
      ]
     },
     "metadata": {},
     "output_type": "display_data"
    },
    {
     "data": {
      "text/html": [
       "<pre>recommendations finished on 93000/178122 queries. users per second: 17466.7</pre>"
      ],
      "text/plain": [
       "recommendations finished on 93000/178122 queries. users per second: 17466.7"
      ]
     },
     "metadata": {},
     "output_type": "display_data"
    },
    {
     "data": {
      "text/html": [
       "<pre>recommendations finished on 94000/178122 queries. users per second: 17456.1</pre>"
      ],
      "text/plain": [
       "recommendations finished on 94000/178122 queries. users per second: 17456.1"
      ]
     },
     "metadata": {},
     "output_type": "display_data"
    },
    {
     "data": {
      "text/html": [
       "<pre>recommendations finished on 95000/178122 queries. users per second: 17491.4</pre>"
      ],
      "text/plain": [
       "recommendations finished on 95000/178122 queries. users per second: 17491.4"
      ]
     },
     "metadata": {},
     "output_type": "display_data"
    },
    {
     "data": {
      "text/html": [
       "<pre>recommendations finished on 96000/178122 queries. users per second: 17469.5</pre>"
      ],
      "text/plain": [
       "recommendations finished on 96000/178122 queries. users per second: 17469.5"
      ]
     },
     "metadata": {},
     "output_type": "display_data"
    },
    {
     "data": {
      "text/html": [
       "<pre>recommendations finished on 97000/178122 queries. users per second: 17421.3</pre>"
      ],
      "text/plain": [
       "recommendations finished on 97000/178122 queries. users per second: 17421.3"
      ]
     },
     "metadata": {},
     "output_type": "display_data"
    },
    {
     "data": {
      "text/html": [
       "<pre>recommendations finished on 98000/178122 queries. users per second: 17404.8</pre>"
      ],
      "text/plain": [
       "recommendations finished on 98000/178122 queries. users per second: 17404.8"
      ]
     },
     "metadata": {},
     "output_type": "display_data"
    },
    {
     "data": {
      "text/html": [
       "<pre>recommendations finished on 99000/178122 queries. users per second: 17419</pre>"
      ],
      "text/plain": [
       "recommendations finished on 99000/178122 queries. users per second: 17419"
      ]
     },
     "metadata": {},
     "output_type": "display_data"
    },
    {
     "data": {
      "text/html": [
       "<pre>recommendations finished on 100000/178122 queries. users per second: 17427.7</pre>"
      ],
      "text/plain": [
       "recommendations finished on 100000/178122 queries. users per second: 17427.7"
      ]
     },
     "metadata": {},
     "output_type": "display_data"
    },
    {
     "data": {
      "text/html": [
       "<pre>recommendations finished on 101000/178122 queries. users per second: 17424.1</pre>"
      ],
      "text/plain": [
       "recommendations finished on 101000/178122 queries. users per second: 17424.1"
      ]
     },
     "metadata": {},
     "output_type": "display_data"
    },
    {
     "data": {
      "text/html": [
       "<pre>recommendations finished on 102000/178122 queries. users per second: 17436.2</pre>"
      ],
      "text/plain": [
       "recommendations finished on 102000/178122 queries. users per second: 17436.2"
      ]
     },
     "metadata": {},
     "output_type": "display_data"
    },
    {
     "data": {
      "text/html": [
       "<pre>recommendations finished on 103000/178122 queries. users per second: 17458.9</pre>"
      ],
      "text/plain": [
       "recommendations finished on 103000/178122 queries. users per second: 17458.9"
      ]
     },
     "metadata": {},
     "output_type": "display_data"
    },
    {
     "data": {
      "text/html": [
       "<pre>recommendations finished on 104000/178122 queries. users per second: 17470.4</pre>"
      ],
      "text/plain": [
       "recommendations finished on 104000/178122 queries. users per second: 17470.4"
      ]
     },
     "metadata": {},
     "output_type": "display_data"
    },
    {
     "data": {
      "text/html": [
       "<pre>recommendations finished on 105000/178122 queries. users per second: 17493.3</pre>"
      ],
      "text/plain": [
       "recommendations finished on 105000/178122 queries. users per second: 17493.3"
      ]
     },
     "metadata": {},
     "output_type": "display_data"
    },
    {
     "data": {
      "text/html": [
       "<pre>recommendations finished on 106000/178122 queries. users per second: 17528.3</pre>"
      ],
      "text/plain": [
       "recommendations finished on 106000/178122 queries. users per second: 17528.3"
      ]
     },
     "metadata": {},
     "output_type": "display_data"
    },
    {
     "data": {
      "text/html": [
       "<pre>recommendations finished on 107000/178122 queries. users per second: 17546</pre>"
      ],
      "text/plain": [
       "recommendations finished on 107000/178122 queries. users per second: 17546"
      ]
     },
     "metadata": {},
     "output_type": "display_data"
    },
    {
     "data": {
      "text/html": [
       "<pre>recommendations finished on 108000/178122 queries. users per second: 17533.2</pre>"
      ],
      "text/plain": [
       "recommendations finished on 108000/178122 queries. users per second: 17533.2"
      ]
     },
     "metadata": {},
     "output_type": "display_data"
    },
    {
     "data": {
      "text/html": [
       "<pre>recommendations finished on 109000/178122 queries. users per second: 17550.3</pre>"
      ],
      "text/plain": [
       "recommendations finished on 109000/178122 queries. users per second: 17550.3"
      ]
     },
     "metadata": {},
     "output_type": "display_data"
    },
    {
     "data": {
      "text/html": [
       "<pre>recommendations finished on 110000/178122 queries. users per second: 17577.1</pre>"
      ],
      "text/plain": [
       "recommendations finished on 110000/178122 queries. users per second: 17577.1"
      ]
     },
     "metadata": {},
     "output_type": "display_data"
    },
    {
     "data": {
      "text/html": [
       "<pre>recommendations finished on 111000/178122 queries. users per second: 17554.4</pre>"
      ],
      "text/plain": [
       "recommendations finished on 111000/178122 queries. users per second: 17554.4"
      ]
     },
     "metadata": {},
     "output_type": "display_data"
    },
    {
     "data": {
      "text/html": [
       "<pre>recommendations finished on 112000/178122 queries. users per second: 17518.3</pre>"
      ],
      "text/plain": [
       "recommendations finished on 112000/178122 queries. users per second: 17518.3"
      ]
     },
     "metadata": {},
     "output_type": "display_data"
    },
    {
     "data": {
      "text/html": [
       "<pre>recommendations finished on 113000/178122 queries. users per second: 17491.7</pre>"
      ],
      "text/plain": [
       "recommendations finished on 113000/178122 queries. users per second: 17491.7"
      ]
     },
     "metadata": {},
     "output_type": "display_data"
    },
    {
     "data": {
      "text/html": [
       "<pre>recommendations finished on 114000/178122 queries. users per second: 17461.5</pre>"
      ],
      "text/plain": [
       "recommendations finished on 114000/178122 queries. users per second: 17461.5"
      ]
     },
     "metadata": {},
     "output_type": "display_data"
    },
    {
     "data": {
      "text/html": [
       "<pre>recommendations finished on 115000/178122 queries. users per second: 17437.5</pre>"
      ],
      "text/plain": [
       "recommendations finished on 115000/178122 queries. users per second: 17437.5"
      ]
     },
     "metadata": {},
     "output_type": "display_data"
    },
    {
     "data": {
      "text/html": [
       "<pre>recommendations finished on 116000/178122 queries. users per second: 17422.6</pre>"
      ],
      "text/plain": [
       "recommendations finished on 116000/178122 queries. users per second: 17422.6"
      ]
     },
     "metadata": {},
     "output_type": "display_data"
    },
    {
     "data": {
      "text/html": [
       "<pre>recommendations finished on 117000/178122 queries. users per second: 17387.6</pre>"
      ],
      "text/plain": [
       "recommendations finished on 117000/178122 queries. users per second: 17387.6"
      ]
     },
     "metadata": {},
     "output_type": "display_data"
    },
    {
     "data": {
      "text/html": [
       "<pre>recommendations finished on 118000/178122 queries. users per second: 17352.2</pre>"
      ],
      "text/plain": [
       "recommendations finished on 118000/178122 queries. users per second: 17352.2"
      ]
     },
     "metadata": {},
     "output_type": "display_data"
    },
    {
     "data": {
      "text/html": [
       "<pre>recommendations finished on 119000/178122 queries. users per second: 17338.6</pre>"
      ],
      "text/plain": [
       "recommendations finished on 119000/178122 queries. users per second: 17338.6"
      ]
     },
     "metadata": {},
     "output_type": "display_data"
    },
    {
     "data": {
      "text/html": [
       "<pre>recommendations finished on 120000/178122 queries. users per second: 17314.5</pre>"
      ],
      "text/plain": [
       "recommendations finished on 120000/178122 queries. users per second: 17314.5"
      ]
     },
     "metadata": {},
     "output_type": "display_data"
    },
    {
     "data": {
      "text/html": [
       "<pre>recommendations finished on 121000/178122 queries. users per second: 17286.5</pre>"
      ],
      "text/plain": [
       "recommendations finished on 121000/178122 queries. users per second: 17286.5"
      ]
     },
     "metadata": {},
     "output_type": "display_data"
    },
    {
     "data": {
      "text/html": [
       "<pre>recommendations finished on 122000/178122 queries. users per second: 17277.5</pre>"
      ],
      "text/plain": [
       "recommendations finished on 122000/178122 queries. users per second: 17277.5"
      ]
     },
     "metadata": {},
     "output_type": "display_data"
    },
    {
     "data": {
      "text/html": [
       "<pre>recommendations finished on 123000/178122 queries. users per second: 17184.3</pre>"
      ],
      "text/plain": [
       "recommendations finished on 123000/178122 queries. users per second: 17184.3"
      ]
     },
     "metadata": {},
     "output_type": "display_data"
    },
    {
     "data": {
      "text/html": [
       "<pre>recommendations finished on 124000/178122 queries. users per second: 17172.9</pre>"
      ],
      "text/plain": [
       "recommendations finished on 124000/178122 queries. users per second: 17172.9"
      ]
     },
     "metadata": {},
     "output_type": "display_data"
    },
    {
     "data": {
      "text/html": [
       "<pre>recommendations finished on 125000/178122 queries. users per second: 17119.2</pre>"
      ],
      "text/plain": [
       "recommendations finished on 125000/178122 queries. users per second: 17119.2"
      ]
     },
     "metadata": {},
     "output_type": "display_data"
    },
    {
     "data": {
      "text/html": [
       "<pre>recommendations finished on 126000/178122 queries. users per second: 17143.9</pre>"
      ],
      "text/plain": [
       "recommendations finished on 126000/178122 queries. users per second: 17143.9"
      ]
     },
     "metadata": {},
     "output_type": "display_data"
    },
    {
     "data": {
      "text/html": [
       "<pre>recommendations finished on 127000/178122 queries. users per second: 17154.3</pre>"
      ],
      "text/plain": [
       "recommendations finished on 127000/178122 queries. users per second: 17154.3"
      ]
     },
     "metadata": {},
     "output_type": "display_data"
    },
    {
     "data": {
      "text/html": [
       "<pre>recommendations finished on 128000/178122 queries. users per second: 17161.2</pre>"
      ],
      "text/plain": [
       "recommendations finished on 128000/178122 queries. users per second: 17161.2"
      ]
     },
     "metadata": {},
     "output_type": "display_data"
    },
    {
     "data": {
      "text/html": [
       "<pre>recommendations finished on 129000/178122 queries. users per second: 17182.9</pre>"
      ],
      "text/plain": [
       "recommendations finished on 129000/178122 queries. users per second: 17182.9"
      ]
     },
     "metadata": {},
     "output_type": "display_data"
    },
    {
     "data": {
      "text/html": [
       "<pre>recommendations finished on 130000/178122 queries. users per second: 17194.7</pre>"
      ],
      "text/plain": [
       "recommendations finished on 130000/178122 queries. users per second: 17194.7"
      ]
     },
     "metadata": {},
     "output_type": "display_data"
    },
    {
     "data": {
      "text/html": [
       "<pre>recommendations finished on 131000/178122 queries. users per second: 17195.2</pre>"
      ],
      "text/plain": [
       "recommendations finished on 131000/178122 queries. users per second: 17195.2"
      ]
     },
     "metadata": {},
     "output_type": "display_data"
    },
    {
     "data": {
      "text/html": [
       "<pre>recommendations finished on 132000/178122 queries. users per second: 17176.3</pre>"
      ],
      "text/plain": [
       "recommendations finished on 132000/178122 queries. users per second: 17176.3"
      ]
     },
     "metadata": {},
     "output_type": "display_data"
    },
    {
     "data": {
      "text/html": [
       "<pre>recommendations finished on 133000/178122 queries. users per second: 17184.5</pre>"
      ],
      "text/plain": [
       "recommendations finished on 133000/178122 queries. users per second: 17184.5"
      ]
     },
     "metadata": {},
     "output_type": "display_data"
    },
    {
     "data": {
      "text/html": [
       "<pre>recommendations finished on 134000/178122 queries. users per second: 17187.5</pre>"
      ],
      "text/plain": [
       "recommendations finished on 134000/178122 queries. users per second: 17187.5"
      ]
     },
     "metadata": {},
     "output_type": "display_data"
    },
    {
     "data": {
      "text/html": [
       "<pre>recommendations finished on 135000/178122 queries. users per second: 17202.5</pre>"
      ],
      "text/plain": [
       "recommendations finished on 135000/178122 queries. users per second: 17202.5"
      ]
     },
     "metadata": {},
     "output_type": "display_data"
    },
    {
     "data": {
      "text/html": [
       "<pre>recommendations finished on 136000/178122 queries. users per second: 17227.4</pre>"
      ],
      "text/plain": [
       "recommendations finished on 136000/178122 queries. users per second: 17227.4"
      ]
     },
     "metadata": {},
     "output_type": "display_data"
    },
    {
     "data": {
      "text/html": [
       "<pre>recommendations finished on 137000/178122 queries. users per second: 17247.5</pre>"
      ],
      "text/plain": [
       "recommendations finished on 137000/178122 queries. users per second: 17247.5"
      ]
     },
     "metadata": {},
     "output_type": "display_data"
    },
    {
     "data": {
      "text/html": [
       "<pre>recommendations finished on 138000/178122 queries. users per second: 17271.8</pre>"
      ],
      "text/plain": [
       "recommendations finished on 138000/178122 queries. users per second: 17271.8"
      ]
     },
     "metadata": {},
     "output_type": "display_data"
    },
    {
     "data": {
      "text/html": [
       "<pre>recommendations finished on 139000/178122 queries. users per second: 17260.5</pre>"
      ],
      "text/plain": [
       "recommendations finished on 139000/178122 queries. users per second: 17260.5"
      ]
     },
     "metadata": {},
     "output_type": "display_data"
    },
    {
     "data": {
      "text/html": [
       "<pre>recommendations finished on 140000/178122 queries. users per second: 17290.5</pre>"
      ],
      "text/plain": [
       "recommendations finished on 140000/178122 queries. users per second: 17290.5"
      ]
     },
     "metadata": {},
     "output_type": "display_data"
    },
    {
     "data": {
      "text/html": [
       "<pre>recommendations finished on 141000/178122 queries. users per second: 17300.7</pre>"
      ],
      "text/plain": [
       "recommendations finished on 141000/178122 queries. users per second: 17300.7"
      ]
     },
     "metadata": {},
     "output_type": "display_data"
    },
    {
     "data": {
      "text/html": [
       "<pre>recommendations finished on 142000/178122 queries. users per second: 17325.8</pre>"
      ],
      "text/plain": [
       "recommendations finished on 142000/178122 queries. users per second: 17325.8"
      ]
     },
     "metadata": {},
     "output_type": "display_data"
    },
    {
     "data": {
      "text/html": [
       "<pre>recommendations finished on 143000/178122 queries. users per second: 17343.5</pre>"
      ],
      "text/plain": [
       "recommendations finished on 143000/178122 queries. users per second: 17343.5"
      ]
     },
     "metadata": {},
     "output_type": "display_data"
    },
    {
     "data": {
      "text/html": [
       "<pre>recommendations finished on 144000/178122 queries. users per second: 17358.3</pre>"
      ],
      "text/plain": [
       "recommendations finished on 144000/178122 queries. users per second: 17358.3"
      ]
     },
     "metadata": {},
     "output_type": "display_data"
    },
    {
     "data": {
      "text/html": [
       "<pre>recommendations finished on 145000/178122 queries. users per second: 17383.7</pre>"
      ],
      "text/plain": [
       "recommendations finished on 145000/178122 queries. users per second: 17383.7"
      ]
     },
     "metadata": {},
     "output_type": "display_data"
    },
    {
     "data": {
      "text/html": [
       "<pre>recommendations finished on 146000/178122 queries. users per second: 17395.4</pre>"
      ],
      "text/plain": [
       "recommendations finished on 146000/178122 queries. users per second: 17395.4"
      ]
     },
     "metadata": {},
     "output_type": "display_data"
    },
    {
     "data": {
      "text/html": [
       "<pre>recommendations finished on 147000/178122 queries. users per second: 17414.8</pre>"
      ],
      "text/plain": [
       "recommendations finished on 147000/178122 queries. users per second: 17414.8"
      ]
     },
     "metadata": {},
     "output_type": "display_data"
    },
    {
     "data": {
      "text/html": [
       "<pre>recommendations finished on 148000/178122 queries. users per second: 17415.7</pre>"
      ],
      "text/plain": [
       "recommendations finished on 148000/178122 queries. users per second: 17415.7"
      ]
     },
     "metadata": {},
     "output_type": "display_data"
    },
    {
     "data": {
      "text/html": [
       "<pre>recommendations finished on 149000/178122 queries. users per second: 17427.2</pre>"
      ],
      "text/plain": [
       "recommendations finished on 149000/178122 queries. users per second: 17427.2"
      ]
     },
     "metadata": {},
     "output_type": "display_data"
    },
    {
     "data": {
      "text/html": [
       "<pre>recommendations finished on 150000/178122 queries. users per second: 17449.1</pre>"
      ],
      "text/plain": [
       "recommendations finished on 150000/178122 queries. users per second: 17449.1"
      ]
     },
     "metadata": {},
     "output_type": "display_data"
    },
    {
     "data": {
      "text/html": [
       "<pre>recommendations finished on 151000/178122 queries. users per second: 17471.9</pre>"
      ],
      "text/plain": [
       "recommendations finished on 151000/178122 queries. users per second: 17471.9"
      ]
     },
     "metadata": {},
     "output_type": "display_data"
    },
    {
     "data": {
      "text/html": [
       "<pre>recommendations finished on 152000/178122 queries. users per second: 17499.1</pre>"
      ],
      "text/plain": [
       "recommendations finished on 152000/178122 queries. users per second: 17499.1"
      ]
     },
     "metadata": {},
     "output_type": "display_data"
    },
    {
     "data": {
      "text/html": [
       "<pre>recommendations finished on 153000/178122 queries. users per second: 17514.9</pre>"
      ],
      "text/plain": [
       "recommendations finished on 153000/178122 queries. users per second: 17514.9"
      ]
     },
     "metadata": {},
     "output_type": "display_data"
    },
    {
     "data": {
      "text/html": [
       "<pre>recommendations finished on 154000/178122 queries. users per second: 17510.2</pre>"
      ],
      "text/plain": [
       "recommendations finished on 154000/178122 queries. users per second: 17510.2"
      ]
     },
     "metadata": {},
     "output_type": "display_data"
    },
    {
     "data": {
      "text/html": [
       "<pre>recommendations finished on 155000/178122 queries. users per second: 17525.7</pre>"
      ],
      "text/plain": [
       "recommendations finished on 155000/178122 queries. users per second: 17525.7"
      ]
     },
     "metadata": {},
     "output_type": "display_data"
    },
    {
     "data": {
      "text/html": [
       "<pre>recommendations finished on 156000/178122 queries. users per second: 17514.3</pre>"
      ],
      "text/plain": [
       "recommendations finished on 156000/178122 queries. users per second: 17514.3"
      ]
     },
     "metadata": {},
     "output_type": "display_data"
    },
    {
     "data": {
      "text/html": [
       "<pre>recommendations finished on 157000/178122 queries. users per second: 17523.4</pre>"
      ],
      "text/plain": [
       "recommendations finished on 157000/178122 queries. users per second: 17523.4"
      ]
     },
     "metadata": {},
     "output_type": "display_data"
    },
    {
     "data": {
      "text/html": [
       "<pre>recommendations finished on 158000/178122 queries. users per second: 17540.1</pre>"
      ],
      "text/plain": [
       "recommendations finished on 158000/178122 queries. users per second: 17540.1"
      ]
     },
     "metadata": {},
     "output_type": "display_data"
    },
    {
     "data": {
      "text/html": [
       "<pre>recommendations finished on 159000/178122 queries. users per second: 17492.1</pre>"
      ],
      "text/plain": [
       "recommendations finished on 159000/178122 queries. users per second: 17492.1"
      ]
     },
     "metadata": {},
     "output_type": "display_data"
    },
    {
     "data": {
      "text/html": [
       "<pre>recommendations finished on 160000/178122 queries. users per second: 17420.6</pre>"
      ],
      "text/plain": [
       "recommendations finished on 160000/178122 queries. users per second: 17420.6"
      ]
     },
     "metadata": {},
     "output_type": "display_data"
    },
    {
     "data": {
      "text/html": [
       "<pre>recommendations finished on 161000/178122 queries. users per second: 17363.6</pre>"
      ],
      "text/plain": [
       "recommendations finished on 161000/178122 queries. users per second: 17363.6"
      ]
     },
     "metadata": {},
     "output_type": "display_data"
    },
    {
     "data": {
      "text/html": [
       "<pre>recommendations finished on 162000/178122 queries. users per second: 17332.1</pre>"
      ],
      "text/plain": [
       "recommendations finished on 162000/178122 queries. users per second: 17332.1"
      ]
     },
     "metadata": {},
     "output_type": "display_data"
    },
    {
     "data": {
      "text/html": [
       "<pre>recommendations finished on 163000/178122 queries. users per second: 17278.4</pre>"
      ],
      "text/plain": [
       "recommendations finished on 163000/178122 queries. users per second: 17278.4"
      ]
     },
     "metadata": {},
     "output_type": "display_data"
    },
    {
     "data": {
      "text/html": [
       "<pre>recommendations finished on 164000/178122 queries. users per second: 17206.9</pre>"
      ],
      "text/plain": [
       "recommendations finished on 164000/178122 queries. users per second: 17206.9"
      ]
     },
     "metadata": {},
     "output_type": "display_data"
    },
    {
     "data": {
      "text/html": [
       "<pre>recommendations finished on 165000/178122 queries. users per second: 17165.3</pre>"
      ],
      "text/plain": [
       "recommendations finished on 165000/178122 queries. users per second: 17165.3"
      ]
     },
     "metadata": {},
     "output_type": "display_data"
    },
    {
     "data": {
      "text/html": [
       "<pre>recommendations finished on 166000/178122 queries. users per second: 17096.6</pre>"
      ],
      "text/plain": [
       "recommendations finished on 166000/178122 queries. users per second: 17096.6"
      ]
     },
     "metadata": {},
     "output_type": "display_data"
    },
    {
     "data": {
      "text/html": [
       "<pre>recommendations finished on 167000/178122 queries. users per second: 17035.3</pre>"
      ],
      "text/plain": [
       "recommendations finished on 167000/178122 queries. users per second: 17035.3"
      ]
     },
     "metadata": {},
     "output_type": "display_data"
    },
    {
     "data": {
      "text/html": [
       "<pre>recommendations finished on 168000/178122 queries. users per second: 16987.3</pre>"
      ],
      "text/plain": [
       "recommendations finished on 168000/178122 queries. users per second: 16987.3"
      ]
     },
     "metadata": {},
     "output_type": "display_data"
    },
    {
     "data": {
      "text/html": [
       "<pre>recommendations finished on 169000/178122 queries. users per second: 16942.8</pre>"
      ],
      "text/plain": [
       "recommendations finished on 169000/178122 queries. users per second: 16942.8"
      ]
     },
     "metadata": {},
     "output_type": "display_data"
    },
    {
     "data": {
      "text/html": [
       "<pre>recommendations finished on 170000/178122 queries. users per second: 16901.5</pre>"
      ],
      "text/plain": [
       "recommendations finished on 170000/178122 queries. users per second: 16901.5"
      ]
     },
     "metadata": {},
     "output_type": "display_data"
    },
    {
     "data": {
      "text/html": [
       "<pre>recommendations finished on 171000/178122 queries. users per second: 16857.9</pre>"
      ],
      "text/plain": [
       "recommendations finished on 171000/178122 queries. users per second: 16857.9"
      ]
     },
     "metadata": {},
     "output_type": "display_data"
    },
    {
     "data": {
      "text/html": [
       "<pre>recommendations finished on 172000/178122 queries. users per second: 16819</pre>"
      ],
      "text/plain": [
       "recommendations finished on 172000/178122 queries. users per second: 16819"
      ]
     },
     "metadata": {},
     "output_type": "display_data"
    },
    {
     "data": {
      "text/html": [
       "<pre>recommendations finished on 173000/178122 queries. users per second: 16759.6</pre>"
      ],
      "text/plain": [
       "recommendations finished on 173000/178122 queries. users per second: 16759.6"
      ]
     },
     "metadata": {},
     "output_type": "display_data"
    },
    {
     "data": {
      "text/html": [
       "<pre>recommendations finished on 174000/178122 queries. users per second: 16726.2</pre>"
      ],
      "text/plain": [
       "recommendations finished on 174000/178122 queries. users per second: 16726.2"
      ]
     },
     "metadata": {},
     "output_type": "display_data"
    },
    {
     "data": {
      "text/html": [
       "<pre>recommendations finished on 175000/178122 queries. users per second: 16670.5</pre>"
      ],
      "text/plain": [
       "recommendations finished on 175000/178122 queries. users per second: 16670.5"
      ]
     },
     "metadata": {},
     "output_type": "display_data"
    },
    {
     "data": {
      "text/html": [
       "<pre>recommendations finished on 176000/178122 queries. users per second: 16623.1</pre>"
      ],
      "text/plain": [
       "recommendations finished on 176000/178122 queries. users per second: 16623.1"
      ]
     },
     "metadata": {},
     "output_type": "display_data"
    },
    {
     "data": {
      "text/html": [
       "<pre>recommendations finished on 177000/178122 queries. users per second: 16597.4</pre>"
      ],
      "text/plain": [
       "recommendations finished on 177000/178122 queries. users per second: 16597.4"
      ]
     },
     "metadata": {},
     "output_type": "display_data"
    },
    {
     "data": {
      "text/html": [
       "<pre>recommendations finished on 178000/178122 queries. users per second: 16541.7</pre>"
      ],
      "text/plain": [
       "recommendations finished on 178000/178122 queries. users per second: 16541.7"
      ]
     },
     "metadata": {},
     "output_type": "display_data"
    },
    {
     "name": "stdout",
     "output_type": "stream",
     "text": [
      "+------------+---------+----------------+------+\n",
      "|  Customer  | Product |     score      | rank |\n",
      "+------------+---------+----------------+------+\n",
      "| CC20190310 |   6_27  | 0.24363958062  |  1   |\n",
      "| CC20190310 |   1_27  | 0.218157582938 |  2   |\n",
      "| CC20190310 |   4_0   | 0.211857996484 |  3   |\n",
      "| CC20190310 |   0_28  | 0.205501183252 |  4   |\n",
      "| CC20190310 |   2_27  | 0.203471035128 |  5   |\n",
      "| CC20190310 |   6_8   | 0.200077251427 |  6   |\n",
      "| CC20190310 |   5_27  | 0.194917409628 |  7   |\n",
      "| CC20190310 |   1_26  | 0.190805694743 |  8   |\n",
      "| CC20190310 |   7_20  | 0.189726399586 |  9   |\n",
      "| CC20190310 |   3_4   | 0.187896649457 |  10  |\n",
      "| CC20190310 |   6_27  | 0.24363958062  |  1   |\n",
      "| CC20190310 |   1_27  | 0.218157582938 |  2   |\n",
      "| CC20190310 |   4_0   | 0.211857996484 |  3   |\n",
      "| CC20190310 |   0_28  | 0.205501183252 |  4   |\n",
      "| CC20190310 |   2_27  | 0.203471035128 |  5   |\n",
      "| CC20190310 |   6_8   | 0.200077251427 |  6   |\n",
      "| CC20190310 |   5_27  | 0.194917409628 |  7   |\n",
      "| CC20190310 |   1_26  | 0.190805694743 |  8   |\n",
      "| CC20190310 |   7_20  | 0.189726399586 |  9   |\n",
      "| CC20190310 |   3_4   | 0.187896649457 |  10  |\n",
      "| CC20190310 |   6_27  | 0.24363958062  |  1   |\n",
      "| CC20190310 |   1_27  | 0.218157582938 |  2   |\n",
      "| CC20190310 |   4_0   | 0.211857996484 |  3   |\n",
      "| CC20190310 |   0_28  | 0.205501183252 |  4   |\n",
      "| CC20190310 |   2_27  | 0.203471035128 |  5   |\n",
      "| CC20190310 |   6_8   | 0.200077251427 |  6   |\n",
      "| CC20190310 |   5_27  | 0.194917409628 |  7   |\n",
      "| CC20190310 |   1_26  | 0.190805694743 |  8   |\n",
      "| CC20190310 |   7_20  | 0.189726399586 |  9   |\n",
      "| CC20190310 |   3_4   | 0.187896649457 |  10  |\n",
      "+------------+---------+----------------+------+\n",
      "[1781220 rows x 4 columns]\n",
      "\n"
     ]
    }
   ],
   "source": [
    "# Using scaled number of seconds\n",
    "\n",
    "name = 'pearson'\n",
    "target = 'Scaled_SecNumF'\n",
    "pear_norm = model(train_data_norm, name, user_id, item_id, target, users_to_recommend, n_rec, n_display)"
   ]
  },
  {
   "cell_type": "markdown",
   "metadata": {
    "deletable": true,
    "editable": true
   },
   "source": [
    "## 8. Model Evaluation"
   ]
  },
  {
   "cell_type": "code",
   "execution_count": 29,
   "metadata": {
    "collapsed": true,
    "deletable": true,
    "editable": true
   },
   "outputs": [],
   "source": [
    "# create initial callable variables for model evaluation:\n",
    "\n",
    "models_w_counts = [popularity, cos, pear]\n",
    "models_w_dummy = [pop_dummy, cos_dummy, pear_dummy]\n",
    "models_w_norm = [pop_norm, cos_norm, pear_norm]\n",
    "\n",
    "names_w_counts = ['Popularity Model on SecNumF', 'Cosine Similarity on SecNumF', 'Pearson Similarity on SecNumF']\n",
    "names_w_dummy = ['Popularity Model on SecNumF Dummy', 'Cosine Similarity on SecNumF Dummy', 'Pearson Similarity on SecNumF Dummy']\n",
    "names_w_norm = ['Popularity Model on Scaled SecNumF', 'Cosine Similarity on Scaled SecNumF', 'Pearson Similarity on Scaled SecNumF']"
   ]
  },
  {
   "cell_type": "code",
   "execution_count": 30,
   "metadata": {
    "collapsed": false,
    "deletable": true,
    "editable": true
   },
   "outputs": [
    {
     "name": "stdout",
     "output_type": "stream",
     "text": [
      "PROGRESS: Evaluate model Popularity Model on SecNumF\n"
     ]
    },
    {
     "data": {
      "text/html": [
       "<pre>recommendations finished on 1000/1435 queries. users per second: 74621.3</pre>"
      ],
      "text/plain": [
       "recommendations finished on 1000/1435 queries. users per second: 74621.3"
      ]
     },
     "metadata": {},
     "output_type": "display_data"
    },
    {
     "name": "stdout",
     "output_type": "stream",
     "text": [
      "\n",
      "Precision and recall summary statistics by cutoff\n",
      "+--------+----------------+-----------------+\n",
      "| cutoff | mean_precision |   mean_recall   |\n",
      "+--------+----------------+-----------------+\n",
      "|   1    | 0.366550522648 | 0.0112228685239 |\n",
      "|   2    | 0.342508710801 | 0.0208615622934 |\n",
      "|   3    | 0.329152148664 | 0.0306430345791 |\n",
      "|   4    | 0.320209059233 | 0.0399430057306 |\n",
      "|   5    | 0.314982578397 | 0.0492209490915 |\n",
      "|   6    | 0.310801393728 | 0.0581818402709 |\n",
      "|   7    | 0.309308113489 | 0.0679476217706 |\n",
      "|   8    | 0.308885017422 | 0.0774706203979 |\n",
      "|   9    | 0.308865660085 | 0.0870841022526 |\n",
      "|   10   | 0.309128919861 | 0.0966855053331 |\n",
      "+--------+----------------+-----------------+\n",
      "[10 rows x 3 columns]\n",
      "\n",
      "\n",
      "Overall RMSE: 48.620436495\n",
      "\n",
      "Per User RMSE (best)\n",
      "+-----------+-------+---------------+\n",
      "|  Customer | count |      rmse     |\n",
      "+-----------+-------+---------------+\n",
      "| RC8602601 |   6   | 12.6912699816 |\n",
      "+-----------+-------+---------------+\n",
      "[1 rows x 3 columns]\n",
      "\n",
      "\n",
      "Per User RMSE (worst)\n",
      "+-------------+-------+---------------+\n",
      "|   Customer  | count |      rmse     |\n",
      "+-------------+-------+---------------+\n",
      "| CC201905130 |   52  | 179.982433601 |\n",
      "+-------------+-------+---------------+\n",
      "[1 rows x 3 columns]\n",
      "\n",
      "\n",
      "Per Item RMSE (best)\n",
      "+---------+-------+---------------+\n",
      "| Product | count |      rmse     |\n",
      "+---------+-------+---------------+\n",
      "|   0_28  |   46  | 30.7028815431 |\n",
      "+---------+-------+---------------+\n",
      "[1 rows x 3 columns]\n",
      "\n",
      "\n",
      "Per Item RMSE (worst)\n",
      "+---------+-------+---------------+\n",
      "| Product | count |      rmse     |\n",
      "+---------+-------+---------------+\n",
      "|   0_6   |  151  | 64.8715656568 |\n",
      "+---------+-------+---------------+\n",
      "[1 rows x 3 columns]\n",
      "\n",
      "PROGRESS: Evaluate model Cosine Similarity on SecNumF\n"
     ]
    },
    {
     "data": {
      "text/html": [
       "<pre>recommendations finished on 1000/1435 queries. users per second: 25583.3</pre>"
      ],
      "text/plain": [
       "recommendations finished on 1000/1435 queries. users per second: 25583.3"
      ]
     },
     "metadata": {},
     "output_type": "display_data"
    },
    {
     "name": "stdout",
     "output_type": "stream",
     "text": [
      "\n",
      "Precision and recall summary statistics by cutoff\n",
      "+--------+----------------+-----------------+\n",
      "| cutoff | mean_precision |   mean_recall   |\n",
      "+--------+----------------+-----------------+\n",
      "|   1    | 0.363763066202 | 0.0118415822491 |\n",
      "|   2    | 0.354355400697 | 0.0225991744595 |\n",
      "|   3    | 0.344715447154 |  0.03244358795  |\n",
      "|   4    | 0.335714285714 |  0.041959266198 |\n",
      "|   5    | 0.32543554007  | 0.0510344171372 |\n",
      "|   6    | 0.315911730546 | 0.0594655535508 |\n",
      "|   7    | 0.311199601792 | 0.0687521369334 |\n",
      "|   8    | 0.306794425087 | 0.0778066866816 |\n",
      "|   9    | 0.304529616725 | 0.0868440033379 |\n",
      "|   10   | 0.305017421603 | 0.0966336724551 |\n",
      "+--------+----------------+-----------------+\n",
      "[10 rows x 3 columns]\n",
      "\n",
      "\n",
      "Overall RMSE: 67.4889457856\n",
      "\n",
      "Per User RMSE (best)\n",
      "+-----------+-------+--------------+\n",
      "|  Customer | count |     rmse     |\n",
      "+-----------+-------+--------------+\n",
      "| RC2621091 |   3   | 8.1021740761 |\n",
      "+-----------+-------+--------------+\n",
      "[1 rows x 3 columns]\n",
      "\n",
      "\n",
      "Per User RMSE (worst)\n",
      "+-------------+-------+---------------+\n",
      "|   Customer  | count |      rmse     |\n",
      "+-------------+-------+---------------+\n",
      "| CC201905130 |   52  | 222.349334248 |\n",
      "+-------------+-------+---------------+\n",
      "[1 rows x 3 columns]\n",
      "\n",
      "\n",
      "Per Item RMSE (best)\n",
      "+---------+-------+---------------+\n",
      "| Product | count |      rmse     |\n",
      "+---------+-------+---------------+\n",
      "|   7_27  |   39  | 42.8450129884 |\n",
      "+---------+-------+---------------+\n",
      "[1 rows x 3 columns]\n",
      "\n",
      "\n",
      "Per Item RMSE (worst)\n",
      "+---------+-------+--------------+\n",
      "| Product | count |     rmse     |\n",
      "+---------+-------+--------------+\n",
      "|   0_6   |  151  | 84.499283608 |\n",
      "+---------+-------+--------------+\n",
      "[1 rows x 3 columns]\n",
      "\n",
      "PROGRESS: Evaluate model Pearson Similarity on SecNumF\n"
     ]
    },
    {
     "data": {
      "text/html": [
       "<pre>recommendations finished on 1000/1435 queries. users per second: 19353.2</pre>"
      ],
      "text/plain": [
       "recommendations finished on 1000/1435 queries. users per second: 19353.2"
      ]
     },
     "metadata": {},
     "output_type": "display_data"
    },
    {
     "name": "stdout",
     "output_type": "stream",
     "text": [
      "\n",
      "Precision and recall summary statistics by cutoff\n",
      "+--------+----------------+------------------+\n",
      "| cutoff | mean_precision |   mean_recall    |\n",
      "+--------+----------------+------------------+\n",
      "|   1    | 0.324041811847 | 0.00978262018011 |\n",
      "|   2    | 0.304529616725 | 0.0175370968041  |\n",
      "|   3    | 0.293379790941 | 0.0252794884602  |\n",
      "|   4    | 0.296515679443 | 0.0339594755683  |\n",
      "|   5    | 0.299651567944 | 0.0428746509335  |\n",
      "|   6    | 0.300696864111 | 0.0514055993935  |\n",
      "|   7    | 0.301941264311 | 0.0602855310021  |\n",
      "|   8    | 0.303658536585 | 0.0697318356166  |\n",
      "|   9    | 0.305303910182 | 0.0791893737291  |\n",
      "|   10   | 0.306968641115 | 0.0889128966848  |\n",
      "+--------+----------------+------------------+\n",
      "[10 rows x 3 columns]\n",
      "\n",
      "\n",
      "Overall RMSE: 45.623099534\n",
      "\n",
      "Per User RMSE (best)\n",
      "+-----------+-------+---------------+\n",
      "|  Customer | count |      rmse     |\n",
      "+-----------+-------+---------------+\n",
      "| RC8602601 |   6   | 11.6570063363 |\n",
      "+-----------+-------+---------------+\n",
      "[1 rows x 3 columns]\n",
      "\n",
      "\n",
      "Per User RMSE (worst)\n",
      "+-------------+-------+---------------+\n",
      "|   Customer  | count |      rmse     |\n",
      "+-------------+-------+---------------+\n",
      "| CC201905130 |   52  | 172.043194936 |\n",
      "+-------------+-------+---------------+\n",
      "[1 rows x 3 columns]\n",
      "\n",
      "\n",
      "Per Item RMSE (best)\n",
      "+---------+-------+---------------+\n",
      "| Product | count |      rmse     |\n",
      "+---------+-------+---------------+\n",
      "|   0_28  |   46  | 30.2920326543 |\n",
      "+---------+-------+---------------+\n",
      "[1 rows x 3 columns]\n",
      "\n",
      "\n",
      "Per Item RMSE (worst)\n",
      "+---------+-------+-------------+\n",
      "| Product | count |     rmse    |\n",
      "+---------+-------+-------------+\n",
      "|   0_6   |  151  | 63.37327175 |\n",
      "+---------+-------+-------------+\n",
      "[1 rows x 3 columns]\n",
      "\n",
      "PROGRESS: Evaluate model Popularity Model on SecNumF Dummy\n"
     ]
    },
    {
     "data": {
      "text/html": [
       "<pre>recommendations finished on 1000/1435 queries. users per second: 50709.9</pre>"
      ],
      "text/plain": [
       "recommendations finished on 1000/1435 queries. users per second: 50709.9"
      ]
     },
     "metadata": {},
     "output_type": "display_data"
    },
    {
     "name": "stdout",
     "output_type": "stream",
     "text": [
      "\n",
      "Precision and recall summary statistics by cutoff\n",
      "+--------+----------------+------------------+\n",
      "| cutoff | mean_precision |   mean_recall    |\n",
      "+--------+----------------+------------------+\n",
      "|   1    | 0.32543554007  | 0.00962358568752 |\n",
      "|   2    | 0.302090592334 |  0.018986534852  |\n",
      "|   3    | 0.30406504065  | 0.0290002766748  |\n",
      "|   4    | 0.302787456446 | 0.0388039674421  |\n",
      "|   5    | 0.302299651568 | 0.0486278246224  |\n",
      "|   6    |      0.3       | 0.0577314699602  |\n",
      "|   7    | 0.296167247387 | 0.0658270578191  |\n",
      "|   8    | 0.295034843206 | 0.0747687157749  |\n",
      "|   9    | 0.29539295393  | 0.0839474095955  |\n",
      "|   10   | 0.296794425087 | 0.0936881055725  |\n",
      "+--------+----------------+------------------+\n",
      "[10 rows x 3 columns]\n",
      "\n",
      "\n",
      "Overall RMSE: 0.0\n",
      "\n",
      "Per User RMSE (best)\n",
      "+-----------+-------+------+\n",
      "|  Customer | count | rmse |\n",
      "+-----------+-------+------+\n",
      "| RC7546494 |   8   | 0.0  |\n",
      "+-----------+-------+------+\n",
      "[1 rows x 3 columns]\n",
      "\n",
      "\n",
      "Per User RMSE (worst)\n",
      "+-------------+-------+------+\n",
      "|   Customer  | count | rmse |\n",
      "+-------------+-------+------+\n",
      "| CC201903163 |   43  | 0.0  |\n",
      "+-------------+-------+------+\n",
      "[1 rows x 3 columns]\n",
      "\n",
      "\n",
      "Per Item RMSE (best)\n",
      "+---------+-------+------+\n",
      "| Product | count | rmse |\n",
      "+---------+-------+------+\n",
      "|   2_14  |  141  | 0.0  |\n",
      "+---------+-------+------+\n",
      "[1 rows x 3 columns]\n",
      "\n",
      "\n",
      "Per Item RMSE (worst)\n",
      "+---------+-------+------+\n",
      "| Product | count | rmse |\n",
      "+---------+-------+------+\n",
      "|   6_14  |  160  | 0.0  |\n",
      "+---------+-------+------+\n",
      "[1 rows x 3 columns]\n",
      "\n",
      "PROGRESS: Evaluate model Cosine Similarity on SecNumF Dummy\n"
     ]
    },
    {
     "data": {
      "text/html": [
       "<pre>recommendations finished on 1000/1435 queries. users per second: 21011.1</pre>"
      ],
      "text/plain": [
       "recommendations finished on 1000/1435 queries. users per second: 21011.1"
      ]
     },
     "metadata": {},
     "output_type": "display_data"
    },
    {
     "name": "stdout",
     "output_type": "stream",
     "text": [
      "\n",
      "Precision and recall summary statistics by cutoff\n",
      "+--------+----------------+-----------------+\n",
      "| cutoff | mean_precision |   mean_recall   |\n",
      "+--------+----------------+-----------------+\n",
      "|   1    | 0.357491289199 | 0.0108656713871 |\n",
      "|   2    | 0.354355400697 | 0.0217371931142 |\n",
      "|   3    | 0.357026713124 | 0.0326521929344 |\n",
      "|   4    | 0.360278745645 | 0.0437675183496 |\n",
      "|   5    | 0.359303135889 | 0.0543374707202 |\n",
      "|   6    | 0.362717770035 | 0.0662493390722 |\n",
      "|   7    | 0.364260826282 | 0.0776526684309 |\n",
      "|   8    | 0.365940766551 | 0.0891761421343 |\n",
      "|   9    | 0.366860240031 |  0.10116789148  |\n",
      "|   10   | 0.36606271777  |  0.112940229578 |\n",
      "+--------+----------------+-----------------+\n",
      "[10 rows x 3 columns]\n",
      "\n",
      "\n",
      "Overall RMSE: 0.843138567263\n",
      "\n",
      "Per User RMSE (best)\n",
      "+-----------+-------+----------------+\n",
      "|  Customer | count |      rmse      |\n",
      "+-----------+-------+----------------+\n",
      "| RC1979531 |   3   | 0.641387426523 |\n",
      "+-----------+-------+----------------+\n",
      "[1 rows x 3 columns]\n",
      "\n",
      "\n",
      "Per User RMSE (worst)\n",
      "+-----------+-------+----------------+\n",
      "|  Customer | count |      rmse      |\n",
      "+-----------+-------+----------------+\n",
      "| RC9745183 |   2   | 0.985104903647 |\n",
      "+-----------+-------+----------------+\n",
      "[1 rows x 3 columns]\n",
      "\n",
      "\n",
      "Per Item RMSE (best)\n",
      "+---------+-------+----------------+\n",
      "| Product | count |      rmse      |\n",
      "+---------+-------+----------------+\n",
      "|   0_7   |  124  | 0.443233246782 |\n",
      "+---------+-------+----------------+\n",
      "[1 rows x 3 columns]\n",
      "\n",
      "\n",
      "Per Item RMSE (worst)\n",
      "+---------+-------+------+\n",
      "| Product | count | rmse |\n",
      "+---------+-------+------+\n",
      "|   4_29  |   66  | 1.0  |\n",
      "+---------+-------+------+\n",
      "[1 rows x 3 columns]\n",
      "\n",
      "PROGRESS: Evaluate model Pearson Similarity on SecNumF Dummy\n"
     ]
    },
    {
     "data": {
      "text/html": [
       "<pre>recommendations finished on 1000/1435 queries. users per second: 26766.6</pre>"
      ],
      "text/plain": [
       "recommendations finished on 1000/1435 queries. users per second: 26766.6"
      ]
     },
     "metadata": {},
     "output_type": "display_data"
    },
    {
     "name": "stdout",
     "output_type": "stream",
     "text": [
      "\n",
      "Precision and recall summary statistics by cutoff\n",
      "+--------+----------------+------------------+\n",
      "| cutoff | mean_precision |   mean_recall    |\n",
      "+--------+----------------+------------------+\n",
      "|   1    | 0.32543554007  | 0.00962358568752 |\n",
      "|   2    | 0.302090592334 |  0.018986534852  |\n",
      "|   3    | 0.30406504065  | 0.0290002766748  |\n",
      "|   4    | 0.302787456446 | 0.0388039674421  |\n",
      "|   5    | 0.302299651568 | 0.0486278246224  |\n",
      "|   6    |      0.3       | 0.0577314699602  |\n",
      "|   7    | 0.296167247387 | 0.0658270578191  |\n",
      "|   8    | 0.295034843206 | 0.0747687157749  |\n",
      "|   9    | 0.29539295393  | 0.0839474095955  |\n",
      "|   10   | 0.296794425087 | 0.0936881055725  |\n",
      "+--------+----------------+------------------+\n",
      "[10 rows x 3 columns]\n",
      "\n",
      "\n",
      "Overall RMSE: 1.0\n",
      "\n",
      "Per User RMSE (best)\n",
      "+-----------+-------+------+\n",
      "|  Customer | count | rmse |\n",
      "+-----------+-------+------+\n",
      "| RC7546494 |   8   | 1.0  |\n",
      "+-----------+-------+------+\n",
      "[1 rows x 3 columns]\n",
      "\n",
      "\n",
      "Per User RMSE (worst)\n",
      "+-------------+-------+------+\n",
      "|   Customer  | count | rmse |\n",
      "+-------------+-------+------+\n",
      "| CC201903163 |   43  | 1.0  |\n",
      "+-------------+-------+------+\n",
      "[1 rows x 3 columns]\n",
      "\n",
      "\n",
      "Per Item RMSE (best)\n",
      "+---------+-------+------+\n",
      "| Product | count | rmse |\n",
      "+---------+-------+------+\n",
      "|   2_14  |  141  | 1.0  |\n",
      "+---------+-------+------+\n",
      "[1 rows x 3 columns]\n",
      "\n",
      "\n",
      "Per Item RMSE (worst)\n",
      "+---------+-------+------+\n",
      "| Product | count | rmse |\n",
      "+---------+-------+------+\n",
      "|   6_14  |  160  | 1.0  |\n",
      "+---------+-------+------+\n",
      "[1 rows x 3 columns]\n",
      "\n",
      "PROGRESS: Evaluate model Popularity Model on Scaled SecNumF\n"
     ]
    },
    {
     "data": {
      "text/html": [
       "<pre>recommendations finished on 1000/1436 queries. users per second: 31103.2</pre>"
      ],
      "text/plain": [
       "recommendations finished on 1000/1436 queries. users per second: 31103.2"
      ]
     },
     "metadata": {},
     "output_type": "display_data"
    },
    {
     "name": "stdout",
     "output_type": "stream",
     "text": [
      "\n",
      "Precision and recall summary statistics by cutoff\n",
      "+--------+-----------------+------------------+\n",
      "| cutoff |  mean_precision |   mean_recall    |\n",
      "+--------+-----------------+------------------+\n",
      "|   1    | 0.0557103064067 | 0.00206154484777 |\n",
      "|   2    |  0.111768802228 | 0.0074973777594  |\n",
      "|   3    |  0.130919220056 |  0.012818568576  |\n",
      "|   4    |  0.142757660167 | 0.0194180898827  |\n",
      "|   5    |  0.147632311978 | 0.0248644540302  |\n",
      "|   6    |  0.156685236769 | 0.0314669066072  |\n",
      "|   7    |  0.16723040191  | 0.0396122802673  |\n",
      "|   8    |  0.174181754875 |  0.046914957932  |\n",
      "|   9    |  0.18144537295  | 0.0549697054489  |\n",
      "|   10   |  0.18795264624  | 0.0622969856805  |\n",
      "+--------+-----------------+------------------+\n",
      "[10 rows x 3 columns]\n",
      "\n",
      "\n",
      "Overall RMSE: 0.156002314695\n",
      "\n",
      "Per User RMSE (best)\n",
      "+-----------+-------+-----------------+\n",
      "|  Customer | count |       rmse      |\n",
      "+-----------+-------+-----------------+\n",
      "| RC8602601 |   11  | 0.0446702467514 |\n",
      "+-----------+-------+-----------------+\n",
      "[1 rows x 3 columns]\n",
      "\n",
      "\n",
      "Per User RMSE (worst)\n",
      "+-------------+-------+----------------+\n",
      "|   Customer  | count |      rmse      |\n",
      "+-------------+-------+----------------+\n",
      "| CC201905130 |   44  | 0.602078019396 |\n",
      "+-------------+-------+----------------+\n",
      "[1 rows x 3 columns]\n",
      "\n",
      "\n",
      "Per Item RMSE (best)\n",
      "+---------+-------+----------------+\n",
      "| Product | count |      rmse      |\n",
      "+---------+-------+----------------+\n",
      "|   7_28  |   55  | 0.105764067242 |\n",
      "+---------+-------+----------------+\n",
      "[1 rows x 3 columns]\n",
      "\n",
      "\n",
      "Per Item RMSE (worst)\n",
      "+---------+-------+---------------+\n",
      "| Product | count |      rmse     |\n",
      "+---------+-------+---------------+\n",
      "|   6_27  |   53  | 0.21536263917 |\n",
      "+---------+-------+---------------+\n",
      "[1 rows x 3 columns]\n",
      "\n",
      "PROGRESS: Evaluate model Cosine Similarity on Scaled SecNumF\n"
     ]
    },
    {
     "data": {
      "text/html": [
       "<pre>recommendations finished on 1000/1436 queries. users per second: 15545.3</pre>"
      ],
      "text/plain": [
       "recommendations finished on 1000/1436 queries. users per second: 15545.3"
      ]
     },
     "metadata": {},
     "output_type": "display_data"
    },
    {
     "name": "stdout",
     "output_type": "stream",
     "text": [
      "\n",
      "Precision and recall summary statistics by cutoff\n",
      "+--------+----------------+-----------------+\n",
      "| cutoff | mean_precision |   mean_recall   |\n",
      "+--------+----------------+-----------------+\n",
      "|   1    | 0.361420612813 | 0.0111937663647 |\n",
      "|   2    | 0.354456824513 |  0.021651180006 |\n",
      "|   3    | 0.35817084494  | 0.0331852234804 |\n",
      "|   4    | 0.360550139276 | 0.0444501959992 |\n",
      "|   5    | 0.358774373259 | 0.0547337487095 |\n",
      "|   6    | 0.358751160631 | 0.0657281648182 |\n",
      "|   7    | 0.358734580183 | 0.0767381996522 |\n",
      "|   8    | 0.358983286908 |  0.087435755425 |\n",
      "|   9    | 0.358789848344 | 0.0987462178937 |\n",
      "|   10   | 0.359818941504 |  0.110137759649 |\n",
      "+--------+----------------+-----------------+\n",
      "[10 rows x 3 columns]\n",
      "\n",
      "\n",
      "Overall RMSE: 0.197393983093\n",
      "\n",
      "Per User RMSE (best)\n",
      "+-----------+-------+------------------+\n",
      "|  Customer | count |       rmse       |\n",
      "+-----------+-------+------------------+\n",
      "| RC1444594 |   3   | 0.00756841598641 |\n",
      "+-----------+-------+------------------+\n",
      "[1 rows x 3 columns]\n",
      "\n",
      "\n",
      "Per User RMSE (worst)\n",
      "+-------------+-------+----------------+\n",
      "|   Customer  | count |      rmse      |\n",
      "+-------------+-------+----------------+\n",
      "| CC201905130 |   44  | 0.690835477625 |\n",
      "+-------------+-------+----------------+\n",
      "[1 rows x 3 columns]\n",
      "\n",
      "\n",
      "Per Item RMSE (best)\n",
      "+---------+-------+----------------+\n",
      "| Product | count |      rmse      |\n",
      "+---------+-------+----------------+\n",
      "|   4_19  |  171  | 0.104678850906 |\n",
      "+---------+-------+----------------+\n",
      "[1 rows x 3 columns]\n",
      "\n",
      "\n",
      "Per Item RMSE (worst)\n",
      "+---------+-------+----------------+\n",
      "| Product | count |      rmse      |\n",
      "+---------+-------+----------------+\n",
      "|   6_27  |   53  | 0.315361394769 |\n",
      "+---------+-------+----------------+\n",
      "[1 rows x 3 columns]\n",
      "\n",
      "PROGRESS: Evaluate model Pearson Similarity on Scaled SecNumF\n"
     ]
    },
    {
     "data": {
      "text/html": [
       "<pre>recommendations finished on 1000/1436 queries. users per second: 15778.1</pre>"
      ],
      "text/plain": [
       "recommendations finished on 1000/1436 queries. users per second: 15778.1"
      ]
     },
     "metadata": {},
     "output_type": "display_data"
    },
    {
     "name": "stdout",
     "output_type": "stream",
     "text": [
      "\n",
      "Precision and recall summary statistics by cutoff\n",
      "+--------+----------------+------------------+\n",
      "| cutoff | mean_precision |   mean_recall    |\n",
      "+--------+----------------+------------------+\n",
      "|   1    | 0.105849582173 | 0.00308714059606 |\n",
      "|   2    | 0.151810584958 | 0.00836724132678 |\n",
      "|   3    | 0.172237697307 | 0.0141321402712  |\n",
      "|   4    | 0.189415041783 | 0.0219775561362  |\n",
      "|   5    | 0.196935933148 | 0.0289382525183  |\n",
      "|   6    | 0.202065923863 |  0.035606095255  |\n",
      "|   7    | 0.204138479904 | 0.0418323929258  |\n",
      "|   8    | 0.206998607242 | 0.0485299948224  |\n",
      "|   9    | 0.21440730424  | 0.0568212676678  |\n",
      "|   10   | 0.218454038997 | 0.0644291187727  |\n",
      "+--------+----------------+------------------+\n",
      "[10 rows x 3 columns]\n",
      "\n",
      "\n",
      "Overall RMSE: 0.146440082046\n",
      "\n",
      "Per User RMSE (best)\n",
      "+-----------+-------+---------------+\n",
      "|  Customer | count |      rmse     |\n",
      "+-----------+-------+---------------+\n",
      "| RC8602601 |   11  | 0.04251692902 |\n",
      "+-----------+-------+---------------+\n",
      "[1 rows x 3 columns]\n",
      "\n",
      "\n",
      "Per User RMSE (worst)\n",
      "+-------------+-------+----------------+\n",
      "|   Customer  | count |      rmse      |\n",
      "+-------------+-------+----------------+\n",
      "| CC201905130 |   44  | 0.574972697824 |\n",
      "+-------------+-------+----------------+\n",
      "[1 rows x 3 columns]\n",
      "\n",
      "\n",
      "Per Item RMSE (best)\n",
      "+---------+-------+----------------+\n",
      "| Product | count |      rmse      |\n",
      "+---------+-------+----------------+\n",
      "|   4_19  |  171  | 0.094730025096 |\n",
      "+---------+-------+----------------+\n",
      "[1 rows x 3 columns]\n",
      "\n",
      "\n",
      "Per Item RMSE (worst)\n",
      "+---------+-------+----------------+\n",
      "| Product | count |      rmse      |\n",
      "+---------+-------+----------------+\n",
      "|   6_27  |   53  | 0.214683714697 |\n",
      "+---------+-------+----------------+\n",
      "[1 rows x 3 columns]\n",
      "\n"
     ]
    }
   ],
   "source": [
    "# Compare all the models we have built based on RMSE and precision-recall characteristics:\n",
    "\n",
    "eval_counts = tc.recommender.util.compare_models(test_data, models_w_counts, model_names=names_w_counts)\n",
    "eval_dummy = tc.recommender.util.compare_models(test_data_dummy, models_w_dummy, model_names=names_w_dummy)\n",
    "eval_norm = tc.recommender.util.compare_models(test_data_norm, models_w_norm, model_names=names_w_norm)"
   ]
  },
  {
   "cell_type": "markdown",
   "metadata": {
    "deletable": true,
    "editable": true
   },
   "source": [
    "### From the above summary, we select the Cosine similarity on scaled number of seconds approach as our final model, because this combination gives the best results (the desirable outcome has low RMSE and precision-recall close to 1)."
   ]
  },
  {
   "cell_type": "markdown",
   "metadata": {
    "deletable": true,
    "editable": true
   },
   "source": [
    "## 9. Final Output"
   ]
  },
  {
   "cell_type": "code",
   "execution_count": 32,
   "metadata": {
    "collapsed": true,
    "deletable": true,
    "editable": true
   },
   "outputs": [],
   "source": [
    "# data_norm"
   ]
  },
  {
   "cell_type": "code",
   "execution_count": 31,
   "metadata": {
    "collapsed": false,
    "deletable": true,
    "editable": true
   },
   "outputs": [
    {
     "data": {
      "text/html": [
       "<pre>Preparing data set.</pre>"
      ],
      "text/plain": [
       "Preparing data set."
      ]
     },
     "metadata": {},
     "output_type": "display_data"
    },
    {
     "data": {
      "text/html": [
       "<pre>    Data has 178122 observations with 1436 users and 235 items.</pre>"
      ],
      "text/plain": [
       "    Data has 178122 observations with 1436 users and 235 items."
      ]
     },
     "metadata": {},
     "output_type": "display_data"
    },
    {
     "data": {
      "text/html": [
       "<pre>    Data prepared in: 0.314481s</pre>"
      ],
      "text/plain": [
       "    Data prepared in: 0.314481s"
      ]
     },
     "metadata": {},
     "output_type": "display_data"
    },
    {
     "data": {
      "text/html": [
       "<pre>Training model from provided data.</pre>"
      ],
      "text/plain": [
       "Training model from provided data."
      ]
     },
     "metadata": {},
     "output_type": "display_data"
    },
    {
     "data": {
      "text/html": [
       "<pre>Gathering per-item and per-user statistics.</pre>"
      ],
      "text/plain": [
       "Gathering per-item and per-user statistics."
      ]
     },
     "metadata": {},
     "output_type": "display_data"
    },
    {
     "data": {
      "text/html": [
       "<pre>+--------------------------------+------------+</pre>"
      ],
      "text/plain": [
       "+--------------------------------+------------+"
      ]
     },
     "metadata": {},
     "output_type": "display_data"
    },
    {
     "data": {
      "text/html": [
       "<pre>| Elapsed Time (Item Statistics) | % Complete |</pre>"
      ],
      "text/plain": [
       "| Elapsed Time (Item Statistics) | % Complete |"
      ]
     },
     "metadata": {},
     "output_type": "display_data"
    },
    {
     "data": {
      "text/html": [
       "<pre>+--------------------------------+------------+</pre>"
      ],
      "text/plain": [
       "+--------------------------------+------------+"
      ]
     },
     "metadata": {},
     "output_type": "display_data"
    },
    {
     "data": {
      "text/html": [
       "<pre>| 4.644ms                        | 69.5       |</pre>"
      ],
      "text/plain": [
       "| 4.644ms                        | 69.5       |"
      ]
     },
     "metadata": {},
     "output_type": "display_data"
    },
    {
     "data": {
      "text/html": [
       "<pre>| 5.448ms                        | 100        |</pre>"
      ],
      "text/plain": [
       "| 5.448ms                        | 100        |"
      ]
     },
     "metadata": {},
     "output_type": "display_data"
    },
    {
     "data": {
      "text/html": [
       "<pre>+--------------------------------+------------+</pre>"
      ],
      "text/plain": [
       "+--------------------------------+------------+"
      ]
     },
     "metadata": {},
     "output_type": "display_data"
    },
    {
     "data": {
      "text/html": [
       "<pre>Setting up lookup tables.</pre>"
      ],
      "text/plain": [
       "Setting up lookup tables."
      ]
     },
     "metadata": {},
     "output_type": "display_data"
    },
    {
     "data": {
      "text/html": [
       "<pre>Processing data in one pass using dense lookup tables.</pre>"
      ],
      "text/plain": [
       "Processing data in one pass using dense lookup tables."
      ]
     },
     "metadata": {},
     "output_type": "display_data"
    },
    {
     "data": {
      "text/html": [
       "<pre>+-------------------------------------+------------------+-----------------+</pre>"
      ],
      "text/plain": [
       "+-------------------------------------+------------------+-----------------+"
      ]
     },
     "metadata": {},
     "output_type": "display_data"
    },
    {
     "data": {
      "text/html": [
       "<pre>| Elapsed Time (Constructing Lookups) | Total % Complete | Items Processed |</pre>"
      ],
      "text/plain": [
       "| Elapsed Time (Constructing Lookups) | Total % Complete | Items Processed |"
      ]
     },
     "metadata": {},
     "output_type": "display_data"
    },
    {
     "data": {
      "text/html": [
       "<pre>+-------------------------------------+------------------+-----------------+</pre>"
      ],
      "text/plain": [
       "+-------------------------------------+------------------+-----------------+"
      ]
     },
     "metadata": {},
     "output_type": "display_data"
    },
    {
     "data": {
      "text/html": [
       "<pre>| 6.789ms                             | 0                | 0               |</pre>"
      ],
      "text/plain": [
       "| 6.789ms                             | 0                | 0               |"
      ]
     },
     "metadata": {},
     "output_type": "display_data"
    },
    {
     "data": {
      "text/html": [
       "<pre>| 177.11ms                            | 100              | 235             |</pre>"
      ],
      "text/plain": [
       "| 177.11ms                            | 100              | 235             |"
      ]
     },
     "metadata": {},
     "output_type": "display_data"
    },
    {
     "data": {
      "text/html": [
       "<pre>+-------------------------------------+------------------+-----------------+</pre>"
      ],
      "text/plain": [
       "+-------------------------------------+------------------+-----------------+"
      ]
     },
     "metadata": {},
     "output_type": "display_data"
    },
    {
     "data": {
      "text/html": [
       "<pre>Finalizing lookup tables.</pre>"
      ],
      "text/plain": [
       "Finalizing lookup tables."
      ]
     },
     "metadata": {},
     "output_type": "display_data"
    },
    {
     "data": {
      "text/html": [
       "<pre>Generating candidate set for working with new users.</pre>"
      ],
      "text/plain": [
       "Generating candidate set for working with new users."
      ]
     },
     "metadata": {},
     "output_type": "display_data"
    },
    {
     "data": {
      "text/html": [
       "<pre>Finished training in 0.209635s</pre>"
      ],
      "text/plain": [
       "Finished training in 0.209635s"
      ]
     },
     "metadata": {},
     "output_type": "display_data"
    },
    {
     "data": {
      "text/html": [
       "<pre>recommendations finished on 1000/178122 queries. users per second: 18519.9</pre>"
      ],
      "text/plain": [
       "recommendations finished on 1000/178122 queries. users per second: 18519.9"
      ]
     },
     "metadata": {},
     "output_type": "display_data"
    },
    {
     "data": {
      "text/html": [
       "<pre>recommendations finished on 2000/178122 queries. users per second: 19508.8</pre>"
      ],
      "text/plain": [
       "recommendations finished on 2000/178122 queries. users per second: 19508.8"
      ]
     },
     "metadata": {},
     "output_type": "display_data"
    },
    {
     "data": {
      "text/html": [
       "<pre>recommendations finished on 3000/178122 queries. users per second: 19193.1</pre>"
      ],
      "text/plain": [
       "recommendations finished on 3000/178122 queries. users per second: 19193.1"
      ]
     },
     "metadata": {},
     "output_type": "display_data"
    },
    {
     "data": {
      "text/html": [
       "<pre>recommendations finished on 4000/178122 queries. users per second: 17275.4</pre>"
      ],
      "text/plain": [
       "recommendations finished on 4000/178122 queries. users per second: 17275.4"
      ]
     },
     "metadata": {},
     "output_type": "display_data"
    },
    {
     "data": {
      "text/html": [
       "<pre>recommendations finished on 5000/178122 queries. users per second: 16470.6</pre>"
      ],
      "text/plain": [
       "recommendations finished on 5000/178122 queries. users per second: 16470.6"
      ]
     },
     "metadata": {},
     "output_type": "display_data"
    },
    {
     "data": {
      "text/html": [
       "<pre>recommendations finished on 6000/178122 queries. users per second: 16335.1</pre>"
      ],
      "text/plain": [
       "recommendations finished on 6000/178122 queries. users per second: 16335.1"
      ]
     },
     "metadata": {},
     "output_type": "display_data"
    },
    {
     "data": {
      "text/html": [
       "<pre>recommendations finished on 7000/178122 queries. users per second: 16470.1</pre>"
      ],
      "text/plain": [
       "recommendations finished on 7000/178122 queries. users per second: 16470.1"
      ]
     },
     "metadata": {},
     "output_type": "display_data"
    },
    {
     "data": {
      "text/html": [
       "<pre>recommendations finished on 8000/178122 queries. users per second: 16172.4</pre>"
      ],
      "text/plain": [
       "recommendations finished on 8000/178122 queries. users per second: 16172.4"
      ]
     },
     "metadata": {},
     "output_type": "display_data"
    },
    {
     "data": {
      "text/html": [
       "<pre>recommendations finished on 9000/178122 queries. users per second: 16245.7</pre>"
      ],
      "text/plain": [
       "recommendations finished on 9000/178122 queries. users per second: 16245.7"
      ]
     },
     "metadata": {},
     "output_type": "display_data"
    },
    {
     "data": {
      "text/html": [
       "<pre>recommendations finished on 10000/178122 queries. users per second: 16208.5</pre>"
      ],
      "text/plain": [
       "recommendations finished on 10000/178122 queries. users per second: 16208.5"
      ]
     },
     "metadata": {},
     "output_type": "display_data"
    },
    {
     "data": {
      "text/html": [
       "<pre>recommendations finished on 11000/178122 queries. users per second: 16515</pre>"
      ],
      "text/plain": [
       "recommendations finished on 11000/178122 queries. users per second: 16515"
      ]
     },
     "metadata": {},
     "output_type": "display_data"
    },
    {
     "data": {
      "text/html": [
       "<pre>recommendations finished on 12000/178122 queries. users per second: 16596.3</pre>"
      ],
      "text/plain": [
       "recommendations finished on 12000/178122 queries. users per second: 16596.3"
      ]
     },
     "metadata": {},
     "output_type": "display_data"
    },
    {
     "data": {
      "text/html": [
       "<pre>recommendations finished on 13000/178122 queries. users per second: 16776.3</pre>"
      ],
      "text/plain": [
       "recommendations finished on 13000/178122 queries. users per second: 16776.3"
      ]
     },
     "metadata": {},
     "output_type": "display_data"
    },
    {
     "data": {
      "text/html": [
       "<pre>recommendations finished on 14000/178122 queries. users per second: 16809.4</pre>"
      ],
      "text/plain": [
       "recommendations finished on 14000/178122 queries. users per second: 16809.4"
      ]
     },
     "metadata": {},
     "output_type": "display_data"
    },
    {
     "data": {
      "text/html": [
       "<pre>recommendations finished on 15000/178122 queries. users per second: 16644.1</pre>"
      ],
      "text/plain": [
       "recommendations finished on 15000/178122 queries. users per second: 16644.1"
      ]
     },
     "metadata": {},
     "output_type": "display_data"
    },
    {
     "data": {
      "text/html": [
       "<pre>recommendations finished on 16000/178122 queries. users per second: 16515.5</pre>"
      ],
      "text/plain": [
       "recommendations finished on 16000/178122 queries. users per second: 16515.5"
      ]
     },
     "metadata": {},
     "output_type": "display_data"
    },
    {
     "data": {
      "text/html": [
       "<pre>recommendations finished on 17000/178122 queries. users per second: 16483.7</pre>"
      ],
      "text/plain": [
       "recommendations finished on 17000/178122 queries. users per second: 16483.7"
      ]
     },
     "metadata": {},
     "output_type": "display_data"
    },
    {
     "data": {
      "text/html": [
       "<pre>recommendations finished on 18000/178122 queries. users per second: 16102.4</pre>"
      ],
      "text/plain": [
       "recommendations finished on 18000/178122 queries. users per second: 16102.4"
      ]
     },
     "metadata": {},
     "output_type": "display_data"
    },
    {
     "data": {
      "text/html": [
       "<pre>recommendations finished on 19000/178122 queries. users per second: 16059.6</pre>"
      ],
      "text/plain": [
       "recommendations finished on 19000/178122 queries. users per second: 16059.6"
      ]
     },
     "metadata": {},
     "output_type": "display_data"
    },
    {
     "data": {
      "text/html": [
       "<pre>recommendations finished on 20000/178122 queries. users per second: 15955.5</pre>"
      ],
      "text/plain": [
       "recommendations finished on 20000/178122 queries. users per second: 15955.5"
      ]
     },
     "metadata": {},
     "output_type": "display_data"
    },
    {
     "data": {
      "text/html": [
       "<pre>recommendations finished on 21000/178122 queries. users per second: 15873.9</pre>"
      ],
      "text/plain": [
       "recommendations finished on 21000/178122 queries. users per second: 15873.9"
      ]
     },
     "metadata": {},
     "output_type": "display_data"
    },
    {
     "data": {
      "text/html": [
       "<pre>recommendations finished on 22000/178122 queries. users per second: 15866.8</pre>"
      ],
      "text/plain": [
       "recommendations finished on 22000/178122 queries. users per second: 15866.8"
      ]
     },
     "metadata": {},
     "output_type": "display_data"
    },
    {
     "data": {
      "text/html": [
       "<pre>recommendations finished on 23000/178122 queries. users per second: 15847.5</pre>"
      ],
      "text/plain": [
       "recommendations finished on 23000/178122 queries. users per second: 15847.5"
      ]
     },
     "metadata": {},
     "output_type": "display_data"
    },
    {
     "data": {
      "text/html": [
       "<pre>recommendations finished on 24000/178122 queries. users per second: 15517.4</pre>"
      ],
      "text/plain": [
       "recommendations finished on 24000/178122 queries. users per second: 15517.4"
      ]
     },
     "metadata": {},
     "output_type": "display_data"
    },
    {
     "data": {
      "text/html": [
       "<pre>recommendations finished on 25000/178122 queries. users per second: 15176.3</pre>"
      ],
      "text/plain": [
       "recommendations finished on 25000/178122 queries. users per second: 15176.3"
      ]
     },
     "metadata": {},
     "output_type": "display_data"
    },
    {
     "data": {
      "text/html": [
       "<pre>recommendations finished on 26000/178122 queries. users per second: 15258.4</pre>"
      ],
      "text/plain": [
       "recommendations finished on 26000/178122 queries. users per second: 15258.4"
      ]
     },
     "metadata": {},
     "output_type": "display_data"
    },
    {
     "data": {
      "text/html": [
       "<pre>recommendations finished on 27000/178122 queries. users per second: 15152.6</pre>"
      ],
      "text/plain": [
       "recommendations finished on 27000/178122 queries. users per second: 15152.6"
      ]
     },
     "metadata": {},
     "output_type": "display_data"
    },
    {
     "data": {
      "text/html": [
       "<pre>recommendations finished on 28000/178122 queries. users per second: 15117</pre>"
      ],
      "text/plain": [
       "recommendations finished on 28000/178122 queries. users per second: 15117"
      ]
     },
     "metadata": {},
     "output_type": "display_data"
    },
    {
     "data": {
      "text/html": [
       "<pre>recommendations finished on 29000/178122 queries. users per second: 15047</pre>"
      ],
      "text/plain": [
       "recommendations finished on 29000/178122 queries. users per second: 15047"
      ]
     },
     "metadata": {},
     "output_type": "display_data"
    },
    {
     "data": {
      "text/html": [
       "<pre>recommendations finished on 30000/178122 queries. users per second: 15183.4</pre>"
      ],
      "text/plain": [
       "recommendations finished on 30000/178122 queries. users per second: 15183.4"
      ]
     },
     "metadata": {},
     "output_type": "display_data"
    },
    {
     "data": {
      "text/html": [
       "<pre>recommendations finished on 31000/178122 queries. users per second: 15178.1</pre>"
      ],
      "text/plain": [
       "recommendations finished on 31000/178122 queries. users per second: 15178.1"
      ]
     },
     "metadata": {},
     "output_type": "display_data"
    },
    {
     "data": {
      "text/html": [
       "<pre>recommendations finished on 32000/178122 queries. users per second: 15147.7</pre>"
      ],
      "text/plain": [
       "recommendations finished on 32000/178122 queries. users per second: 15147.7"
      ]
     },
     "metadata": {},
     "output_type": "display_data"
    },
    {
     "data": {
      "text/html": [
       "<pre>recommendations finished on 33000/178122 queries. users per second: 15214.4</pre>"
      ],
      "text/plain": [
       "recommendations finished on 33000/178122 queries. users per second: 15214.4"
      ]
     },
     "metadata": {},
     "output_type": "display_data"
    },
    {
     "data": {
      "text/html": [
       "<pre>recommendations finished on 34000/178122 queries. users per second: 15284.6</pre>"
      ],
      "text/plain": [
       "recommendations finished on 34000/178122 queries. users per second: 15284.6"
      ]
     },
     "metadata": {},
     "output_type": "display_data"
    },
    {
     "data": {
      "text/html": [
       "<pre>recommendations finished on 35000/178122 queries. users per second: 15311.1</pre>"
      ],
      "text/plain": [
       "recommendations finished on 35000/178122 queries. users per second: 15311.1"
      ]
     },
     "metadata": {},
     "output_type": "display_data"
    },
    {
     "data": {
      "text/html": [
       "<pre>recommendations finished on 36000/178122 queries. users per second: 15230.5</pre>"
      ],
      "text/plain": [
       "recommendations finished on 36000/178122 queries. users per second: 15230.5"
      ]
     },
     "metadata": {},
     "output_type": "display_data"
    },
    {
     "data": {
      "text/html": [
       "<pre>recommendations finished on 37000/178122 queries. users per second: 15271.1</pre>"
      ],
      "text/plain": [
       "recommendations finished on 37000/178122 queries. users per second: 15271.1"
      ]
     },
     "metadata": {},
     "output_type": "display_data"
    },
    {
     "data": {
      "text/html": [
       "<pre>recommendations finished on 38000/178122 queries. users per second: 15180.8</pre>"
      ],
      "text/plain": [
       "recommendations finished on 38000/178122 queries. users per second: 15180.8"
      ]
     },
     "metadata": {},
     "output_type": "display_data"
    },
    {
     "data": {
      "text/html": [
       "<pre>recommendations finished on 39000/178122 queries. users per second: 15093.6</pre>"
      ],
      "text/plain": [
       "recommendations finished on 39000/178122 queries. users per second: 15093.6"
      ]
     },
     "metadata": {},
     "output_type": "display_data"
    },
    {
     "data": {
      "text/html": [
       "<pre>recommendations finished on 40000/178122 queries. users per second: 15101.8</pre>"
      ],
      "text/plain": [
       "recommendations finished on 40000/178122 queries. users per second: 15101.8"
      ]
     },
     "metadata": {},
     "output_type": "display_data"
    },
    {
     "data": {
      "text/html": [
       "<pre>recommendations finished on 41000/178122 queries. users per second: 15188.1</pre>"
      ],
      "text/plain": [
       "recommendations finished on 41000/178122 queries. users per second: 15188.1"
      ]
     },
     "metadata": {},
     "output_type": "display_data"
    },
    {
     "data": {
      "text/html": [
       "<pre>recommendations finished on 42000/178122 queries. users per second: 15244.5</pre>"
      ],
      "text/plain": [
       "recommendations finished on 42000/178122 queries. users per second: 15244.5"
      ]
     },
     "metadata": {},
     "output_type": "display_data"
    },
    {
     "data": {
      "text/html": [
       "<pre>recommendations finished on 43000/178122 queries. users per second: 15296.9</pre>"
      ],
      "text/plain": [
       "recommendations finished on 43000/178122 queries. users per second: 15296.9"
      ]
     },
     "metadata": {},
     "output_type": "display_data"
    },
    {
     "data": {
      "text/html": [
       "<pre>recommendations finished on 44000/178122 queries. users per second: 15366.6</pre>"
      ],
      "text/plain": [
       "recommendations finished on 44000/178122 queries. users per second: 15366.6"
      ]
     },
     "metadata": {},
     "output_type": "display_data"
    },
    {
     "data": {
      "text/html": [
       "<pre>recommendations finished on 45000/178122 queries. users per second: 15407.5</pre>"
      ],
      "text/plain": [
       "recommendations finished on 45000/178122 queries. users per second: 15407.5"
      ]
     },
     "metadata": {},
     "output_type": "display_data"
    },
    {
     "data": {
      "text/html": [
       "<pre>recommendations finished on 46000/178122 queries. users per second: 15429.3</pre>"
      ],
      "text/plain": [
       "recommendations finished on 46000/178122 queries. users per second: 15429.3"
      ]
     },
     "metadata": {},
     "output_type": "display_data"
    },
    {
     "data": {
      "text/html": [
       "<pre>recommendations finished on 47000/178122 queries. users per second: 15498.9</pre>"
      ],
      "text/plain": [
       "recommendations finished on 47000/178122 queries. users per second: 15498.9"
      ]
     },
     "metadata": {},
     "output_type": "display_data"
    },
    {
     "data": {
      "text/html": [
       "<pre>recommendations finished on 48000/178122 queries. users per second: 15565.5</pre>"
      ],
      "text/plain": [
       "recommendations finished on 48000/178122 queries. users per second: 15565.5"
      ]
     },
     "metadata": {},
     "output_type": "display_data"
    },
    {
     "data": {
      "text/html": [
       "<pre>recommendations finished on 49000/178122 queries. users per second: 15641</pre>"
      ],
      "text/plain": [
       "recommendations finished on 49000/178122 queries. users per second: 15641"
      ]
     },
     "metadata": {},
     "output_type": "display_data"
    },
    {
     "data": {
      "text/html": [
       "<pre>recommendations finished on 50000/178122 queries. users per second: 15644.6</pre>"
      ],
      "text/plain": [
       "recommendations finished on 50000/178122 queries. users per second: 15644.6"
      ]
     },
     "metadata": {},
     "output_type": "display_data"
    },
    {
     "data": {
      "text/html": [
       "<pre>recommendations finished on 51000/178122 queries. users per second: 15692.3</pre>"
      ],
      "text/plain": [
       "recommendations finished on 51000/178122 queries. users per second: 15692.3"
      ]
     },
     "metadata": {},
     "output_type": "display_data"
    },
    {
     "data": {
      "text/html": [
       "<pre>recommendations finished on 52000/178122 queries. users per second: 15780.8</pre>"
      ],
      "text/plain": [
       "recommendations finished on 52000/178122 queries. users per second: 15780.8"
      ]
     },
     "metadata": {},
     "output_type": "display_data"
    },
    {
     "data": {
      "text/html": [
       "<pre>recommendations finished on 53000/178122 queries. users per second: 15804.4</pre>"
      ],
      "text/plain": [
       "recommendations finished on 53000/178122 queries. users per second: 15804.4"
      ]
     },
     "metadata": {},
     "output_type": "display_data"
    },
    {
     "data": {
      "text/html": [
       "<pre>recommendations finished on 54000/178122 queries. users per second: 15809.3</pre>"
      ],
      "text/plain": [
       "recommendations finished on 54000/178122 queries. users per second: 15809.3"
      ]
     },
     "metadata": {},
     "output_type": "display_data"
    },
    {
     "data": {
      "text/html": [
       "<pre>recommendations finished on 55000/178122 queries. users per second: 15740.6</pre>"
      ],
      "text/plain": [
       "recommendations finished on 55000/178122 queries. users per second: 15740.6"
      ]
     },
     "metadata": {},
     "output_type": "display_data"
    },
    {
     "data": {
      "text/html": [
       "<pre>recommendations finished on 56000/178122 queries. users per second: 15770.9</pre>"
      ],
      "text/plain": [
       "recommendations finished on 56000/178122 queries. users per second: 15770.9"
      ]
     },
     "metadata": {},
     "output_type": "display_data"
    },
    {
     "data": {
      "text/html": [
       "<pre>recommendations finished on 57000/178122 queries. users per second: 15839.8</pre>"
      ],
      "text/plain": [
       "recommendations finished on 57000/178122 queries. users per second: 15839.8"
      ]
     },
     "metadata": {},
     "output_type": "display_data"
    },
    {
     "data": {
      "text/html": [
       "<pre>recommendations finished on 58000/178122 queries. users per second: 15860.3</pre>"
      ],
      "text/plain": [
       "recommendations finished on 58000/178122 queries. users per second: 15860.3"
      ]
     },
     "metadata": {},
     "output_type": "display_data"
    },
    {
     "data": {
      "text/html": [
       "<pre>recommendations finished on 59000/178122 queries. users per second: 15895.7</pre>"
      ],
      "text/plain": [
       "recommendations finished on 59000/178122 queries. users per second: 15895.7"
      ]
     },
     "metadata": {},
     "output_type": "display_data"
    },
    {
     "data": {
      "text/html": [
       "<pre>recommendations finished on 60000/178122 queries. users per second: 15922.6</pre>"
      ],
      "text/plain": [
       "recommendations finished on 60000/178122 queries. users per second: 15922.6"
      ]
     },
     "metadata": {},
     "output_type": "display_data"
    },
    {
     "data": {
      "text/html": [
       "<pre>recommendations finished on 61000/178122 queries. users per second: 15965.6</pre>"
      ],
      "text/plain": [
       "recommendations finished on 61000/178122 queries. users per second: 15965.6"
      ]
     },
     "metadata": {},
     "output_type": "display_data"
    },
    {
     "data": {
      "text/html": [
       "<pre>recommendations finished on 62000/178122 queries. users per second: 16006</pre>"
      ],
      "text/plain": [
       "recommendations finished on 62000/178122 queries. users per second: 16006"
      ]
     },
     "metadata": {},
     "output_type": "display_data"
    },
    {
     "data": {
      "text/html": [
       "<pre>recommendations finished on 63000/178122 queries. users per second: 16014.6</pre>"
      ],
      "text/plain": [
       "recommendations finished on 63000/178122 queries. users per second: 16014.6"
      ]
     },
     "metadata": {},
     "output_type": "display_data"
    },
    {
     "data": {
      "text/html": [
       "<pre>recommendations finished on 64000/178122 queries. users per second: 16011.1</pre>"
      ],
      "text/plain": [
       "recommendations finished on 64000/178122 queries. users per second: 16011.1"
      ]
     },
     "metadata": {},
     "output_type": "display_data"
    },
    {
     "data": {
      "text/html": [
       "<pre>recommendations finished on 65000/178122 queries. users per second: 15981.6</pre>"
      ],
      "text/plain": [
       "recommendations finished on 65000/178122 queries. users per second: 15981.6"
      ]
     },
     "metadata": {},
     "output_type": "display_data"
    },
    {
     "data": {
      "text/html": [
       "<pre>recommendations finished on 66000/178122 queries. users per second: 15996.1</pre>"
      ],
      "text/plain": [
       "recommendations finished on 66000/178122 queries. users per second: 15996.1"
      ]
     },
     "metadata": {},
     "output_type": "display_data"
    },
    {
     "data": {
      "text/html": [
       "<pre>recommendations finished on 67000/178122 queries. users per second: 16001.7</pre>"
      ],
      "text/plain": [
       "recommendations finished on 67000/178122 queries. users per second: 16001.7"
      ]
     },
     "metadata": {},
     "output_type": "display_data"
    },
    {
     "data": {
      "text/html": [
       "<pre>recommendations finished on 68000/178122 queries. users per second: 16024.6</pre>"
      ],
      "text/plain": [
       "recommendations finished on 68000/178122 queries. users per second: 16024.6"
      ]
     },
     "metadata": {},
     "output_type": "display_data"
    },
    {
     "data": {
      "text/html": [
       "<pre>recommendations finished on 69000/178122 queries. users per second: 16054.6</pre>"
      ],
      "text/plain": [
       "recommendations finished on 69000/178122 queries. users per second: 16054.6"
      ]
     },
     "metadata": {},
     "output_type": "display_data"
    },
    {
     "data": {
      "text/html": [
       "<pre>recommendations finished on 70000/178122 queries. users per second: 16099.3</pre>"
      ],
      "text/plain": [
       "recommendations finished on 70000/178122 queries. users per second: 16099.3"
      ]
     },
     "metadata": {},
     "output_type": "display_data"
    },
    {
     "data": {
      "text/html": [
       "<pre>recommendations finished on 71000/178122 queries. users per second: 16126.3</pre>"
      ],
      "text/plain": [
       "recommendations finished on 71000/178122 queries. users per second: 16126.3"
      ]
     },
     "metadata": {},
     "output_type": "display_data"
    },
    {
     "data": {
      "text/html": [
       "<pre>recommendations finished on 72000/178122 queries. users per second: 16154.6</pre>"
      ],
      "text/plain": [
       "recommendations finished on 72000/178122 queries. users per second: 16154.6"
      ]
     },
     "metadata": {},
     "output_type": "display_data"
    },
    {
     "data": {
      "text/html": [
       "<pre>recommendations finished on 73000/178122 queries. users per second: 16191.4</pre>"
      ],
      "text/plain": [
       "recommendations finished on 73000/178122 queries. users per second: 16191.4"
      ]
     },
     "metadata": {},
     "output_type": "display_data"
    },
    {
     "data": {
      "text/html": [
       "<pre>recommendations finished on 74000/178122 queries. users per second: 16179</pre>"
      ],
      "text/plain": [
       "recommendations finished on 74000/178122 queries. users per second: 16179"
      ]
     },
     "metadata": {},
     "output_type": "display_data"
    },
    {
     "data": {
      "text/html": [
       "<pre>recommendations finished on 75000/178122 queries. users per second: 16079.2</pre>"
      ],
      "text/plain": [
       "recommendations finished on 75000/178122 queries. users per second: 16079.2"
      ]
     },
     "metadata": {},
     "output_type": "display_data"
    },
    {
     "data": {
      "text/html": [
       "<pre>recommendations finished on 76000/178122 queries. users per second: 16041.5</pre>"
      ],
      "text/plain": [
       "recommendations finished on 76000/178122 queries. users per second: 16041.5"
      ]
     },
     "metadata": {},
     "output_type": "display_data"
    },
    {
     "data": {
      "text/html": [
       "<pre>recommendations finished on 77000/178122 queries. users per second: 16025.9</pre>"
      ],
      "text/plain": [
       "recommendations finished on 77000/178122 queries. users per second: 16025.9"
      ]
     },
     "metadata": {},
     "output_type": "display_data"
    },
    {
     "data": {
      "text/html": [
       "<pre>recommendations finished on 78000/178122 queries. users per second: 16030.2</pre>"
      ],
      "text/plain": [
       "recommendations finished on 78000/178122 queries. users per second: 16030.2"
      ]
     },
     "metadata": {},
     "output_type": "display_data"
    },
    {
     "data": {
      "text/html": [
       "<pre>recommendations finished on 79000/178122 queries. users per second: 16048.4</pre>"
      ],
      "text/plain": [
       "recommendations finished on 79000/178122 queries. users per second: 16048.4"
      ]
     },
     "metadata": {},
     "output_type": "display_data"
    },
    {
     "data": {
      "text/html": [
       "<pre>recommendations finished on 80000/178122 queries. users per second: 16082.7</pre>"
      ],
      "text/plain": [
       "recommendations finished on 80000/178122 queries. users per second: 16082.7"
      ]
     },
     "metadata": {},
     "output_type": "display_data"
    },
    {
     "data": {
      "text/html": [
       "<pre>recommendations finished on 81000/178122 queries. users per second: 16098.6</pre>"
      ],
      "text/plain": [
       "recommendations finished on 81000/178122 queries. users per second: 16098.6"
      ]
     },
     "metadata": {},
     "output_type": "display_data"
    },
    {
     "data": {
      "text/html": [
       "<pre>recommendations finished on 82000/178122 queries. users per second: 16116.3</pre>"
      ],
      "text/plain": [
       "recommendations finished on 82000/178122 queries. users per second: 16116.3"
      ]
     },
     "metadata": {},
     "output_type": "display_data"
    },
    {
     "data": {
      "text/html": [
       "<pre>recommendations finished on 83000/178122 queries. users per second: 16117</pre>"
      ],
      "text/plain": [
       "recommendations finished on 83000/178122 queries. users per second: 16117"
      ]
     },
     "metadata": {},
     "output_type": "display_data"
    },
    {
     "data": {
      "text/html": [
       "<pre>recommendations finished on 84000/178122 queries. users per second: 16151.8</pre>"
      ],
      "text/plain": [
       "recommendations finished on 84000/178122 queries. users per second: 16151.8"
      ]
     },
     "metadata": {},
     "output_type": "display_data"
    },
    {
     "data": {
      "text/html": [
       "<pre>recommendations finished on 85000/178122 queries. users per second: 16154.4</pre>"
      ],
      "text/plain": [
       "recommendations finished on 85000/178122 queries. users per second: 16154.4"
      ]
     },
     "metadata": {},
     "output_type": "display_data"
    },
    {
     "data": {
      "text/html": [
       "<pre>recommendations finished on 86000/178122 queries. users per second: 16182</pre>"
      ],
      "text/plain": [
       "recommendations finished on 86000/178122 queries. users per second: 16182"
      ]
     },
     "metadata": {},
     "output_type": "display_data"
    },
    {
     "data": {
      "text/html": [
       "<pre>recommendations finished on 87000/178122 queries. users per second: 16189.7</pre>"
      ],
      "text/plain": [
       "recommendations finished on 87000/178122 queries. users per second: 16189.7"
      ]
     },
     "metadata": {},
     "output_type": "display_data"
    },
    {
     "data": {
      "text/html": [
       "<pre>recommendations finished on 88000/178122 queries. users per second: 16217.5</pre>"
      ],
      "text/plain": [
       "recommendations finished on 88000/178122 queries. users per second: 16217.5"
      ]
     },
     "metadata": {},
     "output_type": "display_data"
    },
    {
     "data": {
      "text/html": [
       "<pre>recommendations finished on 89000/178122 queries. users per second: 16237.1</pre>"
      ],
      "text/plain": [
       "recommendations finished on 89000/178122 queries. users per second: 16237.1"
      ]
     },
     "metadata": {},
     "output_type": "display_data"
    },
    {
     "data": {
      "text/html": [
       "<pre>recommendations finished on 90000/178122 queries. users per second: 16269.8</pre>"
      ],
      "text/plain": [
       "recommendations finished on 90000/178122 queries. users per second: 16269.8"
      ]
     },
     "metadata": {},
     "output_type": "display_data"
    },
    {
     "data": {
      "text/html": [
       "<pre>recommendations finished on 91000/178122 queries. users per second: 16309</pre>"
      ],
      "text/plain": [
       "recommendations finished on 91000/178122 queries. users per second: 16309"
      ]
     },
     "metadata": {},
     "output_type": "display_data"
    },
    {
     "data": {
      "text/html": [
       "<pre>recommendations finished on 92000/178122 queries. users per second: 16328.1</pre>"
      ],
      "text/plain": [
       "recommendations finished on 92000/178122 queries. users per second: 16328.1"
      ]
     },
     "metadata": {},
     "output_type": "display_data"
    },
    {
     "data": {
      "text/html": [
       "<pre>recommendations finished on 93000/178122 queries. users per second: 16357.6</pre>"
      ],
      "text/plain": [
       "recommendations finished on 93000/178122 queries. users per second: 16357.6"
      ]
     },
     "metadata": {},
     "output_type": "display_data"
    },
    {
     "data": {
      "text/html": [
       "<pre>recommendations finished on 94000/178122 queries. users per second: 16355.5</pre>"
      ],
      "text/plain": [
       "recommendations finished on 94000/178122 queries. users per second: 16355.5"
      ]
     },
     "metadata": {},
     "output_type": "display_data"
    },
    {
     "data": {
      "text/html": [
       "<pre>recommendations finished on 95000/178122 queries. users per second: 16376.6</pre>"
      ],
      "text/plain": [
       "recommendations finished on 95000/178122 queries. users per second: 16376.6"
      ]
     },
     "metadata": {},
     "output_type": "display_data"
    },
    {
     "data": {
      "text/html": [
       "<pre>recommendations finished on 96000/178122 queries. users per second: 16365.9</pre>"
      ],
      "text/plain": [
       "recommendations finished on 96000/178122 queries. users per second: 16365.9"
      ]
     },
     "metadata": {},
     "output_type": "display_data"
    },
    {
     "data": {
      "text/html": [
       "<pre>recommendations finished on 97000/178122 queries. users per second: 16372.1</pre>"
      ],
      "text/plain": [
       "recommendations finished on 97000/178122 queries. users per second: 16372.1"
      ]
     },
     "metadata": {},
     "output_type": "display_data"
    },
    {
     "data": {
      "text/html": [
       "<pre>recommendations finished on 98000/178122 queries. users per second: 16364.9</pre>"
      ],
      "text/plain": [
       "recommendations finished on 98000/178122 queries. users per second: 16364.9"
      ]
     },
     "metadata": {},
     "output_type": "display_data"
    },
    {
     "data": {
      "text/html": [
       "<pre>recommendations finished on 99000/178122 queries. users per second: 16383.6</pre>"
      ],
      "text/plain": [
       "recommendations finished on 99000/178122 queries. users per second: 16383.6"
      ]
     },
     "metadata": {},
     "output_type": "display_data"
    },
    {
     "data": {
      "text/html": [
       "<pre>recommendations finished on 100000/178122 queries. users per second: 16398.7</pre>"
      ],
      "text/plain": [
       "recommendations finished on 100000/178122 queries. users per second: 16398.7"
      ]
     },
     "metadata": {},
     "output_type": "display_data"
    },
    {
     "data": {
      "text/html": [
       "<pre>recommendations finished on 101000/178122 queries. users per second: 16422.4</pre>"
      ],
      "text/plain": [
       "recommendations finished on 101000/178122 queries. users per second: 16422.4"
      ]
     },
     "metadata": {},
     "output_type": "display_data"
    },
    {
     "data": {
      "text/html": [
       "<pre>recommendations finished on 102000/178122 queries. users per second: 16419.9</pre>"
      ],
      "text/plain": [
       "recommendations finished on 102000/178122 queries. users per second: 16419.9"
      ]
     },
     "metadata": {},
     "output_type": "display_data"
    },
    {
     "data": {
      "text/html": [
       "<pre>recommendations finished on 103000/178122 queries. users per second: 16429</pre>"
      ],
      "text/plain": [
       "recommendations finished on 103000/178122 queries. users per second: 16429"
      ]
     },
     "metadata": {},
     "output_type": "display_data"
    },
    {
     "data": {
      "text/html": [
       "<pre>recommendations finished on 104000/178122 queries. users per second: 16431.7</pre>"
      ],
      "text/plain": [
       "recommendations finished on 104000/178122 queries. users per second: 16431.7"
      ]
     },
     "metadata": {},
     "output_type": "display_data"
    },
    {
     "data": {
      "text/html": [
       "<pre>recommendations finished on 105000/178122 queries. users per second: 16460.7</pre>"
      ],
      "text/plain": [
       "recommendations finished on 105000/178122 queries. users per second: 16460.7"
      ]
     },
     "metadata": {},
     "output_type": "display_data"
    },
    {
     "data": {
      "text/html": [
       "<pre>recommendations finished on 106000/178122 queries. users per second: 16461.2</pre>"
      ],
      "text/plain": [
       "recommendations finished on 106000/178122 queries. users per second: 16461.2"
      ]
     },
     "metadata": {},
     "output_type": "display_data"
    },
    {
     "data": {
      "text/html": [
       "<pre>recommendations finished on 107000/178122 queries. users per second: 16463.2</pre>"
      ],
      "text/plain": [
       "recommendations finished on 107000/178122 queries. users per second: 16463.2"
      ]
     },
     "metadata": {},
     "output_type": "display_data"
    },
    {
     "data": {
      "text/html": [
       "<pre>recommendations finished on 108000/178122 queries. users per second: 16428.9</pre>"
      ],
      "text/plain": [
       "recommendations finished on 108000/178122 queries. users per second: 16428.9"
      ]
     },
     "metadata": {},
     "output_type": "display_data"
    },
    {
     "data": {
      "text/html": [
       "<pre>recommendations finished on 109000/178122 queries. users per second: 16389.5</pre>"
      ],
      "text/plain": [
       "recommendations finished on 109000/178122 queries. users per second: 16389.5"
      ]
     },
     "metadata": {},
     "output_type": "display_data"
    },
    {
     "data": {
      "text/html": [
       "<pre>recommendations finished on 110000/178122 queries. users per second: 16345.6</pre>"
      ],
      "text/plain": [
       "recommendations finished on 110000/178122 queries. users per second: 16345.6"
      ]
     },
     "metadata": {},
     "output_type": "display_data"
    },
    {
     "data": {
      "text/html": [
       "<pre>recommendations finished on 111000/178122 queries. users per second: 16319.4</pre>"
      ],
      "text/plain": [
       "recommendations finished on 111000/178122 queries. users per second: 16319.4"
      ]
     },
     "metadata": {},
     "output_type": "display_data"
    },
    {
     "data": {
      "text/html": [
       "<pre>recommendations finished on 112000/178122 queries. users per second: 16295.1</pre>"
      ],
      "text/plain": [
       "recommendations finished on 112000/178122 queries. users per second: 16295.1"
      ]
     },
     "metadata": {},
     "output_type": "display_data"
    },
    {
     "data": {
      "text/html": [
       "<pre>recommendations finished on 113000/178122 queries. users per second: 16269.8</pre>"
      ],
      "text/plain": [
       "recommendations finished on 113000/178122 queries. users per second: 16269.8"
      ]
     },
     "metadata": {},
     "output_type": "display_data"
    },
    {
     "data": {
      "text/html": [
       "<pre>recommendations finished on 114000/178122 queries. users per second: 16243.2</pre>"
      ],
      "text/plain": [
       "recommendations finished on 114000/178122 queries. users per second: 16243.2"
      ]
     },
     "metadata": {},
     "output_type": "display_data"
    },
    {
     "data": {
      "text/html": [
       "<pre>recommendations finished on 115000/178122 queries. users per second: 16223.7</pre>"
      ],
      "text/plain": [
       "recommendations finished on 115000/178122 queries. users per second: 16223.7"
      ]
     },
     "metadata": {},
     "output_type": "display_data"
    },
    {
     "data": {
      "text/html": [
       "<pre>recommendations finished on 116000/178122 queries. users per second: 16190</pre>"
      ],
      "text/plain": [
       "recommendations finished on 116000/178122 queries. users per second: 16190"
      ]
     },
     "metadata": {},
     "output_type": "display_data"
    },
    {
     "data": {
      "text/html": [
       "<pre>recommendations finished on 117000/178122 queries. users per second: 16156</pre>"
      ],
      "text/plain": [
       "recommendations finished on 117000/178122 queries. users per second: 16156"
      ]
     },
     "metadata": {},
     "output_type": "display_data"
    },
    {
     "data": {
      "text/html": [
       "<pre>recommendations finished on 118000/178122 queries. users per second: 16088.7</pre>"
      ],
      "text/plain": [
       "recommendations finished on 118000/178122 queries. users per second: 16088.7"
      ]
     },
     "metadata": {},
     "output_type": "display_data"
    },
    {
     "data": {
      "text/html": [
       "<pre>recommendations finished on 119000/178122 queries. users per second: 16035.9</pre>"
      ],
      "text/plain": [
       "recommendations finished on 119000/178122 queries. users per second: 16035.9"
      ]
     },
     "metadata": {},
     "output_type": "display_data"
    },
    {
     "data": {
      "text/html": [
       "<pre>recommendations finished on 120000/178122 queries. users per second: 16025.5</pre>"
      ],
      "text/plain": [
       "recommendations finished on 120000/178122 queries. users per second: 16025.5"
      ]
     },
     "metadata": {},
     "output_type": "display_data"
    },
    {
     "data": {
      "text/html": [
       "<pre>recommendations finished on 121000/178122 queries. users per second: 15948.6</pre>"
      ],
      "text/plain": [
       "recommendations finished on 121000/178122 queries. users per second: 15948.6"
      ]
     },
     "metadata": {},
     "output_type": "display_data"
    },
    {
     "data": {
      "text/html": [
       "<pre>recommendations finished on 122000/178122 queries. users per second: 15953.1</pre>"
      ],
      "text/plain": [
       "recommendations finished on 122000/178122 queries. users per second: 15953.1"
      ]
     },
     "metadata": {},
     "output_type": "display_data"
    },
    {
     "data": {
      "text/html": [
       "<pre>recommendations finished on 123000/178122 queries. users per second: 15941</pre>"
      ],
      "text/plain": [
       "recommendations finished on 123000/178122 queries. users per second: 15941"
      ]
     },
     "metadata": {},
     "output_type": "display_data"
    },
    {
     "data": {
      "text/html": [
       "<pre>recommendations finished on 124000/178122 queries. users per second: 15920.8</pre>"
      ],
      "text/plain": [
       "recommendations finished on 124000/178122 queries. users per second: 15920.8"
      ]
     },
     "metadata": {},
     "output_type": "display_data"
    },
    {
     "data": {
      "text/html": [
       "<pre>recommendations finished on 125000/178122 queries. users per second: 15931.8</pre>"
      ],
      "text/plain": [
       "recommendations finished on 125000/178122 queries. users per second: 15931.8"
      ]
     },
     "metadata": {},
     "output_type": "display_data"
    },
    {
     "data": {
      "text/html": [
       "<pre>recommendations finished on 126000/178122 queries. users per second: 15917.8</pre>"
      ],
      "text/plain": [
       "recommendations finished on 126000/178122 queries. users per second: 15917.8"
      ]
     },
     "metadata": {},
     "output_type": "display_data"
    },
    {
     "data": {
      "text/html": [
       "<pre>recommendations finished on 127000/178122 queries. users per second: 15907.3</pre>"
      ],
      "text/plain": [
       "recommendations finished on 127000/178122 queries. users per second: 15907.3"
      ]
     },
     "metadata": {},
     "output_type": "display_data"
    },
    {
     "data": {
      "text/html": [
       "<pre>recommendations finished on 128000/178122 queries. users per second: 15913.8</pre>"
      ],
      "text/plain": [
       "recommendations finished on 128000/178122 queries. users per second: 15913.8"
      ]
     },
     "metadata": {},
     "output_type": "display_data"
    },
    {
     "data": {
      "text/html": [
       "<pre>recommendations finished on 129000/178122 queries. users per second: 15911.3</pre>"
      ],
      "text/plain": [
       "recommendations finished on 129000/178122 queries. users per second: 15911.3"
      ]
     },
     "metadata": {},
     "output_type": "display_data"
    },
    {
     "data": {
      "text/html": [
       "<pre>recommendations finished on 130000/178122 queries. users per second: 15917.1</pre>"
      ],
      "text/plain": [
       "recommendations finished on 130000/178122 queries. users per second: 15917.1"
      ]
     },
     "metadata": {},
     "output_type": "display_data"
    },
    {
     "data": {
      "text/html": [
       "<pre>recommendations finished on 131000/178122 queries. users per second: 15928.8</pre>"
      ],
      "text/plain": [
       "recommendations finished on 131000/178122 queries. users per second: 15928.8"
      ]
     },
     "metadata": {},
     "output_type": "display_data"
    },
    {
     "data": {
      "text/html": [
       "<pre>recommendations finished on 132000/178122 queries. users per second: 15947.2</pre>"
      ],
      "text/plain": [
       "recommendations finished on 132000/178122 queries. users per second: 15947.2"
      ]
     },
     "metadata": {},
     "output_type": "display_data"
    },
    {
     "data": {
      "text/html": [
       "<pre>recommendations finished on 133000/178122 queries. users per second: 15961.7</pre>"
      ],
      "text/plain": [
       "recommendations finished on 133000/178122 queries. users per second: 15961.7"
      ]
     },
     "metadata": {},
     "output_type": "display_data"
    },
    {
     "data": {
      "text/html": [
       "<pre>recommendations finished on 134000/178122 queries. users per second: 15985.9</pre>"
      ],
      "text/plain": [
       "recommendations finished on 134000/178122 queries. users per second: 15985.9"
      ]
     },
     "metadata": {},
     "output_type": "display_data"
    },
    {
     "data": {
      "text/html": [
       "<pre>recommendations finished on 135000/178122 queries. users per second: 15993.7</pre>"
      ],
      "text/plain": [
       "recommendations finished on 135000/178122 queries. users per second: 15993.7"
      ]
     },
     "metadata": {},
     "output_type": "display_data"
    },
    {
     "data": {
      "text/html": [
       "<pre>recommendations finished on 136000/178122 queries. users per second: 16026.1</pre>"
      ],
      "text/plain": [
       "recommendations finished on 136000/178122 queries. users per second: 16026.1"
      ]
     },
     "metadata": {},
     "output_type": "display_data"
    },
    {
     "data": {
      "text/html": [
       "<pre>recommendations finished on 137000/178122 queries. users per second: 16046.8</pre>"
      ],
      "text/plain": [
       "recommendations finished on 137000/178122 queries. users per second: 16046.8"
      ]
     },
     "metadata": {},
     "output_type": "display_data"
    },
    {
     "data": {
      "text/html": [
       "<pre>recommendations finished on 138000/178122 queries. users per second: 16071.2</pre>"
      ],
      "text/plain": [
       "recommendations finished on 138000/178122 queries. users per second: 16071.2"
      ]
     },
     "metadata": {},
     "output_type": "display_data"
    },
    {
     "data": {
      "text/html": [
       "<pre>recommendations finished on 139000/178122 queries. users per second: 16094.5</pre>"
      ],
      "text/plain": [
       "recommendations finished on 139000/178122 queries. users per second: 16094.5"
      ]
     },
     "metadata": {},
     "output_type": "display_data"
    },
    {
     "data": {
      "text/html": [
       "<pre>recommendations finished on 140000/178122 queries. users per second: 16107</pre>"
      ],
      "text/plain": [
       "recommendations finished on 140000/178122 queries. users per second: 16107"
      ]
     },
     "metadata": {},
     "output_type": "display_data"
    },
    {
     "data": {
      "text/html": [
       "<pre>recommendations finished on 141000/178122 queries. users per second: 16129.2</pre>"
      ],
      "text/plain": [
       "recommendations finished on 141000/178122 queries. users per second: 16129.2"
      ]
     },
     "metadata": {},
     "output_type": "display_data"
    },
    {
     "data": {
      "text/html": [
       "<pre>recommendations finished on 142000/178122 queries. users per second: 16145.1</pre>"
      ],
      "text/plain": [
       "recommendations finished on 142000/178122 queries. users per second: 16145.1"
      ]
     },
     "metadata": {},
     "output_type": "display_data"
    },
    {
     "data": {
      "text/html": [
       "<pre>recommendations finished on 143000/178122 queries. users per second: 16172.8</pre>"
      ],
      "text/plain": [
       "recommendations finished on 143000/178122 queries. users per second: 16172.8"
      ]
     },
     "metadata": {},
     "output_type": "display_data"
    },
    {
     "data": {
      "text/html": [
       "<pre>recommendations finished on 144000/178122 queries. users per second: 16187.7</pre>"
      ],
      "text/plain": [
       "recommendations finished on 144000/178122 queries. users per second: 16187.7"
      ]
     },
     "metadata": {},
     "output_type": "display_data"
    },
    {
     "data": {
      "text/html": [
       "<pre>recommendations finished on 145000/178122 queries. users per second: 16210.3</pre>"
      ],
      "text/plain": [
       "recommendations finished on 145000/178122 queries. users per second: 16210.3"
      ]
     },
     "metadata": {},
     "output_type": "display_data"
    },
    {
     "data": {
      "text/html": [
       "<pre>recommendations finished on 146000/178122 queries. users per second: 16224.7</pre>"
      ],
      "text/plain": [
       "recommendations finished on 146000/178122 queries. users per second: 16224.7"
      ]
     },
     "metadata": {},
     "output_type": "display_data"
    },
    {
     "data": {
      "text/html": [
       "<pre>recommendations finished on 147000/178122 queries. users per second: 16235.6</pre>"
      ],
      "text/plain": [
       "recommendations finished on 147000/178122 queries. users per second: 16235.6"
      ]
     },
     "metadata": {},
     "output_type": "display_data"
    },
    {
     "data": {
      "text/html": [
       "<pre>recommendations finished on 148000/178122 queries. users per second: 16256.6</pre>"
      ],
      "text/plain": [
       "recommendations finished on 148000/178122 queries. users per second: 16256.6"
      ]
     },
     "metadata": {},
     "output_type": "display_data"
    },
    {
     "data": {
      "text/html": [
       "<pre>recommendations finished on 149000/178122 queries. users per second: 16269.2</pre>"
      ],
      "text/plain": [
       "recommendations finished on 149000/178122 queries. users per second: 16269.2"
      ]
     },
     "metadata": {},
     "output_type": "display_data"
    },
    {
     "data": {
      "text/html": [
       "<pre>recommendations finished on 150000/178122 queries. users per second: 16293.2</pre>"
      ],
      "text/plain": [
       "recommendations finished on 150000/178122 queries. users per second: 16293.2"
      ]
     },
     "metadata": {},
     "output_type": "display_data"
    },
    {
     "data": {
      "text/html": [
       "<pre>recommendations finished on 151000/178122 queries. users per second: 16312.1</pre>"
      ],
      "text/plain": [
       "recommendations finished on 151000/178122 queries. users per second: 16312.1"
      ]
     },
     "metadata": {},
     "output_type": "display_data"
    },
    {
     "data": {
      "text/html": [
       "<pre>recommendations finished on 152000/178122 queries. users per second: 16309.3</pre>"
      ],
      "text/plain": [
       "recommendations finished on 152000/178122 queries. users per second: 16309.3"
      ]
     },
     "metadata": {},
     "output_type": "display_data"
    },
    {
     "data": {
      "text/html": [
       "<pre>recommendations finished on 153000/178122 queries. users per second: 16323.8</pre>"
      ],
      "text/plain": [
       "recommendations finished on 153000/178122 queries. users per second: 16323.8"
      ]
     },
     "metadata": {},
     "output_type": "display_data"
    },
    {
     "data": {
      "text/html": [
       "<pre>recommendations finished on 154000/178122 queries. users per second: 16330.5</pre>"
      ],
      "text/plain": [
       "recommendations finished on 154000/178122 queries. users per second: 16330.5"
      ]
     },
     "metadata": {},
     "output_type": "display_data"
    },
    {
     "data": {
      "text/html": [
       "<pre>recommendations finished on 155000/178122 queries. users per second: 16341.2</pre>"
      ],
      "text/plain": [
       "recommendations finished on 155000/178122 queries. users per second: 16341.2"
      ]
     },
     "metadata": {},
     "output_type": "display_data"
    },
    {
     "data": {
      "text/html": [
       "<pre>recommendations finished on 156000/178122 queries. users per second: 16304.3</pre>"
      ],
      "text/plain": [
       "recommendations finished on 156000/178122 queries. users per second: 16304.3"
      ]
     },
     "metadata": {},
     "output_type": "display_data"
    },
    {
     "data": {
      "text/html": [
       "<pre>recommendations finished on 157000/178122 queries. users per second: 16257</pre>"
      ],
      "text/plain": [
       "recommendations finished on 157000/178122 queries. users per second: 16257"
      ]
     },
     "metadata": {},
     "output_type": "display_data"
    },
    {
     "data": {
      "text/html": [
       "<pre>recommendations finished on 158000/178122 queries. users per second: 16219.4</pre>"
      ],
      "text/plain": [
       "recommendations finished on 158000/178122 queries. users per second: 16219.4"
      ]
     },
     "metadata": {},
     "output_type": "display_data"
    },
    {
     "data": {
      "text/html": [
       "<pre>recommendations finished on 159000/178122 queries. users per second: 16166.9</pre>"
      ],
      "text/plain": [
       "recommendations finished on 159000/178122 queries. users per second: 16166.9"
      ]
     },
     "metadata": {},
     "output_type": "display_data"
    },
    {
     "data": {
      "text/html": [
       "<pre>recommendations finished on 160000/178122 queries. users per second: 16076.1</pre>"
      ],
      "text/plain": [
       "recommendations finished on 160000/178122 queries. users per second: 16076.1"
      ]
     },
     "metadata": {},
     "output_type": "display_data"
    },
    {
     "data": {
      "text/html": [
       "<pre>recommendations finished on 161000/178122 queries. users per second: 16043.7</pre>"
      ],
      "text/plain": [
       "recommendations finished on 161000/178122 queries. users per second: 16043.7"
      ]
     },
     "metadata": {},
     "output_type": "display_data"
    },
    {
     "data": {
      "text/html": [
       "<pre>recommendations finished on 162000/178122 queries. users per second: 16000.3</pre>"
      ],
      "text/plain": [
       "recommendations finished on 162000/178122 queries. users per second: 16000.3"
      ]
     },
     "metadata": {},
     "output_type": "display_data"
    },
    {
     "data": {
      "text/html": [
       "<pre>recommendations finished on 163000/178122 queries. users per second: 15940.4</pre>"
      ],
      "text/plain": [
       "recommendations finished on 163000/178122 queries. users per second: 15940.4"
      ]
     },
     "metadata": {},
     "output_type": "display_data"
    },
    {
     "data": {
      "text/html": [
       "<pre>recommendations finished on 164000/178122 queries. users per second: 15911.6</pre>"
      ],
      "text/plain": [
       "recommendations finished on 164000/178122 queries. users per second: 15911.6"
      ]
     },
     "metadata": {},
     "output_type": "display_data"
    },
    {
     "data": {
      "text/html": [
       "<pre>recommendations finished on 165000/178122 queries. users per second: 15823.5</pre>"
      ],
      "text/plain": [
       "recommendations finished on 165000/178122 queries. users per second: 15823.5"
      ]
     },
     "metadata": {},
     "output_type": "display_data"
    },
    {
     "data": {
      "text/html": [
       "<pre>recommendations finished on 166000/178122 queries. users per second: 15771.1</pre>"
      ],
      "text/plain": [
       "recommendations finished on 166000/178122 queries. users per second: 15771.1"
      ]
     },
     "metadata": {},
     "output_type": "display_data"
    },
    {
     "data": {
      "text/html": [
       "<pre>recommendations finished on 167000/178122 queries. users per second: 15711.5</pre>"
      ],
      "text/plain": [
       "recommendations finished on 167000/178122 queries. users per second: 15711.5"
      ]
     },
     "metadata": {},
     "output_type": "display_data"
    },
    {
     "data": {
      "text/html": [
       "<pre>recommendations finished on 168000/178122 queries. users per second: 15644.5</pre>"
      ],
      "text/plain": [
       "recommendations finished on 168000/178122 queries. users per second: 15644.5"
      ]
     },
     "metadata": {},
     "output_type": "display_data"
    },
    {
     "data": {
      "text/html": [
       "<pre>recommendations finished on 169000/178122 queries. users per second: 15612.2</pre>"
      ],
      "text/plain": [
       "recommendations finished on 169000/178122 queries. users per second: 15612.2"
      ]
     },
     "metadata": {},
     "output_type": "display_data"
    },
    {
     "data": {
      "text/html": [
       "<pre>recommendations finished on 170000/178122 queries. users per second: 15541.9</pre>"
      ],
      "text/plain": [
       "recommendations finished on 170000/178122 queries. users per second: 15541.9"
      ]
     },
     "metadata": {},
     "output_type": "display_data"
    },
    {
     "data": {
      "text/html": [
       "<pre>recommendations finished on 171000/178122 queries. users per second: 15472</pre>"
      ],
      "text/plain": [
       "recommendations finished on 171000/178122 queries. users per second: 15472"
      ]
     },
     "metadata": {},
     "output_type": "display_data"
    },
    {
     "data": {
      "text/html": [
       "<pre>recommendations finished on 172000/178122 queries. users per second: 15430.4</pre>"
      ],
      "text/plain": [
       "recommendations finished on 172000/178122 queries. users per second: 15430.4"
      ]
     },
     "metadata": {},
     "output_type": "display_data"
    },
    {
     "data": {
      "text/html": [
       "<pre>recommendations finished on 173000/178122 queries. users per second: 15404.6</pre>"
      ],
      "text/plain": [
       "recommendations finished on 173000/178122 queries. users per second: 15404.6"
      ]
     },
     "metadata": {},
     "output_type": "display_data"
    },
    {
     "data": {
      "text/html": [
       "<pre>recommendations finished on 174000/178122 queries. users per second: 15385.3</pre>"
      ],
      "text/plain": [
       "recommendations finished on 174000/178122 queries. users per second: 15385.3"
      ]
     },
     "metadata": {},
     "output_type": "display_data"
    },
    {
     "data": {
      "text/html": [
       "<pre>recommendations finished on 175000/178122 queries. users per second: 15336.9</pre>"
      ],
      "text/plain": [
       "recommendations finished on 175000/178122 queries. users per second: 15336.9"
      ]
     },
     "metadata": {},
     "output_type": "display_data"
    },
    {
     "data": {
      "text/html": [
       "<pre>recommendations finished on 176000/178122 queries. users per second: 15293.7</pre>"
      ],
      "text/plain": [
       "recommendations finished on 176000/178122 queries. users per second: 15293.7"
      ]
     },
     "metadata": {},
     "output_type": "display_data"
    },
    {
     "data": {
      "text/html": [
       "<pre>recommendations finished on 177000/178122 queries. users per second: 15208.9</pre>"
      ],
      "text/plain": [
       "recommendations finished on 177000/178122 queries. users per second: 15208.9"
      ]
     },
     "metadata": {},
     "output_type": "display_data"
    },
    {
     "data": {
      "text/html": [
       "<pre>recommendations finished on 178000/178122 queries. users per second: 15116.9</pre>"
      ],
      "text/plain": [
       "recommendations finished on 178000/178122 queries. users per second: 15116.9"
      ]
     },
     "metadata": {},
     "output_type": "display_data"
    },
    {
     "name": "stdout",
     "output_type": "stream",
     "text": [
      "+------------+---------+------------------+------+\n",
      "|  Customer  | Product |      score       | rank |\n",
      "+------------+---------+------------------+------+\n",
      "| CC20190310 |   1_21  | 0.0581188351609  |  1   |\n",
      "| CC20190310 |   4_5   | 0.0405291745829  |  2   |\n",
      "| CC20190310 |   1_7   | 0.0328840735347  |  3   |\n",
      "| CC20190310 |   3_9   | 0.0271409228791  |  4   |\n",
      "| CC20190310 |   5_14  | 0.0252305815386  |  5   |\n",
      "| CC20190310 |   2_15  | 0.0249330373698  |  6   |\n",
      "| CC20190310 |   7_21  | 0.0126251314962  |  7   |\n",
      "| CC20190310 |   6_27  | 0.00319924188215 |  8   |\n",
      "| CC20190310 |   0_29  |       0.0        |  9   |\n",
      "| CC20190310 |   7_28  |       0.0        |  10  |\n",
      "| CC20190310 |   1_21  | 0.0581188351609  |  1   |\n",
      "| CC20190310 |   4_5   | 0.0405291745829  |  2   |\n",
      "| CC20190310 |   1_7   | 0.0328840735347  |  3   |\n",
      "| CC20190310 |   3_9   | 0.0271409228791  |  4   |\n",
      "| CC20190310 |   5_14  | 0.0252305815386  |  5   |\n",
      "| CC20190310 |   2_15  | 0.0249330373698  |  6   |\n",
      "| CC20190310 |   7_21  | 0.0126251314962  |  7   |\n",
      "| CC20190310 |   6_27  | 0.00319924188215 |  8   |\n",
      "| CC20190310 |   0_29  |       0.0        |  9   |\n",
      "| CC20190310 |   7_28  |       0.0        |  10  |\n",
      "| CC20190310 |   1_21  | 0.0581188351609  |  1   |\n",
      "| CC20190310 |   4_5   | 0.0405291745829  |  2   |\n",
      "| CC20190310 |   1_7   | 0.0328840735347  |  3   |\n",
      "| CC20190310 |   3_9   | 0.0271409228791  |  4   |\n",
      "| CC20190310 |   5_14  | 0.0252305815386  |  5   |\n",
      "| CC20190310 |   2_15  | 0.0249330373698  |  6   |\n",
      "| CC20190310 |   7_21  | 0.0126251314962  |  7   |\n",
      "| CC20190310 |   6_27  | 0.00319924188215 |  8   |\n",
      "| CC20190310 |   0_29  |       0.0        |  9   |\n",
      "| CC20190310 |   7_28  |       0.0        |  10  |\n",
      "+------------+---------+------------------+------+\n",
      "[1781220 rows x 4 columns]\n",
      "\n"
     ]
    }
   ],
   "source": [
    "# rerun the model using the whole dataset, as we came to a final model using train data and evaluated with test set.\n",
    "\n",
    "final_model = tc.item_similarity_recommender.create(tc.SFrame(data_norm), \n",
    "                                            user_id=user_id, \n",
    "                                            item_id=item_id,\n",
    "                                            target ='Scaled_SecNumF',\n",
    "                                            similarity_type = 'cosine' )\n",
    "\n",
    "recom = final_model.recommend(users=users_to_recommend, k=n_rec)\n",
    "recom.print_rows(n_display)"
   ]
  },
  {
   "cell_type": "markdown",
   "metadata": {
    "deletable": true,
    "editable": true
   },
   "source": [
    "#### 9.1. CSV output file"
   ]
  },
  {
   "cell_type": "code",
   "execution_count": 32,
   "metadata": {
    "collapsed": false,
    "deletable": true,
    "editable": true
   },
   "outputs": [
    {
     "name": "stdout",
     "output_type": "stream",
     "text": [
      "(1781220, 4)\n"
     ]
    },
    {
     "data": {
      "text/html": [
       "<div>\n",
       "<style scoped>\n",
       "    .dataframe tbody tr th:only-of-type {\n",
       "        vertical-align: middle;\n",
       "    }\n",
       "\n",
       "    .dataframe tbody tr th {\n",
       "        vertical-align: top;\n",
       "    }\n",
       "\n",
       "    .dataframe thead th {\n",
       "        text-align: right;\n",
       "    }\n",
       "</style>\n",
       "<table border=\"1\" class=\"dataframe\">\n",
       "  <thead>\n",
       "    <tr style=\"text-align: right;\">\n",
       "      <th></th>\n",
       "      <th>Customer</th>\n",
       "      <th>Product</th>\n",
       "      <th>score</th>\n",
       "      <th>rank</th>\n",
       "    </tr>\n",
       "  </thead>\n",
       "  <tbody>\n",
       "    <tr>\n",
       "      <th>0</th>\n",
       "      <td>CC20190310</td>\n",
       "      <td>1_21</td>\n",
       "      <td>0.058119</td>\n",
       "      <td>1</td>\n",
       "    </tr>\n",
       "    <tr>\n",
       "      <th>1</th>\n",
       "      <td>CC20190310</td>\n",
       "      <td>4_5</td>\n",
       "      <td>0.040529</td>\n",
       "      <td>2</td>\n",
       "    </tr>\n",
       "    <tr>\n",
       "      <th>2</th>\n",
       "      <td>CC20190310</td>\n",
       "      <td>1_7</td>\n",
       "      <td>0.032884</td>\n",
       "      <td>3</td>\n",
       "    </tr>\n",
       "    <tr>\n",
       "      <th>3</th>\n",
       "      <td>CC20190310</td>\n",
       "      <td>3_9</td>\n",
       "      <td>0.027141</td>\n",
       "      <td>4</td>\n",
       "    </tr>\n",
       "    <tr>\n",
       "      <th>4</th>\n",
       "      <td>CC20190310</td>\n",
       "      <td>5_14</td>\n",
       "      <td>0.025231</td>\n",
       "      <td>5</td>\n",
       "    </tr>\n",
       "  </tbody>\n",
       "</table>\n",
       "</div>"
      ],
      "text/plain": [
       "     Customer Product     score  rank\n",
       "0  CC20190310    1_21  0.058119     1\n",
       "1  CC20190310     4_5  0.040529     2\n",
       "2  CC20190310     1_7  0.032884     3\n",
       "3  CC20190310     3_9  0.027141     4\n",
       "4  CC20190310    5_14  0.025231     5"
      ]
     },
     "execution_count": 32,
     "metadata": {},
     "output_type": "execute_result"
    }
   ],
   "source": [
    "df_rec = recom.to_dataframe()\n",
    "print(df_rec.shape)\n",
    "df_rec.head()"
   ]
  },
  {
   "cell_type": "code",
   "execution_count": 33,
   "metadata": {
    "collapsed": true,
    "deletable": true,
    "editable": true
   },
   "outputs": [],
   "source": [
    "# create the desired output\n",
    "\n",
    "def create_output(model, users_to_recommend, n_rec, print_csv=True):\n",
    "    recomendation = model.recommend(users=users_to_recommend, k=n_rec)\n",
    "    df_rec = recomendation.to_dataframe().drop_duplicates()\n",
    "    df_rec['recommendedProducts'] = df_rec.groupby([user_id])[item_id] \\\n",
    "        .transform(lambda x: '|'.join(x.astype(str)))\n",
    "    df_output = df_rec[['Customer', 'recommendedProducts']].drop_duplicates() \\\n",
    "        .sort_values('Customer').set_index('Customer')\n",
    "    if print_csv:\n",
    "        df_output.to_csv('../recommendation_list.csv')\n",
    "        print(\"An output file was created with the name 'recommendation_list.csv'\")\n",
    "    return df_output"
   ]
  },
  {
   "cell_type": "code",
   "execution_count": 34,
   "metadata": {
    "collapsed": false,
    "deletable": true,
    "editable": true
   },
   "outputs": [
    {
     "data": {
      "text/html": [
       "<pre>recommendations finished on 1000/178122 queries. users per second: 23440.6</pre>"
      ],
      "text/plain": [
       "recommendations finished on 1000/178122 queries. users per second: 23440.6"
      ]
     },
     "metadata": {},
     "output_type": "display_data"
    },
    {
     "data": {
      "text/html": [
       "<pre>recommendations finished on 2000/178122 queries. users per second: 23758.9</pre>"
      ],
      "text/plain": [
       "recommendations finished on 2000/178122 queries. users per second: 23758.9"
      ]
     },
     "metadata": {},
     "output_type": "display_data"
    },
    {
     "data": {
      "text/html": [
       "<pre>recommendations finished on 3000/178122 queries. users per second: 24528.2</pre>"
      ],
      "text/plain": [
       "recommendations finished on 3000/178122 queries. users per second: 24528.2"
      ]
     },
     "metadata": {},
     "output_type": "display_data"
    },
    {
     "data": {
      "text/html": [
       "<pre>recommendations finished on 4000/178122 queries. users per second: 23900.9</pre>"
      ],
      "text/plain": [
       "recommendations finished on 4000/178122 queries. users per second: 23900.9"
      ]
     },
     "metadata": {},
     "output_type": "display_data"
    },
    {
     "data": {
      "text/html": [
       "<pre>recommendations finished on 5000/178122 queries. users per second: 23394.3</pre>"
      ],
      "text/plain": [
       "recommendations finished on 5000/178122 queries. users per second: 23394.3"
      ]
     },
     "metadata": {},
     "output_type": "display_data"
    },
    {
     "data": {
      "text/html": [
       "<pre>recommendations finished on 6000/178122 queries. users per second: 22280.7</pre>"
      ],
      "text/plain": [
       "recommendations finished on 6000/178122 queries. users per second: 22280.7"
      ]
     },
     "metadata": {},
     "output_type": "display_data"
    },
    {
     "data": {
      "text/html": [
       "<pre>recommendations finished on 7000/178122 queries. users per second: 21224.5</pre>"
      ],
      "text/plain": [
       "recommendations finished on 7000/178122 queries. users per second: 21224.5"
      ]
     },
     "metadata": {},
     "output_type": "display_data"
    },
    {
     "data": {
      "text/html": [
       "<pre>recommendations finished on 8000/178122 queries. users per second: 19807.8</pre>"
      ],
      "text/plain": [
       "recommendations finished on 8000/178122 queries. users per second: 19807.8"
      ]
     },
     "metadata": {},
     "output_type": "display_data"
    },
    {
     "data": {
      "text/html": [
       "<pre>recommendations finished on 9000/178122 queries. users per second: 19681.8</pre>"
      ],
      "text/plain": [
       "recommendations finished on 9000/178122 queries. users per second: 19681.8"
      ]
     },
     "metadata": {},
     "output_type": "display_data"
    },
    {
     "data": {
      "text/html": [
       "<pre>recommendations finished on 10000/178122 queries. users per second: 18788</pre>"
      ],
      "text/plain": [
       "recommendations finished on 10000/178122 queries. users per second: 18788"
      ]
     },
     "metadata": {},
     "output_type": "display_data"
    },
    {
     "data": {
      "text/html": [
       "<pre>recommendations finished on 11000/178122 queries. users per second: 18363.7</pre>"
      ],
      "text/plain": [
       "recommendations finished on 11000/178122 queries. users per second: 18363.7"
      ]
     },
     "metadata": {},
     "output_type": "display_data"
    },
    {
     "data": {
      "text/html": [
       "<pre>recommendations finished on 12000/178122 queries. users per second: 18202.4</pre>"
      ],
      "text/plain": [
       "recommendations finished on 12000/178122 queries. users per second: 18202.4"
      ]
     },
     "metadata": {},
     "output_type": "display_data"
    },
    {
     "data": {
      "text/html": [
       "<pre>recommendations finished on 13000/178122 queries. users per second: 18211</pre>"
      ],
      "text/plain": [
       "recommendations finished on 13000/178122 queries. users per second: 18211"
      ]
     },
     "metadata": {},
     "output_type": "display_data"
    },
    {
     "data": {
      "text/html": [
       "<pre>recommendations finished on 14000/178122 queries. users per second: 18319.7</pre>"
      ],
      "text/plain": [
       "recommendations finished on 14000/178122 queries. users per second: 18319.7"
      ]
     },
     "metadata": {},
     "output_type": "display_data"
    },
    {
     "data": {
      "text/html": [
       "<pre>recommendations finished on 15000/178122 queries. users per second: 18336.3</pre>"
      ],
      "text/plain": [
       "recommendations finished on 15000/178122 queries. users per second: 18336.3"
      ]
     },
     "metadata": {},
     "output_type": "display_data"
    },
    {
     "data": {
      "text/html": [
       "<pre>recommendations finished on 16000/178122 queries. users per second: 18413</pre>"
      ],
      "text/plain": [
       "recommendations finished on 16000/178122 queries. users per second: 18413"
      ]
     },
     "metadata": {},
     "output_type": "display_data"
    },
    {
     "data": {
      "text/html": [
       "<pre>recommendations finished on 17000/178122 queries. users per second: 18278.7</pre>"
      ],
      "text/plain": [
       "recommendations finished on 17000/178122 queries. users per second: 18278.7"
      ]
     },
     "metadata": {},
     "output_type": "display_data"
    },
    {
     "data": {
      "text/html": [
       "<pre>recommendations finished on 18000/178122 queries. users per second: 18324.4</pre>"
      ],
      "text/plain": [
       "recommendations finished on 18000/178122 queries. users per second: 18324.4"
      ]
     },
     "metadata": {},
     "output_type": "display_data"
    },
    {
     "data": {
      "text/html": [
       "<pre>recommendations finished on 19000/178122 queries. users per second: 18188.2</pre>"
      ],
      "text/plain": [
       "recommendations finished on 19000/178122 queries. users per second: 18188.2"
      ]
     },
     "metadata": {},
     "output_type": "display_data"
    },
    {
     "data": {
      "text/html": [
       "<pre>recommendations finished on 20000/178122 queries. users per second: 18285.3</pre>"
      ],
      "text/plain": [
       "recommendations finished on 20000/178122 queries. users per second: 18285.3"
      ]
     },
     "metadata": {},
     "output_type": "display_data"
    },
    {
     "data": {
      "text/html": [
       "<pre>recommendations finished on 21000/178122 queries. users per second: 18189.3</pre>"
      ],
      "text/plain": [
       "recommendations finished on 21000/178122 queries. users per second: 18189.3"
      ]
     },
     "metadata": {},
     "output_type": "display_data"
    },
    {
     "data": {
      "text/html": [
       "<pre>recommendations finished on 22000/178122 queries. users per second: 18084.1</pre>"
      ],
      "text/plain": [
       "recommendations finished on 22000/178122 queries. users per second: 18084.1"
      ]
     },
     "metadata": {},
     "output_type": "display_data"
    },
    {
     "data": {
      "text/html": [
       "<pre>recommendations finished on 23000/178122 queries. users per second: 18189.4</pre>"
      ],
      "text/plain": [
       "recommendations finished on 23000/178122 queries. users per second: 18189.4"
      ]
     },
     "metadata": {},
     "output_type": "display_data"
    },
    {
     "data": {
      "text/html": [
       "<pre>recommendations finished on 24000/178122 queries. users per second: 18198.6</pre>"
      ],
      "text/plain": [
       "recommendations finished on 24000/178122 queries. users per second: 18198.6"
      ]
     },
     "metadata": {},
     "output_type": "display_data"
    },
    {
     "data": {
      "text/html": [
       "<pre>recommendations finished on 25000/178122 queries. users per second: 18272.2</pre>"
      ],
      "text/plain": [
       "recommendations finished on 25000/178122 queries. users per second: 18272.2"
      ]
     },
     "metadata": {},
     "output_type": "display_data"
    },
    {
     "data": {
      "text/html": [
       "<pre>recommendations finished on 26000/178122 queries. users per second: 18245.2</pre>"
      ],
      "text/plain": [
       "recommendations finished on 26000/178122 queries. users per second: 18245.2"
      ]
     },
     "metadata": {},
     "output_type": "display_data"
    },
    {
     "data": {
      "text/html": [
       "<pre>recommendations finished on 27000/178122 queries. users per second: 18265.3</pre>"
      ],
      "text/plain": [
       "recommendations finished on 27000/178122 queries. users per second: 18265.3"
      ]
     },
     "metadata": {},
     "output_type": "display_data"
    },
    {
     "data": {
      "text/html": [
       "<pre>recommendations finished on 28000/178122 queries. users per second: 18198.7</pre>"
      ],
      "text/plain": [
       "recommendations finished on 28000/178122 queries. users per second: 18198.7"
      ]
     },
     "metadata": {},
     "output_type": "display_data"
    },
    {
     "data": {
      "text/html": [
       "<pre>recommendations finished on 29000/178122 queries. users per second: 18215.1</pre>"
      ],
      "text/plain": [
       "recommendations finished on 29000/178122 queries. users per second: 18215.1"
      ]
     },
     "metadata": {},
     "output_type": "display_data"
    },
    {
     "data": {
      "text/html": [
       "<pre>recommendations finished on 30000/178122 queries. users per second: 18279.4</pre>"
      ],
      "text/plain": [
       "recommendations finished on 30000/178122 queries. users per second: 18279.4"
      ]
     },
     "metadata": {},
     "output_type": "display_data"
    },
    {
     "data": {
      "text/html": [
       "<pre>recommendations finished on 31000/178122 queries. users per second: 18131.6</pre>"
      ],
      "text/plain": [
       "recommendations finished on 31000/178122 queries. users per second: 18131.6"
      ]
     },
     "metadata": {},
     "output_type": "display_data"
    },
    {
     "data": {
      "text/html": [
       "<pre>recommendations finished on 32000/178122 queries. users per second: 18031.5</pre>"
      ],
      "text/plain": [
       "recommendations finished on 32000/178122 queries. users per second: 18031.5"
      ]
     },
     "metadata": {},
     "output_type": "display_data"
    },
    {
     "data": {
      "text/html": [
       "<pre>recommendations finished on 33000/178122 queries. users per second: 18147.7</pre>"
      ],
      "text/plain": [
       "recommendations finished on 33000/178122 queries. users per second: 18147.7"
      ]
     },
     "metadata": {},
     "output_type": "display_data"
    },
    {
     "data": {
      "text/html": [
       "<pre>recommendations finished on 34000/178122 queries. users per second: 18177.3</pre>"
      ],
      "text/plain": [
       "recommendations finished on 34000/178122 queries. users per second: 18177.3"
      ]
     },
     "metadata": {},
     "output_type": "display_data"
    },
    {
     "data": {
      "text/html": [
       "<pre>recommendations finished on 35000/178122 queries. users per second: 18174.9</pre>"
      ],
      "text/plain": [
       "recommendations finished on 35000/178122 queries. users per second: 18174.9"
      ]
     },
     "metadata": {},
     "output_type": "display_data"
    },
    {
     "data": {
      "text/html": [
       "<pre>recommendations finished on 36000/178122 queries. users per second: 18126.5</pre>"
      ],
      "text/plain": [
       "recommendations finished on 36000/178122 queries. users per second: 18126.5"
      ]
     },
     "metadata": {},
     "output_type": "display_data"
    },
    {
     "data": {
      "text/html": [
       "<pre>recommendations finished on 37000/178122 queries. users per second: 18134.4</pre>"
      ],
      "text/plain": [
       "recommendations finished on 37000/178122 queries. users per second: 18134.4"
      ]
     },
     "metadata": {},
     "output_type": "display_data"
    },
    {
     "data": {
      "text/html": [
       "<pre>recommendations finished on 38000/178122 queries. users per second: 18171.2</pre>"
      ],
      "text/plain": [
       "recommendations finished on 38000/178122 queries. users per second: 18171.2"
      ]
     },
     "metadata": {},
     "output_type": "display_data"
    },
    {
     "data": {
      "text/html": [
       "<pre>recommendations finished on 39000/178122 queries. users per second: 18203.5</pre>"
      ],
      "text/plain": [
       "recommendations finished on 39000/178122 queries. users per second: 18203.5"
      ]
     },
     "metadata": {},
     "output_type": "display_data"
    },
    {
     "data": {
      "text/html": [
       "<pre>recommendations finished on 40000/178122 queries. users per second: 18215.8</pre>"
      ],
      "text/plain": [
       "recommendations finished on 40000/178122 queries. users per second: 18215.8"
      ]
     },
     "metadata": {},
     "output_type": "display_data"
    },
    {
     "data": {
      "text/html": [
       "<pre>recommendations finished on 41000/178122 queries. users per second: 18136.7</pre>"
      ],
      "text/plain": [
       "recommendations finished on 41000/178122 queries. users per second: 18136.7"
      ]
     },
     "metadata": {},
     "output_type": "display_data"
    },
    {
     "data": {
      "text/html": [
       "<pre>recommendations finished on 42000/178122 queries. users per second: 18099.3</pre>"
      ],
      "text/plain": [
       "recommendations finished on 42000/178122 queries. users per second: 18099.3"
      ]
     },
     "metadata": {},
     "output_type": "display_data"
    },
    {
     "data": {
      "text/html": [
       "<pre>recommendations finished on 43000/178122 queries. users per second: 18107.3</pre>"
      ],
      "text/plain": [
       "recommendations finished on 43000/178122 queries. users per second: 18107.3"
      ]
     },
     "metadata": {},
     "output_type": "display_data"
    },
    {
     "data": {
      "text/html": [
       "<pre>recommendations finished on 44000/178122 queries. users per second: 18121.5</pre>"
      ],
      "text/plain": [
       "recommendations finished on 44000/178122 queries. users per second: 18121.5"
      ]
     },
     "metadata": {},
     "output_type": "display_data"
    },
    {
     "data": {
      "text/html": [
       "<pre>recommendations finished on 45000/178122 queries. users per second: 18029.3</pre>"
      ],
      "text/plain": [
       "recommendations finished on 45000/178122 queries. users per second: 18029.3"
      ]
     },
     "metadata": {},
     "output_type": "display_data"
    },
    {
     "data": {
      "text/html": [
       "<pre>recommendations finished on 46000/178122 queries. users per second: 17934.6</pre>"
      ],
      "text/plain": [
       "recommendations finished on 46000/178122 queries. users per second: 17934.6"
      ]
     },
     "metadata": {},
     "output_type": "display_data"
    },
    {
     "data": {
      "text/html": [
       "<pre>recommendations finished on 47000/178122 queries. users per second: 17885.8</pre>"
      ],
      "text/plain": [
       "recommendations finished on 47000/178122 queries. users per second: 17885.8"
      ]
     },
     "metadata": {},
     "output_type": "display_data"
    },
    {
     "data": {
      "text/html": [
       "<pre>recommendations finished on 48000/178122 queries. users per second: 17781.7</pre>"
      ],
      "text/plain": [
       "recommendations finished on 48000/178122 queries. users per second: 17781.7"
      ]
     },
     "metadata": {},
     "output_type": "display_data"
    },
    {
     "data": {
      "text/html": [
       "<pre>recommendations finished on 49000/178122 queries. users per second: 17774.8</pre>"
      ],
      "text/plain": [
       "recommendations finished on 49000/178122 queries. users per second: 17774.8"
      ]
     },
     "metadata": {},
     "output_type": "display_data"
    },
    {
     "data": {
      "text/html": [
       "<pre>recommendations finished on 50000/178122 queries. users per second: 17623.1</pre>"
      ],
      "text/plain": [
       "recommendations finished on 50000/178122 queries. users per second: 17623.1"
      ]
     },
     "metadata": {},
     "output_type": "display_data"
    },
    {
     "data": {
      "text/html": [
       "<pre>recommendations finished on 51000/178122 queries. users per second: 17634.2</pre>"
      ],
      "text/plain": [
       "recommendations finished on 51000/178122 queries. users per second: 17634.2"
      ]
     },
     "metadata": {},
     "output_type": "display_data"
    },
    {
     "data": {
      "text/html": [
       "<pre>recommendations finished on 52000/178122 queries. users per second: 17697.9</pre>"
      ],
      "text/plain": [
       "recommendations finished on 52000/178122 queries. users per second: 17697.9"
      ]
     },
     "metadata": {},
     "output_type": "display_data"
    },
    {
     "data": {
      "text/html": [
       "<pre>recommendations finished on 53000/178122 queries. users per second: 17754.2</pre>"
      ],
      "text/plain": [
       "recommendations finished on 53000/178122 queries. users per second: 17754.2"
      ]
     },
     "metadata": {},
     "output_type": "display_data"
    },
    {
     "data": {
      "text/html": [
       "<pre>recommendations finished on 54000/178122 queries. users per second: 17763.1</pre>"
      ],
      "text/plain": [
       "recommendations finished on 54000/178122 queries. users per second: 17763.1"
      ]
     },
     "metadata": {},
     "output_type": "display_data"
    },
    {
     "data": {
      "text/html": [
       "<pre>recommendations finished on 55000/178122 queries. users per second: 17825.2</pre>"
      ],
      "text/plain": [
       "recommendations finished on 55000/178122 queries. users per second: 17825.2"
      ]
     },
     "metadata": {},
     "output_type": "display_data"
    },
    {
     "data": {
      "text/html": [
       "<pre>recommendations finished on 56000/178122 queries. users per second: 17853</pre>"
      ],
      "text/plain": [
       "recommendations finished on 56000/178122 queries. users per second: 17853"
      ]
     },
     "metadata": {},
     "output_type": "display_data"
    },
    {
     "data": {
      "text/html": [
       "<pre>recommendations finished on 57000/178122 queries. users per second: 17859.7</pre>"
      ],
      "text/plain": [
       "recommendations finished on 57000/178122 queries. users per second: 17859.7"
      ]
     },
     "metadata": {},
     "output_type": "display_data"
    },
    {
     "data": {
      "text/html": [
       "<pre>recommendations finished on 58000/178122 queries. users per second: 17896.5</pre>"
      ],
      "text/plain": [
       "recommendations finished on 58000/178122 queries. users per second: 17896.5"
      ]
     },
     "metadata": {},
     "output_type": "display_data"
    },
    {
     "data": {
      "text/html": [
       "<pre>recommendations finished on 59000/178122 queries. users per second: 17899.9</pre>"
      ],
      "text/plain": [
       "recommendations finished on 59000/178122 queries. users per second: 17899.9"
      ]
     },
     "metadata": {},
     "output_type": "display_data"
    },
    {
     "data": {
      "text/html": [
       "<pre>recommendations finished on 60000/178122 queries. users per second: 17916.9</pre>"
      ],
      "text/plain": [
       "recommendations finished on 60000/178122 queries. users per second: 17916.9"
      ]
     },
     "metadata": {},
     "output_type": "display_data"
    },
    {
     "data": {
      "text/html": [
       "<pre>recommendations finished on 61000/178122 queries. users per second: 17920.8</pre>"
      ],
      "text/plain": [
       "recommendations finished on 61000/178122 queries. users per second: 17920.8"
      ]
     },
     "metadata": {},
     "output_type": "display_data"
    },
    {
     "data": {
      "text/html": [
       "<pre>recommendations finished on 62000/178122 queries. users per second: 17932.3</pre>"
      ],
      "text/plain": [
       "recommendations finished on 62000/178122 queries. users per second: 17932.3"
      ]
     },
     "metadata": {},
     "output_type": "display_data"
    },
    {
     "data": {
      "text/html": [
       "<pre>recommendations finished on 63000/178122 queries. users per second: 17948.7</pre>"
      ],
      "text/plain": [
       "recommendations finished on 63000/178122 queries. users per second: 17948.7"
      ]
     },
     "metadata": {},
     "output_type": "display_data"
    },
    {
     "data": {
      "text/html": [
       "<pre>recommendations finished on 64000/178122 queries. users per second: 17935.4</pre>"
      ],
      "text/plain": [
       "recommendations finished on 64000/178122 queries. users per second: 17935.4"
      ]
     },
     "metadata": {},
     "output_type": "display_data"
    },
    {
     "data": {
      "text/html": [
       "<pre>recommendations finished on 65000/178122 queries. users per second: 18004.8</pre>"
      ],
      "text/plain": [
       "recommendations finished on 65000/178122 queries. users per second: 18004.8"
      ]
     },
     "metadata": {},
     "output_type": "display_data"
    },
    {
     "data": {
      "text/html": [
       "<pre>recommendations finished on 66000/178122 queries. users per second: 18031.8</pre>"
      ],
      "text/plain": [
       "recommendations finished on 66000/178122 queries. users per second: 18031.8"
      ]
     },
     "metadata": {},
     "output_type": "display_data"
    },
    {
     "data": {
      "text/html": [
       "<pre>recommendations finished on 67000/178122 queries. users per second: 18058.5</pre>"
      ],
      "text/plain": [
       "recommendations finished on 67000/178122 queries. users per second: 18058.5"
      ]
     },
     "metadata": {},
     "output_type": "display_data"
    },
    {
     "data": {
      "text/html": [
       "<pre>recommendations finished on 68000/178122 queries. users per second: 18013.6</pre>"
      ],
      "text/plain": [
       "recommendations finished on 68000/178122 queries. users per second: 18013.6"
      ]
     },
     "metadata": {},
     "output_type": "display_data"
    },
    {
     "data": {
      "text/html": [
       "<pre>recommendations finished on 69000/178122 queries. users per second: 17928.6</pre>"
      ],
      "text/plain": [
       "recommendations finished on 69000/178122 queries. users per second: 17928.6"
      ]
     },
     "metadata": {},
     "output_type": "display_data"
    },
    {
     "data": {
      "text/html": [
       "<pre>recommendations finished on 70000/178122 queries. users per second: 17934</pre>"
      ],
      "text/plain": [
       "recommendations finished on 70000/178122 queries. users per second: 17934"
      ]
     },
     "metadata": {},
     "output_type": "display_data"
    },
    {
     "data": {
      "text/html": [
       "<pre>recommendations finished on 71000/178122 queries. users per second: 17930.9</pre>"
      ],
      "text/plain": [
       "recommendations finished on 71000/178122 queries. users per second: 17930.9"
      ]
     },
     "metadata": {},
     "output_type": "display_data"
    },
    {
     "data": {
      "text/html": [
       "<pre>recommendations finished on 72000/178122 queries. users per second: 17922.7</pre>"
      ],
      "text/plain": [
       "recommendations finished on 72000/178122 queries. users per second: 17922.7"
      ]
     },
     "metadata": {},
     "output_type": "display_data"
    },
    {
     "data": {
      "text/html": [
       "<pre>recommendations finished on 73000/178122 queries. users per second: 17908.1</pre>"
      ],
      "text/plain": [
       "recommendations finished on 73000/178122 queries. users per second: 17908.1"
      ]
     },
     "metadata": {},
     "output_type": "display_data"
    },
    {
     "data": {
      "text/html": [
       "<pre>recommendations finished on 74000/178122 queries. users per second: 17905.9</pre>"
      ],
      "text/plain": [
       "recommendations finished on 74000/178122 queries. users per second: 17905.9"
      ]
     },
     "metadata": {},
     "output_type": "display_data"
    },
    {
     "data": {
      "text/html": [
       "<pre>recommendations finished on 75000/178122 queries. users per second: 17923.6</pre>"
      ],
      "text/plain": [
       "recommendations finished on 75000/178122 queries. users per second: 17923.6"
      ]
     },
     "metadata": {},
     "output_type": "display_data"
    },
    {
     "data": {
      "text/html": [
       "<pre>recommendations finished on 76000/178122 queries. users per second: 17976.4</pre>"
      ],
      "text/plain": [
       "recommendations finished on 76000/178122 queries. users per second: 17976.4"
      ]
     },
     "metadata": {},
     "output_type": "display_data"
    },
    {
     "data": {
      "text/html": [
       "<pre>recommendations finished on 77000/178122 queries. users per second: 18005</pre>"
      ],
      "text/plain": [
       "recommendations finished on 77000/178122 queries. users per second: 18005"
      ]
     },
     "metadata": {},
     "output_type": "display_data"
    },
    {
     "data": {
      "text/html": [
       "<pre>recommendations finished on 78000/178122 queries. users per second: 17971.6</pre>"
      ],
      "text/plain": [
       "recommendations finished on 78000/178122 queries. users per second: 17971.6"
      ]
     },
     "metadata": {},
     "output_type": "display_data"
    },
    {
     "data": {
      "text/html": [
       "<pre>recommendations finished on 79000/178122 queries. users per second: 17865.3</pre>"
      ],
      "text/plain": [
       "recommendations finished on 79000/178122 queries. users per second: 17865.3"
      ]
     },
     "metadata": {},
     "output_type": "display_data"
    },
    {
     "data": {
      "text/html": [
       "<pre>recommendations finished on 80000/178122 queries. users per second: 17687</pre>"
      ],
      "text/plain": [
       "recommendations finished on 80000/178122 queries. users per second: 17687"
      ]
     },
     "metadata": {},
     "output_type": "display_data"
    },
    {
     "data": {
      "text/html": [
       "<pre>recommendations finished on 81000/178122 queries. users per second: 17670.1</pre>"
      ],
      "text/plain": [
       "recommendations finished on 81000/178122 queries. users per second: 17670.1"
      ]
     },
     "metadata": {},
     "output_type": "display_data"
    },
    {
     "data": {
      "text/html": [
       "<pre>recommendations finished on 82000/178122 queries. users per second: 17709.8</pre>"
      ],
      "text/plain": [
       "recommendations finished on 82000/178122 queries. users per second: 17709.8"
      ]
     },
     "metadata": {},
     "output_type": "display_data"
    },
    {
     "data": {
      "text/html": [
       "<pre>recommendations finished on 83000/178122 queries. users per second: 17743.9</pre>"
      ],
      "text/plain": [
       "recommendations finished on 83000/178122 queries. users per second: 17743.9"
      ]
     },
     "metadata": {},
     "output_type": "display_data"
    },
    {
     "data": {
      "text/html": [
       "<pre>recommendations finished on 84000/178122 queries. users per second: 17748.7</pre>"
      ],
      "text/plain": [
       "recommendations finished on 84000/178122 queries. users per second: 17748.7"
      ]
     },
     "metadata": {},
     "output_type": "display_data"
    },
    {
     "data": {
      "text/html": [
       "<pre>recommendations finished on 85000/178122 queries. users per second: 17772</pre>"
      ],
      "text/plain": [
       "recommendations finished on 85000/178122 queries. users per second: 17772"
      ]
     },
     "metadata": {},
     "output_type": "display_data"
    },
    {
     "data": {
      "text/html": [
       "<pre>recommendations finished on 86000/178122 queries. users per second: 17757</pre>"
      ],
      "text/plain": [
       "recommendations finished on 86000/178122 queries. users per second: 17757"
      ]
     },
     "metadata": {},
     "output_type": "display_data"
    },
    {
     "data": {
      "text/html": [
       "<pre>recommendations finished on 87000/178122 queries. users per second: 17742.7</pre>"
      ],
      "text/plain": [
       "recommendations finished on 87000/178122 queries. users per second: 17742.7"
      ]
     },
     "metadata": {},
     "output_type": "display_data"
    },
    {
     "data": {
      "text/html": [
       "<pre>recommendations finished on 88000/178122 queries. users per second: 17748.5</pre>"
      ],
      "text/plain": [
       "recommendations finished on 88000/178122 queries. users per second: 17748.5"
      ]
     },
     "metadata": {},
     "output_type": "display_data"
    },
    {
     "data": {
      "text/html": [
       "<pre>recommendations finished on 89000/178122 queries. users per second: 17660.4</pre>"
      ],
      "text/plain": [
       "recommendations finished on 89000/178122 queries. users per second: 17660.4"
      ]
     },
     "metadata": {},
     "output_type": "display_data"
    },
    {
     "data": {
      "text/html": [
       "<pre>recommendations finished on 90000/178122 queries. users per second: 17628.7</pre>"
      ],
      "text/plain": [
       "recommendations finished on 90000/178122 queries. users per second: 17628.7"
      ]
     },
     "metadata": {},
     "output_type": "display_data"
    },
    {
     "data": {
      "text/html": [
       "<pre>recommendations finished on 91000/178122 queries. users per second: 17673.6</pre>"
      ],
      "text/plain": [
       "recommendations finished on 91000/178122 queries. users per second: 17673.6"
      ]
     },
     "metadata": {},
     "output_type": "display_data"
    },
    {
     "data": {
      "text/html": [
       "<pre>recommendations finished on 92000/178122 queries. users per second: 17665</pre>"
      ],
      "text/plain": [
       "recommendations finished on 92000/178122 queries. users per second: 17665"
      ]
     },
     "metadata": {},
     "output_type": "display_data"
    },
    {
     "data": {
      "text/html": [
       "<pre>recommendations finished on 93000/178122 queries. users per second: 17633.5</pre>"
      ],
      "text/plain": [
       "recommendations finished on 93000/178122 queries. users per second: 17633.5"
      ]
     },
     "metadata": {},
     "output_type": "display_data"
    },
    {
     "data": {
      "text/html": [
       "<pre>recommendations finished on 94000/178122 queries. users per second: 17660</pre>"
      ],
      "text/plain": [
       "recommendations finished on 94000/178122 queries. users per second: 17660"
      ]
     },
     "metadata": {},
     "output_type": "display_data"
    },
    {
     "data": {
      "text/html": [
       "<pre>recommendations finished on 95000/178122 queries. users per second: 17675.6</pre>"
      ],
      "text/plain": [
       "recommendations finished on 95000/178122 queries. users per second: 17675.6"
      ]
     },
     "metadata": {},
     "output_type": "display_data"
    },
    {
     "data": {
      "text/html": [
       "<pre>recommendations finished on 96000/178122 queries. users per second: 17682.3</pre>"
      ],
      "text/plain": [
       "recommendations finished on 96000/178122 queries. users per second: 17682.3"
      ]
     },
     "metadata": {},
     "output_type": "display_data"
    },
    {
     "data": {
      "text/html": [
       "<pre>recommendations finished on 97000/178122 queries. users per second: 17694.1</pre>"
      ],
      "text/plain": [
       "recommendations finished on 97000/178122 queries. users per second: 17694.1"
      ]
     },
     "metadata": {},
     "output_type": "display_data"
    },
    {
     "data": {
      "text/html": [
       "<pre>recommendations finished on 98000/178122 queries. users per second: 17656.6</pre>"
      ],
      "text/plain": [
       "recommendations finished on 98000/178122 queries. users per second: 17656.6"
      ]
     },
     "metadata": {},
     "output_type": "display_data"
    },
    {
     "data": {
      "text/html": [
       "<pre>recommendations finished on 99000/178122 queries. users per second: 17660.7</pre>"
      ],
      "text/plain": [
       "recommendations finished on 99000/178122 queries. users per second: 17660.7"
      ]
     },
     "metadata": {},
     "output_type": "display_data"
    },
    {
     "data": {
      "text/html": [
       "<pre>recommendations finished on 100000/178122 queries. users per second: 17625.6</pre>"
      ],
      "text/plain": [
       "recommendations finished on 100000/178122 queries. users per second: 17625.6"
      ]
     },
     "metadata": {},
     "output_type": "display_data"
    },
    {
     "data": {
      "text/html": [
       "<pre>recommendations finished on 101000/178122 queries. users per second: 17576.9</pre>"
      ],
      "text/plain": [
       "recommendations finished on 101000/178122 queries. users per second: 17576.9"
      ]
     },
     "metadata": {},
     "output_type": "display_data"
    },
    {
     "data": {
      "text/html": [
       "<pre>recommendations finished on 102000/178122 queries. users per second: 17585.4</pre>"
      ],
      "text/plain": [
       "recommendations finished on 102000/178122 queries. users per second: 17585.4"
      ]
     },
     "metadata": {},
     "output_type": "display_data"
    },
    {
     "data": {
      "text/html": [
       "<pre>recommendations finished on 103000/178122 queries. users per second: 17606.5</pre>"
      ],
      "text/plain": [
       "recommendations finished on 103000/178122 queries. users per second: 17606.5"
      ]
     },
     "metadata": {},
     "output_type": "display_data"
    },
    {
     "data": {
      "text/html": [
       "<pre>recommendations finished on 104000/178122 queries. users per second: 17603.2</pre>"
      ],
      "text/plain": [
       "recommendations finished on 104000/178122 queries. users per second: 17603.2"
      ]
     },
     "metadata": {},
     "output_type": "display_data"
    },
    {
     "data": {
      "text/html": [
       "<pre>recommendations finished on 105000/178122 queries. users per second: 17640.7</pre>"
      ],
      "text/plain": [
       "recommendations finished on 105000/178122 queries. users per second: 17640.7"
      ]
     },
     "metadata": {},
     "output_type": "display_data"
    },
    {
     "data": {
      "text/html": [
       "<pre>recommendations finished on 106000/178122 queries. users per second: 17652.4</pre>"
      ],
      "text/plain": [
       "recommendations finished on 106000/178122 queries. users per second: 17652.4"
      ]
     },
     "metadata": {},
     "output_type": "display_data"
    },
    {
     "data": {
      "text/html": [
       "<pre>recommendations finished on 107000/178122 queries. users per second: 17588.8</pre>"
      ],
      "text/plain": [
       "recommendations finished on 107000/178122 queries. users per second: 17588.8"
      ]
     },
     "metadata": {},
     "output_type": "display_data"
    },
    {
     "data": {
      "text/html": [
       "<pre>recommendations finished on 108000/178122 queries. users per second: 17526.9</pre>"
      ],
      "text/plain": [
       "recommendations finished on 108000/178122 queries. users per second: 17526.9"
      ]
     },
     "metadata": {},
     "output_type": "display_data"
    },
    {
     "data": {
      "text/html": [
       "<pre>recommendations finished on 109000/178122 queries. users per second: 17522.8</pre>"
      ],
      "text/plain": [
       "recommendations finished on 109000/178122 queries. users per second: 17522.8"
      ]
     },
     "metadata": {},
     "output_type": "display_data"
    },
    {
     "data": {
      "text/html": [
       "<pre>recommendations finished on 110000/178122 queries. users per second: 17549.5</pre>"
      ],
      "text/plain": [
       "recommendations finished on 110000/178122 queries. users per second: 17549.5"
      ]
     },
     "metadata": {},
     "output_type": "display_data"
    },
    {
     "data": {
      "text/html": [
       "<pre>recommendations finished on 111000/178122 queries. users per second: 17524.5</pre>"
      ],
      "text/plain": [
       "recommendations finished on 111000/178122 queries. users per second: 17524.5"
      ]
     },
     "metadata": {},
     "output_type": "display_data"
    },
    {
     "data": {
      "text/html": [
       "<pre>recommendations finished on 112000/178122 queries. users per second: 17476.8</pre>"
      ],
      "text/plain": [
       "recommendations finished on 112000/178122 queries. users per second: 17476.8"
      ]
     },
     "metadata": {},
     "output_type": "display_data"
    },
    {
     "data": {
      "text/html": [
       "<pre>recommendations finished on 113000/178122 queries. users per second: 17421.5</pre>"
      ],
      "text/plain": [
       "recommendations finished on 113000/178122 queries. users per second: 17421.5"
      ]
     },
     "metadata": {},
     "output_type": "display_data"
    },
    {
     "data": {
      "text/html": [
       "<pre>recommendations finished on 114000/178122 queries. users per second: 17380.8</pre>"
      ],
      "text/plain": [
       "recommendations finished on 114000/178122 queries. users per second: 17380.8"
      ]
     },
     "metadata": {},
     "output_type": "display_data"
    },
    {
     "data": {
      "text/html": [
       "<pre>recommendations finished on 115000/178122 queries. users per second: 17346.8</pre>"
      ],
      "text/plain": [
       "recommendations finished on 115000/178122 queries. users per second: 17346.8"
      ]
     },
     "metadata": {},
     "output_type": "display_data"
    },
    {
     "data": {
      "text/html": [
       "<pre>recommendations finished on 116000/178122 queries. users per second: 17302.1</pre>"
      ],
      "text/plain": [
       "recommendations finished on 116000/178122 queries. users per second: 17302.1"
      ]
     },
     "metadata": {},
     "output_type": "display_data"
    },
    {
     "data": {
      "text/html": [
       "<pre>recommendations finished on 117000/178122 queries. users per second: 17246.8</pre>"
      ],
      "text/plain": [
       "recommendations finished on 117000/178122 queries. users per second: 17246.8"
      ]
     },
     "metadata": {},
     "output_type": "display_data"
    },
    {
     "data": {
      "text/html": [
       "<pre>recommendations finished on 118000/178122 queries. users per second: 17208.9</pre>"
      ],
      "text/plain": [
       "recommendations finished on 118000/178122 queries. users per second: 17208.9"
      ]
     },
     "metadata": {},
     "output_type": "display_data"
    },
    {
     "data": {
      "text/html": [
       "<pre>recommendations finished on 119000/178122 queries. users per second: 17128.2</pre>"
      ],
      "text/plain": [
       "recommendations finished on 119000/178122 queries. users per second: 17128.2"
      ]
     },
     "metadata": {},
     "output_type": "display_data"
    },
    {
     "data": {
      "text/html": [
       "<pre>recommendations finished on 120000/178122 queries. users per second: 17087.7</pre>"
      ],
      "text/plain": [
       "recommendations finished on 120000/178122 queries. users per second: 17087.7"
      ]
     },
     "metadata": {},
     "output_type": "display_data"
    },
    {
     "data": {
      "text/html": [
       "<pre>recommendations finished on 121000/178122 queries. users per second: 17036.4</pre>"
      ],
      "text/plain": [
       "recommendations finished on 121000/178122 queries. users per second: 17036.4"
      ]
     },
     "metadata": {},
     "output_type": "display_data"
    },
    {
     "data": {
      "text/html": [
       "<pre>recommendations finished on 122000/178122 queries. users per second: 16988.8</pre>"
      ],
      "text/plain": [
       "recommendations finished on 122000/178122 queries. users per second: 16988.8"
      ]
     },
     "metadata": {},
     "output_type": "display_data"
    },
    {
     "data": {
      "text/html": [
       "<pre>recommendations finished on 123000/178122 queries. users per second: 17002.6</pre>"
      ],
      "text/plain": [
       "recommendations finished on 123000/178122 queries. users per second: 17002.6"
      ]
     },
     "metadata": {},
     "output_type": "display_data"
    },
    {
     "data": {
      "text/html": [
       "<pre>recommendations finished on 124000/178122 queries. users per second: 16970.7</pre>"
      ],
      "text/plain": [
       "recommendations finished on 124000/178122 queries. users per second: 16970.7"
      ]
     },
     "metadata": {},
     "output_type": "display_data"
    },
    {
     "data": {
      "text/html": [
       "<pre>recommendations finished on 125000/178122 queries. users per second: 16941.4</pre>"
      ],
      "text/plain": [
       "recommendations finished on 125000/178122 queries. users per second: 16941.4"
      ]
     },
     "metadata": {},
     "output_type": "display_data"
    },
    {
     "data": {
      "text/html": [
       "<pre>recommendations finished on 126000/178122 queries. users per second: 16951.7</pre>"
      ],
      "text/plain": [
       "recommendations finished on 126000/178122 queries. users per second: 16951.7"
      ]
     },
     "metadata": {},
     "output_type": "display_data"
    },
    {
     "data": {
      "text/html": [
       "<pre>recommendations finished on 127000/178122 queries. users per second: 16911.2</pre>"
      ],
      "text/plain": [
       "recommendations finished on 127000/178122 queries. users per second: 16911.2"
      ]
     },
     "metadata": {},
     "output_type": "display_data"
    },
    {
     "data": {
      "text/html": [
       "<pre>recommendations finished on 128000/178122 queries. users per second: 16907.7</pre>"
      ],
      "text/plain": [
       "recommendations finished on 128000/178122 queries. users per second: 16907.7"
      ]
     },
     "metadata": {},
     "output_type": "display_data"
    },
    {
     "data": {
      "text/html": [
       "<pre>recommendations finished on 129000/178122 queries. users per second: 16918.5</pre>"
      ],
      "text/plain": [
       "recommendations finished on 129000/178122 queries. users per second: 16918.5"
      ]
     },
     "metadata": {},
     "output_type": "display_data"
    },
    {
     "data": {
      "text/html": [
       "<pre>recommendations finished on 130000/178122 queries. users per second: 16884.9</pre>"
      ],
      "text/plain": [
       "recommendations finished on 130000/178122 queries. users per second: 16884.9"
      ]
     },
     "metadata": {},
     "output_type": "display_data"
    },
    {
     "data": {
      "text/html": [
       "<pre>recommendations finished on 131000/178122 queries. users per second: 16824.4</pre>"
      ],
      "text/plain": [
       "recommendations finished on 131000/178122 queries. users per second: 16824.4"
      ]
     },
     "metadata": {},
     "output_type": "display_data"
    },
    {
     "data": {
      "text/html": [
       "<pre>recommendations finished on 132000/178122 queries. users per second: 16803.7</pre>"
      ],
      "text/plain": [
       "recommendations finished on 132000/178122 queries. users per second: 16803.7"
      ]
     },
     "metadata": {},
     "output_type": "display_data"
    },
    {
     "data": {
      "text/html": [
       "<pre>recommendations finished on 133000/178122 queries. users per second: 16820.4</pre>"
      ],
      "text/plain": [
       "recommendations finished on 133000/178122 queries. users per second: 16820.4"
      ]
     },
     "metadata": {},
     "output_type": "display_data"
    },
    {
     "data": {
      "text/html": [
       "<pre>recommendations finished on 134000/178122 queries. users per second: 16838.1</pre>"
      ],
      "text/plain": [
       "recommendations finished on 134000/178122 queries. users per second: 16838.1"
      ]
     },
     "metadata": {},
     "output_type": "display_data"
    },
    {
     "data": {
      "text/html": [
       "<pre>recommendations finished on 135000/178122 queries. users per second: 16845.4</pre>"
      ],
      "text/plain": [
       "recommendations finished on 135000/178122 queries. users per second: 16845.4"
      ]
     },
     "metadata": {},
     "output_type": "display_data"
    },
    {
     "data": {
      "text/html": [
       "<pre>recommendations finished on 136000/178122 queries. users per second: 16871.9</pre>"
      ],
      "text/plain": [
       "recommendations finished on 136000/178122 queries. users per second: 16871.9"
      ]
     },
     "metadata": {},
     "output_type": "display_data"
    },
    {
     "data": {
      "text/html": [
       "<pre>recommendations finished on 137000/178122 queries. users per second: 16870.2</pre>"
      ],
      "text/plain": [
       "recommendations finished on 137000/178122 queries. users per second: 16870.2"
      ]
     },
     "metadata": {},
     "output_type": "display_data"
    },
    {
     "data": {
      "text/html": [
       "<pre>recommendations finished on 138000/178122 queries. users per second: 16864.4</pre>"
      ],
      "text/plain": [
       "recommendations finished on 138000/178122 queries. users per second: 16864.4"
      ]
     },
     "metadata": {},
     "output_type": "display_data"
    },
    {
     "data": {
      "text/html": [
       "<pre>recommendations finished on 139000/178122 queries. users per second: 16869.4</pre>"
      ],
      "text/plain": [
       "recommendations finished on 139000/178122 queries. users per second: 16869.4"
      ]
     },
     "metadata": {},
     "output_type": "display_data"
    },
    {
     "data": {
      "text/html": [
       "<pre>recommendations finished on 140000/178122 queries. users per second: 16862</pre>"
      ],
      "text/plain": [
       "recommendations finished on 140000/178122 queries. users per second: 16862"
      ]
     },
     "metadata": {},
     "output_type": "display_data"
    },
    {
     "data": {
      "text/html": [
       "<pre>recommendations finished on 141000/178122 queries. users per second: 16865</pre>"
      ],
      "text/plain": [
       "recommendations finished on 141000/178122 queries. users per second: 16865"
      ]
     },
     "metadata": {},
     "output_type": "display_data"
    },
    {
     "data": {
      "text/html": [
       "<pre>recommendations finished on 142000/178122 queries. users per second: 16865.7</pre>"
      ],
      "text/plain": [
       "recommendations finished on 142000/178122 queries. users per second: 16865.7"
      ]
     },
     "metadata": {},
     "output_type": "display_data"
    },
    {
     "data": {
      "text/html": [
       "<pre>recommendations finished on 143000/178122 queries. users per second: 16867.3</pre>"
      ],
      "text/plain": [
       "recommendations finished on 143000/178122 queries. users per second: 16867.3"
      ]
     },
     "metadata": {},
     "output_type": "display_data"
    },
    {
     "data": {
      "text/html": [
       "<pre>recommendations finished on 144000/178122 queries. users per second: 16897.4</pre>"
      ],
      "text/plain": [
       "recommendations finished on 144000/178122 queries. users per second: 16897.4"
      ]
     },
     "metadata": {},
     "output_type": "display_data"
    },
    {
     "data": {
      "text/html": [
       "<pre>recommendations finished on 145000/178122 queries. users per second: 16905.7</pre>"
      ],
      "text/plain": [
       "recommendations finished on 145000/178122 queries. users per second: 16905.7"
      ]
     },
     "metadata": {},
     "output_type": "display_data"
    },
    {
     "data": {
      "text/html": [
       "<pre>recommendations finished on 146000/178122 queries. users per second: 16917.6</pre>"
      ],
      "text/plain": [
       "recommendations finished on 146000/178122 queries. users per second: 16917.6"
      ]
     },
     "metadata": {},
     "output_type": "display_data"
    },
    {
     "data": {
      "text/html": [
       "<pre>recommendations finished on 147000/178122 queries. users per second: 16898.5</pre>"
      ],
      "text/plain": [
       "recommendations finished on 147000/178122 queries. users per second: 16898.5"
      ]
     },
     "metadata": {},
     "output_type": "display_data"
    },
    {
     "data": {
      "text/html": [
       "<pre>recommendations finished on 148000/178122 queries. users per second: 16904.3</pre>"
      ],
      "text/plain": [
       "recommendations finished on 148000/178122 queries. users per second: 16904.3"
      ]
     },
     "metadata": {},
     "output_type": "display_data"
    },
    {
     "data": {
      "text/html": [
       "<pre>recommendations finished on 149000/178122 queries. users per second: 16919.7</pre>"
      ],
      "text/plain": [
       "recommendations finished on 149000/178122 queries. users per second: 16919.7"
      ]
     },
     "metadata": {},
     "output_type": "display_data"
    },
    {
     "data": {
      "text/html": [
       "<pre>recommendations finished on 150000/178122 queries. users per second: 16927</pre>"
      ],
      "text/plain": [
       "recommendations finished on 150000/178122 queries. users per second: 16927"
      ]
     },
     "metadata": {},
     "output_type": "display_data"
    },
    {
     "data": {
      "text/html": [
       "<pre>recommendations finished on 151000/178122 queries. users per second: 16941.5</pre>"
      ],
      "text/plain": [
       "recommendations finished on 151000/178122 queries. users per second: 16941.5"
      ]
     },
     "metadata": {},
     "output_type": "display_data"
    },
    {
     "data": {
      "text/html": [
       "<pre>recommendations finished on 152000/178122 queries. users per second: 16947</pre>"
      ],
      "text/plain": [
       "recommendations finished on 152000/178122 queries. users per second: 16947"
      ]
     },
     "metadata": {},
     "output_type": "display_data"
    },
    {
     "data": {
      "text/html": [
       "<pre>recommendations finished on 153000/178122 queries. users per second: 16934.8</pre>"
      ],
      "text/plain": [
       "recommendations finished on 153000/178122 queries. users per second: 16934.8"
      ]
     },
     "metadata": {},
     "output_type": "display_data"
    },
    {
     "data": {
      "text/html": [
       "<pre>recommendations finished on 154000/178122 queries. users per second: 16943.6</pre>"
      ],
      "text/plain": [
       "recommendations finished on 154000/178122 queries. users per second: 16943.6"
      ]
     },
     "metadata": {},
     "output_type": "display_data"
    },
    {
     "data": {
      "text/html": [
       "<pre>recommendations finished on 155000/178122 queries. users per second: 16912.8</pre>"
      ],
      "text/plain": [
       "recommendations finished on 155000/178122 queries. users per second: 16912.8"
      ]
     },
     "metadata": {},
     "output_type": "display_data"
    },
    {
     "data": {
      "text/html": [
       "<pre>recommendations finished on 156000/178122 queries. users per second: 16919.7</pre>"
      ],
      "text/plain": [
       "recommendations finished on 156000/178122 queries. users per second: 16919.7"
      ]
     },
     "metadata": {},
     "output_type": "display_data"
    },
    {
     "data": {
      "text/html": [
       "<pre>recommendations finished on 157000/178122 queries. users per second: 16918.8</pre>"
      ],
      "text/plain": [
       "recommendations finished on 157000/178122 queries. users per second: 16918.8"
      ]
     },
     "metadata": {},
     "output_type": "display_data"
    },
    {
     "data": {
      "text/html": [
       "<pre>recommendations finished on 158000/178122 queries. users per second: 16841.3</pre>"
      ],
      "text/plain": [
       "recommendations finished on 158000/178122 queries. users per second: 16841.3"
      ]
     },
     "metadata": {},
     "output_type": "display_data"
    },
    {
     "data": {
      "text/html": [
       "<pre>recommendations finished on 159000/178122 queries. users per second: 16786.1</pre>"
      ],
      "text/plain": [
       "recommendations finished on 159000/178122 queries. users per second: 16786.1"
      ]
     },
     "metadata": {},
     "output_type": "display_data"
    },
    {
     "data": {
      "text/html": [
       "<pre>recommendations finished on 160000/178122 queries. users per second: 16732.8</pre>"
      ],
      "text/plain": [
       "recommendations finished on 160000/178122 queries. users per second: 16732.8"
      ]
     },
     "metadata": {},
     "output_type": "display_data"
    },
    {
     "data": {
      "text/html": [
       "<pre>recommendations finished on 161000/178122 queries. users per second: 16656.4</pre>"
      ],
      "text/plain": [
       "recommendations finished on 161000/178122 queries. users per second: 16656.4"
      ]
     },
     "metadata": {},
     "output_type": "display_data"
    },
    {
     "data": {
      "text/html": [
       "<pre>recommendations finished on 162000/178122 queries. users per second: 16581.3</pre>"
      ],
      "text/plain": [
       "recommendations finished on 162000/178122 queries. users per second: 16581.3"
      ]
     },
     "metadata": {},
     "output_type": "display_data"
    },
    {
     "data": {
      "text/html": [
       "<pre>recommendations finished on 163000/178122 queries. users per second: 16516.8</pre>"
      ],
      "text/plain": [
       "recommendations finished on 163000/178122 queries. users per second: 16516.8"
      ]
     },
     "metadata": {},
     "output_type": "display_data"
    },
    {
     "data": {
      "text/html": [
       "<pre>recommendations finished on 164000/178122 queries. users per second: 16438.8</pre>"
      ],
      "text/plain": [
       "recommendations finished on 164000/178122 queries. users per second: 16438.8"
      ]
     },
     "metadata": {},
     "output_type": "display_data"
    },
    {
     "data": {
      "text/html": [
       "<pre>recommendations finished on 165000/178122 queries. users per second: 16389.1</pre>"
      ],
      "text/plain": [
       "recommendations finished on 165000/178122 queries. users per second: 16389.1"
      ]
     },
     "metadata": {},
     "output_type": "display_data"
    },
    {
     "data": {
      "text/html": [
       "<pre>recommendations finished on 166000/178122 queries. users per second: 16343.8</pre>"
      ],
      "text/plain": [
       "recommendations finished on 166000/178122 queries. users per second: 16343.8"
      ]
     },
     "metadata": {},
     "output_type": "display_data"
    },
    {
     "data": {
      "text/html": [
       "<pre>recommendations finished on 167000/178122 queries. users per second: 16289.8</pre>"
      ],
      "text/plain": [
       "recommendations finished on 167000/178122 queries. users per second: 16289.8"
      ]
     },
     "metadata": {},
     "output_type": "display_data"
    },
    {
     "data": {
      "text/html": [
       "<pre>recommendations finished on 168000/178122 queries. users per second: 16241.3</pre>"
      ],
      "text/plain": [
       "recommendations finished on 168000/178122 queries. users per second: 16241.3"
      ]
     },
     "metadata": {},
     "output_type": "display_data"
    },
    {
     "data": {
      "text/html": [
       "<pre>recommendations finished on 169000/178122 queries. users per second: 16206.5</pre>"
      ],
      "text/plain": [
       "recommendations finished on 169000/178122 queries. users per second: 16206.5"
      ]
     },
     "metadata": {},
     "output_type": "display_data"
    },
    {
     "data": {
      "text/html": [
       "<pre>recommendations finished on 170000/178122 queries. users per second: 16170</pre>"
      ],
      "text/plain": [
       "recommendations finished on 170000/178122 queries. users per second: 16170"
      ]
     },
     "metadata": {},
     "output_type": "display_data"
    },
    {
     "data": {
      "text/html": [
       "<pre>recommendations finished on 171000/178122 queries. users per second: 16121.1</pre>"
      ],
      "text/plain": [
       "recommendations finished on 171000/178122 queries. users per second: 16121.1"
      ]
     },
     "metadata": {},
     "output_type": "display_data"
    },
    {
     "data": {
      "text/html": [
       "<pre>recommendations finished on 172000/178122 queries. users per second: 16064.2</pre>"
      ],
      "text/plain": [
       "recommendations finished on 172000/178122 queries. users per second: 16064.2"
      ]
     },
     "metadata": {},
     "output_type": "display_data"
    },
    {
     "data": {
      "text/html": [
       "<pre>recommendations finished on 173000/178122 queries. users per second: 16008.3</pre>"
      ],
      "text/plain": [
       "recommendations finished on 173000/178122 queries. users per second: 16008.3"
      ]
     },
     "metadata": {},
     "output_type": "display_data"
    },
    {
     "data": {
      "text/html": [
       "<pre>recommendations finished on 174000/178122 queries. users per second: 15963.4</pre>"
      ],
      "text/plain": [
       "recommendations finished on 174000/178122 queries. users per second: 15963.4"
      ]
     },
     "metadata": {},
     "output_type": "display_data"
    },
    {
     "data": {
      "text/html": [
       "<pre>recommendations finished on 175000/178122 queries. users per second: 15927.5</pre>"
      ],
      "text/plain": [
       "recommendations finished on 175000/178122 queries. users per second: 15927.5"
      ]
     },
     "metadata": {},
     "output_type": "display_data"
    },
    {
     "data": {
      "text/html": [
       "<pre>recommendations finished on 176000/178122 queries. users per second: 15887.1</pre>"
      ],
      "text/plain": [
       "recommendations finished on 176000/178122 queries. users per second: 15887.1"
      ]
     },
     "metadata": {},
     "output_type": "display_data"
    },
    {
     "data": {
      "text/html": [
       "<pre>recommendations finished on 177000/178122 queries. users per second: 15864.2</pre>"
      ],
      "text/plain": [
       "recommendations finished on 177000/178122 queries. users per second: 15864.2"
      ]
     },
     "metadata": {},
     "output_type": "display_data"
    },
    {
     "data": {
      "text/html": [
       "<pre>recommendations finished on 178000/178122 queries. users per second: 15793</pre>"
      ],
      "text/plain": [
       "recommendations finished on 178000/178122 queries. users per second: 15793"
      ]
     },
     "metadata": {},
     "output_type": "display_data"
    },
    {
     "name": "stdout",
     "output_type": "stream",
     "text": [
      "An output file was created with the name 'recommendation_list.csv'\n",
      "(1436, 1)\n"
     ]
    },
    {
     "data": {
      "text/html": [
       "<div>\n",
       "<style scoped>\n",
       "    .dataframe tbody tr th:only-of-type {\n",
       "        vertical-align: middle;\n",
       "    }\n",
       "\n",
       "    .dataframe tbody tr th {\n",
       "        vertical-align: top;\n",
       "    }\n",
       "\n",
       "    .dataframe thead th {\n",
       "        text-align: right;\n",
       "    }\n",
       "</style>\n",
       "<table border=\"1\" class=\"dataframe\">\n",
       "  <thead>\n",
       "    <tr style=\"text-align: right;\">\n",
       "      <th></th>\n",
       "      <th>recommendedProducts</th>\n",
       "    </tr>\n",
       "    <tr>\n",
       "      <th>Customer</th>\n",
       "      <th></th>\n",
       "    </tr>\n",
       "  </thead>\n",
       "  <tbody>\n",
       "    <tr>\n",
       "      <th>CC20190310</th>\n",
       "      <td>6_27|1_27|4_0|0_28|2_27|6_8|5_27|1_26|7_20|3_4</td>\n",
       "    </tr>\n",
       "    <tr>\n",
       "      <th>CC201903100</th>\n",
       "      <td>4_0|6_8|1_27|4_17|5_5|3_5|0_28|1_11|1_0|7_11</td>\n",
       "    </tr>\n",
       "    <tr>\n",
       "      <th>CC201903101</th>\n",
       "      <td>1_27|2_17|0_28|2_27|2_26|5_27|4_14|1_26|5_22|5_7</td>\n",
       "    </tr>\n",
       "    <tr>\n",
       "      <th>CC201903102</th>\n",
       "      <td>1_27|2_20|5_9|0_28|3_5|4_14|2_26|3_15|5_27|1_26</td>\n",
       "    </tr>\n",
       "    <tr>\n",
       "      <th>CC201903103</th>\n",
       "      <td>4_0|3_5|5_11|7_11|1_27|5_5|5_8|7_18|0_12|3_14</td>\n",
       "    </tr>\n",
       "  </tbody>\n",
       "</table>\n",
       "</div>"
      ],
      "text/plain": [
       "                                          recommendedProducts\n",
       "Customer                                                     \n",
       "CC20190310     6_27|1_27|4_0|0_28|2_27|6_8|5_27|1_26|7_20|3_4\n",
       "CC201903100      4_0|6_8|1_27|4_17|5_5|3_5|0_28|1_11|1_0|7_11\n",
       "CC201903101  1_27|2_17|0_28|2_27|2_26|5_27|4_14|1_26|5_22|5_7\n",
       "CC201903102   1_27|2_20|5_9|0_28|3_5|4_14|2_26|3_15|5_27|1_26\n",
       "CC201903103     4_0|3_5|5_11|7_11|1_27|5_5|5_8|7_18|0_12|3_14"
      ]
     },
     "execution_count": 34,
     "metadata": {},
     "output_type": "execute_result"
    }
   ],
   "source": [
    "# setprint_csv to true to print out the output in a csv file\n",
    "\n",
    "df_output = create_output(pear_norm, users_to_recommend, n_rec , print_csv=True)\n",
    "print(df_output.shape)\n",
    "df_output.head()"
   ]
  },
  {
   "cell_type": "markdown",
   "metadata": {
    "deletable": true,
    "editable": true
   },
   "source": [
    "#### 9.2. Customer recommendation function"
   ]
  },
  {
   "cell_type": "code",
   "execution_count": 35,
   "metadata": {
    "collapsed": true,
    "deletable": true,
    "editable": true
   },
   "outputs": [],
   "source": [
    "# return a recommendation list of ten products for a given customer ID\n",
    "\n",
    "def customer_recomendation(customer_id):\n",
    "    if customer_id not in df_output.index:\n",
    "        print('Customer not found.')\n",
    "        return customer_id\n",
    "    return df_output.loc[customer_id]"
   ]
  },
  {
   "cell_type": "code",
   "execution_count": 36,
   "metadata": {
    "collapsed": false,
    "deletable": true,
    "editable": true
   },
   "outputs": [
    {
     "data": {
      "text/plain": [
       "recommendedProducts    6_27|1_27|4_0|0_28|2_27|6_8|5_27|1_26|7_20|3_4\n",
       "Name: CC20190310, dtype: object"
      ]
     },
     "execution_count": 36,
     "metadata": {},
     "output_type": "execute_result"
    }
   ],
   "source": [
    "# test example\n",
    "customer_recomendation('CC20190310')"
   ]
  },
  {
   "cell_type": "markdown",
   "metadata": {
    "deletable": true,
    "editable": true
   },
   "source": [
    "## 10. Given a category Id, get a list of customers that are probably interested"
   ]
  },
  {
   "cell_type": "code",
   "execution_count": 12,
   "metadata": {
    "collapsed": true,
    "deletable": true,
    "editable": true
   },
   "outputs": [],
   "source": [
    "# returns a list of target Customers that are probably interested in items of category \"catId\"\n",
    "\n",
    "def findTargetCustomers(catId):\n",
    "    \n",
    "    # load the list of recommendations to customers\n",
    "    customers = pd.read_csv('../recommendation_list.csv') \n",
    "    \n",
    "    # Create a separate row for each one of the multiple values in column \"recommendedProducts\"\n",
    "    def splitDataFrameList(df,target_column,separator):\n",
    "        def splitListToRows(row,row_accumulator,target_column,separator):\n",
    "            split_row = row[target_column].split(separator)\n",
    "            for s in split_row:\n",
    "                new_row = row.to_dict()\n",
    "                new_row[target_column] = s\n",
    "                row_accumulator.append(new_row)\n",
    "        new_rows = []\n",
    "        df.apply(splitListToRows,axis=1,args = (new_rows,target_column,separator))\n",
    "        new_df = pd.DataFrame(new_rows)\n",
    "        return new_df\n",
    "\n",
    "    df = splitDataFrameList(customers,'recommendedProducts','|')\n",
    "    \n",
    "    # split the information from the recommendedProducts column in two new columns: Category and Item\n",
    "    df[['Category', 'Item']] = df['recommendedProducts'].str.split('_',expand=True)\n",
    "    df = df.drop('recommendedProducts',axis=1)\n",
    "    \n",
    "    # keep only the rows that refer to the given Category and to regular customers (begining with CC)\n",
    "    df = df[(df['Category'] == catId) & (df['Customer'].str.startswith('CC'))]\n",
    "    \n",
    "    # Keep only the customer ids\n",
    "    df = df['Customer']\n",
    "\n",
    "    tarCustLst = df.drop_duplicates()\n",
    "    tarCustLst.to_csv('../tarCustLst.csv',index = None, header=False)\n",
    "    \n",
    "    return tarCustLst"
   ]
  },
  {
   "cell_type": "code",
   "execution_count": 13,
   "metadata": {
    "collapsed": true,
    "deletable": true,
    "editable": true
   },
   "outputs": [],
   "source": [
    "# test example\n",
    "tarCustLst = findTargetCustomers('1')"
   ]
  }
 ],
 "metadata": {
  "kernelspec": {
   "display_name": "Python 3",
   "language": "python",
   "name": "python3"
  },
  "language_info": {
   "codemirror_mode": {
    "name": "ipython",
    "version": 3
   },
   "file_extension": ".py",
   "mimetype": "text/x-python",
   "name": "python",
   "nbconvert_exporter": "python",
   "pygments_lexer": "ipython3",
   "version": "3.5.2"
  }
 },
 "nbformat": 4,
 "nbformat_minor": 2
}
